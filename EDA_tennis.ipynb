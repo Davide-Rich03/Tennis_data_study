{
 "cells": [
  {
   "cell_type": "code",
   "execution_count": 4,
   "metadata": {},
   "outputs": [],
   "source": [
    "import pandas as pd\n",
    "import numpy as np\n",
    "import os\n",
    "import polars as pl\n",
    "from utils.utils import *\n",
    "import matplotlib.pyplot as plt\n",
    "import seaborn as sns\n",
    "import warnings\n",
    "warnings.filterwarnings('ignore')\n",
    "\n",
    "#tutti i database aggregati li potete richiamare con le varie funzioni di import che trovate in utils.py, gli esempi sono comunque sotto.\n",
    "#per scegliere se ATP o WTA potete cambiare il valore all'interno della funzione gender in \"atp\" o \"wta\" (di default è atp)\n",
    "#es: import_players(gender=\"atp\"), import_players(gender=\"wta\")\n",
    "\n",
    "#le varie funzioni sono import_tennis_matches(), import_players(), import_matches_amateurs_atp(), import_rankings().\n",
    "\n",
    "#per quanto riguarda i match di singolo, doppio,futures, qual_chall e qual_itf dovete usare la funzione import_tennis_matches con una\n",
    "#specifica keyword che indica il tipo di match es: import_tennis_matches(data_type=\"singles\".gender=\"wta\") \n",
    "\n",
    "#le varie keyword tra cui potete scegliere sono [\"singles\",\"doubles\",\"qualifiers_challengers\",\"futures\",\"qualifiers_itf\"]\n",
    "\n",
    "#ATTENZIONE! i futures, qualifiers_challengers e doppi sono esclusivamente maschili mentre i qualifiers_itf sono esclusivamente femminili!\n",
    "#tutte queste le cose le potete verificare guardando il file utils.py\n",
    "\n",
    "#fate una bella EDA and have fun!\n",
    "\n"
   ]
  },
  {
   "cell_type": "code",
   "execution_count": 5,
   "metadata": {},
   "outputs": [],
   "source": [
    "def sorted_value_counts(df, column_name):\n",
    "    \"\"\"\n",
    "    Restituisce il value counts di una colonna di un DataFrame in ordine decrescente.\n",
    "\n",
    "    Parametri:\n",
    "        df (pd.DataFrame): Il DataFrame di input.\n",
    "        column_name (str): Il nome della colonna di cui calcolare il value counts.\n",
    "\n",
    "    Ritorna:\n",
    "        pd.Series: Una Serie con i conteggi ordinati in ordine decrescente.\n",
    "    \"\"\"\n",
    "    if column_name not in df.columns:\n",
    "        raise ValueError(f\"La colonna '{column_name}' non esiste nel DataFrame.\")\n",
    "    \n",
    "    # Calcolare i value counts\n",
    "    value_counts = df[column_name].value_counts()\n",
    "    \n",
    "    # Ordinare i valori manualmente\n",
    "    sorted_counts = value_counts.iloc[value_counts.values.argsort()[::-1]]\n",
    "    \n",
    "    return sorted_counts\n",
    "\n"
   ]
  },
  {
   "cell_type": "code",
   "execution_count": 6,
   "metadata": {},
   "outputs": [
    {
     "data": {
      "text/html": [
       "<div><style>\n",
       ".dataframe > thead > tr,\n",
       ".dataframe > tbody > tr {\n",
       "  text-align: right;\n",
       "  white-space: pre-wrap;\n",
       "}\n",
       "</style>\n",
       "<small>shape: (65_019, 9)</small><table border=\"1\" class=\"dataframe\"><thead><tr><th>player_id</th><th>name_first</th><th>name_last</th><th>hand</th><th>dob</th><th>ioc</th><th>height</th><th>wikidata_id</th><th>name_full</th></tr><tr><td>i64</td><td>str</td><td>str</td><td>str</td><td>date</td><td>str</td><td>i64</td><td>str</td><td>str</td></tr></thead><tbody><tr><td>100001</td><td>&quot;Gardnar&quot;</td><td>&quot;Mulloy&quot;</td><td>&quot;R&quot;</td><td>1913-11-22</td><td>&quot;USA&quot;</td><td>185</td><td>&quot;Q54544&quot;</td><td>&quot;Gardnar Mulloy&quot;</td></tr><tr><td>100002</td><td>&quot;Pancho&quot;</td><td>&quot;Segura&quot;</td><td>&quot;R&quot;</td><td>1921-06-20</td><td>&quot;ECU&quot;</td><td>168</td><td>&quot;Q54581&quot;</td><td>&quot;Pancho Segura&quot;</td></tr><tr><td>100003</td><td>&quot;Frank&quot;</td><td>&quot;Sedgman&quot;</td><td>&quot;R&quot;</td><td>1927-10-02</td><td>&quot;AUS&quot;</td><td>180</td><td>&quot;Q962049&quot;</td><td>&quot;Frank Sedgman&quot;</td></tr><tr><td>100004</td><td>&quot;Giuseppe&quot;</td><td>&quot;Merlo&quot;</td><td>&quot;R&quot;</td><td>1927-10-11</td><td>&quot;ITA&quot;</td><td>null</td><td>&quot;Q1258752&quot;</td><td>&quot;Giuseppe Merlo&quot;</td></tr><tr><td>100005</td><td>&quot;Richard&quot;</td><td>&quot;Gonzalez&quot;</td><td>&quot;R&quot;</td><td>1928-05-09</td><td>&quot;USA&quot;</td><td>188</td><td>&quot;Q53554&quot;</td><td>&quot;Richard Gonzalez&quot;</td></tr><tr><td>&hellip;</td><td>&hellip;</td><td>&hellip;</td><td>&hellip;</td><td>&hellip;</td><td>&hellip;</td><td>&hellip;</td><td>&hellip;</td><td>&hellip;</td></tr><tr><td>212913</td><td>&quot;Pietro&quot;</td><td>&quot;Ricci&quot;</td><td>&quot;U&quot;</td><td>null</td><td>&quot;ITA&quot;</td><td>null</td><td>null</td><td>&quot;Pietro Ricci&quot;</td></tr><tr><td>212914</td><td>&quot;Corey&quot;</td><td>&quot;Craig&quot;</td><td>&quot;U&quot;</td><td>null</td><td>&quot;USA&quot;</td><td>null</td><td>null</td><td>&quot;Corey Craig&quot;</td></tr><tr><td>212915</td><td>&quot;Aleksandar&quot;</td><td>&quot;Ljubojevic&quot;</td><td>&quot;U&quot;</td><td>null</td><td>&quot;SRB&quot;</td><td>null</td><td>null</td><td>&quot;Aleksandar Ljubojevic&quot;</td></tr><tr><td>212916</td><td>&quot;Marko&quot;</td><td>&quot;Milosavljevic&quot;</td><td>&quot;U&quot;</td><td>null</td><td>&quot;SRB&quot;</td><td>null</td><td>null</td><td>&quot;Marko Milosavljevic&quot;</td></tr><tr><td>212917</td><td>&quot;Stefan&quot;</td><td>&quot;Skobelev&quot;</td><td>&quot;U&quot;</td><td>null</td><td>&quot;SRB&quot;</td><td>null</td><td>null</td><td>&quot;Stefan Skobelev&quot;</td></tr></tbody></table></div>"
      ],
      "text/plain": [
       "shape: (65_019, 9)\n",
       "┌───────────┬────────────┬───────────────┬──────┬───┬─────┬────────┬─────────────┬─────────────────┐\n",
       "│ player_id ┆ name_first ┆ name_last     ┆ hand ┆ … ┆ ioc ┆ height ┆ wikidata_id ┆ name_full       │\n",
       "│ ---       ┆ ---        ┆ ---           ┆ ---  ┆   ┆ --- ┆ ---    ┆ ---         ┆ ---             │\n",
       "│ i64       ┆ str        ┆ str           ┆ str  ┆   ┆ str ┆ i64    ┆ str         ┆ str             │\n",
       "╞═══════════╪════════════╪═══════════════╪══════╪═══╪═════╪════════╪═════════════╪═════════════════╡\n",
       "│ 100001    ┆ Gardnar    ┆ Mulloy        ┆ R    ┆ … ┆ USA ┆ 185    ┆ Q54544      ┆ Gardnar Mulloy  │\n",
       "│ 100002    ┆ Pancho     ┆ Segura        ┆ R    ┆ … ┆ ECU ┆ 168    ┆ Q54581      ┆ Pancho Segura   │\n",
       "│ 100003    ┆ Frank      ┆ Sedgman       ┆ R    ┆ … ┆ AUS ┆ 180    ┆ Q962049     ┆ Frank Sedgman   │\n",
       "│ 100004    ┆ Giuseppe   ┆ Merlo         ┆ R    ┆ … ┆ ITA ┆ null   ┆ Q1258752    ┆ Giuseppe Merlo  │\n",
       "│ 100005    ┆ Richard    ┆ Gonzalez      ┆ R    ┆ … ┆ USA ┆ 188    ┆ Q53554      ┆ Richard         │\n",
       "│           ┆            ┆               ┆      ┆   ┆     ┆        ┆             ┆ Gonzalez        │\n",
       "│ …         ┆ …          ┆ …             ┆ …    ┆ … ┆ …   ┆ …      ┆ …           ┆ …               │\n",
       "│ 212913    ┆ Pietro     ┆ Ricci         ┆ U    ┆ … ┆ ITA ┆ null   ┆ null        ┆ Pietro Ricci    │\n",
       "│ 212914    ┆ Corey      ┆ Craig         ┆ U    ┆ … ┆ USA ┆ null   ┆ null        ┆ Corey Craig     │\n",
       "│ 212915    ┆ Aleksandar ┆ Ljubojevic    ┆ U    ┆ … ┆ SRB ┆ null   ┆ null        ┆ Aleksandar      │\n",
       "│           ┆            ┆               ┆      ┆   ┆     ┆        ┆             ┆ Ljubojevic      │\n",
       "│ 212916    ┆ Marko      ┆ Milosavljevic ┆ U    ┆ … ┆ SRB ┆ null   ┆ null        ┆ Marko           │\n",
       "│           ┆            ┆               ┆      ┆   ┆     ┆        ┆             ┆ Milosavljevic   │\n",
       "│ 212917    ┆ Stefan     ┆ Skobelev      ┆ U    ┆ … ┆ SRB ┆ null   ┆ null        ┆ Stefan Skobelev │\n",
       "└───────────┴────────────┴───────────────┴──────┴───┴─────┴────────┴─────────────┴─────────────────┘"
      ]
     },
     "execution_count": 6,
     "metadata": {},
     "output_type": "execute_result"
    }
   ],
   "source": [
    "players_atp=import_players(gender=\"atp\")\n",
    "players_atp"
   ]
  },
  {
   "cell_type": "code",
   "execution_count": 7,
   "metadata": {},
   "outputs": [
    {
     "data": {
      "text/html": [
       "<div><style>\n",
       ".dataframe > thead > tr,\n",
       ".dataframe > tbody > tr {\n",
       "  text-align: right;\n",
       "  white-space: pre-wrap;\n",
       "}\n",
       "</style>\n",
       "<small>shape: (70_036, 9)</small><table border=\"1\" class=\"dataframe\"><thead><tr><th>player_id</th><th>name_first</th><th>name_last</th><th>hand</th><th>dob</th><th>ioc</th><th>height</th><th>wikidata_id</th><th>name_full</th></tr><tr><td>i64</td><td>str</td><td>str</td><td>str</td><td>date</td><td>str</td><td>i64</td><td>str</td><td>str</td></tr></thead><tbody><tr><td>113190</td><td>&quot;Bobby&quot;</td><td>&quot;Riggs&quot;</td><td>&quot;U&quot;</td><td>null</td><td>&quot;USA&quot;</td><td>null</td><td>null</td><td>&quot;Bobby Riggs&quot;</td></tr><tr><td>200000</td><td>&quot;X&quot;</td><td>&quot;X&quot;</td><td>&quot;U&quot;</td><td>null</td><td>&quot;UNK&quot;</td><td>null</td><td>null</td><td>&quot;X X&quot;</td></tr><tr><td>200001</td><td>&quot;Martina&quot;</td><td>&quot;Hingis&quot;</td><td>&quot;R&quot;</td><td>1980-09-30</td><td>&quot;SUI&quot;</td><td>170</td><td>&quot;Q134720&quot;</td><td>&quot;Martina Hingis&quot;</td></tr><tr><td>200002</td><td>&quot;Mirjana&quot;</td><td>&quot;Lucic&quot;</td><td>&quot;R&quot;</td><td>1982-03-09</td><td>&quot;CRO&quot;</td><td>181</td><td>&quot;Q239686&quot;</td><td>&quot;Mirjana Lucic&quot;</td></tr><tr><td>200003</td><td>&quot;Justine&quot;</td><td>&quot;Henin&quot;</td><td>&quot;R&quot;</td><td>1982-06-01</td><td>&quot;BEL&quot;</td><td>167</td><td>&quot;Q11682&quot;</td><td>&quot;Justine Henin&quot;</td></tr><tr><td>&hellip;</td><td>&hellip;</td><td>&hellip;</td><td>&hellip;</td><td>&hellip;</td><td>&hellip;</td><td>&hellip;</td><td>&hellip;</td><td>&hellip;</td></tr><tr><td>270041</td><td>&quot;Emily&quot;</td><td>&quot;Dunn&quot;</td><td>&quot;U&quot;</td><td>null</td><td>&quot;NZL&quot;</td><td>null</td><td>null</td><td>&quot;Emily Dunn&quot;</td></tr><tr><td>270042</td><td>&quot;Serena&quot;</td><td>&quot;Rodricks&quot;</td><td>&quot;U&quot;</td><td>null</td><td>&quot;IND&quot;</td><td>null</td><td>null</td><td>&quot;Serena Rodricks&quot;</td></tr><tr><td>270043</td><td>&quot;Isha&quot;</td><td>&quot;Mohite&quot;</td><td>&quot;U&quot;</td><td>null</td><td>&quot;IND&quot;</td><td>null</td><td>null</td><td>&quot;Isha Mohite&quot;</td></tr><tr><td>270044</td><td>&quot;Una&quot;</td><td>&quot;Misic&quot;</td><td>&quot;U&quot;</td><td>null</td><td>&quot;NZL&quot;</td><td>null</td><td>null</td><td>&quot;Una Misic&quot;</td></tr><tr><td>270045</td><td>&quot;Dorea&quot;</td><td>&quot;Morina&quot;</td><td>&quot;U&quot;</td><td>null</td><td>&quot;NZL&quot;</td><td>null</td><td>null</td><td>&quot;Dorea Morina&quot;</td></tr></tbody></table></div>"
      ],
      "text/plain": [
       "shape: (70_036, 9)\n",
       "┌───────────┬────────────┬───────────┬──────┬───┬─────┬────────┬─────────────┬─────────────────┐\n",
       "│ player_id ┆ name_first ┆ name_last ┆ hand ┆ … ┆ ioc ┆ height ┆ wikidata_id ┆ name_full       │\n",
       "│ ---       ┆ ---        ┆ ---       ┆ ---  ┆   ┆ --- ┆ ---    ┆ ---         ┆ ---             │\n",
       "│ i64       ┆ str        ┆ str       ┆ str  ┆   ┆ str ┆ i64    ┆ str         ┆ str             │\n",
       "╞═══════════╪════════════╪═══════════╪══════╪═══╪═════╪════════╪═════════════╪═════════════════╡\n",
       "│ 113190    ┆ Bobby      ┆ Riggs     ┆ U    ┆ … ┆ USA ┆ null   ┆ null        ┆ Bobby Riggs     │\n",
       "│ 200000    ┆ X          ┆ X         ┆ U    ┆ … ┆ UNK ┆ null   ┆ null        ┆ X X             │\n",
       "│ 200001    ┆ Martina    ┆ Hingis    ┆ R    ┆ … ┆ SUI ┆ 170    ┆ Q134720     ┆ Martina Hingis  │\n",
       "│ 200002    ┆ Mirjana    ┆ Lucic     ┆ R    ┆ … ┆ CRO ┆ 181    ┆ Q239686     ┆ Mirjana Lucic   │\n",
       "│ 200003    ┆ Justine    ┆ Henin     ┆ R    ┆ … ┆ BEL ┆ 167    ┆ Q11682      ┆ Justine Henin   │\n",
       "│ …         ┆ …          ┆ …         ┆ …    ┆ … ┆ …   ┆ …      ┆ …           ┆ …               │\n",
       "│ 270041    ┆ Emily      ┆ Dunn      ┆ U    ┆ … ┆ NZL ┆ null   ┆ null        ┆ Emily Dunn      │\n",
       "│ 270042    ┆ Serena     ┆ Rodricks  ┆ U    ┆ … ┆ IND ┆ null   ┆ null        ┆ Serena Rodricks │\n",
       "│ 270043    ┆ Isha       ┆ Mohite    ┆ U    ┆ … ┆ IND ┆ null   ┆ null        ┆ Isha Mohite     │\n",
       "│ 270044    ┆ Una        ┆ Misic     ┆ U    ┆ … ┆ NZL ┆ null   ┆ null        ┆ Una Misic       │\n",
       "│ 270045    ┆ Dorea      ┆ Morina    ┆ U    ┆ … ┆ NZL ┆ null   ┆ null        ┆ Dorea Morina    │\n",
       "└───────────┴────────────┴───────────┴──────┴───┴─────┴────────┴─────────────┴─────────────────┘"
      ]
     },
     "execution_count": 7,
     "metadata": {},
     "output_type": "execute_result"
    }
   ],
   "source": [
    "players_wta=import_players(gender=\"wta\")\n",
    "players_wta"
   ]
  },
  {
   "cell_type": "markdown",
   "metadata": {},
   "source": [
    "# Comincio creazione di df e df_tourney per ogni df disponibile"
   ]
  },
  {
   "cell_type": "code",
   "execution_count": 8,
   "metadata": {},
   "outputs": [
    {
     "data": {
      "text/html": [
       "<div><style>\n",
       ".dataframe > thead > tr,\n",
       ".dataframe > tbody > tr {\n",
       "  text-align: right;\n",
       "  white-space: pre-wrap;\n",
       "}\n",
       "</style>\n",
       "<small>shape: (25_001, 50)</small><table border=\"1\" class=\"dataframe\"><thead><tr><th>tourney_id</th><th>tourney_name</th><th>surface</th><th>draw_size</th><th>tourney_level</th><th>tourney_date</th><th>match_num</th><th>winner_id</th><th>winner_seed</th><th>winner_entry</th><th>winner_name</th><th>winner_hand</th><th>winner_ht</th><th>winner_ioc</th><th>winner_age</th><th>loser_id</th><th>loser_seed</th><th>loser_entry</th><th>loser_name</th><th>loser_hand</th><th>loser_ht</th><th>loser_ioc</th><th>loser_age</th><th>score</th><th>best_of</th><th>round</th><th>minutes</th><th>w_ace</th><th>w_df</th><th>w_svpt</th><th>w_1stIn</th><th>w_1stWon</th><th>w_2ndWon</th><th>w_SvGms</th><th>w_bpSaved</th><th>w_bpFaced</th><th>l_ace</th><th>l_df</th><th>l_svpt</th><th>l_1stIn</th><th>l_1stWon</th><th>l_2ndWon</th><th>l_SvGms</th><th>l_bpSaved</th><th>l_bpFaced</th><th>winner_rank</th><th>winner_rank_points</th><th>loser_rank</th><th>loser_rank_points</th><th>tourney_name_date</th></tr><tr><td>str</td><td>str</td><td>str</td><td>str</td><td>str</td><td>date</td><td>i64</td><td>i64</td><td>str</td><td>str</td><td>str</td><td>str</td><td>str</td><td>str</td><td>f64</td><td>i64</td><td>str</td><td>str</td><td>str</td><td>str</td><td>i64</td><td>str</td><td>f64</td><td>str</td><td>i64</td><td>str</td><td>str</td><td>str</td><td>str</td><td>str</td><td>str</td><td>str</td><td>str</td><td>str</td><td>str</td><td>str</td><td>str</td><td>str</td><td>str</td><td>str</td><td>str</td><td>str</td><td>str</td><td>str</td><td>str</td><td>str</td><td>str</td><td>str</td><td>str</td><td>str</td></tr></thead><tbody><tr><td>&quot;1877-540&quot;</td><td>&quot;Wimbledon&quot;</td><td>&quot;Grass&quot;</td><td>&quot;32&quot;</td><td>&quot;G&quot;</td><td>1877-07-09</td><td>1</td><td>113987</td><td>null</td><td>null</td><td>&quot;Spencer William Gore&quot;</td><td>null</td><td>null</td><td>&quot;GBR&quot;</td><td>27.331964</td><td>114009</td><td>null</td><td>null</td><td>&quot;Ht Gilson&quot;</td><td>null</td><td>null</td><td>&quot;GBR&quot;</td><td>null</td><td>&quot;6-2 6-0 6-3&quot;</td><td>5</td><td>&quot;R32&quot;</td><td>null</td><td>null</td><td>null</td><td>null</td><td>null</td><td>null</td><td>null</td><td>null</td><td>null</td><td>null</td><td>null</td><td>null</td><td>null</td><td>null</td><td>null</td><td>null</td><td>null</td><td>null</td><td>null</td><td>null</td><td>null</td><td>null</td><td>null</td><td>&quot;Wimbledon_1877_amatures_atp&quot;</td></tr><tr><td>&quot;1877-540&quot;</td><td>&quot;Wimbledon&quot;</td><td>&quot;Grass&quot;</td><td>&quot;32&quot;</td><td>&quot;G&quot;</td><td>1877-07-09</td><td>2</td><td>114146</td><td>null</td><td>null</td><td>&quot;Montague Hankey&quot;</td><td>null</td><td>null</td><td>&quot;GBR&quot;</td><td>36.895277</td><td>113977</td><td>null</td><td>null</td><td>&quot;Robert Dalby Dalby&quot;</td><td>null</td><td>null</td><td>&quot;GBR&quot;</td><td>null</td><td>&quot;6-4 6-2 3-6 6-2&quot;</td><td>5</td><td>&quot;R32&quot;</td><td>null</td><td>null</td><td>null</td><td>null</td><td>null</td><td>null</td><td>null</td><td>null</td><td>null</td><td>null</td><td>null</td><td>null</td><td>null</td><td>null</td><td>null</td><td>null</td><td>null</td><td>null</td><td>null</td><td>null</td><td>null</td><td>null</td><td>null</td><td>&quot;Wimbledon_1877_amatures_atp&quot;</td></tr><tr><td>&quot;1877-540&quot;</td><td>&quot;Wimbledon&quot;</td><td>&quot;Grass&quot;</td><td>&quot;32&quot;</td><td>&quot;G&quot;</td><td>1877-07-09</td><td>3</td><td>114147</td><td>null</td><td>null</td><td>&quot;John Baker&quot;</td><td>null</td><td>null</td><td>&quot;GBR&quot;</td><td>null</td><td>114148</td><td>null</td><td>null</td><td>&quot;Jw Trist&quot;</td><td>null</td><td>null</td><td>&quot;GBR&quot;</td><td>null</td><td>&quot;6-1 6-4 6-0&quot;</td><td>5</td><td>&quot;R32&quot;</td><td>null</td><td>null</td><td>null</td><td>null</td><td>null</td><td>null</td><td>null</td><td>null</td><td>null</td><td>null</td><td>null</td><td>null</td><td>null</td><td>null</td><td>null</td><td>null</td><td>null</td><td>null</td><td>null</td><td>null</td><td>null</td><td>null</td><td>null</td><td>&quot;Wimbledon_1877_amatures_atp&quot;</td></tr><tr><td>&quot;1877-540&quot;</td><td>&quot;Wimbledon&quot;</td><td>&quot;Grass&quot;</td><td>&quot;32&quot;</td><td>&quot;G&quot;</td><td>1877-07-09</td><td>4</td><td>114149</td><td>null</td><td>null</td><td>&quot;Francis Nathaniel Langham&quot;</td><td>null</td><td>null</td><td>&quot;GBR&quot;</td><td>36.082136</td><td>114150</td><td>null</td><td>null</td><td>&quot;Charles Francis Buller&quot;</td><td>null</td><td>null</td><td>&quot;GBR&quot;</td><td>31.12115</td><td>&quot;W/O&quot;</td><td>5</td><td>&quot;R32&quot;</td><td>null</td><td>null</td><td>null</td><td>null</td><td>null</td><td>null</td><td>null</td><td>null</td><td>null</td><td>null</td><td>null</td><td>null</td><td>null</td><td>null</td><td>null</td><td>null</td><td>null</td><td>null</td><td>null</td><td>null</td><td>null</td><td>null</td><td>null</td><td>&quot;Wimbledon_1877_amatures_atp&quot;</td></tr><tr><td>&quot;1877-540&quot;</td><td>&quot;Wimbledon&quot;</td><td>&quot;Grass&quot;</td><td>&quot;32&quot;</td><td>&quot;G&quot;</td><td>1877-07-09</td><td>5</td><td>113953</td><td>null</td><td>null</td><td>&quot;Lestocq Robert Erskine&quot;</td><td>null</td><td>null</td><td>&quot;GBR&quot;</td><td>19.838467</td><td>114151</td><td>null</td><td>null</td><td>&quot;E Wheeler&quot;</td><td>null</td><td>null</td><td>&quot;GBR&quot;</td><td>null</td><td>&quot;6-2 6-5 6-2&quot;</td><td>5</td><td>&quot;R32&quot;</td><td>null</td><td>null</td><td>null</td><td>null</td><td>null</td><td>null</td><td>null</td><td>null</td><td>null</td><td>null</td><td>null</td><td>null</td><td>null</td><td>null</td><td>null</td><td>null</td><td>null</td><td>null</td><td>null</td><td>null</td><td>null</td><td>null</td><td>null</td><td>&quot;Wimbledon_1877_amatures_atp&quot;</td></tr><tr><td>&hellip;</td><td>&hellip;</td><td>&hellip;</td><td>&hellip;</td><td>&hellip;</td><td>&hellip;</td><td>&hellip;</td><td>&hellip;</td><td>&hellip;</td><td>&hellip;</td><td>&hellip;</td><td>&hellip;</td><td>&hellip;</td><td>&hellip;</td><td>&hellip;</td><td>&hellip;</td><td>&hellip;</td><td>&hellip;</td><td>&hellip;</td><td>&hellip;</td><td>&hellip;</td><td>&hellip;</td><td>&hellip;</td><td>&hellip;</td><td>&hellip;</td><td>&hellip;</td><td>&hellip;</td><td>&hellip;</td><td>&hellip;</td><td>&hellip;</td><td>&hellip;</td><td>&hellip;</td><td>&hellip;</td><td>&hellip;</td><td>&hellip;</td><td>&hellip;</td><td>&hellip;</td><td>&hellip;</td><td>&hellip;</td><td>&hellip;</td><td>&hellip;</td><td>&hellip;</td><td>&hellip;</td><td>&hellip;</td><td>&hellip;</td><td>&hellip;</td><td>&hellip;</td><td>&hellip;</td><td>&hellip;</td><td>&hellip;</td></tr><tr><td>&quot;1967-D047&quot;</td><td>&quot;Davis Cup EUR R1: NED vs RSA&quot;</td><td>&quot;Clay&quot;</td><td>&quot;4&quot;</td><td>&quot;D&quot;</td><td>1967-05-04</td><td>5</td><td>100084</td><td>null</td><td>null</td><td>&quot;Tom Okker&quot;</td><td>&quot;R&quot;</td><td>&quot;178&quot;</td><td>&quot;NED&quot;</td><td>23.195072</td><td>100055</td><td>null</td><td>null</td><td>&quot;Cliff Drysdale&quot;</td><td>&quot;R&quot;</td><td>188</td><td>&quot;RSA&quot;</td><td>25.938398</td><td>&quot;6-2 6-2 0-6 7-5&quot;</td><td>5</td><td>&quot;RR&quot;</td><td>null</td><td>null</td><td>null</td><td>null</td><td>null</td><td>null</td><td>null</td><td>null</td><td>null</td><td>null</td><td>null</td><td>null</td><td>null</td><td>null</td><td>null</td><td>null</td><td>null</td><td>null</td><td>null</td><td>null</td><td>null</td><td>null</td><td>null</td><td>&quot;Davis Cup EUR R1: NED vs RSA_1…</td></tr><tr><td>&quot;1967-D048&quot;</td><td>&quot;Davis Cup AME SF: PHI vs VIE&quot;</td><td>null</td><td>&quot;4&quot;</td><td>&quot;D&quot;</td><td>1967-04-14</td><td>1</td><td>106910</td><td>null</td><td>null</td><td>&quot;Eddie Cruz&quot;</td><td>&quot;R&quot;</td><td>null</td><td>&quot;PHI&quot;</td><td>null</td><td>111097</td><td>null</td><td>null</td><td>&quot;Van Bay Vo&quot;</td><td>&quot;U&quot;</td><td>null</td><td>&quot;VIE&quot;</td><td>null</td><td>&quot;6-2 6-3 6-2&quot;</td><td>5</td><td>&quot;RR&quot;</td><td>null</td><td>null</td><td>null</td><td>null</td><td>null</td><td>null</td><td>null</td><td>null</td><td>null</td><td>null</td><td>null</td><td>null</td><td>null</td><td>null</td><td>null</td><td>null</td><td>null</td><td>null</td><td>null</td><td>null</td><td>null</td><td>null</td><td>null</td><td>&quot;Davis Cup AME SF: PHI vs VIE_1…</td></tr><tr><td>&quot;1967-D048&quot;</td><td>&quot;Davis Cup AME SF: PHI vs VIE&quot;</td><td>null</td><td>&quot;4&quot;</td><td>&quot;D&quot;</td><td>1967-04-14</td><td>2</td><td>112556</td><td>null</td><td>null</td><td>&quot;Felicisimo Ampon&quot;</td><td>null</td><td>null</td><td>&quot;PHI&quot;</td><td>46.461328</td><td>111091</td><td>null</td><td>null</td><td>&quot;Van Thanh Vo&quot;</td><td>&quot;U&quot;</td><td>null</td><td>&quot;VIE&quot;</td><td>null</td><td>&quot;6-4 6-1 6-1&quot;</td><td>5</td><td>&quot;RR&quot;</td><td>null</td><td>null</td><td>null</td><td>null</td><td>null</td><td>null</td><td>null</td><td>null</td><td>null</td><td>null</td><td>null</td><td>null</td><td>null</td><td>null</td><td>null</td><td>null</td><td>null</td><td>null</td><td>null</td><td>null</td><td>null</td><td>null</td><td>null</td><td>&quot;Davis Cup AME SF: PHI vs VIE_1…</td></tr><tr><td>&quot;1967-D048&quot;</td><td>&quot;Davis Cup AME SF: PHI vs VIE&quot;</td><td>null</td><td>&quot;4&quot;</td><td>&quot;D&quot;</td><td>1967-04-14</td><td>4</td><td>125731</td><td>null</td><td>null</td><td>&quot;Samuel Ang&quot;</td><td>&quot;U&quot;</td><td>null</td><td>&quot;PHI&quot;</td><td>null</td><td>117339</td><td>null</td><td>null</td><td>&quot;Hoang Duc Luu&quot;</td><td>null</td><td>null</td><td>&quot;VIE&quot;</td><td>null</td><td>&quot;6-3 6-4 6-1&quot;</td><td>5</td><td>&quot;RR&quot;</td><td>null</td><td>null</td><td>null</td><td>null</td><td>null</td><td>null</td><td>null</td><td>null</td><td>null</td><td>null</td><td>null</td><td>null</td><td>null</td><td>null</td><td>null</td><td>null</td><td>null</td><td>null</td><td>null</td><td>null</td><td>null</td><td>null</td><td>null</td><td>&quot;Davis Cup AME SF: PHI vs VIE_1…</td></tr><tr><td>&quot;1967-D048&quot;</td><td>&quot;Davis Cup AME SF: PHI vs VIE&quot;</td><td>null</td><td>&quot;4&quot;</td><td>&quot;D&quot;</td><td>1967-04-14</td><td>5</td><td>106910</td><td>null</td><td>null</td><td>&quot;Eddie Cruz&quot;</td><td>&quot;R&quot;</td><td>null</td><td>&quot;PHI&quot;</td><td>null</td><td>111091</td><td>null</td><td>null</td><td>&quot;Van Thanh Vo&quot;</td><td>&quot;U&quot;</td><td>null</td><td>&quot;VIE&quot;</td><td>null</td><td>&quot;12-10 9-7 6-1&quot;</td><td>5</td><td>&quot;RR&quot;</td><td>null</td><td>null</td><td>null</td><td>null</td><td>null</td><td>null</td><td>null</td><td>null</td><td>null</td><td>null</td><td>null</td><td>null</td><td>null</td><td>null</td><td>null</td><td>null</td><td>null</td><td>null</td><td>null</td><td>null</td><td>null</td><td>null</td><td>null</td><td>&quot;Davis Cup AME SF: PHI vs VIE_1…</td></tr></tbody></table></div>"
      ],
      "text/plain": [
       "shape: (25_001, 50)\n",
       "┌────────────┬───────────┬─────────┬───────────┬───┬───────────┬───────────┬───────────┬───────────┐\n",
       "│ tourney_id ┆ tourney_n ┆ surface ┆ draw_size ┆ … ┆ winner_ra ┆ loser_ran ┆ loser_ran ┆ tourney_n │\n",
       "│ ---        ┆ ame       ┆ ---     ┆ ---       ┆   ┆ nk_points ┆ k         ┆ k_points  ┆ ame_date  │\n",
       "│ str        ┆ ---       ┆ str     ┆ str       ┆   ┆ ---       ┆ ---       ┆ ---       ┆ ---       │\n",
       "│            ┆ str       ┆         ┆           ┆   ┆ str       ┆ str       ┆ str       ┆ str       │\n",
       "╞════════════╪═══════════╪═════════╪═══════════╪═══╪═══════════╪═══════════╪═══════════╪═══════════╡\n",
       "│ 1877-540   ┆ Wimbledon ┆ Grass   ┆ 32        ┆ … ┆ null      ┆ null      ┆ null      ┆ Wimbledon │\n",
       "│            ┆           ┆         ┆           ┆   ┆           ┆           ┆           ┆ _1877_ama │\n",
       "│            ┆           ┆         ┆           ┆   ┆           ┆           ┆           ┆ tures_atp │\n",
       "│ 1877-540   ┆ Wimbledon ┆ Grass   ┆ 32        ┆ … ┆ null      ┆ null      ┆ null      ┆ Wimbledon │\n",
       "│            ┆           ┆         ┆           ┆   ┆           ┆           ┆           ┆ _1877_ama │\n",
       "│            ┆           ┆         ┆           ┆   ┆           ┆           ┆           ┆ tures_atp │\n",
       "│ 1877-540   ┆ Wimbledon ┆ Grass   ┆ 32        ┆ … ┆ null      ┆ null      ┆ null      ┆ Wimbledon │\n",
       "│            ┆           ┆         ┆           ┆   ┆           ┆           ┆           ┆ _1877_ama │\n",
       "│            ┆           ┆         ┆           ┆   ┆           ┆           ┆           ┆ tures_atp │\n",
       "│ 1877-540   ┆ Wimbledon ┆ Grass   ┆ 32        ┆ … ┆ null      ┆ null      ┆ null      ┆ Wimbledon │\n",
       "│            ┆           ┆         ┆           ┆   ┆           ┆           ┆           ┆ _1877_ama │\n",
       "│            ┆           ┆         ┆           ┆   ┆           ┆           ┆           ┆ tures_atp │\n",
       "│ 1877-540   ┆ Wimbledon ┆ Grass   ┆ 32        ┆ … ┆ null      ┆ null      ┆ null      ┆ Wimbledon │\n",
       "│            ┆           ┆         ┆           ┆   ┆           ┆           ┆           ┆ _1877_ama │\n",
       "│            ┆           ┆         ┆           ┆   ┆           ┆           ┆           ┆ tures_atp │\n",
       "│ …          ┆ …         ┆ …       ┆ …         ┆ … ┆ …         ┆ …         ┆ …         ┆ …         │\n",
       "│ 1967-D047  ┆ Davis Cup ┆ Clay    ┆ 4         ┆ … ┆ null      ┆ null      ┆ null      ┆ Davis Cup │\n",
       "│            ┆ EUR R1:   ┆         ┆           ┆   ┆           ┆           ┆           ┆ EUR R1:   │\n",
       "│            ┆ NED vs    ┆         ┆           ┆   ┆           ┆           ┆           ┆ NED vs    │\n",
       "│            ┆ RSA       ┆         ┆           ┆   ┆           ┆           ┆           ┆ RSA_1…    │\n",
       "│ 1967-D048  ┆ Davis Cup ┆ null    ┆ 4         ┆ … ┆ null      ┆ null      ┆ null      ┆ Davis Cup │\n",
       "│            ┆ AME SF:   ┆         ┆           ┆   ┆           ┆           ┆           ┆ AME SF:   │\n",
       "│            ┆ PHI vs    ┆         ┆           ┆   ┆           ┆           ┆           ┆ PHI vs    │\n",
       "│            ┆ VIE       ┆         ┆           ┆   ┆           ┆           ┆           ┆ VIE_1…    │\n",
       "│ 1967-D048  ┆ Davis Cup ┆ null    ┆ 4         ┆ … ┆ null      ┆ null      ┆ null      ┆ Davis Cup │\n",
       "│            ┆ AME SF:   ┆         ┆           ┆   ┆           ┆           ┆           ┆ AME SF:   │\n",
       "│            ┆ PHI vs    ┆         ┆           ┆   ┆           ┆           ┆           ┆ PHI vs    │\n",
       "│            ┆ VIE       ┆         ┆           ┆   ┆           ┆           ┆           ┆ VIE_1…    │\n",
       "│ 1967-D048  ┆ Davis Cup ┆ null    ┆ 4         ┆ … ┆ null      ┆ null      ┆ null      ┆ Davis Cup │\n",
       "│            ┆ AME SF:   ┆         ┆           ┆   ┆           ┆           ┆           ┆ AME SF:   │\n",
       "│            ┆ PHI vs    ┆         ┆           ┆   ┆           ┆           ┆           ┆ PHI vs    │\n",
       "│            ┆ VIE       ┆         ┆           ┆   ┆           ┆           ┆           ┆ VIE_1…    │\n",
       "│ 1967-D048  ┆ Davis Cup ┆ null    ┆ 4         ┆ … ┆ null      ┆ null      ┆ null      ┆ Davis Cup │\n",
       "│            ┆ AME SF:   ┆         ┆           ┆   ┆           ┆           ┆           ┆ AME SF:   │\n",
       "│            ┆ PHI vs    ┆         ┆           ┆   ┆           ┆           ┆           ┆ PHI vs    │\n",
       "│            ┆ VIE       ┆         ┆           ┆   ┆           ┆           ┆           ┆ VIE_1…    │\n",
       "└────────────┴───────────┴─────────┴───────────┴───┴───────────┴───────────┴───────────┴───────────┘"
      ]
     },
     "execution_count": 8,
     "metadata": {},
     "output_type": "execute_result"
    }
   ],
   "source": [
    "#creazione df amatori\n",
    "matches_amateurs_atp=import_matches_amateurs_atp(write_parquet=True)\n",
    "#creazione colonna 'tourney_name_date' con metodo polars\n",
    "matches_amateurs_atp = matches_amateurs_atp.with_columns(\n",
    "    (pl.col(\"tourney_name\") + \"_\" + pl.col(\"tourney_date\").dt.year().cast(pl.Utf8)+\"_amatures_atp\").alias(\"tourney_name_date\")\n",
    ")\n",
    "matches_amateurs_atp"
   ]
  },
  {
   "cell_type": "code",
   "execution_count": 9,
   "metadata": {},
   "outputs": [
    {
     "data": {
      "text/html": [
       "<div><style>\n",
       ".dataframe > thead > tr,\n",
       ".dataframe > tbody > tr {\n",
       "  text-align: right;\n",
       "  white-space: pre-wrap;\n",
       "}\n",
       "</style>\n",
       "<small>shape: (1_481, 6)</small><table border=\"1\" class=\"dataframe\"><thead><tr><th>tourney_name</th><th>surface</th><th>draw_size</th><th>tourney_level</th><th>tourney_date</th><th>tourney_name_date</th></tr><tr><td>str</td><td>str</td><td>str</td><td>str</td><td>date</td><td>str</td></tr></thead><tbody><tr><td>&quot;Davis Cup WG CR: FRA vs USA&quot;</td><td>&quot;Clay&quot;</td><td>&quot;4&quot;</td><td>&quot;D&quot;</td><td>1929-07-26</td><td>&quot;Davis Cup WG CR: FRA vs USA_19…</td></tr><tr><td>&quot;Davis Cup G2 QF: PHI vs MAS&quot;</td><td>null</td><td>&quot;4&quot;</td><td>&quot;D&quot;</td><td>1959-03-21</td><td>&quot;Davis Cup G2 QF: PHI vs MAS_19…</td></tr><tr><td>&quot;Davis Cup AME SF: PHI vs USA&quot;</td><td>&quot;Grass&quot;</td><td>&quot;4&quot;</td><td>&quot;D&quot;</td><td>1960-11-22</td><td>&quot;Davis Cup AME SF: PHI vs USA_1…</td></tr><tr><td>&quot;Australian Open&quot;</td><td>&quot;Grass&quot;</td><td>&quot;32&quot;</td><td>&quot;G&quot;</td><td>1940-01-19</td><td>&quot;Australian Open_1940_amatures_…</td></tr><tr><td>&quot;Davis Cup EUR QF: FRA vs CAN&quot;</td><td>&quot;Clay&quot;</td><td>&quot;4&quot;</td><td>&quot;D&quot;</td><td>1966-05-13</td><td>&quot;Davis Cup EUR QF: FRA vs CAN_1…</td></tr><tr><td>&hellip;</td><td>&hellip;</td><td>&hellip;</td><td>&hellip;</td><td>&hellip;</td><td>&hellip;</td></tr><tr><td>&quot;Davis Cup EUR R1: SUI vs PAK&quot;</td><td>null</td><td>&quot;4&quot;</td><td>&quot;D&quot;</td><td>1948-04-30</td><td>&quot;Davis Cup EUR R1: SUI vs PAK_1…</td></tr><tr><td>&quot;Davis Cup AME F: USA vs MEX&quot;</td><td>&quot;Clay&quot;</td><td>&quot;4&quot;</td><td>&quot;D&quot;</td><td>1961-08-18</td><td>&quot;Davis Cup AME F: USA vs MEX_19…</td></tr><tr><td>&quot;Davis Cup EUR R1: NOR vs HUN&quot;</td><td>&quot;Clay&quot;</td><td>&quot;4&quot;</td><td>&quot;D&quot;</td><td>1928-05-04</td><td>&quot;Davis Cup EUR R1: NOR vs HUN_1…</td></tr><tr><td>&quot;Davis Cup EUR QF: TCH vs NZL&quot;</td><td>null</td><td>&quot;4&quot;</td><td>&quot;D&quot;</td><td>1934-06-07</td><td>&quot;Davis Cup EUR QF: TCH vs NZL_1…</td></tr><tr><td>&quot;Wimbledon&quot;</td><td>&quot;Grass&quot;</td><td>&quot;32&quot;</td><td>&quot;G&quot;</td><td>1889-07-01</td><td>&quot;Wimbledon_1889_amatures_atp&quot;</td></tr></tbody></table></div>"
      ],
      "text/plain": [
       "shape: (1_481, 6)\n",
       "┌──────────────────────┬─────────┬───────────┬───────────────┬──────────────┬──────────────────────┐\n",
       "│ tourney_name         ┆ surface ┆ draw_size ┆ tourney_level ┆ tourney_date ┆ tourney_name_date    │\n",
       "│ ---                  ┆ ---     ┆ ---       ┆ ---           ┆ ---          ┆ ---                  │\n",
       "│ str                  ┆ str     ┆ str       ┆ str           ┆ date         ┆ str                  │\n",
       "╞══════════════════════╪═════════╪═══════════╪═══════════════╪══════════════╪══════════════════════╡\n",
       "│ Davis Cup WG CR: FRA ┆ Clay    ┆ 4         ┆ D             ┆ 1929-07-26   ┆ Davis Cup WG CR: FRA │\n",
       "│ vs USA               ┆         ┆           ┆               ┆              ┆ vs USA_19…           │\n",
       "│ Davis Cup G2 QF: PHI ┆ null    ┆ 4         ┆ D             ┆ 1959-03-21   ┆ Davis Cup G2 QF: PHI │\n",
       "│ vs MAS               ┆         ┆           ┆               ┆              ┆ vs MAS_19…           │\n",
       "│ Davis Cup AME SF:    ┆ Grass   ┆ 4         ┆ D             ┆ 1960-11-22   ┆ Davis Cup AME SF:    │\n",
       "│ PHI vs USA           ┆         ┆           ┆               ┆              ┆ PHI vs USA_1…        │\n",
       "│ Australian Open      ┆ Grass   ┆ 32        ┆ G             ┆ 1940-01-19   ┆ Australian           │\n",
       "│                      ┆         ┆           ┆               ┆              ┆ Open_1940_amatures_… │\n",
       "│ Davis Cup EUR QF:    ┆ Clay    ┆ 4         ┆ D             ┆ 1966-05-13   ┆ Davis Cup EUR QF:    │\n",
       "│ FRA vs CAN           ┆         ┆           ┆               ┆              ┆ FRA vs CAN_1…        │\n",
       "│ …                    ┆ …       ┆ …         ┆ …             ┆ …            ┆ …                    │\n",
       "│ Davis Cup EUR R1:    ┆ null    ┆ 4         ┆ D             ┆ 1948-04-30   ┆ Davis Cup EUR R1:    │\n",
       "│ SUI vs PAK           ┆         ┆           ┆               ┆              ┆ SUI vs PAK_1…        │\n",
       "│ Davis Cup AME F: USA ┆ Clay    ┆ 4         ┆ D             ┆ 1961-08-18   ┆ Davis Cup AME F: USA │\n",
       "│ vs MEX               ┆         ┆           ┆               ┆              ┆ vs MEX_19…           │\n",
       "│ Davis Cup EUR R1:    ┆ Clay    ┆ 4         ┆ D             ┆ 1928-05-04   ┆ Davis Cup EUR R1:    │\n",
       "│ NOR vs HUN           ┆         ┆           ┆               ┆              ┆ NOR vs HUN_1…        │\n",
       "│ Davis Cup EUR QF:    ┆ null    ┆ 4         ┆ D             ┆ 1934-06-07   ┆ Davis Cup EUR QF:    │\n",
       "│ TCH vs NZL           ┆         ┆           ┆               ┆              ┆ TCH vs NZL_1…        │\n",
       "│ Wimbledon            ┆ Grass   ┆ 32        ┆ G             ┆ 1889-07-01   ┆ Wimbledon_1889_amatu │\n",
       "│                      ┆         ┆           ┆               ┆              ┆ res_atp              │\n",
       "└──────────────────────┴─────────┴───────────┴───────────────┴──────────────┴──────────────────────┘"
      ]
     },
     "execution_count": 9,
     "metadata": {},
     "output_type": "execute_result"
    }
   ],
   "source": [
    "#creazione 'tourney_amateurs_matches_atp' e in seguito unique di 'tourney_name_date'\n",
    "tourney_amateurs_matches_atp=matches_amateurs_atp[['tourney_name', 'surface', 'draw_size', 'tourney_level', 'tourney_date', 'tourney_name_date']]\n",
    "tourney_amateurs_matches_atp=tourney_amateurs_matches_atp.unique('tourney_name_date')\n",
    "tourney_amateurs_matches_atp"
   ]
  },
  {
   "cell_type": "code",
   "execution_count": 10,
   "metadata": {},
   "outputs": [
    {
     "data": {
      "text/html": [
       "<div><style>\n",
       ".dataframe > thead > tr,\n",
       ".dataframe > tbody > tr {\n",
       "  text-align: right;\n",
       "  white-space: pre-wrap;\n",
       "}\n",
       "</style>\n",
       "<small>shape: (193_337, 50)</small><table border=\"1\" class=\"dataframe\"><thead><tr><th>tourney_id</th><th>tourney_name</th><th>surface</th><th>draw_size</th><th>tourney_level</th><th>tourney_date</th><th>match_num</th><th>winner_id</th><th>winner_seed</th><th>winner_entry</th><th>winner_name</th><th>winner_hand</th><th>winner_ht</th><th>winner_ioc</th><th>winner_age</th><th>loser_id</th><th>loser_seed</th><th>loser_entry</th><th>loser_name</th><th>loser_hand</th><th>loser_ht</th><th>loser_ioc</th><th>loser_age</th><th>score</th><th>best_of</th><th>round</th><th>minutes</th><th>w_ace</th><th>w_df</th><th>w_svpt</th><th>w_1stIn</th><th>w_1stWon</th><th>w_2ndWon</th><th>w_SvGms</th><th>w_bpSaved</th><th>w_bpFaced</th><th>l_ace</th><th>l_df</th><th>l_svpt</th><th>l_1stIn</th><th>l_1stWon</th><th>l_2ndWon</th><th>l_SvGms</th><th>l_bpSaved</th><th>l_bpFaced</th><th>winner_rank</th><th>winner_rank_points</th><th>loser_rank</th><th>loser_rank_points</th><th>tourney_name_date</th></tr><tr><td>str</td><td>str</td><td>str</td><td>i64</td><td>str</td><td>date</td><td>i64</td><td>str</td><td>str</td><td>str</td><td>str</td><td>str</td><td>i64</td><td>str</td><td>f64</td><td>str</td><td>str</td><td>str</td><td>str</td><td>str</td><td>i64</td><td>str</td><td>f64</td><td>str</td><td>i64</td><td>str</td><td>str</td><td>str</td><td>str</td><td>str</td><td>str</td><td>str</td><td>str</td><td>str</td><td>str</td><td>str</td><td>str</td><td>str</td><td>str</td><td>str</td><td>str</td><td>str</td><td>str</td><td>str</td><td>str</td><td>str</td><td>str</td><td>str</td><td>str</td><td>str</td></tr></thead><tbody><tr><td>&quot;1968-2029&quot;</td><td>&quot;Dublin&quot;</td><td>&quot;Grass&quot;</td><td>32</td><td>&quot;A&quot;</td><td>1968-07-08</td><td>270</td><td>&quot;112411&quot;</td><td>null</td><td>null</td><td>&quot;Doug Smith&quot;</td><td>&quot;U&quot;</td><td>null</td><td>&quot;AUS&quot;</td><td>null</td><td>&quot;110196&quot;</td><td>null</td><td>null</td><td>&quot;Peter Ledbetter&quot;</td><td>&quot;U&quot;</td><td>null</td><td>&quot;IRL&quot;</td><td>24.0</td><td>&quot;6-1 7-5&quot;</td><td>3</td><td>&quot;R32&quot;</td><td>null</td><td>null</td><td>null</td><td>null</td><td>null</td><td>null</td><td>null</td><td>null</td><td>null</td><td>null</td><td>null</td><td>null</td><td>null</td><td>null</td><td>null</td><td>null</td><td>null</td><td>null</td><td>null</td><td>null</td><td>null</td><td>null</td><td>null</td><td>&quot;Dublin_1968&quot;</td></tr><tr><td>&quot;1968-2029&quot;</td><td>&quot;Dublin&quot;</td><td>&quot;Grass&quot;</td><td>32</td><td>&quot;A&quot;</td><td>1968-07-08</td><td>271</td><td>&quot;126914&quot;</td><td>null</td><td>null</td><td>&quot;Louis Pretorius&quot;</td><td>&quot;R&quot;</td><td>null</td><td>&quot;RSA&quot;</td><td>null</td><td>&quot;209536&quot;</td><td>null</td><td>null</td><td>&quot;Maurice Pollock&quot;</td><td>&quot;U&quot;</td><td>null</td><td>&quot;IRL&quot;</td><td>null</td><td>&quot;6-1 6-1&quot;</td><td>3</td><td>&quot;R32&quot;</td><td>null</td><td>null</td><td>null</td><td>null</td><td>null</td><td>null</td><td>null</td><td>null</td><td>null</td><td>null</td><td>null</td><td>null</td><td>null</td><td>null</td><td>null</td><td>null</td><td>null</td><td>null</td><td>null</td><td>null</td><td>null</td><td>null</td><td>null</td><td>&quot;Dublin_1968&quot;</td></tr><tr><td>&quot;1968-2029&quot;</td><td>&quot;Dublin&quot;</td><td>&quot;Grass&quot;</td><td>32</td><td>&quot;A&quot;</td><td>1968-07-08</td><td>272</td><td>&quot;209523&quot;</td><td>null</td><td>null</td><td>&quot;Cecil Pedlow&quot;</td><td>&quot;U&quot;</td><td>null</td><td>&quot;IRL&quot;</td><td>null</td><td>&quot;209535&quot;</td><td>null</td><td>null</td><td>&quot;John Mulvey&quot;</td><td>&quot;U&quot;</td><td>null</td><td>&quot;IRL&quot;</td><td>null</td><td>&quot;6-2 6-2&quot;</td><td>3</td><td>&quot;R32&quot;</td><td>null</td><td>null</td><td>null</td><td>null</td><td>null</td><td>null</td><td>null</td><td>null</td><td>null</td><td>null</td><td>null</td><td>null</td><td>null</td><td>null</td><td>null</td><td>null</td><td>null</td><td>null</td><td>null</td><td>null</td><td>null</td><td>null</td><td>null</td><td>&quot;Dublin_1968&quot;</td></tr><tr><td>&quot;1968-2029&quot;</td><td>&quot;Dublin&quot;</td><td>&quot;Grass&quot;</td><td>32</td><td>&quot;A&quot;</td><td>1968-07-08</td><td>273</td><td>&quot;100084&quot;</td><td>null</td><td>null</td><td>&quot;Tom Okker&quot;</td><td>&quot;R&quot;</td><td>178</td><td>&quot;NED&quot;</td><td>24.3</td><td>&quot;209534&quot;</td><td>null</td><td>null</td><td>&quot;Unknown Fearmon&quot;</td><td>&quot;U&quot;</td><td>null</td><td>null</td><td>null</td><td>&quot;6-1 6-1&quot;</td><td>3</td><td>&quot;R32&quot;</td><td>null</td><td>null</td><td>null</td><td>null</td><td>null</td><td>null</td><td>null</td><td>null</td><td>null</td><td>null</td><td>null</td><td>null</td><td>null</td><td>null</td><td>null</td><td>null</td><td>null</td><td>null</td><td>null</td><td>null</td><td>null</td><td>null</td><td>null</td><td>&quot;Dublin_1968&quot;</td></tr><tr><td>&quot;1968-2029&quot;</td><td>&quot;Dublin&quot;</td><td>&quot;Grass&quot;</td><td>32</td><td>&quot;A&quot;</td><td>1968-07-08</td><td>274</td><td>&quot;100132&quot;</td><td>null</td><td>null</td><td>&quot;Armistead Neely&quot;</td><td>&quot;R&quot;</td><td>null</td><td>&quot;USA&quot;</td><td>21.3</td><td>&quot;209533&quot;</td><td>null</td><td>null</td><td>&quot;Harry Sheridan&quot;</td><td>&quot;U&quot;</td><td>null</td><td>&quot;IRL&quot;</td><td>null</td><td>&quot;6-2 6-4&quot;</td><td>3</td><td>&quot;R32&quot;</td><td>null</td><td>null</td><td>null</td><td>null</td><td>null</td><td>null</td><td>null</td><td>null</td><td>null</td><td>null</td><td>null</td><td>null</td><td>null</td><td>null</td><td>null</td><td>null</td><td>null</td><td>null</td><td>null</td><td>null</td><td>null</td><td>null</td><td>null</td><td>&quot;Dublin_1968&quot;</td></tr><tr><td>&hellip;</td><td>&hellip;</td><td>&hellip;</td><td>&hellip;</td><td>&hellip;</td><td>&hellip;</td><td>&hellip;</td><td>&hellip;</td><td>&hellip;</td><td>&hellip;</td><td>&hellip;</td><td>&hellip;</td><td>&hellip;</td><td>&hellip;</td><td>&hellip;</td><td>&hellip;</td><td>&hellip;</td><td>&hellip;</td><td>&hellip;</td><td>&hellip;</td><td>&hellip;</td><td>&hellip;</td><td>&hellip;</td><td>&hellip;</td><td>&hellip;</td><td>&hellip;</td><td>&hellip;</td><td>&hellip;</td><td>&hellip;</td><td>&hellip;</td><td>&hellip;</td><td>&hellip;</td><td>&hellip;</td><td>&hellip;</td><td>&hellip;</td><td>&hellip;</td><td>&hellip;</td><td>&hellip;</td><td>&hellip;</td><td>&hellip;</td><td>&hellip;</td><td>&hellip;</td><td>&hellip;</td><td>&hellip;</td><td>&hellip;</td><td>&hellip;</td><td>&hellip;</td><td>&hellip;</td><td>&hellip;</td><td>&hellip;</td></tr><tr><td>&quot;2024-M-DC-2024-WG2-PO-URU-MDA-…</td><td>&quot;Davis Cup WG2 PO: URU vs MDA&quot;</td><td>&quot;Clay&quot;</td><td>4</td><td>&quot;D&quot;</td><td>2024-02-03</td><td>5</td><td>&quot;212051&quot;</td><td>null</td><td>null</td><td>&quot;Joaquin  Aguilar Cardozo &quot;</td><td>&quot;U&quot;</td><td>null</td><td>&quot;URU&quot;</td><td>18.8</td><td>&quot;209943&quot;</td><td>null</td><td>null</td><td>&quot;Ilya Snitari&quot;</td><td>&quot;U&quot;</td><td>null</td><td>&quot;MDA&quot;</td><td>21.8</td><td>&quot;6-1 6-0&quot;</td><td>3</td><td>&quot;RR&quot;</td><td>&quot;77&quot;</td><td>&quot;0&quot;</td><td>&quot;0&quot;</td><td>&quot;36&quot;</td><td>&quot;22&quot;</td><td>&quot;15&quot;</td><td>&quot;10&quot;</td><td>&quot;7&quot;</td><td>&quot;1&quot;</td><td>&quot;1&quot;</td><td>&quot;1&quot;</td><td>&quot;1&quot;</td><td>&quot;61&quot;</td><td>&quot;30&quot;</td><td>&quot;17&quot;</td><td>&quot;7&quot;</td><td>&quot;6&quot;</td><td>&quot;8&quot;</td><td>&quot;14&quot;</td><td>&quot;1109&quot;</td><td>&quot;8&quot;</td><td>&quot;740&quot;</td><td>&quot;34&quot;</td><td>&quot;Davis Cup WG2 PO: URU vs MDA_2…</td></tr><tr><td>&quot;2024-M-DC-2024-WG2-PO-VIE-RSA-…</td><td>&quot;Davis Cup WG2 PO: VIE vs RSA&quot;</td><td>&quot;Hard&quot;</td><td>4</td><td>&quot;D&quot;</td><td>2024-02-02</td><td>1</td><td>&quot;122533&quot;</td><td>null</td><td>null</td><td>&quot;Nam Hoang Ly&quot;</td><td>&quot;R&quot;</td><td>null</td><td>&quot;VIE&quot;</td><td>26.9</td><td>&quot;202475&quot;</td><td>null</td><td>null</td><td>&quot;Philip Henning&quot;</td><td>&quot;R&quot;</td><td>null</td><td>&quot;RSA&quot;</td><td>23.2</td><td>&quot;6-3 6-4&quot;</td><td>3</td><td>&quot;RR&quot;</td><td>&quot;131&quot;</td><td>&quot;1&quot;</td><td>&quot;1&quot;</td><td>&quot;86&quot;</td><td>&quot;60&quot;</td><td>&quot;40&quot;</td><td>&quot;13&quot;</td><td>&quot;10&quot;</td><td>&quot;8&quot;</td><td>&quot;9&quot;</td><td>&quot;2&quot;</td><td>&quot;1&quot;</td><td>&quot;56&quot;</td><td>&quot;41&quot;</td><td>&quot;25&quot;</td><td>&quot;6&quot;</td><td>&quot;9&quot;</td><td>&quot;1&quot;</td><td>&quot;4&quot;</td><td>&quot;554&quot;</td><td>&quot;67&quot;</td><td>&quot;748&quot;</td><td>&quot;32&quot;</td><td>&quot;Davis Cup WG2 PO: VIE vs RSA_2…</td></tr><tr><td>&quot;2024-M-DC-2024-WG2-PO-VIE-RSA-…</td><td>&quot;Davis Cup WG2 PO: VIE vs RSA&quot;</td><td>&quot;Hard&quot;</td><td>4</td><td>&quot;D&quot;</td><td>2024-02-02</td><td>2</td><td>&quot;144748&quot;</td><td>null</td><td>null</td><td>&quot;Kris Van Wyk&quot;</td><td>&quot;U&quot;</td><td>null</td><td>&quot;RSA&quot;</td><td>27.3</td><td>&quot;144775&quot;</td><td>null</td><td>null</td><td>&quot;Linh Giang Trinh&quot;</td><td>&quot;R&quot;</td><td>183</td><td>&quot;VIE&quot;</td><td>26.4</td><td>&quot;4-6 6-3 4-0&quot;</td><td>3</td><td>&quot;RR&quot;</td><td>&quot;131&quot;</td><td>&quot;4&quot;</td><td>&quot;2&quot;</td><td>&quot;76&quot;</td><td>&quot;46&quot;</td><td>&quot;32&quot;</td><td>&quot;10&quot;</td><td>&quot;12&quot;</td><td>&quot;6&quot;</td><td>&quot;11&quot;</td><td>&quot;0&quot;</td><td>&quot;2&quot;</td><td>&quot;71&quot;</td><td>&quot;51&quot;</td><td>&quot;25&quot;</td><td>&quot;7&quot;</td><td>&quot;11&quot;</td><td>&quot;5&quot;</td><td>&quot;12&quot;</td><td>&quot;416&quot;</td><td>&quot;109&quot;</td><td>null</td><td>null</td><td>&quot;Davis Cup WG2 PO: VIE vs RSA_2…</td></tr><tr><td>&quot;2024-M-DC-2024-WG2-PO-VIE-RSA-…</td><td>&quot;Davis Cup WG2 PO: VIE vs RSA&quot;</td><td>&quot;Hard&quot;</td><td>4</td><td>&quot;D&quot;</td><td>2024-02-02</td><td>4</td><td>&quot;122533&quot;</td><td>null</td><td>null</td><td>&quot;Nam Hoang Ly&quot;</td><td>&quot;R&quot;</td><td>null</td><td>&quot;VIE&quot;</td><td>26.9</td><td>&quot;144748&quot;</td><td>null</td><td>null</td><td>&quot;Kris Van Wyk&quot;</td><td>&quot;U&quot;</td><td>null</td><td>&quot;RSA&quot;</td><td>27.3</td><td>&quot;6-4 3-6 6-3&quot;</td><td>3</td><td>&quot;RR&quot;</td><td>&quot;159&quot;</td><td>&quot;0&quot;</td><td>&quot;1&quot;</td><td>&quot;84&quot;</td><td>&quot;61&quot;</td><td>&quot;41&quot;</td><td>&quot;13&quot;</td><td>&quot;14&quot;</td><td>&quot;2&quot;</td><td>&quot;5&quot;</td><td>&quot;5&quot;</td><td>&quot;3&quot;</td><td>&quot;86&quot;</td><td>&quot;51&quot;</td><td>&quot;32&quot;</td><td>&quot;17&quot;</td><td>&quot;14&quot;</td><td>&quot;5&quot;</td><td>&quot;9&quot;</td><td>&quot;554&quot;</td><td>&quot;67&quot;</td><td>&quot;416&quot;</td><td>&quot;109&quot;</td><td>&quot;Davis Cup WG2 PO: VIE vs RSA_2…</td></tr><tr><td>&quot;2024-M-DC-2024-WG2-PO-VIE-RSA-…</td><td>&quot;Davis Cup WG2 PO: VIE vs RSA&quot;</td><td>&quot;Hard&quot;</td><td>4</td><td>&quot;D&quot;</td><td>2024-02-02</td><td>5</td><td>&quot;202475&quot;</td><td>null</td><td>null</td><td>&quot;Philip Henning&quot;</td><td>&quot;R&quot;</td><td>null</td><td>&quot;RSA&quot;</td><td>23.2</td><td>&quot;144775&quot;</td><td>null</td><td>null</td><td>&quot;Linh Giang Trinh&quot;</td><td>&quot;R&quot;</td><td>183</td><td>&quot;VIE&quot;</td><td>26.4</td><td>&quot;6-2 6-2&quot;</td><td>3</td><td>&quot;RR&quot;</td><td>&quot;101&quot;</td><td>&quot;1&quot;</td><td>&quot;0&quot;</td><td>&quot;47&quot;</td><td>&quot;28&quot;</td><td>&quot;21&quot;</td><td>&quot;11&quot;</td><td>&quot;8&quot;</td><td>&quot;0&quot;</td><td>&quot;1&quot;</td><td>&quot;0&quot;</td><td>&quot;0&quot;</td><td>&quot;71&quot;</td><td>&quot;53&quot;</td><td>&quot;25&quot;</td><td>&quot;8&quot;</td><td>&quot;8&quot;</td><td>&quot;9&quot;</td><td>&quot;14&quot;</td><td>&quot;748&quot;</td><td>&quot;32&quot;</td><td>null</td><td>null</td><td>&quot;Davis Cup WG2 PO: VIE vs RSA_2…</td></tr></tbody></table></div>"
      ],
      "text/plain": [
       "shape: (193_337, 50)\n",
       "┌────────────┬───────────┬─────────┬───────────┬───┬───────────┬───────────┬───────────┬───────────┐\n",
       "│ tourney_id ┆ tourney_n ┆ surface ┆ draw_size ┆ … ┆ winner_ra ┆ loser_ran ┆ loser_ran ┆ tourney_n │\n",
       "│ ---        ┆ ame       ┆ ---     ┆ ---       ┆   ┆ nk_points ┆ k         ┆ k_points  ┆ ame_date  │\n",
       "│ str        ┆ ---       ┆ str     ┆ i64       ┆   ┆ ---       ┆ ---       ┆ ---       ┆ ---       │\n",
       "│            ┆ str       ┆         ┆           ┆   ┆ str       ┆ str       ┆ str       ┆ str       │\n",
       "╞════════════╪═══════════╪═════════╪═══════════╪═══╪═══════════╪═══════════╪═══════════╪═══════════╡\n",
       "│ 1968-2029  ┆ Dublin    ┆ Grass   ┆ 32        ┆ … ┆ null      ┆ null      ┆ null      ┆ Dublin_19 │\n",
       "│            ┆           ┆         ┆           ┆   ┆           ┆           ┆           ┆ 68        │\n",
       "│ 1968-2029  ┆ Dublin    ┆ Grass   ┆ 32        ┆ … ┆ null      ┆ null      ┆ null      ┆ Dublin_19 │\n",
       "│            ┆           ┆         ┆           ┆   ┆           ┆           ┆           ┆ 68        │\n",
       "│ 1968-2029  ┆ Dublin    ┆ Grass   ┆ 32        ┆ … ┆ null      ┆ null      ┆ null      ┆ Dublin_19 │\n",
       "│            ┆           ┆         ┆           ┆   ┆           ┆           ┆           ┆ 68        │\n",
       "│ 1968-2029  ┆ Dublin    ┆ Grass   ┆ 32        ┆ … ┆ null      ┆ null      ┆ null      ┆ Dublin_19 │\n",
       "│            ┆           ┆         ┆           ┆   ┆           ┆           ┆           ┆ 68        │\n",
       "│ 1968-2029  ┆ Dublin    ┆ Grass   ┆ 32        ┆ … ┆ null      ┆ null      ┆ null      ┆ Dublin_19 │\n",
       "│            ┆           ┆         ┆           ┆   ┆           ┆           ┆           ┆ 68        │\n",
       "│ …          ┆ …         ┆ …       ┆ …         ┆ … ┆ …         ┆ …         ┆ …         ┆ …         │\n",
       "│ 2024-M-DC- ┆ Davis Cup ┆ Clay    ┆ 4         ┆ … ┆ 8         ┆ 740       ┆ 34        ┆ Davis Cup │\n",
       "│ 2024-WG2-P ┆ WG2 PO:   ┆         ┆           ┆   ┆           ┆           ┆           ┆ WG2 PO:   │\n",
       "│ O-URU-MDA- ┆ URU vs    ┆         ┆           ┆   ┆           ┆           ┆           ┆ URU vs    │\n",
       "│ …          ┆ MDA       ┆         ┆           ┆   ┆           ┆           ┆           ┆ MDA_2…    │\n",
       "│ 2024-M-DC- ┆ Davis Cup ┆ Hard    ┆ 4         ┆ … ┆ 67        ┆ 748       ┆ 32        ┆ Davis Cup │\n",
       "│ 2024-WG2-P ┆ WG2 PO:   ┆         ┆           ┆   ┆           ┆           ┆           ┆ WG2 PO:   │\n",
       "│ O-VIE-RSA- ┆ VIE vs    ┆         ┆           ┆   ┆           ┆           ┆           ┆ VIE vs    │\n",
       "│ …          ┆ RSA       ┆         ┆           ┆   ┆           ┆           ┆           ┆ RSA_2…    │\n",
       "│ 2024-M-DC- ┆ Davis Cup ┆ Hard    ┆ 4         ┆ … ┆ 109       ┆ null      ┆ null      ┆ Davis Cup │\n",
       "│ 2024-WG2-P ┆ WG2 PO:   ┆         ┆           ┆   ┆           ┆           ┆           ┆ WG2 PO:   │\n",
       "│ O-VIE-RSA- ┆ VIE vs    ┆         ┆           ┆   ┆           ┆           ┆           ┆ VIE vs    │\n",
       "│ …          ┆ RSA       ┆         ┆           ┆   ┆           ┆           ┆           ┆ RSA_2…    │\n",
       "│ 2024-M-DC- ┆ Davis Cup ┆ Hard    ┆ 4         ┆ … ┆ 67        ┆ 416       ┆ 109       ┆ Davis Cup │\n",
       "│ 2024-WG2-P ┆ WG2 PO:   ┆         ┆           ┆   ┆           ┆           ┆           ┆ WG2 PO:   │\n",
       "│ O-VIE-RSA- ┆ VIE vs    ┆         ┆           ┆   ┆           ┆           ┆           ┆ VIE vs    │\n",
       "│ …          ┆ RSA       ┆         ┆           ┆   ┆           ┆           ┆           ┆ RSA_2…    │\n",
       "│ 2024-M-DC- ┆ Davis Cup ┆ Hard    ┆ 4         ┆ … ┆ 32        ┆ null      ┆ null      ┆ Davis Cup │\n",
       "│ 2024-WG2-P ┆ WG2 PO:   ┆         ┆           ┆   ┆           ┆           ┆           ┆ WG2 PO:   │\n",
       "│ O-VIE-RSA- ┆ VIE vs    ┆         ┆           ┆   ┆           ┆           ┆           ┆ VIE vs    │\n",
       "│ …          ┆ RSA       ┆         ┆           ┆   ┆           ┆           ┆           ┆ RSA_2…    │\n",
       "└────────────┴───────────┴─────────┴───────────┴───┴───────────┴───────────┴───────────┴───────────┘"
      ]
     },
     "execution_count": 10,
     "metadata": {},
     "output_type": "execute_result"
    }
   ],
   "source": [
    "matches_singles_atp=import_tennis_matches(data_type=\"singles\",gender=\"atp\")\n",
    "\n",
    "matches_singles_atp = matches_singles_atp.with_columns(\n",
    "    (pl.col(\"tourney_name\") + \"_\" + pl.col(\"tourney_date\").dt.year().cast(pl.Utf8)).alias(\"tourney_name_date\")\n",
    ")\n",
    "matches_singles_atp"
   ]
  },
  {
   "cell_type": "code",
   "execution_count": 11,
   "metadata": {},
   "outputs": [
    {
     "data": {
      "text/html": [
       "<div><style>\n",
       ".dataframe > thead > tr,\n",
       ".dataframe > tbody > tr {\n",
       "  text-align: right;\n",
       "  white-space: pre-wrap;\n",
       "}\n",
       "</style>\n",
       "<small>shape: (8_316, 6)</small><table border=\"1\" class=\"dataframe\"><thead><tr><th>tourney_name</th><th>surface</th><th>draw_size</th><th>tourney_level</th><th>tourney_date</th><th>tourney_name_date</th></tr><tr><td>str</td><td>str</td><td>i64</td><td>str</td><td>date</td><td>str</td></tr></thead><tbody><tr><td>&quot;Davis Cup G1 PO: POR vs ROU&quot;</td><td>&quot;Clay&quot;</td><td>4</td><td>&quot;D&quot;</td><td>1995-09-22</td><td>&quot;Davis Cup G1 PO: POR vs ROU_19…</td></tr><tr><td>&quot;Davis Cup EUR PR: ISR vs FIN&quot;</td><td>&quot;Hard&quot;</td><td>4</td><td>&quot;D&quot;</td><td>1977-09-16</td><td>&quot;Davis Cup EUR PR: ISR vs FIN_1…</td></tr><tr><td>&quot;Munich&quot;</td><td>&quot;Clay&quot;</td><td>32</td><td>&quot;A&quot;</td><td>1995-05-01</td><td>&quot;Munich_1995&quot;</td></tr><tr><td>&quot;Davis Cup WG R1: SUI vs USA&quot;</td><td>&quot;Hard&quot;</td><td>4</td><td>&quot;D&quot;</td><td>2017-02-03</td><td>&quot;Davis Cup WG R1: SUI vs USA_20…</td></tr><tr><td>&quot;Davis Cup G1 QF: CRO vs AUT&quot;</td><td>&quot;Carpet&quot;</td><td>4</td><td>&quot;D&quot;</td><td>2001-04-06</td><td>&quot;Davis Cup G1 QF: CRO vs AUT_20…</td></tr><tr><td>&hellip;</td><td>&hellip;</td><td>&hellip;</td><td>&hellip;</td><td>&hellip;</td><td>&hellip;</td></tr><tr><td>&quot;Los Angeles&quot;</td><td>&quot;Hard&quot;</td><td>28</td><td>&quot;A&quot;</td><td>2011-07-25</td><td>&quot;Los Angeles_2011&quot;</td></tr><tr><td>&quot;Indian Wells Masters&quot;</td><td>&quot;Hard&quot;</td><td>128</td><td>&quot;M&quot;</td><td>2017-03-06</td><td>&quot;Indian Wells Masters_2017&quot;</td></tr><tr><td>&quot;Tokyo&quot;</td><td>&quot;Hard&quot;</td><td>32</td><td>&quot;A&quot;</td><td>2018-10-01</td><td>&quot;Tokyo_2018&quot;</td></tr><tr><td>&quot;Houston&quot;</td><td>&quot;Clay&quot;</td><td>28</td><td>&quot;A&quot;</td><td>2011-04-04</td><td>&quot;Houston_2011&quot;</td></tr><tr><td>&quot;Davis Cup AFR QF: ALG vs CIV&quot;</td><td>&quot;Clay&quot;</td><td>4</td><td>&quot;D&quot;</td><td>1986-03-07</td><td>&quot;Davis Cup AFR QF: ALG vs CIV_1…</td></tr></tbody></table></div>"
      ],
      "text/plain": [
       "shape: (8_316, 6)\n",
       "┌──────────────────────┬─────────┬───────────┬───────────────┬──────────────┬──────────────────────┐\n",
       "│ tourney_name         ┆ surface ┆ draw_size ┆ tourney_level ┆ tourney_date ┆ tourney_name_date    │\n",
       "│ ---                  ┆ ---     ┆ ---       ┆ ---           ┆ ---          ┆ ---                  │\n",
       "│ str                  ┆ str     ┆ i64       ┆ str           ┆ date         ┆ str                  │\n",
       "╞══════════════════════╪═════════╪═══════════╪═══════════════╪══════════════╪══════════════════════╡\n",
       "│ Davis Cup G1 PO: POR ┆ Clay    ┆ 4         ┆ D             ┆ 1995-09-22   ┆ Davis Cup G1 PO: POR │\n",
       "│ vs ROU               ┆         ┆           ┆               ┆              ┆ vs ROU_19…           │\n",
       "│ Davis Cup EUR PR:    ┆ Hard    ┆ 4         ┆ D             ┆ 1977-09-16   ┆ Davis Cup EUR PR:    │\n",
       "│ ISR vs FIN           ┆         ┆           ┆               ┆              ┆ ISR vs FIN_1…        │\n",
       "│ Munich               ┆ Clay    ┆ 32        ┆ A             ┆ 1995-05-01   ┆ Munich_1995          │\n",
       "│ Davis Cup WG R1: SUI ┆ Hard    ┆ 4         ┆ D             ┆ 2017-02-03   ┆ Davis Cup WG R1: SUI │\n",
       "│ vs USA               ┆         ┆           ┆               ┆              ┆ vs USA_20…           │\n",
       "│ Davis Cup G1 QF: CRO ┆ Carpet  ┆ 4         ┆ D             ┆ 2001-04-06   ┆ Davis Cup G1 QF: CRO │\n",
       "│ vs AUT               ┆         ┆           ┆               ┆              ┆ vs AUT_20…           │\n",
       "│ …                    ┆ …       ┆ …         ┆ …             ┆ …            ┆ …                    │\n",
       "│ Los Angeles          ┆ Hard    ┆ 28        ┆ A             ┆ 2011-07-25   ┆ Los Angeles_2011     │\n",
       "│ Indian Wells Masters ┆ Hard    ┆ 128       ┆ M             ┆ 2017-03-06   ┆ Indian Wells         │\n",
       "│                      ┆         ┆           ┆               ┆              ┆ Masters_2017         │\n",
       "│ Tokyo                ┆ Hard    ┆ 32        ┆ A             ┆ 2018-10-01   ┆ Tokyo_2018           │\n",
       "│ Houston              ┆ Clay    ┆ 28        ┆ A             ┆ 2011-04-04   ┆ Houston_2011         │\n",
       "│ Davis Cup AFR QF:    ┆ Clay    ┆ 4         ┆ D             ┆ 1986-03-07   ┆ Davis Cup AFR QF:    │\n",
       "│ ALG vs CIV           ┆         ┆           ┆               ┆              ┆ ALG vs CIV_1…        │\n",
       "└──────────────────────┴─────────┴───────────┴───────────────┴──────────────┴──────────────────────┘"
      ]
     },
     "execution_count": 11,
     "metadata": {},
     "output_type": "execute_result"
    }
   ],
   "source": [
    "tourney_single_matches_atp=matches_singles_atp[['tourney_name', 'surface', 'draw_size', 'tourney_level', 'tourney_date', 'tourney_name_date']]\n",
    "tourney_single_matches_atp=tourney_single_matches_atp.unique('tourney_name_date')\n",
    "tourney_single_matches_atp"
   ]
  },
  {
   "cell_type": "code",
   "execution_count": 12,
   "metadata": {},
   "outputs": [
    {
     "data": {
      "text/html": [
       "<div><style>\n",
       ".dataframe > thead > tr,\n",
       ".dataframe > tbody > tr {\n",
       "  text-align: right;\n",
       "  white-space: pre-wrap;\n",
       "}\n",
       "</style>\n",
       "<small>shape: (158_092, 50)</small><table border=\"1\" class=\"dataframe\"><thead><tr><th>tourney_id</th><th>tourney_name</th><th>surface</th><th>draw_size</th><th>tourney_level</th><th>tourney_date</th><th>match_num</th><th>winner_id</th><th>winner_seed</th><th>winner_entry</th><th>winner_name</th><th>winner_hand</th><th>winner_ht</th><th>winner_ioc</th><th>winner_age</th><th>loser_id</th><th>loser_seed</th><th>loser_entry</th><th>loser_name</th><th>loser_hand</th><th>loser_ht</th><th>loser_ioc</th><th>loser_age</th><th>score</th><th>best_of</th><th>round</th><th>minutes</th><th>w_ace</th><th>w_df</th><th>w_svpt</th><th>w_1stIn</th><th>w_1stWon</th><th>w_2ndWon</th><th>w_SvGms</th><th>w_bpSaved</th><th>w_bpFaced</th><th>l_ace</th><th>l_df</th><th>l_svpt</th><th>l_1stIn</th><th>l_1stWon</th><th>l_2ndWon</th><th>l_SvGms</th><th>l_bpSaved</th><th>l_bpFaced</th><th>winner_rank</th><th>winner_rank_points</th><th>loser_rank</th><th>loser_rank_points</th><th>tourney_name_date</th></tr><tr><td>str</td><td>str</td><td>str</td><td>str</td><td>str</td><td>date</td><td>i64</td><td>str</td><td>str</td><td>str</td><td>str</td><td>str</td><td>i64</td><td>str</td><td>f64</td><td>str</td><td>str</td><td>str</td><td>str</td><td>str</td><td>i64</td><td>str</td><td>f64</td><td>str</td><td>i64</td><td>str</td><td>str</td><td>str</td><td>str</td><td>str</td><td>str</td><td>str</td><td>str</td><td>str</td><td>str</td><td>str</td><td>str</td><td>str</td><td>str</td><td>str</td><td>str</td><td>str</td><td>str</td><td>str</td><td>str</td><td>str</td><td>str</td><td>str</td><td>str</td><td>str</td></tr></thead><tbody><tr><td>&quot;1968-W-OL-MEX-01A-1968&quot;</td><td>&quot;Guadalajara Olympics Demo&quot;</td><td>&quot;Clay&quot;</td><td>&quot;13&quot;</td><td>&quot;O&quot;</td><td>1968-10-14</td><td>1</td><td>&quot;200781&quot;</td><td>null</td><td>null</td><td>&quot;Edda Buding&quot;</td><td>&quot;R&quot;</td><td>null</td><td>&quot;FRG&quot;</td><td>31.9</td><td>&quot;200795&quot;</td><td>null</td><td>null</td><td>&quot;Patricia Montano&quot;</td><td>&quot;U&quot;</td><td>null</td><td>&quot;MEX&quot;</td><td>16.1</td><td>&quot;7-5 2-6 6-4&quot;</td><td>3</td><td>&quot;R16&quot;</td><td>null</td><td>null</td><td>null</td><td>null</td><td>null</td><td>null</td><td>null</td><td>null</td><td>null</td><td>null</td><td>null</td><td>null</td><td>null</td><td>null</td><td>null</td><td>null</td><td>null</td><td>null</td><td>null</td><td>null</td><td>null</td><td>null</td><td>null</td><td>&quot;Guadalajara Olympics Demo_1968&quot;</td></tr><tr><td>&quot;1968-W-OL-MEX-01A-1968&quot;</td><td>&quot;Guadalajara Olympics Demo&quot;</td><td>&quot;Clay&quot;</td><td>&quot;13&quot;</td><td>&quot;O&quot;</td><td>1968-10-14</td><td>2</td><td>&quot;202512&quot;</td><td>null</td><td>null</td><td>&quot;Lucia Gongora&quot;</td><td>&quot;U&quot;</td><td>null</td><td>&quot;MEX&quot;</td><td>21.9</td><td>&quot;200862&quot;</td><td>null</td><td>null</td><td>&quot;Valerie Ziegenfuss&quot;</td><td>&quot;R&quot;</td><td>173</td><td>&quot;USA&quot;</td><td>19.2</td><td>&quot;6-1 6-2&quot;</td><td>3</td><td>&quot;R16&quot;</td><td>null</td><td>null</td><td>null</td><td>null</td><td>null</td><td>null</td><td>null</td><td>null</td><td>null</td><td>null</td><td>null</td><td>null</td><td>null</td><td>null</td><td>null</td><td>null</td><td>null</td><td>null</td><td>null</td><td>null</td><td>null</td><td>null</td><td>null</td><td>&quot;Guadalajara Olympics Demo_1968&quot;</td></tr><tr><td>&quot;1968-W-OL-MEX-01A-1968&quot;</td><td>&quot;Guadalajara Olympics Demo&quot;</td><td>&quot;Clay&quot;</td><td>&quot;13&quot;</td><td>&quot;O&quot;</td><td>1968-10-14</td><td>3</td><td>&quot;200869&quot;</td><td>null</td><td>null</td><td>&quot;Maria Eugenia Guzman&quot;</td><td>&quot;U&quot;</td><td>null</td><td>&quot;ECU&quot;</td><td>23.0</td><td>&quot;200863&quot;</td><td>null</td><td>null</td><td>&quot;Zaiga Yansone&quot;</td><td>&quot;U&quot;</td><td>null</td><td>&quot;URS&quot;</td><td>17.7</td><td>&quot;6-2 6-2&quot;</td><td>3</td><td>&quot;R16&quot;</td><td>null</td><td>null</td><td>null</td><td>null</td><td>null</td><td>null</td><td>null</td><td>null</td><td>null</td><td>null</td><td>null</td><td>null</td><td>null</td><td>null</td><td>null</td><td>null</td><td>null</td><td>null</td><td>null</td><td>null</td><td>null</td><td>null</td><td>null</td><td>&quot;Guadalajara Olympics Demo_1968&quot;</td></tr><tr><td>&quot;1968-W-OL-MEX-01A-1968&quot;</td><td>&quot;Guadalajara Olympics Demo&quot;</td><td>&quot;Clay&quot;</td><td>&quot;13&quot;</td><td>&quot;O&quot;</td><td>1968-10-14</td><td>4</td><td>&quot;200274&quot;</td><td>null</td><td>null</td><td>&quot;Julie Heldman&quot;</td><td>&quot;R&quot;</td><td>170</td><td>&quot;USA&quot;</td><td>22.8</td><td>&quot;200834&quot;</td><td>null</td><td>null</td><td>&quot;Suzana Gesteira&quot;</td><td>&quot;U&quot;</td><td>null</td><td>&quot;BRA&quot;</td><td>21.0</td><td>&quot;6-1 6-2&quot;</td><td>3</td><td>&quot;R16&quot;</td><td>null</td><td>null</td><td>null</td><td>null</td><td>null</td><td>null</td><td>null</td><td>null</td><td>null</td><td>null</td><td>null</td><td>null</td><td>null</td><td>null</td><td>null</td><td>null</td><td>null</td><td>null</td><td>null</td><td>null</td><td>null</td><td>null</td><td>null</td><td>&quot;Guadalajara Olympics Demo_1968&quot;</td></tr><tr><td>&quot;1968-W-OL-MEX-01A-1968&quot;</td><td>&quot;Guadalajara Olympics Demo&quot;</td><td>&quot;Clay&quot;</td><td>&quot;13&quot;</td><td>&quot;O&quot;</td><td>1968-10-14</td><td>5</td><td>&quot;200791&quot;</td><td>null</td><td>null</td><td>&quot;Rosie Reyes&quot;</td><td>&quot;R&quot;</td><td>null</td><td>&quot;FRA&quot;</td><td>29.5</td><td>&quot;202513&quot;</td><td>null</td><td>null</td><td>&quot;Ana Maria Ycaza&quot;</td><td>&quot;U&quot;</td><td>null</td><td>&quot;ECU&quot;</td><td>17.4</td><td>&quot;6-1 6-1&quot;</td><td>3</td><td>&quot;R16&quot;</td><td>null</td><td>null</td><td>null</td><td>null</td><td>null</td><td>null</td><td>null</td><td>null</td><td>null</td><td>null</td><td>null</td><td>null</td><td>null</td><td>null</td><td>null</td><td>null</td><td>null</td><td>null</td><td>null</td><td>null</td><td>null</td><td>null</td><td>null</td><td>&quot;Guadalajara Olympics Demo_1968&quot;</td></tr><tr><td>&hellip;</td><td>&hellip;</td><td>&hellip;</td><td>&hellip;</td><td>&hellip;</td><td>&hellip;</td><td>&hellip;</td><td>&hellip;</td><td>&hellip;</td><td>&hellip;</td><td>&hellip;</td><td>&hellip;</td><td>&hellip;</td><td>&hellip;</td><td>&hellip;</td><td>&hellip;</td><td>&hellip;</td><td>&hellip;</td><td>&hellip;</td><td>&hellip;</td><td>&hellip;</td><td>&hellip;</td><td>&hellip;</td><td>&hellip;</td><td>&hellip;</td><td>&hellip;</td><td>&hellip;</td><td>&hellip;</td><td>&hellip;</td><td>&hellip;</td><td>&hellip;</td><td>&hellip;</td><td>&hellip;</td><td>&hellip;</td><td>&hellip;</td><td>&hellip;</td><td>&hellip;</td><td>&hellip;</td><td>&hellip;</td><td>&hellip;</td><td>&hellip;</td><td>&hellip;</td><td>&hellip;</td><td>&hellip;</td><td>&hellip;</td><td>&hellip;</td><td>&hellip;</td><td>&hellip;</td><td>&hellip;</td><td>&hellip;</td></tr><tr><td>&quot;2024-W-FC-2024-POS&quot;</td><td>&quot;BJK Cup Playoffs&quot;</td><td>null</td><td>&quot;16&quot;</td><td>&quot;D&quot;</td><td>2024-11-15</td><td>226</td><td>&quot;201709&quot;</td><td>null</td><td>null</td><td>&quot;Yulia Putintseva&quot;</td><td>&quot;R&quot;</td><td>163</td><td>&quot;KAZ&quot;</td><td>29.8</td><td>&quot;220454&quot;</td><td>null</td><td>null</td><td>&quot;Yeon Woo Ku&quot;</td><td>&quot;U&quot;</td><td>null</td><td>&quot;KOR&quot;</td><td>21.6</td><td>&quot;6-4 7-5&quot;</td><td>3</td><td>&quot;RR&quot;</td><td>null</td><td>null</td><td>null</td><td>null</td><td>null</td><td>null</td><td>null</td><td>null</td><td>null</td><td>null</td><td>null</td><td>null</td><td>null</td><td>null</td><td>null</td><td>null</td><td>null</td><td>null</td><td>null</td><td>&quot;29&quot;</td><td>&quot;1844&quot;</td><td>&quot;418&quot;</td><td>&quot;141&quot;</td><td>&quot;BJK Cup Playoffs_2024&quot;</td></tr><tr><td>&quot;2024-W-FC-2024-POS&quot;</td><td>&quot;BJK Cup Playoffs&quot;</td><td>null</td><td>&quot;16&quot;</td><td>&quot;D&quot;</td><td>2024-11-15</td><td>227</td><td>&quot;215785&quot;</td><td>null</td><td>null</td><td>&quot;Camila Osorio&quot;</td><td>&quot;R&quot;</td><td>162</td><td>&quot;COL&quot;</td><td>22.8</td><td>&quot;219875&quot;</td><td>null</td><td>null</td><td>&quot;Varvara Gracheva&quot;</td><td>&quot;R&quot;</td><td>null</td><td>&quot;FRA&quot;</td><td>24.2</td><td>&quot;6-2 7-5&quot;</td><td>3</td><td>&quot;RR&quot;</td><td>null</td><td>null</td><td>null</td><td>null</td><td>null</td><td>null</td><td>null</td><td>null</td><td>null</td><td>null</td><td>null</td><td>null</td><td>null</td><td>null</td><td>null</td><td>null</td><td>null</td><td>null</td><td>null</td><td>&quot;63&quot;</td><td>&quot;989&quot;</td><td>&quot;66&quot;</td><td>&quot;949&quot;</td><td>&quot;BJK Cup Playoffs_2024&quot;</td></tr><tr><td>&quot;2024-W-FC-2024-POS&quot;</td><td>&quot;BJK Cup Playoffs&quot;</td><td>null</td><td>&quot;16&quot;</td><td>&quot;D&quot;</td><td>2024-11-15</td><td>228</td><td>&quot;221257&quot;</td><td>null</td><td>null</td><td>&quot;Sinja Kraus&quot;</td><td>&quot;R&quot;</td><td>null</td><td>&quot;AUT&quot;</td><td>22.5</td><td>&quot;201615&quot;</td><td>null</td><td>null</td><td>&quot;Lesia Tsurenko&quot;</td><td>&quot;R&quot;</td><td>174</td><td>&quot;UKR&quot;</td><td>35.4</td><td>&quot;6-1 6-1&quot;</td><td>3</td><td>&quot;RR&quot;</td><td>null</td><td>null</td><td>null</td><td>null</td><td>null</td><td>null</td><td>null</td><td>null</td><td>null</td><td>null</td><td>null</td><td>null</td><td>null</td><td>null</td><td>null</td><td>null</td><td>null</td><td>null</td><td>null</td><td>&quot;222&quot;</td><td>&quot;327&quot;</td><td>&quot;118&quot;</td><td>&quot;648&quot;</td><td>&quot;BJK Cup Playoffs_2024&quot;</td></tr><tr><td>&quot;2024-W-FC-2024-POS&quot;</td><td>&quot;BJK Cup Playoffs&quot;</td><td>null</td><td>&quot;16&quot;</td><td>&quot;D&quot;</td><td>2024-11-15</td><td>229</td><td>&quot;216262&quot;</td><td>null</td><td>null</td><td>&quot;Clara Burel&quot;</td><td>&quot;R&quot;</td><td>176</td><td>&quot;FRA&quot;</td><td>23.6</td><td>&quot;215306&quot;</td><td>null</td><td>null</td><td>&quot;Emiliana Arango&quot;</td><td>&quot;R&quot;</td><td>null</td><td>&quot;COL&quot;</td><td>23.9</td><td>&quot;7-5 6-4&quot;</td><td>3</td><td>&quot;RR&quot;</td><td>null</td><td>null</td><td>null</td><td>null</td><td>null</td><td>null</td><td>null</td><td>null</td><td>null</td><td>null</td><td>null</td><td>null</td><td>null</td><td>null</td><td>null</td><td>null</td><td>null</td><td>null</td><td>null</td><td>&quot;74&quot;</td><td>&quot;900&quot;</td><td>&quot;180&quot;</td><td>&quot;394&quot;</td><td>&quot;BJK Cup Playoffs_2024&quot;</td></tr><tr><td>&quot;2024-W-FC-2024-POS&quot;</td><td>&quot;BJK Cup Playoffs&quot;</td><td>null</td><td>&quot;16&quot;</td><td>&quot;D&quot;</td><td>2024-11-15</td><td>230</td><td>&quot;215290&quot;</td><td>null</td><td>null</td><td>&quot;Katarina Zavatska&quot;</td><td>&quot;R&quot;</td><td>173</td><td>&quot;UKR&quot;</td><td>24.7</td><td>&quot;211814&quot;</td><td>null</td><td>null</td><td>&quot;Julia Grabher&quot;</td><td>&quot;R&quot;</td><td>170</td><td>&quot;AUT&quot;</td><td>28.3</td><td>&quot;6-2 7-5&quot;</td><td>3</td><td>&quot;RR&quot;</td><td>null</td><td>null</td><td>null</td><td>null</td><td>null</td><td>null</td><td>null</td><td>null</td><td>null</td><td>null</td><td>null</td><td>null</td><td>null</td><td>null</td><td>null</td><td>null</td><td>null</td><td>null</td><td>null</td><td>&quot;229&quot;</td><td>&quot;315&quot;</td><td>&quot;523&quot;</td><td>&quot;93&quot;</td><td>&quot;BJK Cup Playoffs_2024&quot;</td></tr></tbody></table></div>"
      ],
      "text/plain": [
       "shape: (158_092, 50)\n",
       "┌────────────┬───────────┬─────────┬───────────┬───┬───────────┬───────────┬───────────┬───────────┐\n",
       "│ tourney_id ┆ tourney_n ┆ surface ┆ draw_size ┆ … ┆ winner_ra ┆ loser_ran ┆ loser_ran ┆ tourney_n │\n",
       "│ ---        ┆ ame       ┆ ---     ┆ ---       ┆   ┆ nk_points ┆ k         ┆ k_points  ┆ ame_date  │\n",
       "│ str        ┆ ---       ┆ str     ┆ str       ┆   ┆ ---       ┆ ---       ┆ ---       ┆ ---       │\n",
       "│            ┆ str       ┆         ┆           ┆   ┆ str       ┆ str       ┆ str       ┆ str       │\n",
       "╞════════════╪═══════════╪═════════╪═══════════╪═══╪═══════════╪═══════════╪═══════════╪═══════════╡\n",
       "│ 1968-W-OL- ┆ Guadalaja ┆ Clay    ┆ 13        ┆ … ┆ null      ┆ null      ┆ null      ┆ Guadalaja │\n",
       "│ MEX-01A-19 ┆ ra        ┆         ┆           ┆   ┆           ┆           ┆           ┆ ra        │\n",
       "│ 68         ┆ Olympics  ┆         ┆           ┆   ┆           ┆           ┆           ┆ Olympics  │\n",
       "│            ┆ Demo      ┆         ┆           ┆   ┆           ┆           ┆           ┆ Demo_1968 │\n",
       "│ 1968-W-OL- ┆ Guadalaja ┆ Clay    ┆ 13        ┆ … ┆ null      ┆ null      ┆ null      ┆ Guadalaja │\n",
       "│ MEX-01A-19 ┆ ra        ┆         ┆           ┆   ┆           ┆           ┆           ┆ ra        │\n",
       "│ 68         ┆ Olympics  ┆         ┆           ┆   ┆           ┆           ┆           ┆ Olympics  │\n",
       "│            ┆ Demo      ┆         ┆           ┆   ┆           ┆           ┆           ┆ Demo_1968 │\n",
       "│ 1968-W-OL- ┆ Guadalaja ┆ Clay    ┆ 13        ┆ … ┆ null      ┆ null      ┆ null      ┆ Guadalaja │\n",
       "│ MEX-01A-19 ┆ ra        ┆         ┆           ┆   ┆           ┆           ┆           ┆ ra        │\n",
       "│ 68         ┆ Olympics  ┆         ┆           ┆   ┆           ┆           ┆           ┆ Olympics  │\n",
       "│            ┆ Demo      ┆         ┆           ┆   ┆           ┆           ┆           ┆ Demo_1968 │\n",
       "│ 1968-W-OL- ┆ Guadalaja ┆ Clay    ┆ 13        ┆ … ┆ null      ┆ null      ┆ null      ┆ Guadalaja │\n",
       "│ MEX-01A-19 ┆ ra        ┆         ┆           ┆   ┆           ┆           ┆           ┆ ra        │\n",
       "│ 68         ┆ Olympics  ┆         ┆           ┆   ┆           ┆           ┆           ┆ Olympics  │\n",
       "│            ┆ Demo      ┆         ┆           ┆   ┆           ┆           ┆           ┆ Demo_1968 │\n",
       "│ 1968-W-OL- ┆ Guadalaja ┆ Clay    ┆ 13        ┆ … ┆ null      ┆ null      ┆ null      ┆ Guadalaja │\n",
       "│ MEX-01A-19 ┆ ra        ┆         ┆           ┆   ┆           ┆           ┆           ┆ ra        │\n",
       "│ 68         ┆ Olympics  ┆         ┆           ┆   ┆           ┆           ┆           ┆ Olympics  │\n",
       "│            ┆ Demo      ┆         ┆           ┆   ┆           ┆           ┆           ┆ Demo_1968 │\n",
       "│ …          ┆ …         ┆ …       ┆ …         ┆ … ┆ …         ┆ …         ┆ …         ┆ …         │\n",
       "│ 2024-W-FC- ┆ BJK Cup   ┆ null    ┆ 16        ┆ … ┆ 1844      ┆ 418       ┆ 141       ┆ BJK Cup   │\n",
       "│ 2024-POS   ┆ Playoffs  ┆         ┆           ┆   ┆           ┆           ┆           ┆ Playoffs_ │\n",
       "│            ┆           ┆         ┆           ┆   ┆           ┆           ┆           ┆ 2024      │\n",
       "│ 2024-W-FC- ┆ BJK Cup   ┆ null    ┆ 16        ┆ … ┆ 989       ┆ 66        ┆ 949       ┆ BJK Cup   │\n",
       "│ 2024-POS   ┆ Playoffs  ┆         ┆           ┆   ┆           ┆           ┆           ┆ Playoffs_ │\n",
       "│            ┆           ┆         ┆           ┆   ┆           ┆           ┆           ┆ 2024      │\n",
       "│ 2024-W-FC- ┆ BJK Cup   ┆ null    ┆ 16        ┆ … ┆ 327       ┆ 118       ┆ 648       ┆ BJK Cup   │\n",
       "│ 2024-POS   ┆ Playoffs  ┆         ┆           ┆   ┆           ┆           ┆           ┆ Playoffs_ │\n",
       "│            ┆           ┆         ┆           ┆   ┆           ┆           ┆           ┆ 2024      │\n",
       "│ 2024-W-FC- ┆ BJK Cup   ┆ null    ┆ 16        ┆ … ┆ 900       ┆ 180       ┆ 394       ┆ BJK Cup   │\n",
       "│ 2024-POS   ┆ Playoffs  ┆         ┆           ┆   ┆           ┆           ┆           ┆ Playoffs_ │\n",
       "│            ┆           ┆         ┆           ┆   ┆           ┆           ┆           ┆ 2024      │\n",
       "│ 2024-W-FC- ┆ BJK Cup   ┆ null    ┆ 16        ┆ … ┆ 315       ┆ 523       ┆ 93        ┆ BJK Cup   │\n",
       "│ 2024-POS   ┆ Playoffs  ┆         ┆           ┆   ┆           ┆           ┆           ┆ Playoffs_ │\n",
       "│            ┆           ┆         ┆           ┆   ┆           ┆           ┆           ┆ 2024      │\n",
       "└────────────┴───────────┴─────────┴───────────┴───┴───────────┴───────────┴───────────┴───────────┘"
      ]
     },
     "execution_count": 12,
     "metadata": {},
     "output_type": "execute_result"
    }
   ],
   "source": [
    "matches_singles_wta=import_tennis_matches(data_type=\"singles\",gender=\"wta\")\n",
    "\n",
    "matches_singles_wta = matches_singles_wta.with_columns(\n",
    "    (pl.col(\"tourney_name\") + \"_\" + pl.col(\"tourney_date\").dt.year().cast(pl.Utf8)).alias(\"tourney_name_date\")\n",
    ")\n",
    "matches_singles_wta"
   ]
  },
  {
   "cell_type": "code",
   "execution_count": 13,
   "metadata": {},
   "outputs": [
    {
     "data": {
      "text/html": [
       "<div><style>\n",
       ".dataframe > thead > tr,\n",
       ".dataframe > tbody > tr {\n",
       "  text-align: right;\n",
       "  white-space: pre-wrap;\n",
       "}\n",
       "</style>\n",
       "<small>shape: (10_238, 6)</small><table border=\"1\" class=\"dataframe\"><thead><tr><th>tourney_name</th><th>surface</th><th>draw_size</th><th>tourney_level</th><th>tourney_date</th><th>tourney_name_date</th></tr><tr><td>str</td><td>str</td><td>str</td><td>str</td><td>date</td><td>str</td></tr></thead><tbody><tr><td>&quot;Fed Cup G2 RR: INA vs PAK&quot;</td><td>&quot;Hard&quot;</td><td>&quot;2&quot;</td><td>&quot;D&quot;</td><td>2016-04-14</td><td>&quot;Fed Cup G2 RR: INA vs PAK_2016&quot;</td></tr><tr><td>&quot;Prague&quot;</td><td>&quot;Clay&quot;</td><td>&quot;32&quot;</td><td>&quot;I&quot;</td><td>2024-07-22</td><td>&quot;Prague_2024&quot;</td></tr><tr><td>&quot;Fed Cup G2 PO: ECU vs BOL&quot;</td><td>&quot;Clay&quot;</td><td>&quot;4&quot;</td><td>&quot;D&quot;</td><td>2000-05-12</td><td>&quot;Fed Cup G2 PO: ECU vs BOL_2000&quot;</td></tr><tr><td>&quot;Fed Cup G1 RRD: GBR vs ISR&quot;</td><td>&quot;Clay&quot;</td><td>&quot;4&quot;</td><td>&quot;D&quot;</td><td>2000-05-18</td><td>&quot;Fed Cup G1 RRD: GBR vs ISR_200…</td></tr><tr><td>&quot;Fed Cup G1 PO: ARG vs CAN&quot;</td><td>&quot;Clay&quot;</td><td>&quot;4&quot;</td><td>&quot;D&quot;</td><td>2000-04-30</td><td>&quot;Fed Cup G1 PO: ARG vs CAN_2000&quot;</td></tr><tr><td>&hellip;</td><td>&hellip;</td><td>&hellip;</td><td>&hellip;</td><td>&hellip;</td><td>&hellip;</td></tr><tr><td>&quot;San Diego&quot;</td><td>&quot;Hard&quot;</td><td>&quot;28&quot;</td><td>&quot;T2&quot;</td><td>2000-07-31</td><td>&quot;San Diego_2000&quot;</td></tr><tr><td>&quot;Paris&quot;</td><td>&quot;Carpet&quot;</td><td>&quot;30&quot;</td><td>&quot;P&quot;</td><td>2011-02-07</td><td>&quot;Paris_2011&quot;</td></tr><tr><td>&quot;Tokyo&quot;</td><td>&quot;Hard&quot;</td><td>&quot;32&quot;</td><td>&quot;P&quot;</td><td>2016-09-19</td><td>&quot;Tokyo_2016&quot;</td></tr><tr><td>&quot;Fed Cup G2 RR: INA vs BRN&quot;</td><td>&quot;Hard&quot;</td><td>&quot;2&quot;</td><td>&quot;D&quot;</td><td>2018-02-06</td><td>&quot;Fed Cup G2 RR: INA vs BRN_2018&quot;</td></tr><tr><td>&quot;Cincinnati&quot;</td><td>&quot;Hard&quot;</td><td>&quot;64&quot;</td><td>&quot;P&quot;</td><td>2019-08-12</td><td>&quot;Cincinnati_2019&quot;</td></tr></tbody></table></div>"
      ],
      "text/plain": [
       "shape: (10_238, 6)\n",
       "┌──────────────────────┬─────────┬───────────┬───────────────┬──────────────┬──────────────────────┐\n",
       "│ tourney_name         ┆ surface ┆ draw_size ┆ tourney_level ┆ tourney_date ┆ tourney_name_date    │\n",
       "│ ---                  ┆ ---     ┆ ---       ┆ ---           ┆ ---          ┆ ---                  │\n",
       "│ str                  ┆ str     ┆ str       ┆ str           ┆ date         ┆ str                  │\n",
       "╞══════════════════════╪═════════╪═══════════╪═══════════════╪══════════════╪══════════════════════╡\n",
       "│ Fed Cup G2 RR: INA   ┆ Hard    ┆ 2         ┆ D             ┆ 2016-04-14   ┆ Fed Cup G2 RR: INA   │\n",
       "│ vs PAK               ┆         ┆           ┆               ┆              ┆ vs PAK_2016          │\n",
       "│ Prague               ┆ Clay    ┆ 32        ┆ I             ┆ 2024-07-22   ┆ Prague_2024          │\n",
       "│ Fed Cup G2 PO: ECU   ┆ Clay    ┆ 4         ┆ D             ┆ 2000-05-12   ┆ Fed Cup G2 PO: ECU   │\n",
       "│ vs BOL               ┆         ┆           ┆               ┆              ┆ vs BOL_2000          │\n",
       "│ Fed Cup G1 RRD: GBR  ┆ Clay    ┆ 4         ┆ D             ┆ 2000-05-18   ┆ Fed Cup G1 RRD: GBR  │\n",
       "│ vs ISR               ┆         ┆           ┆               ┆              ┆ vs ISR_200…          │\n",
       "│ Fed Cup G1 PO: ARG   ┆ Clay    ┆ 4         ┆ D             ┆ 2000-04-30   ┆ Fed Cup G1 PO: ARG   │\n",
       "│ vs CAN               ┆         ┆           ┆               ┆              ┆ vs CAN_2000          │\n",
       "│ …                    ┆ …       ┆ …         ┆ …             ┆ …            ┆ …                    │\n",
       "│ San Diego            ┆ Hard    ┆ 28        ┆ T2            ┆ 2000-07-31   ┆ San Diego_2000       │\n",
       "│ Paris                ┆ Carpet  ┆ 30        ┆ P             ┆ 2011-02-07   ┆ Paris_2011           │\n",
       "│ Tokyo                ┆ Hard    ┆ 32        ┆ P             ┆ 2016-09-19   ┆ Tokyo_2016           │\n",
       "│ Fed Cup G2 RR: INA   ┆ Hard    ┆ 2         ┆ D             ┆ 2018-02-06   ┆ Fed Cup G2 RR: INA   │\n",
       "│ vs BRN               ┆         ┆           ┆               ┆              ┆ vs BRN_2018          │\n",
       "│ Cincinnati           ┆ Hard    ┆ 64        ┆ P             ┆ 2019-08-12   ┆ Cincinnati_2019      │\n",
       "└──────────────────────┴─────────┴───────────┴───────────────┴──────────────┴──────────────────────┘"
      ]
     },
     "execution_count": 13,
     "metadata": {},
     "output_type": "execute_result"
    }
   ],
   "source": [
    "tourney_single_matches_wta=matches_singles_wta[['tourney_name', 'surface', 'draw_size', 'tourney_level', 'tourney_date', 'tourney_name_date']]\n",
    "tourney_single_matches_wta=tourney_single_matches_wta.unique('tourney_name_date')\n",
    "tourney_single_matches_wta"
   ]
  },
  {
   "cell_type": "code",
   "execution_count": 14,
   "metadata": {},
   "outputs": [
    {
     "data": {
      "text/html": [
       "<div><style>\n",
       ".dataframe > thead > tr,\n",
       ".dataframe > tbody > tr {\n",
       "  text-align: right;\n",
       "  white-space: pre-wrap;\n",
       "}\n",
       "</style>\n",
       "<small>shape: (216_430, 50)</small><table border=\"1\" class=\"dataframe\"><thead><tr><th>tourney_id</th><th>tourney_name</th><th>surface</th><th>draw_size</th><th>tourney_level</th><th>tourney_date</th><th>match_num</th><th>winner_id</th><th>winner_seed</th><th>winner_entry</th><th>winner_name</th><th>winner_hand</th><th>winner_ht</th><th>winner_ioc</th><th>winner_age</th><th>loser_id</th><th>loser_seed</th><th>loser_entry</th><th>loser_name</th><th>loser_hand</th><th>loser_ht</th><th>loser_ioc</th><th>loser_age</th><th>score</th><th>best_of</th><th>round</th><th>minutes</th><th>w_ace</th><th>w_df</th><th>w_svpt</th><th>w_1stIn</th><th>w_1stWon</th><th>w_2ndWon</th><th>w_SvGms</th><th>w_bpSaved</th><th>w_bpFaced</th><th>l_ace</th><th>l_df</th><th>l_svpt</th><th>l_1stIn</th><th>l_1stWon</th><th>l_2ndWon</th><th>l_SvGms</th><th>l_bpSaved</th><th>l_bpFaced</th><th>winner_rank</th><th>winner_rank_points</th><th>loser_rank</th><th>loser_rank_points</th><th>tourney_name_date</th></tr><tr><td>str</td><td>str</td><td>str</td><td>i64</td><td>str</td><td>date</td><td>i64</td><td>str</td><td>str</td><td>str</td><td>str</td><td>str</td><td>i64</td><td>str</td><td>f64</td><td>str</td><td>str</td><td>str</td><td>str</td><td>str</td><td>i64</td><td>str</td><td>f64</td><td>str</td><td>i64</td><td>str</td><td>str</td><td>str</td><td>str</td><td>str</td><td>str</td><td>str</td><td>str</td><td>str</td><td>str</td><td>str</td><td>str</td><td>str</td><td>str</td><td>str</td><td>str</td><td>str</td><td>str</td><td>str</td><td>str</td><td>str</td><td>str</td><td>str</td><td>str</td><td>str</td></tr></thead><tbody><tr><td>&quot;1978-301&quot;</td><td>&quot;Auckland CH&quot;</td><td>&quot;Hard&quot;</td><td>32</td><td>&quot;C&quot;</td><td>1978-01-08</td><td>270</td><td>&quot;100373&quot;</td><td>null</td><td>null</td><td>&quot;Christopher Sylvan&quot;</td><td>&quot;R&quot;</td><td>null</td><td>&quot;USA&quot;</td><td>22.8</td><td>&quot;107618&quot;</td><td>null</td><td>null</td><td>&quot;Malcolm Elley&quot;</td><td>&quot;R&quot;</td><td>null</td><td>&quot;NZL&quot;</td><td>null</td><td>&quot;6-1 6-4&quot;</td><td>3</td><td>&quot;R32&quot;</td><td>null</td><td>null</td><td>null</td><td>null</td><td>null</td><td>null</td><td>null</td><td>null</td><td>null</td><td>null</td><td>null</td><td>null</td><td>null</td><td>null</td><td>null</td><td>null</td><td>null</td><td>null</td><td>null</td><td>&quot;232&quot;</td><td>null</td><td>null</td><td>null</td><td>&quot;Auckland CH_1978&quot;</td></tr><tr><td>&quot;1978-301&quot;</td><td>&quot;Auckland CH&quot;</td><td>&quot;Hard&quot;</td><td>32</td><td>&quot;C&quot;</td><td>1978-01-08</td><td>271</td><td>&quot;109807&quot;</td><td>null</td><td>null</td><td>&quot;Garry Slater&quot;</td><td>&quot;R&quot;</td><td>null</td><td>&quot;NZL&quot;</td><td>null</td><td>&quot;109808&quot;</td><td>null</td><td>null</td><td>&quot;Graham Oliver&quot;</td><td>&quot;U&quot;</td><td>null</td><td>&quot;NZL&quot;</td><td>null</td><td>&quot;6-4 6-4&quot;</td><td>3</td><td>&quot;R32&quot;</td><td>null</td><td>null</td><td>null</td><td>null</td><td>null</td><td>null</td><td>null</td><td>null</td><td>null</td><td>null</td><td>null</td><td>null</td><td>null</td><td>null</td><td>null</td><td>null</td><td>null</td><td>null</td><td>null</td><td>null</td><td>null</td><td>null</td><td>null</td><td>&quot;Auckland CH_1978&quot;</td></tr><tr><td>&quot;1978-301&quot;</td><td>&quot;Auckland CH&quot;</td><td>&quot;Hard&quot;</td><td>32</td><td>&quot;C&quot;</td><td>1978-01-08</td><td>272</td><td>&quot;109810&quot;</td><td>null</td><td>null</td><td>&quot;Dave Simmonds&quot;</td><td>&quot;U&quot;</td><td>null</td><td>&quot;NZL&quot;</td><td>null</td><td>&quot;208999&quot;</td><td>null</td><td>null</td><td>&quot;G Dingwell&quot;</td><td>&quot;U&quot;</td><td>null</td><td>&quot;UNK&quot;</td><td>null</td><td>&quot;6-2 6-3&quot;</td><td>3</td><td>&quot;R32&quot;</td><td>null</td><td>null</td><td>null</td><td>null</td><td>null</td><td>null</td><td>null</td><td>null</td><td>null</td><td>null</td><td>null</td><td>null</td><td>null</td><td>null</td><td>null</td><td>null</td><td>null</td><td>null</td><td>null</td><td>null</td><td>null</td><td>null</td><td>null</td><td>&quot;Auckland CH_1978&quot;</td></tr><tr><td>&quot;1978-301&quot;</td><td>&quot;Auckland CH&quot;</td><td>&quot;Hard&quot;</td><td>32</td><td>&quot;C&quot;</td><td>1978-01-08</td><td>273</td><td>&quot;100638&quot;</td><td>null</td><td>null</td><td>&quot;David Mustard&quot;</td><td>&quot;L&quot;</td><td>180</td><td>&quot;NZL&quot;</td><td>18.0</td><td>&quot;107985&quot;</td><td>null</td><td>null</td><td>&quot;Peter Langsford&quot;</td><td>&quot;R&quot;</td><td>null</td><td>&quot;AUS&quot;</td><td>23.6</td><td>&quot;7-5 7-5&quot;</td><td>3</td><td>&quot;R32&quot;</td><td>null</td><td>null</td><td>null</td><td>null</td><td>null</td><td>null</td><td>null</td><td>null</td><td>null</td><td>null</td><td>null</td><td>null</td><td>null</td><td>null</td><td>null</td><td>null</td><td>null</td><td>null</td><td>null</td><td>null</td><td>null</td><td>&quot;332&quot;</td><td>null</td><td>&quot;Auckland CH_1978&quot;</td></tr><tr><td>&quot;1978-301&quot;</td><td>&quot;Auckland CH&quot;</td><td>&quot;Hard&quot;</td><td>32</td><td>&quot;C&quot;</td><td>1978-01-08</td><td>274</td><td>&quot;107301&quot;</td><td>null</td><td>null</td><td>&quot;Jay Harvey&quot;</td><td>&quot;R&quot;</td><td>null</td><td>&quot;AUS&quot;</td><td>null</td><td>&quot;100316&quot;</td><td>null</td><td>null</td><td>&quot;Scott Carnahan&quot;</td><td>&quot;R&quot;</td><td>null</td><td>&quot;USA&quot;</td><td>24.2</td><td>&quot;6-4 6-4&quot;</td><td>3</td><td>&quot;R32&quot;</td><td>null</td><td>null</td><td>null</td><td>null</td><td>null</td><td>null</td><td>null</td><td>null</td><td>null</td><td>null</td><td>null</td><td>null</td><td>null</td><td>null</td><td>null</td><td>null</td><td>null</td><td>null</td><td>null</td><td>null</td><td>null</td><td>&quot;232&quot;</td><td>null</td><td>&quot;Auckland CH_1978&quot;</td></tr><tr><td>&hellip;</td><td>&hellip;</td><td>&hellip;</td><td>&hellip;</td><td>&hellip;</td><td>&hellip;</td><td>&hellip;</td><td>&hellip;</td><td>&hellip;</td><td>&hellip;</td><td>&hellip;</td><td>&hellip;</td><td>&hellip;</td><td>&hellip;</td><td>&hellip;</td><td>&hellip;</td><td>&hellip;</td><td>&hellip;</td><td>&hellip;</td><td>&hellip;</td><td>&hellip;</td><td>&hellip;</td><td>&hellip;</td><td>&hellip;</td><td>&hellip;</td><td>&hellip;</td><td>&hellip;</td><td>&hellip;</td><td>&hellip;</td><td>&hellip;</td><td>&hellip;</td><td>&hellip;</td><td>&hellip;</td><td>&hellip;</td><td>&hellip;</td><td>&hellip;</td><td>&hellip;</td><td>&hellip;</td><td>&hellip;</td><td>&hellip;</td><td>&hellip;</td><td>&hellip;</td><td>&hellip;</td><td>&hellip;</td><td>&hellip;</td><td>&hellip;</td><td>&hellip;</td><td>&hellip;</td><td>&hellip;</td><td>&hellip;</td></tr><tr><td>&quot;2024-2869&quot;</td><td>&quot;Skopje CH&quot;</td><td>&quot;Clay&quot;</td><td>32</td><td>&quot;C&quot;</td><td>2024-05-20</td><td>241</td><td>&quot;210053&quot;</td><td>&quot;8&quot;</td><td>null</td><td>&quot;Luka Mikrut&quot;</td><td>&quot;U&quot;</td><td>null</td><td>&quot;CRO&quot;</td><td>20.0</td><td>&quot;103872&quot;</td><td>null</td><td>&quot;WC&quot;</td><td>&quot;Dimitar Grabuloski&quot;</td><td>&quot;U&quot;</td><td>null</td><td>&quot;MKD&quot;</td><td>42.5</td><td>&quot;6-3 6-4&quot;</td><td>3</td><td>&quot;Q1&quot;</td><td>&quot;87&quot;</td><td>&quot;4&quot;</td><td>&quot;6&quot;</td><td>&quot;64&quot;</td><td>&quot;31&quot;</td><td>&quot;24&quot;</td><td>&quot;18&quot;</td><td>&quot;10&quot;</td><td>&quot;2&quot;</td><td>&quot;3&quot;</td><td>&quot;2&quot;</td><td>&quot;5&quot;</td><td>&quot;78&quot;</td><td>&quot;43&quot;</td><td>&quot;30&quot;</td><td>&quot;13&quot;</td><td>&quot;9&quot;</td><td>&quot;6&quot;</td><td>&quot;9&quot;</td><td>&quot;511&quot;</td><td>&quot;76&quot;</td><td>null</td><td>null</td><td>&quot;Skopje CH_2024&quot;</td></tr><tr><td>&quot;2024-2869&quot;</td><td>&quot;Skopje CH&quot;</td><td>&quot;Clay&quot;</td><td>32</td><td>&quot;C&quot;</td><td>2024-05-20</td><td>240</td><td>&quot;208843&quot;</td><td>&quot;5&quot;</td><td>null</td><td>&quot;Jerome Kym&quot;</td><td>&quot;R&quot;</td><td>198</td><td>&quot;SUI&quot;</td><td>21.2</td><td>&quot;210078&quot;</td><td>null</td><td>&quot;WC&quot;</td><td>&quot;Berk Bugarikj &quot;</td><td>&quot;U&quot;</td><td>null</td><td>&quot;MKD&quot;</td><td>20.8</td><td>&quot;7-5 6-0&quot;</td><td>3</td><td>&quot;Q1&quot;</td><td>&quot;77&quot;</td><td>&quot;5&quot;</td><td>&quot;0&quot;</td><td>&quot;44&quot;</td><td>&quot;29&quot;</td><td>&quot;25&quot;</td><td>&quot;9&quot;</td><td>&quot;9&quot;</td><td>&quot;1&quot;</td><td>&quot;2&quot;</td><td>&quot;0&quot;</td><td>&quot;3&quot;</td><td>&quot;60&quot;</td><td>&quot;41&quot;</td><td>&quot;21&quot;</td><td>&quot;8&quot;</td><td>&quot;9&quot;</td><td>&quot;2&quot;</td><td>&quot;7&quot;</td><td>&quot;470&quot;</td><td>&quot;92&quot;</td><td>null</td><td>null</td><td>&quot;Skopje CH_2024&quot;</td></tr><tr><td>&quot;2024-2869&quot;</td><td>&quot;Skopje CH&quot;</td><td>&quot;Clay&quot;</td><td>32</td><td>&quot;C&quot;</td><td>2024-05-20</td><td>239</td><td>&quot;207484&quot;</td><td>&quot;12&quot;</td><td>null</td><td>&quot;Neil Oberleitner&quot;</td><td>&quot;R&quot;</td><td>null</td><td>&quot;AUT&quot;</td><td>24.7</td><td>&quot;200574&quot;</td><td>null</td><td>&quot;Alt&quot;</td><td>&quot;Alexander Donski&quot;</td><td>&quot;R&quot;</td><td>188</td><td>&quot;CAN&quot;</td><td>25.8</td><td>&quot;6-4 6-3&quot;</td><td>3</td><td>&quot;Q1&quot;</td><td>&quot;82&quot;</td><td>&quot;5&quot;</td><td>&quot;5&quot;</td><td>&quot;54&quot;</td><td>&quot;33&quot;</td><td>&quot;27&quot;</td><td>&quot;13&quot;</td><td>&quot;9&quot;</td><td>&quot;2&quot;</td><td>&quot;2&quot;</td><td>&quot;4&quot;</td><td>&quot;6&quot;</td><td>&quot;72&quot;</td><td>&quot;34&quot;</td><td>&quot;26&quot;</td><td>&quot;15&quot;</td><td>&quot;10&quot;</td><td>&quot;3&quot;</td><td>&quot;6&quot;</td><td>&quot;636&quot;</td><td>&quot;53&quot;</td><td>&quot;955&quot;</td><td>&quot;15&quot;</td><td>&quot;Skopje CH_2024&quot;</td></tr><tr><td>&quot;2024-2869&quot;</td><td>&quot;Skopje CH&quot;</td><td>&quot;Clay&quot;</td><td>32</td><td>&quot;C&quot;</td><td>2024-05-20</td><td>238</td><td>&quot;144970&quot;</td><td>&quot;6&quot;</td><td>null</td><td>&quot;Constantin Bittoun Kouzmine&quot;</td><td>&quot;L&quot;</td><td>null</td><td>&quot;FRA&quot;</td><td>25.3</td><td>&quot;212200&quot;</td><td>null</td><td>&quot;WC&quot;</td><td>&quot;Amar Huseinovic&quot;</td><td>&quot;U&quot;</td><td>null</td><td>&quot;MKD&quot;</td><td>null</td><td>&quot;6-0 6-1&quot;</td><td>3</td><td>&quot;Q1&quot;</td><td>&quot;59&quot;</td><td>&quot;0&quot;</td><td>&quot;1&quot;</td><td>&quot;43&quot;</td><td>&quot;32&quot;</td><td>&quot;26&quot;</td><td>&quot;5&quot;</td><td>&quot;7&quot;</td><td>&quot;4&quot;</td><td>&quot;4&quot;</td><td>&quot;2&quot;</td><td>&quot;0&quot;</td><td>&quot;36&quot;</td><td>&quot;22&quot;</td><td>&quot;9&quot;</td><td>&quot;4&quot;</td><td>&quot;6&quot;</td><td>&quot;0&quot;</td><td>&quot;5&quot;</td><td>&quot;487&quot;</td><td>&quot;87&quot;</td><td>null</td><td>null</td><td>&quot;Skopje CH_2024&quot;</td></tr><tr><td>&quot;2024-2869&quot;</td><td>&quot;Skopje CH&quot;</td><td>&quot;Clay&quot;</td><td>32</td><td>&quot;C&quot;</td><td>2024-05-20</td><td>237</td><td>&quot;202342&quot;</td><td>null</td><td>null</td><td>&quot;Ryan Seggerman&quot;</td><td>&quot;U&quot;</td><td>null</td><td>&quot;USA&quot;</td><td>24.7</td><td>&quot;106254&quot;</td><td>null</td><td>&quot;Alt&quot;</td><td>&quot;Calum Puttergill&quot;</td><td>&quot;U&quot;</td><td>null</td><td>&quot;AUS&quot;</td><td>30.5</td><td>&quot;7-5 6-0&quot;</td><td>3</td><td>&quot;Q1&quot;</td><td>&quot;56&quot;</td><td>&quot;10&quot;</td><td>&quot;1&quot;</td><td>&quot;44&quot;</td><td>&quot;28&quot;</td><td>&quot;22&quot;</td><td>&quot;12&quot;</td><td>&quot;9&quot;</td><td>&quot;0&quot;</td><td>&quot;1&quot;</td><td>&quot;0&quot;</td><td>&quot;9&quot;</td><td>&quot;52&quot;</td><td>&quot;28&quot;</td><td>&quot;19&quot;</td><td>&quot;7&quot;</td><td>&quot;9&quot;</td><td>&quot;3&quot;</td><td>&quot;8&quot;</td><td>&quot;555&quot;</td><td>&quot;67&quot;</td><td>&quot;880&quot;</td><td>&quot;20&quot;</td><td>&quot;Skopje CH_2024&quot;</td></tr></tbody></table></div>"
      ],
      "text/plain": [
       "shape: (216_430, 50)\n",
       "┌────────────┬───────────┬─────────┬───────────┬───┬───────────┬───────────┬───────────┬───────────┐\n",
       "│ tourney_id ┆ tourney_n ┆ surface ┆ draw_size ┆ … ┆ winner_ra ┆ loser_ran ┆ loser_ran ┆ tourney_n │\n",
       "│ ---        ┆ ame       ┆ ---     ┆ ---       ┆   ┆ nk_points ┆ k         ┆ k_points  ┆ ame_date  │\n",
       "│ str        ┆ ---       ┆ str     ┆ i64       ┆   ┆ ---       ┆ ---       ┆ ---       ┆ ---       │\n",
       "│            ┆ str       ┆         ┆           ┆   ┆ str       ┆ str       ┆ str       ┆ str       │\n",
       "╞════════════╪═══════════╪═════════╪═══════════╪═══╪═══════════╪═══════════╪═══════════╪═══════════╡\n",
       "│ 1978-301   ┆ Auckland  ┆ Hard    ┆ 32        ┆ … ┆ null      ┆ null      ┆ null      ┆ Auckland  │\n",
       "│            ┆ CH        ┆         ┆           ┆   ┆           ┆           ┆           ┆ CH_1978   │\n",
       "│ 1978-301   ┆ Auckland  ┆ Hard    ┆ 32        ┆ … ┆ null      ┆ null      ┆ null      ┆ Auckland  │\n",
       "│            ┆ CH        ┆         ┆           ┆   ┆           ┆           ┆           ┆ CH_1978   │\n",
       "│ 1978-301   ┆ Auckland  ┆ Hard    ┆ 32        ┆ … ┆ null      ┆ null      ┆ null      ┆ Auckland  │\n",
       "│            ┆ CH        ┆         ┆           ┆   ┆           ┆           ┆           ┆ CH_1978   │\n",
       "│ 1978-301   ┆ Auckland  ┆ Hard    ┆ 32        ┆ … ┆ null      ┆ 332       ┆ null      ┆ Auckland  │\n",
       "│            ┆ CH        ┆         ┆           ┆   ┆           ┆           ┆           ┆ CH_1978   │\n",
       "│ 1978-301   ┆ Auckland  ┆ Hard    ┆ 32        ┆ … ┆ null      ┆ 232       ┆ null      ┆ Auckland  │\n",
       "│            ┆ CH        ┆         ┆           ┆   ┆           ┆           ┆           ┆ CH_1978   │\n",
       "│ …          ┆ …         ┆ …       ┆ …         ┆ … ┆ …         ┆ …         ┆ …         ┆ …         │\n",
       "│ 2024-2869  ┆ Skopje CH ┆ Clay    ┆ 32        ┆ … ┆ 76        ┆ null      ┆ null      ┆ Skopje    │\n",
       "│            ┆           ┆         ┆           ┆   ┆           ┆           ┆           ┆ CH_2024   │\n",
       "│ 2024-2869  ┆ Skopje CH ┆ Clay    ┆ 32        ┆ … ┆ 92        ┆ null      ┆ null      ┆ Skopje    │\n",
       "│            ┆           ┆         ┆           ┆   ┆           ┆           ┆           ┆ CH_2024   │\n",
       "│ 2024-2869  ┆ Skopje CH ┆ Clay    ┆ 32        ┆ … ┆ 53        ┆ 955       ┆ 15        ┆ Skopje    │\n",
       "│            ┆           ┆         ┆           ┆   ┆           ┆           ┆           ┆ CH_2024   │\n",
       "│ 2024-2869  ┆ Skopje CH ┆ Clay    ┆ 32        ┆ … ┆ 87        ┆ null      ┆ null      ┆ Skopje    │\n",
       "│            ┆           ┆         ┆           ┆   ┆           ┆           ┆           ┆ CH_2024   │\n",
       "│ 2024-2869  ┆ Skopje CH ┆ Clay    ┆ 32        ┆ … ┆ 67        ┆ 880       ┆ 20        ┆ Skopje    │\n",
       "│            ┆           ┆         ┆           ┆   ┆           ┆           ┆           ┆ CH_2024   │\n",
       "└────────────┴───────────┴─────────┴───────────┴───┴───────────┴───────────┴───────────┴───────────┘"
      ]
     },
     "execution_count": 14,
     "metadata": {},
     "output_type": "execute_result"
    }
   ],
   "source": [
    "matches_qualifiers_challengers=import_tennis_matches(data_type=\"qualifiers_challengers\",gender=\"atp\")\n",
    "\n",
    "matches_qualifiers_challengers = matches_qualifiers_challengers.with_columns(\n",
    "    (pl.col(\"tourney_name\") + \"_\" + pl.col(\"tourney_date\").dt.year().cast(pl.Utf8)).alias(\"tourney_name_date\")\n",
    ")\n",
    "matches_qualifiers_challengers\n"
   ]
  },
  {
   "cell_type": "code",
   "execution_count": 15,
   "metadata": {},
   "outputs": [
    {
     "data": {
      "text/html": [
       "<div><style>\n",
       ".dataframe > thead > tr,\n",
       ".dataframe > tbody > tr {\n",
       "  text-align: right;\n",
       "  white-space: pre-wrap;\n",
       "}\n",
       "</style>\n",
       "<small>shape: (6_191, 6)</small><table border=\"1\" class=\"dataframe\"><thead><tr><th>tourney_name</th><th>surface</th><th>draw_size</th><th>tourney_level</th><th>tourney_date</th><th>tourney_name_date</th></tr><tr><td>str</td><td>str</td><td>i64</td><td>str</td><td>date</td><td>str</td></tr></thead><tbody><tr><td>&quot;Istanbul CH&quot;</td><td>&quot;Hard&quot;</td><td>32</td><td>&quot;C&quot;</td><td>2000-07-24</td><td>&quot;Istanbul CH_2000&quot;</td></tr><tr><td>&quot;Vancouver CH&quot;</td><td>&quot;Hard&quot;</td><td>32</td><td>&quot;C&quot;</td><td>2011-08-01</td><td>&quot;Vancouver CH_2011&quot;</td></tr><tr><td>&quot;Nanjing CH&quot;</td><td>&quot;Clay&quot;</td><td>32</td><td>&quot;C&quot;</td><td>2016-04-18</td><td>&quot;Nanjing CH_2016&quot;</td></tr><tr><td>&quot;Washington&quot;</td><td>&quot;Hard&quot;</td><td>32</td><td>&quot;A&quot;</td><td>2012-07-30</td><td>&quot;Washington_2012&quot;</td></tr><tr><td>&quot;Florianopolis CH&quot;</td><td>&quot;Clay&quot;</td><td>32</td><td>&quot;C&quot;</td><td>2001-09-17</td><td>&quot;Florianopolis CH_2001&quot;</td></tr><tr><td>&hellip;</td><td>&hellip;</td><td>&hellip;</td><td>&hellip;</td><td>&hellip;</td><td>&hellip;</td></tr><tr><td>&quot;Stockholm&quot;</td><td>&quot;Hard&quot;</td><td>32</td><td>&quot;A&quot;</td><td>2019-10-14</td><td>&quot;Stockholm_2019&quot;</td></tr><tr><td>&quot;San Diego&quot;</td><td>&quot;Hard&quot;</td><td>32</td><td>&quot;A&quot;</td><td>2021-09-27</td><td>&quot;San Diego_2021&quot;</td></tr><tr><td>&quot;Venice CH&quot;</td><td>&quot;Clay&quot;</td><td>32</td><td>&quot;C&quot;</td><td>1999-06-28</td><td>&quot;Venice CH_1999&quot;</td></tr><tr><td>&quot;Newport&quot;</td><td>&quot;Grass&quot;</td><td>32</td><td>&quot;A&quot;</td><td>2009-07-06</td><td>&quot;Newport_2009&quot;</td></tr><tr><td>&quot;Valladolid CH&quot;</td><td>&quot;Hard&quot;</td><td>32</td><td>&quot;C&quot;</td><td>2003-07-21</td><td>&quot;Valladolid CH_2003&quot;</td></tr></tbody></table></div>"
      ],
      "text/plain": [
       "shape: (6_191, 6)\n",
       "┌──────────────────┬─────────┬───────────┬───────────────┬──────────────┬───────────────────────┐\n",
       "│ tourney_name     ┆ surface ┆ draw_size ┆ tourney_level ┆ tourney_date ┆ tourney_name_date     │\n",
       "│ ---              ┆ ---     ┆ ---       ┆ ---           ┆ ---          ┆ ---                   │\n",
       "│ str              ┆ str     ┆ i64       ┆ str           ┆ date         ┆ str                   │\n",
       "╞══════════════════╪═════════╪═══════════╪═══════════════╪══════════════╪═══════════════════════╡\n",
       "│ Istanbul CH      ┆ Hard    ┆ 32        ┆ C             ┆ 2000-07-24   ┆ Istanbul CH_2000      │\n",
       "│ Vancouver CH     ┆ Hard    ┆ 32        ┆ C             ┆ 2011-08-01   ┆ Vancouver CH_2011     │\n",
       "│ Nanjing CH       ┆ Clay    ┆ 32        ┆ C             ┆ 2016-04-18   ┆ Nanjing CH_2016       │\n",
       "│ Washington       ┆ Hard    ┆ 32        ┆ A             ┆ 2012-07-30   ┆ Washington_2012       │\n",
       "│ Florianopolis CH ┆ Clay    ┆ 32        ┆ C             ┆ 2001-09-17   ┆ Florianopolis CH_2001 │\n",
       "│ …                ┆ …       ┆ …         ┆ …             ┆ …            ┆ …                     │\n",
       "│ Stockholm        ┆ Hard    ┆ 32        ┆ A             ┆ 2019-10-14   ┆ Stockholm_2019        │\n",
       "│ San Diego        ┆ Hard    ┆ 32        ┆ A             ┆ 2021-09-27   ┆ San Diego_2021        │\n",
       "│ Venice CH        ┆ Clay    ┆ 32        ┆ C             ┆ 1999-06-28   ┆ Venice CH_1999        │\n",
       "│ Newport          ┆ Grass   ┆ 32        ┆ A             ┆ 2009-07-06   ┆ Newport_2009          │\n",
       "│ Valladolid CH    ┆ Hard    ┆ 32        ┆ C             ┆ 2003-07-21   ┆ Valladolid CH_2003    │\n",
       "└──────────────────┴─────────┴───────────┴───────────────┴──────────────┴───────────────────────┘"
      ]
     },
     "execution_count": 15,
     "metadata": {},
     "output_type": "execute_result"
    }
   ],
   "source": [
    "tourney_qualifiers_challengers=matches_qualifiers_challengers[['tourney_name', 'surface', 'draw_size', 'tourney_level', 'tourney_date', 'tourney_name_date']]\n",
    "tourney_qualifiers_challengers=tourney_qualifiers_challengers.unique('tourney_name_date')\n",
    "tourney_qualifiers_challengers"
   ]
  },
  {
   "cell_type": "code",
   "execution_count": 16,
   "metadata": {},
   "outputs": [
    {
     "data": {
      "text/html": [
       "<div><style>\n",
       ".dataframe > thead > tr,\n",
       ".dataframe > tbody > tr {\n",
       "  text-align: right;\n",
       "  white-space: pre-wrap;\n",
       "}\n",
       "</style>\n",
       "<small>shape: (486_553, 50)</small><table border=\"1\" class=\"dataframe\"><thead><tr><th>tourney_id</th><th>tourney_name</th><th>surface</th><th>draw_size</th><th>tourney_level</th><th>tourney_date</th><th>match_num</th><th>winner_id</th><th>winner_seed</th><th>winner_entry</th><th>winner_name</th><th>winner_hand</th><th>winner_ht</th><th>winner_ioc</th><th>winner_age</th><th>loser_id</th><th>loser_seed</th><th>loser_entry</th><th>loser_name</th><th>loser_hand</th><th>loser_ht</th><th>loser_ioc</th><th>loser_age</th><th>score</th><th>best_of</th><th>round</th><th>minutes</th><th>w_ace</th><th>w_df</th><th>w_svpt</th><th>w_1stIn</th><th>w_1stWon</th><th>w_2ndWon</th><th>w_SvGms</th><th>w_bpSaved</th><th>w_bpFaced</th><th>l_ace</th><th>l_df</th><th>l_svpt</th><th>l_1stIn</th><th>l_1stWon</th><th>l_2ndWon</th><th>l_SvGms</th><th>l_bpSaved</th><th>l_bpFaced</th><th>winner_rank</th><th>winner_rank_points</th><th>loser_rank</th><th>loser_rank_points</th><th>tourney_name_date</th></tr><tr><td>str</td><td>str</td><td>str</td><td>i64</td><td>str</td><td>date</td><td>i64</td><td>str</td><td>str</td><td>str</td><td>str</td><td>str</td><td>i64</td><td>str</td><td>f64</td><td>str</td><td>str</td><td>str</td><td>str</td><td>str</td><td>i64</td><td>str</td><td>f64</td><td>str</td><td>i64</td><td>str</td><td>str</td><td>str</td><td>str</td><td>str</td><td>str</td><td>str</td><td>str</td><td>str</td><td>str</td><td>str</td><td>str</td><td>str</td><td>str</td><td>str</td><td>str</td><td>str</td><td>str</td><td>str</td><td>str</td><td>str</td><td>str</td><td>str</td><td>str</td><td>str</td></tr></thead><tbody><tr><td>&quot;1991-M-SA-IND-02A-1990a&quot;</td><td>&quot;India Masters 1&quot;</td><td>&quot;Hard&quot;</td><td>32</td><td>&quot;S&quot;</td><td>1990-12-29</td><td>1</td><td>&quot;101484&quot;</td><td>&quot;1&quot;</td><td>null</td><td>&quot;Vladimir Gabrichidze&quot;</td><td>&quot;R&quot;</td><td>175</td><td>&quot;GEO&quot;</td><td>22.6</td><td>&quot;106937&quot;</td><td>null</td><td>null</td><td>&quot;Emilio Marturano&quot;</td><td>&quot;R&quot;</td><td>null</td><td>&quot;ITA&quot;</td><td>23.5</td><td>&quot;6-2 7-5&quot;</td><td>3</td><td>&quot;R32&quot;</td><td>null</td><td>null</td><td>null</td><td>null</td><td>null</td><td>null</td><td>null</td><td>null</td><td>null</td><td>null</td><td>null</td><td>null</td><td>null</td><td>null</td><td>null</td><td>null</td><td>null</td><td>null</td><td>null</td><td>&quot;266&quot;</td><td>&quot;82&quot;</td><td>&quot;805&quot;</td><td>&quot;4&quot;</td><td>&quot;India Masters 1_1990&quot;</td></tr><tr><td>&quot;1991-M-SA-IND-02A-1990a&quot;</td><td>&quot;India Masters 1&quot;</td><td>&quot;Hard&quot;</td><td>32</td><td>&quot;S&quot;</td><td>1990-12-29</td><td>2</td><td>&quot;106819&quot;</td><td>null</td><td>&quot;Q&quot;</td><td>&quot;Danilo Pila&quot;</td><td>&quot;R&quot;</td><td>null</td><td>&quot;PHI&quot;</td><td>30.2</td><td>&quot;107116&quot;</td><td>null</td><td>null</td><td>&quot;Goran Mihajlovic&quot;</td><td>&quot;R&quot;</td><td>null</td><td>&quot;YUG&quot;</td><td>19.6</td><td>&quot;6-3 6-2&quot;</td><td>3</td><td>&quot;R32&quot;</td><td>null</td><td>null</td><td>null</td><td>null</td><td>null</td><td>null</td><td>null</td><td>null</td><td>null</td><td>null</td><td>null</td><td>null</td><td>null</td><td>null</td><td>null</td><td>null</td><td>null</td><td>null</td><td>null</td><td>&quot;941&quot;</td><td>&quot;2&quot;</td><td>&quot;692&quot;</td><td>&quot;8&quot;</td><td>&quot;India Masters 1_1990&quot;</td></tr><tr><td>&quot;1991-M-SA-IND-02A-1990a&quot;</td><td>&quot;India Masters 1&quot;</td><td>&quot;Hard&quot;</td><td>32</td><td>&quot;S&quot;</td><td>1990-12-29</td><td>3</td><td>&quot;102216&quot;</td><td>null</td><td>&quot;LL&quot;</td><td>&quot;Mark Joachim&quot;</td><td>&quot;R&quot;</td><td>null</td><td>&quot;GER&quot;</td><td>17.6</td><td>&quot;108562&quot;</td><td>null</td><td>null</td><td>&quot;York Heidenreich&quot;</td><td>&quot;R&quot;</td><td>null</td><td>&quot;GER&quot;</td><td>null</td><td>&quot;6-1 6-3&quot;</td><td>3</td><td>&quot;R32&quot;</td><td>null</td><td>null</td><td>null</td><td>null</td><td>null</td><td>null</td><td>null</td><td>null</td><td>null</td><td>null</td><td>null</td><td>null</td><td>null</td><td>null</td><td>null</td><td>null</td><td>null</td><td>null</td><td>null</td><td>&quot;862&quot;</td><td>&quot;3&quot;</td><td>&quot;862&quot;</td><td>&quot;3&quot;</td><td>&quot;India Masters 1_1990&quot;</td></tr><tr><td>&quot;1991-M-SA-IND-02A-1990a&quot;</td><td>&quot;India Masters 1&quot;</td><td>&quot;Hard&quot;</td><td>32</td><td>&quot;S&quot;</td><td>1990-12-29</td><td>4</td><td>&quot;101663&quot;</td><td>null</td><td>null</td><td>&quot;Eugenio Rossi&quot;</td><td>&quot;R&quot;</td><td>null</td><td>&quot;ITA&quot;</td><td>21.1</td><td>&quot;106941&quot;</td><td>&quot;8&quot;</td><td>null</td><td>&quot;Eno Polo&quot;</td><td>&quot;R&quot;</td><td>null</td><td>&quot;KEN&quot;</td><td>23.5</td><td>&quot;6-4 6-4&quot;</td><td>3</td><td>&quot;R32&quot;</td><td>null</td><td>null</td><td>null</td><td>null</td><td>null</td><td>null</td><td>null</td><td>null</td><td>null</td><td>null</td><td>null</td><td>null</td><td>null</td><td>null</td><td>null</td><td>null</td><td>null</td><td>null</td><td>null</td><td>&quot;703&quot;</td><td>&quot;8&quot;</td><td>&quot;588&quot;</td><td>&quot;14&quot;</td><td>&quot;India Masters 1_1990&quot;</td></tr><tr><td>&quot;1991-M-SA-IND-02A-1990a&quot;</td><td>&quot;India Masters 1&quot;</td><td>&quot;Hard&quot;</td><td>32</td><td>&quot;S&quot;</td><td>1990-12-29</td><td>5</td><td>&quot;100794&quot;</td><td>&quot;4&quot;</td><td>null</td><td>&quot;Srinivasan Vasudevan&quot;</td><td>&quot;R&quot;</td><td>190</td><td>&quot;IND&quot;</td><td>28.9</td><td>&quot;101480&quot;</td><td>null</td><td>null</td><td>&quot;Jake Martyn&quot;</td><td>&quot;R&quot;</td><td>null</td><td>&quot;GBR&quot;</td><td>22.6</td><td>&quot;6-3 7-6&quot;</td><td>3</td><td>&quot;R32&quot;</td><td>null</td><td>null</td><td>null</td><td>null</td><td>null</td><td>null</td><td>null</td><td>null</td><td>null</td><td>null</td><td>null</td><td>null</td><td>null</td><td>null</td><td>null</td><td>null</td><td>null</td><td>null</td><td>null</td><td>&quot;420&quot;</td><td>&quot;33&quot;</td><td>&quot;862&quot;</td><td>&quot;3&quot;</td><td>&quot;India Masters 1_1990&quot;</td></tr><tr><td>&hellip;</td><td>&hellip;</td><td>&hellip;</td><td>&hellip;</td><td>&hellip;</td><td>&hellip;</td><td>&hellip;</td><td>&hellip;</td><td>&hellip;</td><td>&hellip;</td><td>&hellip;</td><td>&hellip;</td><td>&hellip;</td><td>&hellip;</td><td>&hellip;</td><td>&hellip;</td><td>&hellip;</td><td>&hellip;</td><td>&hellip;</td><td>&hellip;</td><td>&hellip;</td><td>&hellip;</td><td>&hellip;</td><td>&hellip;</td><td>&hellip;</td><td>&hellip;</td><td>&hellip;</td><td>&hellip;</td><td>&hellip;</td><td>&hellip;</td><td>&hellip;</td><td>&hellip;</td><td>&hellip;</td><td>&hellip;</td><td>&hellip;</td><td>&hellip;</td><td>&hellip;</td><td>&hellip;</td><td>&hellip;</td><td>&hellip;</td><td>&hellip;</td><td>&hellip;</td><td>&hellip;</td><td>&hellip;</td><td>&hellip;</td><td>&hellip;</td><td>&hellip;</td><td>&hellip;</td><td>&hellip;</td><td>&hellip;</td></tr><tr><td>&quot;2024-M-ITF-USA-2024-010&quot;</td><td>&quot;M25 Pensacola FL&quot;</td><td>&quot;Clay&quot;</td><td>32</td><td>&quot;25&quot;</td><td>2024-05-13</td><td>303</td><td>&quot;210044&quot;</td><td>&quot;5&quot;</td><td>null</td><td>&quot;Bruno Kuzuhara&quot;</td><td>&quot;U&quot;</td><td>null</td><td>&quot;USA&quot;</td><td>20.0</td><td>&quot;132054&quot;</td><td>null</td><td>null</td><td>&quot;Nathan Ponwith&quot;</td><td>&quot;U&quot;</td><td>null</td><td>&quot;USA&quot;</td><td>26.0</td><td>&quot;6-3 6-3&quot;</td><td>3</td><td>&quot;QF&quot;</td><td>null</td><td>null</td><td>null</td><td>null</td><td>null</td><td>null</td><td>null</td><td>null</td><td>null</td><td>null</td><td>null</td><td>null</td><td>null</td><td>null</td><td>null</td><td>null</td><td>null</td><td>null</td><td>null</td><td>&quot;469&quot;</td><td>&quot;92&quot;</td><td>&quot;745&quot;</td><td>&quot;34&quot;</td><td>&quot;M25 Pensacola FL_2024&quot;</td></tr><tr><td>&quot;2024-M-ITF-USA-2024-010&quot;</td><td>&quot;M25 Pensacola FL&quot;</td><td>&quot;Clay&quot;</td><td>32</td><td>&quot;25&quot;</td><td>2024-05-13</td><td>304</td><td>&quot;200273&quot;</td><td>&quot;2&quot;</td><td>null</td><td>&quot;Hady Habib&quot;</td><td>&quot;R&quot;</td><td>null</td><td>&quot;LBN&quot;</td><td>25.7</td><td>&quot;132052&quot;</td><td>&quot;7&quot;</td><td>null</td><td>&quot;Christian Langmo&quot;</td><td>&quot;U&quot;</td><td>null</td><td>&quot;USA&quot;</td><td>27.9</td><td>&quot;1-6 6-3 6-3&quot;</td><td>3</td><td>&quot;QF&quot;</td><td>null</td><td>null</td><td>null</td><td>null</td><td>null</td><td>null</td><td>null</td><td>null</td><td>null</td><td>null</td><td>null</td><td>null</td><td>null</td><td>null</td><td>null</td><td>null</td><td>null</td><td>null</td><td>null</td><td>&quot;286&quot;</td><td>&quot;196&quot;</td><td>&quot;507&quot;</td><td>&quot;77&quot;</td><td>&quot;M25 Pensacola FL_2024&quot;</td></tr><tr><td>&quot;2024-M-ITF-USA-2024-010&quot;</td><td>&quot;M25 Pensacola FL&quot;</td><td>&quot;Clay&quot;</td><td>32</td><td>&quot;25&quot;</td><td>2024-05-13</td><td>401</td><td>&quot;200748&quot;</td><td>&quot;4&quot;</td><td>null</td><td>&quot;Andres Andrade&quot;</td><td>&quot;R&quot;</td><td>null</td><td>&quot;ECU&quot;</td><td>25.3</td><td>&quot;106071&quot;</td><td>&quot;1&quot;</td><td>null</td><td>&quot;Bernard Tomic&quot;</td><td>&quot;R&quot;</td><td>193</td><td>&quot;AUS&quot;</td><td>31.5</td><td>&quot;RET&quot;</td><td>3</td><td>&quot;SF&quot;</td><td>null</td><td>null</td><td>null</td><td>null</td><td>null</td><td>null</td><td>null</td><td>null</td><td>null</td><td>null</td><td>null</td><td>null</td><td>null</td><td>null</td><td>null</td><td>null</td><td>null</td><td>null</td><td>null</td><td>&quot;374&quot;</td><td>&quot;133&quot;</td><td>&quot;256&quot;</td><td>&quot;230&quot;</td><td>&quot;M25 Pensacola FL_2024&quot;</td></tr><tr><td>&quot;2024-M-ITF-USA-2024-010&quot;</td><td>&quot;M25 Pensacola FL&quot;</td><td>&quot;Clay&quot;</td><td>32</td><td>&quot;25&quot;</td><td>2024-05-13</td><td>402</td><td>&quot;200273&quot;</td><td>&quot;2&quot;</td><td>null</td><td>&quot;Hady Habib&quot;</td><td>&quot;R&quot;</td><td>null</td><td>&quot;LBN&quot;</td><td>25.7</td><td>&quot;210044&quot;</td><td>&quot;5&quot;</td><td>null</td><td>&quot;Bruno Kuzuhara&quot;</td><td>&quot;U&quot;</td><td>null</td><td>&quot;USA&quot;</td><td>20.0</td><td>&quot;6-4 6-4&quot;</td><td>3</td><td>&quot;SF&quot;</td><td>null</td><td>null</td><td>null</td><td>null</td><td>null</td><td>null</td><td>null</td><td>null</td><td>null</td><td>null</td><td>null</td><td>null</td><td>null</td><td>null</td><td>null</td><td>null</td><td>null</td><td>null</td><td>null</td><td>&quot;286&quot;</td><td>&quot;196&quot;</td><td>&quot;469&quot;</td><td>&quot;92&quot;</td><td>&quot;M25 Pensacola FL_2024&quot;</td></tr><tr><td>&quot;2024-M-ITF-USA-2024-010&quot;</td><td>&quot;M25 Pensacola FL&quot;</td><td>&quot;Clay&quot;</td><td>32</td><td>&quot;25&quot;</td><td>2024-05-13</td><td>501</td><td>&quot;200748&quot;</td><td>&quot;4&quot;</td><td>null</td><td>&quot;Andres Andrade&quot;</td><td>&quot;R&quot;</td><td>null</td><td>&quot;ECU&quot;</td><td>25.3</td><td>&quot;200273&quot;</td><td>&quot;2&quot;</td><td>null</td><td>&quot;Hady Habib&quot;</td><td>&quot;R&quot;</td><td>null</td><td>&quot;LBN&quot;</td><td>25.7</td><td>&quot;7-6(5) 7-5&quot;</td><td>3</td><td>&quot;F&quot;</td><td>null</td><td>null</td><td>null</td><td>null</td><td>null</td><td>null</td><td>null</td><td>null</td><td>null</td><td>null</td><td>null</td><td>null</td><td>null</td><td>null</td><td>null</td><td>null</td><td>null</td><td>null</td><td>null</td><td>&quot;374&quot;</td><td>&quot;133&quot;</td><td>&quot;286&quot;</td><td>&quot;196&quot;</td><td>&quot;M25 Pensacola FL_2024&quot;</td></tr></tbody></table></div>"
      ],
      "text/plain": [
       "shape: (486_553, 50)\n",
       "┌────────────┬───────────┬─────────┬───────────┬───┬───────────┬───────────┬───────────┬───────────┐\n",
       "│ tourney_id ┆ tourney_n ┆ surface ┆ draw_size ┆ … ┆ winner_ra ┆ loser_ran ┆ loser_ran ┆ tourney_n │\n",
       "│ ---        ┆ ame       ┆ ---     ┆ ---       ┆   ┆ nk_points ┆ k         ┆ k_points  ┆ ame_date  │\n",
       "│ str        ┆ ---       ┆ str     ┆ i64       ┆   ┆ ---       ┆ ---       ┆ ---       ┆ ---       │\n",
       "│            ┆ str       ┆         ┆           ┆   ┆ str       ┆ str       ┆ str       ┆ str       │\n",
       "╞════════════╪═══════════╪═════════╪═══════════╪═══╪═══════════╪═══════════╪═══════════╪═══════════╡\n",
       "│ 1991-M-SA- ┆ India     ┆ Hard    ┆ 32        ┆ … ┆ 82        ┆ 805       ┆ 4         ┆ India     │\n",
       "│ IND-02A-19 ┆ Masters 1 ┆         ┆           ┆   ┆           ┆           ┆           ┆ Masters   │\n",
       "│ 90a        ┆           ┆         ┆           ┆   ┆           ┆           ┆           ┆ 1_1990    │\n",
       "│ 1991-M-SA- ┆ India     ┆ Hard    ┆ 32        ┆ … ┆ 2         ┆ 692       ┆ 8         ┆ India     │\n",
       "│ IND-02A-19 ┆ Masters 1 ┆         ┆           ┆   ┆           ┆           ┆           ┆ Masters   │\n",
       "│ 90a        ┆           ┆         ┆           ┆   ┆           ┆           ┆           ┆ 1_1990    │\n",
       "│ 1991-M-SA- ┆ India     ┆ Hard    ┆ 32        ┆ … ┆ 3         ┆ 862       ┆ 3         ┆ India     │\n",
       "│ IND-02A-19 ┆ Masters 1 ┆         ┆           ┆   ┆           ┆           ┆           ┆ Masters   │\n",
       "│ 90a        ┆           ┆         ┆           ┆   ┆           ┆           ┆           ┆ 1_1990    │\n",
       "│ 1991-M-SA- ┆ India     ┆ Hard    ┆ 32        ┆ … ┆ 8         ┆ 588       ┆ 14        ┆ India     │\n",
       "│ IND-02A-19 ┆ Masters 1 ┆         ┆           ┆   ┆           ┆           ┆           ┆ Masters   │\n",
       "│ 90a        ┆           ┆         ┆           ┆   ┆           ┆           ┆           ┆ 1_1990    │\n",
       "│ 1991-M-SA- ┆ India     ┆ Hard    ┆ 32        ┆ … ┆ 33        ┆ 862       ┆ 3         ┆ India     │\n",
       "│ IND-02A-19 ┆ Masters 1 ┆         ┆           ┆   ┆           ┆           ┆           ┆ Masters   │\n",
       "│ 90a        ┆           ┆         ┆           ┆   ┆           ┆           ┆           ┆ 1_1990    │\n",
       "│ …          ┆ …         ┆ …       ┆ …         ┆ … ┆ …         ┆ …         ┆ …         ┆ …         │\n",
       "│ 2024-M-ITF ┆ M25       ┆ Clay    ┆ 32        ┆ … ┆ 92        ┆ 745       ┆ 34        ┆ M25       │\n",
       "│ -USA-2024- ┆ Pensacola ┆         ┆           ┆   ┆           ┆           ┆           ┆ Pensacola │\n",
       "│ 010        ┆ FL        ┆         ┆           ┆   ┆           ┆           ┆           ┆ FL_2024   │\n",
       "│ 2024-M-ITF ┆ M25       ┆ Clay    ┆ 32        ┆ … ┆ 196       ┆ 507       ┆ 77        ┆ M25       │\n",
       "│ -USA-2024- ┆ Pensacola ┆         ┆           ┆   ┆           ┆           ┆           ┆ Pensacola │\n",
       "│ 010        ┆ FL        ┆         ┆           ┆   ┆           ┆           ┆           ┆ FL_2024   │\n",
       "│ 2024-M-ITF ┆ M25       ┆ Clay    ┆ 32        ┆ … ┆ 133       ┆ 256       ┆ 230       ┆ M25       │\n",
       "│ -USA-2024- ┆ Pensacola ┆         ┆           ┆   ┆           ┆           ┆           ┆ Pensacola │\n",
       "│ 010        ┆ FL        ┆         ┆           ┆   ┆           ┆           ┆           ┆ FL_2024   │\n",
       "│ 2024-M-ITF ┆ M25       ┆ Clay    ┆ 32        ┆ … ┆ 196       ┆ 469       ┆ 92        ┆ M25       │\n",
       "│ -USA-2024- ┆ Pensacola ┆         ┆           ┆   ┆           ┆           ┆           ┆ Pensacola │\n",
       "│ 010        ┆ FL        ┆         ┆           ┆   ┆           ┆           ┆           ┆ FL_2024   │\n",
       "│ 2024-M-ITF ┆ M25       ┆ Clay    ┆ 32        ┆ … ┆ 133       ┆ 286       ┆ 196       ┆ M25       │\n",
       "│ -USA-2024- ┆ Pensacola ┆         ┆           ┆   ┆           ┆           ┆           ┆ Pensacola │\n",
       "│ 010        ┆ FL        ┆         ┆           ┆   ┆           ┆           ┆           ┆ FL_2024   │\n",
       "└────────────┴───────────┴─────────┴───────────┴───┴───────────┴───────────┴───────────┴───────────┘"
      ]
     },
     "execution_count": 16,
     "metadata": {},
     "output_type": "execute_result"
    }
   ],
   "source": [
    "matches_futures=import_tennis_matches(data_type=\"futures\",gender=\"atp\")\n",
    "\n",
    "matches_futures = matches_futures.with_columns(\n",
    "    (pl.col(\"tourney_name\") + \"_\" + pl.col(\"tourney_date\").dt.year().cast(pl.Utf8)).alias(\"tourney_name_date\")\n",
    ")\n",
    "matches_futures"
   ]
  },
  {
   "cell_type": "code",
   "execution_count": 17,
   "metadata": {},
   "outputs": [
    {
     "data": {
      "text/html": [
       "<div><style>\n",
       ".dataframe > thead > tr,\n",
       ".dataframe > tbody > tr {\n",
       "  text-align: right;\n",
       "  white-space: pre-wrap;\n",
       "}\n",
       "</style>\n",
       "<small>shape: (486_553, 51)</small><table border=\"1\" class=\"dataframe\"><thead><tr><th>tourney_id</th><th>tourney_name</th><th>surface</th><th>draw_size</th><th>tourney_level</th><th>tourney_date</th><th>match_num</th><th>winner_id</th><th>winner_seed</th><th>winner_entry</th><th>winner_name</th><th>winner_hand</th><th>winner_ht</th><th>winner_ioc</th><th>winner_age</th><th>loser_id</th><th>loser_seed</th><th>loser_entry</th><th>loser_name</th><th>loser_hand</th><th>loser_ht</th><th>loser_ioc</th><th>loser_age</th><th>score</th><th>best_of</th><th>round</th><th>minutes</th><th>w_ace</th><th>w_df</th><th>w_svpt</th><th>w_1stIn</th><th>w_1stWon</th><th>w_2ndWon</th><th>w_SvGms</th><th>w_bpSaved</th><th>w_bpFaced</th><th>l_ace</th><th>l_df</th><th>l_svpt</th><th>l_1stIn</th><th>l_1stWon</th><th>l_2ndWon</th><th>l_SvGms</th><th>l_bpSaved</th><th>l_bpFaced</th><th>winner_rank</th><th>winner_rank_points</th><th>loser_rank</th><th>loser_rank_points</th><th>tourney_name_date</th><th>minimum_prize_pool</th></tr><tr><td>str</td><td>str</td><td>str</td><td>i64</td><td>str</td><td>date</td><td>i64</td><td>str</td><td>str</td><td>str</td><td>str</td><td>str</td><td>i64</td><td>str</td><td>f64</td><td>str</td><td>str</td><td>str</td><td>str</td><td>str</td><td>i64</td><td>str</td><td>f64</td><td>str</td><td>i64</td><td>str</td><td>str</td><td>str</td><td>str</td><td>str</td><td>str</td><td>str</td><td>str</td><td>str</td><td>str</td><td>str</td><td>str</td><td>str</td><td>str</td><td>str</td><td>str</td><td>str</td><td>str</td><td>str</td><td>str</td><td>str</td><td>str</td><td>str</td><td>str</td><td>str</td><td>i64</td></tr></thead><tbody><tr><td>&quot;1991-M-SA-IND-02A-1990a&quot;</td><td>&quot;India Masters 1&quot;</td><td>&quot;Hard&quot;</td><td>32</td><td>&quot;S&quot;</td><td>1990-12-29</td><td>1</td><td>&quot;101484&quot;</td><td>&quot;1&quot;</td><td>null</td><td>&quot;Vladimir Gabrichidze&quot;</td><td>&quot;R&quot;</td><td>175</td><td>&quot;GEO&quot;</td><td>22.6</td><td>&quot;106937&quot;</td><td>null</td><td>null</td><td>&quot;Emilio Marturano&quot;</td><td>&quot;R&quot;</td><td>null</td><td>&quot;ITA&quot;</td><td>23.5</td><td>&quot;6-2 7-5&quot;</td><td>3</td><td>&quot;R32&quot;</td><td>null</td><td>null</td><td>null</td><td>null</td><td>null</td><td>null</td><td>null</td><td>null</td><td>null</td><td>null</td><td>null</td><td>null</td><td>null</td><td>null</td><td>null</td><td>null</td><td>null</td><td>null</td><td>null</td><td>&quot;266&quot;</td><td>&quot;82&quot;</td><td>&quot;805&quot;</td><td>&quot;4&quot;</td><td>&quot;India Masters 1_1990&quot;</td><td>null</td></tr><tr><td>&quot;1991-M-SA-IND-02A-1990a&quot;</td><td>&quot;India Masters 1&quot;</td><td>&quot;Hard&quot;</td><td>32</td><td>&quot;S&quot;</td><td>1990-12-29</td><td>2</td><td>&quot;106819&quot;</td><td>null</td><td>&quot;Q&quot;</td><td>&quot;Danilo Pila&quot;</td><td>&quot;R&quot;</td><td>null</td><td>&quot;PHI&quot;</td><td>30.2</td><td>&quot;107116&quot;</td><td>null</td><td>null</td><td>&quot;Goran Mihajlovic&quot;</td><td>&quot;R&quot;</td><td>null</td><td>&quot;YUG&quot;</td><td>19.6</td><td>&quot;6-3 6-2&quot;</td><td>3</td><td>&quot;R32&quot;</td><td>null</td><td>null</td><td>null</td><td>null</td><td>null</td><td>null</td><td>null</td><td>null</td><td>null</td><td>null</td><td>null</td><td>null</td><td>null</td><td>null</td><td>null</td><td>null</td><td>null</td><td>null</td><td>null</td><td>&quot;941&quot;</td><td>&quot;2&quot;</td><td>&quot;692&quot;</td><td>&quot;8&quot;</td><td>&quot;India Masters 1_1990&quot;</td><td>null</td></tr><tr><td>&quot;1991-M-SA-IND-02A-1990a&quot;</td><td>&quot;India Masters 1&quot;</td><td>&quot;Hard&quot;</td><td>32</td><td>&quot;S&quot;</td><td>1990-12-29</td><td>3</td><td>&quot;102216&quot;</td><td>null</td><td>&quot;LL&quot;</td><td>&quot;Mark Joachim&quot;</td><td>&quot;R&quot;</td><td>null</td><td>&quot;GER&quot;</td><td>17.6</td><td>&quot;108562&quot;</td><td>null</td><td>null</td><td>&quot;York Heidenreich&quot;</td><td>&quot;R&quot;</td><td>null</td><td>&quot;GER&quot;</td><td>null</td><td>&quot;6-1 6-3&quot;</td><td>3</td><td>&quot;R32&quot;</td><td>null</td><td>null</td><td>null</td><td>null</td><td>null</td><td>null</td><td>null</td><td>null</td><td>null</td><td>null</td><td>null</td><td>null</td><td>null</td><td>null</td><td>null</td><td>null</td><td>null</td><td>null</td><td>null</td><td>&quot;862&quot;</td><td>&quot;3&quot;</td><td>&quot;862&quot;</td><td>&quot;3&quot;</td><td>&quot;India Masters 1_1990&quot;</td><td>null</td></tr><tr><td>&quot;1991-M-SA-IND-02A-1990a&quot;</td><td>&quot;India Masters 1&quot;</td><td>&quot;Hard&quot;</td><td>32</td><td>&quot;S&quot;</td><td>1990-12-29</td><td>4</td><td>&quot;101663&quot;</td><td>null</td><td>null</td><td>&quot;Eugenio Rossi&quot;</td><td>&quot;R&quot;</td><td>null</td><td>&quot;ITA&quot;</td><td>21.1</td><td>&quot;106941&quot;</td><td>&quot;8&quot;</td><td>null</td><td>&quot;Eno Polo&quot;</td><td>&quot;R&quot;</td><td>null</td><td>&quot;KEN&quot;</td><td>23.5</td><td>&quot;6-4 6-4&quot;</td><td>3</td><td>&quot;R32&quot;</td><td>null</td><td>null</td><td>null</td><td>null</td><td>null</td><td>null</td><td>null</td><td>null</td><td>null</td><td>null</td><td>null</td><td>null</td><td>null</td><td>null</td><td>null</td><td>null</td><td>null</td><td>null</td><td>null</td><td>&quot;703&quot;</td><td>&quot;8&quot;</td><td>&quot;588&quot;</td><td>&quot;14&quot;</td><td>&quot;India Masters 1_1990&quot;</td><td>null</td></tr><tr><td>&quot;1991-M-SA-IND-02A-1990a&quot;</td><td>&quot;India Masters 1&quot;</td><td>&quot;Hard&quot;</td><td>32</td><td>&quot;S&quot;</td><td>1990-12-29</td><td>5</td><td>&quot;100794&quot;</td><td>&quot;4&quot;</td><td>null</td><td>&quot;Srinivasan Vasudevan&quot;</td><td>&quot;R&quot;</td><td>190</td><td>&quot;IND&quot;</td><td>28.9</td><td>&quot;101480&quot;</td><td>null</td><td>null</td><td>&quot;Jake Martyn&quot;</td><td>&quot;R&quot;</td><td>null</td><td>&quot;GBR&quot;</td><td>22.6</td><td>&quot;6-3 7-6&quot;</td><td>3</td><td>&quot;R32&quot;</td><td>null</td><td>null</td><td>null</td><td>null</td><td>null</td><td>null</td><td>null</td><td>null</td><td>null</td><td>null</td><td>null</td><td>null</td><td>null</td><td>null</td><td>null</td><td>null</td><td>null</td><td>null</td><td>null</td><td>&quot;420&quot;</td><td>&quot;33&quot;</td><td>&quot;862&quot;</td><td>&quot;3&quot;</td><td>&quot;India Masters 1_1990&quot;</td><td>null</td></tr><tr><td>&hellip;</td><td>&hellip;</td><td>&hellip;</td><td>&hellip;</td><td>&hellip;</td><td>&hellip;</td><td>&hellip;</td><td>&hellip;</td><td>&hellip;</td><td>&hellip;</td><td>&hellip;</td><td>&hellip;</td><td>&hellip;</td><td>&hellip;</td><td>&hellip;</td><td>&hellip;</td><td>&hellip;</td><td>&hellip;</td><td>&hellip;</td><td>&hellip;</td><td>&hellip;</td><td>&hellip;</td><td>&hellip;</td><td>&hellip;</td><td>&hellip;</td><td>&hellip;</td><td>&hellip;</td><td>&hellip;</td><td>&hellip;</td><td>&hellip;</td><td>&hellip;</td><td>&hellip;</td><td>&hellip;</td><td>&hellip;</td><td>&hellip;</td><td>&hellip;</td><td>&hellip;</td><td>&hellip;</td><td>&hellip;</td><td>&hellip;</td><td>&hellip;</td><td>&hellip;</td><td>&hellip;</td><td>&hellip;</td><td>&hellip;</td><td>&hellip;</td><td>&hellip;</td><td>&hellip;</td><td>&hellip;</td><td>&hellip;</td><td>&hellip;</td></tr><tr><td>&quot;2024-M-ITF-USA-2024-010&quot;</td><td>&quot;Pensacola FL&quot;</td><td>&quot;Clay&quot;</td><td>32</td><td>&quot;25&quot;</td><td>2024-05-13</td><td>303</td><td>&quot;210044&quot;</td><td>&quot;5&quot;</td><td>null</td><td>&quot;Bruno Kuzuhara&quot;</td><td>&quot;U&quot;</td><td>null</td><td>&quot;USA&quot;</td><td>20.0</td><td>&quot;132054&quot;</td><td>null</td><td>null</td><td>&quot;Nathan Ponwith&quot;</td><td>&quot;U&quot;</td><td>null</td><td>&quot;USA&quot;</td><td>26.0</td><td>&quot;6-3 6-3&quot;</td><td>3</td><td>&quot;QF&quot;</td><td>null</td><td>null</td><td>null</td><td>null</td><td>null</td><td>null</td><td>null</td><td>null</td><td>null</td><td>null</td><td>null</td><td>null</td><td>null</td><td>null</td><td>null</td><td>null</td><td>null</td><td>null</td><td>null</td><td>&quot;469&quot;</td><td>&quot;92&quot;</td><td>&quot;745&quot;</td><td>&quot;34&quot;</td><td>&quot;M25 Pensacola FL_2024&quot;</td><td>25000</td></tr><tr><td>&quot;2024-M-ITF-USA-2024-010&quot;</td><td>&quot;Pensacola FL&quot;</td><td>&quot;Clay&quot;</td><td>32</td><td>&quot;25&quot;</td><td>2024-05-13</td><td>304</td><td>&quot;200273&quot;</td><td>&quot;2&quot;</td><td>null</td><td>&quot;Hady Habib&quot;</td><td>&quot;R&quot;</td><td>null</td><td>&quot;LBN&quot;</td><td>25.7</td><td>&quot;132052&quot;</td><td>&quot;7&quot;</td><td>null</td><td>&quot;Christian Langmo&quot;</td><td>&quot;U&quot;</td><td>null</td><td>&quot;USA&quot;</td><td>27.9</td><td>&quot;1-6 6-3 6-3&quot;</td><td>3</td><td>&quot;QF&quot;</td><td>null</td><td>null</td><td>null</td><td>null</td><td>null</td><td>null</td><td>null</td><td>null</td><td>null</td><td>null</td><td>null</td><td>null</td><td>null</td><td>null</td><td>null</td><td>null</td><td>null</td><td>null</td><td>null</td><td>&quot;286&quot;</td><td>&quot;196&quot;</td><td>&quot;507&quot;</td><td>&quot;77&quot;</td><td>&quot;M25 Pensacola FL_2024&quot;</td><td>25000</td></tr><tr><td>&quot;2024-M-ITF-USA-2024-010&quot;</td><td>&quot;Pensacola FL&quot;</td><td>&quot;Clay&quot;</td><td>32</td><td>&quot;25&quot;</td><td>2024-05-13</td><td>401</td><td>&quot;200748&quot;</td><td>&quot;4&quot;</td><td>null</td><td>&quot;Andres Andrade&quot;</td><td>&quot;R&quot;</td><td>null</td><td>&quot;ECU&quot;</td><td>25.3</td><td>&quot;106071&quot;</td><td>&quot;1&quot;</td><td>null</td><td>&quot;Bernard Tomic&quot;</td><td>&quot;R&quot;</td><td>193</td><td>&quot;AUS&quot;</td><td>31.5</td><td>&quot;RET&quot;</td><td>3</td><td>&quot;SF&quot;</td><td>null</td><td>null</td><td>null</td><td>null</td><td>null</td><td>null</td><td>null</td><td>null</td><td>null</td><td>null</td><td>null</td><td>null</td><td>null</td><td>null</td><td>null</td><td>null</td><td>null</td><td>null</td><td>null</td><td>&quot;374&quot;</td><td>&quot;133&quot;</td><td>&quot;256&quot;</td><td>&quot;230&quot;</td><td>&quot;M25 Pensacola FL_2024&quot;</td><td>25000</td></tr><tr><td>&quot;2024-M-ITF-USA-2024-010&quot;</td><td>&quot;Pensacola FL&quot;</td><td>&quot;Clay&quot;</td><td>32</td><td>&quot;25&quot;</td><td>2024-05-13</td><td>402</td><td>&quot;200273&quot;</td><td>&quot;2&quot;</td><td>null</td><td>&quot;Hady Habib&quot;</td><td>&quot;R&quot;</td><td>null</td><td>&quot;LBN&quot;</td><td>25.7</td><td>&quot;210044&quot;</td><td>&quot;5&quot;</td><td>null</td><td>&quot;Bruno Kuzuhara&quot;</td><td>&quot;U&quot;</td><td>null</td><td>&quot;USA&quot;</td><td>20.0</td><td>&quot;6-4 6-4&quot;</td><td>3</td><td>&quot;SF&quot;</td><td>null</td><td>null</td><td>null</td><td>null</td><td>null</td><td>null</td><td>null</td><td>null</td><td>null</td><td>null</td><td>null</td><td>null</td><td>null</td><td>null</td><td>null</td><td>null</td><td>null</td><td>null</td><td>null</td><td>&quot;286&quot;</td><td>&quot;196&quot;</td><td>&quot;469&quot;</td><td>&quot;92&quot;</td><td>&quot;M25 Pensacola FL_2024&quot;</td><td>25000</td></tr><tr><td>&quot;2024-M-ITF-USA-2024-010&quot;</td><td>&quot;Pensacola FL&quot;</td><td>&quot;Clay&quot;</td><td>32</td><td>&quot;25&quot;</td><td>2024-05-13</td><td>501</td><td>&quot;200748&quot;</td><td>&quot;4&quot;</td><td>null</td><td>&quot;Andres Andrade&quot;</td><td>&quot;R&quot;</td><td>null</td><td>&quot;ECU&quot;</td><td>25.3</td><td>&quot;200273&quot;</td><td>&quot;2&quot;</td><td>null</td><td>&quot;Hady Habib&quot;</td><td>&quot;R&quot;</td><td>null</td><td>&quot;LBN&quot;</td><td>25.7</td><td>&quot;7-6(5) 7-5&quot;</td><td>3</td><td>&quot;F&quot;</td><td>null</td><td>null</td><td>null</td><td>null</td><td>null</td><td>null</td><td>null</td><td>null</td><td>null</td><td>null</td><td>null</td><td>null</td><td>null</td><td>null</td><td>null</td><td>null</td><td>null</td><td>null</td><td>null</td><td>&quot;374&quot;</td><td>&quot;133&quot;</td><td>&quot;286&quot;</td><td>&quot;196&quot;</td><td>&quot;M25 Pensacola FL_2024&quot;</td><td>25000</td></tr></tbody></table></div>"
      ],
      "text/plain": [
       "shape: (486_553, 51)\n",
       "┌────────────┬───────────┬─────────┬───────────┬───┬───────────┬───────────┬───────────┬───────────┐\n",
       "│ tourney_id ┆ tourney_n ┆ surface ┆ draw_size ┆ … ┆ loser_ran ┆ loser_ran ┆ tourney_n ┆ minimum_p │\n",
       "│ ---        ┆ ame       ┆ ---     ┆ ---       ┆   ┆ k         ┆ k_points  ┆ ame_date  ┆ rize_pool │\n",
       "│ str        ┆ ---       ┆ str     ┆ i64       ┆   ┆ ---       ┆ ---       ┆ ---       ┆ ---       │\n",
       "│            ┆ str       ┆         ┆           ┆   ┆ str       ┆ str       ┆ str       ┆ i64       │\n",
       "╞════════════╪═══════════╪═════════╪═══════════╪═══╪═══════════╪═══════════╪═══════════╪═══════════╡\n",
       "│ 1991-M-SA- ┆ India     ┆ Hard    ┆ 32        ┆ … ┆ 805       ┆ 4         ┆ India     ┆ null      │\n",
       "│ IND-02A-19 ┆ Masters 1 ┆         ┆           ┆   ┆           ┆           ┆ Masters   ┆           │\n",
       "│ 90a        ┆           ┆         ┆           ┆   ┆           ┆           ┆ 1_1990    ┆           │\n",
       "│ 1991-M-SA- ┆ India     ┆ Hard    ┆ 32        ┆ … ┆ 692       ┆ 8         ┆ India     ┆ null      │\n",
       "│ IND-02A-19 ┆ Masters 1 ┆         ┆           ┆   ┆           ┆           ┆ Masters   ┆           │\n",
       "│ 90a        ┆           ┆         ┆           ┆   ┆           ┆           ┆ 1_1990    ┆           │\n",
       "│ 1991-M-SA- ┆ India     ┆ Hard    ┆ 32        ┆ … ┆ 862       ┆ 3         ┆ India     ┆ null      │\n",
       "│ IND-02A-19 ┆ Masters 1 ┆         ┆           ┆   ┆           ┆           ┆ Masters   ┆           │\n",
       "│ 90a        ┆           ┆         ┆           ┆   ┆           ┆           ┆ 1_1990    ┆           │\n",
       "│ 1991-M-SA- ┆ India     ┆ Hard    ┆ 32        ┆ … ┆ 588       ┆ 14        ┆ India     ┆ null      │\n",
       "│ IND-02A-19 ┆ Masters 1 ┆         ┆           ┆   ┆           ┆           ┆ Masters   ┆           │\n",
       "│ 90a        ┆           ┆         ┆           ┆   ┆           ┆           ┆ 1_1990    ┆           │\n",
       "│ 1991-M-SA- ┆ India     ┆ Hard    ┆ 32        ┆ … ┆ 862       ┆ 3         ┆ India     ┆ null      │\n",
       "│ IND-02A-19 ┆ Masters 1 ┆         ┆           ┆   ┆           ┆           ┆ Masters   ┆           │\n",
       "│ 90a        ┆           ┆         ┆           ┆   ┆           ┆           ┆ 1_1990    ┆           │\n",
       "│ …          ┆ …         ┆ …       ┆ …         ┆ … ┆ …         ┆ …         ┆ …         ┆ …         │\n",
       "│ 2024-M-ITF ┆ Pensacola ┆ Clay    ┆ 32        ┆ … ┆ 745       ┆ 34        ┆ M25       ┆ 25000     │\n",
       "│ -USA-2024- ┆ FL        ┆         ┆           ┆   ┆           ┆           ┆ Pensacola ┆           │\n",
       "│ 010        ┆           ┆         ┆           ┆   ┆           ┆           ┆ FL_2024   ┆           │\n",
       "│ 2024-M-ITF ┆ Pensacola ┆ Clay    ┆ 32        ┆ … ┆ 507       ┆ 77        ┆ M25       ┆ 25000     │\n",
       "│ -USA-2024- ┆ FL        ┆         ┆           ┆   ┆           ┆           ┆ Pensacola ┆           │\n",
       "│ 010        ┆           ┆         ┆           ┆   ┆           ┆           ┆ FL_2024   ┆           │\n",
       "│ 2024-M-ITF ┆ Pensacola ┆ Clay    ┆ 32        ┆ … ┆ 256       ┆ 230       ┆ M25       ┆ 25000     │\n",
       "│ -USA-2024- ┆ FL        ┆         ┆           ┆   ┆           ┆           ┆ Pensacola ┆           │\n",
       "│ 010        ┆           ┆         ┆           ┆   ┆           ┆           ┆ FL_2024   ┆           │\n",
       "│ 2024-M-ITF ┆ Pensacola ┆ Clay    ┆ 32        ┆ … ┆ 469       ┆ 92        ┆ M25       ┆ 25000     │\n",
       "│ -USA-2024- ┆ FL        ┆         ┆           ┆   ┆           ┆           ┆ Pensacola ┆           │\n",
       "│ 010        ┆           ┆         ┆           ┆   ┆           ┆           ┆ FL_2024   ┆           │\n",
       "│ 2024-M-ITF ┆ Pensacola ┆ Clay    ┆ 32        ┆ … ┆ 286       ┆ 196       ┆ M25       ┆ 25000     │\n",
       "│ -USA-2024- ┆ FL        ┆         ┆           ┆   ┆           ┆           ┆ Pensacola ┆           │\n",
       "│ 010        ┆           ┆         ┆           ┆   ┆           ┆           ┆ FL_2024   ┆           │\n",
       "└────────────┴───────────┴─────────┴───────────┴───┴───────────┴───────────┴───────────┴───────────┘"
      ]
     },
     "execution_count": 17,
     "metadata": {},
     "output_type": "execute_result"
    }
   ],
   "source": [
    "#Creazione di colonna dove mettere il montepremi con ciclo for aggregato\n",
    "\n",
    "# Liste per salvare i risultati\n",
    "new_values = []\n",
    "updated_col1 = []\n",
    "\n",
    "# Itera su tutte le righe\n",
    "for value in matches_futures[\"tourney_name\"]:\n",
    "    if value.startswith(\"M\") and len(value) > 1 and value[1:].split()[0].isdigit():  # Controlla 'W' e numero\n",
    "        parts = value.split(maxsplit=1)  # Dividi al primo spazio\n",
    "        new_values.append(int(parts[0][1:]) * 1000)  # Moltiplica il numero per 1000\n",
    "        updated_col1.append(parts[1] if len(parts) > 1 else None)  # Rimuovi 'W<num>' e mantieni il resto\n",
    "    else:\n",
    "        new_values.append(None)  # Altrimenti, None nella nuova colonna\n",
    "        updated_col1.append(value)  # Mantieni il valore originale\n",
    "\n",
    "# Aggiorna il DataFrame con le due colonne\n",
    "matches_futures = matches_futures.with_columns([\n",
    "    pl.Series(\"tourney_name\", updated_col1),\n",
    "    pl.Series(\"minimum_prize_pool\", new_values),\n",
    "])\n",
    "matches_futures"
   ]
  },
  {
   "cell_type": "code",
   "execution_count": 18,
   "metadata": {},
   "outputs": [
    {
     "data": {
      "text/html": [
       "<div><style>\n",
       ".dataframe > thead > tr,\n",
       ".dataframe > tbody > tr {\n",
       "  text-align: right;\n",
       "  white-space: pre-wrap;\n",
       "}\n",
       "</style>\n",
       "<small>shape: (14_687, 6)</small><table border=\"1\" class=\"dataframe\"><thead><tr><th>tourney_name</th><th>surface</th><th>draw_size</th><th>tourney_level</th><th>tourney_date</th><th>tourney_name_date</th></tr><tr><td>str</td><td>str</td><td>i64</td><td>str</td><td>date</td><td>str</td></tr></thead><tbody><tr><td>&quot;Brazil F14&quot;</td><td>&quot;Clay&quot;</td><td>32</td><td>&quot;S&quot;</td><td>2006-10-09</td><td>&quot;Brazil F14_2006&quot;</td></tr><tr><td>&quot;Brazil F13&quot;</td><td>&quot;Clay&quot;</td><td>32</td><td>&quot;S&quot;</td><td>2007-09-10</td><td>&quot;Brazil F13_2007&quot;</td></tr><tr><td>&quot;China F1&quot;</td><td>&quot;Hard&quot;</td><td>32</td><td>&quot;S&quot;</td><td>2005-05-16</td><td>&quot;China F1_2005&quot;</td></tr><tr><td>&quot;Japan 1 Masters 3&quot;</td><td>&quot;Hard&quot;</td><td>32</td><td>&quot;S&quot;</td><td>1997-07-07</td><td>&quot;Japan 1 Masters 3_1997&quot;</td></tr><tr><td>&quot;Italy F16&quot;</td><td>&quot;Clay&quot;</td><td>32</td><td>&quot;S&quot;</td><td>2010-07-05</td><td>&quot;Italy F16_2010&quot;</td></tr><tr><td>&hellip;</td><td>&hellip;</td><td>&hellip;</td><td>&hellip;</td><td>&hellip;</td><td>&hellip;</td></tr><tr><td>&quot;Tucuman&quot;</td><td>&quot;Clay&quot;</td><td>32</td><td>&quot;25&quot;</td><td>2024-02-26</td><td>&quot;M25 Tucuman_2024&quot;</td></tr><tr><td>&quot;Tianjin&quot;</td><td>&quot;Hard&quot;</td><td>32</td><td>&quot;15&quot;</td><td>2023-06-12</td><td>&quot;M15 Tianjin_2023&quot;</td></tr><tr><td>&quot;USA F9&quot;</td><td>&quot;Hard&quot;</td><td>32</td><td>&quot;S&quot;</td><td>2018-04-02</td><td>&quot;USA F9_2018&quot;</td></tr><tr><td>&quot;Serbia &amp; Montenegro F3&quot;</td><td>&quot;Clay&quot;</td><td>32</td><td>&quot;S&quot;</td><td>2004-06-21</td><td>&quot;Serbia &amp; Montenegro F3_2004&quot;</td></tr><tr><td>&quot;Sweden Masters 4&quot;</td><td>&quot;Carpet&quot;</td><td>32</td><td>&quot;S&quot;</td><td>1995-09-09</td><td>&quot;Sweden Masters 4_1995&quot;</td></tr></tbody></table></div>"
      ],
      "text/plain": [
       "shape: (14_687, 6)\n",
       "┌──────────────────────┬─────────┬───────────┬───────────────┬──────────────┬──────────────────────┐\n",
       "│ tourney_name         ┆ surface ┆ draw_size ┆ tourney_level ┆ tourney_date ┆ tourney_name_date    │\n",
       "│ ---                  ┆ ---     ┆ ---       ┆ ---           ┆ ---          ┆ ---                  │\n",
       "│ str                  ┆ str     ┆ i64       ┆ str           ┆ date         ┆ str                  │\n",
       "╞══════════════════════╪═════════╪═══════════╪═══════════════╪══════════════╪══════════════════════╡\n",
       "│ Brazil F14           ┆ Clay    ┆ 32        ┆ S             ┆ 2006-10-09   ┆ Brazil F14_2006      │\n",
       "│ Brazil F13           ┆ Clay    ┆ 32        ┆ S             ┆ 2007-09-10   ┆ Brazil F13_2007      │\n",
       "│ China F1             ┆ Hard    ┆ 32        ┆ S             ┆ 2005-05-16   ┆ China F1_2005        │\n",
       "│ Japan 1 Masters 3    ┆ Hard    ┆ 32        ┆ S             ┆ 1997-07-07   ┆ Japan 1 Masters      │\n",
       "│                      ┆         ┆           ┆               ┆              ┆ 3_1997               │\n",
       "│ Italy F16            ┆ Clay    ┆ 32        ┆ S             ┆ 2010-07-05   ┆ Italy F16_2010       │\n",
       "│ …                    ┆ …       ┆ …         ┆ …             ┆ …            ┆ …                    │\n",
       "│ Tucuman              ┆ Clay    ┆ 32        ┆ 25            ┆ 2024-02-26   ┆ M25 Tucuman_2024     │\n",
       "│ Tianjin              ┆ Hard    ┆ 32        ┆ 15            ┆ 2023-06-12   ┆ M15 Tianjin_2023     │\n",
       "│ USA F9               ┆ Hard    ┆ 32        ┆ S             ┆ 2018-04-02   ┆ USA F9_2018          │\n",
       "│ Serbia & Montenegro  ┆ Clay    ┆ 32        ┆ S             ┆ 2004-06-21   ┆ Serbia & Montenegro  │\n",
       "│ F3                   ┆         ┆           ┆               ┆              ┆ F3_2004              │\n",
       "│ Sweden Masters 4     ┆ Carpet  ┆ 32        ┆ S             ┆ 1995-09-09   ┆ Sweden Masters       │\n",
       "│                      ┆         ┆           ┆               ┆              ┆ 4_1995               │\n",
       "└──────────────────────┴─────────┴───────────┴───────────────┴──────────────┴──────────────────────┘"
      ]
     },
     "execution_count": 18,
     "metadata": {},
     "output_type": "execute_result"
    }
   ],
   "source": [
    "tourney_futures=matches_futures[['tourney_name', 'surface', 'draw_size', 'tourney_level', 'tourney_date', 'tourney_name_date']]\n",
    "\n",
    "tourney_futures=tourney_futures.unique('tourney_name_date')\n",
    "tourney_futures"
   ]
  },
  {
   "cell_type": "code",
   "execution_count": 19,
   "metadata": {},
   "outputs": [
    {
     "data": {
      "text/html": [
       "<div><style>\n",
       ".dataframe > thead > tr,\n",
       ".dataframe > tbody > tr {\n",
       "  text-align: right;\n",
       "  white-space: pre-wrap;\n",
       "}\n",
       "</style>\n",
       "<small>shape: (593_885, 50)</small><table border=\"1\" class=\"dataframe\"><thead><tr><th>tourney_id</th><th>tourney_name</th><th>surface</th><th>draw_size</th><th>tourney_level</th><th>tourney_date</th><th>match_num</th><th>winner_id</th><th>winner_seed</th><th>winner_entry</th><th>winner_name</th><th>winner_hand</th><th>winner_ht</th><th>winner_ioc</th><th>winner_age</th><th>loser_id</th><th>loser_seed</th><th>loser_entry</th><th>loser_name</th><th>loser_hand</th><th>loser_ht</th><th>loser_ioc</th><th>loser_age</th><th>score</th><th>best_of</th><th>round</th><th>minutes</th><th>w_ace</th><th>w_df</th><th>w_svpt</th><th>w_1stIn</th><th>w_1stWon</th><th>w_2ndWon</th><th>w_SvGms</th><th>w_bpSaved</th><th>w_bpFaced</th><th>l_ace</th><th>l_df</th><th>l_svpt</th><th>l_1stIn</th><th>l_1stWon</th><th>l_2ndWon</th><th>l_SvGms</th><th>l_bpSaved</th><th>l_bpFaced</th><th>winner_rank</th><th>winner_rank_points</th><th>loser_rank</th><th>loser_rank_points</th><th>tourney_name_date</th></tr><tr><td>str</td><td>str</td><td>str</td><td>i64</td><td>str</td><td>date</td><td>i64</td><td>str</td><td>str</td><td>str</td><td>str</td><td>str</td><td>i64</td><td>str</td><td>f64</td><td>str</td><td>str</td><td>str</td><td>str</td><td>str</td><td>i64</td><td>str</td><td>f64</td><td>str</td><td>i64</td><td>str</td><td>str</td><td>str</td><td>str</td><td>str</td><td>str</td><td>str</td><td>str</td><td>str</td><td>str</td><td>str</td><td>str</td><td>str</td><td>str</td><td>str</td><td>str</td><td>str</td><td>str</td><td>str</td><td>str</td><td>str</td><td>str</td><td>str</td><td>str</td><td>str</td></tr></thead><tbody><tr><td>&quot;1968-1004&quot;</td><td>&quot;Bournemouth&quot;</td><td>&quot;Clay&quot;</td><td>32</td><td>&quot;W&quot;</td><td>1968-04-22</td><td>201</td><td>&quot;200810&quot;</td><td>&quot;5&quot;</td><td>null</td><td>&quot;Annette Van Zyl&quot;</td><td>&quot;R&quot;</td><td>180</td><td>&quot;RSA&quot;</td><td>24.5</td><td>&quot;201114&quot;</td><td>null</td><td>null</td><td>&quot;Robin Lloyd&quot;</td><td>&quot;U&quot;</td><td>null</td><td>&quot;GBR&quot;</td><td>24.1</td><td>&quot;6-3 6-4&quot;</td><td>3</td><td>&quot;Q1&quot;</td><td>null</td><td>null</td><td>null</td><td>null</td><td>null</td><td>null</td><td>null</td><td>null</td><td>null</td><td>null</td><td>null</td><td>null</td><td>null</td><td>null</td><td>null</td><td>null</td><td>null</td><td>null</td><td>null</td><td>null</td><td>null</td><td>null</td><td>null</td><td>&quot;Bournemouth_1968&quot;</td></tr><tr><td>&quot;1968-1004&quot;</td><td>&quot;Bournemouth&quot;</td><td>&quot;Clay&quot;</td><td>32</td><td>&quot;W&quot;</td><td>1968-04-22</td><td>202</td><td>&quot;223881&quot;</td><td>null</td><td>null</td><td>&quot;Dianne Bridger&quot;</td><td>&quot;U&quot;</td><td>null</td><td>&quot;GBR&quot;</td><td>null</td><td>&quot;213882&quot;</td><td>null</td><td>null</td><td>&quot;Lena Reichel&quot;</td><td>&quot;U&quot;</td><td>null</td><td>&quot;AUT&quot;</td><td>-29.0</td><td>&quot;6-1 8-6&quot;</td><td>3</td><td>&quot;Q1&quot;</td><td>null</td><td>null</td><td>null</td><td>null</td><td>null</td><td>null</td><td>null</td><td>null</td><td>null</td><td>null</td><td>null</td><td>null</td><td>null</td><td>null</td><td>null</td><td>null</td><td>null</td><td>null</td><td>null</td><td>null</td><td>null</td><td>null</td><td>null</td><td>&quot;Bournemouth_1968&quot;</td></tr><tr><td>&quot;1968-1004&quot;</td><td>&quot;Bournemouth&quot;</td><td>&quot;Clay&quot;</td><td>32</td><td>&quot;W&quot;</td><td>1968-04-22</td><td>203</td><td>&quot;216633&quot;</td><td>null</td><td>null</td><td>&quot;Mary Mcanally&quot;</td><td>&quot;U&quot;</td><td>null</td><td>&quot;GBR&quot;</td><td>23.0</td><td>&quot;223997&quot;</td><td>null</td><td>null</td><td>&quot;Sandra Okin&quot;</td><td>&quot;U&quot;</td><td>null</td><td>&quot;GBR&quot;</td><td>null</td><td>&quot;3-6 6-4 6-2&quot;</td><td>3</td><td>&quot;Q1&quot;</td><td>null</td><td>null</td><td>null</td><td>null</td><td>null</td><td>null</td><td>null</td><td>null</td><td>null</td><td>null</td><td>null</td><td>null</td><td>null</td><td>null</td><td>null</td><td>null</td><td>null</td><td>null</td><td>null</td><td>null</td><td>null</td><td>null</td><td>null</td><td>&quot;Bournemouth_1968&quot;</td></tr><tr><td>&quot;1968-1004&quot;</td><td>&quot;Bournemouth&quot;</td><td>&quot;Clay&quot;</td><td>32</td><td>&quot;W&quot;</td><td>1968-04-22</td><td>204</td><td>&quot;223659&quot;</td><td>null</td><td>null</td><td>&quot;Heather Allen&quot;</td><td>&quot;U&quot;</td><td>null</td><td>&quot;GBR&quot;</td><td>3.8</td><td>&quot;224029&quot;</td><td>null</td><td>null</td><td>&quot;Jane Poynder&quot;</td><td>&quot;U&quot;</td><td>null</td><td>&quot;GBR&quot;</td><td>null</td><td>&quot;6-3 6-4&quot;</td><td>3</td><td>&quot;Q1&quot;</td><td>null</td><td>null</td><td>null</td><td>null</td><td>null</td><td>null</td><td>null</td><td>null</td><td>null</td><td>null</td><td>null</td><td>null</td><td>null</td><td>null</td><td>null</td><td>null</td><td>null</td><td>null</td><td>null</td><td>null</td><td>null</td><td>null</td><td>null</td><td>&quot;Bournemouth_1968&quot;</td></tr><tr><td>&quot;1968-1004&quot;</td><td>&quot;Bournemouth&quot;</td><td>&quot;Clay&quot;</td><td>32</td><td>&quot;W&quot;</td><td>1968-04-22</td><td>205</td><td>&quot;201121&quot;</td><td>null</td><td>null</td><td>&quot;Sue Tutt&quot;</td><td>&quot;U&quot;</td><td>null</td><td>&quot;GBR&quot;</td><td>null</td><td>&quot;201117&quot;</td><td>null</td><td>null</td><td>&quot;Margaret Harris&quot;</td><td>&quot;R&quot;</td><td>null</td><td>&quot;AUS&quot;</td><td>23.1</td><td>&quot;2-6 6-1 6-1&quot;</td><td>3</td><td>&quot;Q1&quot;</td><td>null</td><td>null</td><td>null</td><td>null</td><td>null</td><td>null</td><td>null</td><td>null</td><td>null</td><td>null</td><td>null</td><td>null</td><td>null</td><td>null</td><td>null</td><td>null</td><td>null</td><td>null</td><td>null</td><td>null</td><td>null</td><td>null</td><td>null</td><td>&quot;Bournemouth_1968&quot;</td></tr><tr><td>&hellip;</td><td>&hellip;</td><td>&hellip;</td><td>&hellip;</td><td>&hellip;</td><td>&hellip;</td><td>&hellip;</td><td>&hellip;</td><td>&hellip;</td><td>&hellip;</td><td>&hellip;</td><td>&hellip;</td><td>&hellip;</td><td>&hellip;</td><td>&hellip;</td><td>&hellip;</td><td>&hellip;</td><td>&hellip;</td><td>&hellip;</td><td>&hellip;</td><td>&hellip;</td><td>&hellip;</td><td>&hellip;</td><td>&hellip;</td><td>&hellip;</td><td>&hellip;</td><td>&hellip;</td><td>&hellip;</td><td>&hellip;</td><td>&hellip;</td><td>&hellip;</td><td>&hellip;</td><td>&hellip;</td><td>&hellip;</td><td>&hellip;</td><td>&hellip;</td><td>&hellip;</td><td>&hellip;</td><td>&hellip;</td><td>&hellip;</td><td>&hellip;</td><td>&hellip;</td><td>&hellip;</td><td>&hellip;</td><td>&hellip;</td><td>&hellip;</td><td>&hellip;</td><td>&hellip;</td><td>&hellip;</td><td>&hellip;</td></tr><tr><td>&quot;2024-2051&quot;</td><td>&quot;Midland 125&quot;</td><td>&quot;Hard&quot;</td><td>32</td><td>&quot;C&quot;</td><td>2024-11-04</td><td>262</td><td>&quot;211844&quot;</td><td>&quot;6&quot;</td><td>null</td><td>&quot;Haruka Kaji&quot;</td><td>&quot;R&quot;</td><td>null</td><td>&quot;JPN&quot;</td><td>30.1</td><td>&quot;202478&quot;</td><td>null</td><td>null</td><td>&quot;Tara Moore&quot;</td><td>&quot;R&quot;</td><td>163</td><td>&quot;GBR&quot;</td><td>32.2</td><td>&quot;6-0 6-2&quot;</td><td>3</td><td>&quot;Q1&quot;</td><td>&quot;63&quot;</td><td>&quot;5&quot;</td><td>&quot;1&quot;</td><td>&quot;45&quot;</td><td>&quot;25&quot;</td><td>&quot;18&quot;</td><td>&quot;12&quot;</td><td>&quot;7&quot;</td><td>&quot;2&quot;</td><td>&quot;3&quot;</td><td>&quot;0&quot;</td><td>&quot;10&quot;</td><td>&quot;49&quot;</td><td>&quot;16&quot;</td><td>&quot;9&quot;</td><td>&quot;9&quot;</td><td>&quot;7&quot;</td><td>&quot;6&quot;</td><td>&quot;12&quot;</td><td>&quot;282&quot;</td><td>&quot;232&quot;</td><td>&quot;1121&quot;</td><td>&quot;12&quot;</td><td>&quot;Midland 125_2024&quot;</td></tr><tr><td>&quot;2024-2051&quot;</td><td>&quot;Midland 125&quot;</td><td>&quot;Hard&quot;</td><td>32</td><td>&quot;C&quot;</td><td>2024-11-04</td><td>261</td><td>&quot;215992&quot;</td><td>null</td><td>null</td><td>&quot;Whitney Osuigwe&quot;</td><td>&quot;R&quot;</td><td>168</td><td>&quot;USA&quot;</td><td>22.5</td><td>&quot;203514&quot;</td><td>&quot;3&quot;</td><td>null</td><td>&quot;Katarzyna Kawa&quot;</td><td>&quot;R&quot;</td><td>178</td><td>&quot;POL&quot;</td><td>31.9</td><td>&quot;6-3 6-0&quot;</td><td>3</td><td>&quot;Q1&quot;</td><td>&quot;65&quot;</td><td>&quot;0&quot;</td><td>&quot;0&quot;</td><td>&quot;44&quot;</td><td>&quot;36&quot;</td><td>&quot;28&quot;</td><td>&quot;4&quot;</td><td>&quot;8&quot;</td><td>&quot;0&quot;</td><td>&quot;1&quot;</td><td>&quot;0&quot;</td><td>&quot;0&quot;</td><td>&quot;47&quot;</td><td>&quot;28&quot;</td><td>&quot;13&quot;</td><td>&quot;9&quot;</td><td>&quot;7&quot;</td><td>&quot;3&quot;</td><td>&quot;8&quot;</td><td>&quot;379&quot;</td><td>&quot;160&quot;</td><td>&quot;258&quot;</td><td>&quot;270&quot;</td><td>&quot;Midland 125_2024&quot;</td></tr><tr><td>&quot;2024-2051&quot;</td><td>&quot;Midland 125&quot;</td><td>&quot;Hard&quot;</td><td>32</td><td>&quot;C&quot;</td><td>2024-11-04</td><td>260</td><td>&quot;211222&quot;</td><td>null</td><td>null</td><td>&quot;Jamie Loeb&quot;</td><td>&quot;R&quot;</td><td>168</td><td>&quot;USA&quot;</td><td>29.6</td><td>&quot;214684&quot;</td><td>&quot;7&quot;</td><td>null</td><td>&quot;Katherine Sebov&quot;</td><td>&quot;R&quot;</td><td>173</td><td>&quot;CAN&quot;</td><td>25.8</td><td>&quot;6-2 5-7 4-1 RET&quot;</td><td>3</td><td>&quot;Q1&quot;</td><td>&quot;134&quot;</td><td>&quot;8&quot;</td><td>&quot;6&quot;</td><td>&quot;85&quot;</td><td>&quot;39&quot;</td><td>&quot;25&quot;</td><td>&quot;21&quot;</td><td>&quot;12&quot;</td><td>&quot;8&quot;</td><td>&quot;13&quot;</td><td>&quot;0&quot;</td><td>&quot;4&quot;</td><td>&quot;103&quot;</td><td>&quot;87&quot;</td><td>&quot;41&quot;</td><td>&quot;7&quot;</td><td>&quot;13&quot;</td><td>&quot;7&quot;</td><td>&quot;15&quot;</td><td>&quot;358&quot;</td><td>&quot;172&quot;</td><td>&quot;349&quot;</td><td>&quot;180&quot;</td><td>&quot;Midland 125_2024&quot;</td></tr><tr><td>&quot;2024-2051&quot;</td><td>&quot;Midland 125&quot;</td><td>&quot;Hard&quot;</td><td>32</td><td>&quot;C&quot;</td><td>2024-11-04</td><td>259</td><td>&quot;203513&quot;</td><td>&quot;4&quot;</td><td>null</td><td>&quot;Robin Anderson&quot;</td><td>&quot;R&quot;</td><td>160</td><td>&quot;USA&quot;</td><td>31.5</td><td>&quot;201524&quot;</td><td>null</td><td>null</td><td>&quot;Urszula Radwanska&quot;</td><td>&quot;R&quot;</td><td>177</td><td>&quot;POL&quot;</td><td>33.9</td><td>&quot;6-3 6-4&quot;</td><td>3</td><td>&quot;Q1&quot;</td><td>&quot;91&quot;</td><td>&quot;3&quot;</td><td>&quot;2&quot;</td><td>&quot;60&quot;</td><td>&quot;35&quot;</td><td>&quot;22&quot;</td><td>&quot;18&quot;</td><td>&quot;10&quot;</td><td>&quot;3&quot;</td><td>&quot;5&quot;</td><td>&quot;1&quot;</td><td>&quot;2&quot;</td><td>&quot;49&quot;</td><td>&quot;32&quot;</td><td>&quot;19&quot;</td><td>&quot;9&quot;</td><td>&quot;9&quot;</td><td>&quot;2&quot;</td><td>&quot;6&quot;</td><td>&quot;270&quot;</td><td>&quot;250&quot;</td><td>&quot;432&quot;</td><td>&quot;137&quot;</td><td>&quot;Midland 125_2024&quot;</td></tr><tr><td>&quot;2024-2051&quot;</td><td>&quot;Midland 125&quot;</td><td>&quot;Hard&quot;</td><td>32</td><td>&quot;C&quot;</td><td>2024-11-04</td><td>258</td><td>&quot;264151&quot;</td><td>null</td><td>&quot;WC&quot;</td><td>&quot;Anna Frey&quot;</td><td>&quot;U&quot;</td><td>null</td><td>&quot;USA&quot;</td><td>null</td><td>&quot;211342&quot;</td><td>&quot;8&quot;</td><td>null</td><td>&quot;Gabriela Lee&quot;</td><td>&quot;L&quot;</td><td>null</td><td>&quot;ROU&quot;</td><td>29.2</td><td>&quot;6-4 6-2&quot;</td><td>3</td><td>&quot;Q1&quot;</td><td>&quot;68&quot;</td><td>&quot;3&quot;</td><td>&quot;4&quot;</td><td>&quot;47&quot;</td><td>&quot;35&quot;</td><td>&quot;23&quot;</td><td>&quot;7&quot;</td><td>&quot;9&quot;</td><td>&quot;0&quot;</td><td>&quot;2&quot;</td><td>&quot;2&quot;</td><td>&quot;3&quot;</td><td>&quot;50&quot;</td><td>&quot;32&quot;</td><td>&quot;16&quot;</td><td>&quot;7&quot;</td><td>&quot;9&quot;</td><td>&quot;3&quot;</td><td>&quot;8&quot;</td><td>&quot;852&quot;</td><td>&quot;29&quot;</td><td>&quot;309&quot;</td><td>&quot;204&quot;</td><td>&quot;Midland 125_2024&quot;</td></tr></tbody></table></div>"
      ],
      "text/plain": [
       "shape: (593_885, 50)\n",
       "┌────────────┬───────────┬─────────┬───────────┬───┬───────────┬───────────┬───────────┬───────────┐\n",
       "│ tourney_id ┆ tourney_n ┆ surface ┆ draw_size ┆ … ┆ winner_ra ┆ loser_ran ┆ loser_ran ┆ tourney_n │\n",
       "│ ---        ┆ ame       ┆ ---     ┆ ---       ┆   ┆ nk_points ┆ k         ┆ k_points  ┆ ame_date  │\n",
       "│ str        ┆ ---       ┆ str     ┆ i64       ┆   ┆ ---       ┆ ---       ┆ ---       ┆ ---       │\n",
       "│            ┆ str       ┆         ┆           ┆   ┆ str       ┆ str       ┆ str       ┆ str       │\n",
       "╞════════════╪═══════════╪═════════╪═══════════╪═══╪═══════════╪═══════════╪═══════════╪═══════════╡\n",
       "│ 1968-1004  ┆ Bournemou ┆ Clay    ┆ 32        ┆ … ┆ null      ┆ null      ┆ null      ┆ Bournemou │\n",
       "│            ┆ th        ┆         ┆           ┆   ┆           ┆           ┆           ┆ th_1968   │\n",
       "│ 1968-1004  ┆ Bournemou ┆ Clay    ┆ 32        ┆ … ┆ null      ┆ null      ┆ null      ┆ Bournemou │\n",
       "│            ┆ th        ┆         ┆           ┆   ┆           ┆           ┆           ┆ th_1968   │\n",
       "│ 1968-1004  ┆ Bournemou ┆ Clay    ┆ 32        ┆ … ┆ null      ┆ null      ┆ null      ┆ Bournemou │\n",
       "│            ┆ th        ┆         ┆           ┆   ┆           ┆           ┆           ┆ th_1968   │\n",
       "│ 1968-1004  ┆ Bournemou ┆ Clay    ┆ 32        ┆ … ┆ null      ┆ null      ┆ null      ┆ Bournemou │\n",
       "│            ┆ th        ┆         ┆           ┆   ┆           ┆           ┆           ┆ th_1968   │\n",
       "│ 1968-1004  ┆ Bournemou ┆ Clay    ┆ 32        ┆ … ┆ null      ┆ null      ┆ null      ┆ Bournemou │\n",
       "│            ┆ th        ┆         ┆           ┆   ┆           ┆           ┆           ┆ th_1968   │\n",
       "│ …          ┆ …         ┆ …       ┆ …         ┆ … ┆ …         ┆ …         ┆ …         ┆ …         │\n",
       "│ 2024-2051  ┆ Midland   ┆ Hard    ┆ 32        ┆ … ┆ 232       ┆ 1121      ┆ 12        ┆ Midland   │\n",
       "│            ┆ 125       ┆         ┆           ┆   ┆           ┆           ┆           ┆ 125_2024  │\n",
       "│ 2024-2051  ┆ Midland   ┆ Hard    ┆ 32        ┆ … ┆ 160       ┆ 258       ┆ 270       ┆ Midland   │\n",
       "│            ┆ 125       ┆         ┆           ┆   ┆           ┆           ┆           ┆ 125_2024  │\n",
       "│ 2024-2051  ┆ Midland   ┆ Hard    ┆ 32        ┆ … ┆ 172       ┆ 349       ┆ 180       ┆ Midland   │\n",
       "│            ┆ 125       ┆         ┆           ┆   ┆           ┆           ┆           ┆ 125_2024  │\n",
       "│ 2024-2051  ┆ Midland   ┆ Hard    ┆ 32        ┆ … ┆ 250       ┆ 432       ┆ 137       ┆ Midland   │\n",
       "│            ┆ 125       ┆         ┆           ┆   ┆           ┆           ┆           ┆ 125_2024  │\n",
       "│ 2024-2051  ┆ Midland   ┆ Hard    ┆ 32        ┆ … ┆ 29        ┆ 309       ┆ 204       ┆ Midland   │\n",
       "│            ┆ 125       ┆         ┆           ┆   ┆           ┆           ┆           ┆ 125_2024  │\n",
       "└────────────┴───────────┴─────────┴───────────┴───┴───────────┴───────────┴───────────┴───────────┘"
      ]
     },
     "execution_count": 19,
     "metadata": {},
     "output_type": "execute_result"
    }
   ],
   "source": [
    "matches_qualifiers_itf=import_tennis_matches(data_type=\"qualifiers_itf\",gender=\"wta\")\n",
    "\n",
    "matches_qualifiers_itf = matches_qualifiers_itf.with_columns(\n",
    "    (pl.col(\"tourney_name\") + \"_\" + pl.col(\"tourney_date\").dt.year().cast(pl.Utf8)).alias(\"tourney_name_date\")\n",
    ")\n",
    "matches_qualifiers_itf"
   ]
  },
  {
   "cell_type": "code",
   "execution_count": 20,
   "metadata": {},
   "outputs": [
    {
     "data": {
      "text/html": [
       "<div><style>\n",
       ".dataframe > thead > tr,\n",
       ".dataframe > tbody > tr {\n",
       "  text-align: right;\n",
       "  white-space: pre-wrap;\n",
       "}\n",
       "</style>\n",
       "<small>shape: (593_885, 51)</small><table border=\"1\" class=\"dataframe\"><thead><tr><th>tourney_id</th><th>tourney_name</th><th>surface</th><th>draw_size</th><th>tourney_level</th><th>tourney_date</th><th>match_num</th><th>winner_id</th><th>winner_seed</th><th>winner_entry</th><th>winner_name</th><th>winner_hand</th><th>winner_ht</th><th>winner_ioc</th><th>winner_age</th><th>loser_id</th><th>loser_seed</th><th>loser_entry</th><th>loser_name</th><th>loser_hand</th><th>loser_ht</th><th>loser_ioc</th><th>loser_age</th><th>score</th><th>best_of</th><th>round</th><th>minutes</th><th>w_ace</th><th>w_df</th><th>w_svpt</th><th>w_1stIn</th><th>w_1stWon</th><th>w_2ndWon</th><th>w_SvGms</th><th>w_bpSaved</th><th>w_bpFaced</th><th>l_ace</th><th>l_df</th><th>l_svpt</th><th>l_1stIn</th><th>l_1stWon</th><th>l_2ndWon</th><th>l_SvGms</th><th>l_bpSaved</th><th>l_bpFaced</th><th>winner_rank</th><th>winner_rank_points</th><th>loser_rank</th><th>loser_rank_points</th><th>tourney_name_date</th><th>monetary_winnings</th></tr><tr><td>str</td><td>str</td><td>str</td><td>i64</td><td>str</td><td>date</td><td>i64</td><td>str</td><td>str</td><td>str</td><td>str</td><td>str</td><td>i64</td><td>str</td><td>f64</td><td>str</td><td>str</td><td>str</td><td>str</td><td>str</td><td>i64</td><td>str</td><td>f64</td><td>str</td><td>i64</td><td>str</td><td>str</td><td>str</td><td>str</td><td>str</td><td>str</td><td>str</td><td>str</td><td>str</td><td>str</td><td>str</td><td>str</td><td>str</td><td>str</td><td>str</td><td>str</td><td>str</td><td>str</td><td>str</td><td>str</td><td>str</td><td>str</td><td>str</td><td>str</td><td>str</td><td>i64</td></tr></thead><tbody><tr><td>&quot;1968-1004&quot;</td><td>&quot;Bournemouth&quot;</td><td>&quot;Clay&quot;</td><td>32</td><td>&quot;W&quot;</td><td>1968-04-22</td><td>201</td><td>&quot;200810&quot;</td><td>&quot;5&quot;</td><td>null</td><td>&quot;Annette Van Zyl&quot;</td><td>&quot;R&quot;</td><td>180</td><td>&quot;RSA&quot;</td><td>24.5</td><td>&quot;201114&quot;</td><td>null</td><td>null</td><td>&quot;Robin Lloyd&quot;</td><td>&quot;U&quot;</td><td>null</td><td>&quot;GBR&quot;</td><td>24.1</td><td>&quot;6-3 6-4&quot;</td><td>3</td><td>&quot;Q1&quot;</td><td>null</td><td>null</td><td>null</td><td>null</td><td>null</td><td>null</td><td>null</td><td>null</td><td>null</td><td>null</td><td>null</td><td>null</td><td>null</td><td>null</td><td>null</td><td>null</td><td>null</td><td>null</td><td>null</td><td>null</td><td>null</td><td>null</td><td>null</td><td>&quot;Bournemouth_1968&quot;</td><td>null</td></tr><tr><td>&quot;1968-1004&quot;</td><td>&quot;Bournemouth&quot;</td><td>&quot;Clay&quot;</td><td>32</td><td>&quot;W&quot;</td><td>1968-04-22</td><td>202</td><td>&quot;223881&quot;</td><td>null</td><td>null</td><td>&quot;Dianne Bridger&quot;</td><td>&quot;U&quot;</td><td>null</td><td>&quot;GBR&quot;</td><td>null</td><td>&quot;213882&quot;</td><td>null</td><td>null</td><td>&quot;Lena Reichel&quot;</td><td>&quot;U&quot;</td><td>null</td><td>&quot;AUT&quot;</td><td>-29.0</td><td>&quot;6-1 8-6&quot;</td><td>3</td><td>&quot;Q1&quot;</td><td>null</td><td>null</td><td>null</td><td>null</td><td>null</td><td>null</td><td>null</td><td>null</td><td>null</td><td>null</td><td>null</td><td>null</td><td>null</td><td>null</td><td>null</td><td>null</td><td>null</td><td>null</td><td>null</td><td>null</td><td>null</td><td>null</td><td>null</td><td>&quot;Bournemouth_1968&quot;</td><td>null</td></tr><tr><td>&quot;1968-1004&quot;</td><td>&quot;Bournemouth&quot;</td><td>&quot;Clay&quot;</td><td>32</td><td>&quot;W&quot;</td><td>1968-04-22</td><td>203</td><td>&quot;216633&quot;</td><td>null</td><td>null</td><td>&quot;Mary Mcanally&quot;</td><td>&quot;U&quot;</td><td>null</td><td>&quot;GBR&quot;</td><td>23.0</td><td>&quot;223997&quot;</td><td>null</td><td>null</td><td>&quot;Sandra Okin&quot;</td><td>&quot;U&quot;</td><td>null</td><td>&quot;GBR&quot;</td><td>null</td><td>&quot;3-6 6-4 6-2&quot;</td><td>3</td><td>&quot;Q1&quot;</td><td>null</td><td>null</td><td>null</td><td>null</td><td>null</td><td>null</td><td>null</td><td>null</td><td>null</td><td>null</td><td>null</td><td>null</td><td>null</td><td>null</td><td>null</td><td>null</td><td>null</td><td>null</td><td>null</td><td>null</td><td>null</td><td>null</td><td>null</td><td>&quot;Bournemouth_1968&quot;</td><td>null</td></tr><tr><td>&quot;1968-1004&quot;</td><td>&quot;Bournemouth&quot;</td><td>&quot;Clay&quot;</td><td>32</td><td>&quot;W&quot;</td><td>1968-04-22</td><td>204</td><td>&quot;223659&quot;</td><td>null</td><td>null</td><td>&quot;Heather Allen&quot;</td><td>&quot;U&quot;</td><td>null</td><td>&quot;GBR&quot;</td><td>3.8</td><td>&quot;224029&quot;</td><td>null</td><td>null</td><td>&quot;Jane Poynder&quot;</td><td>&quot;U&quot;</td><td>null</td><td>&quot;GBR&quot;</td><td>null</td><td>&quot;6-3 6-4&quot;</td><td>3</td><td>&quot;Q1&quot;</td><td>null</td><td>null</td><td>null</td><td>null</td><td>null</td><td>null</td><td>null</td><td>null</td><td>null</td><td>null</td><td>null</td><td>null</td><td>null</td><td>null</td><td>null</td><td>null</td><td>null</td><td>null</td><td>null</td><td>null</td><td>null</td><td>null</td><td>null</td><td>&quot;Bournemouth_1968&quot;</td><td>null</td></tr><tr><td>&quot;1968-1004&quot;</td><td>&quot;Bournemouth&quot;</td><td>&quot;Clay&quot;</td><td>32</td><td>&quot;W&quot;</td><td>1968-04-22</td><td>205</td><td>&quot;201121&quot;</td><td>null</td><td>null</td><td>&quot;Sue Tutt&quot;</td><td>&quot;U&quot;</td><td>null</td><td>&quot;GBR&quot;</td><td>null</td><td>&quot;201117&quot;</td><td>null</td><td>null</td><td>&quot;Margaret Harris&quot;</td><td>&quot;R&quot;</td><td>null</td><td>&quot;AUS&quot;</td><td>23.1</td><td>&quot;2-6 6-1 6-1&quot;</td><td>3</td><td>&quot;Q1&quot;</td><td>null</td><td>null</td><td>null</td><td>null</td><td>null</td><td>null</td><td>null</td><td>null</td><td>null</td><td>null</td><td>null</td><td>null</td><td>null</td><td>null</td><td>null</td><td>null</td><td>null</td><td>null</td><td>null</td><td>null</td><td>null</td><td>null</td><td>null</td><td>&quot;Bournemouth_1968&quot;</td><td>null</td></tr><tr><td>&hellip;</td><td>&hellip;</td><td>&hellip;</td><td>&hellip;</td><td>&hellip;</td><td>&hellip;</td><td>&hellip;</td><td>&hellip;</td><td>&hellip;</td><td>&hellip;</td><td>&hellip;</td><td>&hellip;</td><td>&hellip;</td><td>&hellip;</td><td>&hellip;</td><td>&hellip;</td><td>&hellip;</td><td>&hellip;</td><td>&hellip;</td><td>&hellip;</td><td>&hellip;</td><td>&hellip;</td><td>&hellip;</td><td>&hellip;</td><td>&hellip;</td><td>&hellip;</td><td>&hellip;</td><td>&hellip;</td><td>&hellip;</td><td>&hellip;</td><td>&hellip;</td><td>&hellip;</td><td>&hellip;</td><td>&hellip;</td><td>&hellip;</td><td>&hellip;</td><td>&hellip;</td><td>&hellip;</td><td>&hellip;</td><td>&hellip;</td><td>&hellip;</td><td>&hellip;</td><td>&hellip;</td><td>&hellip;</td><td>&hellip;</td><td>&hellip;</td><td>&hellip;</td><td>&hellip;</td><td>&hellip;</td><td>&hellip;</td><td>&hellip;</td></tr><tr><td>&quot;2024-2051&quot;</td><td>&quot;Midland 125&quot;</td><td>&quot;Hard&quot;</td><td>32</td><td>&quot;C&quot;</td><td>2024-11-04</td><td>262</td><td>&quot;211844&quot;</td><td>&quot;6&quot;</td><td>null</td><td>&quot;Haruka Kaji&quot;</td><td>&quot;R&quot;</td><td>null</td><td>&quot;JPN&quot;</td><td>30.1</td><td>&quot;202478&quot;</td><td>null</td><td>null</td><td>&quot;Tara Moore&quot;</td><td>&quot;R&quot;</td><td>163</td><td>&quot;GBR&quot;</td><td>32.2</td><td>&quot;6-0 6-2&quot;</td><td>3</td><td>&quot;Q1&quot;</td><td>&quot;63&quot;</td><td>&quot;5&quot;</td><td>&quot;1&quot;</td><td>&quot;45&quot;</td><td>&quot;25&quot;</td><td>&quot;18&quot;</td><td>&quot;12&quot;</td><td>&quot;7&quot;</td><td>&quot;2&quot;</td><td>&quot;3&quot;</td><td>&quot;0&quot;</td><td>&quot;10&quot;</td><td>&quot;49&quot;</td><td>&quot;16&quot;</td><td>&quot;9&quot;</td><td>&quot;9&quot;</td><td>&quot;7&quot;</td><td>&quot;6&quot;</td><td>&quot;12&quot;</td><td>&quot;282&quot;</td><td>&quot;232&quot;</td><td>&quot;1121&quot;</td><td>&quot;12&quot;</td><td>&quot;Midland 125_2024&quot;</td><td>null</td></tr><tr><td>&quot;2024-2051&quot;</td><td>&quot;Midland 125&quot;</td><td>&quot;Hard&quot;</td><td>32</td><td>&quot;C&quot;</td><td>2024-11-04</td><td>261</td><td>&quot;215992&quot;</td><td>null</td><td>null</td><td>&quot;Whitney Osuigwe&quot;</td><td>&quot;R&quot;</td><td>168</td><td>&quot;USA&quot;</td><td>22.5</td><td>&quot;203514&quot;</td><td>&quot;3&quot;</td><td>null</td><td>&quot;Katarzyna Kawa&quot;</td><td>&quot;R&quot;</td><td>178</td><td>&quot;POL&quot;</td><td>31.9</td><td>&quot;6-3 6-0&quot;</td><td>3</td><td>&quot;Q1&quot;</td><td>&quot;65&quot;</td><td>&quot;0&quot;</td><td>&quot;0&quot;</td><td>&quot;44&quot;</td><td>&quot;36&quot;</td><td>&quot;28&quot;</td><td>&quot;4&quot;</td><td>&quot;8&quot;</td><td>&quot;0&quot;</td><td>&quot;1&quot;</td><td>&quot;0&quot;</td><td>&quot;0&quot;</td><td>&quot;47&quot;</td><td>&quot;28&quot;</td><td>&quot;13&quot;</td><td>&quot;9&quot;</td><td>&quot;7&quot;</td><td>&quot;3&quot;</td><td>&quot;8&quot;</td><td>&quot;379&quot;</td><td>&quot;160&quot;</td><td>&quot;258&quot;</td><td>&quot;270&quot;</td><td>&quot;Midland 125_2024&quot;</td><td>null</td></tr><tr><td>&quot;2024-2051&quot;</td><td>&quot;Midland 125&quot;</td><td>&quot;Hard&quot;</td><td>32</td><td>&quot;C&quot;</td><td>2024-11-04</td><td>260</td><td>&quot;211222&quot;</td><td>null</td><td>null</td><td>&quot;Jamie Loeb&quot;</td><td>&quot;R&quot;</td><td>168</td><td>&quot;USA&quot;</td><td>29.6</td><td>&quot;214684&quot;</td><td>&quot;7&quot;</td><td>null</td><td>&quot;Katherine Sebov&quot;</td><td>&quot;R&quot;</td><td>173</td><td>&quot;CAN&quot;</td><td>25.8</td><td>&quot;6-2 5-7 4-1 RET&quot;</td><td>3</td><td>&quot;Q1&quot;</td><td>&quot;134&quot;</td><td>&quot;8&quot;</td><td>&quot;6&quot;</td><td>&quot;85&quot;</td><td>&quot;39&quot;</td><td>&quot;25&quot;</td><td>&quot;21&quot;</td><td>&quot;12&quot;</td><td>&quot;8&quot;</td><td>&quot;13&quot;</td><td>&quot;0&quot;</td><td>&quot;4&quot;</td><td>&quot;103&quot;</td><td>&quot;87&quot;</td><td>&quot;41&quot;</td><td>&quot;7&quot;</td><td>&quot;13&quot;</td><td>&quot;7&quot;</td><td>&quot;15&quot;</td><td>&quot;358&quot;</td><td>&quot;172&quot;</td><td>&quot;349&quot;</td><td>&quot;180&quot;</td><td>&quot;Midland 125_2024&quot;</td><td>null</td></tr><tr><td>&quot;2024-2051&quot;</td><td>&quot;Midland 125&quot;</td><td>&quot;Hard&quot;</td><td>32</td><td>&quot;C&quot;</td><td>2024-11-04</td><td>259</td><td>&quot;203513&quot;</td><td>&quot;4&quot;</td><td>null</td><td>&quot;Robin Anderson&quot;</td><td>&quot;R&quot;</td><td>160</td><td>&quot;USA&quot;</td><td>31.5</td><td>&quot;201524&quot;</td><td>null</td><td>null</td><td>&quot;Urszula Radwanska&quot;</td><td>&quot;R&quot;</td><td>177</td><td>&quot;POL&quot;</td><td>33.9</td><td>&quot;6-3 6-4&quot;</td><td>3</td><td>&quot;Q1&quot;</td><td>&quot;91&quot;</td><td>&quot;3&quot;</td><td>&quot;2&quot;</td><td>&quot;60&quot;</td><td>&quot;35&quot;</td><td>&quot;22&quot;</td><td>&quot;18&quot;</td><td>&quot;10&quot;</td><td>&quot;3&quot;</td><td>&quot;5&quot;</td><td>&quot;1&quot;</td><td>&quot;2&quot;</td><td>&quot;49&quot;</td><td>&quot;32&quot;</td><td>&quot;19&quot;</td><td>&quot;9&quot;</td><td>&quot;9&quot;</td><td>&quot;2&quot;</td><td>&quot;6&quot;</td><td>&quot;270&quot;</td><td>&quot;250&quot;</td><td>&quot;432&quot;</td><td>&quot;137&quot;</td><td>&quot;Midland 125_2024&quot;</td><td>null</td></tr><tr><td>&quot;2024-2051&quot;</td><td>&quot;Midland 125&quot;</td><td>&quot;Hard&quot;</td><td>32</td><td>&quot;C&quot;</td><td>2024-11-04</td><td>258</td><td>&quot;264151&quot;</td><td>null</td><td>&quot;WC&quot;</td><td>&quot;Anna Frey&quot;</td><td>&quot;U&quot;</td><td>null</td><td>&quot;USA&quot;</td><td>null</td><td>&quot;211342&quot;</td><td>&quot;8&quot;</td><td>null</td><td>&quot;Gabriela Lee&quot;</td><td>&quot;L&quot;</td><td>null</td><td>&quot;ROU&quot;</td><td>29.2</td><td>&quot;6-4 6-2&quot;</td><td>3</td><td>&quot;Q1&quot;</td><td>&quot;68&quot;</td><td>&quot;3&quot;</td><td>&quot;4&quot;</td><td>&quot;47&quot;</td><td>&quot;35&quot;</td><td>&quot;23&quot;</td><td>&quot;7&quot;</td><td>&quot;9&quot;</td><td>&quot;0&quot;</td><td>&quot;2&quot;</td><td>&quot;2&quot;</td><td>&quot;3&quot;</td><td>&quot;50&quot;</td><td>&quot;32&quot;</td><td>&quot;16&quot;</td><td>&quot;7&quot;</td><td>&quot;9&quot;</td><td>&quot;3&quot;</td><td>&quot;8&quot;</td><td>&quot;852&quot;</td><td>&quot;29&quot;</td><td>&quot;309&quot;</td><td>&quot;204&quot;</td><td>&quot;Midland 125_2024&quot;</td><td>null</td></tr></tbody></table></div>"
      ],
      "text/plain": [
       "shape: (593_885, 51)\n",
       "┌────────────┬───────────┬─────────┬───────────┬───┬───────────┬───────────┬───────────┬───────────┐\n",
       "│ tourney_id ┆ tourney_n ┆ surface ┆ draw_size ┆ … ┆ loser_ran ┆ loser_ran ┆ tourney_n ┆ monetary_ │\n",
       "│ ---        ┆ ame       ┆ ---     ┆ ---       ┆   ┆ k         ┆ k_points  ┆ ame_date  ┆ winnings  │\n",
       "│ str        ┆ ---       ┆ str     ┆ i64       ┆   ┆ ---       ┆ ---       ┆ ---       ┆ ---       │\n",
       "│            ┆ str       ┆         ┆           ┆   ┆ str       ┆ str       ┆ str       ┆ i64       │\n",
       "╞════════════╪═══════════╪═════════╪═══════════╪═══╪═══════════╪═══════════╪═══════════╪═══════════╡\n",
       "│ 1968-1004  ┆ Bournemou ┆ Clay    ┆ 32        ┆ … ┆ null      ┆ null      ┆ Bournemou ┆ null      │\n",
       "│            ┆ th        ┆         ┆           ┆   ┆           ┆           ┆ th_1968   ┆           │\n",
       "│ 1968-1004  ┆ Bournemou ┆ Clay    ┆ 32        ┆ … ┆ null      ┆ null      ┆ Bournemou ┆ null      │\n",
       "│            ┆ th        ┆         ┆           ┆   ┆           ┆           ┆ th_1968   ┆           │\n",
       "│ 1968-1004  ┆ Bournemou ┆ Clay    ┆ 32        ┆ … ┆ null      ┆ null      ┆ Bournemou ┆ null      │\n",
       "│            ┆ th        ┆         ┆           ┆   ┆           ┆           ┆ th_1968   ┆           │\n",
       "│ 1968-1004  ┆ Bournemou ┆ Clay    ┆ 32        ┆ … ┆ null      ┆ null      ┆ Bournemou ┆ null      │\n",
       "│            ┆ th        ┆         ┆           ┆   ┆           ┆           ┆ th_1968   ┆           │\n",
       "│ 1968-1004  ┆ Bournemou ┆ Clay    ┆ 32        ┆ … ┆ null      ┆ null      ┆ Bournemou ┆ null      │\n",
       "│            ┆ th        ┆         ┆           ┆   ┆           ┆           ┆ th_1968   ┆           │\n",
       "│ …          ┆ …         ┆ …       ┆ …         ┆ … ┆ …         ┆ …         ┆ …         ┆ …         │\n",
       "│ 2024-2051  ┆ Midland   ┆ Hard    ┆ 32        ┆ … ┆ 1121      ┆ 12        ┆ Midland   ┆ null      │\n",
       "│            ┆ 125       ┆         ┆           ┆   ┆           ┆           ┆ 125_2024  ┆           │\n",
       "│ 2024-2051  ┆ Midland   ┆ Hard    ┆ 32        ┆ … ┆ 258       ┆ 270       ┆ Midland   ┆ null      │\n",
       "│            ┆ 125       ┆         ┆           ┆   ┆           ┆           ┆ 125_2024  ┆           │\n",
       "│ 2024-2051  ┆ Midland   ┆ Hard    ┆ 32        ┆ … ┆ 349       ┆ 180       ┆ Midland   ┆ null      │\n",
       "│            ┆ 125       ┆         ┆           ┆   ┆           ┆           ┆ 125_2024  ┆           │\n",
       "│ 2024-2051  ┆ Midland   ┆ Hard    ┆ 32        ┆ … ┆ 432       ┆ 137       ┆ Midland   ┆ null      │\n",
       "│            ┆ 125       ┆         ┆           ┆   ┆           ┆           ┆ 125_2024  ┆           │\n",
       "│ 2024-2051  ┆ Midland   ┆ Hard    ┆ 32        ┆ … ┆ 309       ┆ 204       ┆ Midland   ┆ null      │\n",
       "│            ┆ 125       ┆         ┆           ┆   ┆           ┆           ┆ 125_2024  ┆           │\n",
       "└────────────┴───────────┴─────────┴───────────┴───┴───────────┴───────────┴───────────┴───────────┘"
      ]
     },
     "execution_count": 20,
     "metadata": {},
     "output_type": "execute_result"
    }
   ],
   "source": [
    "#Creazione di colonna dove mettere il montepremi con ciclo for aggregato\n",
    "\n",
    "# Liste per salvare i risultati\n",
    "new_values = []\n",
    "updated_col1 = []\n",
    "\n",
    "# Itera su tutte le righe\n",
    "for value in matches_qualifiers_itf[\"tourney_name\"]:\n",
    "    if value.startswith(\"W\") and len(value) > 1 and value[1:].split()[0].isdigit():  # Controlla 'W' e numero\n",
    "        parts = value.split(maxsplit=1)  # Dividi al primo spazio\n",
    "        new_values.append(int(parts[0][1:]) * 1000)  # Moltiplica il numero per 1000\n",
    "        updated_col1.append(parts[1] if len(parts) > 1 else None)  # Rimuovi 'W<num>' e mantieni il resto\n",
    "    else:\n",
    "        new_values.append(None)  # Altrimenti, None nella nuova colonna\n",
    "        updated_col1.append(value)  # Mantieni il valore originale\n",
    "\n",
    "# Aggiorna il DataFrame con le due colonne\n",
    "matches_qualifiers_itf = matches_qualifiers_itf.with_columns([\n",
    "    pl.Series(\"tourney_name\", updated_col1),\n",
    "    pl.Series(\"monetary_winnings\", new_values),\n",
    "])\n",
    "matches_qualifiers_itf"
   ]
  },
  {
   "cell_type": "code",
   "execution_count": 21,
   "metadata": {},
   "outputs": [
    {
     "data": {
      "text/html": [
       "<div><style>\n",
       ".dataframe > thead > tr,\n",
       ".dataframe > tbody > tr {\n",
       "  text-align: right;\n",
       "  white-space: pre-wrap;\n",
       "}\n",
       "</style>\n",
       "<small>shape: (13_747, 6)</small><table border=\"1\" class=\"dataframe\"><thead><tr><th>tourney_name</th><th>surface</th><th>draw_size</th><th>tourney_level</th><th>tourney_date</th><th>tourney_name_date</th></tr><tr><td>str</td><td>str</td><td>i64</td><td>str</td><td>date</td><td>str</td></tr></thead><tbody><tr><td>&quot;Linz&quot;</td><td>&quot;Carpet&quot;</td><td>28</td><td>&quot;T2&quot;</td><td>2000-10-14</td><td>&quot;Linz_2000&quot;</td></tr><tr><td>&quot;Bielefeld 10K&quot;</td><td>&quot;Clay&quot;</td><td>32</td><td>&quot;10&quot;</td><td>2003-08-25</td><td>&quot;Bielefeld 10K_2003&quot;</td></tr><tr><td>&quot;Hyderabad&quot;</td><td>&quot;Hard&quot;</td><td>32</td><td>&quot;T4&quot;</td><td>2005-02-07</td><td>&quot;Hyderabad_2005&quot;</td></tr><tr><td>&quot;Guangzhou&quot;</td><td>&quot;Hard&quot;</td><td>32</td><td>&quot;I&quot;</td><td>2012-09-17</td><td>&quot;Guangzhou_2012&quot;</td></tr><tr><td>&quot;El Espinar Segovia $10K&quot;</td><td>&quot;Hard&quot;</td><td>32</td><td>&quot;10&quot;</td><td>2016-07-25</td><td>&quot;El Espinar Segovia $10K_2016&quot;</td></tr><tr><td>&hellip;</td><td>&hellip;</td><td>&hellip;</td><td>&hellip;</td><td>&hellip;</td><td>&hellip;</td></tr><tr><td>&quot;Quebec City&quot;</td><td>&quot;Hard&quot;</td><td>30</td><td>&quot;W&quot;</td><td>1999-11-01</td><td>&quot;Quebec City_1999&quot;</td></tr><tr><td>&quot;San Antonio CH&quot;</td><td>&quot;Hard&quot;</td><td>null</td><td>&quot;C&quot;</td><td>1985-01-21</td><td>&quot;San Antonio CH_1985&quot;</td></tr><tr><td>&quot;Tyler TX&quot;</td><td>&quot;Hard&quot;</td><td>32</td><td>&quot;80&quot;</td><td>2022-10-24</td><td>&quot;W80 Tyler TX_2022&quot;</td></tr><tr><td>&quot;Monterrey&quot;</td><td>&quot;Hard&quot;</td><td>32</td><td>&quot;I&quot;</td><td>2014-03-31</td><td>&quot;Monterrey_2014&quot;</td></tr><tr><td>&quot;Edinburgh 25K&quot;</td><td>&quot;Clay&quot;</td><td>32</td><td>&quot;25&quot;</td><td>2000-05-15</td><td>&quot;Edinburgh 25K_2000&quot;</td></tr></tbody></table></div>"
      ],
      "text/plain": [
       "shape: (13_747, 6)\n",
       "┌──────────────────────┬─────────┬───────────┬───────────────┬──────────────┬──────────────────────┐\n",
       "│ tourney_name         ┆ surface ┆ draw_size ┆ tourney_level ┆ tourney_date ┆ tourney_name_date    │\n",
       "│ ---                  ┆ ---     ┆ ---       ┆ ---           ┆ ---          ┆ ---                  │\n",
       "│ str                  ┆ str     ┆ i64       ┆ str           ┆ date         ┆ str                  │\n",
       "╞══════════════════════╪═════════╪═══════════╪═══════════════╪══════════════╪══════════════════════╡\n",
       "│ Linz                 ┆ Carpet  ┆ 28        ┆ T2            ┆ 2000-10-14   ┆ Linz_2000            │\n",
       "│ Bielefeld 10K        ┆ Clay    ┆ 32        ┆ 10            ┆ 2003-08-25   ┆ Bielefeld 10K_2003   │\n",
       "│ Hyderabad            ┆ Hard    ┆ 32        ┆ T4            ┆ 2005-02-07   ┆ Hyderabad_2005       │\n",
       "│ Guangzhou            ┆ Hard    ┆ 32        ┆ I             ┆ 2012-09-17   ┆ Guangzhou_2012       │\n",
       "│ El Espinar Segovia   ┆ Hard    ┆ 32        ┆ 10            ┆ 2016-07-25   ┆ El Espinar Segovia   │\n",
       "│ $10K                 ┆         ┆           ┆               ┆              ┆ $10K_2016            │\n",
       "│ …                    ┆ …       ┆ …         ┆ …             ┆ …            ┆ …                    │\n",
       "│ Quebec City          ┆ Hard    ┆ 30        ┆ W             ┆ 1999-11-01   ┆ Quebec City_1999     │\n",
       "│ San Antonio CH       ┆ Hard    ┆ null      ┆ C             ┆ 1985-01-21   ┆ San Antonio CH_1985  │\n",
       "│ Tyler TX             ┆ Hard    ┆ 32        ┆ 80            ┆ 2022-10-24   ┆ W80 Tyler TX_2022    │\n",
       "│ Monterrey            ┆ Hard    ┆ 32        ┆ I             ┆ 2014-03-31   ┆ Monterrey_2014       │\n",
       "│ Edinburgh 25K        ┆ Clay    ┆ 32        ┆ 25            ┆ 2000-05-15   ┆ Edinburgh 25K_2000   │\n",
       "└──────────────────────┴─────────┴───────────┴───────────────┴──────────────┴──────────────────────┘"
      ]
     },
     "execution_count": 21,
     "metadata": {},
     "output_type": "execute_result"
    }
   ],
   "source": [
    "tourney_qualifiers_itf=matches_qualifiers_itf[['tourney_name', 'surface', 'draw_size', 'tourney_level', 'tourney_date', 'tourney_name_date']]\n",
    "\n",
    "tourney_qualifiers_itf=tourney_qualifiers_itf.unique('tourney_name_date')\n",
    "tourney_qualifiers_itf"
   ]
  },
  {
   "cell_type": "code",
   "execution_count": 22,
   "metadata": {},
   "outputs": [
    {
     "data": {
      "text/html": [
       "<div><style>\n",
       ".dataframe > thead > tr,\n",
       ".dataframe > tbody > tr {\n",
       "  text-align: right;\n",
       "  white-space: pre-wrap;\n",
       "}\n",
       "</style>\n",
       "<small>shape: (26_399, 66)</small><table border=\"1\" class=\"dataframe\"><thead><tr><th>tourney_id</th><th>tourney_name</th><th>surface</th><th>draw_size</th><th>tourney_level</th><th>tourney_date</th><th>match_num</th><th>winner1_id</th><th>winner2_id</th><th>winner_seed</th><th>winner_entry</th><th>loser1_id</th><th>loser2_id</th><th>loser_seed</th><th>loser_entry</th><th>score</th><th>best_of</th><th>round</th><th>winner1_name</th><th>winner1_hand</th><th>winner1_ht</th><th>winner1_ioc</th><th>winner1_age</th><th>winner2_name</th><th>winner2_hand</th><th>winner2_ht</th><th>winner2_ioc</th><th>winner2_age</th><th>loser1_name</th><th>loser1_hand</th><th>loser1_ht</th><th>loser1_ioc</th><th>loser1_age</th><th>loser2_name</th><th>loser2_hand</th><th>loser2_ht</th><th>loser2_ioc</th><th>loser2_age</th><th>winner1_rank</th><th>winner1_rank_points</th><th>winner2_rank</th><th>winner2_rank_points</th><th>loser1_rank</th><th>loser1_rank_points</th><th>loser2_rank</th><th>loser2_rank_points</th><th>minutes</th><th>w_ace</th><th>w_df</th><th>w_svpt</th><th>w_1stIn</th><th>w_1stWon</th><th>w_2ndWon</th><th>w_SvGms</th><th>w_bpSaved</th><th>w_bpFaced</th><th>l_ace</th><th>l_df</th><th>l_svpt</th><th>l_1stIn</th><th>l_1stWon</th><th>l_2ndWon</th><th>l_SvGms</th><th>l_bpSaved</th><th>l_bpFaced</th><th>tourney_name_date</th></tr><tr><td>str</td><td>str</td><td>str</td><td>i64</td><td>str</td><td>date</td><td>i64</td><td>str</td><td>str</td><td>str</td><td>str</td><td>str</td><td>str</td><td>str</td><td>str</td><td>str</td><td>i64</td><td>str</td><td>str</td><td>str</td><td>i64</td><td>str</td><td>f64</td><td>str</td><td>str</td><td>i64</td><td>str</td><td>f64</td><td>str</td><td>str</td><td>i64</td><td>str</td><td>f64</td><td>str</td><td>str</td><td>i64</td><td>str</td><td>f64</td><td>i64</td><td>i64</td><td>i64</td><td>i64</td><td>i64</td><td>i64</td><td>i64</td><td>i64</td><td>str</td><td>str</td><td>str</td><td>str</td><td>str</td><td>str</td><td>str</td><td>str</td><td>str</td><td>str</td><td>str</td><td>str</td><td>str</td><td>str</td><td>str</td><td>str</td><td>str</td><td>str</td><td>str</td><td>str</td></tr></thead><tbody><tr><td>&quot;2000-301&quot;</td><td>&quot;Auckland&quot;</td><td>&quot;Hard&quot;</td><td>32</td><td>&quot;A&quot;</td><td>2000-01-10</td><td>300</td><td>&quot;101704&quot;</td><td>&quot;101097&quot;</td><td>&quot;1&quot;</td><td>null</td><td>&quot;101358&quot;</td><td>&quot;101543&quot;</td><td>&quot;2&quot;</td><td>null</td><td>&quot;7-5 6-4&quot;</td><td>3</td><td>&quot;F&quot;</td><td>&quot;Ellis Ferreira&quot;</td><td>&quot;L&quot;</td><td>188</td><td>&quot;RSA&quot;</td><td>29.889117</td><td>&quot;Rick Leach&quot;</td><td>&quot;L&quot;</td><td>188</td><td>&quot;USA&quot;</td><td>35.033539</td><td>&quot;Olivier Delaitre&quot;</td><td>&quot;R&quot;</td><td>170</td><td>&quot;FRA&quot;</td><td>32.610541</td><td>&quot;Jeff Tarango&quot;</td><td>&quot;L&quot;</td><td>180</td><td>&quot;USA&quot;</td><td>31.137577</td><td>13</td><td>0</td><td>15</td><td>0</td><td>16</td><td>0</td><td>17</td><td>0</td><td>null</td><td>null</td><td>null</td><td>null</td><td>null</td><td>null</td><td>null</td><td>null</td><td>null</td><td>null</td><td>null</td><td>null</td><td>null</td><td>null</td><td>null</td><td>null</td><td>null</td><td>null</td><td>null</td><td>&quot;Auckland_2000&quot;</td></tr><tr><td>&quot;2000-301&quot;</td><td>&quot;Auckland&quot;</td><td>&quot;Hard&quot;</td><td>32</td><td>&quot;A&quot;</td><td>2000-01-10</td><td>299</td><td>&quot;101704&quot;</td><td>&quot;101097&quot;</td><td>&quot;1&quot;</td><td>null</td><td>&quot;102562&quot;</td><td>&quot;101866&quot;</td><td>&quot;3&quot;</td><td>null</td><td>&quot;6-2 6-4&quot;</td><td>3</td><td>&quot;SF&quot;</td><td>&quot;Ellis Ferreira&quot;</td><td>&quot;L&quot;</td><td>188</td><td>&quot;RSA&quot;</td><td>29.889117</td><td>&quot;Rick Leach&quot;</td><td>&quot;L&quot;</td><td>188</td><td>&quot;USA&quot;</td><td>35.033539</td><td>&quot;Jiri Novak&quot;</td><td>&quot;R&quot;</td><td>190</td><td>&quot;CZE&quot;</td><td>24.804928</td><td>&quot;David Rikl&quot;</td><td>&quot;L&quot;</td><td>178</td><td>&quot;CZE&quot;</td><td>28.867899</td><td>13</td><td>0</td><td>15</td><td>0</td><td>34</td><td>0</td><td>29</td><td>0</td><td>null</td><td>null</td><td>null</td><td>null</td><td>null</td><td>null</td><td>null</td><td>null</td><td>null</td><td>null</td><td>null</td><td>null</td><td>null</td><td>null</td><td>null</td><td>null</td><td>null</td><td>null</td><td>null</td><td>&quot;Auckland_2000&quot;</td></tr><tr><td>&quot;2000-301&quot;</td><td>&quot;Auckland&quot;</td><td>&quot;Hard&quot;</td><td>32</td><td>&quot;A&quot;</td><td>2000-01-10</td><td>298</td><td>&quot;101358&quot;</td><td>&quot;101543&quot;</td><td>&quot;2&quot;</td><td>null</td><td>&quot;102664&quot;</td><td>&quot;101779&quot;</td><td>null</td><td>null</td><td>&quot;6-3 6-4&quot;</td><td>3</td><td>&quot;SF&quot;</td><td>&quot;Olivier Delaitre&quot;</td><td>&quot;R&quot;</td><td>170</td><td>&quot;FRA&quot;</td><td>32.610541</td><td>&quot;Jeff Tarango&quot;</td><td>&quot;L&quot;</td><td>180</td><td>&quot;USA&quot;</td><td>31.137577</td><td>&quot;Petr Pala&quot;</td><td>&quot;R&quot;</td><td>193</td><td>&quot;CZE&quot;</td><td>24.273785</td><td>&quot;Pavel Vizner&quot;</td><td>&quot;R&quot;</td><td>183</td><td>&quot;CZE&quot;</td><td>29.489391</td><td>16</td><td>0</td><td>17</td><td>0</td><td>97</td><td>0</td><td>74</td><td>0</td><td>null</td><td>null</td><td>null</td><td>null</td><td>null</td><td>null</td><td>null</td><td>null</td><td>null</td><td>null</td><td>null</td><td>null</td><td>null</td><td>null</td><td>null</td><td>null</td><td>null</td><td>null</td><td>null</td><td>&quot;Auckland_2000&quot;</td></tr><tr><td>&quot;2000-301&quot;</td><td>&quot;Auckland&quot;</td><td>&quot;Hard&quot;</td><td>32</td><td>&quot;A&quot;</td><td>2000-01-10</td><td>297</td><td>&quot;101704&quot;</td><td>&quot;101097&quot;</td><td>&quot;1&quot;</td><td>null</td><td>&quot;101342&quot;</td><td>&quot;102162&quot;</td><td>null</td><td>&quot;WC&quot;</td><td>&quot;6-3 6-4&quot;</td><td>3</td><td>&quot;QF&quot;</td><td>&quot;Ellis Ferreira&quot;</td><td>&quot;L&quot;</td><td>188</td><td>&quot;RSA&quot;</td><td>29.889117</td><td>&quot;Rick Leach&quot;</td><td>&quot;L&quot;</td><td>188</td><td>&quot;USA&quot;</td><td>35.033539</td><td>&quot;Patrick Galbraith&quot;</td><td>&quot;L&quot;</td><td>183</td><td>&quot;USA&quot;</td><td>32.736482</td><td>&quot;Chris Woodruff&quot;</td><td>&quot;R&quot;</td><td>188</td><td>&quot;USA&quot;</td><td>27.019849</td><td>13</td><td>0</td><td>15</td><td>0</td><td>65</td><td>0</td><td>248</td><td>0</td><td>null</td><td>null</td><td>null</td><td>null</td><td>null</td><td>null</td><td>null</td><td>null</td><td>null</td><td>null</td><td>null</td><td>null</td><td>null</td><td>null</td><td>null</td><td>null</td><td>null</td><td>null</td><td>null</td><td>&quot;Auckland_2000&quot;</td></tr><tr><td>&quot;2000-301&quot;</td><td>&quot;Auckland&quot;</td><td>&quot;Hard&quot;</td><td>32</td><td>&quot;A&quot;</td><td>2000-01-10</td><td>296</td><td>&quot;101358&quot;</td><td>&quot;101543&quot;</td><td>&quot;2&quot;</td><td>null</td><td>&quot;103483&quot;</td><td>&quot;102262&quot;</td><td>null</td><td>&quot;WC&quot;</td><td>&quot;6-2 6-4&quot;</td><td>3</td><td>&quot;QF&quot;</td><td>&quot;Olivier Delaitre&quot;</td><td>&quot;R&quot;</td><td>170</td><td>&quot;FRA&quot;</td><td>32.610541</td><td>&quot;Jeff Tarango&quot;</td><td>&quot;L&quot;</td><td>180</td><td>&quot;USA&quot;</td><td>31.137577</td><td>&quot;James Shortall&quot;</td><td>&quot;R&quot;</td><td>null</td><td>&quot;NZL&quot;</td><td>20.043806</td><td>&quot;Cristiano Testa&quot;</td><td>&quot;L&quot;</td><td>null</td><td>&quot;BRA&quot;</td><td>26.297057</td><td>16</td><td>0</td><td>17</td><td>0</td><td>779</td><td>0</td><td>114</td><td>0</td><td>null</td><td>null</td><td>null</td><td>null</td><td>null</td><td>null</td><td>null</td><td>null</td><td>null</td><td>null</td><td>null</td><td>null</td><td>null</td><td>null</td><td>null</td><td>null</td><td>null</td><td>null</td><td>null</td><td>&quot;Auckland_2000&quot;</td></tr><tr><td>&hellip;</td><td>&hellip;</td><td>&hellip;</td><td>&hellip;</td><td>&hellip;</td><td>&hellip;</td><td>&hellip;</td><td>&hellip;</td><td>&hellip;</td><td>&hellip;</td><td>&hellip;</td><td>&hellip;</td><td>&hellip;</td><td>&hellip;</td><td>&hellip;</td><td>&hellip;</td><td>&hellip;</td><td>&hellip;</td><td>&hellip;</td><td>&hellip;</td><td>&hellip;</td><td>&hellip;</td><td>&hellip;</td><td>&hellip;</td><td>&hellip;</td><td>&hellip;</td><td>&hellip;</td><td>&hellip;</td><td>&hellip;</td><td>&hellip;</td><td>&hellip;</td><td>&hellip;</td><td>&hellip;</td><td>&hellip;</td><td>&hellip;</td><td>&hellip;</td><td>&hellip;</td><td>&hellip;</td><td>&hellip;</td><td>&hellip;</td><td>&hellip;</td><td>&hellip;</td><td>&hellip;</td><td>&hellip;</td><td>&hellip;</td><td>&hellip;</td><td>&hellip;</td><td>&hellip;</td><td>&hellip;</td><td>&hellip;</td><td>&hellip;</td><td>&hellip;</td><td>&hellip;</td><td>&hellip;</td><td>&hellip;</td><td>&hellip;</td><td>&hellip;</td><td>&hellip;</td><td>&hellip;</td><td>&hellip;</td><td>&hellip;</td><td>&hellip;</td><td>&hellip;</td><td>&hellip;</td><td>&hellip;</td><td>&hellip;</td></tr><tr><td>&quot;2020-M-DC-2020-WG2-PO-MAR-VIE-…</td><td>&quot;Davis Cup WG2 PO: MAR vs VIE&quot;</td><td>&quot;Clay&quot;</td><td>4</td><td>&quot;D&quot;</td><td>2020-03-06</td><td>3</td><td>&quot;104917&quot;</td><td>&quot;104467&quot;</td><td>null</td><td>null</td><td>&quot;109042&quot;</td><td>&quot;122533&quot;</td><td>null</td><td>null</td><td>&quot;6-4 6-1&quot;</td><td>3</td><td>&quot;RR&quot;</td><td>&quot;Anas Fattar&quot;</td><td>&quot;R&quot;</td><td>null</td><td>&quot;MAR&quot;</td><td>32.807666</td><td>&quot;Lamine Ouahab&quot;</td><td>&quot;R&quot;</td><td>185</td><td>&quot;ALG&quot;</td><td>35.192334</td><td>&quot;Quoc Khanh Le&quot;</td><td>&quot;R&quot;</td><td>null</td><td>&quot;VIE&quot;</td><td>37.497604</td><td>&quot;Nam Hoang Ly&quot;</td><td>&quot;R&quot;</td><td>null</td><td>&quot;VIE&quot;</td><td>23.014374</td><td>683</td><td>48</td><td>942</td><td>26</td><td>null</td><td>null</td><td>1293</td><td>12</td><td>null</td><td>null</td><td>null</td><td>null</td><td>null</td><td>null</td><td>null</td><td>null</td><td>null</td><td>null</td><td>null</td><td>null</td><td>null</td><td>null</td><td>null</td><td>null</td><td>null</td><td>null</td><td>null</td><td>&quot;Davis Cup WG2 PO: MAR vs VIE_2…</td></tr><tr><td>&quot;2020-M-DC-2020-WG2-PO-PAR-SRI-…</td><td>&quot;Davis Cup WG2 PO: PAR vs SRI&quot;</td><td>&quot;Clay&quot;</td><td>4</td><td>&quot;D&quot;</td><td>2020-03-06</td><td>3</td><td>&quot;134677&quot;</td><td>&quot;137018&quot;</td><td>null</td><td>null</td><td>&quot;202462&quot;</td><td>&quot;134886&quot;</td><td>null</td><td>null</td><td>&quot;6-1 6-4&quot;</td><td>3</td><td>&quot;RR&quot;</td><td>&quot;Juan Borba&quot;</td><td>&quot;R&quot;</td><td>null</td><td>&quot;PAR&quot;</td><td>23.887748</td><td>&quot;Ayed Zatar&quot;</td><td>&quot;R&quot;</td><td>null</td><td>&quot;PAR&quot;</td><td>23.926078</td><td>&quot;Yasitha De Silva&quot;</td><td>null</td><td>null</td><td>&quot;SRI&quot;</td><td>24.665298</td><td>&quot;Sharmal Dissanayake&quot;</td><td>&quot;R&quot;</td><td>null</td><td>&quot;SRI&quot;</td><td>23.800137</td><td>null</td><td>null</td><td>null</td><td>null</td><td>null</td><td>null</td><td>null</td><td>null</td><td>null</td><td>null</td><td>null</td><td>null</td><td>null</td><td>null</td><td>null</td><td>null</td><td>null</td><td>null</td><td>null</td><td>null</td><td>null</td><td>null</td><td>null</td><td>null</td><td>null</td><td>null</td><td>null</td><td>&quot;Davis Cup WG2 PO: PAR vs SRI_2…</td></tr><tr><td>&quot;2020-M-DC-2020-WG2-PO-PHI-GRE-…</td><td>&quot;Davis Cup WG2 PO: PHI vs GRE&quot;</td><td>&quot;Clay&quot;</td><td>4</td><td>&quot;D&quot;</td><td>2020-03-06</td><td>3</td><td>&quot;108717&quot;</td><td>&quot;104604&quot;</td><td>null</td><td>null</td><td>&quot;109737&quot;</td><td>&quot;202065&quot;</td><td>null</td><td>null</td><td>&quot;7-6(5) 6-4&quot;</td><td>3</td><td>&quot;RR&quot;</td><td>&quot;Francis Casey Alcantara&quot;</td><td>&quot;U&quot;</td><td>null</td><td>&quot;PHI&quot;</td><td>28.073922</td><td>&quot;Ruben Gonzales&quot;</td><td>&quot;R&quot;</td><td>null</td><td>&quot;PHI&quot;</td><td>34.472279</td><td>&quot;Markos Kalovelonis&quot;</td><td>&quot;R&quot;</td><td>null</td><td>&quot;GRE&quot;</td><td>25.790554</td><td>&quot;Petros Tsitsipas&quot;</td><td>&quot;U&quot;</td><td>null</td><td>&quot;GRE&quot;</td><td>19.597536</td><td>537</td><td>69</td><td>212</td><td>307</td><td>503</td><td>77</td><td>1072</td><td>20</td><td>null</td><td>null</td><td>null</td><td>null</td><td>null</td><td>null</td><td>null</td><td>null</td><td>null</td><td>null</td><td>null</td><td>null</td><td>null</td><td>null</td><td>null</td><td>null</td><td>null</td><td>null</td><td>null</td><td>&quot;Davis Cup WG2 PO: PHI vs GRE_2…</td></tr><tr><td>&quot;2020-M-DC-2020-WG2-PO-POL-HKG-…</td><td>&quot;Davis Cup WG2 PO: POL vs HKG&quot;</td><td>&quot;Hard&quot;</td><td>4</td><td>&quot;D&quot;</td><td>2020-03-06</td><td>3</td><td>&quot;126166&quot;</td><td>&quot;126591&quot;</td><td>null</td><td>null</td><td>&quot;205695&quot;</td><td>&quot;106388&quot;</td><td>null</td><td>null</td><td>&quot;6-3 6-7(6) 6-3&quot;</td><td>3</td><td>&quot;RR&quot;</td><td>&quot;Szymon Walkow&quot;</td><td>&quot;R&quot;</td><td>null</td><td>&quot;POL&quot;</td><td>24.443532</td><td>&quot;Jan Zielinski&quot;</td><td>&quot;R&quot;</td><td>null</td><td>&quot;POL&quot;</td><td>23.290897</td><td>&quot;Ching Lam&quot;</td><td>&quot;R&quot;</td><td>null</td><td>&quot;HKG&quot;</td><td>20.495551</td><td>&quot;Pak Long Yeung&quot;</td><td>&quot;U&quot;</td><td>null</td><td>&quot;HKG&quot;</td><td>25.045859</td><td>182</td><td>389</td><td>295</td><td>178</td><td>null</td><td>null</td><td>557</td><td>66</td><td>null</td><td>null</td><td>null</td><td>null</td><td>null</td><td>null</td><td>null</td><td>null</td><td>null</td><td>null</td><td>null</td><td>null</td><td>null</td><td>null</td><td>null</td><td>null</td><td>null</td><td>null</td><td>null</td><td>&quot;Davis Cup WG2 PO: POL vs HKG_2…</td></tr><tr><td>&quot;2020-M-DC-2020-WG2-PO-SYR-ZIM-…</td><td>&quot;Davis Cup WG2 PO: SYR vs ZIM&quot;</td><td>&quot;Hard&quot;</td><td>4</td><td>&quot;D&quot;</td><td>2020-03-06</td><td>3</td><td>&quot;111761&quot;</td><td>&quot;144747&quot;</td><td>null</td><td>null</td><td>&quot;200153&quot;</td><td>&quot;208518&quot;</td><td>null</td><td>null</td><td>&quot;6-1 4-6 6-3&quot;</td><td>3</td><td>&quot;RR&quot;</td><td>&quot;Benjamin Lock&quot;</td><td>&quot;R&quot;</td><td>null</td><td>&quot;ZIM&quot;</td><td>26.995209</td><td>&quot;Courtney John Lock&quot;</td><td>&quot;R&quot;</td><td>null</td><td>&quot;ZIM&quot;</td><td>23.370294</td><td>&quot;Yacoub Makzoume&quot;</td><td>&quot;R&quot;</td><td>null</td><td>&quot;SYR&quot;</td><td>24.832307</td><td>&quot;Hazem Naw&quot;</td><td>&quot;R&quot;</td><td>null</td><td>&quot;UNK&quot;</td><td>20.167009</td><td>231</td><td>267</td><td>327</td><td>146</td><td>null</td><td>null</td><td>1929</td><td>2</td><td>null</td><td>null</td><td>null</td><td>null</td><td>null</td><td>null</td><td>null</td><td>null</td><td>null</td><td>null</td><td>null</td><td>null</td><td>null</td><td>null</td><td>null</td><td>null</td><td>null</td><td>null</td><td>null</td><td>&quot;Davis Cup WG2 PO: SYR vs ZIM_2…</td></tr></tbody></table></div>"
      ],
      "text/plain": [
       "shape: (26_399, 66)\n",
       "┌────────────┬────────────┬─────────┬───────────┬───┬─────────┬───────────┬───────────┬────────────┐\n",
       "│ tourney_id ┆ tourney_na ┆ surface ┆ draw_size ┆ … ┆ l_SvGms ┆ l_bpSaved ┆ l_bpFaced ┆ tourney_na │\n",
       "│ ---        ┆ me         ┆ ---     ┆ ---       ┆   ┆ ---     ┆ ---       ┆ ---       ┆ me_date    │\n",
       "│ str        ┆ ---        ┆ str     ┆ i64       ┆   ┆ str     ┆ str       ┆ str       ┆ ---        │\n",
       "│            ┆ str        ┆         ┆           ┆   ┆         ┆           ┆           ┆ str        │\n",
       "╞════════════╪════════════╪═════════╪═══════════╪═══╪═════════╪═══════════╪═══════════╪════════════╡\n",
       "│ 2000-301   ┆ Auckland   ┆ Hard    ┆ 32        ┆ … ┆ null    ┆ null      ┆ null      ┆ Auckland_2 │\n",
       "│            ┆            ┆         ┆           ┆   ┆         ┆           ┆           ┆ 000        │\n",
       "│ 2000-301   ┆ Auckland   ┆ Hard    ┆ 32        ┆ … ┆ null    ┆ null      ┆ null      ┆ Auckland_2 │\n",
       "│            ┆            ┆         ┆           ┆   ┆         ┆           ┆           ┆ 000        │\n",
       "│ 2000-301   ┆ Auckland   ┆ Hard    ┆ 32        ┆ … ┆ null    ┆ null      ┆ null      ┆ Auckland_2 │\n",
       "│            ┆            ┆         ┆           ┆   ┆         ┆           ┆           ┆ 000        │\n",
       "│ 2000-301   ┆ Auckland   ┆ Hard    ┆ 32        ┆ … ┆ null    ┆ null      ┆ null      ┆ Auckland_2 │\n",
       "│            ┆            ┆         ┆           ┆   ┆         ┆           ┆           ┆ 000        │\n",
       "│ 2000-301   ┆ Auckland   ┆ Hard    ┆ 32        ┆ … ┆ null    ┆ null      ┆ null      ┆ Auckland_2 │\n",
       "│            ┆            ┆         ┆           ┆   ┆         ┆           ┆           ┆ 000        │\n",
       "│ …          ┆ …          ┆ …       ┆ …         ┆ … ┆ …       ┆ …         ┆ …         ┆ …          │\n",
       "│ 2020-M-DC- ┆ Davis Cup  ┆ Clay    ┆ 4         ┆ … ┆ null    ┆ null      ┆ null      ┆ Davis Cup  │\n",
       "│ 2020-WG2-P ┆ WG2 PO:    ┆         ┆           ┆   ┆         ┆           ┆           ┆ WG2 PO:    │\n",
       "│ O-MAR-VIE- ┆ MAR vs VIE ┆         ┆           ┆   ┆         ┆           ┆           ┆ MAR vs     │\n",
       "│ …          ┆            ┆         ┆           ┆   ┆         ┆           ┆           ┆ VIE_2…     │\n",
       "│ 2020-M-DC- ┆ Davis Cup  ┆ Clay    ┆ 4         ┆ … ┆ null    ┆ null      ┆ null      ┆ Davis Cup  │\n",
       "│ 2020-WG2-P ┆ WG2 PO:    ┆         ┆           ┆   ┆         ┆           ┆           ┆ WG2 PO:    │\n",
       "│ O-PAR-SRI- ┆ PAR vs SRI ┆         ┆           ┆   ┆         ┆           ┆           ┆ PAR vs     │\n",
       "│ …          ┆            ┆         ┆           ┆   ┆         ┆           ┆           ┆ SRI_2…     │\n",
       "│ 2020-M-DC- ┆ Davis Cup  ┆ Clay    ┆ 4         ┆ … ┆ null    ┆ null      ┆ null      ┆ Davis Cup  │\n",
       "│ 2020-WG2-P ┆ WG2 PO:    ┆         ┆           ┆   ┆         ┆           ┆           ┆ WG2 PO:    │\n",
       "│ O-PHI-GRE- ┆ PHI vs GRE ┆         ┆           ┆   ┆         ┆           ┆           ┆ PHI vs     │\n",
       "│ …          ┆            ┆         ┆           ┆   ┆         ┆           ┆           ┆ GRE_2…     │\n",
       "│ 2020-M-DC- ┆ Davis Cup  ┆ Hard    ┆ 4         ┆ … ┆ null    ┆ null      ┆ null      ┆ Davis Cup  │\n",
       "│ 2020-WG2-P ┆ WG2 PO:    ┆         ┆           ┆   ┆         ┆           ┆           ┆ WG2 PO:    │\n",
       "│ O-POL-HKG- ┆ POL vs HKG ┆         ┆           ┆   ┆         ┆           ┆           ┆ POL vs     │\n",
       "│ …          ┆            ┆         ┆           ┆   ┆         ┆           ┆           ┆ HKG_2…     │\n",
       "│ 2020-M-DC- ┆ Davis Cup  ┆ Hard    ┆ 4         ┆ … ┆ null    ┆ null      ┆ null      ┆ Davis Cup  │\n",
       "│ 2020-WG2-P ┆ WG2 PO:    ┆         ┆           ┆   ┆         ┆           ┆           ┆ WG2 PO:    │\n",
       "│ O-SYR-ZIM- ┆ SYR vs ZIM ┆         ┆           ┆   ┆         ┆           ┆           ┆ SYR vs     │\n",
       "│ …          ┆            ┆         ┆           ┆   ┆         ┆           ┆           ┆ ZIM_2…     │\n",
       "└────────────┴────────────┴─────────┴───────────┴───┴─────────┴───────────┴───────────┴────────────┘"
      ]
     },
     "execution_count": 22,
     "metadata": {},
     "output_type": "execute_result"
    }
   ],
   "source": [
    "matches_doubles_atp=import_tennis_matches(data_type=\"doubles\")\n",
    "\n",
    "matches_doubles_atp = matches_doubles_atp.with_columns(\n",
    "    (pl.col(\"tourney_name\") + \"_\" + pl.col(\"tourney_date\").dt.year().cast(pl.Utf8)).alias(\"tourney_name_date\")\n",
    ")\n",
    "matches_doubles_atp"
   ]
  },
  {
   "cell_type": "code",
   "execution_count": 23,
   "metadata": {},
   "outputs": [
    {
     "data": {
      "text/html": [
       "<div><style>\n",
       ".dataframe > thead > tr,\n",
       ".dataframe > tbody > tr {\n",
       "  text-align: right;\n",
       "  white-space: pre-wrap;\n",
       "}\n",
       "</style>\n",
       "<small>shape: (1_345, 6)</small><table border=\"1\" class=\"dataframe\"><thead><tr><th>tourney_name</th><th>surface</th><th>draw_size</th><th>tourney_level</th><th>tourney_date</th><th>tourney_name_date</th></tr><tr><td>str</td><td>str</td><td>i64</td><td>str</td><td>date</td><td>str</td></tr></thead><tbody><tr><td>&quot;Cincinnati Masters&quot;</td><td>&quot;Hard&quot;</td><td>56</td><td>&quot;M&quot;</td><td>2010-08-15</td><td>&quot;Cincinnati Masters_2010&quot;</td></tr><tr><td>&quot;Rotterdam&quot;</td><td>&quot;Hard&quot;</td><td>32</td><td>&quot;A&quot;</td><td>2009-02-09</td><td>&quot;Rotterdam_2009&quot;</td></tr><tr><td>&quot;Mumbai&quot;</td><td>&quot;Hard&quot;</td><td>32</td><td>&quot;A&quot;</td><td>2006-09-25</td><td>&quot;Mumbai_2006&quot;</td></tr><tr><td>&quot;Los Angeles&quot;</td><td>&quot;Hard&quot;</td><td>32</td><td>&quot;A&quot;</td><td>2007-07-16</td><td>&quot;Los Angeles_2007&quot;</td></tr><tr><td>&quot;Gstaad&quot;</td><td>&quot;Clay&quot;</td><td>32</td><td>&quot;A&quot;</td><td>2009-07-26</td><td>&quot;Gstaad_2009&quot;</td></tr><tr><td>&hellip;</td><td>&hellip;</td><td>&hellip;</td><td>&hellip;</td><td>&hellip;</td><td>&hellip;</td></tr><tr><td>&quot;Shanghai Masters&quot;</td><td>&quot;Hard&quot;</td><td>64</td><td>&quot;M&quot;</td><td>2019-10-07</td><td>&quot;Shanghai Masters_2019&quot;</td></tr><tr><td>&quot;Long Island&quot;</td><td>&quot;Hard&quot;</td><td>48</td><td>&quot;A&quot;</td><td>2002-08-19</td><td>&quot;Long Island_2002&quot;</td></tr><tr><td>&quot;Santiago&quot;</td><td>&quot;Clay&quot;</td><td>32</td><td>&quot;A&quot;</td><td>2010-02-01</td><td>&quot;Santiago_2010&quot;</td></tr><tr><td>&quot;Rio De Janeiro&quot;</td><td>&quot;Clay&quot;</td><td>32</td><td>&quot;A&quot;</td><td>2020-02-17</td><td>&quot;Rio De Janeiro_2020&quot;</td></tr><tr><td>&quot;Stuttgart&quot;</td><td>&quot;Grass&quot;</td><td>32</td><td>&quot;A&quot;</td><td>2019-06-10</td><td>&quot;Stuttgart_2019&quot;</td></tr></tbody></table></div>"
      ],
      "text/plain": [
       "shape: (1_345, 6)\n",
       "┌────────────────────┬─────────┬───────────┬───────────────┬──────────────┬────────────────────────┐\n",
       "│ tourney_name       ┆ surface ┆ draw_size ┆ tourney_level ┆ tourney_date ┆ tourney_name_date      │\n",
       "│ ---                ┆ ---     ┆ ---       ┆ ---           ┆ ---          ┆ ---                    │\n",
       "│ str                ┆ str     ┆ i64       ┆ str           ┆ date         ┆ str                    │\n",
       "╞════════════════════╪═════════╪═══════════╪═══════════════╪══════════════╪════════════════════════╡\n",
       "│ Cincinnati Masters ┆ Hard    ┆ 56        ┆ M             ┆ 2010-08-15   ┆ Cincinnati             │\n",
       "│                    ┆         ┆           ┆               ┆              ┆ Masters_2010           │\n",
       "│ Rotterdam          ┆ Hard    ┆ 32        ┆ A             ┆ 2009-02-09   ┆ Rotterdam_2009         │\n",
       "│ Mumbai             ┆ Hard    ┆ 32        ┆ A             ┆ 2006-09-25   ┆ Mumbai_2006            │\n",
       "│ Los Angeles        ┆ Hard    ┆ 32        ┆ A             ┆ 2007-07-16   ┆ Los Angeles_2007       │\n",
       "│ Gstaad             ┆ Clay    ┆ 32        ┆ A             ┆ 2009-07-26   ┆ Gstaad_2009            │\n",
       "│ …                  ┆ …       ┆ …         ┆ …             ┆ …            ┆ …                      │\n",
       "│ Shanghai Masters   ┆ Hard    ┆ 64        ┆ M             ┆ 2019-10-07   ┆ Shanghai Masters_2019  │\n",
       "│ Long Island        ┆ Hard    ┆ 48        ┆ A             ┆ 2002-08-19   ┆ Long Island_2002       │\n",
       "│ Santiago           ┆ Clay    ┆ 32        ┆ A             ┆ 2010-02-01   ┆ Santiago_2010          │\n",
       "│ Rio De Janeiro     ┆ Clay    ┆ 32        ┆ A             ┆ 2020-02-17   ┆ Rio De Janeiro_2020    │\n",
       "│ Stuttgart          ┆ Grass   ┆ 32        ┆ A             ┆ 2019-06-10   ┆ Stuttgart_2019         │\n",
       "└────────────────────┴─────────┴───────────┴───────────────┴──────────────┴────────────────────────┘"
      ]
     },
     "execution_count": 23,
     "metadata": {},
     "output_type": "execute_result"
    }
   ],
   "source": [
    "tourney_doubles_matches_atp=matches_doubles_atp[['tourney_name', 'surface', 'draw_size', 'tourney_level', 'tourney_date', 'tourney_name_date']]\n",
    "\n",
    "tourney_doubles_matches_atp=tourney_doubles_matches_atp.unique('tourney_name_date')\n",
    "tourney_doubles_matches_atp"
   ]
  },
  {
   "cell_type": "code",
   "execution_count": 24,
   "metadata": {},
   "outputs": [
    {
     "data": {
      "text/html": [
       "<div><style>\n",
       ".dataframe > thead > tr,\n",
       ".dataframe > tbody > tr {\n",
       "  text-align: right;\n",
       "  white-space: pre-wrap;\n",
       "}\n",
       "</style>\n",
       "<small>shape: (65_019, 9)</small><table border=\"1\" class=\"dataframe\"><thead><tr><th>player_id</th><th>name_first</th><th>name_last</th><th>hand</th><th>dob</th><th>ioc</th><th>height</th><th>wikidata_id</th><th>name_full</th></tr><tr><td>i64</td><td>str</td><td>str</td><td>str</td><td>date</td><td>str</td><td>i64</td><td>str</td><td>str</td></tr></thead><tbody><tr><td>100001</td><td>&quot;Gardnar&quot;</td><td>&quot;Mulloy&quot;</td><td>&quot;R&quot;</td><td>1913-11-22</td><td>&quot;USA&quot;</td><td>185</td><td>&quot;Q54544&quot;</td><td>&quot;Gardnar Mulloy&quot;</td></tr><tr><td>100002</td><td>&quot;Pancho&quot;</td><td>&quot;Segura&quot;</td><td>&quot;R&quot;</td><td>1921-06-20</td><td>&quot;ECU&quot;</td><td>168</td><td>&quot;Q54581&quot;</td><td>&quot;Pancho Segura&quot;</td></tr><tr><td>100003</td><td>&quot;Frank&quot;</td><td>&quot;Sedgman&quot;</td><td>&quot;R&quot;</td><td>1927-10-02</td><td>&quot;AUS&quot;</td><td>180</td><td>&quot;Q962049&quot;</td><td>&quot;Frank Sedgman&quot;</td></tr><tr><td>100004</td><td>&quot;Giuseppe&quot;</td><td>&quot;Merlo&quot;</td><td>&quot;R&quot;</td><td>1927-10-11</td><td>&quot;ITA&quot;</td><td>null</td><td>&quot;Q1258752&quot;</td><td>&quot;Giuseppe Merlo&quot;</td></tr><tr><td>100005</td><td>&quot;Richard&quot;</td><td>&quot;Gonzalez&quot;</td><td>&quot;R&quot;</td><td>1928-05-09</td><td>&quot;USA&quot;</td><td>188</td><td>&quot;Q53554&quot;</td><td>&quot;Richard Gonzalez&quot;</td></tr><tr><td>&hellip;</td><td>&hellip;</td><td>&hellip;</td><td>&hellip;</td><td>&hellip;</td><td>&hellip;</td><td>&hellip;</td><td>&hellip;</td><td>&hellip;</td></tr><tr><td>212913</td><td>&quot;Pietro&quot;</td><td>&quot;Ricci&quot;</td><td>&quot;U&quot;</td><td>null</td><td>&quot;ITA&quot;</td><td>null</td><td>null</td><td>&quot;Pietro Ricci&quot;</td></tr><tr><td>212914</td><td>&quot;Corey&quot;</td><td>&quot;Craig&quot;</td><td>&quot;U&quot;</td><td>null</td><td>&quot;USA&quot;</td><td>null</td><td>null</td><td>&quot;Corey Craig&quot;</td></tr><tr><td>212915</td><td>&quot;Aleksandar&quot;</td><td>&quot;Ljubojevic&quot;</td><td>&quot;U&quot;</td><td>null</td><td>&quot;SRB&quot;</td><td>null</td><td>null</td><td>&quot;Aleksandar Ljubojevic&quot;</td></tr><tr><td>212916</td><td>&quot;Marko&quot;</td><td>&quot;Milosavljevic&quot;</td><td>&quot;U&quot;</td><td>null</td><td>&quot;SRB&quot;</td><td>null</td><td>null</td><td>&quot;Marko Milosavljevic&quot;</td></tr><tr><td>212917</td><td>&quot;Stefan&quot;</td><td>&quot;Skobelev&quot;</td><td>&quot;U&quot;</td><td>null</td><td>&quot;SRB&quot;</td><td>null</td><td>null</td><td>&quot;Stefan Skobelev&quot;</td></tr></tbody></table></div>"
      ],
      "text/plain": [
       "shape: (65_019, 9)\n",
       "┌───────────┬────────────┬───────────────┬──────┬───┬─────┬────────┬─────────────┬─────────────────┐\n",
       "│ player_id ┆ name_first ┆ name_last     ┆ hand ┆ … ┆ ioc ┆ height ┆ wikidata_id ┆ name_full       │\n",
       "│ ---       ┆ ---        ┆ ---           ┆ ---  ┆   ┆ --- ┆ ---    ┆ ---         ┆ ---             │\n",
       "│ i64       ┆ str        ┆ str           ┆ str  ┆   ┆ str ┆ i64    ┆ str         ┆ str             │\n",
       "╞═══════════╪════════════╪═══════════════╪══════╪═══╪═════╪════════╪═════════════╪═════════════════╡\n",
       "│ 100001    ┆ Gardnar    ┆ Mulloy        ┆ R    ┆ … ┆ USA ┆ 185    ┆ Q54544      ┆ Gardnar Mulloy  │\n",
       "│ 100002    ┆ Pancho     ┆ Segura        ┆ R    ┆ … ┆ ECU ┆ 168    ┆ Q54581      ┆ Pancho Segura   │\n",
       "│ 100003    ┆ Frank      ┆ Sedgman       ┆ R    ┆ … ┆ AUS ┆ 180    ┆ Q962049     ┆ Frank Sedgman   │\n",
       "│ 100004    ┆ Giuseppe   ┆ Merlo         ┆ R    ┆ … ┆ ITA ┆ null   ┆ Q1258752    ┆ Giuseppe Merlo  │\n",
       "│ 100005    ┆ Richard    ┆ Gonzalez      ┆ R    ┆ … ┆ USA ┆ 188    ┆ Q53554      ┆ Richard         │\n",
       "│           ┆            ┆               ┆      ┆   ┆     ┆        ┆             ┆ Gonzalez        │\n",
       "│ …         ┆ …          ┆ …             ┆ …    ┆ … ┆ …   ┆ …      ┆ …           ┆ …               │\n",
       "│ 212913    ┆ Pietro     ┆ Ricci         ┆ U    ┆ … ┆ ITA ┆ null   ┆ null        ┆ Pietro Ricci    │\n",
       "│ 212914    ┆ Corey      ┆ Craig         ┆ U    ┆ … ┆ USA ┆ null   ┆ null        ┆ Corey Craig     │\n",
       "│ 212915    ┆ Aleksandar ┆ Ljubojevic    ┆ U    ┆ … ┆ SRB ┆ null   ┆ null        ┆ Aleksandar      │\n",
       "│           ┆            ┆               ┆      ┆   ┆     ┆        ┆             ┆ Ljubojevic      │\n",
       "│ 212916    ┆ Marko      ┆ Milosavljevic ┆ U    ┆ … ┆ SRB ┆ null   ┆ null        ┆ Marko           │\n",
       "│           ┆            ┆               ┆      ┆   ┆     ┆        ┆             ┆ Milosavljevic   │\n",
       "│ 212917    ┆ Stefan     ┆ Skobelev      ┆ U    ┆ … ┆ SRB ┆ null   ┆ null        ┆ Stefan Skobelev │\n",
       "└───────────┴────────────┴───────────────┴──────┴───┴─────┴────────┴─────────────┴─────────────────┘"
      ]
     },
     "execution_count": 24,
     "metadata": {},
     "output_type": "execute_result"
    }
   ],
   "source": [
    "players_atp"
   ]
  },
  {
   "cell_type": "code",
   "execution_count": 25,
   "metadata": {},
   "outputs": [
    {
     "data": {
      "text/html": [
       "<div><style>\n",
       ".dataframe > thead > tr,\n",
       ".dataframe > tbody > tr {\n",
       "  text-align: right;\n",
       "  white-space: pre-wrap;\n",
       "}\n",
       "</style>\n",
       "<small>shape: (70_036, 9)</small><table border=\"1\" class=\"dataframe\"><thead><tr><th>player_id</th><th>name_first</th><th>name_last</th><th>hand</th><th>dob</th><th>ioc</th><th>height</th><th>wikidata_id</th><th>name_full</th></tr><tr><td>i64</td><td>str</td><td>str</td><td>str</td><td>date</td><td>str</td><td>i64</td><td>str</td><td>str</td></tr></thead><tbody><tr><td>113190</td><td>&quot;Bobby&quot;</td><td>&quot;Riggs&quot;</td><td>&quot;U&quot;</td><td>null</td><td>&quot;USA&quot;</td><td>null</td><td>null</td><td>&quot;Bobby Riggs&quot;</td></tr><tr><td>200000</td><td>&quot;X&quot;</td><td>&quot;X&quot;</td><td>&quot;U&quot;</td><td>null</td><td>&quot;UNK&quot;</td><td>null</td><td>null</td><td>&quot;X X&quot;</td></tr><tr><td>200001</td><td>&quot;Martina&quot;</td><td>&quot;Hingis&quot;</td><td>&quot;R&quot;</td><td>1980-09-30</td><td>&quot;SUI&quot;</td><td>170</td><td>&quot;Q134720&quot;</td><td>&quot;Martina Hingis&quot;</td></tr><tr><td>200002</td><td>&quot;Mirjana&quot;</td><td>&quot;Lucic&quot;</td><td>&quot;R&quot;</td><td>1982-03-09</td><td>&quot;CRO&quot;</td><td>181</td><td>&quot;Q239686&quot;</td><td>&quot;Mirjana Lucic&quot;</td></tr><tr><td>200003</td><td>&quot;Justine&quot;</td><td>&quot;Henin&quot;</td><td>&quot;R&quot;</td><td>1982-06-01</td><td>&quot;BEL&quot;</td><td>167</td><td>&quot;Q11682&quot;</td><td>&quot;Justine Henin&quot;</td></tr><tr><td>&hellip;</td><td>&hellip;</td><td>&hellip;</td><td>&hellip;</td><td>&hellip;</td><td>&hellip;</td><td>&hellip;</td><td>&hellip;</td><td>&hellip;</td></tr><tr><td>270041</td><td>&quot;Emily&quot;</td><td>&quot;Dunn&quot;</td><td>&quot;U&quot;</td><td>null</td><td>&quot;NZL&quot;</td><td>null</td><td>null</td><td>&quot;Emily Dunn&quot;</td></tr><tr><td>270042</td><td>&quot;Serena&quot;</td><td>&quot;Rodricks&quot;</td><td>&quot;U&quot;</td><td>null</td><td>&quot;IND&quot;</td><td>null</td><td>null</td><td>&quot;Serena Rodricks&quot;</td></tr><tr><td>270043</td><td>&quot;Isha&quot;</td><td>&quot;Mohite&quot;</td><td>&quot;U&quot;</td><td>null</td><td>&quot;IND&quot;</td><td>null</td><td>null</td><td>&quot;Isha Mohite&quot;</td></tr><tr><td>270044</td><td>&quot;Una&quot;</td><td>&quot;Misic&quot;</td><td>&quot;U&quot;</td><td>null</td><td>&quot;NZL&quot;</td><td>null</td><td>null</td><td>&quot;Una Misic&quot;</td></tr><tr><td>270045</td><td>&quot;Dorea&quot;</td><td>&quot;Morina&quot;</td><td>&quot;U&quot;</td><td>null</td><td>&quot;NZL&quot;</td><td>null</td><td>null</td><td>&quot;Dorea Morina&quot;</td></tr></tbody></table></div>"
      ],
      "text/plain": [
       "shape: (70_036, 9)\n",
       "┌───────────┬────────────┬───────────┬──────┬───┬─────┬────────┬─────────────┬─────────────────┐\n",
       "│ player_id ┆ name_first ┆ name_last ┆ hand ┆ … ┆ ioc ┆ height ┆ wikidata_id ┆ name_full       │\n",
       "│ ---       ┆ ---        ┆ ---       ┆ ---  ┆   ┆ --- ┆ ---    ┆ ---         ┆ ---             │\n",
       "│ i64       ┆ str        ┆ str       ┆ str  ┆   ┆ str ┆ i64    ┆ str         ┆ str             │\n",
       "╞═══════════╪════════════╪═══════════╪══════╪═══╪═════╪════════╪═════════════╪═════════════════╡\n",
       "│ 113190    ┆ Bobby      ┆ Riggs     ┆ U    ┆ … ┆ USA ┆ null   ┆ null        ┆ Bobby Riggs     │\n",
       "│ 200000    ┆ X          ┆ X         ┆ U    ┆ … ┆ UNK ┆ null   ┆ null        ┆ X X             │\n",
       "│ 200001    ┆ Martina    ┆ Hingis    ┆ R    ┆ … ┆ SUI ┆ 170    ┆ Q134720     ┆ Martina Hingis  │\n",
       "│ 200002    ┆ Mirjana    ┆ Lucic     ┆ R    ┆ … ┆ CRO ┆ 181    ┆ Q239686     ┆ Mirjana Lucic   │\n",
       "│ 200003    ┆ Justine    ┆ Henin     ┆ R    ┆ … ┆ BEL ┆ 167    ┆ Q11682      ┆ Justine Henin   │\n",
       "│ …         ┆ …          ┆ …         ┆ …    ┆ … ┆ …   ┆ …      ┆ …           ┆ …               │\n",
       "│ 270041    ┆ Emily      ┆ Dunn      ┆ U    ┆ … ┆ NZL ┆ null   ┆ null        ┆ Emily Dunn      │\n",
       "│ 270042    ┆ Serena     ┆ Rodricks  ┆ U    ┆ … ┆ IND ┆ null   ┆ null        ┆ Serena Rodricks │\n",
       "│ 270043    ┆ Isha       ┆ Mohite    ┆ U    ┆ … ┆ IND ┆ null   ┆ null        ┆ Isha Mohite     │\n",
       "│ 270044    ┆ Una        ┆ Misic     ┆ U    ┆ … ┆ NZL ┆ null   ┆ null        ┆ Una Misic       │\n",
       "│ 270045    ┆ Dorea      ┆ Morina    ┆ U    ┆ … ┆ NZL ┆ null   ┆ null        ┆ Dorea Morina    │\n",
       "└───────────┴────────────┴───────────┴──────┴───┴─────┴────────┴─────────────┴─────────────────┘"
      ]
     },
     "execution_count": 25,
     "metadata": {},
     "output_type": "execute_result"
    }
   ],
   "source": [
    "players_wta"
   ]
  },
  {
   "cell_type": "markdown",
   "metadata": {},
   "source": [
    "### Creazione tabella informazioni del player"
   ]
  },
  {
   "cell_type": "code",
   "execution_count": 26,
   "metadata": {},
   "outputs": [
    {
     "data": {
      "text/html": [
       "<div><style>\n",
       ".dataframe > thead > tr,\n",
       ".dataframe > tbody > tr {\n",
       "  text-align: right;\n",
       "  white-space: pre-wrap;\n",
       "}\n",
       "</style>\n",
       "<small>shape: (65_019, 5)</small><table border=\"1\" class=\"dataframe\"><thead><tr><th>player_id</th><th>hand</th><th>dob</th><th>ioc</th><th>height</th></tr><tr><td>i64</td><td>str</td><td>date</td><td>str</td><td>i64</td></tr></thead><tbody><tr><td>100001</td><td>&quot;R&quot;</td><td>1913-11-22</td><td>&quot;USA&quot;</td><td>185</td></tr><tr><td>100002</td><td>&quot;R&quot;</td><td>1921-06-20</td><td>&quot;ECU&quot;</td><td>168</td></tr><tr><td>100003</td><td>&quot;R&quot;</td><td>1927-10-02</td><td>&quot;AUS&quot;</td><td>180</td></tr><tr><td>100004</td><td>&quot;R&quot;</td><td>1927-10-11</td><td>&quot;ITA&quot;</td><td>null</td></tr><tr><td>100005</td><td>&quot;R&quot;</td><td>1928-05-09</td><td>&quot;USA&quot;</td><td>188</td></tr><tr><td>&hellip;</td><td>&hellip;</td><td>&hellip;</td><td>&hellip;</td><td>&hellip;</td></tr><tr><td>212913</td><td>&quot;U&quot;</td><td>null</td><td>&quot;ITA&quot;</td><td>null</td></tr><tr><td>212914</td><td>&quot;U&quot;</td><td>null</td><td>&quot;USA&quot;</td><td>null</td></tr><tr><td>212915</td><td>&quot;U&quot;</td><td>null</td><td>&quot;SRB&quot;</td><td>null</td></tr><tr><td>212916</td><td>&quot;U&quot;</td><td>null</td><td>&quot;SRB&quot;</td><td>null</td></tr><tr><td>212917</td><td>&quot;U&quot;</td><td>null</td><td>&quot;SRB&quot;</td><td>null</td></tr></tbody></table></div>"
      ],
      "text/plain": [
       "shape: (65_019, 5)\n",
       "┌───────────┬──────┬────────────┬─────┬────────┐\n",
       "│ player_id ┆ hand ┆ dob        ┆ ioc ┆ height │\n",
       "│ ---       ┆ ---  ┆ ---        ┆ --- ┆ ---    │\n",
       "│ i64       ┆ str  ┆ date       ┆ str ┆ i64    │\n",
       "╞═══════════╪══════╪════════════╪═════╪════════╡\n",
       "│ 100001    ┆ R    ┆ 1913-11-22 ┆ USA ┆ 185    │\n",
       "│ 100002    ┆ R    ┆ 1921-06-20 ┆ ECU ┆ 168    │\n",
       "│ 100003    ┆ R    ┆ 1927-10-02 ┆ AUS ┆ 180    │\n",
       "│ 100004    ┆ R    ┆ 1927-10-11 ┆ ITA ┆ null   │\n",
       "│ 100005    ┆ R    ┆ 1928-05-09 ┆ USA ┆ 188    │\n",
       "│ …         ┆ …    ┆ …          ┆ …   ┆ …      │\n",
       "│ 212913    ┆ U    ┆ null       ┆ ITA ┆ null   │\n",
       "│ 212914    ┆ U    ┆ null       ┆ USA ┆ null   │\n",
       "│ 212915    ┆ U    ┆ null       ┆ SRB ┆ null   │\n",
       "│ 212916    ┆ U    ┆ null       ┆ SRB ┆ null   │\n",
       "│ 212917    ┆ U    ┆ null       ┆ SRB ┆ null   │\n",
       "└───────────┴──────┴────────────┴─────┴────────┘"
      ]
     },
     "execution_count": 26,
     "metadata": {},
     "output_type": "execute_result"
    }
   ],
   "source": [
    "players_info_atp=players_atp[['player_id','hand','dob','ioc','height']]\n",
    "players_info_atp"
   ]
  },
  {
   "cell_type": "code",
   "execution_count": 27,
   "metadata": {},
   "outputs": [
    {
     "data": {
      "text/html": [
       "<div><style>\n",
       ".dataframe > thead > tr,\n",
       ".dataframe > tbody > tr {\n",
       "  text-align: right;\n",
       "  white-space: pre-wrap;\n",
       "}\n",
       "</style>\n",
       "<small>shape: (70_036, 5)</small><table border=\"1\" class=\"dataframe\"><thead><tr><th>player_id</th><th>hand</th><th>dob</th><th>ioc</th><th>height</th></tr><tr><td>i64</td><td>str</td><td>date</td><td>str</td><td>i64</td></tr></thead><tbody><tr><td>113190</td><td>&quot;U&quot;</td><td>null</td><td>&quot;USA&quot;</td><td>null</td></tr><tr><td>200000</td><td>&quot;U&quot;</td><td>null</td><td>&quot;UNK&quot;</td><td>null</td></tr><tr><td>200001</td><td>&quot;R&quot;</td><td>1980-09-30</td><td>&quot;SUI&quot;</td><td>170</td></tr><tr><td>200002</td><td>&quot;R&quot;</td><td>1982-03-09</td><td>&quot;CRO&quot;</td><td>181</td></tr><tr><td>200003</td><td>&quot;R&quot;</td><td>1982-06-01</td><td>&quot;BEL&quot;</td><td>167</td></tr><tr><td>&hellip;</td><td>&hellip;</td><td>&hellip;</td><td>&hellip;</td><td>&hellip;</td></tr><tr><td>270041</td><td>&quot;U&quot;</td><td>null</td><td>&quot;NZL&quot;</td><td>null</td></tr><tr><td>270042</td><td>&quot;U&quot;</td><td>null</td><td>&quot;IND&quot;</td><td>null</td></tr><tr><td>270043</td><td>&quot;U&quot;</td><td>null</td><td>&quot;IND&quot;</td><td>null</td></tr><tr><td>270044</td><td>&quot;U&quot;</td><td>null</td><td>&quot;NZL&quot;</td><td>null</td></tr><tr><td>270045</td><td>&quot;U&quot;</td><td>null</td><td>&quot;NZL&quot;</td><td>null</td></tr></tbody></table></div>"
      ],
      "text/plain": [
       "shape: (70_036, 5)\n",
       "┌───────────┬──────┬────────────┬─────┬────────┐\n",
       "│ player_id ┆ hand ┆ dob        ┆ ioc ┆ height │\n",
       "│ ---       ┆ ---  ┆ ---        ┆ --- ┆ ---    │\n",
       "│ i64       ┆ str  ┆ date       ┆ str ┆ i64    │\n",
       "╞═══════════╪══════╪════════════╪═════╪════════╡\n",
       "│ 113190    ┆ U    ┆ null       ┆ USA ┆ null   │\n",
       "│ 200000    ┆ U    ┆ null       ┆ UNK ┆ null   │\n",
       "│ 200001    ┆ R    ┆ 1980-09-30 ┆ SUI ┆ 170    │\n",
       "│ 200002    ┆ R    ┆ 1982-03-09 ┆ CRO ┆ 181    │\n",
       "│ 200003    ┆ R    ┆ 1982-06-01 ┆ BEL ┆ 167    │\n",
       "│ …         ┆ …    ┆ …          ┆ …   ┆ …      │\n",
       "│ 270041    ┆ U    ┆ null       ┆ NZL ┆ null   │\n",
       "│ 270042    ┆ U    ┆ null       ┆ IND ┆ null   │\n",
       "│ 270043    ┆ U    ┆ null       ┆ IND ┆ null   │\n",
       "│ 270044    ┆ U    ┆ null       ┆ NZL ┆ null   │\n",
       "│ 270045    ┆ U    ┆ null       ┆ NZL ┆ null   │\n",
       "└───────────┴──────┴────────────┴─────┴────────┘"
      ]
     },
     "execution_count": 27,
     "metadata": {},
     "output_type": "execute_result"
    }
   ],
   "source": [
    "players_info_wta=players_wta[['player_id','hand','dob','ioc','height']]\n",
    "players_info_wta"
   ]
  },
  {
   "cell_type": "markdown",
   "metadata": {},
   "source": [
    "### Creazione tabella date"
   ]
  },
  {
   "cell_type": "code",
   "execution_count": 28,
   "metadata": {},
   "outputs": [
    {
     "data": {
      "text/html": [
       "<div><style>\n",
       ".dataframe > thead > tr,\n",
       ".dataframe > tbody > tr {\n",
       "  text-align: right;\n",
       "  white-space: pre-wrap;\n",
       "}\n",
       "</style>\n",
       "<small>shape: (26_399, 5)</small><table border=\"1\" class=\"dataframe\"><thead><tr><th>tourney_name_date</th><th>date</th><th>day</th><th>month</th><th>year</th></tr><tr><td>str</td><td>date</td><td>i8</td><td>i8</td><td>i32</td></tr></thead><tbody><tr><td>&quot;Auckland_2000&quot;</td><td>2000-01-10</td><td>10</td><td>1</td><td>2000</td></tr><tr><td>&quot;Auckland_2000&quot;</td><td>2000-01-10</td><td>10</td><td>1</td><td>2000</td></tr><tr><td>&quot;Auckland_2000&quot;</td><td>2000-01-10</td><td>10</td><td>1</td><td>2000</td></tr><tr><td>&quot;Auckland_2000&quot;</td><td>2000-01-10</td><td>10</td><td>1</td><td>2000</td></tr><tr><td>&quot;Auckland_2000&quot;</td><td>2000-01-10</td><td>10</td><td>1</td><td>2000</td></tr><tr><td>&hellip;</td><td>&hellip;</td><td>&hellip;</td><td>&hellip;</td><td>&hellip;</td></tr><tr><td>&quot;Davis Cup WG2 PO: MAR vs VIE_2…</td><td>2020-03-06</td><td>6</td><td>3</td><td>2020</td></tr><tr><td>&quot;Davis Cup WG2 PO: PAR vs SRI_2…</td><td>2020-03-06</td><td>6</td><td>3</td><td>2020</td></tr><tr><td>&quot;Davis Cup WG2 PO: PHI vs GRE_2…</td><td>2020-03-06</td><td>6</td><td>3</td><td>2020</td></tr><tr><td>&quot;Davis Cup WG2 PO: POL vs HKG_2…</td><td>2020-03-06</td><td>6</td><td>3</td><td>2020</td></tr><tr><td>&quot;Davis Cup WG2 PO: SYR vs ZIM_2…</td><td>2020-03-06</td><td>6</td><td>3</td><td>2020</td></tr></tbody></table></div>"
      ],
      "text/plain": [
       "shape: (26_399, 5)\n",
       "┌─────────────────────────────────┬────────────┬─────┬───────┬──────┐\n",
       "│ tourney_name_date               ┆ date       ┆ day ┆ month ┆ year │\n",
       "│ ---                             ┆ ---        ┆ --- ┆ ---   ┆ ---  │\n",
       "│ str                             ┆ date       ┆ i8  ┆ i8    ┆ i32  │\n",
       "╞═════════════════════════════════╪════════════╪═════╪═══════╪══════╡\n",
       "│ Auckland_2000                   ┆ 2000-01-10 ┆ 10  ┆ 1     ┆ 2000 │\n",
       "│ Auckland_2000                   ┆ 2000-01-10 ┆ 10  ┆ 1     ┆ 2000 │\n",
       "│ Auckland_2000                   ┆ 2000-01-10 ┆ 10  ┆ 1     ┆ 2000 │\n",
       "│ Auckland_2000                   ┆ 2000-01-10 ┆ 10  ┆ 1     ┆ 2000 │\n",
       "│ Auckland_2000                   ┆ 2000-01-10 ┆ 10  ┆ 1     ┆ 2000 │\n",
       "│ …                               ┆ …          ┆ …   ┆ …     ┆ …    │\n",
       "│ Davis Cup WG2 PO: MAR vs VIE_2… ┆ 2020-03-06 ┆ 6   ┆ 3     ┆ 2020 │\n",
       "│ Davis Cup WG2 PO: PAR vs SRI_2… ┆ 2020-03-06 ┆ 6   ┆ 3     ┆ 2020 │\n",
       "│ Davis Cup WG2 PO: PHI vs GRE_2… ┆ 2020-03-06 ┆ 6   ┆ 3     ┆ 2020 │\n",
       "│ Davis Cup WG2 PO: POL vs HKG_2… ┆ 2020-03-06 ┆ 6   ┆ 3     ┆ 2020 │\n",
       "│ Davis Cup WG2 PO: SYR vs ZIM_2… ┆ 2020-03-06 ┆ 6   ┆ 3     ┆ 2020 │\n",
       "└─────────────────────────────────┴────────────┴─────┴───────┴──────┘"
      ]
     },
     "execution_count": 28,
     "metadata": {},
     "output_type": "execute_result"
    }
   ],
   "source": [
    "doubles_matches_date = pl.DataFrame({\n",
    "    \"tourney_name_date\":  pl.Series(matches_doubles_atp['tourney_name_date']),\n",
    "    \"date\": pl.Series(matches_doubles_atp['tourney_date'])\n",
    "})\n",
    "\n",
    "# Estrae giorno, mese e anno e crea nuove colonne\n",
    "doubles_matches_date = doubles_matches_date.with_columns([\n",
    "    pl.col(\"date\").dt.day().alias(\"day\"),\n",
    "    pl.col(\"date\").dt.month().alias(\"month\"),\n",
    "    pl.col(\"date\").dt.year().alias(\"year\")\n",
    "])\n",
    "\n",
    "# Mostra il risultato\n",
    "doubles_matches_date\n"
   ]
  },
  {
   "cell_type": "code",
   "execution_count": 29,
   "metadata": {},
   "outputs": [
    {
     "data": {
      "text/html": [
       "<div><style>\n",
       ".dataframe > thead > tr,\n",
       ".dataframe > tbody > tr {\n",
       "  text-align: right;\n",
       "  white-space: pre-wrap;\n",
       "}\n",
       "</style>\n",
       "<small>shape: (486_553, 5)</small><table border=\"1\" class=\"dataframe\"><thead><tr><th>tourney_name_date</th><th>date</th><th>day</th><th>month</th><th>year</th></tr><tr><td>str</td><td>date</td><td>i8</td><td>i8</td><td>i32</td></tr></thead><tbody><tr><td>&quot;India Masters 1_1990&quot;</td><td>1990-12-29</td><td>29</td><td>12</td><td>1990</td></tr><tr><td>&quot;India Masters 1_1990&quot;</td><td>1990-12-29</td><td>29</td><td>12</td><td>1990</td></tr><tr><td>&quot;India Masters 1_1990&quot;</td><td>1990-12-29</td><td>29</td><td>12</td><td>1990</td></tr><tr><td>&quot;India Masters 1_1990&quot;</td><td>1990-12-29</td><td>29</td><td>12</td><td>1990</td></tr><tr><td>&quot;India Masters 1_1990&quot;</td><td>1990-12-29</td><td>29</td><td>12</td><td>1990</td></tr><tr><td>&hellip;</td><td>&hellip;</td><td>&hellip;</td><td>&hellip;</td><td>&hellip;</td></tr><tr><td>&quot;M25 Pensacola FL_2024&quot;</td><td>2024-05-13</td><td>13</td><td>5</td><td>2024</td></tr><tr><td>&quot;M25 Pensacola FL_2024&quot;</td><td>2024-05-13</td><td>13</td><td>5</td><td>2024</td></tr><tr><td>&quot;M25 Pensacola FL_2024&quot;</td><td>2024-05-13</td><td>13</td><td>5</td><td>2024</td></tr><tr><td>&quot;M25 Pensacola FL_2024&quot;</td><td>2024-05-13</td><td>13</td><td>5</td><td>2024</td></tr><tr><td>&quot;M25 Pensacola FL_2024&quot;</td><td>2024-05-13</td><td>13</td><td>5</td><td>2024</td></tr></tbody></table></div>"
      ],
      "text/plain": [
       "shape: (486_553, 5)\n",
       "┌───────────────────────┬────────────┬─────┬───────┬──────┐\n",
       "│ tourney_name_date     ┆ date       ┆ day ┆ month ┆ year │\n",
       "│ ---                   ┆ ---        ┆ --- ┆ ---   ┆ ---  │\n",
       "│ str                   ┆ date       ┆ i8  ┆ i8    ┆ i32  │\n",
       "╞═══════════════════════╪════════════╪═════╪═══════╪══════╡\n",
       "│ India Masters 1_1990  ┆ 1990-12-29 ┆ 29  ┆ 12    ┆ 1990 │\n",
       "│ India Masters 1_1990  ┆ 1990-12-29 ┆ 29  ┆ 12    ┆ 1990 │\n",
       "│ India Masters 1_1990  ┆ 1990-12-29 ┆ 29  ┆ 12    ┆ 1990 │\n",
       "│ India Masters 1_1990  ┆ 1990-12-29 ┆ 29  ┆ 12    ┆ 1990 │\n",
       "│ India Masters 1_1990  ┆ 1990-12-29 ┆ 29  ┆ 12    ┆ 1990 │\n",
       "│ …                     ┆ …          ┆ …   ┆ …     ┆ …    │\n",
       "│ M25 Pensacola FL_2024 ┆ 2024-05-13 ┆ 13  ┆ 5     ┆ 2024 │\n",
       "│ M25 Pensacola FL_2024 ┆ 2024-05-13 ┆ 13  ┆ 5     ┆ 2024 │\n",
       "│ M25 Pensacola FL_2024 ┆ 2024-05-13 ┆ 13  ┆ 5     ┆ 2024 │\n",
       "│ M25 Pensacola FL_2024 ┆ 2024-05-13 ┆ 13  ┆ 5     ┆ 2024 │\n",
       "│ M25 Pensacola FL_2024 ┆ 2024-05-13 ┆ 13  ┆ 5     ┆ 2024 │\n",
       "└───────────────────────┴────────────┴─────┴───────┴──────┘"
      ]
     },
     "execution_count": 29,
     "metadata": {},
     "output_type": "execute_result"
    }
   ],
   "source": [
    "futures_matches_date = pl.DataFrame({\n",
    "    \"tourney_name_date\":  pl.Series(matches_futures['tourney_name_date']),\n",
    "    \"date\": pl.Series(matches_futures['tourney_date'])\n",
    "})\n",
    "\n",
    "# Estrae giorno, mese e anno e crea nuove colonne\n",
    "futures_matches_date = futures_matches_date.with_columns([\n",
    "    pl.col(\"date\").dt.day().alias(\"day\"),\n",
    "    pl.col(\"date\").dt.month().alias(\"month\"),\n",
    "    pl.col(\"date\").dt.year().alias(\"year\")\n",
    "])\n",
    "\n",
    "# Mostra il risultato\n",
    "futures_matches_date"
   ]
  },
  {
   "cell_type": "code",
   "execution_count": 30,
   "metadata": {},
   "outputs": [
    {
     "data": {
      "text/html": [
       "<div><style>\n",
       ".dataframe > thead > tr,\n",
       ".dataframe > tbody > tr {\n",
       "  text-align: right;\n",
       "  white-space: pre-wrap;\n",
       "}\n",
       "</style>\n",
       "<small>shape: (216_430, 5)</small><table border=\"1\" class=\"dataframe\"><thead><tr><th>tourney_name_date</th><th>date</th><th>day</th><th>month</th><th>year</th></tr><tr><td>str</td><td>date</td><td>i8</td><td>i8</td><td>i32</td></tr></thead><tbody><tr><td>&quot;Auckland CH_1978&quot;</td><td>1978-01-08</td><td>8</td><td>1</td><td>1978</td></tr><tr><td>&quot;Auckland CH_1978&quot;</td><td>1978-01-08</td><td>8</td><td>1</td><td>1978</td></tr><tr><td>&quot;Auckland CH_1978&quot;</td><td>1978-01-08</td><td>8</td><td>1</td><td>1978</td></tr><tr><td>&quot;Auckland CH_1978&quot;</td><td>1978-01-08</td><td>8</td><td>1</td><td>1978</td></tr><tr><td>&quot;Auckland CH_1978&quot;</td><td>1978-01-08</td><td>8</td><td>1</td><td>1978</td></tr><tr><td>&hellip;</td><td>&hellip;</td><td>&hellip;</td><td>&hellip;</td><td>&hellip;</td></tr><tr><td>&quot;Skopje CH_2024&quot;</td><td>2024-05-20</td><td>20</td><td>5</td><td>2024</td></tr><tr><td>&quot;Skopje CH_2024&quot;</td><td>2024-05-20</td><td>20</td><td>5</td><td>2024</td></tr><tr><td>&quot;Skopje CH_2024&quot;</td><td>2024-05-20</td><td>20</td><td>5</td><td>2024</td></tr><tr><td>&quot;Skopje CH_2024&quot;</td><td>2024-05-20</td><td>20</td><td>5</td><td>2024</td></tr><tr><td>&quot;Skopje CH_2024&quot;</td><td>2024-05-20</td><td>20</td><td>5</td><td>2024</td></tr></tbody></table></div>"
      ],
      "text/plain": [
       "shape: (216_430, 5)\n",
       "┌───────────────────┬────────────┬─────┬───────┬──────┐\n",
       "│ tourney_name_date ┆ date       ┆ day ┆ month ┆ year │\n",
       "│ ---               ┆ ---        ┆ --- ┆ ---   ┆ ---  │\n",
       "│ str               ┆ date       ┆ i8  ┆ i8    ┆ i32  │\n",
       "╞═══════════════════╪════════════╪═════╪═══════╪══════╡\n",
       "│ Auckland CH_1978  ┆ 1978-01-08 ┆ 8   ┆ 1     ┆ 1978 │\n",
       "│ Auckland CH_1978  ┆ 1978-01-08 ┆ 8   ┆ 1     ┆ 1978 │\n",
       "│ Auckland CH_1978  ┆ 1978-01-08 ┆ 8   ┆ 1     ┆ 1978 │\n",
       "│ Auckland CH_1978  ┆ 1978-01-08 ┆ 8   ┆ 1     ┆ 1978 │\n",
       "│ Auckland CH_1978  ┆ 1978-01-08 ┆ 8   ┆ 1     ┆ 1978 │\n",
       "│ …                 ┆ …          ┆ …   ┆ …     ┆ …    │\n",
       "│ Skopje CH_2024    ┆ 2024-05-20 ┆ 20  ┆ 5     ┆ 2024 │\n",
       "│ Skopje CH_2024    ┆ 2024-05-20 ┆ 20  ┆ 5     ┆ 2024 │\n",
       "│ Skopje CH_2024    ┆ 2024-05-20 ┆ 20  ┆ 5     ┆ 2024 │\n",
       "│ Skopje CH_2024    ┆ 2024-05-20 ┆ 20  ┆ 5     ┆ 2024 │\n",
       "│ Skopje CH_2024    ┆ 2024-05-20 ┆ 20  ┆ 5     ┆ 2024 │\n",
       "└───────────────────┴────────────┴─────┴───────┴──────┘"
      ]
     },
     "execution_count": 30,
     "metadata": {},
     "output_type": "execute_result"
    }
   ],
   "source": [
    "qualifiers_challengers_matches_date = pl.DataFrame({\n",
    "    \"tourney_name_date\":  pl.Series(matches_qualifiers_challengers['tourney_name_date']),\n",
    "    \"date\": pl.Series(matches_qualifiers_challengers['tourney_date'])\n",
    "})\n",
    "\n",
    "# Estrae giorno, mese e anno e crea nuove colonne\n",
    "qualifiers_challengers_matches_date = qualifiers_challengers_matches_date.with_columns([\n",
    "    pl.col(\"date\").dt.day().alias(\"day\"),\n",
    "    pl.col(\"date\").dt.month().alias(\"month\"),\n",
    "    pl.col(\"date\").dt.year().alias(\"year\")\n",
    "])\n",
    "\n",
    "# Mostra il risultato\n",
    "qualifiers_challengers_matches_date"
   ]
  },
  {
   "cell_type": "code",
   "execution_count": 31,
   "metadata": {},
   "outputs": [
    {
     "data": {
      "text/html": [
       "<div><style>\n",
       ".dataframe > thead > tr,\n",
       ".dataframe > tbody > tr {\n",
       "  text-align: right;\n",
       "  white-space: pre-wrap;\n",
       "}\n",
       "</style>\n",
       "<small>shape: (25_001, 5)</small><table border=\"1\" class=\"dataframe\"><thead><tr><th>tourney_name_date</th><th>date</th><th>day</th><th>month</th><th>year</th></tr><tr><td>str</td><td>date</td><td>i8</td><td>i8</td><td>i32</td></tr></thead><tbody><tr><td>&quot;Wimbledon_1877_amatures_atp&quot;</td><td>1877-07-09</td><td>9</td><td>7</td><td>1877</td></tr><tr><td>&quot;Wimbledon_1877_amatures_atp&quot;</td><td>1877-07-09</td><td>9</td><td>7</td><td>1877</td></tr><tr><td>&quot;Wimbledon_1877_amatures_atp&quot;</td><td>1877-07-09</td><td>9</td><td>7</td><td>1877</td></tr><tr><td>&quot;Wimbledon_1877_amatures_atp&quot;</td><td>1877-07-09</td><td>9</td><td>7</td><td>1877</td></tr><tr><td>&quot;Wimbledon_1877_amatures_atp&quot;</td><td>1877-07-09</td><td>9</td><td>7</td><td>1877</td></tr><tr><td>&hellip;</td><td>&hellip;</td><td>&hellip;</td><td>&hellip;</td><td>&hellip;</td></tr><tr><td>&quot;Davis Cup EUR R1: NED vs RSA_1…</td><td>1967-05-04</td><td>4</td><td>5</td><td>1967</td></tr><tr><td>&quot;Davis Cup AME SF: PHI vs VIE_1…</td><td>1967-04-14</td><td>14</td><td>4</td><td>1967</td></tr><tr><td>&quot;Davis Cup AME SF: PHI vs VIE_1…</td><td>1967-04-14</td><td>14</td><td>4</td><td>1967</td></tr><tr><td>&quot;Davis Cup AME SF: PHI vs VIE_1…</td><td>1967-04-14</td><td>14</td><td>4</td><td>1967</td></tr><tr><td>&quot;Davis Cup AME SF: PHI vs VIE_1…</td><td>1967-04-14</td><td>14</td><td>4</td><td>1967</td></tr></tbody></table></div>"
      ],
      "text/plain": [
       "shape: (25_001, 5)\n",
       "┌─────────────────────────────────┬────────────┬─────┬───────┬──────┐\n",
       "│ tourney_name_date               ┆ date       ┆ day ┆ month ┆ year │\n",
       "│ ---                             ┆ ---        ┆ --- ┆ ---   ┆ ---  │\n",
       "│ str                             ┆ date       ┆ i8  ┆ i8    ┆ i32  │\n",
       "╞═════════════════════════════════╪════════════╪═════╪═══════╪══════╡\n",
       "│ Wimbledon_1877_amatures_atp     ┆ 1877-07-09 ┆ 9   ┆ 7     ┆ 1877 │\n",
       "│ Wimbledon_1877_amatures_atp     ┆ 1877-07-09 ┆ 9   ┆ 7     ┆ 1877 │\n",
       "│ Wimbledon_1877_amatures_atp     ┆ 1877-07-09 ┆ 9   ┆ 7     ┆ 1877 │\n",
       "│ Wimbledon_1877_amatures_atp     ┆ 1877-07-09 ┆ 9   ┆ 7     ┆ 1877 │\n",
       "│ Wimbledon_1877_amatures_atp     ┆ 1877-07-09 ┆ 9   ┆ 7     ┆ 1877 │\n",
       "│ …                               ┆ …          ┆ …   ┆ …     ┆ …    │\n",
       "│ Davis Cup EUR R1: NED vs RSA_1… ┆ 1967-05-04 ┆ 4   ┆ 5     ┆ 1967 │\n",
       "│ Davis Cup AME SF: PHI vs VIE_1… ┆ 1967-04-14 ┆ 14  ┆ 4     ┆ 1967 │\n",
       "│ Davis Cup AME SF: PHI vs VIE_1… ┆ 1967-04-14 ┆ 14  ┆ 4     ┆ 1967 │\n",
       "│ Davis Cup AME SF: PHI vs VIE_1… ┆ 1967-04-14 ┆ 14  ┆ 4     ┆ 1967 │\n",
       "│ Davis Cup AME SF: PHI vs VIE_1… ┆ 1967-04-14 ┆ 14  ┆ 4     ┆ 1967 │\n",
       "└─────────────────────────────────┴────────────┴─────┴───────┴──────┘"
      ]
     },
     "execution_count": 31,
     "metadata": {},
     "output_type": "execute_result"
    }
   ],
   "source": [
    "amateurs_matches_date = pl.DataFrame({\n",
    "    \"tourney_name_date\":  pl.Series(matches_amateurs_atp['tourney_name_date']),\n",
    "    \"date\": pl.Series(matches_amateurs_atp['tourney_date'])\n",
    "})\n",
    "\n",
    "# Estrae giorno, mese e anno e crea nuove colonne\n",
    "amateurs_matches_date = amateurs_matches_date.with_columns([\n",
    "    pl.col(\"date\").dt.day().alias(\"day\"),\n",
    "    pl.col(\"date\").dt.month().alias(\"month\"),\n",
    "    pl.col(\"date\").dt.year().alias(\"year\")\n",
    "])\n",
    "\n",
    "# Mostra il risultato\n",
    "amateurs_matches_date"
   ]
  },
  {
   "cell_type": "code",
   "execution_count": 32,
   "metadata": {},
   "outputs": [
    {
     "data": {
      "text/html": [
       "<div><style>\n",
       ".dataframe > thead > tr,\n",
       ".dataframe > tbody > tr {\n",
       "  text-align: right;\n",
       "  white-space: pre-wrap;\n",
       "}\n",
       "</style>\n",
       "<small>shape: (593_885, 5)</small><table border=\"1\" class=\"dataframe\"><thead><tr><th>tourney_name_date</th><th>date</th><th>day</th><th>month</th><th>year</th></tr><tr><td>str</td><td>date</td><td>i8</td><td>i8</td><td>i32</td></tr></thead><tbody><tr><td>&quot;Bournemouth_1968&quot;</td><td>1968-04-22</td><td>22</td><td>4</td><td>1968</td></tr><tr><td>&quot;Bournemouth_1968&quot;</td><td>1968-04-22</td><td>22</td><td>4</td><td>1968</td></tr><tr><td>&quot;Bournemouth_1968&quot;</td><td>1968-04-22</td><td>22</td><td>4</td><td>1968</td></tr><tr><td>&quot;Bournemouth_1968&quot;</td><td>1968-04-22</td><td>22</td><td>4</td><td>1968</td></tr><tr><td>&quot;Bournemouth_1968&quot;</td><td>1968-04-22</td><td>22</td><td>4</td><td>1968</td></tr><tr><td>&hellip;</td><td>&hellip;</td><td>&hellip;</td><td>&hellip;</td><td>&hellip;</td></tr><tr><td>&quot;Midland 125_2024&quot;</td><td>2024-11-04</td><td>4</td><td>11</td><td>2024</td></tr><tr><td>&quot;Midland 125_2024&quot;</td><td>2024-11-04</td><td>4</td><td>11</td><td>2024</td></tr><tr><td>&quot;Midland 125_2024&quot;</td><td>2024-11-04</td><td>4</td><td>11</td><td>2024</td></tr><tr><td>&quot;Midland 125_2024&quot;</td><td>2024-11-04</td><td>4</td><td>11</td><td>2024</td></tr><tr><td>&quot;Midland 125_2024&quot;</td><td>2024-11-04</td><td>4</td><td>11</td><td>2024</td></tr></tbody></table></div>"
      ],
      "text/plain": [
       "shape: (593_885, 5)\n",
       "┌───────────────────┬────────────┬─────┬───────┬──────┐\n",
       "│ tourney_name_date ┆ date       ┆ day ┆ month ┆ year │\n",
       "│ ---               ┆ ---        ┆ --- ┆ ---   ┆ ---  │\n",
       "│ str               ┆ date       ┆ i8  ┆ i8    ┆ i32  │\n",
       "╞═══════════════════╪════════════╪═════╪═══════╪══════╡\n",
       "│ Bournemouth_1968  ┆ 1968-04-22 ┆ 22  ┆ 4     ┆ 1968 │\n",
       "│ Bournemouth_1968  ┆ 1968-04-22 ┆ 22  ┆ 4     ┆ 1968 │\n",
       "│ Bournemouth_1968  ┆ 1968-04-22 ┆ 22  ┆ 4     ┆ 1968 │\n",
       "│ Bournemouth_1968  ┆ 1968-04-22 ┆ 22  ┆ 4     ┆ 1968 │\n",
       "│ Bournemouth_1968  ┆ 1968-04-22 ┆ 22  ┆ 4     ┆ 1968 │\n",
       "│ …                 ┆ …          ┆ …   ┆ …     ┆ …    │\n",
       "│ Midland 125_2024  ┆ 2024-11-04 ┆ 4   ┆ 11    ┆ 2024 │\n",
       "│ Midland 125_2024  ┆ 2024-11-04 ┆ 4   ┆ 11    ┆ 2024 │\n",
       "│ Midland 125_2024  ┆ 2024-11-04 ┆ 4   ┆ 11    ┆ 2024 │\n",
       "│ Midland 125_2024  ┆ 2024-11-04 ┆ 4   ┆ 11    ┆ 2024 │\n",
       "│ Midland 125_2024  ┆ 2024-11-04 ┆ 4   ┆ 11    ┆ 2024 │\n",
       "└───────────────────┴────────────┴─────┴───────┴──────┘"
      ]
     },
     "execution_count": 32,
     "metadata": {},
     "output_type": "execute_result"
    }
   ],
   "source": [
    "qualifiers_itf_matches_date = pl.DataFrame({\n",
    "    \"tourney_name_date\":  pl.Series(matches_qualifiers_itf['tourney_name_date']),\n",
    "    \"date\": pl.Series(matches_qualifiers_itf['tourney_date'])\n",
    "})\n",
    "\n",
    "# Estrae giorno, mese e anno e crea nuove colonne\n",
    "qualifiers_itf_matches_date = qualifiers_itf_matches_date.with_columns([\n",
    "    pl.col(\"date\").dt.day().alias(\"day\"),\n",
    "    pl.col(\"date\").dt.month().alias(\"month\"),\n",
    "    pl.col(\"date\").dt.year().alias(\"year\")\n",
    "])\n",
    "\n",
    "# Mostra il risultato\n",
    "qualifiers_itf_matches_date"
   ]
  },
  {
   "cell_type": "code",
   "execution_count": 33,
   "metadata": {},
   "outputs": [
    {
     "data": {
      "text/html": [
       "<div><style>\n",
       ".dataframe > thead > tr,\n",
       ".dataframe > tbody > tr {\n",
       "  text-align: right;\n",
       "  white-space: pre-wrap;\n",
       "}\n",
       "</style>\n",
       "<small>shape: (193_337, 5)</small><table border=\"1\" class=\"dataframe\"><thead><tr><th>tourney_name_date</th><th>date</th><th>day</th><th>month</th><th>year</th></tr><tr><td>str</td><td>date</td><td>i8</td><td>i8</td><td>i32</td></tr></thead><tbody><tr><td>&quot;Dublin_1968&quot;</td><td>1968-07-08</td><td>8</td><td>7</td><td>1968</td></tr><tr><td>&quot;Dublin_1968&quot;</td><td>1968-07-08</td><td>8</td><td>7</td><td>1968</td></tr><tr><td>&quot;Dublin_1968&quot;</td><td>1968-07-08</td><td>8</td><td>7</td><td>1968</td></tr><tr><td>&quot;Dublin_1968&quot;</td><td>1968-07-08</td><td>8</td><td>7</td><td>1968</td></tr><tr><td>&quot;Dublin_1968&quot;</td><td>1968-07-08</td><td>8</td><td>7</td><td>1968</td></tr><tr><td>&hellip;</td><td>&hellip;</td><td>&hellip;</td><td>&hellip;</td><td>&hellip;</td></tr><tr><td>&quot;Davis Cup WG2 PO: URU vs MDA_2…</td><td>2024-02-03</td><td>3</td><td>2</td><td>2024</td></tr><tr><td>&quot;Davis Cup WG2 PO: VIE vs RSA_2…</td><td>2024-02-02</td><td>2</td><td>2</td><td>2024</td></tr><tr><td>&quot;Davis Cup WG2 PO: VIE vs RSA_2…</td><td>2024-02-02</td><td>2</td><td>2</td><td>2024</td></tr><tr><td>&quot;Davis Cup WG2 PO: VIE vs RSA_2…</td><td>2024-02-02</td><td>2</td><td>2</td><td>2024</td></tr><tr><td>&quot;Davis Cup WG2 PO: VIE vs RSA_2…</td><td>2024-02-02</td><td>2</td><td>2</td><td>2024</td></tr></tbody></table></div>"
      ],
      "text/plain": [
       "shape: (193_337, 5)\n",
       "┌─────────────────────────────────┬────────────┬─────┬───────┬──────┐\n",
       "│ tourney_name_date               ┆ date       ┆ day ┆ month ┆ year │\n",
       "│ ---                             ┆ ---        ┆ --- ┆ ---   ┆ ---  │\n",
       "│ str                             ┆ date       ┆ i8  ┆ i8    ┆ i32  │\n",
       "╞═════════════════════════════════╪════════════╪═════╪═══════╪══════╡\n",
       "│ Dublin_1968                     ┆ 1968-07-08 ┆ 8   ┆ 7     ┆ 1968 │\n",
       "│ Dublin_1968                     ┆ 1968-07-08 ┆ 8   ┆ 7     ┆ 1968 │\n",
       "│ Dublin_1968                     ┆ 1968-07-08 ┆ 8   ┆ 7     ┆ 1968 │\n",
       "│ Dublin_1968                     ┆ 1968-07-08 ┆ 8   ┆ 7     ┆ 1968 │\n",
       "│ Dublin_1968                     ┆ 1968-07-08 ┆ 8   ┆ 7     ┆ 1968 │\n",
       "│ …                               ┆ …          ┆ …   ┆ …     ┆ …    │\n",
       "│ Davis Cup WG2 PO: URU vs MDA_2… ┆ 2024-02-03 ┆ 3   ┆ 2     ┆ 2024 │\n",
       "│ Davis Cup WG2 PO: VIE vs RSA_2… ┆ 2024-02-02 ┆ 2   ┆ 2     ┆ 2024 │\n",
       "│ Davis Cup WG2 PO: VIE vs RSA_2… ┆ 2024-02-02 ┆ 2   ┆ 2     ┆ 2024 │\n",
       "│ Davis Cup WG2 PO: VIE vs RSA_2… ┆ 2024-02-02 ┆ 2   ┆ 2     ┆ 2024 │\n",
       "│ Davis Cup WG2 PO: VIE vs RSA_2… ┆ 2024-02-02 ┆ 2   ┆ 2     ┆ 2024 │\n",
       "└─────────────────────────────────┴────────────┴─────┴───────┴──────┘"
      ]
     },
     "execution_count": 33,
     "metadata": {},
     "output_type": "execute_result"
    }
   ],
   "source": [
    "singles_matches_date_atp = pl.DataFrame({\n",
    "    \"tourney_name_date\":  pl.Series(matches_singles_atp['tourney_name_date']),\n",
    "    \"date\": pl.Series(matches_singles_atp['tourney_date'])\n",
    "})\n",
    "\n",
    "# Estrae giorno, mese e anno e crea nuove colonne\n",
    "singles_matches_date_atp = singles_matches_date_atp.with_columns([\n",
    "    pl.col(\"date\").dt.day().alias(\"day\"),\n",
    "    pl.col(\"date\").dt.month().alias(\"month\"),\n",
    "    pl.col(\"date\").dt.year().alias(\"year\")\n",
    "])\n",
    "\n",
    "# Mostra il risultato\n",
    "singles_matches_date_atp"
   ]
  },
  {
   "cell_type": "code",
   "execution_count": 34,
   "metadata": {},
   "outputs": [
    {
     "data": {
      "text/html": [
       "<div><style>\n",
       ".dataframe > thead > tr,\n",
       ".dataframe > tbody > tr {\n",
       "  text-align: right;\n",
       "  white-space: pre-wrap;\n",
       "}\n",
       "</style>\n",
       "<small>shape: (158_092, 5)</small><table border=\"1\" class=\"dataframe\"><thead><tr><th>tourney_name_date</th><th>date</th><th>day</th><th>month</th><th>year</th></tr><tr><td>str</td><td>date</td><td>i8</td><td>i8</td><td>i32</td></tr></thead><tbody><tr><td>&quot;Guadalajara Olympics Demo_1968&quot;</td><td>1968-10-14</td><td>14</td><td>10</td><td>1968</td></tr><tr><td>&quot;Guadalajara Olympics Demo_1968&quot;</td><td>1968-10-14</td><td>14</td><td>10</td><td>1968</td></tr><tr><td>&quot;Guadalajara Olympics Demo_1968&quot;</td><td>1968-10-14</td><td>14</td><td>10</td><td>1968</td></tr><tr><td>&quot;Guadalajara Olympics Demo_1968&quot;</td><td>1968-10-14</td><td>14</td><td>10</td><td>1968</td></tr><tr><td>&quot;Guadalajara Olympics Demo_1968&quot;</td><td>1968-10-14</td><td>14</td><td>10</td><td>1968</td></tr><tr><td>&hellip;</td><td>&hellip;</td><td>&hellip;</td><td>&hellip;</td><td>&hellip;</td></tr><tr><td>&quot;BJK Cup Playoffs_2024&quot;</td><td>2024-11-15</td><td>15</td><td>11</td><td>2024</td></tr><tr><td>&quot;BJK Cup Playoffs_2024&quot;</td><td>2024-11-15</td><td>15</td><td>11</td><td>2024</td></tr><tr><td>&quot;BJK Cup Playoffs_2024&quot;</td><td>2024-11-15</td><td>15</td><td>11</td><td>2024</td></tr><tr><td>&quot;BJK Cup Playoffs_2024&quot;</td><td>2024-11-15</td><td>15</td><td>11</td><td>2024</td></tr><tr><td>&quot;BJK Cup Playoffs_2024&quot;</td><td>2024-11-15</td><td>15</td><td>11</td><td>2024</td></tr></tbody></table></div>"
      ],
      "text/plain": [
       "shape: (158_092, 5)\n",
       "┌────────────────────────────────┬────────────┬─────┬───────┬──────┐\n",
       "│ tourney_name_date              ┆ date       ┆ day ┆ month ┆ year │\n",
       "│ ---                            ┆ ---        ┆ --- ┆ ---   ┆ ---  │\n",
       "│ str                            ┆ date       ┆ i8  ┆ i8    ┆ i32  │\n",
       "╞════════════════════════════════╪════════════╪═════╪═══════╪══════╡\n",
       "│ Guadalajara Olympics Demo_1968 ┆ 1968-10-14 ┆ 14  ┆ 10    ┆ 1968 │\n",
       "│ Guadalajara Olympics Demo_1968 ┆ 1968-10-14 ┆ 14  ┆ 10    ┆ 1968 │\n",
       "│ Guadalajara Olympics Demo_1968 ┆ 1968-10-14 ┆ 14  ┆ 10    ┆ 1968 │\n",
       "│ Guadalajara Olympics Demo_1968 ┆ 1968-10-14 ┆ 14  ┆ 10    ┆ 1968 │\n",
       "│ Guadalajara Olympics Demo_1968 ┆ 1968-10-14 ┆ 14  ┆ 10    ┆ 1968 │\n",
       "│ …                              ┆ …          ┆ …   ┆ …     ┆ …    │\n",
       "│ BJK Cup Playoffs_2024          ┆ 2024-11-15 ┆ 15  ┆ 11    ┆ 2024 │\n",
       "│ BJK Cup Playoffs_2024          ┆ 2024-11-15 ┆ 15  ┆ 11    ┆ 2024 │\n",
       "│ BJK Cup Playoffs_2024          ┆ 2024-11-15 ┆ 15  ┆ 11    ┆ 2024 │\n",
       "│ BJK Cup Playoffs_2024          ┆ 2024-11-15 ┆ 15  ┆ 11    ┆ 2024 │\n",
       "│ BJK Cup Playoffs_2024          ┆ 2024-11-15 ┆ 15  ┆ 11    ┆ 2024 │\n",
       "└────────────────────────────────┴────────────┴─────┴───────┴──────┘"
      ]
     },
     "execution_count": 34,
     "metadata": {},
     "output_type": "execute_result"
    }
   ],
   "source": [
    "singles_matches_date_wta = pl.DataFrame({\n",
    "    \"tourney_name_date\":  pl.Series(matches_singles_wta['tourney_name_date']),\n",
    "    \"date\": pl.Series(matches_singles_wta['tourney_date'])\n",
    "})\n",
    "\n",
    "# Estrae giorno, mese e anno e crea nuove colonne\n",
    "singles_matches_date_wta = singles_matches_date_wta.with_columns([\n",
    "    pl.col(\"date\").dt.day().alias(\"day\"),\n",
    "    pl.col(\"date\").dt.month().alias(\"month\"),\n",
    "    pl.col(\"date\").dt.year().alias(\"year\")\n",
    "])\n",
    "\n",
    "# Mostra il risultato\n",
    "singles_matches_date_wta"
   ]
  },
  {
   "cell_type": "markdown",
   "metadata": {},
   "source": [
    "### Drop delle informazioni del torneo e delle informazioni del player"
   ]
  },
  {
   "cell_type": "code",
   "execution_count": 35,
   "metadata": {},
   "outputs": [],
   "source": [
    "#droppo tutte le colonne relative al torneo, tranne tourney_name_date\n",
    "matches_amateurs_atp=matches_amateurs_atp.drop(['tourney_name', 'surface', 'draw_size', 'tourney_level', 'tourney_date', 'tourney_id'])\n",
    "matches_doubles_atp=matches_doubles_atp.drop(['tourney_name', 'surface', 'draw_size', 'tourney_level', 'tourney_date', 'tourney_id'])\n",
    "matches_futures=matches_futures.drop(['tourney_name', 'surface', 'draw_size', 'tourney_level', 'tourney_date', 'tourney_id'])\n",
    "matches_qualifiers_challengers=matches_qualifiers_challengers.drop(['tourney_name', 'surface', 'draw_size', 'tourney_level', 'tourney_date', 'tourney_id'])\n",
    "matches_qualifiers_itf=matches_qualifiers_itf.drop(['tourney_name', 'surface', 'draw_size', 'tourney_level', 'tourney_date', 'tourney_id'])\n",
    "matches_singles_atp=matches_singles_atp.drop(['tourney_name', 'surface', 'draw_size', 'tourney_level', 'tourney_date', 'tourney_id'])\n",
    "matches_singles_wta=matches_singles_wta.drop(['tourney_name', 'surface', 'draw_size', 'tourney_level', 'tourney_date', 'tourney_id'])"
   ]
  },
  {
   "cell_type": "code",
   "execution_count": 37,
   "metadata": {},
   "outputs": [
    {
     "data": {
      "text/html": [
       "<div><style>\n",
       ".dataframe > thead > tr,\n",
       ".dataframe > tbody > tr {\n",
       "  text-align: right;\n",
       "  white-space: pre-wrap;\n",
       "}\n",
       "</style>\n",
       "<small>shape: (8_316, 6)</small><table border=\"1\" class=\"dataframe\"><thead><tr><th>tourney_name</th><th>surface</th><th>draw_size</th><th>tourney_level</th><th>tourney_date</th><th>tourney_name_date</th></tr><tr><td>str</td><td>str</td><td>i64</td><td>str</td><td>str</td><td>str</td></tr></thead><tbody><tr><td>&quot;Davis Cup G1 PO: POR vs ROU&quot;</td><td>&quot;Clay&quot;</td><td>4</td><td>&quot;D&quot;</td><td>&quot;1995-09-22&quot;</td><td>&quot;Davis Cup G1 PO: POR vs ROU_19…</td></tr><tr><td>&quot;Davis Cup EUR PR: ISR vs FIN&quot;</td><td>&quot;Hard&quot;</td><td>4</td><td>&quot;D&quot;</td><td>&quot;1977-09-16&quot;</td><td>&quot;Davis Cup EUR PR: ISR vs FIN_1…</td></tr><tr><td>&quot;Munich&quot;</td><td>&quot;Clay&quot;</td><td>32</td><td>&quot;A&quot;</td><td>&quot;1995-05-01&quot;</td><td>&quot;Munich_1995&quot;</td></tr><tr><td>&quot;Davis Cup WG R1: SUI vs USA&quot;</td><td>&quot;Hard&quot;</td><td>4</td><td>&quot;D&quot;</td><td>&quot;2017-02-03&quot;</td><td>&quot;Davis Cup WG R1: SUI vs USA_20…</td></tr><tr><td>&quot;Davis Cup G1 QF: CRO vs AUT&quot;</td><td>&quot;Carpet&quot;</td><td>4</td><td>&quot;D&quot;</td><td>&quot;2001-04-06&quot;</td><td>&quot;Davis Cup G1 QF: CRO vs AUT_20…</td></tr><tr><td>&hellip;</td><td>&hellip;</td><td>&hellip;</td><td>&hellip;</td><td>&hellip;</td><td>&hellip;</td></tr><tr><td>&quot;Los Angeles&quot;</td><td>&quot;Hard&quot;</td><td>28</td><td>&quot;A&quot;</td><td>&quot;2011-07-25&quot;</td><td>&quot;Los Angeles_2011&quot;</td></tr><tr><td>&quot;Indian Wells Masters&quot;</td><td>&quot;Hard&quot;</td><td>128</td><td>&quot;M&quot;</td><td>&quot;2017-03-06&quot;</td><td>&quot;Indian Wells Masters_2017&quot;</td></tr><tr><td>&quot;Tokyo&quot;</td><td>&quot;Hard&quot;</td><td>32</td><td>&quot;A&quot;</td><td>&quot;2018-10-01&quot;</td><td>&quot;Tokyo_2018&quot;</td></tr><tr><td>&quot;Houston&quot;</td><td>&quot;Clay&quot;</td><td>28</td><td>&quot;A&quot;</td><td>&quot;2011-04-04&quot;</td><td>&quot;Houston_2011&quot;</td></tr><tr><td>&quot;Davis Cup AFR QF: ALG vs CIV&quot;</td><td>&quot;Clay&quot;</td><td>4</td><td>&quot;D&quot;</td><td>&quot;1986-03-07&quot;</td><td>&quot;Davis Cup AFR QF: ALG vs CIV_1…</td></tr></tbody></table></div>"
      ],
      "text/plain": [
       "shape: (8_316, 6)\n",
       "┌──────────────────────┬─────────┬───────────┬───────────────┬──────────────┬──────────────────────┐\n",
       "│ tourney_name         ┆ surface ┆ draw_size ┆ tourney_level ┆ tourney_date ┆ tourney_name_date    │\n",
       "│ ---                  ┆ ---     ┆ ---       ┆ ---           ┆ ---          ┆ ---                  │\n",
       "│ str                  ┆ str     ┆ i64       ┆ str           ┆ str          ┆ str                  │\n",
       "╞══════════════════════╪═════════╪═══════════╪═══════════════╪══════════════╪══════════════════════╡\n",
       "│ Davis Cup G1 PO: POR ┆ Clay    ┆ 4         ┆ D             ┆ 1995-09-22   ┆ Davis Cup G1 PO: POR │\n",
       "│ vs ROU               ┆         ┆           ┆               ┆              ┆ vs ROU_19…           │\n",
       "│ Davis Cup EUR PR:    ┆ Hard    ┆ 4         ┆ D             ┆ 1977-09-16   ┆ Davis Cup EUR PR:    │\n",
       "│ ISR vs FIN           ┆         ┆           ┆               ┆              ┆ ISR vs FIN_1…        │\n",
       "│ Munich               ┆ Clay    ┆ 32        ┆ A             ┆ 1995-05-01   ┆ Munich_1995          │\n",
       "│ Davis Cup WG R1: SUI ┆ Hard    ┆ 4         ┆ D             ┆ 2017-02-03   ┆ Davis Cup WG R1: SUI │\n",
       "│ vs USA               ┆         ┆           ┆               ┆              ┆ vs USA_20…           │\n",
       "│ Davis Cup G1 QF: CRO ┆ Carpet  ┆ 4         ┆ D             ┆ 2001-04-06   ┆ Davis Cup G1 QF: CRO │\n",
       "│ vs AUT               ┆         ┆           ┆               ┆              ┆ vs AUT_20…           │\n",
       "│ …                    ┆ …       ┆ …         ┆ …             ┆ …            ┆ …                    │\n",
       "│ Los Angeles          ┆ Hard    ┆ 28        ┆ A             ┆ 2011-07-25   ┆ Los Angeles_2011     │\n",
       "│ Indian Wells Masters ┆ Hard    ┆ 128       ┆ M             ┆ 2017-03-06   ┆ Indian Wells         │\n",
       "│                      ┆         ┆           ┆               ┆              ┆ Masters_2017         │\n",
       "│ Tokyo                ┆ Hard    ┆ 32        ┆ A             ┆ 2018-10-01   ┆ Tokyo_2018           │\n",
       "│ Houston              ┆ Clay    ┆ 28        ┆ A             ┆ 2011-04-04   ┆ Houston_2011         │\n",
       "│ Davis Cup AFR QF:    ┆ Clay    ┆ 4         ┆ D             ┆ 1986-03-07   ┆ Davis Cup AFR QF:    │\n",
       "│ ALG vs CIV           ┆         ┆           ┆               ┆              ┆ ALG vs CIV_1…        │\n",
       "└──────────────────────┴─────────┴───────────┴───────────────┴──────────────┴──────────────────────┘"
      ]
     },
     "execution_count": 37,
     "metadata": {},
     "output_type": "execute_result"
    }
   ],
   "source": [
    "tourney_single_matches_atp"
   ]
  },
  {
   "cell_type": "code",
   "execution_count": 38,
   "metadata": {},
   "outputs": [
    {
     "data": {
      "text/html": [
       "<div><style>\n",
       ".dataframe > thead > tr,\n",
       ".dataframe > tbody > tr {\n",
       "  text-align: right;\n",
       "  white-space: pre-wrap;\n",
       "}\n",
       "</style>\n",
       "<small>shape: (1_345, 6)</small><table border=\"1\" class=\"dataframe\"><thead><tr><th>tourney_name</th><th>surface</th><th>draw_size</th><th>tourney_level</th><th>tourney_date</th><th>tourney_name_date</th></tr><tr><td>str</td><td>str</td><td>i64</td><td>str</td><td>str</td><td>str</td></tr></thead><tbody><tr><td>&quot;Cincinnati Masters&quot;</td><td>&quot;Hard&quot;</td><td>56</td><td>&quot;M&quot;</td><td>&quot;2010-08-15&quot;</td><td>&quot;Cincinnati Masters_2010&quot;</td></tr><tr><td>&quot;Rotterdam&quot;</td><td>&quot;Hard&quot;</td><td>32</td><td>&quot;A&quot;</td><td>&quot;2009-02-09&quot;</td><td>&quot;Rotterdam_2009&quot;</td></tr><tr><td>&quot;Mumbai&quot;</td><td>&quot;Hard&quot;</td><td>32</td><td>&quot;A&quot;</td><td>&quot;2006-09-25&quot;</td><td>&quot;Mumbai_2006&quot;</td></tr><tr><td>&quot;Los Angeles&quot;</td><td>&quot;Hard&quot;</td><td>32</td><td>&quot;A&quot;</td><td>&quot;2007-07-16&quot;</td><td>&quot;Los Angeles_2007&quot;</td></tr><tr><td>&quot;Gstaad&quot;</td><td>&quot;Clay&quot;</td><td>32</td><td>&quot;A&quot;</td><td>&quot;2009-07-26&quot;</td><td>&quot;Gstaad_2009&quot;</td></tr><tr><td>&hellip;</td><td>&hellip;</td><td>&hellip;</td><td>&hellip;</td><td>&hellip;</td><td>&hellip;</td></tr><tr><td>&quot;Shanghai Masters&quot;</td><td>&quot;Hard&quot;</td><td>64</td><td>&quot;M&quot;</td><td>&quot;2019-10-07&quot;</td><td>&quot;Shanghai Masters_2019&quot;</td></tr><tr><td>&quot;Long Island&quot;</td><td>&quot;Hard&quot;</td><td>48</td><td>&quot;A&quot;</td><td>&quot;2002-08-19&quot;</td><td>&quot;Long Island_2002&quot;</td></tr><tr><td>&quot;Santiago&quot;</td><td>&quot;Clay&quot;</td><td>32</td><td>&quot;A&quot;</td><td>&quot;2010-02-01&quot;</td><td>&quot;Santiago_2010&quot;</td></tr><tr><td>&quot;Rio De Janeiro&quot;</td><td>&quot;Clay&quot;</td><td>32</td><td>&quot;A&quot;</td><td>&quot;2020-02-17&quot;</td><td>&quot;Rio De Janeiro_2020&quot;</td></tr><tr><td>&quot;Stuttgart&quot;</td><td>&quot;Grass&quot;</td><td>32</td><td>&quot;A&quot;</td><td>&quot;2019-06-10&quot;</td><td>&quot;Stuttgart_2019&quot;</td></tr></tbody></table></div>"
      ],
      "text/plain": [
       "shape: (1_345, 6)\n",
       "┌────────────────────┬─────────┬───────────┬───────────────┬──────────────┬────────────────────────┐\n",
       "│ tourney_name       ┆ surface ┆ draw_size ┆ tourney_level ┆ tourney_date ┆ tourney_name_date      │\n",
       "│ ---                ┆ ---     ┆ ---       ┆ ---           ┆ ---          ┆ ---                    │\n",
       "│ str                ┆ str     ┆ i64       ┆ str           ┆ str          ┆ str                    │\n",
       "╞════════════════════╪═════════╪═══════════╪═══════════════╪══════════════╪════════════════════════╡\n",
       "│ Cincinnati Masters ┆ Hard    ┆ 56        ┆ M             ┆ 2010-08-15   ┆ Cincinnati             │\n",
       "│                    ┆         ┆           ┆               ┆              ┆ Masters_2010           │\n",
       "│ Rotterdam          ┆ Hard    ┆ 32        ┆ A             ┆ 2009-02-09   ┆ Rotterdam_2009         │\n",
       "│ Mumbai             ┆ Hard    ┆ 32        ┆ A             ┆ 2006-09-25   ┆ Mumbai_2006            │\n",
       "│ Los Angeles        ┆ Hard    ┆ 32        ┆ A             ┆ 2007-07-16   ┆ Los Angeles_2007       │\n",
       "│ Gstaad             ┆ Clay    ┆ 32        ┆ A             ┆ 2009-07-26   ┆ Gstaad_2009            │\n",
       "│ …                  ┆ …       ┆ …         ┆ …             ┆ …            ┆ …                      │\n",
       "│ Shanghai Masters   ┆ Hard    ┆ 64        ┆ M             ┆ 2019-10-07   ┆ Shanghai Masters_2019  │\n",
       "│ Long Island        ┆ Hard    ┆ 48        ┆ A             ┆ 2002-08-19   ┆ Long Island_2002       │\n",
       "│ Santiago           ┆ Clay    ┆ 32        ┆ A             ┆ 2010-02-01   ┆ Santiago_2010          │\n",
       "│ Rio De Janeiro     ┆ Clay    ┆ 32        ┆ A             ┆ 2020-02-17   ┆ Rio De Janeiro_2020    │\n",
       "│ Stuttgart          ┆ Grass   ┆ 32        ┆ A             ┆ 2019-06-10   ┆ Stuttgart_2019         │\n",
       "└────────────────────┴─────────┴───────────┴───────────────┴──────────────┴────────────────────────┘"
      ]
     },
     "execution_count": 38,
     "metadata": {},
     "output_type": "execute_result"
    }
   ],
   "source": [
    "tourney_doubles_matches_atp"
   ]
  },
  {
   "cell_type": "code",
   "execution_count": 39,
   "metadata": {},
   "outputs": [
    {
     "data": {
      "text/html": [
       "<div><style>\n",
       ".dataframe > thead > tr,\n",
       ".dataframe > tbody > tr {\n",
       "  text-align: right;\n",
       "  white-space: pre-wrap;\n",
       "}\n",
       "</style>\n",
       "<small>shape: (14_687, 6)</small><table border=\"1\" class=\"dataframe\"><thead><tr><th>tourney_name</th><th>surface</th><th>draw_size</th><th>tourney_level</th><th>tourney_date</th><th>tourney_name_date</th></tr><tr><td>str</td><td>str</td><td>i64</td><td>str</td><td>str</td><td>str</td></tr></thead><tbody><tr><td>&quot;Brazil F14&quot;</td><td>&quot;Clay&quot;</td><td>32</td><td>&quot;S&quot;</td><td>&quot;2006-10-09&quot;</td><td>&quot;Brazil F14_2006&quot;</td></tr><tr><td>&quot;Brazil F13&quot;</td><td>&quot;Clay&quot;</td><td>32</td><td>&quot;S&quot;</td><td>&quot;2007-09-10&quot;</td><td>&quot;Brazil F13_2007&quot;</td></tr><tr><td>&quot;China F1&quot;</td><td>&quot;Hard&quot;</td><td>32</td><td>&quot;S&quot;</td><td>&quot;2005-05-16&quot;</td><td>&quot;China F1_2005&quot;</td></tr><tr><td>&quot;Japan 1 Masters 3&quot;</td><td>&quot;Hard&quot;</td><td>32</td><td>&quot;S&quot;</td><td>&quot;1997-07-07&quot;</td><td>&quot;Japan 1 Masters 3_1997&quot;</td></tr><tr><td>&quot;Italy F16&quot;</td><td>&quot;Clay&quot;</td><td>32</td><td>&quot;S&quot;</td><td>&quot;2010-07-05&quot;</td><td>&quot;Italy F16_2010&quot;</td></tr><tr><td>&hellip;</td><td>&hellip;</td><td>&hellip;</td><td>&hellip;</td><td>&hellip;</td><td>&hellip;</td></tr><tr><td>&quot;Tucuman&quot;</td><td>&quot;Clay&quot;</td><td>32</td><td>&quot;25&quot;</td><td>&quot;2024-02-26&quot;</td><td>&quot;M25 Tucuman_2024&quot;</td></tr><tr><td>&quot;Tianjin&quot;</td><td>&quot;Hard&quot;</td><td>32</td><td>&quot;15&quot;</td><td>&quot;2023-06-12&quot;</td><td>&quot;M15 Tianjin_2023&quot;</td></tr><tr><td>&quot;USA F9&quot;</td><td>&quot;Hard&quot;</td><td>32</td><td>&quot;S&quot;</td><td>&quot;2018-04-02&quot;</td><td>&quot;USA F9_2018&quot;</td></tr><tr><td>&quot;Serbia &amp; Montenegro F3&quot;</td><td>&quot;Clay&quot;</td><td>32</td><td>&quot;S&quot;</td><td>&quot;2004-06-21&quot;</td><td>&quot;Serbia &amp; Montenegro F3_2004&quot;</td></tr><tr><td>&quot;Sweden Masters 4&quot;</td><td>&quot;Carpet&quot;</td><td>32</td><td>&quot;S&quot;</td><td>&quot;1995-09-09&quot;</td><td>&quot;Sweden Masters 4_1995&quot;</td></tr></tbody></table></div>"
      ],
      "text/plain": [
       "shape: (14_687, 6)\n",
       "┌──────────────────────┬─────────┬───────────┬───────────────┬──────────────┬──────────────────────┐\n",
       "│ tourney_name         ┆ surface ┆ draw_size ┆ tourney_level ┆ tourney_date ┆ tourney_name_date    │\n",
       "│ ---                  ┆ ---     ┆ ---       ┆ ---           ┆ ---          ┆ ---                  │\n",
       "│ str                  ┆ str     ┆ i64       ┆ str           ┆ str          ┆ str                  │\n",
       "╞══════════════════════╪═════════╪═══════════╪═══════════════╪══════════════╪══════════════════════╡\n",
       "│ Brazil F14           ┆ Clay    ┆ 32        ┆ S             ┆ 2006-10-09   ┆ Brazil F14_2006      │\n",
       "│ Brazil F13           ┆ Clay    ┆ 32        ┆ S             ┆ 2007-09-10   ┆ Brazil F13_2007      │\n",
       "│ China F1             ┆ Hard    ┆ 32        ┆ S             ┆ 2005-05-16   ┆ China F1_2005        │\n",
       "│ Japan 1 Masters 3    ┆ Hard    ┆ 32        ┆ S             ┆ 1997-07-07   ┆ Japan 1 Masters      │\n",
       "│                      ┆         ┆           ┆               ┆              ┆ 3_1997               │\n",
       "│ Italy F16            ┆ Clay    ┆ 32        ┆ S             ┆ 2010-07-05   ┆ Italy F16_2010       │\n",
       "│ …                    ┆ …       ┆ …         ┆ …             ┆ …            ┆ …                    │\n",
       "│ Tucuman              ┆ Clay    ┆ 32        ┆ 25            ┆ 2024-02-26   ┆ M25 Tucuman_2024     │\n",
       "│ Tianjin              ┆ Hard    ┆ 32        ┆ 15            ┆ 2023-06-12   ┆ M15 Tianjin_2023     │\n",
       "│ USA F9               ┆ Hard    ┆ 32        ┆ S             ┆ 2018-04-02   ┆ USA F9_2018          │\n",
       "│ Serbia & Montenegro  ┆ Clay    ┆ 32        ┆ S             ┆ 2004-06-21   ┆ Serbia & Montenegro  │\n",
       "│ F3                   ┆         ┆           ┆               ┆              ┆ F3_2004              │\n",
       "│ Sweden Masters 4     ┆ Carpet  ┆ 32        ┆ S             ┆ 1995-09-09   ┆ Sweden Masters       │\n",
       "│                      ┆         ┆           ┆               ┆              ┆ 4_1995               │\n",
       "└──────────────────────┴─────────┴───────────┴───────────────┴──────────────┴──────────────────────┘"
      ]
     },
     "execution_count": 39,
     "metadata": {},
     "output_type": "execute_result"
    }
   ],
   "source": [
    "tourney_futures"
   ]
  },
  {
   "cell_type": "code",
   "execution_count": 40,
   "metadata": {},
   "outputs": [
    {
     "data": {
      "text/html": [
       "<div><style>\n",
       ".dataframe > thead > tr,\n",
       ".dataframe > tbody > tr {\n",
       "  text-align: right;\n",
       "  white-space: pre-wrap;\n",
       "}\n",
       "</style>\n",
       "<small>shape: (1_481, 6)</small><table border=\"1\" class=\"dataframe\"><thead><tr><th>tourney_name</th><th>surface</th><th>draw_size</th><th>tourney_level</th><th>tourney_date</th><th>tourney_name_date</th></tr><tr><td>str</td><td>str</td><td>str</td><td>str</td><td>str</td><td>str</td></tr></thead><tbody><tr><td>&quot;Davis Cup WG CR: FRA vs USA&quot;</td><td>&quot;Clay&quot;</td><td>&quot;4&quot;</td><td>&quot;D&quot;</td><td>&quot;1929-07-26&quot;</td><td>&quot;Davis Cup WG CR: FRA vs USA_19…</td></tr><tr><td>&quot;Davis Cup G2 QF: PHI vs MAS&quot;</td><td>null</td><td>&quot;4&quot;</td><td>&quot;D&quot;</td><td>&quot;1959-03-21&quot;</td><td>&quot;Davis Cup G2 QF: PHI vs MAS_19…</td></tr><tr><td>&quot;Davis Cup AME SF: PHI vs USA&quot;</td><td>&quot;Grass&quot;</td><td>&quot;4&quot;</td><td>&quot;D&quot;</td><td>&quot;1960-11-22&quot;</td><td>&quot;Davis Cup AME SF: PHI vs USA_1…</td></tr><tr><td>&quot;Australian Open&quot;</td><td>&quot;Grass&quot;</td><td>&quot;32&quot;</td><td>&quot;G&quot;</td><td>&quot;1940-01-19&quot;</td><td>&quot;Australian Open_1940_amatures_…</td></tr><tr><td>&quot;Davis Cup EUR QF: FRA vs CAN&quot;</td><td>&quot;Clay&quot;</td><td>&quot;4&quot;</td><td>&quot;D&quot;</td><td>&quot;1966-05-13&quot;</td><td>&quot;Davis Cup EUR QF: FRA vs CAN_1…</td></tr><tr><td>&hellip;</td><td>&hellip;</td><td>&hellip;</td><td>&hellip;</td><td>&hellip;</td><td>&hellip;</td></tr><tr><td>&quot;Davis Cup EUR R1: SUI vs PAK&quot;</td><td>null</td><td>&quot;4&quot;</td><td>&quot;D&quot;</td><td>&quot;1948-04-30&quot;</td><td>&quot;Davis Cup EUR R1: SUI vs PAK_1…</td></tr><tr><td>&quot;Davis Cup AME F: USA vs MEX&quot;</td><td>&quot;Clay&quot;</td><td>&quot;4&quot;</td><td>&quot;D&quot;</td><td>&quot;1961-08-18&quot;</td><td>&quot;Davis Cup AME F: USA vs MEX_19…</td></tr><tr><td>&quot;Davis Cup EUR R1: NOR vs HUN&quot;</td><td>&quot;Clay&quot;</td><td>&quot;4&quot;</td><td>&quot;D&quot;</td><td>&quot;1928-05-04&quot;</td><td>&quot;Davis Cup EUR R1: NOR vs HUN_1…</td></tr><tr><td>&quot;Davis Cup EUR QF: TCH vs NZL&quot;</td><td>null</td><td>&quot;4&quot;</td><td>&quot;D&quot;</td><td>&quot;1934-06-07&quot;</td><td>&quot;Davis Cup EUR QF: TCH vs NZL_1…</td></tr><tr><td>&quot;Wimbledon&quot;</td><td>&quot;Grass&quot;</td><td>&quot;32&quot;</td><td>&quot;G&quot;</td><td>&quot;1889-07-01&quot;</td><td>&quot;Wimbledon_1889_amatures_atp&quot;</td></tr></tbody></table></div>"
      ],
      "text/plain": [
       "shape: (1_481, 6)\n",
       "┌──────────────────────┬─────────┬───────────┬───────────────┬──────────────┬──────────────────────┐\n",
       "│ tourney_name         ┆ surface ┆ draw_size ┆ tourney_level ┆ tourney_date ┆ tourney_name_date    │\n",
       "│ ---                  ┆ ---     ┆ ---       ┆ ---           ┆ ---          ┆ ---                  │\n",
       "│ str                  ┆ str     ┆ str       ┆ str           ┆ str          ┆ str                  │\n",
       "╞══════════════════════╪═════════╪═══════════╪═══════════════╪══════════════╪══════════════════════╡\n",
       "│ Davis Cup WG CR: FRA ┆ Clay    ┆ 4         ┆ D             ┆ 1929-07-26   ┆ Davis Cup WG CR: FRA │\n",
       "│ vs USA               ┆         ┆           ┆               ┆              ┆ vs USA_19…           │\n",
       "│ Davis Cup G2 QF: PHI ┆ null    ┆ 4         ┆ D             ┆ 1959-03-21   ┆ Davis Cup G2 QF: PHI │\n",
       "│ vs MAS               ┆         ┆           ┆               ┆              ┆ vs MAS_19…           │\n",
       "│ Davis Cup AME SF:    ┆ Grass   ┆ 4         ┆ D             ┆ 1960-11-22   ┆ Davis Cup AME SF:    │\n",
       "│ PHI vs USA           ┆         ┆           ┆               ┆              ┆ PHI vs USA_1…        │\n",
       "│ Australian Open      ┆ Grass   ┆ 32        ┆ G             ┆ 1940-01-19   ┆ Australian           │\n",
       "│                      ┆         ┆           ┆               ┆              ┆ Open_1940_amatures_… │\n",
       "│ Davis Cup EUR QF:    ┆ Clay    ┆ 4         ┆ D             ┆ 1966-05-13   ┆ Davis Cup EUR QF:    │\n",
       "│ FRA vs CAN           ┆         ┆           ┆               ┆              ┆ FRA vs CAN_1…        │\n",
       "│ …                    ┆ …       ┆ …         ┆ …             ┆ …            ┆ …                    │\n",
       "│ Davis Cup EUR R1:    ┆ null    ┆ 4         ┆ D             ┆ 1948-04-30   ┆ Davis Cup EUR R1:    │\n",
       "│ SUI vs PAK           ┆         ┆           ┆               ┆              ┆ SUI vs PAK_1…        │\n",
       "│ Davis Cup AME F: USA ┆ Clay    ┆ 4         ┆ D             ┆ 1961-08-18   ┆ Davis Cup AME F: USA │\n",
       "│ vs MEX               ┆         ┆           ┆               ┆              ┆ vs MEX_19…           │\n",
       "│ Davis Cup EUR R1:    ┆ Clay    ┆ 4         ┆ D             ┆ 1928-05-04   ┆ Davis Cup EUR R1:    │\n",
       "│ NOR vs HUN           ┆         ┆           ┆               ┆              ┆ NOR vs HUN_1…        │\n",
       "│ Davis Cup EUR QF:    ┆ null    ┆ 4         ┆ D             ┆ 1934-06-07   ┆ Davis Cup EUR QF:    │\n",
       "│ TCH vs NZL           ┆         ┆           ┆               ┆              ┆ TCH vs NZL_1…        │\n",
       "│ Wimbledon            ┆ Grass   ┆ 32        ┆ G             ┆ 1889-07-01   ┆ Wimbledon_1889_amatu │\n",
       "│                      ┆         ┆           ┆               ┆              ┆ res_atp              │\n",
       "└──────────────────────┴─────────┴───────────┴───────────────┴──────────────┴──────────────────────┘"
      ]
     },
     "execution_count": 40,
     "metadata": {},
     "output_type": "execute_result"
    }
   ],
   "source": [
    "tourney_amateurs_matches_atp"
   ]
  },
  {
   "cell_type": "code",
   "execution_count": 41,
   "metadata": {},
   "outputs": [
    {
     "data": {
      "text/html": [
       "<div><style>\n",
       ".dataframe > thead > tr,\n",
       ".dataframe > tbody > tr {\n",
       "  text-align: right;\n",
       "  white-space: pre-wrap;\n",
       "}\n",
       "</style>\n",
       "<small>shape: (6_191, 6)</small><table border=\"1\" class=\"dataframe\"><thead><tr><th>tourney_name</th><th>surface</th><th>draw_size</th><th>tourney_level</th><th>tourney_date</th><th>tourney_name_date</th></tr><tr><td>str</td><td>str</td><td>i64</td><td>str</td><td>str</td><td>str</td></tr></thead><tbody><tr><td>&quot;Istanbul CH&quot;</td><td>&quot;Hard&quot;</td><td>32</td><td>&quot;C&quot;</td><td>&quot;2000-07-24&quot;</td><td>&quot;Istanbul CH_2000&quot;</td></tr><tr><td>&quot;Vancouver CH&quot;</td><td>&quot;Hard&quot;</td><td>32</td><td>&quot;C&quot;</td><td>&quot;2011-08-01&quot;</td><td>&quot;Vancouver CH_2011&quot;</td></tr><tr><td>&quot;Nanjing CH&quot;</td><td>&quot;Clay&quot;</td><td>32</td><td>&quot;C&quot;</td><td>&quot;2016-04-18&quot;</td><td>&quot;Nanjing CH_2016&quot;</td></tr><tr><td>&quot;Washington&quot;</td><td>&quot;Hard&quot;</td><td>32</td><td>&quot;A&quot;</td><td>&quot;2012-07-30&quot;</td><td>&quot;Washington_2012&quot;</td></tr><tr><td>&quot;Florianopolis CH&quot;</td><td>&quot;Clay&quot;</td><td>32</td><td>&quot;C&quot;</td><td>&quot;2001-09-17&quot;</td><td>&quot;Florianopolis CH_2001&quot;</td></tr><tr><td>&hellip;</td><td>&hellip;</td><td>&hellip;</td><td>&hellip;</td><td>&hellip;</td><td>&hellip;</td></tr><tr><td>&quot;Stockholm&quot;</td><td>&quot;Hard&quot;</td><td>32</td><td>&quot;A&quot;</td><td>&quot;2019-10-14&quot;</td><td>&quot;Stockholm_2019&quot;</td></tr><tr><td>&quot;San Diego&quot;</td><td>&quot;Hard&quot;</td><td>32</td><td>&quot;A&quot;</td><td>&quot;2021-09-27&quot;</td><td>&quot;San Diego_2021&quot;</td></tr><tr><td>&quot;Venice CH&quot;</td><td>&quot;Clay&quot;</td><td>32</td><td>&quot;C&quot;</td><td>&quot;1999-06-28&quot;</td><td>&quot;Venice CH_1999&quot;</td></tr><tr><td>&quot;Newport&quot;</td><td>&quot;Grass&quot;</td><td>32</td><td>&quot;A&quot;</td><td>&quot;2009-07-06&quot;</td><td>&quot;Newport_2009&quot;</td></tr><tr><td>&quot;Valladolid CH&quot;</td><td>&quot;Hard&quot;</td><td>32</td><td>&quot;C&quot;</td><td>&quot;2003-07-21&quot;</td><td>&quot;Valladolid CH_2003&quot;</td></tr></tbody></table></div>"
      ],
      "text/plain": [
       "shape: (6_191, 6)\n",
       "┌──────────────────┬─────────┬───────────┬───────────────┬──────────────┬───────────────────────┐\n",
       "│ tourney_name     ┆ surface ┆ draw_size ┆ tourney_level ┆ tourney_date ┆ tourney_name_date     │\n",
       "│ ---              ┆ ---     ┆ ---       ┆ ---           ┆ ---          ┆ ---                   │\n",
       "│ str              ┆ str     ┆ i64       ┆ str           ┆ str          ┆ str                   │\n",
       "╞══════════════════╪═════════╪═══════════╪═══════════════╪══════════════╪═══════════════════════╡\n",
       "│ Istanbul CH      ┆ Hard    ┆ 32        ┆ C             ┆ 2000-07-24   ┆ Istanbul CH_2000      │\n",
       "│ Vancouver CH     ┆ Hard    ┆ 32        ┆ C             ┆ 2011-08-01   ┆ Vancouver CH_2011     │\n",
       "│ Nanjing CH       ┆ Clay    ┆ 32        ┆ C             ┆ 2016-04-18   ┆ Nanjing CH_2016       │\n",
       "│ Washington       ┆ Hard    ┆ 32        ┆ A             ┆ 2012-07-30   ┆ Washington_2012       │\n",
       "│ Florianopolis CH ┆ Clay    ┆ 32        ┆ C             ┆ 2001-09-17   ┆ Florianopolis CH_2001 │\n",
       "│ …                ┆ …       ┆ …         ┆ …             ┆ …            ┆ …                     │\n",
       "│ Stockholm        ┆ Hard    ┆ 32        ┆ A             ┆ 2019-10-14   ┆ Stockholm_2019        │\n",
       "│ San Diego        ┆ Hard    ┆ 32        ┆ A             ┆ 2021-09-27   ┆ San Diego_2021        │\n",
       "│ Venice CH        ┆ Clay    ┆ 32        ┆ C             ┆ 1999-06-28   ┆ Venice CH_1999        │\n",
       "│ Newport          ┆ Grass   ┆ 32        ┆ A             ┆ 2009-07-06   ┆ Newport_2009          │\n",
       "│ Valladolid CH    ┆ Hard    ┆ 32        ┆ C             ┆ 2003-07-21   ┆ Valladolid CH_2003    │\n",
       "└──────────────────┴─────────┴───────────┴───────────────┴──────────────┴───────────────────────┘"
      ]
     },
     "execution_count": 41,
     "metadata": {},
     "output_type": "execute_result"
    }
   ],
   "source": [
    "tourney_qualifiers_challengers"
   ]
  },
  {
   "cell_type": "code",
   "execution_count": 42,
   "metadata": {},
   "outputs": [
    {
     "data": {
      "text/html": [
       "<div><style>\n",
       ".dataframe > thead > tr,\n",
       ".dataframe > tbody > tr {\n",
       "  text-align: right;\n",
       "  white-space: pre-wrap;\n",
       "}\n",
       "</style>\n",
       "<small>shape: (10_238, 6)</small><table border=\"1\" class=\"dataframe\"><thead><tr><th>tourney_name</th><th>surface</th><th>draw_size</th><th>tourney_level</th><th>tourney_date</th><th>tourney_name_date</th></tr><tr><td>str</td><td>str</td><td>str</td><td>str</td><td>str</td><td>str</td></tr></thead><tbody><tr><td>&quot;Fed Cup G2 RR: INA vs PAK&quot;</td><td>&quot;Hard&quot;</td><td>&quot;2&quot;</td><td>&quot;D&quot;</td><td>&quot;2016-04-14&quot;</td><td>&quot;Fed Cup G2 RR: INA vs PAK_2016&quot;</td></tr><tr><td>&quot;Prague&quot;</td><td>&quot;Clay&quot;</td><td>&quot;32&quot;</td><td>&quot;I&quot;</td><td>&quot;2024-07-22&quot;</td><td>&quot;Prague_2024&quot;</td></tr><tr><td>&quot;Fed Cup G2 PO: ECU vs BOL&quot;</td><td>&quot;Clay&quot;</td><td>&quot;4&quot;</td><td>&quot;D&quot;</td><td>&quot;2000-05-12&quot;</td><td>&quot;Fed Cup G2 PO: ECU vs BOL_2000&quot;</td></tr><tr><td>&quot;Fed Cup G1 RRD: GBR vs ISR&quot;</td><td>&quot;Clay&quot;</td><td>&quot;4&quot;</td><td>&quot;D&quot;</td><td>&quot;2000-05-18&quot;</td><td>&quot;Fed Cup G1 RRD: GBR vs ISR_200…</td></tr><tr><td>&quot;Fed Cup G1 PO: ARG vs CAN&quot;</td><td>&quot;Clay&quot;</td><td>&quot;4&quot;</td><td>&quot;D&quot;</td><td>&quot;2000-04-30&quot;</td><td>&quot;Fed Cup G1 PO: ARG vs CAN_2000&quot;</td></tr><tr><td>&hellip;</td><td>&hellip;</td><td>&hellip;</td><td>&hellip;</td><td>&hellip;</td><td>&hellip;</td></tr><tr><td>&quot;San Diego&quot;</td><td>&quot;Hard&quot;</td><td>&quot;28&quot;</td><td>&quot;T2&quot;</td><td>&quot;2000-07-31&quot;</td><td>&quot;San Diego_2000&quot;</td></tr><tr><td>&quot;Paris&quot;</td><td>&quot;Carpet&quot;</td><td>&quot;30&quot;</td><td>&quot;P&quot;</td><td>&quot;2011-02-07&quot;</td><td>&quot;Paris_2011&quot;</td></tr><tr><td>&quot;Tokyo&quot;</td><td>&quot;Hard&quot;</td><td>&quot;32&quot;</td><td>&quot;P&quot;</td><td>&quot;2016-09-19&quot;</td><td>&quot;Tokyo_2016&quot;</td></tr><tr><td>&quot;Fed Cup G2 RR: INA vs BRN&quot;</td><td>&quot;Hard&quot;</td><td>&quot;2&quot;</td><td>&quot;D&quot;</td><td>&quot;2018-02-06&quot;</td><td>&quot;Fed Cup G2 RR: INA vs BRN_2018&quot;</td></tr><tr><td>&quot;Cincinnati&quot;</td><td>&quot;Hard&quot;</td><td>&quot;64&quot;</td><td>&quot;P&quot;</td><td>&quot;2019-08-12&quot;</td><td>&quot;Cincinnati_2019&quot;</td></tr></tbody></table></div>"
      ],
      "text/plain": [
       "shape: (10_238, 6)\n",
       "┌──────────────────────┬─────────┬───────────┬───────────────┬──────────────┬──────────────────────┐\n",
       "│ tourney_name         ┆ surface ┆ draw_size ┆ tourney_level ┆ tourney_date ┆ tourney_name_date    │\n",
       "│ ---                  ┆ ---     ┆ ---       ┆ ---           ┆ ---          ┆ ---                  │\n",
       "│ str                  ┆ str     ┆ str       ┆ str           ┆ str          ┆ str                  │\n",
       "╞══════════════════════╪═════════╪═══════════╪═══════════════╪══════════════╪══════════════════════╡\n",
       "│ Fed Cup G2 RR: INA   ┆ Hard    ┆ 2         ┆ D             ┆ 2016-04-14   ┆ Fed Cup G2 RR: INA   │\n",
       "│ vs PAK               ┆         ┆           ┆               ┆              ┆ vs PAK_2016          │\n",
       "│ Prague               ┆ Clay    ┆ 32        ┆ I             ┆ 2024-07-22   ┆ Prague_2024          │\n",
       "│ Fed Cup G2 PO: ECU   ┆ Clay    ┆ 4         ┆ D             ┆ 2000-05-12   ┆ Fed Cup G2 PO: ECU   │\n",
       "│ vs BOL               ┆         ┆           ┆               ┆              ┆ vs BOL_2000          │\n",
       "│ Fed Cup G1 RRD: GBR  ┆ Clay    ┆ 4         ┆ D             ┆ 2000-05-18   ┆ Fed Cup G1 RRD: GBR  │\n",
       "│ vs ISR               ┆         ┆           ┆               ┆              ┆ vs ISR_200…          │\n",
       "│ Fed Cup G1 PO: ARG   ┆ Clay    ┆ 4         ┆ D             ┆ 2000-04-30   ┆ Fed Cup G1 PO: ARG   │\n",
       "│ vs CAN               ┆         ┆           ┆               ┆              ┆ vs CAN_2000          │\n",
       "│ …                    ┆ …       ┆ …         ┆ …             ┆ …            ┆ …                    │\n",
       "│ San Diego            ┆ Hard    ┆ 28        ┆ T2            ┆ 2000-07-31   ┆ San Diego_2000       │\n",
       "│ Paris                ┆ Carpet  ┆ 30        ┆ P             ┆ 2011-02-07   ┆ Paris_2011           │\n",
       "│ Tokyo                ┆ Hard    ┆ 32        ┆ P             ┆ 2016-09-19   ┆ Tokyo_2016           │\n",
       "│ Fed Cup G2 RR: INA   ┆ Hard    ┆ 2         ┆ D             ┆ 2018-02-06   ┆ Fed Cup G2 RR: INA   │\n",
       "│ vs BRN               ┆         ┆           ┆               ┆              ┆ vs BRN_2018          │\n",
       "│ Cincinnati           ┆ Hard    ┆ 64        ┆ P             ┆ 2019-08-12   ┆ Cincinnati_2019      │\n",
       "└──────────────────────┴─────────┴───────────┴───────────────┴──────────────┴──────────────────────┘"
      ]
     },
     "execution_count": 42,
     "metadata": {},
     "output_type": "execute_result"
    }
   ],
   "source": [
    "tourney_single_matches_wta"
   ]
  },
  {
   "cell_type": "code",
   "execution_count": 36,
   "metadata": {},
   "outputs": [
    {
     "ename": "SchemaError",
     "evalue": "type String is incompatible with expected type Int64",
     "output_type": "error",
     "traceback": [
      "\u001b[1;31m---------------------------------------------------------------------------\u001b[0m",
      "\u001b[1;31mSchemaError\u001b[0m                               Traceback (most recent call last)",
      "Cell \u001b[1;32mIn[36], line 29\u001b[0m\n\u001b[0;32m     21\u001b[0m tourney_qualifiers_challengers \u001b[38;5;241m=\u001b[39m tourney_qualifiers_challengers\u001b[38;5;241m.\u001b[39mwith_columns(\n\u001b[0;32m     22\u001b[0m     pl\u001b[38;5;241m.\u001b[39mcol(\u001b[38;5;124m\"\u001b[39m\u001b[38;5;124mtourney_date\u001b[39m\u001b[38;5;124m\"\u001b[39m)\u001b[38;5;241m.\u001b[39mcast(pl\u001b[38;5;241m.\u001b[39mUtf8)\u001b[38;5;241m.\u001b[39malias(\u001b[38;5;124m\"\u001b[39m\u001b[38;5;124mtourney_date\u001b[39m\u001b[38;5;124m\"\u001b[39m)\n\u001b[0;32m     23\u001b[0m )\n\u001b[0;32m     25\u001b[0m tourney_qualifiers_itf \u001b[38;5;241m=\u001b[39m tourney_qualifiers_itf\u001b[38;5;241m.\u001b[39mwith_columns(\n\u001b[0;32m     26\u001b[0m     pl\u001b[38;5;241m.\u001b[39mcol(\u001b[38;5;124m\"\u001b[39m\u001b[38;5;124mtourney_date\u001b[39m\u001b[38;5;124m\"\u001b[39m)\u001b[38;5;241m.\u001b[39mcast(pl\u001b[38;5;241m.\u001b[39mUtf8)\u001b[38;5;241m.\u001b[39malias(\u001b[38;5;124m\"\u001b[39m\u001b[38;5;124mtourney_date\u001b[39m\u001b[38;5;124m\"\u001b[39m)\n\u001b[0;32m     27\u001b[0m )\n\u001b[1;32m---> 29\u001b[0m total_tourney \u001b[38;5;241m=\u001b[39m \u001b[43mpl\u001b[49m\u001b[38;5;241;43m.\u001b[39;49m\u001b[43mconcat\u001b[49m\u001b[43m(\u001b[49m\u001b[43m[\u001b[49m\n\u001b[0;32m     30\u001b[0m \u001b[43m    \u001b[49m\u001b[43mtourney_single_matches_atp\u001b[49m\u001b[43m,\u001b[49m\n\u001b[0;32m     31\u001b[0m \u001b[43m    \u001b[49m\u001b[43mtourney_single_matches_wta\u001b[49m\u001b[43m,\u001b[49m\n\u001b[0;32m     32\u001b[0m \u001b[43m    \u001b[49m\u001b[43mtourney_amateurs_matches_atp\u001b[49m\u001b[43m,\u001b[49m\n\u001b[0;32m     33\u001b[0m \u001b[43m    \u001b[49m\u001b[43mtourney_doubles_matches_atp\u001b[49m\u001b[43m,\u001b[49m\n\u001b[0;32m     34\u001b[0m \u001b[43m    \u001b[49m\u001b[43mtourney_futures\u001b[49m\u001b[43m,\u001b[49m\n\u001b[0;32m     35\u001b[0m \u001b[43m    \u001b[49m\u001b[43mtourney_qualifiers_challengers\u001b[49m\u001b[43m,\u001b[49m\n\u001b[0;32m     36\u001b[0m \u001b[43m    \u001b[49m\u001b[43mtourney_qualifiers_itf\u001b[49m\n\u001b[0;32m     37\u001b[0m \u001b[43m]\u001b[49m\u001b[43m,\u001b[49m\u001b[43m \u001b[49m\u001b[43mhow\u001b[49m\u001b[38;5;241;43m=\u001b[39;49m\u001b[38;5;124;43m\"\u001b[39;49m\u001b[38;5;124;43mvertical\u001b[39;49m\u001b[38;5;124;43m\"\u001b[39;49m\u001b[43m)\u001b[49m\n\u001b[0;32m     39\u001b[0m total_tourney\n",
      "File \u001b[1;32mc:\\Users\\filip\\AppData\\Local\\Programs\\Python\\Python312\\Lib\\site-packages\\polars\\functions\\eager.py:184\u001b[0m, in \u001b[0;36mconcat\u001b[1;34m(items, how, rechunk, parallel)\u001b[0m\n\u001b[0;32m    182\u001b[0m \u001b[38;5;28;01mif\u001b[39;00m \u001b[38;5;28misinstance\u001b[39m(first, pl\u001b[38;5;241m.\u001b[39mDataFrame):\n\u001b[0;32m    183\u001b[0m     \u001b[38;5;28;01mif\u001b[39;00m how \u001b[38;5;241m==\u001b[39m \u001b[38;5;124m\"\u001b[39m\u001b[38;5;124mvertical\u001b[39m\u001b[38;5;124m\"\u001b[39m:\n\u001b[1;32m--> 184\u001b[0m         out \u001b[38;5;241m=\u001b[39m wrap_df(\u001b[43mplr\u001b[49m\u001b[38;5;241;43m.\u001b[39;49m\u001b[43mconcat_df\u001b[49m\u001b[43m(\u001b[49m\u001b[43melems\u001b[49m\u001b[43m)\u001b[49m)\n\u001b[0;32m    185\u001b[0m     \u001b[38;5;28;01melif\u001b[39;00m how \u001b[38;5;241m==\u001b[39m \u001b[38;5;124m\"\u001b[39m\u001b[38;5;124mvertical_relaxed\u001b[39m\u001b[38;5;124m\"\u001b[39m:\n\u001b[0;32m    186\u001b[0m         out \u001b[38;5;241m=\u001b[39m wrap_ldf(\n\u001b[0;32m    187\u001b[0m             plr\u001b[38;5;241m.\u001b[39mconcat_lf(\n\u001b[0;32m    188\u001b[0m                 [df\u001b[38;5;241m.\u001b[39mlazy() \u001b[38;5;28;01mfor\u001b[39;00m df \u001b[38;5;129;01min\u001b[39;00m elems],\n\u001b[1;32m   (...)\u001b[0m\n\u001b[0;32m    192\u001b[0m             )\n\u001b[0;32m    193\u001b[0m         )\u001b[38;5;241m.\u001b[39mcollect(no_optimization\u001b[38;5;241m=\u001b[39m\u001b[38;5;28;01mTrue\u001b[39;00m)\n",
      "\u001b[1;31mSchemaError\u001b[0m: type String is incompatible with expected type Int64"
     ]
    }
   ],
   "source": [
    "\n",
    "tourney_single_matches_atp = tourney_single_matches_atp.with_columns(\n",
    "    pl.col(\"tourney_date\").cast(pl.Utf8).alias(\"tourney_date\")\n",
    ")\n",
    "\n",
    "tourney_single_matches_wta = tourney_single_matches_wta.with_columns(\n",
    "    pl.col(\"tourney_date\").cast(pl.Utf8).alias(\"tourney_date\")\n",
    ")\n",
    "\n",
    "tourney_amateurs_matches_atp = tourney_amateurs_matches_atp.with_columns(\n",
    "    pl.col(\"tourney_date\").cast(pl.Utf8).alias(\"tourney_date\")\n",
    ")\n",
    "\n",
    "tourney_doubles_matches_atp = tourney_doubles_matches_atp.with_columns(\n",
    "    pl.col(\"tourney_date\").cast(pl.Utf8).alias(\"tourney_date\")\n",
    ")\n",
    "\n",
    "tourney_futures = tourney_futures.with_columns(\n",
    "    pl.col(\"tourney_date\").cast(pl.Utf8).alias(\"tourney_date\")\n",
    ")\n",
    "\n",
    "tourney_qualifiers_challengers = tourney_qualifiers_challengers.with_columns(\n",
    "    pl.col(\"tourney_date\").cast(pl.Utf8).alias(\"tourney_date\")\n",
    ")\n",
    "\n",
    "tourney_qualifiers_itf = tourney_qualifiers_itf.with_columns(\n",
    "    pl.col(\"tourney_date\").cast(pl.Utf8).alias(\"tourney_date\")\n",
    ")\n",
    "\n",
    "total_tourney = pl.concat([\n",
    "    tourney_single_matches_atp,\n",
    "    tourney_single_matches_wta,\n",
    "    tourney_amateurs_matches_atp,\n",
    "    tourney_doubles_matches_atp,\n",
    "    tourney_futures,\n",
    "    tourney_qualifiers_challengers,\n",
    "    tourney_qualifiers_itf\n",
    "], how=\"vertical\")\n",
    "\n",
    "total_tourney\n"
   ]
  },
  {
   "cell_type": "code",
   "execution_count": null,
   "metadata": {},
   "outputs": [],
   "source": []
  }
 ],
 "metadata": {
  "kernelspec": {
   "display_name": "Python 3",
   "language": "python",
   "name": "python3"
  },
  "language_info": {
   "codemirror_mode": {
    "name": "ipython",
    "version": 3
   },
   "file_extension": ".py",
   "mimetype": "text/x-python",
   "name": "python",
   "nbconvert_exporter": "python",
   "pygments_lexer": "ipython3",
   "version": "3.12.4"
  }
 },
 "nbformat": 4,
 "nbformat_minor": 2
}
