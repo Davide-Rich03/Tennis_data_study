{
 "cells": [
  {
   "cell_type": "code",
   "execution_count": 1,
   "metadata": {},
   "outputs": [],
   "source": [
    "import pandas as pd\n",
    "import numpy as np\n",
    "import os\n",
    "import polars as pl\n",
    "from utils.utils import *\n",
    "import matplotlib.pyplot as plt\n",
    "import seaborn as sns\n",
    "import warnings\n",
    "warnings.filterwarnings('ignore')\n",
    "\n",
    "#tutti i database aggregati li potete richiamare con le varie funzioni di import che trovate in utils.py, gli esempi sono comunque sotto.\n",
    "#per scegliere se ATP o WTA potete cambiare il valore all'interno della funzione gender in \"atp\" o \"wta\" (di default è atp)\n",
    "#es: import_players(gender=\"atp\"), import_players(gender=\"wta\")\n",
    "\n",
    "#le varie funzioni sono import_tennis_matches(), import_players(), import_matches_amateurs_atp(), import_rankings().\n",
    "\n",
    "#per quanto riguarda i match di singolo, doppio,futures, qual_chall e qual_itf dovete usare la funzione import_tennis_matches con una\n",
    "#specifica keyword che indica il tipo di match es: import_tennis_matches(data_type=\"singles\".gender=\"wta\") \n",
    "\n",
    "#le varie keyword tra cui potete scegliere sono [\"singles\",\"doubles\",\"qualifiers_challengers\",\"futures\",\"qualifiers_itf\"]\n",
    "\n",
    "#ATTENZIONE! i futures, qualifiers_challengers e doppi sono esclusivamente maschili mentre i qualifiers_itf sono esclusivamente femminili!\n",
    "#tutte queste le cose le potete verificare guardando il file utils.py\n",
    "\n",
    "#fate una bella EDA and have fun!\n",
    "\n"
   ]
  },
  {
   "cell_type": "code",
   "execution_count": 2,
   "metadata": {},
   "outputs": [],
   "source": [
    "def sorted_value_counts(df, column_name):\n",
    "    \"\"\"\n",
    "    Restituisce il value counts di una colonna di un DataFrame in ordine decrescente.\n",
    "\n",
    "    Parametri:\n",
    "        df (pd.DataFrame): Il DataFrame di input.\n",
    "        column_name (str): Il nome della colonna di cui calcolare il value counts.\n",
    "\n",
    "    Ritorna:\n",
    "        pd.Series: Una Serie con i conteggi ordinati in ordine decrescente.\n",
    "    \"\"\"\n",
    "    if column_name not in df.columns:\n",
    "        raise ValueError(f\"La colonna '{column_name}' non esiste nel DataFrame.\")\n",
    "    \n",
    "    # Calcolare i value counts\n",
    "    value_counts = df[column_name].value_counts()\n",
    "    \n",
    "    # Ordinare i valori manualmente\n",
    "    sorted_counts = value_counts.iloc[value_counts.values.argsort()[::-1]]\n",
    "    \n",
    "    return sorted_counts\n",
    "\n"
   ]
  },
  {
   "cell_type": "code",
   "execution_count": 3,
   "metadata": {},
   "outputs": [
    {
     "data": {
      "text/html": [
       "<div><style>\n",
       ".dataframe > thead > tr,\n",
       ".dataframe > tbody > tr {\n",
       "  text-align: right;\n",
       "  white-space: pre-wrap;\n",
       "}\n",
       "</style>\n",
       "<small>shape: (65_019, 9)</small><table border=\"1\" class=\"dataframe\"><thead><tr><th>player_id</th><th>name_first</th><th>name_last</th><th>hand</th><th>dob</th><th>ioc</th><th>height</th><th>wikidata_id</th><th>name_full</th></tr><tr><td>i64</td><td>str</td><td>str</td><td>str</td><td>date</td><td>str</td><td>i64</td><td>str</td><td>str</td></tr></thead><tbody><tr><td>100001</td><td>&quot;Gardnar&quot;</td><td>&quot;Mulloy&quot;</td><td>&quot;R&quot;</td><td>1913-11-22</td><td>&quot;USA&quot;</td><td>185</td><td>&quot;Q54544&quot;</td><td>&quot;Gardnar Mulloy&quot;</td></tr><tr><td>100002</td><td>&quot;Pancho&quot;</td><td>&quot;Segura&quot;</td><td>&quot;R&quot;</td><td>1921-06-20</td><td>&quot;ECU&quot;</td><td>168</td><td>&quot;Q54581&quot;</td><td>&quot;Pancho Segura&quot;</td></tr><tr><td>100003</td><td>&quot;Frank&quot;</td><td>&quot;Sedgman&quot;</td><td>&quot;R&quot;</td><td>1927-10-02</td><td>&quot;AUS&quot;</td><td>180</td><td>&quot;Q962049&quot;</td><td>&quot;Frank Sedgman&quot;</td></tr><tr><td>100004</td><td>&quot;Giuseppe&quot;</td><td>&quot;Merlo&quot;</td><td>&quot;R&quot;</td><td>1927-10-11</td><td>&quot;ITA&quot;</td><td>null</td><td>&quot;Q1258752&quot;</td><td>&quot;Giuseppe Merlo&quot;</td></tr><tr><td>100005</td><td>&quot;Richard&quot;</td><td>&quot;Gonzalez&quot;</td><td>&quot;R&quot;</td><td>1928-05-09</td><td>&quot;USA&quot;</td><td>188</td><td>&quot;Q53554&quot;</td><td>&quot;Richard Gonzalez&quot;</td></tr><tr><td>&hellip;</td><td>&hellip;</td><td>&hellip;</td><td>&hellip;</td><td>&hellip;</td><td>&hellip;</td><td>&hellip;</td><td>&hellip;</td><td>&hellip;</td></tr><tr><td>212913</td><td>&quot;Pietro&quot;</td><td>&quot;Ricci&quot;</td><td>&quot;U&quot;</td><td>null</td><td>&quot;ITA&quot;</td><td>null</td><td>null</td><td>&quot;Pietro Ricci&quot;</td></tr><tr><td>212914</td><td>&quot;Corey&quot;</td><td>&quot;Craig&quot;</td><td>&quot;U&quot;</td><td>null</td><td>&quot;USA&quot;</td><td>null</td><td>null</td><td>&quot;Corey Craig&quot;</td></tr><tr><td>212915</td><td>&quot;Aleksandar&quot;</td><td>&quot;Ljubojevic&quot;</td><td>&quot;U&quot;</td><td>null</td><td>&quot;SRB&quot;</td><td>null</td><td>null</td><td>&quot;Aleksandar Ljubojevic&quot;</td></tr><tr><td>212916</td><td>&quot;Marko&quot;</td><td>&quot;Milosavljevic&quot;</td><td>&quot;U&quot;</td><td>null</td><td>&quot;SRB&quot;</td><td>null</td><td>null</td><td>&quot;Marko Milosavljevic&quot;</td></tr><tr><td>212917</td><td>&quot;Stefan&quot;</td><td>&quot;Skobelev&quot;</td><td>&quot;U&quot;</td><td>null</td><td>&quot;SRB&quot;</td><td>null</td><td>null</td><td>&quot;Stefan Skobelev&quot;</td></tr></tbody></table></div>"
      ],
      "text/plain": [
       "shape: (65_019, 9)\n",
       "┌───────────┬────────────┬───────────────┬──────┬───┬─────┬────────┬─────────────┬─────────────────┐\n",
       "│ player_id ┆ name_first ┆ name_last     ┆ hand ┆ … ┆ ioc ┆ height ┆ wikidata_id ┆ name_full       │\n",
       "│ ---       ┆ ---        ┆ ---           ┆ ---  ┆   ┆ --- ┆ ---    ┆ ---         ┆ ---             │\n",
       "│ i64       ┆ str        ┆ str           ┆ str  ┆   ┆ str ┆ i64    ┆ str         ┆ str             │\n",
       "╞═══════════╪════════════╪═══════════════╪══════╪═══╪═════╪════════╪═════════════╪═════════════════╡\n",
       "│ 100001    ┆ Gardnar    ┆ Mulloy        ┆ R    ┆ … ┆ USA ┆ 185    ┆ Q54544      ┆ Gardnar Mulloy  │\n",
       "│ 100002    ┆ Pancho     ┆ Segura        ┆ R    ┆ … ┆ ECU ┆ 168    ┆ Q54581      ┆ Pancho Segura   │\n",
       "│ 100003    ┆ Frank      ┆ Sedgman       ┆ R    ┆ … ┆ AUS ┆ 180    ┆ Q962049     ┆ Frank Sedgman   │\n",
       "│ 100004    ┆ Giuseppe   ┆ Merlo         ┆ R    ┆ … ┆ ITA ┆ null   ┆ Q1258752    ┆ Giuseppe Merlo  │\n",
       "│ 100005    ┆ Richard    ┆ Gonzalez      ┆ R    ┆ … ┆ USA ┆ 188    ┆ Q53554      ┆ Richard         │\n",
       "│           ┆            ┆               ┆      ┆   ┆     ┆        ┆             ┆ Gonzalez        │\n",
       "│ …         ┆ …          ┆ …             ┆ …    ┆ … ┆ …   ┆ …      ┆ …           ┆ …               │\n",
       "│ 212913    ┆ Pietro     ┆ Ricci         ┆ U    ┆ … ┆ ITA ┆ null   ┆ null        ┆ Pietro Ricci    │\n",
       "│ 212914    ┆ Corey      ┆ Craig         ┆ U    ┆ … ┆ USA ┆ null   ┆ null        ┆ Corey Craig     │\n",
       "│ 212915    ┆ Aleksandar ┆ Ljubojevic    ┆ U    ┆ … ┆ SRB ┆ null   ┆ null        ┆ Aleksandar      │\n",
       "│           ┆            ┆               ┆      ┆   ┆     ┆        ┆             ┆ Ljubojevic      │\n",
       "│ 212916    ┆ Marko      ┆ Milosavljevic ┆ U    ┆ … ┆ SRB ┆ null   ┆ null        ┆ Marko           │\n",
       "│           ┆            ┆               ┆      ┆   ┆     ┆        ┆             ┆ Milosavljevic   │\n",
       "│ 212917    ┆ Stefan     ┆ Skobelev      ┆ U    ┆ … ┆ SRB ┆ null   ┆ null        ┆ Stefan Skobelev │\n",
       "└───────────┴────────────┴───────────────┴──────┴───┴─────┴────────┴─────────────┴─────────────────┘"
      ]
     },
     "execution_count": 3,
     "metadata": {},
     "output_type": "execute_result"
    }
   ],
   "source": [
    "players_atp=import_players(gender=\"atp\")\n",
    "players_atp"
   ]
  },
  {
   "cell_type": "code",
   "execution_count": 4,
   "metadata": {},
   "outputs": [
    {
     "data": {
      "text/html": [
       "<div><style>\n",
       ".dataframe > thead > tr,\n",
       ".dataframe > tbody > tr {\n",
       "  text-align: right;\n",
       "  white-space: pre-wrap;\n",
       "}\n",
       "</style>\n",
       "<small>shape: (67_095, 9)</small><table border=\"1\" class=\"dataframe\"><thead><tr><th>player_id</th><th>name_first</th><th>name_last</th><th>hand</th><th>dob</th><th>ioc</th><th>height</th><th>wikidata_id</th><th>name_full</th></tr><tr><td>i64</td><td>str</td><td>str</td><td>str</td><td>date</td><td>str</td><td>i64</td><td>str</td><td>str</td></tr></thead><tbody><tr><td>113190</td><td>&quot;Bobby&quot;</td><td>&quot;Riggs&quot;</td><td>&quot;U&quot;</td><td>null</td><td>&quot;USA&quot;</td><td>null</td><td>null</td><td>&quot;Bobby Riggs&quot;</td></tr><tr><td>200000</td><td>&quot;X&quot;</td><td>&quot;X&quot;</td><td>&quot;U&quot;</td><td>null</td><td>&quot;UNK&quot;</td><td>null</td><td>null</td><td>&quot;X X&quot;</td></tr><tr><td>200001</td><td>&quot;Martina&quot;</td><td>&quot;Hingis&quot;</td><td>&quot;R&quot;</td><td>1980-09-30</td><td>&quot;SUI&quot;</td><td>170</td><td>&quot;Q134720&quot;</td><td>&quot;Martina Hingis&quot;</td></tr><tr><td>200002</td><td>&quot;Mirjana&quot;</td><td>&quot;Lucic&quot;</td><td>&quot;R&quot;</td><td>1982-03-09</td><td>&quot;CRO&quot;</td><td>181</td><td>&quot;Q239686&quot;</td><td>&quot;Mirjana Lucic&quot;</td></tr><tr><td>200003</td><td>&quot;Justine&quot;</td><td>&quot;Henin&quot;</td><td>&quot;R&quot;</td><td>1982-06-01</td><td>&quot;BEL&quot;</td><td>167</td><td>&quot;Q11682&quot;</td><td>&quot;Justine Henin&quot;</td></tr><tr><td>&hellip;</td><td>&hellip;</td><td>&hellip;</td><td>&hellip;</td><td>&hellip;</td><td>&hellip;</td><td>&hellip;</td><td>&hellip;</td><td>&hellip;</td></tr><tr><td>267099</td><td>&quot;Kokoa&quot;</td><td>&quot;Nakao&quot;</td><td>&quot;U&quot;</td><td>null</td><td>&quot;JPN&quot;</td><td>null</td><td>null</td><td>&quot;Kokoa Nakao&quot;</td></tr><tr><td>267100</td><td>&quot;Aoi&quot;</td><td>&quot;Watanabe&quot;</td><td>&quot;U&quot;</td><td>null</td><td>&quot;JPN&quot;</td><td>null</td><td>null</td><td>&quot;Aoi Watanabe&quot;</td></tr><tr><td>267101</td><td>&quot;Sara&quot;</td><td>&quot;Yoshida&quot;</td><td>&quot;U&quot;</td><td>null</td><td>&quot;JPN&quot;</td><td>null</td><td>null</td><td>&quot;Sara Yoshida&quot;</td></tr><tr><td>267102</td><td>&quot;Ui Su&quot;</td><td>&quot;Jeong&quot;</td><td>&quot;U&quot;</td><td>null</td><td>&quot;KOR&quot;</td><td>null</td><td>null</td><td>&quot;Ui Su Jeong&quot;</td></tr><tr><td>267103</td><td>&quot;Alexia&quot;</td><td>&quot;Patru&quot;</td><td>&quot;U&quot;</td><td>null</td><td>&quot;ROU&quot;</td><td>null</td><td>null</td><td>&quot;Alexia Patru&quot;</td></tr></tbody></table></div>"
      ],
      "text/plain": [
       "shape: (67_095, 9)\n",
       "┌───────────┬────────────┬───────────┬──────┬───┬─────┬────────┬─────────────┬────────────────┐\n",
       "│ player_id ┆ name_first ┆ name_last ┆ hand ┆ … ┆ ioc ┆ height ┆ wikidata_id ┆ name_full      │\n",
       "│ ---       ┆ ---        ┆ ---       ┆ ---  ┆   ┆ --- ┆ ---    ┆ ---         ┆ ---            │\n",
       "│ i64       ┆ str        ┆ str       ┆ str  ┆   ┆ str ┆ i64    ┆ str         ┆ str            │\n",
       "╞═══════════╪════════════╪═══════════╪══════╪═══╪═════╪════════╪═════════════╪════════════════╡\n",
       "│ 113190    ┆ Bobby      ┆ Riggs     ┆ U    ┆ … ┆ USA ┆ null   ┆ null        ┆ Bobby Riggs    │\n",
       "│ 200000    ┆ X          ┆ X         ┆ U    ┆ … ┆ UNK ┆ null   ┆ null        ┆ X X            │\n",
       "│ 200001    ┆ Martina    ┆ Hingis    ┆ R    ┆ … ┆ SUI ┆ 170    ┆ Q134720     ┆ Martina Hingis │\n",
       "│ 200002    ┆ Mirjana    ┆ Lucic     ┆ R    ┆ … ┆ CRO ┆ 181    ┆ Q239686     ┆ Mirjana Lucic  │\n",
       "│ 200003    ┆ Justine    ┆ Henin     ┆ R    ┆ … ┆ BEL ┆ 167    ┆ Q11682      ┆ Justine Henin  │\n",
       "│ …         ┆ …          ┆ …         ┆ …    ┆ … ┆ …   ┆ …      ┆ …           ┆ …              │\n",
       "│ 267099    ┆ Kokoa      ┆ Nakao     ┆ U    ┆ … ┆ JPN ┆ null   ┆ null        ┆ Kokoa Nakao    │\n",
       "│ 267100    ┆ Aoi        ┆ Watanabe  ┆ U    ┆ … ┆ JPN ┆ null   ┆ null        ┆ Aoi Watanabe   │\n",
       "│ 267101    ┆ Sara       ┆ Yoshida   ┆ U    ┆ … ┆ JPN ┆ null   ┆ null        ┆ Sara Yoshida   │\n",
       "│ 267102    ┆ Ui Su      ┆ Jeong     ┆ U    ┆ … ┆ KOR ┆ null   ┆ null        ┆ Ui Su Jeong    │\n",
       "│ 267103    ┆ Alexia     ┆ Patru     ┆ U    ┆ … ┆ ROU ┆ null   ┆ null        ┆ Alexia Patru   │\n",
       "└───────────┴────────────┴───────────┴──────┴───┴─────┴────────┴─────────────┴────────────────┘"
      ]
     },
     "execution_count": 4,
     "metadata": {},
     "output_type": "execute_result"
    }
   ],
   "source": [
    "players_wta=import_players(gender=\"wta\")\n",
    "players_wta"
   ]
  },
  {
   "cell_type": "markdown",
   "metadata": {},
   "source": [
    "# Comincio creazione di df e df_tourney per ogni df disponibile"
   ]
  },
  {
   "cell_type": "code",
   "execution_count": 5,
   "metadata": {},
   "outputs": [
    {
     "data": {
      "text/html": [
       "<div><style>\n",
       ".dataframe > thead > tr,\n",
       ".dataframe > tbody > tr {\n",
       "  text-align: right;\n",
       "  white-space: pre-wrap;\n",
       "}\n",
       "</style>\n",
       "<small>shape: (25_001, 50)</small><table border=\"1\" class=\"dataframe\"><thead><tr><th>tourney_id</th><th>tourney_name</th><th>surface</th><th>draw_size</th><th>tourney_level</th><th>tourney_date</th><th>match_num</th><th>winner_id</th><th>winner_seed</th><th>winner_entry</th><th>winner_name</th><th>winner_hand</th><th>winner_ht</th><th>winner_ioc</th><th>winner_age</th><th>loser_id</th><th>loser_seed</th><th>loser_entry</th><th>loser_name</th><th>loser_hand</th><th>loser_ht</th><th>loser_ioc</th><th>loser_age</th><th>score</th><th>best_of</th><th>round</th><th>minutes</th><th>w_ace</th><th>w_df</th><th>w_svpt</th><th>w_1stIn</th><th>w_1stWon</th><th>w_2ndWon</th><th>w_SvGms</th><th>w_bpSaved</th><th>w_bpFaced</th><th>l_ace</th><th>l_df</th><th>l_svpt</th><th>l_1stIn</th><th>l_1stWon</th><th>l_2ndWon</th><th>l_SvGms</th><th>l_bpSaved</th><th>l_bpFaced</th><th>winner_rank</th><th>winner_rank_points</th><th>loser_rank</th><th>loser_rank_points</th><th>tourney_name_date_matches</th></tr><tr><td>str</td><td>str</td><td>str</td><td>str</td><td>str</td><td>date</td><td>i64</td><td>i64</td><td>str</td><td>str</td><td>str</td><td>str</td><td>str</td><td>str</td><td>f64</td><td>i64</td><td>str</td><td>str</td><td>str</td><td>str</td><td>i64</td><td>str</td><td>f64</td><td>str</td><td>i64</td><td>str</td><td>str</td><td>str</td><td>str</td><td>str</td><td>str</td><td>str</td><td>str</td><td>str</td><td>str</td><td>str</td><td>str</td><td>str</td><td>str</td><td>str</td><td>str</td><td>str</td><td>str</td><td>str</td><td>str</td><td>str</td><td>str</td><td>str</td><td>str</td><td>str</td></tr></thead><tbody><tr><td>&quot;1877-540&quot;</td><td>&quot;Wimbledon&quot;</td><td>&quot;Grass&quot;</td><td>&quot;32&quot;</td><td>&quot;G&quot;</td><td>1877-07-09</td><td>1</td><td>113987</td><td>null</td><td>null</td><td>&quot;Spencer William Gore&quot;</td><td>null</td><td>null</td><td>&quot;GBR&quot;</td><td>27.331964</td><td>114009</td><td>null</td><td>null</td><td>&quot;Ht Gilson&quot;</td><td>null</td><td>null</td><td>&quot;GBR&quot;</td><td>null</td><td>&quot;6-2 6-0 6-3&quot;</td><td>5</td><td>&quot;R32&quot;</td><td>null</td><td>null</td><td>null</td><td>null</td><td>null</td><td>null</td><td>null</td><td>null</td><td>null</td><td>null</td><td>null</td><td>null</td><td>null</td><td>null</td><td>null</td><td>null</td><td>null</td><td>null</td><td>null</td><td>null</td><td>null</td><td>null</td><td>null</td><td>&quot;Wimbledon_1877_amatures_atp&quot;</td></tr><tr><td>&quot;1877-540&quot;</td><td>&quot;Wimbledon&quot;</td><td>&quot;Grass&quot;</td><td>&quot;32&quot;</td><td>&quot;G&quot;</td><td>1877-07-09</td><td>2</td><td>114146</td><td>null</td><td>null</td><td>&quot;Montague Hankey&quot;</td><td>null</td><td>null</td><td>&quot;GBR&quot;</td><td>36.895277</td><td>113977</td><td>null</td><td>null</td><td>&quot;Robert Dalby Dalby&quot;</td><td>null</td><td>null</td><td>&quot;GBR&quot;</td><td>null</td><td>&quot;6-4 6-2 3-6 6-2&quot;</td><td>5</td><td>&quot;R32&quot;</td><td>null</td><td>null</td><td>null</td><td>null</td><td>null</td><td>null</td><td>null</td><td>null</td><td>null</td><td>null</td><td>null</td><td>null</td><td>null</td><td>null</td><td>null</td><td>null</td><td>null</td><td>null</td><td>null</td><td>null</td><td>null</td><td>null</td><td>null</td><td>&quot;Wimbledon_1877_amatures_atp&quot;</td></tr><tr><td>&quot;1877-540&quot;</td><td>&quot;Wimbledon&quot;</td><td>&quot;Grass&quot;</td><td>&quot;32&quot;</td><td>&quot;G&quot;</td><td>1877-07-09</td><td>3</td><td>114147</td><td>null</td><td>null</td><td>&quot;John Baker&quot;</td><td>null</td><td>null</td><td>&quot;GBR&quot;</td><td>null</td><td>114148</td><td>null</td><td>null</td><td>&quot;Jw Trist&quot;</td><td>null</td><td>null</td><td>&quot;GBR&quot;</td><td>null</td><td>&quot;6-1 6-4 6-0&quot;</td><td>5</td><td>&quot;R32&quot;</td><td>null</td><td>null</td><td>null</td><td>null</td><td>null</td><td>null</td><td>null</td><td>null</td><td>null</td><td>null</td><td>null</td><td>null</td><td>null</td><td>null</td><td>null</td><td>null</td><td>null</td><td>null</td><td>null</td><td>null</td><td>null</td><td>null</td><td>null</td><td>&quot;Wimbledon_1877_amatures_atp&quot;</td></tr><tr><td>&quot;1877-540&quot;</td><td>&quot;Wimbledon&quot;</td><td>&quot;Grass&quot;</td><td>&quot;32&quot;</td><td>&quot;G&quot;</td><td>1877-07-09</td><td>4</td><td>114149</td><td>null</td><td>null</td><td>&quot;Francis Nathaniel Langham&quot;</td><td>null</td><td>null</td><td>&quot;GBR&quot;</td><td>36.082136</td><td>114150</td><td>null</td><td>null</td><td>&quot;Charles Francis Buller&quot;</td><td>null</td><td>null</td><td>&quot;GBR&quot;</td><td>31.12115</td><td>&quot;W/O&quot;</td><td>5</td><td>&quot;R32&quot;</td><td>null</td><td>null</td><td>null</td><td>null</td><td>null</td><td>null</td><td>null</td><td>null</td><td>null</td><td>null</td><td>null</td><td>null</td><td>null</td><td>null</td><td>null</td><td>null</td><td>null</td><td>null</td><td>null</td><td>null</td><td>null</td><td>null</td><td>null</td><td>&quot;Wimbledon_1877_amatures_atp&quot;</td></tr><tr><td>&quot;1877-540&quot;</td><td>&quot;Wimbledon&quot;</td><td>&quot;Grass&quot;</td><td>&quot;32&quot;</td><td>&quot;G&quot;</td><td>1877-07-09</td><td>5</td><td>113953</td><td>null</td><td>null</td><td>&quot;Lestocq Robert Erskine&quot;</td><td>null</td><td>null</td><td>&quot;GBR&quot;</td><td>19.838467</td><td>114151</td><td>null</td><td>null</td><td>&quot;E Wheeler&quot;</td><td>null</td><td>null</td><td>&quot;GBR&quot;</td><td>null</td><td>&quot;6-2 6-5 6-2&quot;</td><td>5</td><td>&quot;R32&quot;</td><td>null</td><td>null</td><td>null</td><td>null</td><td>null</td><td>null</td><td>null</td><td>null</td><td>null</td><td>null</td><td>null</td><td>null</td><td>null</td><td>null</td><td>null</td><td>null</td><td>null</td><td>null</td><td>null</td><td>null</td><td>null</td><td>null</td><td>null</td><td>&quot;Wimbledon_1877_amatures_atp&quot;</td></tr><tr><td>&hellip;</td><td>&hellip;</td><td>&hellip;</td><td>&hellip;</td><td>&hellip;</td><td>&hellip;</td><td>&hellip;</td><td>&hellip;</td><td>&hellip;</td><td>&hellip;</td><td>&hellip;</td><td>&hellip;</td><td>&hellip;</td><td>&hellip;</td><td>&hellip;</td><td>&hellip;</td><td>&hellip;</td><td>&hellip;</td><td>&hellip;</td><td>&hellip;</td><td>&hellip;</td><td>&hellip;</td><td>&hellip;</td><td>&hellip;</td><td>&hellip;</td><td>&hellip;</td><td>&hellip;</td><td>&hellip;</td><td>&hellip;</td><td>&hellip;</td><td>&hellip;</td><td>&hellip;</td><td>&hellip;</td><td>&hellip;</td><td>&hellip;</td><td>&hellip;</td><td>&hellip;</td><td>&hellip;</td><td>&hellip;</td><td>&hellip;</td><td>&hellip;</td><td>&hellip;</td><td>&hellip;</td><td>&hellip;</td><td>&hellip;</td><td>&hellip;</td><td>&hellip;</td><td>&hellip;</td><td>&hellip;</td><td>&hellip;</td></tr><tr><td>&quot;1967-D047&quot;</td><td>&quot;Davis Cup EUR R1: NED vs RSA&quot;</td><td>&quot;Clay&quot;</td><td>&quot;4&quot;</td><td>&quot;D&quot;</td><td>1967-05-04</td><td>5</td><td>100084</td><td>null</td><td>null</td><td>&quot;Tom Okker&quot;</td><td>&quot;R&quot;</td><td>&quot;178&quot;</td><td>&quot;NED&quot;</td><td>23.195072</td><td>100055</td><td>null</td><td>null</td><td>&quot;Cliff Drysdale&quot;</td><td>&quot;R&quot;</td><td>188</td><td>&quot;RSA&quot;</td><td>25.938398</td><td>&quot;6-2 6-2 0-6 7-5&quot;</td><td>5</td><td>&quot;RR&quot;</td><td>null</td><td>null</td><td>null</td><td>null</td><td>null</td><td>null</td><td>null</td><td>null</td><td>null</td><td>null</td><td>null</td><td>null</td><td>null</td><td>null</td><td>null</td><td>null</td><td>null</td><td>null</td><td>null</td><td>null</td><td>null</td><td>null</td><td>null</td><td>&quot;Davis Cup EUR R1: NED vs RSA_1…</td></tr><tr><td>&quot;1967-D048&quot;</td><td>&quot;Davis Cup AME SF: PHI vs VIE&quot;</td><td>null</td><td>&quot;4&quot;</td><td>&quot;D&quot;</td><td>1967-04-14</td><td>1</td><td>106910</td><td>null</td><td>null</td><td>&quot;Eddie Cruz&quot;</td><td>&quot;R&quot;</td><td>null</td><td>&quot;PHI&quot;</td><td>null</td><td>111097</td><td>null</td><td>null</td><td>&quot;Van Bay Vo&quot;</td><td>&quot;U&quot;</td><td>null</td><td>&quot;VIE&quot;</td><td>null</td><td>&quot;6-2 6-3 6-2&quot;</td><td>5</td><td>&quot;RR&quot;</td><td>null</td><td>null</td><td>null</td><td>null</td><td>null</td><td>null</td><td>null</td><td>null</td><td>null</td><td>null</td><td>null</td><td>null</td><td>null</td><td>null</td><td>null</td><td>null</td><td>null</td><td>null</td><td>null</td><td>null</td><td>null</td><td>null</td><td>null</td><td>&quot;Davis Cup AME SF: PHI vs VIE_1…</td></tr><tr><td>&quot;1967-D048&quot;</td><td>&quot;Davis Cup AME SF: PHI vs VIE&quot;</td><td>null</td><td>&quot;4&quot;</td><td>&quot;D&quot;</td><td>1967-04-14</td><td>2</td><td>112556</td><td>null</td><td>null</td><td>&quot;Felicisimo Ampon&quot;</td><td>null</td><td>null</td><td>&quot;PHI&quot;</td><td>46.461328</td><td>111091</td><td>null</td><td>null</td><td>&quot;Van Thanh Vo&quot;</td><td>&quot;U&quot;</td><td>null</td><td>&quot;VIE&quot;</td><td>null</td><td>&quot;6-4 6-1 6-1&quot;</td><td>5</td><td>&quot;RR&quot;</td><td>null</td><td>null</td><td>null</td><td>null</td><td>null</td><td>null</td><td>null</td><td>null</td><td>null</td><td>null</td><td>null</td><td>null</td><td>null</td><td>null</td><td>null</td><td>null</td><td>null</td><td>null</td><td>null</td><td>null</td><td>null</td><td>null</td><td>null</td><td>&quot;Davis Cup AME SF: PHI vs VIE_1…</td></tr><tr><td>&quot;1967-D048&quot;</td><td>&quot;Davis Cup AME SF: PHI vs VIE&quot;</td><td>null</td><td>&quot;4&quot;</td><td>&quot;D&quot;</td><td>1967-04-14</td><td>4</td><td>125731</td><td>null</td><td>null</td><td>&quot;Samuel Ang&quot;</td><td>&quot;U&quot;</td><td>null</td><td>&quot;PHI&quot;</td><td>null</td><td>117339</td><td>null</td><td>null</td><td>&quot;Hoang Duc Luu&quot;</td><td>null</td><td>null</td><td>&quot;VIE&quot;</td><td>null</td><td>&quot;6-3 6-4 6-1&quot;</td><td>5</td><td>&quot;RR&quot;</td><td>null</td><td>null</td><td>null</td><td>null</td><td>null</td><td>null</td><td>null</td><td>null</td><td>null</td><td>null</td><td>null</td><td>null</td><td>null</td><td>null</td><td>null</td><td>null</td><td>null</td><td>null</td><td>null</td><td>null</td><td>null</td><td>null</td><td>null</td><td>&quot;Davis Cup AME SF: PHI vs VIE_1…</td></tr><tr><td>&quot;1967-D048&quot;</td><td>&quot;Davis Cup AME SF: PHI vs VIE&quot;</td><td>null</td><td>&quot;4&quot;</td><td>&quot;D&quot;</td><td>1967-04-14</td><td>5</td><td>106910</td><td>null</td><td>null</td><td>&quot;Eddie Cruz&quot;</td><td>&quot;R&quot;</td><td>null</td><td>&quot;PHI&quot;</td><td>null</td><td>111091</td><td>null</td><td>null</td><td>&quot;Van Thanh Vo&quot;</td><td>&quot;U&quot;</td><td>null</td><td>&quot;VIE&quot;</td><td>null</td><td>&quot;12-10 9-7 6-1&quot;</td><td>5</td><td>&quot;RR&quot;</td><td>null</td><td>null</td><td>null</td><td>null</td><td>null</td><td>null</td><td>null</td><td>null</td><td>null</td><td>null</td><td>null</td><td>null</td><td>null</td><td>null</td><td>null</td><td>null</td><td>null</td><td>null</td><td>null</td><td>null</td><td>null</td><td>null</td><td>null</td><td>&quot;Davis Cup AME SF: PHI vs VIE_1…</td></tr></tbody></table></div>"
      ],
      "text/plain": [
       "shape: (25_001, 50)\n",
       "┌────────────┬───────────┬─────────┬───────────┬───┬───────────┬───────────┬───────────┬───────────┐\n",
       "│ tourney_id ┆ tourney_n ┆ surface ┆ draw_size ┆ … ┆ winner_ra ┆ loser_ran ┆ loser_ran ┆ tourney_n │\n",
       "│ ---        ┆ ame       ┆ ---     ┆ ---       ┆   ┆ nk_points ┆ k         ┆ k_points  ┆ ame_date_ │\n",
       "│ str        ┆ ---       ┆ str     ┆ str       ┆   ┆ ---       ┆ ---       ┆ ---       ┆ matches   │\n",
       "│            ┆ str       ┆         ┆           ┆   ┆ str       ┆ str       ┆ str       ┆ ---       │\n",
       "│            ┆           ┆         ┆           ┆   ┆           ┆           ┆           ┆ str       │\n",
       "╞════════════╪═══════════╪═════════╪═══════════╪═══╪═══════════╪═══════════╪═══════════╪═══════════╡\n",
       "│ 1877-540   ┆ Wimbledon ┆ Grass   ┆ 32        ┆ … ┆ null      ┆ null      ┆ null      ┆ Wimbledon │\n",
       "│            ┆           ┆         ┆           ┆   ┆           ┆           ┆           ┆ _1877_ama │\n",
       "│            ┆           ┆         ┆           ┆   ┆           ┆           ┆           ┆ tures_atp │\n",
       "│ 1877-540   ┆ Wimbledon ┆ Grass   ┆ 32        ┆ … ┆ null      ┆ null      ┆ null      ┆ Wimbledon │\n",
       "│            ┆           ┆         ┆           ┆   ┆           ┆           ┆           ┆ _1877_ama │\n",
       "│            ┆           ┆         ┆           ┆   ┆           ┆           ┆           ┆ tures_atp │\n",
       "│ 1877-540   ┆ Wimbledon ┆ Grass   ┆ 32        ┆ … ┆ null      ┆ null      ┆ null      ┆ Wimbledon │\n",
       "│            ┆           ┆         ┆           ┆   ┆           ┆           ┆           ┆ _1877_ama │\n",
       "│            ┆           ┆         ┆           ┆   ┆           ┆           ┆           ┆ tures_atp │\n",
       "│ 1877-540   ┆ Wimbledon ┆ Grass   ┆ 32        ┆ … ┆ null      ┆ null      ┆ null      ┆ Wimbledon │\n",
       "│            ┆           ┆         ┆           ┆   ┆           ┆           ┆           ┆ _1877_ama │\n",
       "│            ┆           ┆         ┆           ┆   ┆           ┆           ┆           ┆ tures_atp │\n",
       "│ 1877-540   ┆ Wimbledon ┆ Grass   ┆ 32        ┆ … ┆ null      ┆ null      ┆ null      ┆ Wimbledon │\n",
       "│            ┆           ┆         ┆           ┆   ┆           ┆           ┆           ┆ _1877_ama │\n",
       "│            ┆           ┆         ┆           ┆   ┆           ┆           ┆           ┆ tures_atp │\n",
       "│ …          ┆ …         ┆ …       ┆ …         ┆ … ┆ …         ┆ …         ┆ …         ┆ …         │\n",
       "│ 1967-D047  ┆ Davis Cup ┆ Clay    ┆ 4         ┆ … ┆ null      ┆ null      ┆ null      ┆ Davis Cup │\n",
       "│            ┆ EUR R1:   ┆         ┆           ┆   ┆           ┆           ┆           ┆ EUR R1:   │\n",
       "│            ┆ NED vs    ┆         ┆           ┆   ┆           ┆           ┆           ┆ NED vs    │\n",
       "│            ┆ RSA       ┆         ┆           ┆   ┆           ┆           ┆           ┆ RSA_1…    │\n",
       "│ 1967-D048  ┆ Davis Cup ┆ null    ┆ 4         ┆ … ┆ null      ┆ null      ┆ null      ┆ Davis Cup │\n",
       "│            ┆ AME SF:   ┆         ┆           ┆   ┆           ┆           ┆           ┆ AME SF:   │\n",
       "│            ┆ PHI vs    ┆         ┆           ┆   ┆           ┆           ┆           ┆ PHI vs    │\n",
       "│            ┆ VIE       ┆         ┆           ┆   ┆           ┆           ┆           ┆ VIE_1…    │\n",
       "│ 1967-D048  ┆ Davis Cup ┆ null    ┆ 4         ┆ … ┆ null      ┆ null      ┆ null      ┆ Davis Cup │\n",
       "│            ┆ AME SF:   ┆         ┆           ┆   ┆           ┆           ┆           ┆ AME SF:   │\n",
       "│            ┆ PHI vs    ┆         ┆           ┆   ┆           ┆           ┆           ┆ PHI vs    │\n",
       "│            ┆ VIE       ┆         ┆           ┆   ┆           ┆           ┆           ┆ VIE_1…    │\n",
       "│ 1967-D048  ┆ Davis Cup ┆ null    ┆ 4         ┆ … ┆ null      ┆ null      ┆ null      ┆ Davis Cup │\n",
       "│            ┆ AME SF:   ┆         ┆           ┆   ┆           ┆           ┆           ┆ AME SF:   │\n",
       "│            ┆ PHI vs    ┆         ┆           ┆   ┆           ┆           ┆           ┆ PHI vs    │\n",
       "│            ┆ VIE       ┆         ┆           ┆   ┆           ┆           ┆           ┆ VIE_1…    │\n",
       "│ 1967-D048  ┆ Davis Cup ┆ null    ┆ 4         ┆ … ┆ null      ┆ null      ┆ null      ┆ Davis Cup │\n",
       "│            ┆ AME SF:   ┆         ┆           ┆   ┆           ┆           ┆           ┆ AME SF:   │\n",
       "│            ┆ PHI vs    ┆         ┆           ┆   ┆           ┆           ┆           ┆ PHI vs    │\n",
       "│            ┆ VIE       ┆         ┆           ┆   ┆           ┆           ┆           ┆ VIE_1…    │\n",
       "└────────────┴───────────┴─────────┴───────────┴───┴───────────┴───────────┴───────────┴───────────┘"
      ]
     },
     "execution_count": 5,
     "metadata": {},
     "output_type": "execute_result"
    }
   ],
   "source": [
    "#creazione df amatori\n",
    "matches_amateurs_atp=import_matches_amateurs_atp(write_parquet=True)\n",
    "#creazione colonna 'tourney_name_date_matches' con metodo polars\n",
    "matches_amateurs_atp = matches_amateurs_atp.with_columns(\n",
    "    (pl.col(\"tourney_name\") + \"_\" + pl.col(\"tourney_date\").dt.year().cast(pl.Utf8)+\"_amatures_atp\").alias(\"tourney_name_date_matches\")\n",
    ")\n",
    "matches_amateurs_atp"
   ]
  },
  {
   "cell_type": "code",
   "execution_count": 6,
   "metadata": {},
   "outputs": [
    {
     "data": {
      "text/html": [
       "<div><style>\n",
       ".dataframe > thead > tr,\n",
       ".dataframe > tbody > tr {\n",
       "  text-align: right;\n",
       "  white-space: pre-wrap;\n",
       "}\n",
       "</style>\n",
       "<small>shape: (1_481, 6)</small><table border=\"1\" class=\"dataframe\"><thead><tr><th>tourney_name</th><th>surface</th><th>draw_size</th><th>tourney_level</th><th>tourney_date</th><th>tourney_name_date_matches</th></tr><tr><td>str</td><td>str</td><td>str</td><td>str</td><td>date</td><td>str</td></tr></thead><tbody><tr><td>&quot;Davis Cup EUR SF: GER vs FRA&quot;</td><td>&quot;Clay&quot;</td><td>&quot;4&quot;</td><td>&quot;D&quot;</td><td>1938-07-21</td><td>&quot;Davis Cup EUR SF: GER vs FRA_1…</td></tr><tr><td>&quot;Davis Cup EUR R1: ITA vs URS&quot;</td><td>&quot;Clay&quot;</td><td>&quot;4&quot;</td><td>&quot;D&quot;</td><td>1966-04-28</td><td>&quot;Davis Cup EUR R1: ITA vs URS_1…</td></tr><tr><td>&quot;Davis Cup EUR F: SWE vs ITA&quot;</td><td>&quot;Clay&quot;</td><td>&quot;4&quot;</td><td>&quot;D&quot;</td><td>1960-07-29</td><td>&quot;Davis Cup EUR F: SWE vs ITA_19…</td></tr><tr><td>&quot;Davis Cup WG CR: AUS vs USA&quot;</td><td>&quot;Grass&quot;</td><td>&quot;4&quot;</td><td>&quot;D&quot;</td><td>1954-12-27</td><td>&quot;Davis Cup WG CR: AUS vs USA_19…</td></tr><tr><td>&quot;Davis Cup EUR R1: BEL vs RSA&quot;</td><td>null</td><td>&quot;4&quot;</td><td>&quot;D&quot;</td><td>1966-04-29</td><td>&quot;Davis Cup EUR R1: BEL vs RSA_1…</td></tr><tr><td>&hellip;</td><td>&hellip;</td><td>&hellip;</td><td>&hellip;</td><td>&hellip;</td><td>&hellip;</td></tr><tr><td>&quot;Davis Cup EUR R2: AUT vs IND&quot;</td><td>null</td><td>&quot;4&quot;</td><td>&quot;D&quot;</td><td>1954-05-14</td><td>&quot;Davis Cup EUR R2: AUT vs IND_1…</td></tr><tr><td>&quot;Australian Open&quot;</td><td>&quot;Grass&quot;</td><td>&quot;64&quot;</td><td>&quot;G&quot;</td><td>1927-01-22</td><td>&quot;Australian Open_1927_amatures_…</td></tr><tr><td>&quot;Davis Cup EUR R2: AUT vs GBR&quot;</td><td>&quot;Clay&quot;</td><td>&quot;4&quot;</td><td>&quot;D&quot;</td><td>1961-06-01</td><td>&quot;Davis Cup EUR R2: AUT vs GBR_1…</td></tr><tr><td>&quot;Davis Cup EUR F: FRA vs TCH&quot;</td><td>&quot;Clay&quot;</td><td>&quot;4&quot;</td><td>&quot;D&quot;</td><td>1924-08-03</td><td>&quot;Davis Cup EUR F: FRA vs TCH_19…</td></tr><tr><td>&quot;Davis Cup AME F: USA vs VEN&quot;</td><td>&quot;Clay&quot;</td><td>&quot;4&quot;</td><td>&quot;D&quot;</td><td>1960-09-16</td><td>&quot;Davis Cup AME F: USA vs VEN_19…</td></tr></tbody></table></div>"
      ],
      "text/plain": [
       "shape: (1_481, 6)\n",
       "┌──────────────────────┬─────────┬───────────┬───────────────┬──────────────┬──────────────────────┐\n",
       "│ tourney_name         ┆ surface ┆ draw_size ┆ tourney_level ┆ tourney_date ┆ tourney_name_date_ma │\n",
       "│ ---                  ┆ ---     ┆ ---       ┆ ---           ┆ ---          ┆ tches                │\n",
       "│ str                  ┆ str     ┆ str       ┆ str           ┆ date         ┆ ---                  │\n",
       "│                      ┆         ┆           ┆               ┆              ┆ str                  │\n",
       "╞══════════════════════╪═════════╪═══════════╪═══════════════╪══════════════╪══════════════════════╡\n",
       "│ Davis Cup EUR SF:    ┆ Clay    ┆ 4         ┆ D             ┆ 1938-07-21   ┆ Davis Cup EUR SF:    │\n",
       "│ GER vs FRA           ┆         ┆           ┆               ┆              ┆ GER vs FRA_1…        │\n",
       "│ Davis Cup EUR R1:    ┆ Clay    ┆ 4         ┆ D             ┆ 1966-04-28   ┆ Davis Cup EUR R1:    │\n",
       "│ ITA vs URS           ┆         ┆           ┆               ┆              ┆ ITA vs URS_1…        │\n",
       "│ Davis Cup EUR F: SWE ┆ Clay    ┆ 4         ┆ D             ┆ 1960-07-29   ┆ Davis Cup EUR F: SWE │\n",
       "│ vs ITA               ┆         ┆           ┆               ┆              ┆ vs ITA_19…           │\n",
       "│ Davis Cup WG CR: AUS ┆ Grass   ┆ 4         ┆ D             ┆ 1954-12-27   ┆ Davis Cup WG CR: AUS │\n",
       "│ vs USA               ┆         ┆           ┆               ┆              ┆ vs USA_19…           │\n",
       "│ Davis Cup EUR R1:    ┆ null    ┆ 4         ┆ D             ┆ 1966-04-29   ┆ Davis Cup EUR R1:    │\n",
       "│ BEL vs RSA           ┆         ┆           ┆               ┆              ┆ BEL vs RSA_1…        │\n",
       "│ …                    ┆ …       ┆ …         ┆ …             ┆ …            ┆ …                    │\n",
       "│ Davis Cup EUR R2:    ┆ null    ┆ 4         ┆ D             ┆ 1954-05-14   ┆ Davis Cup EUR R2:    │\n",
       "│ AUT vs IND           ┆         ┆           ┆               ┆              ┆ AUT vs IND_1…        │\n",
       "│ Australian Open      ┆ Grass   ┆ 64        ┆ G             ┆ 1927-01-22   ┆ Australian           │\n",
       "│                      ┆         ┆           ┆               ┆              ┆ Open_1927_amatures_… │\n",
       "│ Davis Cup EUR R2:    ┆ Clay    ┆ 4         ┆ D             ┆ 1961-06-01   ┆ Davis Cup EUR R2:    │\n",
       "│ AUT vs GBR           ┆         ┆           ┆               ┆              ┆ AUT vs GBR_1…        │\n",
       "│ Davis Cup EUR F: FRA ┆ Clay    ┆ 4         ┆ D             ┆ 1924-08-03   ┆ Davis Cup EUR F: FRA │\n",
       "│ vs TCH               ┆         ┆           ┆               ┆              ┆ vs TCH_19…           │\n",
       "│ Davis Cup AME F: USA ┆ Clay    ┆ 4         ┆ D             ┆ 1960-09-16   ┆ Davis Cup AME F: USA │\n",
       "│ vs VEN               ┆         ┆           ┆               ┆              ┆ vs VEN_19…           │\n",
       "└──────────────────────┴─────────┴───────────┴───────────────┴──────────────┴──────────────────────┘"
      ]
     },
     "execution_count": 6,
     "metadata": {},
     "output_type": "execute_result"
    }
   ],
   "source": [
    "#creazione 'tourney_amateurs_matches_atp' e in seguito unique di 'tourney_name_date_matches'\n",
    "tourney_amateurs_matches_atp=matches_amateurs_atp[['tourney_name', 'surface', 'draw_size', 'tourney_level', 'tourney_date', 'tourney_name_date_matches']]\n",
    "tourney_amateurs_matches_atp=tourney_amateurs_matches_atp.unique('tourney_name_date_matches')\n",
    "tourney_amateurs_matches_atp"
   ]
  },
  {
   "cell_type": "code",
   "execution_count": 7,
   "metadata": {},
   "outputs": [
    {
     "data": {
      "text/html": [
       "<div><style>\n",
       ".dataframe > thead > tr,\n",
       ".dataframe > tbody > tr {\n",
       "  text-align: right;\n",
       "  white-space: pre-wrap;\n",
       "}\n",
       "</style>\n",
       "<small>shape: (193_337, 50)</small><table border=\"1\" class=\"dataframe\"><thead><tr><th>tourney_id</th><th>tourney_name</th><th>surface</th><th>draw_size</th><th>tourney_level</th><th>tourney_date</th><th>match_num</th><th>winner_id</th><th>winner_seed</th><th>winner_entry</th><th>winner_name</th><th>winner_hand</th><th>winner_ht</th><th>winner_ioc</th><th>winner_age</th><th>loser_id</th><th>loser_seed</th><th>loser_entry</th><th>loser_name</th><th>loser_hand</th><th>loser_ht</th><th>loser_ioc</th><th>loser_age</th><th>score</th><th>best_of</th><th>round</th><th>minutes</th><th>w_ace</th><th>w_df</th><th>w_svpt</th><th>w_1stIn</th><th>w_1stWon</th><th>w_2ndWon</th><th>w_SvGms</th><th>w_bpSaved</th><th>w_bpFaced</th><th>l_ace</th><th>l_df</th><th>l_svpt</th><th>l_1stIn</th><th>l_1stWon</th><th>l_2ndWon</th><th>l_SvGms</th><th>l_bpSaved</th><th>l_bpFaced</th><th>winner_rank</th><th>winner_rank_points</th><th>loser_rank</th><th>loser_rank_points</th><th>tourney_name_date_matches</th></tr><tr><td>str</td><td>str</td><td>str</td><td>i64</td><td>str</td><td>date</td><td>i64</td><td>str</td><td>str</td><td>str</td><td>str</td><td>str</td><td>i64</td><td>str</td><td>f64</td><td>str</td><td>str</td><td>str</td><td>str</td><td>str</td><td>i64</td><td>str</td><td>f64</td><td>str</td><td>i64</td><td>str</td><td>str</td><td>str</td><td>str</td><td>str</td><td>str</td><td>str</td><td>str</td><td>str</td><td>str</td><td>str</td><td>str</td><td>str</td><td>str</td><td>str</td><td>str</td><td>str</td><td>str</td><td>str</td><td>str</td><td>str</td><td>str</td><td>str</td><td>str</td><td>str</td></tr></thead><tbody><tr><td>&quot;1968-2029&quot;</td><td>&quot;Dublin&quot;</td><td>&quot;Grass&quot;</td><td>32</td><td>&quot;A&quot;</td><td>1968-07-08</td><td>270</td><td>&quot;112411&quot;</td><td>null</td><td>null</td><td>&quot;Doug Smith&quot;</td><td>&quot;U&quot;</td><td>null</td><td>&quot;AUS&quot;</td><td>null</td><td>&quot;110196&quot;</td><td>null</td><td>null</td><td>&quot;Peter Ledbetter&quot;</td><td>&quot;U&quot;</td><td>null</td><td>&quot;IRL&quot;</td><td>24.0</td><td>&quot;6-1 7-5&quot;</td><td>3</td><td>&quot;R32&quot;</td><td>null</td><td>null</td><td>null</td><td>null</td><td>null</td><td>null</td><td>null</td><td>null</td><td>null</td><td>null</td><td>null</td><td>null</td><td>null</td><td>null</td><td>null</td><td>null</td><td>null</td><td>null</td><td>null</td><td>null</td><td>null</td><td>null</td><td>null</td><td>&quot;Dublin_1968_singles_atp&quot;</td></tr><tr><td>&quot;1968-2029&quot;</td><td>&quot;Dublin&quot;</td><td>&quot;Grass&quot;</td><td>32</td><td>&quot;A&quot;</td><td>1968-07-08</td><td>271</td><td>&quot;126914&quot;</td><td>null</td><td>null</td><td>&quot;Louis Pretorius&quot;</td><td>&quot;R&quot;</td><td>null</td><td>&quot;RSA&quot;</td><td>null</td><td>&quot;209536&quot;</td><td>null</td><td>null</td><td>&quot;Maurice Pollock&quot;</td><td>&quot;U&quot;</td><td>null</td><td>&quot;IRL&quot;</td><td>null</td><td>&quot;6-1 6-1&quot;</td><td>3</td><td>&quot;R32&quot;</td><td>null</td><td>null</td><td>null</td><td>null</td><td>null</td><td>null</td><td>null</td><td>null</td><td>null</td><td>null</td><td>null</td><td>null</td><td>null</td><td>null</td><td>null</td><td>null</td><td>null</td><td>null</td><td>null</td><td>null</td><td>null</td><td>null</td><td>null</td><td>&quot;Dublin_1968_singles_atp&quot;</td></tr><tr><td>&quot;1968-2029&quot;</td><td>&quot;Dublin&quot;</td><td>&quot;Grass&quot;</td><td>32</td><td>&quot;A&quot;</td><td>1968-07-08</td><td>272</td><td>&quot;209523&quot;</td><td>null</td><td>null</td><td>&quot;Cecil Pedlow&quot;</td><td>&quot;U&quot;</td><td>null</td><td>&quot;IRL&quot;</td><td>null</td><td>&quot;209535&quot;</td><td>null</td><td>null</td><td>&quot;John Mulvey&quot;</td><td>&quot;U&quot;</td><td>null</td><td>&quot;IRL&quot;</td><td>null</td><td>&quot;6-2 6-2&quot;</td><td>3</td><td>&quot;R32&quot;</td><td>null</td><td>null</td><td>null</td><td>null</td><td>null</td><td>null</td><td>null</td><td>null</td><td>null</td><td>null</td><td>null</td><td>null</td><td>null</td><td>null</td><td>null</td><td>null</td><td>null</td><td>null</td><td>null</td><td>null</td><td>null</td><td>null</td><td>null</td><td>&quot;Dublin_1968_singles_atp&quot;</td></tr><tr><td>&quot;1968-2029&quot;</td><td>&quot;Dublin&quot;</td><td>&quot;Grass&quot;</td><td>32</td><td>&quot;A&quot;</td><td>1968-07-08</td><td>273</td><td>&quot;100084&quot;</td><td>null</td><td>null</td><td>&quot;Tom Okker&quot;</td><td>&quot;R&quot;</td><td>178</td><td>&quot;NED&quot;</td><td>24.3</td><td>&quot;209534&quot;</td><td>null</td><td>null</td><td>&quot;Unknown Fearmon&quot;</td><td>&quot;U&quot;</td><td>null</td><td>null</td><td>null</td><td>&quot;6-1 6-1&quot;</td><td>3</td><td>&quot;R32&quot;</td><td>null</td><td>null</td><td>null</td><td>null</td><td>null</td><td>null</td><td>null</td><td>null</td><td>null</td><td>null</td><td>null</td><td>null</td><td>null</td><td>null</td><td>null</td><td>null</td><td>null</td><td>null</td><td>null</td><td>null</td><td>null</td><td>null</td><td>null</td><td>&quot;Dublin_1968_singles_atp&quot;</td></tr><tr><td>&quot;1968-2029&quot;</td><td>&quot;Dublin&quot;</td><td>&quot;Grass&quot;</td><td>32</td><td>&quot;A&quot;</td><td>1968-07-08</td><td>274</td><td>&quot;100132&quot;</td><td>null</td><td>null</td><td>&quot;Armistead Neely&quot;</td><td>&quot;R&quot;</td><td>null</td><td>&quot;USA&quot;</td><td>21.3</td><td>&quot;209533&quot;</td><td>null</td><td>null</td><td>&quot;Harry Sheridan&quot;</td><td>&quot;U&quot;</td><td>null</td><td>&quot;IRL&quot;</td><td>null</td><td>&quot;6-2 6-4&quot;</td><td>3</td><td>&quot;R32&quot;</td><td>null</td><td>null</td><td>null</td><td>null</td><td>null</td><td>null</td><td>null</td><td>null</td><td>null</td><td>null</td><td>null</td><td>null</td><td>null</td><td>null</td><td>null</td><td>null</td><td>null</td><td>null</td><td>null</td><td>null</td><td>null</td><td>null</td><td>null</td><td>&quot;Dublin_1968_singles_atp&quot;</td></tr><tr><td>&hellip;</td><td>&hellip;</td><td>&hellip;</td><td>&hellip;</td><td>&hellip;</td><td>&hellip;</td><td>&hellip;</td><td>&hellip;</td><td>&hellip;</td><td>&hellip;</td><td>&hellip;</td><td>&hellip;</td><td>&hellip;</td><td>&hellip;</td><td>&hellip;</td><td>&hellip;</td><td>&hellip;</td><td>&hellip;</td><td>&hellip;</td><td>&hellip;</td><td>&hellip;</td><td>&hellip;</td><td>&hellip;</td><td>&hellip;</td><td>&hellip;</td><td>&hellip;</td><td>&hellip;</td><td>&hellip;</td><td>&hellip;</td><td>&hellip;</td><td>&hellip;</td><td>&hellip;</td><td>&hellip;</td><td>&hellip;</td><td>&hellip;</td><td>&hellip;</td><td>&hellip;</td><td>&hellip;</td><td>&hellip;</td><td>&hellip;</td><td>&hellip;</td><td>&hellip;</td><td>&hellip;</td><td>&hellip;</td><td>&hellip;</td><td>&hellip;</td><td>&hellip;</td><td>&hellip;</td><td>&hellip;</td><td>&hellip;</td></tr><tr><td>&quot;2024-M-DC-2024-WG2-PO-URU-MDA-…</td><td>&quot;Davis Cup WG2 PO: URU vs MDA&quot;</td><td>&quot;Clay&quot;</td><td>4</td><td>&quot;D&quot;</td><td>2024-02-03</td><td>5</td><td>&quot;212051&quot;</td><td>null</td><td>null</td><td>&quot;Joaquin&nbsp;&nbsp;Aguilar Cardozo &quot;</td><td>&quot;U&quot;</td><td>null</td><td>&quot;URU&quot;</td><td>18.8</td><td>&quot;209943&quot;</td><td>null</td><td>null</td><td>&quot;Ilya Snitari&quot;</td><td>&quot;U&quot;</td><td>null</td><td>&quot;MDA&quot;</td><td>21.8</td><td>&quot;6-1 6-0&quot;</td><td>3</td><td>&quot;RR&quot;</td><td>&quot;77&quot;</td><td>&quot;0&quot;</td><td>&quot;0&quot;</td><td>&quot;36&quot;</td><td>&quot;22&quot;</td><td>&quot;15&quot;</td><td>&quot;10&quot;</td><td>&quot;7&quot;</td><td>&quot;1&quot;</td><td>&quot;1&quot;</td><td>&quot;1&quot;</td><td>&quot;1&quot;</td><td>&quot;61&quot;</td><td>&quot;30&quot;</td><td>&quot;17&quot;</td><td>&quot;7&quot;</td><td>&quot;6&quot;</td><td>&quot;8&quot;</td><td>&quot;14&quot;</td><td>&quot;1109&quot;</td><td>&quot;8&quot;</td><td>&quot;740&quot;</td><td>&quot;34&quot;</td><td>&quot;Davis Cup WG2 PO: URU vs MDA_2…</td></tr><tr><td>&quot;2024-M-DC-2024-WG2-PO-VIE-RSA-…</td><td>&quot;Davis Cup WG2 PO: VIE vs RSA&quot;</td><td>&quot;Hard&quot;</td><td>4</td><td>&quot;D&quot;</td><td>2024-02-02</td><td>1</td><td>&quot;122533&quot;</td><td>null</td><td>null</td><td>&quot;Nam Hoang Ly&quot;</td><td>&quot;R&quot;</td><td>null</td><td>&quot;VIE&quot;</td><td>26.9</td><td>&quot;202475&quot;</td><td>null</td><td>null</td><td>&quot;Philip Henning&quot;</td><td>&quot;R&quot;</td><td>null</td><td>&quot;RSA&quot;</td><td>23.2</td><td>&quot;6-3 6-4&quot;</td><td>3</td><td>&quot;RR&quot;</td><td>&quot;131&quot;</td><td>&quot;1&quot;</td><td>&quot;1&quot;</td><td>&quot;86&quot;</td><td>&quot;60&quot;</td><td>&quot;40&quot;</td><td>&quot;13&quot;</td><td>&quot;10&quot;</td><td>&quot;8&quot;</td><td>&quot;9&quot;</td><td>&quot;2&quot;</td><td>&quot;1&quot;</td><td>&quot;56&quot;</td><td>&quot;41&quot;</td><td>&quot;25&quot;</td><td>&quot;6&quot;</td><td>&quot;9&quot;</td><td>&quot;1&quot;</td><td>&quot;4&quot;</td><td>&quot;554&quot;</td><td>&quot;67&quot;</td><td>&quot;748&quot;</td><td>&quot;32&quot;</td><td>&quot;Davis Cup WG2 PO: VIE vs RSA_2…</td></tr><tr><td>&quot;2024-M-DC-2024-WG2-PO-VIE-RSA-…</td><td>&quot;Davis Cup WG2 PO: VIE vs RSA&quot;</td><td>&quot;Hard&quot;</td><td>4</td><td>&quot;D&quot;</td><td>2024-02-02</td><td>2</td><td>&quot;144748&quot;</td><td>null</td><td>null</td><td>&quot;Kris Van Wyk&quot;</td><td>&quot;U&quot;</td><td>null</td><td>&quot;RSA&quot;</td><td>27.3</td><td>&quot;144775&quot;</td><td>null</td><td>null</td><td>&quot;Linh Giang Trinh&quot;</td><td>&quot;R&quot;</td><td>183</td><td>&quot;VIE&quot;</td><td>26.4</td><td>&quot;4-6 6-3 4-0&quot;</td><td>3</td><td>&quot;RR&quot;</td><td>&quot;131&quot;</td><td>&quot;4&quot;</td><td>&quot;2&quot;</td><td>&quot;76&quot;</td><td>&quot;46&quot;</td><td>&quot;32&quot;</td><td>&quot;10&quot;</td><td>&quot;12&quot;</td><td>&quot;6&quot;</td><td>&quot;11&quot;</td><td>&quot;0&quot;</td><td>&quot;2&quot;</td><td>&quot;71&quot;</td><td>&quot;51&quot;</td><td>&quot;25&quot;</td><td>&quot;7&quot;</td><td>&quot;11&quot;</td><td>&quot;5&quot;</td><td>&quot;12&quot;</td><td>&quot;416&quot;</td><td>&quot;109&quot;</td><td>null</td><td>null</td><td>&quot;Davis Cup WG2 PO: VIE vs RSA_2…</td></tr><tr><td>&quot;2024-M-DC-2024-WG2-PO-VIE-RSA-…</td><td>&quot;Davis Cup WG2 PO: VIE vs RSA&quot;</td><td>&quot;Hard&quot;</td><td>4</td><td>&quot;D&quot;</td><td>2024-02-02</td><td>4</td><td>&quot;122533&quot;</td><td>null</td><td>null</td><td>&quot;Nam Hoang Ly&quot;</td><td>&quot;R&quot;</td><td>null</td><td>&quot;VIE&quot;</td><td>26.9</td><td>&quot;144748&quot;</td><td>null</td><td>null</td><td>&quot;Kris Van Wyk&quot;</td><td>&quot;U&quot;</td><td>null</td><td>&quot;RSA&quot;</td><td>27.3</td><td>&quot;6-4 3-6 6-3&quot;</td><td>3</td><td>&quot;RR&quot;</td><td>&quot;159&quot;</td><td>&quot;0&quot;</td><td>&quot;1&quot;</td><td>&quot;84&quot;</td><td>&quot;61&quot;</td><td>&quot;41&quot;</td><td>&quot;13&quot;</td><td>&quot;14&quot;</td><td>&quot;2&quot;</td><td>&quot;5&quot;</td><td>&quot;5&quot;</td><td>&quot;3&quot;</td><td>&quot;86&quot;</td><td>&quot;51&quot;</td><td>&quot;32&quot;</td><td>&quot;17&quot;</td><td>&quot;14&quot;</td><td>&quot;5&quot;</td><td>&quot;9&quot;</td><td>&quot;554&quot;</td><td>&quot;67&quot;</td><td>&quot;416&quot;</td><td>&quot;109&quot;</td><td>&quot;Davis Cup WG2 PO: VIE vs RSA_2…</td></tr><tr><td>&quot;2024-M-DC-2024-WG2-PO-VIE-RSA-…</td><td>&quot;Davis Cup WG2 PO: VIE vs RSA&quot;</td><td>&quot;Hard&quot;</td><td>4</td><td>&quot;D&quot;</td><td>2024-02-02</td><td>5</td><td>&quot;202475&quot;</td><td>null</td><td>null</td><td>&quot;Philip Henning&quot;</td><td>&quot;R&quot;</td><td>null</td><td>&quot;RSA&quot;</td><td>23.2</td><td>&quot;144775&quot;</td><td>null</td><td>null</td><td>&quot;Linh Giang Trinh&quot;</td><td>&quot;R&quot;</td><td>183</td><td>&quot;VIE&quot;</td><td>26.4</td><td>&quot;6-2 6-2&quot;</td><td>3</td><td>&quot;RR&quot;</td><td>&quot;101&quot;</td><td>&quot;1&quot;</td><td>&quot;0&quot;</td><td>&quot;47&quot;</td><td>&quot;28&quot;</td><td>&quot;21&quot;</td><td>&quot;11&quot;</td><td>&quot;8&quot;</td><td>&quot;0&quot;</td><td>&quot;1&quot;</td><td>&quot;0&quot;</td><td>&quot;0&quot;</td><td>&quot;71&quot;</td><td>&quot;53&quot;</td><td>&quot;25&quot;</td><td>&quot;8&quot;</td><td>&quot;8&quot;</td><td>&quot;9&quot;</td><td>&quot;14&quot;</td><td>&quot;748&quot;</td><td>&quot;32&quot;</td><td>null</td><td>null</td><td>&quot;Davis Cup WG2 PO: VIE vs RSA_2…</td></tr></tbody></table></div>"
      ],
      "text/plain": [
       "shape: (193_337, 50)\n",
       "┌────────────┬───────────┬─────────┬───────────┬───┬───────────┬───────────┬───────────┬───────────┐\n",
       "│ tourney_id ┆ tourney_n ┆ surface ┆ draw_size ┆ … ┆ winner_ra ┆ loser_ran ┆ loser_ran ┆ tourney_n │\n",
       "│ ---        ┆ ame       ┆ ---     ┆ ---       ┆   ┆ nk_points ┆ k         ┆ k_points  ┆ ame_date_ │\n",
       "│ str        ┆ ---       ┆ str     ┆ i64       ┆   ┆ ---       ┆ ---       ┆ ---       ┆ matches   │\n",
       "│            ┆ str       ┆         ┆           ┆   ┆ str       ┆ str       ┆ str       ┆ ---       │\n",
       "│            ┆           ┆         ┆           ┆   ┆           ┆           ┆           ┆ str       │\n",
       "╞════════════╪═══════════╪═════════╪═══════════╪═══╪═══════════╪═══════════╪═══════════╪═══════════╡\n",
       "│ 1968-2029  ┆ Dublin    ┆ Grass   ┆ 32        ┆ … ┆ null      ┆ null      ┆ null      ┆ Dublin_19 │\n",
       "│            ┆           ┆         ┆           ┆   ┆           ┆           ┆           ┆ 68_single │\n",
       "│            ┆           ┆         ┆           ┆   ┆           ┆           ┆           ┆ s_atp     │\n",
       "│ 1968-2029  ┆ Dublin    ┆ Grass   ┆ 32        ┆ … ┆ null      ┆ null      ┆ null      ┆ Dublin_19 │\n",
       "│            ┆           ┆         ┆           ┆   ┆           ┆           ┆           ┆ 68_single │\n",
       "│            ┆           ┆         ┆           ┆   ┆           ┆           ┆           ┆ s_atp     │\n",
       "│ 1968-2029  ┆ Dublin    ┆ Grass   ┆ 32        ┆ … ┆ null      ┆ null      ┆ null      ┆ Dublin_19 │\n",
       "│            ┆           ┆         ┆           ┆   ┆           ┆           ┆           ┆ 68_single │\n",
       "│            ┆           ┆         ┆           ┆   ┆           ┆           ┆           ┆ s_atp     │\n",
       "│ 1968-2029  ┆ Dublin    ┆ Grass   ┆ 32        ┆ … ┆ null      ┆ null      ┆ null      ┆ Dublin_19 │\n",
       "│            ┆           ┆         ┆           ┆   ┆           ┆           ┆           ┆ 68_single │\n",
       "│            ┆           ┆         ┆           ┆   ┆           ┆           ┆           ┆ s_atp     │\n",
       "│ 1968-2029  ┆ Dublin    ┆ Grass   ┆ 32        ┆ … ┆ null      ┆ null      ┆ null      ┆ Dublin_19 │\n",
       "│            ┆           ┆         ┆           ┆   ┆           ┆           ┆           ┆ 68_single │\n",
       "│            ┆           ┆         ┆           ┆   ┆           ┆           ┆           ┆ s_atp     │\n",
       "│ …          ┆ …         ┆ …       ┆ …         ┆ … ┆ …         ┆ …         ┆ …         ┆ …         │\n",
       "│ 2024-M-DC- ┆ Davis Cup ┆ Clay    ┆ 4         ┆ … ┆ 8         ┆ 740       ┆ 34        ┆ Davis Cup │\n",
       "│ 2024-WG2-P ┆ WG2 PO:   ┆         ┆           ┆   ┆           ┆           ┆           ┆ WG2 PO:   │\n",
       "│ O-URU-MDA- ┆ URU vs    ┆         ┆           ┆   ┆           ┆           ┆           ┆ URU vs    │\n",
       "│ …          ┆ MDA       ┆         ┆           ┆   ┆           ┆           ┆           ┆ MDA_2…    │\n",
       "│ 2024-M-DC- ┆ Davis Cup ┆ Hard    ┆ 4         ┆ … ┆ 67        ┆ 748       ┆ 32        ┆ Davis Cup │\n",
       "│ 2024-WG2-P ┆ WG2 PO:   ┆         ┆           ┆   ┆           ┆           ┆           ┆ WG2 PO:   │\n",
       "│ O-VIE-RSA- ┆ VIE vs    ┆         ┆           ┆   ┆           ┆           ┆           ┆ VIE vs    │\n",
       "│ …          ┆ RSA       ┆         ┆           ┆   ┆           ┆           ┆           ┆ RSA_2…    │\n",
       "│ 2024-M-DC- ┆ Davis Cup ┆ Hard    ┆ 4         ┆ … ┆ 109       ┆ null      ┆ null      ┆ Davis Cup │\n",
       "│ 2024-WG2-P ┆ WG2 PO:   ┆         ┆           ┆   ┆           ┆           ┆           ┆ WG2 PO:   │\n",
       "│ O-VIE-RSA- ┆ VIE vs    ┆         ┆           ┆   ┆           ┆           ┆           ┆ VIE vs    │\n",
       "│ …          ┆ RSA       ┆         ┆           ┆   ┆           ┆           ┆           ┆ RSA_2…    │\n",
       "│ 2024-M-DC- ┆ Davis Cup ┆ Hard    ┆ 4         ┆ … ┆ 67        ┆ 416       ┆ 109       ┆ Davis Cup │\n",
       "│ 2024-WG2-P ┆ WG2 PO:   ┆         ┆           ┆   ┆           ┆           ┆           ┆ WG2 PO:   │\n",
       "│ O-VIE-RSA- ┆ VIE vs    ┆         ┆           ┆   ┆           ┆           ┆           ┆ VIE vs    │\n",
       "│ …          ┆ RSA       ┆         ┆           ┆   ┆           ┆           ┆           ┆ RSA_2…    │\n",
       "│ 2024-M-DC- ┆ Davis Cup ┆ Hard    ┆ 4         ┆ … ┆ 32        ┆ null      ┆ null      ┆ Davis Cup │\n",
       "│ 2024-WG2-P ┆ WG2 PO:   ┆         ┆           ┆   ┆           ┆           ┆           ┆ WG2 PO:   │\n",
       "│ O-VIE-RSA- ┆ VIE vs    ┆         ┆           ┆   ┆           ┆           ┆           ┆ VIE vs    │\n",
       "│ …          ┆ RSA       ┆         ┆           ┆   ┆           ┆           ┆           ┆ RSA_2…    │\n",
       "└────────────┴───────────┴─────────┴───────────┴───┴───────────┴───────────┴───────────┴───────────┘"
      ]
     },
     "execution_count": 7,
     "metadata": {},
     "output_type": "execute_result"
    }
   ],
   "source": [
    "matches_singles_atp=import_tennis_matches(data_type=\"singles\",gender=\"atp\")\n",
    "\n",
    "matches_singles_atp = matches_singles_atp.with_columns(\n",
    "    (pl.col(\"tourney_name\") + \"_\" + pl.col(\"tourney_date\").dt.year().cast(pl.Utf8)+\"_singles_atp\").alias(\"tourney_name_date_matches\")\n",
    ")\n",
    "matches_singles_atp"
   ]
  },
  {
   "cell_type": "code",
   "execution_count": 8,
   "metadata": {},
   "outputs": [
    {
     "data": {
      "text/html": [
       "<div><style>\n",
       ".dataframe > thead > tr,\n",
       ".dataframe > tbody > tr {\n",
       "  text-align: right;\n",
       "  white-space: pre-wrap;\n",
       "}\n",
       "</style>\n",
       "<small>shape: (8_316, 6)</small><table border=\"1\" class=\"dataframe\"><thead><tr><th>tourney_name</th><th>surface</th><th>draw_size</th><th>tourney_level</th><th>tourney_date</th><th>tourney_name_date_matches</th></tr><tr><td>str</td><td>str</td><td>i64</td><td>str</td><td>date</td><td>str</td></tr></thead><tbody><tr><td>&quot;Davis Cup EUR QF: ISR vs NED&quot;</td><td>&quot;Hard&quot;</td><td>4</td><td>&quot;D&quot;</td><td>1985-06-14</td><td>&quot;Davis Cup EUR QF: ISR vs NED_1…</td></tr><tr><td>&quot;Mamaia&quot;</td><td>null</td><td>null</td><td>&quot;A&quot;</td><td>1968-09-08</td><td>&quot;Mamaia_1968_singles_atp&quot;</td></tr><tr><td>&quot;Davis Cup G2 R1: KUW vs THA&quot;</td><td>&quot;Hard&quot;</td><td>4</td><td>&quot;D&quot;</td><td>2013-02-01</td><td>&quot;Davis Cup G2 R1: KUW vs THA_20…</td></tr><tr><td>&quot;Lyon&quot;</td><td>&quot;Carpet&quot;</td><td>48</td><td>&quot;A&quot;</td><td>1999-10-18</td><td>&quot;Lyon_1999_singles_atp&quot;</td></tr><tr><td>&quot;Davis Cup WG R1: IND vs NED&quot;</td><td>&quot;Grass&quot;</td><td>4</td><td>&quot;D&quot;</td><td>1996-02-09</td><td>&quot;Davis Cup WG R1: IND vs NED_19…</td></tr><tr><td>&hellip;</td><td>&hellip;</td><td>&hellip;</td><td>&hellip;</td><td>&hellip;</td><td>&hellip;</td></tr><tr><td>&quot;Davis Cup G1 R1: CAN vs ECU&quot;</td><td>&quot;Hard&quot;</td><td>4</td><td>&quot;D&quot;</td><td>2009-03-06</td><td>&quot;Davis Cup G1 R1: CAN vs ECU_20…</td></tr><tr><td>&quot;Paris Masters&quot;</td><td>&quot;Hard&quot;</td><td>48</td><td>&quot;M&quot;</td><td>2011-11-07</td><td>&quot;Paris Masters_2011_singles_atp&quot;</td></tr><tr><td>&quot;Dallas&quot;</td><td>&quot;Carpet&quot;</td><td>16</td><td>&quot;A&quot;</td><td>1986-04-07</td><td>&quot;Dallas_1986_singles_atp&quot;</td></tr><tr><td>&quot;Forest Hills WCT&quot;</td><td>&quot;Clay&quot;</td><td>64</td><td>&quot;A&quot;</td><td>1984-05-06</td><td>&quot;Forest Hills WCT_1984_singles_…</td></tr><tr><td>&quot;Davis Cup G1 SF: THA vs JPN&quot;</td><td>&quot;Hard&quot;</td><td>4</td><td>&quot;D&quot;</td><td>2002-04-05</td><td>&quot;Davis Cup G1 SF: THA vs JPN_20…</td></tr></tbody></table></div>"
      ],
      "text/plain": [
       "shape: (8_316, 6)\n",
       "┌──────────────────────┬─────────┬───────────┬───────────────┬──────────────┬──────────────────────┐\n",
       "│ tourney_name         ┆ surface ┆ draw_size ┆ tourney_level ┆ tourney_date ┆ tourney_name_date_ma │\n",
       "│ ---                  ┆ ---     ┆ ---       ┆ ---           ┆ ---          ┆ tches                │\n",
       "│ str                  ┆ str     ┆ i64       ┆ str           ┆ date         ┆ ---                  │\n",
       "│                      ┆         ┆           ┆               ┆              ┆ str                  │\n",
       "╞══════════════════════╪═════════╪═══════════╪═══════════════╪══════════════╪══════════════════════╡\n",
       "│ Davis Cup EUR QF:    ┆ Hard    ┆ 4         ┆ D             ┆ 1985-06-14   ┆ Davis Cup EUR QF:    │\n",
       "│ ISR vs NED           ┆         ┆           ┆               ┆              ┆ ISR vs NED_1…        │\n",
       "│ Mamaia               ┆ null    ┆ null      ┆ A             ┆ 1968-09-08   ┆ Mamaia_1968_singles_ │\n",
       "│                      ┆         ┆           ┆               ┆              ┆ atp                  │\n",
       "│ Davis Cup G2 R1: KUW ┆ Hard    ┆ 4         ┆ D             ┆ 2013-02-01   ┆ Davis Cup G2 R1: KUW │\n",
       "│ vs THA               ┆         ┆           ┆               ┆              ┆ vs THA_20…           │\n",
       "│ Lyon                 ┆ Carpet  ┆ 48        ┆ A             ┆ 1999-10-18   ┆ Lyon_1999_singles_at │\n",
       "│                      ┆         ┆           ┆               ┆              ┆ p                    │\n",
       "│ Davis Cup WG R1: IND ┆ Grass   ┆ 4         ┆ D             ┆ 1996-02-09   ┆ Davis Cup WG R1: IND │\n",
       "│ vs NED               ┆         ┆           ┆               ┆              ┆ vs NED_19…           │\n",
       "│ …                    ┆ …       ┆ …         ┆ …             ┆ …            ┆ …                    │\n",
       "│ Davis Cup G1 R1: CAN ┆ Hard    ┆ 4         ┆ D             ┆ 2009-03-06   ┆ Davis Cup G1 R1: CAN │\n",
       "│ vs ECU               ┆         ┆           ┆               ┆              ┆ vs ECU_20…           │\n",
       "│ Paris Masters        ┆ Hard    ┆ 48        ┆ M             ┆ 2011-11-07   ┆ Paris Masters_2011_s │\n",
       "│                      ┆         ┆           ┆               ┆              ┆ ingles_atp           │\n",
       "│ Dallas               ┆ Carpet  ┆ 16        ┆ A             ┆ 1986-04-07   ┆ Dallas_1986_singles_ │\n",
       "│                      ┆         ┆           ┆               ┆              ┆ atp                  │\n",
       "│ Forest Hills WCT     ┆ Clay    ┆ 64        ┆ A             ┆ 1984-05-06   ┆ Forest Hills         │\n",
       "│                      ┆         ┆           ┆               ┆              ┆ WCT_1984_singles_…   │\n",
       "│ Davis Cup G1 SF: THA ┆ Hard    ┆ 4         ┆ D             ┆ 2002-04-05   ┆ Davis Cup G1 SF: THA │\n",
       "│ vs JPN               ┆         ┆           ┆               ┆              ┆ vs JPN_20…           │\n",
       "└──────────────────────┴─────────┴───────────┴───────────────┴──────────────┴──────────────────────┘"
      ]
     },
     "execution_count": 8,
     "metadata": {},
     "output_type": "execute_result"
    }
   ],
   "source": [
    "tourney_single_matches_atp=matches_singles_atp[['tourney_name', 'surface', 'draw_size', 'tourney_level', 'tourney_date', 'tourney_name_date_matches']]\n",
    "tourney_single_matches_atp=tourney_single_matches_atp.unique('tourney_name_date_matches')\n",
    "tourney_single_matches_atp"
   ]
  },
  {
   "cell_type": "code",
   "execution_count": 9,
   "metadata": {},
   "outputs": [
    {
     "data": {
      "text/html": [
       "<div><style>\n",
       ".dataframe > thead > tr,\n",
       ".dataframe > tbody > tr {\n",
       "  text-align: right;\n",
       "  white-space: pre-wrap;\n",
       "}\n",
       "</style>\n",
       "<small>shape: (156_578, 50)</small><table border=\"1\" class=\"dataframe\"><thead><tr><th>tourney_id</th><th>tourney_name</th><th>surface</th><th>draw_size</th><th>tourney_level</th><th>tourney_date</th><th>match_num</th><th>winner_id</th><th>winner_seed</th><th>winner_entry</th><th>winner_name</th><th>winner_hand</th><th>winner_ht</th><th>winner_ioc</th><th>winner_age</th><th>loser_id</th><th>loser_seed</th><th>loser_entry</th><th>loser_name</th><th>loser_hand</th><th>loser_ht</th><th>loser_ioc</th><th>loser_age</th><th>score</th><th>best_of</th><th>round</th><th>minutes</th><th>w_ace</th><th>w_df</th><th>w_svpt</th><th>w_1stIn</th><th>w_1stWon</th><th>w_2ndWon</th><th>w_SvGms</th><th>w_bpSaved</th><th>w_bpFaced</th><th>l_ace</th><th>l_df</th><th>l_svpt</th><th>l_1stIn</th><th>l_1stWon</th><th>l_2ndWon</th><th>l_SvGms</th><th>l_bpSaved</th><th>l_bpFaced</th><th>winner_rank</th><th>winner_rank_points</th><th>loser_rank</th><th>loser_rank_points</th><th>tourney_name_date_matches</th></tr><tr><td>str</td><td>str</td><td>str</td><td>str</td><td>str</td><td>date</td><td>i64</td><td>str</td><td>str</td><td>str</td><td>str</td><td>str</td><td>i64</td><td>str</td><td>f64</td><td>str</td><td>str</td><td>str</td><td>str</td><td>str</td><td>i64</td><td>str</td><td>f64</td><td>str</td><td>i64</td><td>str</td><td>str</td><td>str</td><td>str</td><td>str</td><td>str</td><td>str</td><td>str</td><td>str</td><td>str</td><td>str</td><td>str</td><td>str</td><td>str</td><td>str</td><td>str</td><td>str</td><td>str</td><td>str</td><td>str</td><td>str</td><td>str</td><td>str</td><td>str</td><td>str</td></tr></thead><tbody><tr><td>&quot;1968-W-OL-MEX-01A-1968&quot;</td><td>&quot;Guadalajara Olympics Demo&quot;</td><td>&quot;Clay&quot;</td><td>&quot;13&quot;</td><td>&quot;O&quot;</td><td>1968-10-14</td><td>1</td><td>&quot;200781&quot;</td><td>null</td><td>null</td><td>&quot;Edda Buding&quot;</td><td>&quot;R&quot;</td><td>null</td><td>&quot;FRG&quot;</td><td>31.9</td><td>&quot;200795&quot;</td><td>null</td><td>null</td><td>&quot;Patricia Montano&quot;</td><td>&quot;U&quot;</td><td>null</td><td>&quot;MEX&quot;</td><td>16.1</td><td>&quot;7-5 2-6 6-4&quot;</td><td>3</td><td>&quot;R16&quot;</td><td>null</td><td>null</td><td>null</td><td>null</td><td>null</td><td>null</td><td>null</td><td>null</td><td>null</td><td>null</td><td>null</td><td>null</td><td>null</td><td>null</td><td>null</td><td>null</td><td>null</td><td>null</td><td>null</td><td>null</td><td>null</td><td>null</td><td>null</td><td>&quot;Guadalajara Olympics Demo_1968…</td></tr><tr><td>&quot;1968-W-OL-MEX-01A-1968&quot;</td><td>&quot;Guadalajara Olympics Demo&quot;</td><td>&quot;Clay&quot;</td><td>&quot;13&quot;</td><td>&quot;O&quot;</td><td>1968-10-14</td><td>2</td><td>&quot;202512&quot;</td><td>null</td><td>null</td><td>&quot;Lucia Gongora&quot;</td><td>&quot;U&quot;</td><td>null</td><td>&quot;MEX&quot;</td><td>21.9</td><td>&quot;200862&quot;</td><td>null</td><td>null</td><td>&quot;Valerie Ziegenfuss&quot;</td><td>&quot;R&quot;</td><td>173</td><td>&quot;USA&quot;</td><td>19.2</td><td>&quot;6-1 6-2&quot;</td><td>3</td><td>&quot;R16&quot;</td><td>null</td><td>null</td><td>null</td><td>null</td><td>null</td><td>null</td><td>null</td><td>null</td><td>null</td><td>null</td><td>null</td><td>null</td><td>null</td><td>null</td><td>null</td><td>null</td><td>null</td><td>null</td><td>null</td><td>null</td><td>null</td><td>null</td><td>null</td><td>&quot;Guadalajara Olympics Demo_1968…</td></tr><tr><td>&quot;1968-W-OL-MEX-01A-1968&quot;</td><td>&quot;Guadalajara Olympics Demo&quot;</td><td>&quot;Clay&quot;</td><td>&quot;13&quot;</td><td>&quot;O&quot;</td><td>1968-10-14</td><td>3</td><td>&quot;200869&quot;</td><td>null</td><td>null</td><td>&quot;Maria Eugenia Guzman&quot;</td><td>&quot;U&quot;</td><td>null</td><td>&quot;ECU&quot;</td><td>23.0</td><td>&quot;200863&quot;</td><td>null</td><td>null</td><td>&quot;Zaiga Yansone&quot;</td><td>&quot;U&quot;</td><td>null</td><td>&quot;URS&quot;</td><td>17.7</td><td>&quot;6-2 6-2&quot;</td><td>3</td><td>&quot;R16&quot;</td><td>null</td><td>null</td><td>null</td><td>null</td><td>null</td><td>null</td><td>null</td><td>null</td><td>null</td><td>null</td><td>null</td><td>null</td><td>null</td><td>null</td><td>null</td><td>null</td><td>null</td><td>null</td><td>null</td><td>null</td><td>null</td><td>null</td><td>null</td><td>&quot;Guadalajara Olympics Demo_1968…</td></tr><tr><td>&quot;1968-W-OL-MEX-01A-1968&quot;</td><td>&quot;Guadalajara Olympics Demo&quot;</td><td>&quot;Clay&quot;</td><td>&quot;13&quot;</td><td>&quot;O&quot;</td><td>1968-10-14</td><td>4</td><td>&quot;200274&quot;</td><td>null</td><td>null</td><td>&quot;Julie Heldman&quot;</td><td>&quot;R&quot;</td><td>170</td><td>&quot;USA&quot;</td><td>22.8</td><td>&quot;200834&quot;</td><td>null</td><td>null</td><td>&quot;Suzana Gesteira&quot;</td><td>&quot;U&quot;</td><td>null</td><td>&quot;BRA&quot;</td><td>21.0</td><td>&quot;6-1 6-2&quot;</td><td>3</td><td>&quot;R16&quot;</td><td>null</td><td>null</td><td>null</td><td>null</td><td>null</td><td>null</td><td>null</td><td>null</td><td>null</td><td>null</td><td>null</td><td>null</td><td>null</td><td>null</td><td>null</td><td>null</td><td>null</td><td>null</td><td>null</td><td>null</td><td>null</td><td>null</td><td>null</td><td>&quot;Guadalajara Olympics Demo_1968…</td></tr><tr><td>&quot;1968-W-OL-MEX-01A-1968&quot;</td><td>&quot;Guadalajara Olympics Demo&quot;</td><td>&quot;Clay&quot;</td><td>&quot;13&quot;</td><td>&quot;O&quot;</td><td>1968-10-14</td><td>5</td><td>&quot;200791&quot;</td><td>null</td><td>null</td><td>&quot;Rosie Reyes&quot;</td><td>&quot;R&quot;</td><td>null</td><td>&quot;FRA&quot;</td><td>29.5</td><td>&quot;202513&quot;</td><td>null</td><td>null</td><td>&quot;Ana Maria Ycaza&quot;</td><td>&quot;U&quot;</td><td>null</td><td>&quot;ECU&quot;</td><td>17.4</td><td>&quot;6-1 6-1&quot;</td><td>3</td><td>&quot;R16&quot;</td><td>null</td><td>null</td><td>null</td><td>null</td><td>null</td><td>null</td><td>null</td><td>null</td><td>null</td><td>null</td><td>null</td><td>null</td><td>null</td><td>null</td><td>null</td><td>null</td><td>null</td><td>null</td><td>null</td><td>null</td><td>null</td><td>null</td><td>null</td><td>&quot;Guadalajara Olympics Demo_1968…</td></tr><tr><td>&hellip;</td><td>&hellip;</td><td>&hellip;</td><td>&hellip;</td><td>&hellip;</td><td>&hellip;</td><td>&hellip;</td><td>&hellip;</td><td>&hellip;</td><td>&hellip;</td><td>&hellip;</td><td>&hellip;</td><td>&hellip;</td><td>&hellip;</td><td>&hellip;</td><td>&hellip;</td><td>&hellip;</td><td>&hellip;</td><td>&hellip;</td><td>&hellip;</td><td>&hellip;</td><td>&hellip;</td><td>&hellip;</td><td>&hellip;</td><td>&hellip;</td><td>&hellip;</td><td>&hellip;</td><td>&hellip;</td><td>&hellip;</td><td>&hellip;</td><td>&hellip;</td><td>&hellip;</td><td>&hellip;</td><td>&hellip;</td><td>&hellip;</td><td>&hellip;</td><td>&hellip;</td><td>&hellip;</td><td>&hellip;</td><td>&hellip;</td><td>&hellip;</td><td>&hellip;</td><td>&hellip;</td><td>&hellip;</td><td>&hellip;</td><td>&hellip;</td><td>&hellip;</td><td>&hellip;</td><td>&hellip;</td><td>&hellip;</td></tr><tr><td>&quot;2024-W-FC-2024-QUA&quot;</td><td>&quot;BJK Cup Qualifiers&quot;</td><td>null</td><td>&quot;48&quot;</td><td>&quot;D&quot;</td><td>2024-04-12</td><td>123</td><td>&quot;223194&quot;</td><td>null</td><td>null</td><td>&quot;Taylah Preston&quot;</td><td>&quot;R&quot;</td><td>null</td><td>&quot;AUS&quot;</td><td>18.4</td><td>&quot;204420&quot;</td><td>null</td><td>null</td><td>&quot;Marcela Zacarias&quot;</td><td>&quot;R&quot;</td><td>null</td><td>&quot;MEX&quot;</td><td>30.0</td><td>&quot;6-1 6-1&quot;</td><td>3</td><td>&quot;RR&quot;</td><td>null</td><td>&quot;3&quot;</td><td>&quot;0&quot;</td><td>&quot;49&quot;</td><td>&quot;37&quot;</td><td>&quot;26&quot;</td><td>&quot;5&quot;</td><td>&quot;7&quot;</td><td>&quot;3&quot;</td><td>&quot;4&quot;</td><td>&quot;0&quot;</td><td>&quot;4&quot;</td><td>&quot;44&quot;</td><td>&quot;33&quot;</td><td>&quot;13&quot;</td><td>&quot;3&quot;</td><td>&quot;7&quot;</td><td>&quot;4&quot;</td><td>&quot;10&quot;</td><td>&quot;136&quot;</td><td>&quot;545&quot;</td><td>&quot;562&quot;</td><td>&quot;83&quot;</td><td>&quot;BJK Cup Qualifiers_2024_single…</td></tr><tr><td>&quot;2024-W-FC-2024-QUA&quot;</td><td>&quot;BJK Cup Qualifiers&quot;</td><td>null</td><td>&quot;48&quot;</td><td>&quot;D&quot;</td><td>2024-04-12</td><td>124</td><td>&quot;211702&quot;</td><td>null</td><td>null</td><td>&quot;Nao Hibino&quot;</td><td>&quot;R&quot;</td><td>163</td><td>&quot;JPN&quot;</td><td>29.3</td><td>&quot;201709&quot;</td><td>null</td><td>null</td><td>&quot;Yulia Putintseva&quot;</td><td>&quot;R&quot;</td><td>163</td><td>&quot;KAZ&quot;</td><td>29.2</td><td>&quot;6-4 3-6 7-6(7)&quot;</td><td>3</td><td>&quot;RR&quot;</td><td>null</td><td>&quot;2&quot;</td><td>&quot;4&quot;</td><td>&quot;104&quot;</td><td>&quot;77&quot;</td><td>&quot;48&quot;</td><td>&quot;12&quot;</td><td>&quot;15&quot;</td><td>&quot;2&quot;</td><td>&quot;7&quot;</td><td>&quot;1&quot;</td><td>&quot;2&quot;</td><td>&quot;99&quot;</td><td>&quot;70&quot;</td><td>&quot;43&quot;</td><td>&quot;13&quot;</td><td>&quot;16&quot;</td><td>&quot;2&quot;</td><td>&quot;7&quot;</td><td>&quot;79&quot;</td><td>&quot;883&quot;</td><td>&quot;50&quot;</td><td>&quot;1213&quot;</td><td>&quot;BJK Cup Qualifiers_2024_single…</td></tr><tr><td>&quot;2024-W-FC-2024-QUA&quot;</td><td>&quot;BJK Cup Qualifiers&quot;</td><td>null</td><td>&quot;48&quot;</td><td>&quot;D&quot;</td><td>2024-04-12</td><td>125</td><td>&quot;260761&quot;</td><td>null</td><td>null</td><td>&quot;Renata Jamrichova&quot;</td><td>&quot;U&quot;</td><td>null</td><td>&quot;SVK&quot;</td><td>16.8</td><td>&quot;220662&quot;</td><td>null</td><td>null</td><td>&quot;Veronika Erjavec&quot;</td><td>&quot;R&quot;</td><td>null</td><td>&quot;SLO&quot;</td><td>24.2</td><td>&quot;6-2 6-0&quot;</td><td>3</td><td>&quot;RR&quot;</td><td>null</td><td>&quot;2&quot;</td><td>&quot;3&quot;</td><td>&quot;39&quot;</td><td>&quot;22&quot;</td><td>&quot;13&quot;</td><td>&quot;13&quot;</td><td>&quot;7&quot;</td><td>&quot;0&quot;</td><td>&quot;1&quot;</td><td>&quot;0&quot;</td><td>&quot;3&quot;</td><td>&quot;48&quot;</td><td>&quot;28&quot;</td><td>&quot;9&quot;</td><td>&quot;9&quot;</td><td>&quot;7&quot;</td><td>&quot;10&quot;</td><td>&quot;16&quot;</td><td>&quot;684&quot;</td><td>&quot;56&quot;</td><td>&quot;203&quot;</td><td>&quot;377&quot;</td><td>&quot;BJK Cup Qualifiers_2024_single…</td></tr><tr><td>&quot;2024-W-FC-2024-QUA&quot;</td><td>&quot;BJK Cup Qualifiers&quot;</td><td>null</td><td>&quot;48&quot;</td><td>&quot;D&quot;</td><td>2024-04-12</td><td>126</td><td>&quot;206242&quot;</td><td>null</td><td>null</td><td>&quot;Beatriz Haddad Maia&quot;</td><td>&quot;L&quot;</td><td>185</td><td>&quot;BRA&quot;</td><td>27.8</td><td>&quot;204431&quot;</td><td>null</td><td>null</td><td>&quot;Anna Lena Friedsam&quot;</td><td>&quot;R&quot;</td><td>null</td><td>&quot;GER&quot;</td><td>30.1</td><td>&quot;5-7 6-0 6-1&quot;</td><td>3</td><td>&quot;RR&quot;</td><td>null</td><td>&quot;2&quot;</td><td>&quot;3&quot;</td><td>&quot;69&quot;</td><td>&quot;44&quot;</td><td>&quot;31&quot;</td><td>&quot;13&quot;</td><td>&quot;12&quot;</td><td>&quot;4&quot;</td><td>&quot;7&quot;</td><td>&quot;1&quot;</td><td>&quot;10&quot;</td><td>&quot;113&quot;</td><td>&quot;73&quot;</td><td>&quot;41&quot;</td><td>&quot;13&quot;</td><td>&quot;13&quot;</td><td>&quot;11&quot;</td><td>&quot;19&quot;</td><td>&quot;13&quot;</td><td>&quot;2920&quot;</td><td>&quot;189&quot;</td><td>&quot;393&quot;</td><td>&quot;BJK Cup Qualifiers_2024_single…</td></tr><tr><td>&quot;2024-W-FC-2024-QUA&quot;</td><td>&quot;BJK Cup Qualifiers&quot;</td><td>null</td><td>&quot;48&quot;</td><td>&quot;D&quot;</td><td>2024-04-12</td><td>127</td><td>&quot;202468&quot;</td><td>null</td><td>null</td><td>&quot;Jessica Pegula&quot;</td><td>&quot;R&quot;</td><td>170</td><td>&quot;USA&quot;</td><td>30.1</td><td>&quot;243420&quot;</td><td>null</td><td>null</td><td>&quot;Hanne Vandewinkel&quot;</td><td>&quot;U&quot;</td><td>null</td><td>&quot;BEL&quot;</td><td>19.8</td><td>&quot;6-2 6-0&quot;</td><td>3</td><td>&quot;RR&quot;</td><td>null</td><td>&quot;1&quot;</td><td>&quot;0&quot;</td><td>&quot;33&quot;</td><td>&quot;20&quot;</td><td>&quot;19&quot;</td><td>&quot;10&quot;</td><td>&quot;7&quot;</td><td>&quot;1&quot;</td><td>&quot;1&quot;</td><td>&quot;3&quot;</td><td>&quot;3&quot;</td><td>&quot;46&quot;</td><td>&quot;29&quot;</td><td>&quot;15&quot;</td><td>&quot;5&quot;</td><td>&quot;7&quot;</td><td>&quot;3&quot;</td><td>&quot;8&quot;</td><td>&quot;5&quot;</td><td>&quot;4870&quot;</td><td>&quot;278&quot;</td><td>&quot;266&quot;</td><td>&quot;BJK Cup Qualifiers_2024_single…</td></tr></tbody></table></div>"
      ],
      "text/plain": [
       "shape: (156_578, 50)\n",
       "┌────────────┬───────────┬─────────┬───────────┬───┬───────────┬───────────┬───────────┬───────────┐\n",
       "│ tourney_id ┆ tourney_n ┆ surface ┆ draw_size ┆ … ┆ winner_ra ┆ loser_ran ┆ loser_ran ┆ tourney_n │\n",
       "│ ---        ┆ ame       ┆ ---     ┆ ---       ┆   ┆ nk_points ┆ k         ┆ k_points  ┆ ame_date_ │\n",
       "│ str        ┆ ---       ┆ str     ┆ str       ┆   ┆ ---       ┆ ---       ┆ ---       ┆ matches   │\n",
       "│            ┆ str       ┆         ┆           ┆   ┆ str       ┆ str       ┆ str       ┆ ---       │\n",
       "│            ┆           ┆         ┆           ┆   ┆           ┆           ┆           ┆ str       │\n",
       "╞════════════╪═══════════╪═════════╪═══════════╪═══╪═══════════╪═══════════╪═══════════╪═══════════╡\n",
       "│ 1968-W-OL- ┆ Guadalaja ┆ Clay    ┆ 13        ┆ … ┆ null      ┆ null      ┆ null      ┆ Guadalaja │\n",
       "│ MEX-01A-19 ┆ ra        ┆         ┆           ┆   ┆           ┆           ┆           ┆ ra        │\n",
       "│ 68         ┆ Olympics  ┆         ┆           ┆   ┆           ┆           ┆           ┆ Olympics  │\n",
       "│            ┆ Demo      ┆         ┆           ┆   ┆           ┆           ┆           ┆ Demo_1968 │\n",
       "│            ┆           ┆         ┆           ┆   ┆           ┆           ┆           ┆ …         │\n",
       "│ 1968-W-OL- ┆ Guadalaja ┆ Clay    ┆ 13        ┆ … ┆ null      ┆ null      ┆ null      ┆ Guadalaja │\n",
       "│ MEX-01A-19 ┆ ra        ┆         ┆           ┆   ┆           ┆           ┆           ┆ ra        │\n",
       "│ 68         ┆ Olympics  ┆         ┆           ┆   ┆           ┆           ┆           ┆ Olympics  │\n",
       "│            ┆ Demo      ┆         ┆           ┆   ┆           ┆           ┆           ┆ Demo_1968 │\n",
       "│            ┆           ┆         ┆           ┆   ┆           ┆           ┆           ┆ …         │\n",
       "│ 1968-W-OL- ┆ Guadalaja ┆ Clay    ┆ 13        ┆ … ┆ null      ┆ null      ┆ null      ┆ Guadalaja │\n",
       "│ MEX-01A-19 ┆ ra        ┆         ┆           ┆   ┆           ┆           ┆           ┆ ra        │\n",
       "│ 68         ┆ Olympics  ┆         ┆           ┆   ┆           ┆           ┆           ┆ Olympics  │\n",
       "│            ┆ Demo      ┆         ┆           ┆   ┆           ┆           ┆           ┆ Demo_1968 │\n",
       "│            ┆           ┆         ┆           ┆   ┆           ┆           ┆           ┆ …         │\n",
       "│ 1968-W-OL- ┆ Guadalaja ┆ Clay    ┆ 13        ┆ … ┆ null      ┆ null      ┆ null      ┆ Guadalaja │\n",
       "│ MEX-01A-19 ┆ ra        ┆         ┆           ┆   ┆           ┆           ┆           ┆ ra        │\n",
       "│ 68         ┆ Olympics  ┆         ┆           ┆   ┆           ┆           ┆           ┆ Olympics  │\n",
       "│            ┆ Demo      ┆         ┆           ┆   ┆           ┆           ┆           ┆ Demo_1968 │\n",
       "│            ┆           ┆         ┆           ┆   ┆           ┆           ┆           ┆ …         │\n",
       "│ 1968-W-OL- ┆ Guadalaja ┆ Clay    ┆ 13        ┆ … ┆ null      ┆ null      ┆ null      ┆ Guadalaja │\n",
       "│ MEX-01A-19 ┆ ra        ┆         ┆           ┆   ┆           ┆           ┆           ┆ ra        │\n",
       "│ 68         ┆ Olympics  ┆         ┆           ┆   ┆           ┆           ┆           ┆ Olympics  │\n",
       "│            ┆ Demo      ┆         ┆           ┆   ┆           ┆           ┆           ┆ Demo_1968 │\n",
       "│            ┆           ┆         ┆           ┆   ┆           ┆           ┆           ┆ …         │\n",
       "│ …          ┆ …         ┆ …       ┆ …         ┆ … ┆ …         ┆ …         ┆ …         ┆ …         │\n",
       "│ 2024-W-FC- ┆ BJK Cup   ┆ null    ┆ 48        ┆ … ┆ 545       ┆ 562       ┆ 83        ┆ BJK Cup   │\n",
       "│ 2024-QUA   ┆ Qualifier ┆         ┆           ┆   ┆           ┆           ┆           ┆ Qualifier │\n",
       "│            ┆ s         ┆         ┆           ┆   ┆           ┆           ┆           ┆ s_2024_si │\n",
       "│            ┆           ┆         ┆           ┆   ┆           ┆           ┆           ┆ ngle…     │\n",
       "│ 2024-W-FC- ┆ BJK Cup   ┆ null    ┆ 48        ┆ … ┆ 883       ┆ 50        ┆ 1213      ┆ BJK Cup   │\n",
       "│ 2024-QUA   ┆ Qualifier ┆         ┆           ┆   ┆           ┆           ┆           ┆ Qualifier │\n",
       "│            ┆ s         ┆         ┆           ┆   ┆           ┆           ┆           ┆ s_2024_si │\n",
       "│            ┆           ┆         ┆           ┆   ┆           ┆           ┆           ┆ ngle…     │\n",
       "│ 2024-W-FC- ┆ BJK Cup   ┆ null    ┆ 48        ┆ … ┆ 56        ┆ 203       ┆ 377       ┆ BJK Cup   │\n",
       "│ 2024-QUA   ┆ Qualifier ┆         ┆           ┆   ┆           ┆           ┆           ┆ Qualifier │\n",
       "│            ┆ s         ┆         ┆           ┆   ┆           ┆           ┆           ┆ s_2024_si │\n",
       "│            ┆           ┆         ┆           ┆   ┆           ┆           ┆           ┆ ngle…     │\n",
       "│ 2024-W-FC- ┆ BJK Cup   ┆ null    ┆ 48        ┆ … ┆ 2920      ┆ 189       ┆ 393       ┆ BJK Cup   │\n",
       "│ 2024-QUA   ┆ Qualifier ┆         ┆           ┆   ┆           ┆           ┆           ┆ Qualifier │\n",
       "│            ┆ s         ┆         ┆           ┆   ┆           ┆           ┆           ┆ s_2024_si │\n",
       "│            ┆           ┆         ┆           ┆   ┆           ┆           ┆           ┆ ngle…     │\n",
       "│ 2024-W-FC- ┆ BJK Cup   ┆ null    ┆ 48        ┆ … ┆ 4870      ┆ 278       ┆ 266       ┆ BJK Cup   │\n",
       "│ 2024-QUA   ┆ Qualifier ┆         ┆           ┆   ┆           ┆           ┆           ┆ Qualifier │\n",
       "│            ┆ s         ┆         ┆           ┆   ┆           ┆           ┆           ┆ s_2024_si │\n",
       "│            ┆           ┆         ┆           ┆   ┆           ┆           ┆           ┆ ngle…     │\n",
       "└────────────┴───────────┴─────────┴───────────┴───┴───────────┴───────────┴───────────┴───────────┘"
      ]
     },
     "execution_count": 9,
     "metadata": {},
     "output_type": "execute_result"
    }
   ],
   "source": [
    "matches_singles_wta=import_tennis_matches(data_type=\"singles\",gender=\"wta\")\n",
    "\n",
    "matches_singles_wta = matches_singles_wta.with_columns(\n",
    "    (pl.col(\"tourney_name\") + \"_\" + pl.col(\"tourney_date\").dt.year().cast(pl.Utf8)+\"_singles_wta\").alias(\"tourney_name_date_matches\")\n",
    ")\n",
    "matches_singles_wta"
   ]
  },
  {
   "cell_type": "code",
   "execution_count": 10,
   "metadata": {},
   "outputs": [
    {
     "data": {
      "text/html": [
       "<div><style>\n",
       ".dataframe > thead > tr,\n",
       ".dataframe > tbody > tr {\n",
       "  text-align: right;\n",
       "  white-space: pre-wrap;\n",
       "}\n",
       "</style>\n",
       "<small>shape: (10_202, 6)</small><table border=\"1\" class=\"dataframe\"><thead><tr><th>tourney_name</th><th>surface</th><th>draw_size</th><th>tourney_level</th><th>tourney_date</th><th>tourney_name_date_matches</th></tr><tr><td>str</td><td>str</td><td>str</td><td>str</td><td>date</td><td>str</td></tr></thead><tbody><tr><td>&quot;Lucerne&quot;</td><td>&quot;Clay&quot;</td><td>&quot;28&quot;</td><td>&quot;W&quot;</td><td>1994-05-16</td><td>&quot;Lucerne_1994_singles_wta&quot;</td></tr><tr><td>&quot;Ojai&quot;</td><td>&quot;Hard&quot;</td><td>null</td><td>&quot;W&quot;</td><td>1974-04-22</td><td>&quot;Ojai_1974_singles_wta&quot;</td></tr><tr><td>&quot;Fed Cup G2 RRD: FIN vs BOT&quot;</td><td>&quot;Hard&quot;</td><td>&quot;4&quot;</td><td>&quot;D&quot;</td><td>2002-04-11</td><td>&quot;Fed Cup G2 RRD: FIN vs BOT_200…</td></tr><tr><td>&quot;Fed Cup WG W1: BEL vs AUT&quot;</td><td>&quot;Clay&quot;</td><td>&quot;4&quot;</td><td>&quot;D&quot;</td><td>2003-04-26</td><td>&quot;Fed Cup WG W1: BEL vs AUT_2003…</td></tr><tr><td>&quot;Fed Cup G2 RRB: LAT vs NOR&quot;</td><td>&quot;Clay&quot;</td><td>&quot;4&quot;</td><td>&quot;D&quot;</td><td>2012-04-20</td><td>&quot;Fed Cup G2 RRB: LAT vs NOR_201…</td></tr><tr><td>&hellip;</td><td>&hellip;</td><td>&hellip;</td><td>&hellip;</td><td>&hellip;</td><td>&hellip;</td></tr><tr><td>&quot;Waikoloa&quot;</td><td>&quot;Hard&quot;</td><td>&quot;32&quot;</td><td>&quot;T4&quot;</td><td>2002-09-10</td><td>&quot;Waikoloa_2002_singles_wta&quot;</td></tr><tr><td>&quot;Fed Cup G2 RRA: IRQ vs POC&quot;</td><td>&quot;Hard&quot;</td><td>&quot;4&quot;</td><td>&quot;D&quot;</td><td>2000-04-27</td><td>&quot;Fed Cup G2 RRA: IRQ vs POC_200…</td></tr><tr><td>&quot;Fed Cup G2 RRB: INA vs PAK&quot;</td><td>&quot;Hard&quot;</td><td>&quot;4&quot;</td><td>&quot;D&quot;</td><td>2013-02-05</td><td>&quot;Fed Cup G2 RRB: INA vs PAK_201…</td></tr><tr><td>&quot;Ginny Championships&quot;</td><td>&quot;Hard&quot;</td><td>&quot;14&quot;</td><td>&quot;W&quot;</td><td>1985-01-02</td><td>&quot;Ginny Championships_1985_singl…</td></tr><tr><td>&quot;Fed Cup G1 RR: GEO vs BUL&quot;</td><td>&quot;Hard&quot;</td><td>&quot;2&quot;</td><td>&quot;D&quot;</td><td>2018-02-08</td><td>&quot;Fed Cup G1 RR: GEO vs BUL_2018…</td></tr></tbody></table></div>"
      ],
      "text/plain": [
       "shape: (10_202, 6)\n",
       "┌──────────────────────┬─────────┬───────────┬───────────────┬──────────────┬──────────────────────┐\n",
       "│ tourney_name         ┆ surface ┆ draw_size ┆ tourney_level ┆ tourney_date ┆ tourney_name_date_ma │\n",
       "│ ---                  ┆ ---     ┆ ---       ┆ ---           ┆ ---          ┆ tches                │\n",
       "│ str                  ┆ str     ┆ str       ┆ str           ┆ date         ┆ ---                  │\n",
       "│                      ┆         ┆           ┆               ┆              ┆ str                  │\n",
       "╞══════════════════════╪═════════╪═══════════╪═══════════════╪══════════════╪══════════════════════╡\n",
       "│ Lucerne              ┆ Clay    ┆ 28        ┆ W             ┆ 1994-05-16   ┆ Lucerne_1994_singles │\n",
       "│                      ┆         ┆           ┆               ┆              ┆ _wta                 │\n",
       "│ Ojai                 ┆ Hard    ┆ null      ┆ W             ┆ 1974-04-22   ┆ Ojai_1974_singles_wt │\n",
       "│                      ┆         ┆           ┆               ┆              ┆ a                    │\n",
       "│ Fed Cup G2 RRD: FIN  ┆ Hard    ┆ 4         ┆ D             ┆ 2002-04-11   ┆ Fed Cup G2 RRD: FIN  │\n",
       "│ vs BOT               ┆         ┆           ┆               ┆              ┆ vs BOT_200…          │\n",
       "│ Fed Cup WG W1: BEL   ┆ Clay    ┆ 4         ┆ D             ┆ 2003-04-26   ┆ Fed Cup WG W1: BEL   │\n",
       "│ vs AUT               ┆         ┆           ┆               ┆              ┆ vs AUT_2003…         │\n",
       "│ Fed Cup G2 RRB: LAT  ┆ Clay    ┆ 4         ┆ D             ┆ 2012-04-20   ┆ Fed Cup G2 RRB: LAT  │\n",
       "│ vs NOR               ┆         ┆           ┆               ┆              ┆ vs NOR_201…          │\n",
       "│ …                    ┆ …       ┆ …         ┆ …             ┆ …            ┆ …                    │\n",
       "│ Waikoloa             ┆ Hard    ┆ 32        ┆ T4            ┆ 2002-09-10   ┆ Waikoloa_2002_single │\n",
       "│                      ┆         ┆           ┆               ┆              ┆ s_wta                │\n",
       "│ Fed Cup G2 RRA: IRQ  ┆ Hard    ┆ 4         ┆ D             ┆ 2000-04-27   ┆ Fed Cup G2 RRA: IRQ  │\n",
       "│ vs POC               ┆         ┆           ┆               ┆              ┆ vs POC_200…          │\n",
       "│ Fed Cup G2 RRB: INA  ┆ Hard    ┆ 4         ┆ D             ┆ 2013-02-05   ┆ Fed Cup G2 RRB: INA  │\n",
       "│ vs PAK               ┆         ┆           ┆               ┆              ┆ vs PAK_201…          │\n",
       "│ Ginny Championships  ┆ Hard    ┆ 14        ┆ W             ┆ 1985-01-02   ┆ Ginny Championships_ │\n",
       "│                      ┆         ┆           ┆               ┆              ┆ 1985_singl…          │\n",
       "│ Fed Cup G1 RR: GEO   ┆ Hard    ┆ 2         ┆ D             ┆ 2018-02-08   ┆ Fed Cup G1 RR: GEO   │\n",
       "│ vs BUL               ┆         ┆           ┆               ┆              ┆ vs BUL_2018…         │\n",
       "└──────────────────────┴─────────┴───────────┴───────────────┴──────────────┴──────────────────────┘"
      ]
     },
     "execution_count": 10,
     "metadata": {},
     "output_type": "execute_result"
    }
   ],
   "source": [
    "tourney_single_matches_wta=matches_singles_wta[['tourney_name', 'surface', 'draw_size', 'tourney_level', 'tourney_date', 'tourney_name_date_matches']]\n",
    "tourney_single_matches_wta=tourney_single_matches_wta.unique('tourney_name_date_matches')\n",
    "tourney_single_matches_wta"
   ]
  },
  {
   "cell_type": "code",
   "execution_count": 11,
   "metadata": {},
   "outputs": [
    {
     "data": {
      "text/html": [
       "<div><style>\n",
       ".dataframe > thead > tr,\n",
       ".dataframe > tbody > tr {\n",
       "  text-align: right;\n",
       "  white-space: pre-wrap;\n",
       "}\n",
       "</style>\n",
       "<small>shape: (216_430, 50)</small><table border=\"1\" class=\"dataframe\"><thead><tr><th>tourney_id</th><th>tourney_name</th><th>surface</th><th>draw_size</th><th>tourney_level</th><th>tourney_date</th><th>match_num</th><th>winner_id</th><th>winner_seed</th><th>winner_entry</th><th>winner_name</th><th>winner_hand</th><th>winner_ht</th><th>winner_ioc</th><th>winner_age</th><th>loser_id</th><th>loser_seed</th><th>loser_entry</th><th>loser_name</th><th>loser_hand</th><th>loser_ht</th><th>loser_ioc</th><th>loser_age</th><th>score</th><th>best_of</th><th>round</th><th>minutes</th><th>w_ace</th><th>w_df</th><th>w_svpt</th><th>w_1stIn</th><th>w_1stWon</th><th>w_2ndWon</th><th>w_SvGms</th><th>w_bpSaved</th><th>w_bpFaced</th><th>l_ace</th><th>l_df</th><th>l_svpt</th><th>l_1stIn</th><th>l_1stWon</th><th>l_2ndWon</th><th>l_SvGms</th><th>l_bpSaved</th><th>l_bpFaced</th><th>winner_rank</th><th>winner_rank_points</th><th>loser_rank</th><th>loser_rank_points</th><th>tourney_name_date_matches</th></tr><tr><td>str</td><td>str</td><td>str</td><td>i64</td><td>str</td><td>date</td><td>i64</td><td>str</td><td>str</td><td>str</td><td>str</td><td>str</td><td>i64</td><td>str</td><td>f64</td><td>str</td><td>str</td><td>str</td><td>str</td><td>str</td><td>i64</td><td>str</td><td>f64</td><td>str</td><td>i64</td><td>str</td><td>str</td><td>str</td><td>str</td><td>str</td><td>str</td><td>str</td><td>str</td><td>str</td><td>str</td><td>str</td><td>str</td><td>str</td><td>str</td><td>str</td><td>str</td><td>str</td><td>str</td><td>str</td><td>str</td><td>str</td><td>str</td><td>str</td><td>str</td><td>str</td></tr></thead><tbody><tr><td>&quot;1978-301&quot;</td><td>&quot;Auckland CH&quot;</td><td>&quot;Hard&quot;</td><td>32</td><td>&quot;C&quot;</td><td>1978-01-08</td><td>270</td><td>&quot;100373&quot;</td><td>null</td><td>null</td><td>&quot;Christopher Sylvan&quot;</td><td>&quot;R&quot;</td><td>null</td><td>&quot;USA&quot;</td><td>22.8</td><td>&quot;107618&quot;</td><td>null</td><td>null</td><td>&quot;Malcolm Elley&quot;</td><td>&quot;R&quot;</td><td>null</td><td>&quot;NZL&quot;</td><td>null</td><td>&quot;6-1 6-4&quot;</td><td>3</td><td>&quot;R32&quot;</td><td>null</td><td>null</td><td>null</td><td>null</td><td>null</td><td>null</td><td>null</td><td>null</td><td>null</td><td>null</td><td>null</td><td>null</td><td>null</td><td>null</td><td>null</td><td>null</td><td>null</td><td>null</td><td>null</td><td>&quot;232&quot;</td><td>null</td><td>null</td><td>null</td><td>&quot;Auckland CH_1978_qualifiers_ch…</td></tr><tr><td>&quot;1978-301&quot;</td><td>&quot;Auckland CH&quot;</td><td>&quot;Hard&quot;</td><td>32</td><td>&quot;C&quot;</td><td>1978-01-08</td><td>271</td><td>&quot;109807&quot;</td><td>null</td><td>null</td><td>&quot;Garry Slater&quot;</td><td>&quot;R&quot;</td><td>null</td><td>&quot;NZL&quot;</td><td>null</td><td>&quot;109808&quot;</td><td>null</td><td>null</td><td>&quot;Graham Oliver&quot;</td><td>&quot;U&quot;</td><td>null</td><td>&quot;NZL&quot;</td><td>null</td><td>&quot;6-4 6-4&quot;</td><td>3</td><td>&quot;R32&quot;</td><td>null</td><td>null</td><td>null</td><td>null</td><td>null</td><td>null</td><td>null</td><td>null</td><td>null</td><td>null</td><td>null</td><td>null</td><td>null</td><td>null</td><td>null</td><td>null</td><td>null</td><td>null</td><td>null</td><td>null</td><td>null</td><td>null</td><td>null</td><td>&quot;Auckland CH_1978_qualifiers_ch…</td></tr><tr><td>&quot;1978-301&quot;</td><td>&quot;Auckland CH&quot;</td><td>&quot;Hard&quot;</td><td>32</td><td>&quot;C&quot;</td><td>1978-01-08</td><td>272</td><td>&quot;109810&quot;</td><td>null</td><td>null</td><td>&quot;Dave Simmonds&quot;</td><td>&quot;U&quot;</td><td>null</td><td>&quot;NZL&quot;</td><td>null</td><td>&quot;208999&quot;</td><td>null</td><td>null</td><td>&quot;G Dingwell&quot;</td><td>&quot;U&quot;</td><td>null</td><td>&quot;UNK&quot;</td><td>null</td><td>&quot;6-2 6-3&quot;</td><td>3</td><td>&quot;R32&quot;</td><td>null</td><td>null</td><td>null</td><td>null</td><td>null</td><td>null</td><td>null</td><td>null</td><td>null</td><td>null</td><td>null</td><td>null</td><td>null</td><td>null</td><td>null</td><td>null</td><td>null</td><td>null</td><td>null</td><td>null</td><td>null</td><td>null</td><td>null</td><td>&quot;Auckland CH_1978_qualifiers_ch…</td></tr><tr><td>&quot;1978-301&quot;</td><td>&quot;Auckland CH&quot;</td><td>&quot;Hard&quot;</td><td>32</td><td>&quot;C&quot;</td><td>1978-01-08</td><td>273</td><td>&quot;100638&quot;</td><td>null</td><td>null</td><td>&quot;David Mustard&quot;</td><td>&quot;L&quot;</td><td>180</td><td>&quot;NZL&quot;</td><td>18.0</td><td>&quot;107985&quot;</td><td>null</td><td>null</td><td>&quot;Peter Langsford&quot;</td><td>&quot;R&quot;</td><td>null</td><td>&quot;AUS&quot;</td><td>23.6</td><td>&quot;7-5 7-5&quot;</td><td>3</td><td>&quot;R32&quot;</td><td>null</td><td>null</td><td>null</td><td>null</td><td>null</td><td>null</td><td>null</td><td>null</td><td>null</td><td>null</td><td>null</td><td>null</td><td>null</td><td>null</td><td>null</td><td>null</td><td>null</td><td>null</td><td>null</td><td>null</td><td>null</td><td>&quot;332&quot;</td><td>null</td><td>&quot;Auckland CH_1978_qualifiers_ch…</td></tr><tr><td>&quot;1978-301&quot;</td><td>&quot;Auckland CH&quot;</td><td>&quot;Hard&quot;</td><td>32</td><td>&quot;C&quot;</td><td>1978-01-08</td><td>274</td><td>&quot;107301&quot;</td><td>null</td><td>null</td><td>&quot;Jay Harvey&quot;</td><td>&quot;R&quot;</td><td>null</td><td>&quot;AUS&quot;</td><td>null</td><td>&quot;100316&quot;</td><td>null</td><td>null</td><td>&quot;Scott Carnahan&quot;</td><td>&quot;R&quot;</td><td>null</td><td>&quot;USA&quot;</td><td>24.2</td><td>&quot;6-4 6-4&quot;</td><td>3</td><td>&quot;R32&quot;</td><td>null</td><td>null</td><td>null</td><td>null</td><td>null</td><td>null</td><td>null</td><td>null</td><td>null</td><td>null</td><td>null</td><td>null</td><td>null</td><td>null</td><td>null</td><td>null</td><td>null</td><td>null</td><td>null</td><td>null</td><td>null</td><td>&quot;232&quot;</td><td>null</td><td>&quot;Auckland CH_1978_qualifiers_ch…</td></tr><tr><td>&hellip;</td><td>&hellip;</td><td>&hellip;</td><td>&hellip;</td><td>&hellip;</td><td>&hellip;</td><td>&hellip;</td><td>&hellip;</td><td>&hellip;</td><td>&hellip;</td><td>&hellip;</td><td>&hellip;</td><td>&hellip;</td><td>&hellip;</td><td>&hellip;</td><td>&hellip;</td><td>&hellip;</td><td>&hellip;</td><td>&hellip;</td><td>&hellip;</td><td>&hellip;</td><td>&hellip;</td><td>&hellip;</td><td>&hellip;</td><td>&hellip;</td><td>&hellip;</td><td>&hellip;</td><td>&hellip;</td><td>&hellip;</td><td>&hellip;</td><td>&hellip;</td><td>&hellip;</td><td>&hellip;</td><td>&hellip;</td><td>&hellip;</td><td>&hellip;</td><td>&hellip;</td><td>&hellip;</td><td>&hellip;</td><td>&hellip;</td><td>&hellip;</td><td>&hellip;</td><td>&hellip;</td><td>&hellip;</td><td>&hellip;</td><td>&hellip;</td><td>&hellip;</td><td>&hellip;</td><td>&hellip;</td><td>&hellip;</td></tr><tr><td>&quot;2024-2869&quot;</td><td>&quot;Skopje CH&quot;</td><td>&quot;Clay&quot;</td><td>32</td><td>&quot;C&quot;</td><td>2024-05-20</td><td>241</td><td>&quot;210053&quot;</td><td>&quot;8&quot;</td><td>null</td><td>&quot;Luka Mikrut&quot;</td><td>&quot;U&quot;</td><td>null</td><td>&quot;CRO&quot;</td><td>20.0</td><td>&quot;103872&quot;</td><td>null</td><td>&quot;WC&quot;</td><td>&quot;Dimitar Grabuloski&quot;</td><td>&quot;U&quot;</td><td>null</td><td>&quot;MKD&quot;</td><td>42.5</td><td>&quot;6-3 6-4&quot;</td><td>3</td><td>&quot;Q1&quot;</td><td>&quot;87&quot;</td><td>&quot;4&quot;</td><td>&quot;6&quot;</td><td>&quot;64&quot;</td><td>&quot;31&quot;</td><td>&quot;24&quot;</td><td>&quot;18&quot;</td><td>&quot;10&quot;</td><td>&quot;2&quot;</td><td>&quot;3&quot;</td><td>&quot;2&quot;</td><td>&quot;5&quot;</td><td>&quot;78&quot;</td><td>&quot;43&quot;</td><td>&quot;30&quot;</td><td>&quot;13&quot;</td><td>&quot;9&quot;</td><td>&quot;6&quot;</td><td>&quot;9&quot;</td><td>&quot;511&quot;</td><td>&quot;76&quot;</td><td>null</td><td>null</td><td>&quot;Skopje CH_2024_qualifiers_chal…</td></tr><tr><td>&quot;2024-2869&quot;</td><td>&quot;Skopje CH&quot;</td><td>&quot;Clay&quot;</td><td>32</td><td>&quot;C&quot;</td><td>2024-05-20</td><td>240</td><td>&quot;208843&quot;</td><td>&quot;5&quot;</td><td>null</td><td>&quot;Jerome Kym&quot;</td><td>&quot;R&quot;</td><td>198</td><td>&quot;SUI&quot;</td><td>21.2</td><td>&quot;210078&quot;</td><td>null</td><td>&quot;WC&quot;</td><td>&quot;Berk Bugarikj &quot;</td><td>&quot;U&quot;</td><td>null</td><td>&quot;MKD&quot;</td><td>20.8</td><td>&quot;7-5 6-0&quot;</td><td>3</td><td>&quot;Q1&quot;</td><td>&quot;77&quot;</td><td>&quot;5&quot;</td><td>&quot;0&quot;</td><td>&quot;44&quot;</td><td>&quot;29&quot;</td><td>&quot;25&quot;</td><td>&quot;9&quot;</td><td>&quot;9&quot;</td><td>&quot;1&quot;</td><td>&quot;2&quot;</td><td>&quot;0&quot;</td><td>&quot;3&quot;</td><td>&quot;60&quot;</td><td>&quot;41&quot;</td><td>&quot;21&quot;</td><td>&quot;8&quot;</td><td>&quot;9&quot;</td><td>&quot;2&quot;</td><td>&quot;7&quot;</td><td>&quot;470&quot;</td><td>&quot;92&quot;</td><td>null</td><td>null</td><td>&quot;Skopje CH_2024_qualifiers_chal…</td></tr><tr><td>&quot;2024-2869&quot;</td><td>&quot;Skopje CH&quot;</td><td>&quot;Clay&quot;</td><td>32</td><td>&quot;C&quot;</td><td>2024-05-20</td><td>239</td><td>&quot;207484&quot;</td><td>&quot;12&quot;</td><td>null</td><td>&quot;Neil Oberleitner&quot;</td><td>&quot;R&quot;</td><td>null</td><td>&quot;AUT&quot;</td><td>24.7</td><td>&quot;200574&quot;</td><td>null</td><td>&quot;Alt&quot;</td><td>&quot;Alexander Donski&quot;</td><td>&quot;R&quot;</td><td>188</td><td>&quot;CAN&quot;</td><td>25.8</td><td>&quot;6-4 6-3&quot;</td><td>3</td><td>&quot;Q1&quot;</td><td>&quot;82&quot;</td><td>&quot;5&quot;</td><td>&quot;5&quot;</td><td>&quot;54&quot;</td><td>&quot;33&quot;</td><td>&quot;27&quot;</td><td>&quot;13&quot;</td><td>&quot;9&quot;</td><td>&quot;2&quot;</td><td>&quot;2&quot;</td><td>&quot;4&quot;</td><td>&quot;6&quot;</td><td>&quot;72&quot;</td><td>&quot;34&quot;</td><td>&quot;26&quot;</td><td>&quot;15&quot;</td><td>&quot;10&quot;</td><td>&quot;3&quot;</td><td>&quot;6&quot;</td><td>&quot;636&quot;</td><td>&quot;53&quot;</td><td>&quot;955&quot;</td><td>&quot;15&quot;</td><td>&quot;Skopje CH_2024_qualifiers_chal…</td></tr><tr><td>&quot;2024-2869&quot;</td><td>&quot;Skopje CH&quot;</td><td>&quot;Clay&quot;</td><td>32</td><td>&quot;C&quot;</td><td>2024-05-20</td><td>238</td><td>&quot;144970&quot;</td><td>&quot;6&quot;</td><td>null</td><td>&quot;Constantin Bittoun Kouzmine&quot;</td><td>&quot;L&quot;</td><td>null</td><td>&quot;FRA&quot;</td><td>25.3</td><td>&quot;212200&quot;</td><td>null</td><td>&quot;WC&quot;</td><td>&quot;Amar Huseinovic&quot;</td><td>&quot;U&quot;</td><td>null</td><td>&quot;MKD&quot;</td><td>null</td><td>&quot;6-0 6-1&quot;</td><td>3</td><td>&quot;Q1&quot;</td><td>&quot;59&quot;</td><td>&quot;0&quot;</td><td>&quot;1&quot;</td><td>&quot;43&quot;</td><td>&quot;32&quot;</td><td>&quot;26&quot;</td><td>&quot;5&quot;</td><td>&quot;7&quot;</td><td>&quot;4&quot;</td><td>&quot;4&quot;</td><td>&quot;2&quot;</td><td>&quot;0&quot;</td><td>&quot;36&quot;</td><td>&quot;22&quot;</td><td>&quot;9&quot;</td><td>&quot;4&quot;</td><td>&quot;6&quot;</td><td>&quot;0&quot;</td><td>&quot;5&quot;</td><td>&quot;487&quot;</td><td>&quot;87&quot;</td><td>null</td><td>null</td><td>&quot;Skopje CH_2024_qualifiers_chal…</td></tr><tr><td>&quot;2024-2869&quot;</td><td>&quot;Skopje CH&quot;</td><td>&quot;Clay&quot;</td><td>32</td><td>&quot;C&quot;</td><td>2024-05-20</td><td>237</td><td>&quot;202342&quot;</td><td>null</td><td>null</td><td>&quot;Ryan Seggerman&quot;</td><td>&quot;U&quot;</td><td>null</td><td>&quot;USA&quot;</td><td>24.7</td><td>&quot;106254&quot;</td><td>null</td><td>&quot;Alt&quot;</td><td>&quot;Calum Puttergill&quot;</td><td>&quot;U&quot;</td><td>null</td><td>&quot;AUS&quot;</td><td>30.5</td><td>&quot;7-5 6-0&quot;</td><td>3</td><td>&quot;Q1&quot;</td><td>&quot;56&quot;</td><td>&quot;10&quot;</td><td>&quot;1&quot;</td><td>&quot;44&quot;</td><td>&quot;28&quot;</td><td>&quot;22&quot;</td><td>&quot;12&quot;</td><td>&quot;9&quot;</td><td>&quot;0&quot;</td><td>&quot;1&quot;</td><td>&quot;0&quot;</td><td>&quot;9&quot;</td><td>&quot;52&quot;</td><td>&quot;28&quot;</td><td>&quot;19&quot;</td><td>&quot;7&quot;</td><td>&quot;9&quot;</td><td>&quot;3&quot;</td><td>&quot;8&quot;</td><td>&quot;555&quot;</td><td>&quot;67&quot;</td><td>&quot;880&quot;</td><td>&quot;20&quot;</td><td>&quot;Skopje CH_2024_qualifiers_chal…</td></tr></tbody></table></div>"
      ],
      "text/plain": [
       "shape: (216_430, 50)\n",
       "┌────────────┬───────────┬─────────┬───────────┬───┬───────────┬───────────┬───────────┬───────────┐\n",
       "│ tourney_id ┆ tourney_n ┆ surface ┆ draw_size ┆ … ┆ winner_ra ┆ loser_ran ┆ loser_ran ┆ tourney_n │\n",
       "│ ---        ┆ ame       ┆ ---     ┆ ---       ┆   ┆ nk_points ┆ k         ┆ k_points  ┆ ame_date_ │\n",
       "│ str        ┆ ---       ┆ str     ┆ i64       ┆   ┆ ---       ┆ ---       ┆ ---       ┆ matches   │\n",
       "│            ┆ str       ┆         ┆           ┆   ┆ str       ┆ str       ┆ str       ┆ ---       │\n",
       "│            ┆           ┆         ┆           ┆   ┆           ┆           ┆           ┆ str       │\n",
       "╞════════════╪═══════════╪═════════╪═══════════╪═══╪═══════════╪═══════════╪═══════════╪═══════════╡\n",
       "│ 1978-301   ┆ Auckland  ┆ Hard    ┆ 32        ┆ … ┆ null      ┆ null      ┆ null      ┆ Auckland  │\n",
       "│            ┆ CH        ┆         ┆           ┆   ┆           ┆           ┆           ┆ CH_1978_q │\n",
       "│            ┆           ┆         ┆           ┆   ┆           ┆           ┆           ┆ ualifiers │\n",
       "│            ┆           ┆         ┆           ┆   ┆           ┆           ┆           ┆ _ch…      │\n",
       "│ 1978-301   ┆ Auckland  ┆ Hard    ┆ 32        ┆ … ┆ null      ┆ null      ┆ null      ┆ Auckland  │\n",
       "│            ┆ CH        ┆         ┆           ┆   ┆           ┆           ┆           ┆ CH_1978_q │\n",
       "│            ┆           ┆         ┆           ┆   ┆           ┆           ┆           ┆ ualifiers │\n",
       "│            ┆           ┆         ┆           ┆   ┆           ┆           ┆           ┆ _ch…      │\n",
       "│ 1978-301   ┆ Auckland  ┆ Hard    ┆ 32        ┆ … ┆ null      ┆ null      ┆ null      ┆ Auckland  │\n",
       "│            ┆ CH        ┆         ┆           ┆   ┆           ┆           ┆           ┆ CH_1978_q │\n",
       "│            ┆           ┆         ┆           ┆   ┆           ┆           ┆           ┆ ualifiers │\n",
       "│            ┆           ┆         ┆           ┆   ┆           ┆           ┆           ┆ _ch…      │\n",
       "│ 1978-301   ┆ Auckland  ┆ Hard    ┆ 32        ┆ … ┆ null      ┆ 332       ┆ null      ┆ Auckland  │\n",
       "│            ┆ CH        ┆         ┆           ┆   ┆           ┆           ┆           ┆ CH_1978_q │\n",
       "│            ┆           ┆         ┆           ┆   ┆           ┆           ┆           ┆ ualifiers │\n",
       "│            ┆           ┆         ┆           ┆   ┆           ┆           ┆           ┆ _ch…      │\n",
       "│ 1978-301   ┆ Auckland  ┆ Hard    ┆ 32        ┆ … ┆ null      ┆ 232       ┆ null      ┆ Auckland  │\n",
       "│            ┆ CH        ┆         ┆           ┆   ┆           ┆           ┆           ┆ CH_1978_q │\n",
       "│            ┆           ┆         ┆           ┆   ┆           ┆           ┆           ┆ ualifiers │\n",
       "│            ┆           ┆         ┆           ┆   ┆           ┆           ┆           ┆ _ch…      │\n",
       "│ …          ┆ …         ┆ …       ┆ …         ┆ … ┆ …         ┆ …         ┆ …         ┆ …         │\n",
       "│ 2024-2869  ┆ Skopje CH ┆ Clay    ┆ 32        ┆ … ┆ 76        ┆ null      ┆ null      ┆ Skopje    │\n",
       "│            ┆           ┆         ┆           ┆   ┆           ┆           ┆           ┆ CH_2024_q │\n",
       "│            ┆           ┆         ┆           ┆   ┆           ┆           ┆           ┆ ualifiers │\n",
       "│            ┆           ┆         ┆           ┆   ┆           ┆           ┆           ┆ _chal…    │\n",
       "│ 2024-2869  ┆ Skopje CH ┆ Clay    ┆ 32        ┆ … ┆ 92        ┆ null      ┆ null      ┆ Skopje    │\n",
       "│            ┆           ┆         ┆           ┆   ┆           ┆           ┆           ┆ CH_2024_q │\n",
       "│            ┆           ┆         ┆           ┆   ┆           ┆           ┆           ┆ ualifiers │\n",
       "│            ┆           ┆         ┆           ┆   ┆           ┆           ┆           ┆ _chal…    │\n",
       "│ 2024-2869  ┆ Skopje CH ┆ Clay    ┆ 32        ┆ … ┆ 53        ┆ 955       ┆ 15        ┆ Skopje    │\n",
       "│            ┆           ┆         ┆           ┆   ┆           ┆           ┆           ┆ CH_2024_q │\n",
       "│            ┆           ┆         ┆           ┆   ┆           ┆           ┆           ┆ ualifiers │\n",
       "│            ┆           ┆         ┆           ┆   ┆           ┆           ┆           ┆ _chal…    │\n",
       "│ 2024-2869  ┆ Skopje CH ┆ Clay    ┆ 32        ┆ … ┆ 87        ┆ null      ┆ null      ┆ Skopje    │\n",
       "│            ┆           ┆         ┆           ┆   ┆           ┆           ┆           ┆ CH_2024_q │\n",
       "│            ┆           ┆         ┆           ┆   ┆           ┆           ┆           ┆ ualifiers │\n",
       "│            ┆           ┆         ┆           ┆   ┆           ┆           ┆           ┆ _chal…    │\n",
       "│ 2024-2869  ┆ Skopje CH ┆ Clay    ┆ 32        ┆ … ┆ 67        ┆ 880       ┆ 20        ┆ Skopje    │\n",
       "│            ┆           ┆         ┆           ┆   ┆           ┆           ┆           ┆ CH_2024_q │\n",
       "│            ┆           ┆         ┆           ┆   ┆           ┆           ┆           ┆ ualifiers │\n",
       "│            ┆           ┆         ┆           ┆   ┆           ┆           ┆           ┆ _chal…    │\n",
       "└────────────┴───────────┴─────────┴───────────┴───┴───────────┴───────────┴───────────┴───────────┘"
      ]
     },
     "execution_count": 11,
     "metadata": {},
     "output_type": "execute_result"
    }
   ],
   "source": [
    "matches_qualifiers_challengers=import_tennis_matches(data_type=\"qualifiers_challengers\",gender=\"atp\")\n",
    "\n",
    "matches_qualifiers_challengers = matches_qualifiers_challengers.with_columns(\n",
    "    (pl.col(\"tourney_name\") + \"_\" + pl.col(\"tourney_date\").dt.year().cast(pl.Utf8)+\"_qualifiers_challengers\").alias(\"tourney_name_date_matches\")\n",
    ")\n",
    "matches_qualifiers_challengers\n"
   ]
  },
  {
   "cell_type": "code",
   "execution_count": 12,
   "metadata": {},
   "outputs": [
    {
     "data": {
      "text/html": [
       "<div><style>\n",
       ".dataframe > thead > tr,\n",
       ".dataframe > tbody > tr {\n",
       "  text-align: right;\n",
       "  white-space: pre-wrap;\n",
       "}\n",
       "</style>\n",
       "<small>shape: (6_191, 6)</small><table border=\"1\" class=\"dataframe\"><thead><tr><th>tourney_name</th><th>surface</th><th>draw_size</th><th>tourney_level</th><th>tourney_date</th><th>tourney_name_date_matches</th></tr><tr><td>str</td><td>str</td><td>i64</td><td>str</td><td>date</td><td>str</td></tr></thead><tbody><tr><td>&quot;Heilbronn CH&quot;</td><td>&quot;Clay&quot;</td><td>32</td><td>&quot;C&quot;</td><td>2017-05-15</td><td>&quot;Heilbronn CH_2017_qualifiers_c…</td></tr><tr><td>&quot;Szczecin CH&quot;</td><td>&quot;Clay&quot;</td><td>32</td><td>&quot;C&quot;</td><td>2007-09-17</td><td>&quot;Szczecin CH_2007_qualifiers_ch…</td></tr><tr><td>&quot;Nagoya CH&quot;</td><td>&quot;Hard&quot;</td><td>32</td><td>&quot;C&quot;</td><td>1984-05-07</td><td>&quot;Nagoya CH_1984_qualifiers_chal…</td></tr><tr><td>&quot;Venice CH&quot;</td><td>&quot;Clay&quot;</td><td>32</td><td>&quot;C&quot;</td><td>1996-07-01</td><td>&quot;Venice CH_1996_qualifiers_chal…</td></tr><tr><td>&quot;Campinas CH&quot;</td><td>&quot;Clay&quot;</td><td>32</td><td>&quot;C&quot;</td><td>1980-09-08</td><td>&quot;Campinas CH_1980_qualifiers_ch…</td></tr><tr><td>&hellip;</td><td>&hellip;</td><td>&hellip;</td><td>&hellip;</td><td>&hellip;</td><td>&hellip;</td></tr><tr><td>&quot;Belgrade CH&quot;</td><td>&quot;Carpet&quot;</td><td>32</td><td>&quot;C&quot;</td><td>2005-02-07</td><td>&quot;Belgrade CH_2005_qualifiers_ch…</td></tr><tr><td>&quot;Riemerling CH&quot;</td><td>&quot;Clay&quot;</td><td>32</td><td>&quot;C&quot;</td><td>1993-04-19</td><td>&quot;Riemerling CH_1993_qualifiers_…</td></tr><tr><td>&quot;Segovia CH&quot;</td><td>&quot;Hard&quot;</td><td>32</td><td>&quot;C&quot;</td><td>1995-08-07</td><td>&quot;Segovia CH_1995_qualifiers_cha…</td></tr><tr><td>&quot;Marrakech CH&quot;</td><td>&quot;Clay&quot;</td><td>32</td><td>&quot;C&quot;</td><td>2009-03-16</td><td>&quot;Marrakech CH_2009_qualifiers_c…</td></tr><tr><td>&quot;Astana CH&quot;</td><td>&quot;Hard&quot;</td><td>32</td><td>&quot;C&quot;</td><td>2014-02-17</td><td>&quot;Astana CH_2014_qualifiers_chal…</td></tr></tbody></table></div>"
      ],
      "text/plain": [
       "shape: (6_191, 6)\n",
       "┌───────────────┬─────────┬───────────┬───────────────┬──────────────┬─────────────────────────────┐\n",
       "│ tourney_name  ┆ surface ┆ draw_size ┆ tourney_level ┆ tourney_date ┆ tourney_name_date_matches   │\n",
       "│ ---           ┆ ---     ┆ ---       ┆ ---           ┆ ---          ┆ ---                         │\n",
       "│ str           ┆ str     ┆ i64       ┆ str           ┆ date         ┆ str                         │\n",
       "╞═══════════════╪═════════╪═══════════╪═══════════════╪══════════════╪═════════════════════════════╡\n",
       "│ Heilbronn CH  ┆ Clay    ┆ 32        ┆ C             ┆ 2017-05-15   ┆ Heilbronn                   │\n",
       "│               ┆         ┆           ┆               ┆              ┆ CH_2017_qualifiers_c…       │\n",
       "│ Szczecin CH   ┆ Clay    ┆ 32        ┆ C             ┆ 2007-09-17   ┆ Szczecin                    │\n",
       "│               ┆         ┆           ┆               ┆              ┆ CH_2007_qualifiers_ch…      │\n",
       "│ Nagoya CH     ┆ Hard    ┆ 32        ┆ C             ┆ 1984-05-07   ┆ Nagoya                      │\n",
       "│               ┆         ┆           ┆               ┆              ┆ CH_1984_qualifiers_chal…    │\n",
       "│ Venice CH     ┆ Clay    ┆ 32        ┆ C             ┆ 1996-07-01   ┆ Venice                      │\n",
       "│               ┆         ┆           ┆               ┆              ┆ CH_1996_qualifiers_chal…    │\n",
       "│ Campinas CH   ┆ Clay    ┆ 32        ┆ C             ┆ 1980-09-08   ┆ Campinas                    │\n",
       "│               ┆         ┆           ┆               ┆              ┆ CH_1980_qualifiers_ch…      │\n",
       "│ …             ┆ …       ┆ …         ┆ …             ┆ …            ┆ …                           │\n",
       "│ Belgrade CH   ┆ Carpet  ┆ 32        ┆ C             ┆ 2005-02-07   ┆ Belgrade                    │\n",
       "│               ┆         ┆           ┆               ┆              ┆ CH_2005_qualifiers_ch…      │\n",
       "│ Riemerling CH ┆ Clay    ┆ 32        ┆ C             ┆ 1993-04-19   ┆ Riemerling                  │\n",
       "│               ┆         ┆           ┆               ┆              ┆ CH_1993_qualifiers_…        │\n",
       "│ Segovia CH    ┆ Hard    ┆ 32        ┆ C             ┆ 1995-08-07   ┆ Segovia                     │\n",
       "│               ┆         ┆           ┆               ┆              ┆ CH_1995_qualifiers_cha…     │\n",
       "│ Marrakech CH  ┆ Clay    ┆ 32        ┆ C             ┆ 2009-03-16   ┆ Marrakech                   │\n",
       "│               ┆         ┆           ┆               ┆              ┆ CH_2009_qualifiers_c…       │\n",
       "│ Astana CH     ┆ Hard    ┆ 32        ┆ C             ┆ 2014-02-17   ┆ Astana                      │\n",
       "│               ┆         ┆           ┆               ┆              ┆ CH_2014_qualifiers_chal…    │\n",
       "└───────────────┴─────────┴───────────┴───────────────┴──────────────┴─────────────────────────────┘"
      ]
     },
     "execution_count": 12,
     "metadata": {},
     "output_type": "execute_result"
    }
   ],
   "source": [
    "tourney_qualifiers_challengers=matches_qualifiers_challengers[['tourney_name', 'surface', 'draw_size', 'tourney_level', 'tourney_date', 'tourney_name_date_matches']]\n",
    "tourney_qualifiers_challengers=tourney_qualifiers_challengers.unique('tourney_name_date_matches')\n",
    "tourney_qualifiers_challengers"
   ]
  },
  {
   "cell_type": "code",
   "execution_count": 13,
   "metadata": {},
   "outputs": [
    {
     "data": {
      "text/html": [
       "<div><style>\n",
       ".dataframe > thead > tr,\n",
       ".dataframe > tbody > tr {\n",
       "  text-align: right;\n",
       "  white-space: pre-wrap;\n",
       "}\n",
       "</style>\n",
       "<small>shape: (486_553, 50)</small><table border=\"1\" class=\"dataframe\"><thead><tr><th>tourney_id</th><th>tourney_name</th><th>surface</th><th>draw_size</th><th>tourney_level</th><th>tourney_date</th><th>match_num</th><th>winner_id</th><th>winner_seed</th><th>winner_entry</th><th>winner_name</th><th>winner_hand</th><th>winner_ht</th><th>winner_ioc</th><th>winner_age</th><th>loser_id</th><th>loser_seed</th><th>loser_entry</th><th>loser_name</th><th>loser_hand</th><th>loser_ht</th><th>loser_ioc</th><th>loser_age</th><th>score</th><th>best_of</th><th>round</th><th>minutes</th><th>w_ace</th><th>w_df</th><th>w_svpt</th><th>w_1stIn</th><th>w_1stWon</th><th>w_2ndWon</th><th>w_SvGms</th><th>w_bpSaved</th><th>w_bpFaced</th><th>l_ace</th><th>l_df</th><th>l_svpt</th><th>l_1stIn</th><th>l_1stWon</th><th>l_2ndWon</th><th>l_SvGms</th><th>l_bpSaved</th><th>l_bpFaced</th><th>winner_rank</th><th>winner_rank_points</th><th>loser_rank</th><th>loser_rank_points</th><th>tourney_name_date_matches</th></tr><tr><td>str</td><td>str</td><td>str</td><td>i64</td><td>str</td><td>date</td><td>i64</td><td>str</td><td>str</td><td>str</td><td>str</td><td>str</td><td>i64</td><td>str</td><td>f64</td><td>str</td><td>str</td><td>str</td><td>str</td><td>str</td><td>i64</td><td>str</td><td>f64</td><td>str</td><td>i64</td><td>str</td><td>str</td><td>str</td><td>str</td><td>str</td><td>str</td><td>str</td><td>str</td><td>str</td><td>str</td><td>str</td><td>str</td><td>str</td><td>str</td><td>str</td><td>str</td><td>str</td><td>str</td><td>str</td><td>str</td><td>str</td><td>str</td><td>str</td><td>str</td><td>str</td></tr></thead><tbody><tr><td>&quot;1991-M-SA-IND-02A-1990a&quot;</td><td>&quot;India Masters 1&quot;</td><td>&quot;Hard&quot;</td><td>32</td><td>&quot;S&quot;</td><td>1990-12-29</td><td>1</td><td>&quot;101484&quot;</td><td>&quot;1&quot;</td><td>null</td><td>&quot;Vladimir Gabrichidze&quot;</td><td>&quot;R&quot;</td><td>175</td><td>&quot;GEO&quot;</td><td>22.6</td><td>&quot;106937&quot;</td><td>null</td><td>null</td><td>&quot;Emilio Marturano&quot;</td><td>&quot;R&quot;</td><td>null</td><td>&quot;ITA&quot;</td><td>23.5</td><td>&quot;6-2 7-5&quot;</td><td>3</td><td>&quot;R32&quot;</td><td>null</td><td>null</td><td>null</td><td>null</td><td>null</td><td>null</td><td>null</td><td>null</td><td>null</td><td>null</td><td>null</td><td>null</td><td>null</td><td>null</td><td>null</td><td>null</td><td>null</td><td>null</td><td>null</td><td>&quot;266&quot;</td><td>&quot;82&quot;</td><td>&quot;805&quot;</td><td>&quot;4&quot;</td><td>&quot;India Masters 1_1990_futures&quot;</td></tr><tr><td>&quot;1991-M-SA-IND-02A-1990a&quot;</td><td>&quot;India Masters 1&quot;</td><td>&quot;Hard&quot;</td><td>32</td><td>&quot;S&quot;</td><td>1990-12-29</td><td>2</td><td>&quot;106819&quot;</td><td>null</td><td>&quot;Q&quot;</td><td>&quot;Danilo Pila&quot;</td><td>&quot;R&quot;</td><td>null</td><td>&quot;PHI&quot;</td><td>30.2</td><td>&quot;107116&quot;</td><td>null</td><td>null</td><td>&quot;Goran Mihajlovic&quot;</td><td>&quot;R&quot;</td><td>null</td><td>&quot;YUG&quot;</td><td>19.6</td><td>&quot;6-3 6-2&quot;</td><td>3</td><td>&quot;R32&quot;</td><td>null</td><td>null</td><td>null</td><td>null</td><td>null</td><td>null</td><td>null</td><td>null</td><td>null</td><td>null</td><td>null</td><td>null</td><td>null</td><td>null</td><td>null</td><td>null</td><td>null</td><td>null</td><td>null</td><td>&quot;941&quot;</td><td>&quot;2&quot;</td><td>&quot;692&quot;</td><td>&quot;8&quot;</td><td>&quot;India Masters 1_1990_futures&quot;</td></tr><tr><td>&quot;1991-M-SA-IND-02A-1990a&quot;</td><td>&quot;India Masters 1&quot;</td><td>&quot;Hard&quot;</td><td>32</td><td>&quot;S&quot;</td><td>1990-12-29</td><td>3</td><td>&quot;102216&quot;</td><td>null</td><td>&quot;LL&quot;</td><td>&quot;Mark Joachim&quot;</td><td>&quot;R&quot;</td><td>null</td><td>&quot;GER&quot;</td><td>17.6</td><td>&quot;108562&quot;</td><td>null</td><td>null</td><td>&quot;York Heidenreich&quot;</td><td>&quot;R&quot;</td><td>null</td><td>&quot;GER&quot;</td><td>null</td><td>&quot;6-1 6-3&quot;</td><td>3</td><td>&quot;R32&quot;</td><td>null</td><td>null</td><td>null</td><td>null</td><td>null</td><td>null</td><td>null</td><td>null</td><td>null</td><td>null</td><td>null</td><td>null</td><td>null</td><td>null</td><td>null</td><td>null</td><td>null</td><td>null</td><td>null</td><td>&quot;862&quot;</td><td>&quot;3&quot;</td><td>&quot;862&quot;</td><td>&quot;3&quot;</td><td>&quot;India Masters 1_1990_futures&quot;</td></tr><tr><td>&quot;1991-M-SA-IND-02A-1990a&quot;</td><td>&quot;India Masters 1&quot;</td><td>&quot;Hard&quot;</td><td>32</td><td>&quot;S&quot;</td><td>1990-12-29</td><td>4</td><td>&quot;101663&quot;</td><td>null</td><td>null</td><td>&quot;Eugenio Rossi&quot;</td><td>&quot;R&quot;</td><td>null</td><td>&quot;ITA&quot;</td><td>21.1</td><td>&quot;106941&quot;</td><td>&quot;8&quot;</td><td>null</td><td>&quot;Eno Polo&quot;</td><td>&quot;R&quot;</td><td>null</td><td>&quot;KEN&quot;</td><td>23.5</td><td>&quot;6-4 6-4&quot;</td><td>3</td><td>&quot;R32&quot;</td><td>null</td><td>null</td><td>null</td><td>null</td><td>null</td><td>null</td><td>null</td><td>null</td><td>null</td><td>null</td><td>null</td><td>null</td><td>null</td><td>null</td><td>null</td><td>null</td><td>null</td><td>null</td><td>null</td><td>&quot;703&quot;</td><td>&quot;8&quot;</td><td>&quot;588&quot;</td><td>&quot;14&quot;</td><td>&quot;India Masters 1_1990_futures&quot;</td></tr><tr><td>&quot;1991-M-SA-IND-02A-1990a&quot;</td><td>&quot;India Masters 1&quot;</td><td>&quot;Hard&quot;</td><td>32</td><td>&quot;S&quot;</td><td>1990-12-29</td><td>5</td><td>&quot;100794&quot;</td><td>&quot;4&quot;</td><td>null</td><td>&quot;Srinivasan Vasudevan&quot;</td><td>&quot;R&quot;</td><td>190</td><td>&quot;IND&quot;</td><td>28.9</td><td>&quot;101480&quot;</td><td>null</td><td>null</td><td>&quot;Jake Martyn&quot;</td><td>&quot;R&quot;</td><td>null</td><td>&quot;GBR&quot;</td><td>22.6</td><td>&quot;6-3 7-6&quot;</td><td>3</td><td>&quot;R32&quot;</td><td>null</td><td>null</td><td>null</td><td>null</td><td>null</td><td>null</td><td>null</td><td>null</td><td>null</td><td>null</td><td>null</td><td>null</td><td>null</td><td>null</td><td>null</td><td>null</td><td>null</td><td>null</td><td>null</td><td>&quot;420&quot;</td><td>&quot;33&quot;</td><td>&quot;862&quot;</td><td>&quot;3&quot;</td><td>&quot;India Masters 1_1990_futures&quot;</td></tr><tr><td>&hellip;</td><td>&hellip;</td><td>&hellip;</td><td>&hellip;</td><td>&hellip;</td><td>&hellip;</td><td>&hellip;</td><td>&hellip;</td><td>&hellip;</td><td>&hellip;</td><td>&hellip;</td><td>&hellip;</td><td>&hellip;</td><td>&hellip;</td><td>&hellip;</td><td>&hellip;</td><td>&hellip;</td><td>&hellip;</td><td>&hellip;</td><td>&hellip;</td><td>&hellip;</td><td>&hellip;</td><td>&hellip;</td><td>&hellip;</td><td>&hellip;</td><td>&hellip;</td><td>&hellip;</td><td>&hellip;</td><td>&hellip;</td><td>&hellip;</td><td>&hellip;</td><td>&hellip;</td><td>&hellip;</td><td>&hellip;</td><td>&hellip;</td><td>&hellip;</td><td>&hellip;</td><td>&hellip;</td><td>&hellip;</td><td>&hellip;</td><td>&hellip;</td><td>&hellip;</td><td>&hellip;</td><td>&hellip;</td><td>&hellip;</td><td>&hellip;</td><td>&hellip;</td><td>&hellip;</td><td>&hellip;</td><td>&hellip;</td></tr><tr><td>&quot;2024-M-ITF-USA-2024-010&quot;</td><td>&quot;M25 Pensacola FL&quot;</td><td>&quot;Clay&quot;</td><td>32</td><td>&quot;25&quot;</td><td>2024-05-13</td><td>303</td><td>&quot;210044&quot;</td><td>&quot;5&quot;</td><td>null</td><td>&quot;Bruno Kuzuhara&quot;</td><td>&quot;U&quot;</td><td>null</td><td>&quot;USA&quot;</td><td>20.0</td><td>&quot;132054&quot;</td><td>null</td><td>null</td><td>&quot;Nathan Ponwith&quot;</td><td>&quot;U&quot;</td><td>null</td><td>&quot;USA&quot;</td><td>26.0</td><td>&quot;6-3 6-3&quot;</td><td>3</td><td>&quot;QF&quot;</td><td>null</td><td>null</td><td>null</td><td>null</td><td>null</td><td>null</td><td>null</td><td>null</td><td>null</td><td>null</td><td>null</td><td>null</td><td>null</td><td>null</td><td>null</td><td>null</td><td>null</td><td>null</td><td>null</td><td>&quot;469&quot;</td><td>&quot;92&quot;</td><td>&quot;745&quot;</td><td>&quot;34&quot;</td><td>&quot;M25 Pensacola FL_2024_futures&quot;</td></tr><tr><td>&quot;2024-M-ITF-USA-2024-010&quot;</td><td>&quot;M25 Pensacola FL&quot;</td><td>&quot;Clay&quot;</td><td>32</td><td>&quot;25&quot;</td><td>2024-05-13</td><td>304</td><td>&quot;200273&quot;</td><td>&quot;2&quot;</td><td>null</td><td>&quot;Hady Habib&quot;</td><td>&quot;R&quot;</td><td>null</td><td>&quot;LBN&quot;</td><td>25.7</td><td>&quot;132052&quot;</td><td>&quot;7&quot;</td><td>null</td><td>&quot;Christian Langmo&quot;</td><td>&quot;U&quot;</td><td>null</td><td>&quot;USA&quot;</td><td>27.9</td><td>&quot;1-6 6-3 6-3&quot;</td><td>3</td><td>&quot;QF&quot;</td><td>null</td><td>null</td><td>null</td><td>null</td><td>null</td><td>null</td><td>null</td><td>null</td><td>null</td><td>null</td><td>null</td><td>null</td><td>null</td><td>null</td><td>null</td><td>null</td><td>null</td><td>null</td><td>null</td><td>&quot;286&quot;</td><td>&quot;196&quot;</td><td>&quot;507&quot;</td><td>&quot;77&quot;</td><td>&quot;M25 Pensacola FL_2024_futures&quot;</td></tr><tr><td>&quot;2024-M-ITF-USA-2024-010&quot;</td><td>&quot;M25 Pensacola FL&quot;</td><td>&quot;Clay&quot;</td><td>32</td><td>&quot;25&quot;</td><td>2024-05-13</td><td>401</td><td>&quot;200748&quot;</td><td>&quot;4&quot;</td><td>null</td><td>&quot;Andres Andrade&quot;</td><td>&quot;R&quot;</td><td>null</td><td>&quot;ECU&quot;</td><td>25.3</td><td>&quot;106071&quot;</td><td>&quot;1&quot;</td><td>null</td><td>&quot;Bernard Tomic&quot;</td><td>&quot;R&quot;</td><td>193</td><td>&quot;AUS&quot;</td><td>31.5</td><td>&quot;RET&quot;</td><td>3</td><td>&quot;SF&quot;</td><td>null</td><td>null</td><td>null</td><td>null</td><td>null</td><td>null</td><td>null</td><td>null</td><td>null</td><td>null</td><td>null</td><td>null</td><td>null</td><td>null</td><td>null</td><td>null</td><td>null</td><td>null</td><td>null</td><td>&quot;374&quot;</td><td>&quot;133&quot;</td><td>&quot;256&quot;</td><td>&quot;230&quot;</td><td>&quot;M25 Pensacola FL_2024_futures&quot;</td></tr><tr><td>&quot;2024-M-ITF-USA-2024-010&quot;</td><td>&quot;M25 Pensacola FL&quot;</td><td>&quot;Clay&quot;</td><td>32</td><td>&quot;25&quot;</td><td>2024-05-13</td><td>402</td><td>&quot;200273&quot;</td><td>&quot;2&quot;</td><td>null</td><td>&quot;Hady Habib&quot;</td><td>&quot;R&quot;</td><td>null</td><td>&quot;LBN&quot;</td><td>25.7</td><td>&quot;210044&quot;</td><td>&quot;5&quot;</td><td>null</td><td>&quot;Bruno Kuzuhara&quot;</td><td>&quot;U&quot;</td><td>null</td><td>&quot;USA&quot;</td><td>20.0</td><td>&quot;6-4 6-4&quot;</td><td>3</td><td>&quot;SF&quot;</td><td>null</td><td>null</td><td>null</td><td>null</td><td>null</td><td>null</td><td>null</td><td>null</td><td>null</td><td>null</td><td>null</td><td>null</td><td>null</td><td>null</td><td>null</td><td>null</td><td>null</td><td>null</td><td>null</td><td>&quot;286&quot;</td><td>&quot;196&quot;</td><td>&quot;469&quot;</td><td>&quot;92&quot;</td><td>&quot;M25 Pensacola FL_2024_futures&quot;</td></tr><tr><td>&quot;2024-M-ITF-USA-2024-010&quot;</td><td>&quot;M25 Pensacola FL&quot;</td><td>&quot;Clay&quot;</td><td>32</td><td>&quot;25&quot;</td><td>2024-05-13</td><td>501</td><td>&quot;200748&quot;</td><td>&quot;4&quot;</td><td>null</td><td>&quot;Andres Andrade&quot;</td><td>&quot;R&quot;</td><td>null</td><td>&quot;ECU&quot;</td><td>25.3</td><td>&quot;200273&quot;</td><td>&quot;2&quot;</td><td>null</td><td>&quot;Hady Habib&quot;</td><td>&quot;R&quot;</td><td>null</td><td>&quot;LBN&quot;</td><td>25.7</td><td>&quot;7-6(5) 7-5&quot;</td><td>3</td><td>&quot;F&quot;</td><td>null</td><td>null</td><td>null</td><td>null</td><td>null</td><td>null</td><td>null</td><td>null</td><td>null</td><td>null</td><td>null</td><td>null</td><td>null</td><td>null</td><td>null</td><td>null</td><td>null</td><td>null</td><td>null</td><td>&quot;374&quot;</td><td>&quot;133&quot;</td><td>&quot;286&quot;</td><td>&quot;196&quot;</td><td>&quot;M25 Pensacola FL_2024_futures&quot;</td></tr></tbody></table></div>"
      ],
      "text/plain": [
       "shape: (486_553, 50)\n",
       "┌────────────┬───────────┬─────────┬───────────┬───┬───────────┬───────────┬───────────┬───────────┐\n",
       "│ tourney_id ┆ tourney_n ┆ surface ┆ draw_size ┆ … ┆ winner_ra ┆ loser_ran ┆ loser_ran ┆ tourney_n │\n",
       "│ ---        ┆ ame       ┆ ---     ┆ ---       ┆   ┆ nk_points ┆ k         ┆ k_points  ┆ ame_date_ │\n",
       "│ str        ┆ ---       ┆ str     ┆ i64       ┆   ┆ ---       ┆ ---       ┆ ---       ┆ matches   │\n",
       "│            ┆ str       ┆         ┆           ┆   ┆ str       ┆ str       ┆ str       ┆ ---       │\n",
       "│            ┆           ┆         ┆           ┆   ┆           ┆           ┆           ┆ str       │\n",
       "╞════════════╪═══════════╪═════════╪═══════════╪═══╪═══════════╪═══════════╪═══════════╪═══════════╡\n",
       "│ 1991-M-SA- ┆ India     ┆ Hard    ┆ 32        ┆ … ┆ 82        ┆ 805       ┆ 4         ┆ India     │\n",
       "│ IND-02A-19 ┆ Masters 1 ┆         ┆           ┆   ┆           ┆           ┆           ┆ Masters   │\n",
       "│ 90a        ┆           ┆         ┆           ┆   ┆           ┆           ┆           ┆ 1_1990_fu │\n",
       "│            ┆           ┆         ┆           ┆   ┆           ┆           ┆           ┆ tures     │\n",
       "│ 1991-M-SA- ┆ India     ┆ Hard    ┆ 32        ┆ … ┆ 2         ┆ 692       ┆ 8         ┆ India     │\n",
       "│ IND-02A-19 ┆ Masters 1 ┆         ┆           ┆   ┆           ┆           ┆           ┆ Masters   │\n",
       "│ 90a        ┆           ┆         ┆           ┆   ┆           ┆           ┆           ┆ 1_1990_fu │\n",
       "│            ┆           ┆         ┆           ┆   ┆           ┆           ┆           ┆ tures     │\n",
       "│ 1991-M-SA- ┆ India     ┆ Hard    ┆ 32        ┆ … ┆ 3         ┆ 862       ┆ 3         ┆ India     │\n",
       "│ IND-02A-19 ┆ Masters 1 ┆         ┆           ┆   ┆           ┆           ┆           ┆ Masters   │\n",
       "│ 90a        ┆           ┆         ┆           ┆   ┆           ┆           ┆           ┆ 1_1990_fu │\n",
       "│            ┆           ┆         ┆           ┆   ┆           ┆           ┆           ┆ tures     │\n",
       "│ 1991-M-SA- ┆ India     ┆ Hard    ┆ 32        ┆ … ┆ 8         ┆ 588       ┆ 14        ┆ India     │\n",
       "│ IND-02A-19 ┆ Masters 1 ┆         ┆           ┆   ┆           ┆           ┆           ┆ Masters   │\n",
       "│ 90a        ┆           ┆         ┆           ┆   ┆           ┆           ┆           ┆ 1_1990_fu │\n",
       "│            ┆           ┆         ┆           ┆   ┆           ┆           ┆           ┆ tures     │\n",
       "│ 1991-M-SA- ┆ India     ┆ Hard    ┆ 32        ┆ … ┆ 33        ┆ 862       ┆ 3         ┆ India     │\n",
       "│ IND-02A-19 ┆ Masters 1 ┆         ┆           ┆   ┆           ┆           ┆           ┆ Masters   │\n",
       "│ 90a        ┆           ┆         ┆           ┆   ┆           ┆           ┆           ┆ 1_1990_fu │\n",
       "│            ┆           ┆         ┆           ┆   ┆           ┆           ┆           ┆ tures     │\n",
       "│ …          ┆ …         ┆ …       ┆ …         ┆ … ┆ …         ┆ …         ┆ …         ┆ …         │\n",
       "│ 2024-M-ITF ┆ M25       ┆ Clay    ┆ 32        ┆ … ┆ 92        ┆ 745       ┆ 34        ┆ M25       │\n",
       "│ -USA-2024- ┆ Pensacola ┆         ┆           ┆   ┆           ┆           ┆           ┆ Pensacola │\n",
       "│ 010        ┆ FL        ┆         ┆           ┆   ┆           ┆           ┆           ┆ FL_2024_f │\n",
       "│            ┆           ┆         ┆           ┆   ┆           ┆           ┆           ┆ utures    │\n",
       "│ 2024-M-ITF ┆ M25       ┆ Clay    ┆ 32        ┆ … ┆ 196       ┆ 507       ┆ 77        ┆ M25       │\n",
       "│ -USA-2024- ┆ Pensacola ┆         ┆           ┆   ┆           ┆           ┆           ┆ Pensacola │\n",
       "│ 010        ┆ FL        ┆         ┆           ┆   ┆           ┆           ┆           ┆ FL_2024_f │\n",
       "│            ┆           ┆         ┆           ┆   ┆           ┆           ┆           ┆ utures    │\n",
       "│ 2024-M-ITF ┆ M25       ┆ Clay    ┆ 32        ┆ … ┆ 133       ┆ 256       ┆ 230       ┆ M25       │\n",
       "│ -USA-2024- ┆ Pensacola ┆         ┆           ┆   ┆           ┆           ┆           ┆ Pensacola │\n",
       "│ 010        ┆ FL        ┆         ┆           ┆   ┆           ┆           ┆           ┆ FL_2024_f │\n",
       "│            ┆           ┆         ┆           ┆   ┆           ┆           ┆           ┆ utures    │\n",
       "│ 2024-M-ITF ┆ M25       ┆ Clay    ┆ 32        ┆ … ┆ 196       ┆ 469       ┆ 92        ┆ M25       │\n",
       "│ -USA-2024- ┆ Pensacola ┆         ┆           ┆   ┆           ┆           ┆           ┆ Pensacola │\n",
       "│ 010        ┆ FL        ┆         ┆           ┆   ┆           ┆           ┆           ┆ FL_2024_f │\n",
       "│            ┆           ┆         ┆           ┆   ┆           ┆           ┆           ┆ utures    │\n",
       "│ 2024-M-ITF ┆ M25       ┆ Clay    ┆ 32        ┆ … ┆ 133       ┆ 286       ┆ 196       ┆ M25       │\n",
       "│ -USA-2024- ┆ Pensacola ┆         ┆           ┆   ┆           ┆           ┆           ┆ Pensacola │\n",
       "│ 010        ┆ FL        ┆         ┆           ┆   ┆           ┆           ┆           ┆ FL_2024_f │\n",
       "│            ┆           ┆         ┆           ┆   ┆           ┆           ┆           ┆ utures    │\n",
       "└────────────┴───────────┴─────────┴───────────┴───┴───────────┴───────────┴───────────┴───────────┘"
      ]
     },
     "execution_count": 13,
     "metadata": {},
     "output_type": "execute_result"
    }
   ],
   "source": [
    "matches_futures=import_tennis_matches(data_type=\"futures\",gender=\"atp\")\n",
    "\n",
    "matches_futures = matches_futures.with_columns(\n",
    "    (pl.col(\"tourney_name\") + \"_\" + pl.col(\"tourney_date\").dt.year().cast(pl.Utf8)+\"_futures\").alias(\"tourney_name_date_matches\")\n",
    ")\n",
    "matches_futures"
   ]
  },
  {
   "cell_type": "code",
   "execution_count": 14,
   "metadata": {},
   "outputs": [
    {
     "data": {
      "text/html": [
       "<div><style>\n",
       ".dataframe > thead > tr,\n",
       ".dataframe > tbody > tr {\n",
       "  text-align: right;\n",
       "  white-space: pre-wrap;\n",
       "}\n",
       "</style>\n",
       "<small>shape: (486_553, 51)</small><table border=\"1\" class=\"dataframe\"><thead><tr><th>tourney_id</th><th>tourney_name</th><th>surface</th><th>draw_size</th><th>tourney_level</th><th>tourney_date</th><th>match_num</th><th>winner_id</th><th>winner_seed</th><th>winner_entry</th><th>winner_name</th><th>winner_hand</th><th>winner_ht</th><th>winner_ioc</th><th>winner_age</th><th>loser_id</th><th>loser_seed</th><th>loser_entry</th><th>loser_name</th><th>loser_hand</th><th>loser_ht</th><th>loser_ioc</th><th>loser_age</th><th>score</th><th>best_of</th><th>round</th><th>minutes</th><th>w_ace</th><th>w_df</th><th>w_svpt</th><th>w_1stIn</th><th>w_1stWon</th><th>w_2ndWon</th><th>w_SvGms</th><th>w_bpSaved</th><th>w_bpFaced</th><th>l_ace</th><th>l_df</th><th>l_svpt</th><th>l_1stIn</th><th>l_1stWon</th><th>l_2ndWon</th><th>l_SvGms</th><th>l_bpSaved</th><th>l_bpFaced</th><th>winner_rank</th><th>winner_rank_points</th><th>loser_rank</th><th>loser_rank_points</th><th>tourney_name_date_matches</th><th>minimum_prize_pool</th></tr><tr><td>str</td><td>str</td><td>str</td><td>i64</td><td>str</td><td>date</td><td>i64</td><td>str</td><td>str</td><td>str</td><td>str</td><td>str</td><td>i64</td><td>str</td><td>f64</td><td>str</td><td>str</td><td>str</td><td>str</td><td>str</td><td>i64</td><td>str</td><td>f64</td><td>str</td><td>i64</td><td>str</td><td>str</td><td>str</td><td>str</td><td>str</td><td>str</td><td>str</td><td>str</td><td>str</td><td>str</td><td>str</td><td>str</td><td>str</td><td>str</td><td>str</td><td>str</td><td>str</td><td>str</td><td>str</td><td>str</td><td>str</td><td>str</td><td>str</td><td>str</td><td>str</td><td>i64</td></tr></thead><tbody><tr><td>&quot;1991-M-SA-IND-02A-1990a&quot;</td><td>&quot;India Masters 1&quot;</td><td>&quot;Hard&quot;</td><td>32</td><td>&quot;S&quot;</td><td>1990-12-29</td><td>1</td><td>&quot;101484&quot;</td><td>&quot;1&quot;</td><td>null</td><td>&quot;Vladimir Gabrichidze&quot;</td><td>&quot;R&quot;</td><td>175</td><td>&quot;GEO&quot;</td><td>22.6</td><td>&quot;106937&quot;</td><td>null</td><td>null</td><td>&quot;Emilio Marturano&quot;</td><td>&quot;R&quot;</td><td>null</td><td>&quot;ITA&quot;</td><td>23.5</td><td>&quot;6-2 7-5&quot;</td><td>3</td><td>&quot;R32&quot;</td><td>null</td><td>null</td><td>null</td><td>null</td><td>null</td><td>null</td><td>null</td><td>null</td><td>null</td><td>null</td><td>null</td><td>null</td><td>null</td><td>null</td><td>null</td><td>null</td><td>null</td><td>null</td><td>null</td><td>&quot;266&quot;</td><td>&quot;82&quot;</td><td>&quot;805&quot;</td><td>&quot;4&quot;</td><td>&quot;India Masters 1_1990_futures&quot;</td><td>null</td></tr><tr><td>&quot;1991-M-SA-IND-02A-1990a&quot;</td><td>&quot;India Masters 1&quot;</td><td>&quot;Hard&quot;</td><td>32</td><td>&quot;S&quot;</td><td>1990-12-29</td><td>2</td><td>&quot;106819&quot;</td><td>null</td><td>&quot;Q&quot;</td><td>&quot;Danilo Pila&quot;</td><td>&quot;R&quot;</td><td>null</td><td>&quot;PHI&quot;</td><td>30.2</td><td>&quot;107116&quot;</td><td>null</td><td>null</td><td>&quot;Goran Mihajlovic&quot;</td><td>&quot;R&quot;</td><td>null</td><td>&quot;YUG&quot;</td><td>19.6</td><td>&quot;6-3 6-2&quot;</td><td>3</td><td>&quot;R32&quot;</td><td>null</td><td>null</td><td>null</td><td>null</td><td>null</td><td>null</td><td>null</td><td>null</td><td>null</td><td>null</td><td>null</td><td>null</td><td>null</td><td>null</td><td>null</td><td>null</td><td>null</td><td>null</td><td>null</td><td>&quot;941&quot;</td><td>&quot;2&quot;</td><td>&quot;692&quot;</td><td>&quot;8&quot;</td><td>&quot;India Masters 1_1990_futures&quot;</td><td>null</td></tr><tr><td>&quot;1991-M-SA-IND-02A-1990a&quot;</td><td>&quot;India Masters 1&quot;</td><td>&quot;Hard&quot;</td><td>32</td><td>&quot;S&quot;</td><td>1990-12-29</td><td>3</td><td>&quot;102216&quot;</td><td>null</td><td>&quot;LL&quot;</td><td>&quot;Mark Joachim&quot;</td><td>&quot;R&quot;</td><td>null</td><td>&quot;GER&quot;</td><td>17.6</td><td>&quot;108562&quot;</td><td>null</td><td>null</td><td>&quot;York Heidenreich&quot;</td><td>&quot;R&quot;</td><td>null</td><td>&quot;GER&quot;</td><td>null</td><td>&quot;6-1 6-3&quot;</td><td>3</td><td>&quot;R32&quot;</td><td>null</td><td>null</td><td>null</td><td>null</td><td>null</td><td>null</td><td>null</td><td>null</td><td>null</td><td>null</td><td>null</td><td>null</td><td>null</td><td>null</td><td>null</td><td>null</td><td>null</td><td>null</td><td>null</td><td>&quot;862&quot;</td><td>&quot;3&quot;</td><td>&quot;862&quot;</td><td>&quot;3&quot;</td><td>&quot;India Masters 1_1990_futures&quot;</td><td>null</td></tr><tr><td>&quot;1991-M-SA-IND-02A-1990a&quot;</td><td>&quot;India Masters 1&quot;</td><td>&quot;Hard&quot;</td><td>32</td><td>&quot;S&quot;</td><td>1990-12-29</td><td>4</td><td>&quot;101663&quot;</td><td>null</td><td>null</td><td>&quot;Eugenio Rossi&quot;</td><td>&quot;R&quot;</td><td>null</td><td>&quot;ITA&quot;</td><td>21.1</td><td>&quot;106941&quot;</td><td>&quot;8&quot;</td><td>null</td><td>&quot;Eno Polo&quot;</td><td>&quot;R&quot;</td><td>null</td><td>&quot;KEN&quot;</td><td>23.5</td><td>&quot;6-4 6-4&quot;</td><td>3</td><td>&quot;R32&quot;</td><td>null</td><td>null</td><td>null</td><td>null</td><td>null</td><td>null</td><td>null</td><td>null</td><td>null</td><td>null</td><td>null</td><td>null</td><td>null</td><td>null</td><td>null</td><td>null</td><td>null</td><td>null</td><td>null</td><td>&quot;703&quot;</td><td>&quot;8&quot;</td><td>&quot;588&quot;</td><td>&quot;14&quot;</td><td>&quot;India Masters 1_1990_futures&quot;</td><td>null</td></tr><tr><td>&quot;1991-M-SA-IND-02A-1990a&quot;</td><td>&quot;India Masters 1&quot;</td><td>&quot;Hard&quot;</td><td>32</td><td>&quot;S&quot;</td><td>1990-12-29</td><td>5</td><td>&quot;100794&quot;</td><td>&quot;4&quot;</td><td>null</td><td>&quot;Srinivasan Vasudevan&quot;</td><td>&quot;R&quot;</td><td>190</td><td>&quot;IND&quot;</td><td>28.9</td><td>&quot;101480&quot;</td><td>null</td><td>null</td><td>&quot;Jake Martyn&quot;</td><td>&quot;R&quot;</td><td>null</td><td>&quot;GBR&quot;</td><td>22.6</td><td>&quot;6-3 7-6&quot;</td><td>3</td><td>&quot;R32&quot;</td><td>null</td><td>null</td><td>null</td><td>null</td><td>null</td><td>null</td><td>null</td><td>null</td><td>null</td><td>null</td><td>null</td><td>null</td><td>null</td><td>null</td><td>null</td><td>null</td><td>null</td><td>null</td><td>null</td><td>&quot;420&quot;</td><td>&quot;33&quot;</td><td>&quot;862&quot;</td><td>&quot;3&quot;</td><td>&quot;India Masters 1_1990_futures&quot;</td><td>null</td></tr><tr><td>&hellip;</td><td>&hellip;</td><td>&hellip;</td><td>&hellip;</td><td>&hellip;</td><td>&hellip;</td><td>&hellip;</td><td>&hellip;</td><td>&hellip;</td><td>&hellip;</td><td>&hellip;</td><td>&hellip;</td><td>&hellip;</td><td>&hellip;</td><td>&hellip;</td><td>&hellip;</td><td>&hellip;</td><td>&hellip;</td><td>&hellip;</td><td>&hellip;</td><td>&hellip;</td><td>&hellip;</td><td>&hellip;</td><td>&hellip;</td><td>&hellip;</td><td>&hellip;</td><td>&hellip;</td><td>&hellip;</td><td>&hellip;</td><td>&hellip;</td><td>&hellip;</td><td>&hellip;</td><td>&hellip;</td><td>&hellip;</td><td>&hellip;</td><td>&hellip;</td><td>&hellip;</td><td>&hellip;</td><td>&hellip;</td><td>&hellip;</td><td>&hellip;</td><td>&hellip;</td><td>&hellip;</td><td>&hellip;</td><td>&hellip;</td><td>&hellip;</td><td>&hellip;</td><td>&hellip;</td><td>&hellip;</td><td>&hellip;</td><td>&hellip;</td></tr><tr><td>&quot;2024-M-ITF-USA-2024-010&quot;</td><td>&quot;Pensacola FL&quot;</td><td>&quot;Clay&quot;</td><td>32</td><td>&quot;25&quot;</td><td>2024-05-13</td><td>303</td><td>&quot;210044&quot;</td><td>&quot;5&quot;</td><td>null</td><td>&quot;Bruno Kuzuhara&quot;</td><td>&quot;U&quot;</td><td>null</td><td>&quot;USA&quot;</td><td>20.0</td><td>&quot;132054&quot;</td><td>null</td><td>null</td><td>&quot;Nathan Ponwith&quot;</td><td>&quot;U&quot;</td><td>null</td><td>&quot;USA&quot;</td><td>26.0</td><td>&quot;6-3 6-3&quot;</td><td>3</td><td>&quot;QF&quot;</td><td>null</td><td>null</td><td>null</td><td>null</td><td>null</td><td>null</td><td>null</td><td>null</td><td>null</td><td>null</td><td>null</td><td>null</td><td>null</td><td>null</td><td>null</td><td>null</td><td>null</td><td>null</td><td>null</td><td>&quot;469&quot;</td><td>&quot;92&quot;</td><td>&quot;745&quot;</td><td>&quot;34&quot;</td><td>&quot;M25 Pensacola FL_2024_futures&quot;</td><td>25000</td></tr><tr><td>&quot;2024-M-ITF-USA-2024-010&quot;</td><td>&quot;Pensacola FL&quot;</td><td>&quot;Clay&quot;</td><td>32</td><td>&quot;25&quot;</td><td>2024-05-13</td><td>304</td><td>&quot;200273&quot;</td><td>&quot;2&quot;</td><td>null</td><td>&quot;Hady Habib&quot;</td><td>&quot;R&quot;</td><td>null</td><td>&quot;LBN&quot;</td><td>25.7</td><td>&quot;132052&quot;</td><td>&quot;7&quot;</td><td>null</td><td>&quot;Christian Langmo&quot;</td><td>&quot;U&quot;</td><td>null</td><td>&quot;USA&quot;</td><td>27.9</td><td>&quot;1-6 6-3 6-3&quot;</td><td>3</td><td>&quot;QF&quot;</td><td>null</td><td>null</td><td>null</td><td>null</td><td>null</td><td>null</td><td>null</td><td>null</td><td>null</td><td>null</td><td>null</td><td>null</td><td>null</td><td>null</td><td>null</td><td>null</td><td>null</td><td>null</td><td>null</td><td>&quot;286&quot;</td><td>&quot;196&quot;</td><td>&quot;507&quot;</td><td>&quot;77&quot;</td><td>&quot;M25 Pensacola FL_2024_futures&quot;</td><td>25000</td></tr><tr><td>&quot;2024-M-ITF-USA-2024-010&quot;</td><td>&quot;Pensacola FL&quot;</td><td>&quot;Clay&quot;</td><td>32</td><td>&quot;25&quot;</td><td>2024-05-13</td><td>401</td><td>&quot;200748&quot;</td><td>&quot;4&quot;</td><td>null</td><td>&quot;Andres Andrade&quot;</td><td>&quot;R&quot;</td><td>null</td><td>&quot;ECU&quot;</td><td>25.3</td><td>&quot;106071&quot;</td><td>&quot;1&quot;</td><td>null</td><td>&quot;Bernard Tomic&quot;</td><td>&quot;R&quot;</td><td>193</td><td>&quot;AUS&quot;</td><td>31.5</td><td>&quot;RET&quot;</td><td>3</td><td>&quot;SF&quot;</td><td>null</td><td>null</td><td>null</td><td>null</td><td>null</td><td>null</td><td>null</td><td>null</td><td>null</td><td>null</td><td>null</td><td>null</td><td>null</td><td>null</td><td>null</td><td>null</td><td>null</td><td>null</td><td>null</td><td>&quot;374&quot;</td><td>&quot;133&quot;</td><td>&quot;256&quot;</td><td>&quot;230&quot;</td><td>&quot;M25 Pensacola FL_2024_futures&quot;</td><td>25000</td></tr><tr><td>&quot;2024-M-ITF-USA-2024-010&quot;</td><td>&quot;Pensacola FL&quot;</td><td>&quot;Clay&quot;</td><td>32</td><td>&quot;25&quot;</td><td>2024-05-13</td><td>402</td><td>&quot;200273&quot;</td><td>&quot;2&quot;</td><td>null</td><td>&quot;Hady Habib&quot;</td><td>&quot;R&quot;</td><td>null</td><td>&quot;LBN&quot;</td><td>25.7</td><td>&quot;210044&quot;</td><td>&quot;5&quot;</td><td>null</td><td>&quot;Bruno Kuzuhara&quot;</td><td>&quot;U&quot;</td><td>null</td><td>&quot;USA&quot;</td><td>20.0</td><td>&quot;6-4 6-4&quot;</td><td>3</td><td>&quot;SF&quot;</td><td>null</td><td>null</td><td>null</td><td>null</td><td>null</td><td>null</td><td>null</td><td>null</td><td>null</td><td>null</td><td>null</td><td>null</td><td>null</td><td>null</td><td>null</td><td>null</td><td>null</td><td>null</td><td>null</td><td>&quot;286&quot;</td><td>&quot;196&quot;</td><td>&quot;469&quot;</td><td>&quot;92&quot;</td><td>&quot;M25 Pensacola FL_2024_futures&quot;</td><td>25000</td></tr><tr><td>&quot;2024-M-ITF-USA-2024-010&quot;</td><td>&quot;Pensacola FL&quot;</td><td>&quot;Clay&quot;</td><td>32</td><td>&quot;25&quot;</td><td>2024-05-13</td><td>501</td><td>&quot;200748&quot;</td><td>&quot;4&quot;</td><td>null</td><td>&quot;Andres Andrade&quot;</td><td>&quot;R&quot;</td><td>null</td><td>&quot;ECU&quot;</td><td>25.3</td><td>&quot;200273&quot;</td><td>&quot;2&quot;</td><td>null</td><td>&quot;Hady Habib&quot;</td><td>&quot;R&quot;</td><td>null</td><td>&quot;LBN&quot;</td><td>25.7</td><td>&quot;7-6(5) 7-5&quot;</td><td>3</td><td>&quot;F&quot;</td><td>null</td><td>null</td><td>null</td><td>null</td><td>null</td><td>null</td><td>null</td><td>null</td><td>null</td><td>null</td><td>null</td><td>null</td><td>null</td><td>null</td><td>null</td><td>null</td><td>null</td><td>null</td><td>null</td><td>&quot;374&quot;</td><td>&quot;133&quot;</td><td>&quot;286&quot;</td><td>&quot;196&quot;</td><td>&quot;M25 Pensacola FL_2024_futures&quot;</td><td>25000</td></tr></tbody></table></div>"
      ],
      "text/plain": [
       "shape: (486_553, 51)\n",
       "┌────────────┬───────────┬─────────┬───────────┬───┬───────────┬───────────┬───────────┬───────────┐\n",
       "│ tourney_id ┆ tourney_n ┆ surface ┆ draw_size ┆ … ┆ loser_ran ┆ loser_ran ┆ tourney_n ┆ minimum_p │\n",
       "│ ---        ┆ ame       ┆ ---     ┆ ---       ┆   ┆ k         ┆ k_points  ┆ ame_date_ ┆ rize_pool │\n",
       "│ str        ┆ ---       ┆ str     ┆ i64       ┆   ┆ ---       ┆ ---       ┆ matches   ┆ ---       │\n",
       "│            ┆ str       ┆         ┆           ┆   ┆ str       ┆ str       ┆ ---       ┆ i64       │\n",
       "│            ┆           ┆         ┆           ┆   ┆           ┆           ┆ str       ┆           │\n",
       "╞════════════╪═══════════╪═════════╪═══════════╪═══╪═══════════╪═══════════╪═══════════╪═══════════╡\n",
       "│ 1991-M-SA- ┆ India     ┆ Hard    ┆ 32        ┆ … ┆ 805       ┆ 4         ┆ India     ┆ null      │\n",
       "│ IND-02A-19 ┆ Masters 1 ┆         ┆           ┆   ┆           ┆           ┆ Masters   ┆           │\n",
       "│ 90a        ┆           ┆         ┆           ┆   ┆           ┆           ┆ 1_1990_fu ┆           │\n",
       "│            ┆           ┆         ┆           ┆   ┆           ┆           ┆ tures     ┆           │\n",
       "│ 1991-M-SA- ┆ India     ┆ Hard    ┆ 32        ┆ … ┆ 692       ┆ 8         ┆ India     ┆ null      │\n",
       "│ IND-02A-19 ┆ Masters 1 ┆         ┆           ┆   ┆           ┆           ┆ Masters   ┆           │\n",
       "│ 90a        ┆           ┆         ┆           ┆   ┆           ┆           ┆ 1_1990_fu ┆           │\n",
       "│            ┆           ┆         ┆           ┆   ┆           ┆           ┆ tures     ┆           │\n",
       "│ 1991-M-SA- ┆ India     ┆ Hard    ┆ 32        ┆ … ┆ 862       ┆ 3         ┆ India     ┆ null      │\n",
       "│ IND-02A-19 ┆ Masters 1 ┆         ┆           ┆   ┆           ┆           ┆ Masters   ┆           │\n",
       "│ 90a        ┆           ┆         ┆           ┆   ┆           ┆           ┆ 1_1990_fu ┆           │\n",
       "│            ┆           ┆         ┆           ┆   ┆           ┆           ┆ tures     ┆           │\n",
       "│ 1991-M-SA- ┆ India     ┆ Hard    ┆ 32        ┆ … ┆ 588       ┆ 14        ┆ India     ┆ null      │\n",
       "│ IND-02A-19 ┆ Masters 1 ┆         ┆           ┆   ┆           ┆           ┆ Masters   ┆           │\n",
       "│ 90a        ┆           ┆         ┆           ┆   ┆           ┆           ┆ 1_1990_fu ┆           │\n",
       "│            ┆           ┆         ┆           ┆   ┆           ┆           ┆ tures     ┆           │\n",
       "│ 1991-M-SA- ┆ India     ┆ Hard    ┆ 32        ┆ … ┆ 862       ┆ 3         ┆ India     ┆ null      │\n",
       "│ IND-02A-19 ┆ Masters 1 ┆         ┆           ┆   ┆           ┆           ┆ Masters   ┆           │\n",
       "│ 90a        ┆           ┆         ┆           ┆   ┆           ┆           ┆ 1_1990_fu ┆           │\n",
       "│            ┆           ┆         ┆           ┆   ┆           ┆           ┆ tures     ┆           │\n",
       "│ …          ┆ …         ┆ …       ┆ …         ┆ … ┆ …         ┆ …         ┆ …         ┆ …         │\n",
       "│ 2024-M-ITF ┆ Pensacola ┆ Clay    ┆ 32        ┆ … ┆ 745       ┆ 34        ┆ M25       ┆ 25000     │\n",
       "│ -USA-2024- ┆ FL        ┆         ┆           ┆   ┆           ┆           ┆ Pensacola ┆           │\n",
       "│ 010        ┆           ┆         ┆           ┆   ┆           ┆           ┆ FL_2024_f ┆           │\n",
       "│            ┆           ┆         ┆           ┆   ┆           ┆           ┆ utures    ┆           │\n",
       "│ 2024-M-ITF ┆ Pensacola ┆ Clay    ┆ 32        ┆ … ┆ 507       ┆ 77        ┆ M25       ┆ 25000     │\n",
       "│ -USA-2024- ┆ FL        ┆         ┆           ┆   ┆           ┆           ┆ Pensacola ┆           │\n",
       "│ 010        ┆           ┆         ┆           ┆   ┆           ┆           ┆ FL_2024_f ┆           │\n",
       "│            ┆           ┆         ┆           ┆   ┆           ┆           ┆ utures    ┆           │\n",
       "│ 2024-M-ITF ┆ Pensacola ┆ Clay    ┆ 32        ┆ … ┆ 256       ┆ 230       ┆ M25       ┆ 25000     │\n",
       "│ -USA-2024- ┆ FL        ┆         ┆           ┆   ┆           ┆           ┆ Pensacola ┆           │\n",
       "│ 010        ┆           ┆         ┆           ┆   ┆           ┆           ┆ FL_2024_f ┆           │\n",
       "│            ┆           ┆         ┆           ┆   ┆           ┆           ┆ utures    ┆           │\n",
       "│ 2024-M-ITF ┆ Pensacola ┆ Clay    ┆ 32        ┆ … ┆ 469       ┆ 92        ┆ M25       ┆ 25000     │\n",
       "│ -USA-2024- ┆ FL        ┆         ┆           ┆   ┆           ┆           ┆ Pensacola ┆           │\n",
       "│ 010        ┆           ┆         ┆           ┆   ┆           ┆           ┆ FL_2024_f ┆           │\n",
       "│            ┆           ┆         ┆           ┆   ┆           ┆           ┆ utures    ┆           │\n",
       "│ 2024-M-ITF ┆ Pensacola ┆ Clay    ┆ 32        ┆ … ┆ 286       ┆ 196       ┆ M25       ┆ 25000     │\n",
       "│ -USA-2024- ┆ FL        ┆         ┆           ┆   ┆           ┆           ┆ Pensacola ┆           │\n",
       "│ 010        ┆           ┆         ┆           ┆   ┆           ┆           ┆ FL_2024_f ┆           │\n",
       "│            ┆           ┆         ┆           ┆   ┆           ┆           ┆ utures    ┆           │\n",
       "└────────────┴───────────┴─────────┴───────────┴───┴───────────┴───────────┴───────────┴───────────┘"
      ]
     },
     "execution_count": 14,
     "metadata": {},
     "output_type": "execute_result"
    }
   ],
   "source": [
    "#Creazione di colonna dove mettere il montepremi con ciclo for aggregato\n",
    "\n",
    "# Liste per salvare i risultati\n",
    "new_values = []\n",
    "updated_col1 = []\n",
    "\n",
    "# Itera su tutte le righe\n",
    "for value in matches_futures[\"tourney_name\"]:\n",
    "    if value.startswith(\"M\") and len(value) > 1 and value[1:].split()[0].isdigit():  # Controlla 'W' e numero\n",
    "        parts = value.split(maxsplit=1)  # Dividi al primo spazio\n",
    "        new_values.append(int(parts[0][1:]) * 1000)  # Moltiplica il numero per 1000\n",
    "        updated_col1.append(parts[1] if len(parts) > 1 else None)  # Rimuovi 'W<num>' e mantieni il resto\n",
    "    else:\n",
    "        new_values.append(None)  # Altrimenti, None nella nuova colonna\n",
    "        updated_col1.append(value)  # Mantieni il valore originale\n",
    "\n",
    "# Aggiorna il DataFrame con le due colonne\n",
    "matches_futures = matches_futures.with_columns([\n",
    "    pl.Series(\"tourney_name\", updated_col1),\n",
    "    pl.Series(\"minimum_prize_pool\", new_values),\n",
    "])\n",
    "matches_futures"
   ]
  },
  {
   "cell_type": "code",
   "execution_count": 15,
   "metadata": {},
   "outputs": [
    {
     "data": {
      "text/html": [
       "<div><style>\n",
       ".dataframe > thead > tr,\n",
       ".dataframe > tbody > tr {\n",
       "  text-align: right;\n",
       "  white-space: pre-wrap;\n",
       "}\n",
       "</style>\n",
       "<small>shape: (14_687, 6)</small><table border=\"1\" class=\"dataframe\"><thead><tr><th>tourney_name</th><th>surface</th><th>draw_size</th><th>tourney_level</th><th>tourney_date</th><th>tourney_name_date_matches</th></tr><tr><td>str</td><td>str</td><td>i64</td><td>str</td><td>date</td><td>str</td></tr></thead><tbody><tr><td>&quot;Great Britain F6&quot;</td><td>&quot;Hard&quot;</td><td>32</td><td>&quot;S&quot;</td><td>2016-11-07</td><td>&quot;Great Britain F6_2016_futures&quot;</td></tr><tr><td>&quot;Netherlands F6&quot;</td><td>&quot;Clay&quot;</td><td>32</td><td>&quot;S&quot;</td><td>2018-08-27</td><td>&quot;Netherlands F6_2018_futures&quot;</td></tr><tr><td>&quot;Dominican Republic F1&quot;</td><td>&quot;Hard&quot;</td><td>32</td><td>&quot;S&quot;</td><td>2017-11-27</td><td>&quot;Dominican Republic F1_2017_fut…</td></tr><tr><td>&quot;Pitesti&quot;</td><td>&quot;Clay&quot;</td><td>32</td><td>&quot;25&quot;</td><td>2021-08-02</td><td>&quot;M25 Pitesti_2021_futures&quot;</td></tr><tr><td>&quot;Korea Masters 1&quot;</td><td>&quot;Clay&quot;</td><td>24</td><td>&quot;S&quot;</td><td>1996-05-11</td><td>&quot;Korea Masters 1_1996_futures&quot;</td></tr><tr><td>&hellip;</td><td>&hellip;</td><td>&hellip;</td><td>&hellip;</td><td>&hellip;</td><td>&hellip;</td></tr><tr><td>&quot;Egypt F1&quot;</td><td>&quot;Clay&quot;</td><td>32</td><td>&quot;S&quot;</td><td>2008-03-17</td><td>&quot;Egypt F1_2008_futures&quot;</td></tr><tr><td>&quot;Germany 1 Masters 3&quot;</td><td>&quot;Carpet&quot;</td><td>32</td><td>&quot;S&quot;</td><td>1992-02-03</td><td>&quot;Germany 1 Masters 3_1992_futur…</td></tr><tr><td>&quot;Spain 1 Masters 1&quot;</td><td>&quot;Clay&quot;</td><td>24</td><td>&quot;S&quot;</td><td>1997-01-03</td><td>&quot;Spain 1 Masters 1_1997_futures&quot;</td></tr><tr><td>&quot;Slovak Republic Masters 1&quot;</td><td>&quot;Clay&quot;</td><td>32</td><td>&quot;S&quot;</td><td>1999-08-16</td><td>&quot;Slovak Republic Masters 1_1999…</td></tr><tr><td>&quot;Germany F7&quot;</td><td>&quot;Clay&quot;</td><td>32</td><td>&quot;S&quot;</td><td>2002-06-10</td><td>&quot;Germany F7_2002_futures&quot;</td></tr></tbody></table></div>"
      ],
      "text/plain": [
       "shape: (14_687, 6)\n",
       "┌──────────────────────┬─────────┬───────────┬───────────────┬──────────────┬──────────────────────┐\n",
       "│ tourney_name         ┆ surface ┆ draw_size ┆ tourney_level ┆ tourney_date ┆ tourney_name_date_ma │\n",
       "│ ---                  ┆ ---     ┆ ---       ┆ ---           ┆ ---          ┆ tches                │\n",
       "│ str                  ┆ str     ┆ i64       ┆ str           ┆ date         ┆ ---                  │\n",
       "│                      ┆         ┆           ┆               ┆              ┆ str                  │\n",
       "╞══════════════════════╪═════════╪═══════════╪═══════════════╪══════════════╪══════════════════════╡\n",
       "│ Great Britain F6     ┆ Hard    ┆ 32        ┆ S             ┆ 2016-11-07   ┆ Great Britain        │\n",
       "│                      ┆         ┆           ┆               ┆              ┆ F6_2016_futures      │\n",
       "│ Netherlands F6       ┆ Clay    ┆ 32        ┆ S             ┆ 2018-08-27   ┆ Netherlands          │\n",
       "│                      ┆         ┆           ┆               ┆              ┆ F6_2018_futures      │\n",
       "│ Dominican Republic   ┆ Hard    ┆ 32        ┆ S             ┆ 2017-11-27   ┆ Dominican Republic   │\n",
       "│ F1                   ┆         ┆           ┆               ┆              ┆ F1_2017_fut…         │\n",
       "│ Pitesti              ┆ Clay    ┆ 32        ┆ 25            ┆ 2021-08-02   ┆ M25                  │\n",
       "│                      ┆         ┆           ┆               ┆              ┆ Pitesti_2021_futures │\n",
       "│ Korea Masters 1      ┆ Clay    ┆ 24        ┆ S             ┆ 1996-05-11   ┆ Korea Masters        │\n",
       "│                      ┆         ┆           ┆               ┆              ┆ 1_1996_futures       │\n",
       "│ …                    ┆ …       ┆ …         ┆ …             ┆ …            ┆ …                    │\n",
       "│ Egypt F1             ┆ Clay    ┆ 32        ┆ S             ┆ 2008-03-17   ┆ Egypt                │\n",
       "│                      ┆         ┆           ┆               ┆              ┆ F1_2008_futures      │\n",
       "│ Germany 1 Masters 3  ┆ Carpet  ┆ 32        ┆ S             ┆ 1992-02-03   ┆ Germany 1 Masters    │\n",
       "│                      ┆         ┆           ┆               ┆              ┆ 3_1992_futur…        │\n",
       "│ Spain 1 Masters 1    ┆ Clay    ┆ 24        ┆ S             ┆ 1997-01-03   ┆ Spain 1 Masters      │\n",
       "│                      ┆         ┆           ┆               ┆              ┆ 1_1997_futures       │\n",
       "│ Slovak Republic      ┆ Clay    ┆ 32        ┆ S             ┆ 1999-08-16   ┆ Slovak Republic      │\n",
       "│ Masters 1            ┆         ┆           ┆               ┆              ┆ Masters 1_1999…      │\n",
       "│ Germany F7           ┆ Clay    ┆ 32        ┆ S             ┆ 2002-06-10   ┆ Germany              │\n",
       "│                      ┆         ┆           ┆               ┆              ┆ F7_2002_futures      │\n",
       "└──────────────────────┴─────────┴───────────┴───────────────┴──────────────┴──────────────────────┘"
      ]
     },
     "execution_count": 15,
     "metadata": {},
     "output_type": "execute_result"
    }
   ],
   "source": [
    "tourney_futures=matches_futures[['tourney_name', 'surface', 'draw_size', 'tourney_level', 'tourney_date', 'tourney_name_date_matches']]\n",
    "\n",
    "tourney_futures=tourney_futures.unique('tourney_name_date_matches')\n",
    "tourney_futures"
   ]
  },
  {
   "cell_type": "code",
   "execution_count": 16,
   "metadata": {},
   "outputs": [
    {
     "name": "stdout",
     "output_type": "stream",
     "text": [
      "Error importing wta_matches_qual_itf_2015.csv: invalid utf-8 sequence\n",
      "Error importing wta_matches_qual_itf_2016.csv: invalid utf-8 sequence\n",
      "Error importing wta_matches_qual_itf_2017.csv: invalid utf-8 sequence\n"
     ]
    },
    {
     "data": {
      "text/html": [
       "<div><style>\n",
       ".dataframe > thead > tr,\n",
       ".dataframe > tbody > tr {\n",
       "  text-align: right;\n",
       "  white-space: pre-wrap;\n",
       "}\n",
       "</style>\n",
       "<small>shape: (512_063, 50)</small><table border=\"1\" class=\"dataframe\"><thead><tr><th>tourney_id</th><th>tourney_name</th><th>surface</th><th>draw_size</th><th>tourney_level</th><th>tourney_date</th><th>match_num</th><th>winner_id</th><th>winner_seed</th><th>winner_entry</th><th>winner_name</th><th>winner_hand</th><th>winner_ht</th><th>winner_ioc</th><th>winner_age</th><th>loser_id</th><th>loser_seed</th><th>loser_entry</th><th>loser_name</th><th>loser_hand</th><th>loser_ht</th><th>loser_ioc</th><th>loser_age</th><th>score</th><th>best_of</th><th>round</th><th>minutes</th><th>w_ace</th><th>w_df</th><th>w_svpt</th><th>w_1stIn</th><th>w_1stWon</th><th>w_2ndWon</th><th>w_SvGms</th><th>w_bpSaved</th><th>w_bpFaced</th><th>l_ace</th><th>l_df</th><th>l_svpt</th><th>l_1stIn</th><th>l_1stWon</th><th>l_2ndWon</th><th>l_SvGms</th><th>l_bpSaved</th><th>l_bpFaced</th><th>winner_rank</th><th>winner_rank_points</th><th>loser_rank</th><th>loser_rank_points</th><th>tourney_name_date_matches</th></tr><tr><td>str</td><td>str</td><td>str</td><td>i64</td><td>str</td><td>date</td><td>i64</td><td>str</td><td>str</td><td>str</td><td>str</td><td>str</td><td>i64</td><td>str</td><td>f64</td><td>str</td><td>str</td><td>str</td><td>str</td><td>str</td><td>i64</td><td>str</td><td>f64</td><td>str</td><td>i64</td><td>str</td><td>str</td><td>str</td><td>str</td><td>str</td><td>str</td><td>str</td><td>str</td><td>str</td><td>str</td><td>str</td><td>str</td><td>str</td><td>str</td><td>str</td><td>str</td><td>str</td><td>str</td><td>str</td><td>str</td><td>str</td><td>str</td><td>str</td><td>str</td><td>str</td></tr></thead><tbody><tr><td>&quot;1968-1004&quot;</td><td>&quot;Bournemouth&quot;</td><td>&quot;Clay&quot;</td><td>32</td><td>&quot;W&quot;</td><td>1968-04-22</td><td>201</td><td>&quot;200810&quot;</td><td>&quot;5&quot;</td><td>null</td><td>&quot;Annette Van Zyl&quot;</td><td>&quot;R&quot;</td><td>180</td><td>&quot;RSA&quot;</td><td>24.5</td><td>&quot;201114&quot;</td><td>null</td><td>null</td><td>&quot;Robin Lloyd&quot;</td><td>&quot;U&quot;</td><td>null</td><td>&quot;GBR&quot;</td><td>24.1</td><td>&quot;6-3 6-4&quot;</td><td>3</td><td>&quot;Q1&quot;</td><td>null</td><td>null</td><td>null</td><td>null</td><td>null</td><td>null</td><td>null</td><td>null</td><td>null</td><td>null</td><td>null</td><td>null</td><td>null</td><td>null</td><td>null</td><td>null</td><td>null</td><td>null</td><td>null</td><td>null</td><td>null</td><td>null</td><td>null</td><td>&quot;Bournemouth_1968_qualifiers_it…</td></tr><tr><td>&quot;1968-1004&quot;</td><td>&quot;Bournemouth&quot;</td><td>&quot;Clay&quot;</td><td>32</td><td>&quot;W&quot;</td><td>1968-04-22</td><td>202</td><td>&quot;223881&quot;</td><td>null</td><td>null</td><td>&quot;Dianne Bridger&quot;</td><td>&quot;U&quot;</td><td>null</td><td>&quot;GBR&quot;</td><td>null</td><td>&quot;213882&quot;</td><td>null</td><td>null</td><td>&quot;Lena Reichel&quot;</td><td>&quot;U&quot;</td><td>null</td><td>&quot;AUT&quot;</td><td>-29.0</td><td>&quot;6-1 8-6&quot;</td><td>3</td><td>&quot;Q1&quot;</td><td>null</td><td>null</td><td>null</td><td>null</td><td>null</td><td>null</td><td>null</td><td>null</td><td>null</td><td>null</td><td>null</td><td>null</td><td>null</td><td>null</td><td>null</td><td>null</td><td>null</td><td>null</td><td>null</td><td>null</td><td>null</td><td>null</td><td>null</td><td>&quot;Bournemouth_1968_qualifiers_it…</td></tr><tr><td>&quot;1968-1004&quot;</td><td>&quot;Bournemouth&quot;</td><td>&quot;Clay&quot;</td><td>32</td><td>&quot;W&quot;</td><td>1968-04-22</td><td>203</td><td>&quot;216633&quot;</td><td>null</td><td>null</td><td>&quot;Mary Mcanally&quot;</td><td>&quot;U&quot;</td><td>null</td><td>&quot;GBR&quot;</td><td>23.0</td><td>&quot;223997&quot;</td><td>null</td><td>null</td><td>&quot;Sandra Okin&quot;</td><td>&quot;U&quot;</td><td>null</td><td>&quot;GBR&quot;</td><td>null</td><td>&quot;3-6 6-4 6-2&quot;</td><td>3</td><td>&quot;Q1&quot;</td><td>null</td><td>null</td><td>null</td><td>null</td><td>null</td><td>null</td><td>null</td><td>null</td><td>null</td><td>null</td><td>null</td><td>null</td><td>null</td><td>null</td><td>null</td><td>null</td><td>null</td><td>null</td><td>null</td><td>null</td><td>null</td><td>null</td><td>null</td><td>&quot;Bournemouth_1968_qualifiers_it…</td></tr><tr><td>&quot;1968-1004&quot;</td><td>&quot;Bournemouth&quot;</td><td>&quot;Clay&quot;</td><td>32</td><td>&quot;W&quot;</td><td>1968-04-22</td><td>204</td><td>&quot;223659&quot;</td><td>null</td><td>null</td><td>&quot;Heather Allen&quot;</td><td>&quot;U&quot;</td><td>null</td><td>&quot;GBR&quot;</td><td>3.8</td><td>&quot;224029&quot;</td><td>null</td><td>null</td><td>&quot;Jane Poynder&quot;</td><td>&quot;U&quot;</td><td>null</td><td>&quot;GBR&quot;</td><td>null</td><td>&quot;6-3 6-4&quot;</td><td>3</td><td>&quot;Q1&quot;</td><td>null</td><td>null</td><td>null</td><td>null</td><td>null</td><td>null</td><td>null</td><td>null</td><td>null</td><td>null</td><td>null</td><td>null</td><td>null</td><td>null</td><td>null</td><td>null</td><td>null</td><td>null</td><td>null</td><td>null</td><td>null</td><td>null</td><td>null</td><td>&quot;Bournemouth_1968_qualifiers_it…</td></tr><tr><td>&quot;1968-1004&quot;</td><td>&quot;Bournemouth&quot;</td><td>&quot;Clay&quot;</td><td>32</td><td>&quot;W&quot;</td><td>1968-04-22</td><td>205</td><td>&quot;201121&quot;</td><td>null</td><td>null</td><td>&quot;Sue Tutt&quot;</td><td>&quot;U&quot;</td><td>null</td><td>&quot;GBR&quot;</td><td>null</td><td>&quot;201117&quot;</td><td>null</td><td>null</td><td>&quot;Margaret Harris&quot;</td><td>&quot;R&quot;</td><td>null</td><td>&quot;AUS&quot;</td><td>23.1</td><td>&quot;2-6 6-1 6-1&quot;</td><td>3</td><td>&quot;Q1&quot;</td><td>null</td><td>null</td><td>null</td><td>null</td><td>null</td><td>null</td><td>null</td><td>null</td><td>null</td><td>null</td><td>null</td><td>null</td><td>null</td><td>null</td><td>null</td><td>null</td><td>null</td><td>null</td><td>null</td><td>null</td><td>null</td><td>null</td><td>null</td><td>&quot;Bournemouth_1968_qualifiers_it…</td></tr><tr><td>&hellip;</td><td>&hellip;</td><td>&hellip;</td><td>&hellip;</td><td>&hellip;</td><td>&hellip;</td><td>&hellip;</td><td>&hellip;</td><td>&hellip;</td><td>&hellip;</td><td>&hellip;</td><td>&hellip;</td><td>&hellip;</td><td>&hellip;</td><td>&hellip;</td><td>&hellip;</td><td>&hellip;</td><td>&hellip;</td><td>&hellip;</td><td>&hellip;</td><td>&hellip;</td><td>&hellip;</td><td>&hellip;</td><td>&hellip;</td><td>&hellip;</td><td>&hellip;</td><td>&hellip;</td><td>&hellip;</td><td>&hellip;</td><td>&hellip;</td><td>&hellip;</td><td>&hellip;</td><td>&hellip;</td><td>&hellip;</td><td>&hellip;</td><td>&hellip;</td><td>&hellip;</td><td>&hellip;</td><td>&hellip;</td><td>&hellip;</td><td>&hellip;</td><td>&hellip;</td><td>&hellip;</td><td>&hellip;</td><td>&hellip;</td><td>&hellip;</td><td>&hellip;</td><td>&hellip;</td><td>&hellip;</td><td>&hellip;</td></tr><tr><td>&quot;2024-406&quot;</td><td>&quot;Strasbourg&quot;</td><td>&quot;Clay&quot;</td><td>32</td><td>&quot;P&quot;</td><td>2024-05-20</td><td>262</td><td>&quot;221909&quot;</td><td>&quot;5&quot;</td><td>null</td><td>&quot;Ashlyn Krueger&quot;</td><td>&quot;R&quot;</td><td>185</td><td>&quot;USA&quot;</td><td>20.0</td><td>&quot;201329&quot;</td><td>null</td><td>&quot;ALT&quot;</td><td>&quot;Vera Zvonareva&quot;</td><td>&quot;R&quot;</td><td>172</td><td>&quot;RUS&quot;</td><td>39.6</td><td>&quot;6-0 6-0&quot;</td><td>3</td><td>&quot;Q1&quot;</td><td>&quot;52&quot;</td><td>&quot;1&quot;</td><td>&quot;3&quot;</td><td>&quot;38&quot;</td><td>&quot;30&quot;</td><td>&quot;23&quot;</td><td>&quot;4&quot;</td><td>&quot;6&quot;</td><td>&quot;4&quot;</td><td>&quot;4&quot;</td><td>&quot;0&quot;</td><td>&quot;4&quot;</td><td>&quot;38&quot;</td><td>&quot;25&quot;</td><td>&quot;9&quot;</td><td>&quot;1&quot;</td><td>&quot;6&quot;</td><td>&quot;3&quot;</td><td>&quot;9&quot;</td><td>&quot;65&quot;</td><td>&quot;994&quot;</td><td>&quot;264&quot;</td><td>&quot;276&quot;</td><td>&quot;Strasbourg_2024_qualifiers_itf&quot;</td></tr><tr><td>&quot;2024-406&quot;</td><td>&quot;Strasbourg&quot;</td><td>&quot;Clay&quot;</td><td>32</td><td>&quot;P&quot;</td><td>2024-05-20</td><td>261</td><td>&quot;211684&quot;</td><td>&quot;3&quot;</td><td>null</td><td>&quot;Magdalena Frech&quot;</td><td>&quot;R&quot;</td><td>171</td><td>&quot;POL&quot;</td><td>26.4</td><td>&quot;221116&quot;</td><td>null</td><td>null</td><td>&quot;Jana Kolodynska&quot;</td><td>&quot;R&quot;</td><td>null</td><td>&quot;BLR&quot;</td><td>20.7</td><td>&quot;6-2 6-1&quot;</td><td>3</td><td>&quot;Q1&quot;</td><td>&quot;75&quot;</td><td>&quot;0&quot;</td><td>&quot;0&quot;</td><td>&quot;51&quot;</td><td>&quot;33&quot;</td><td>&quot;21&quot;</td><td>&quot;15&quot;</td><td>&quot;7&quot;</td><td>&quot;2&quot;</td><td>&quot;2&quot;</td><td>&quot;0&quot;</td><td>&quot;4&quot;</td><td>&quot;58&quot;</td><td>&quot;39&quot;</td><td>&quot;20&quot;</td><td>&quot;6&quot;</td><td>&quot;8&quot;</td><td>&quot;7&quot;</td><td>&quot;12&quot;</td><td>&quot;54&quot;</td><td>&quot;1108&quot;</td><td>&quot;244&quot;</td><td>&quot;304&quot;</td><td>&quot;Strasbourg_2024_qualifiers_itf&quot;</td></tr><tr><td>&quot;2024-406&quot;</td><td>&quot;Strasbourg&quot;</td><td>&quot;Clay&quot;</td><td>32</td><td>&quot;P&quot;</td><td>2024-05-20</td><td>260</td><td>&quot;201611&quot;</td><td>&quot;7&quot;</td><td>null</td><td>&quot;Daria Saville&quot;</td><td>&quot;R&quot;</td><td>166</td><td>&quot;AUS&quot;</td><td>30.2</td><td>&quot;203281&quot;</td><td>null</td><td>&quot;WC&quot;</td><td>&quot;Amandine Hesse&quot;</td><td>&quot;R&quot;</td><td>164</td><td>&quot;FRA&quot;</td><td>31.3</td><td>&quot;6-1 6-1&quot;</td><td>3</td><td>&quot;Q1&quot;</td><td>&quot;63&quot;</td><td>&quot;0&quot;</td><td>&quot;1&quot;</td><td>&quot;41&quot;</td><td>&quot;27&quot;</td><td>&quot;21&quot;</td><td>&quot;10&quot;</td><td>&quot;7&quot;</td><td>&quot;3&quot;</td><td>&quot;3&quot;</td><td>&quot;1&quot;</td><td>&quot;1&quot;</td><td>&quot;49&quot;</td><td>&quot;33&quot;</td><td>&quot;14&quot;</td><td>&quot;7&quot;</td><td>&quot;7&quot;</td><td>&quot;6&quot;</td><td>&quot;11&quot;</td><td>&quot;85&quot;</td><td>&quot;820&quot;</td><td>&quot;273&quot;</td><td>&quot;266&quot;</td><td>&quot;Strasbourg_2024_qualifiers_itf&quot;</td></tr><tr><td>&quot;2024-406&quot;</td><td>&quot;Strasbourg&quot;</td><td>&quot;Clay&quot;</td><td>32</td><td>&quot;P&quot;</td><td>2024-05-20</td><td>259</td><td>&quot;203564&quot;</td><td>null</td><td>null</td><td>&quot;Chloe Paquet&quot;</td><td>&quot;R&quot;</td><td>179</td><td>&quot;FRA&quot;</td><td>29.8</td><td>&quot;213550&quot;</td><td>&quot;4&quot;</td><td>null</td><td>&quot;Sofia Kenin&quot;</td><td>&quot;R&quot;</td><td>170</td><td>&quot;USA&quot;</td><td>25.5</td><td>&quot;6-4 7-6(4)&quot;</td><td>3</td><td>&quot;Q1&quot;</td><td>&quot;118&quot;</td><td>&quot;17&quot;</td><td>&quot;10&quot;</td><td>&quot;97&quot;</td><td>&quot;47&quot;</td><td>&quot;35&quot;</td><td>&quot;18&quot;</td><td>&quot;11&quot;</td><td>&quot;6&quot;</td><td>&quot;10&quot;</td><td>&quot;2&quot;</td><td>&quot;5&quot;</td><td>&quot;84&quot;</td><td>&quot;54&quot;</td><td>&quot;29&quot;</td><td>&quot;13&quot;</td><td>&quot;11&quot;</td><td>&quot;6&quot;</td><td>&quot;11&quot;</td><td>&quot;139&quot;</td><td>&quot;535&quot;</td><td>&quot;55&quot;</td><td>&quot;1094&quot;</td><td>&quot;Strasbourg_2024_qualifiers_itf&quot;</td></tr><tr><td>&quot;2024-406&quot;</td><td>&quot;Strasbourg&quot;</td><td>&quot;Clay&quot;</td><td>32</td><td>&quot;P&quot;</td><td>2024-05-20</td><td>258</td><td>&quot;222965&quot;</td><td>&quot;8&quot;</td><td>null</td><td>&quot;Erika Andreeva&quot;</td><td>&quot;R&quot;</td><td>null</td><td>&quot;RUS&quot;</td><td>19.9</td><td>&quot;221039&quot;</td><td>null</td><td>null</td><td>&quot;Elsa Jacquemot&quot;</td><td>&quot;R&quot;</td><td>null</td><td>&quot;FRA&quot;</td><td>21.0</td><td>&quot;6-3 6-4&quot;</td><td>3</td><td>&quot;Q1&quot;</td><td>&quot;92&quot;</td><td>&quot;1&quot;</td><td>&quot;3&quot;</td><td>&quot;57&quot;</td><td>&quot;38&quot;</td><td>&quot;25&quot;</td><td>&quot;9&quot;</td><td>&quot;10&quot;</td><td>&quot;4&quot;</td><td>&quot;7&quot;</td><td>&quot;2&quot;</td><td>&quot;3&quot;</td><td>&quot;53&quot;</td><td>&quot;29&quot;</td><td>&quot;14&quot;</td><td>&quot;9&quot;</td><td>&quot;9&quot;</td><td>&quot;1&quot;</td><td>&quot;6&quot;</td><td>&quot;101&quot;</td><td>&quot;744&quot;</td><td>&quot;150&quot;</td><td>&quot;493&quot;</td><td>&quot;Strasbourg_2024_qualifiers_itf&quot;</td></tr></tbody></table></div>"
      ],
      "text/plain": [
       "shape: (512_063, 50)\n",
       "┌────────────┬───────────┬─────────┬───────────┬───┬───────────┬───────────┬───────────┬───────────┐\n",
       "│ tourney_id ┆ tourney_n ┆ surface ┆ draw_size ┆ … ┆ winner_ra ┆ loser_ran ┆ loser_ran ┆ tourney_n │\n",
       "│ ---        ┆ ame       ┆ ---     ┆ ---       ┆   ┆ nk_points ┆ k         ┆ k_points  ┆ ame_date_ │\n",
       "│ str        ┆ ---       ┆ str     ┆ i64       ┆   ┆ ---       ┆ ---       ┆ ---       ┆ matches   │\n",
       "│            ┆ str       ┆         ┆           ┆   ┆ str       ┆ str       ┆ str       ┆ ---       │\n",
       "│            ┆           ┆         ┆           ┆   ┆           ┆           ┆           ┆ str       │\n",
       "╞════════════╪═══════════╪═════════╪═══════════╪═══╪═══════════╪═══════════╪═══════════╪═══════════╡\n",
       "│ 1968-1004  ┆ Bournemou ┆ Clay    ┆ 32        ┆ … ┆ null      ┆ null      ┆ null      ┆ Bournemou │\n",
       "│            ┆ th        ┆         ┆           ┆   ┆           ┆           ┆           ┆ th_1968_q │\n",
       "│            ┆           ┆         ┆           ┆   ┆           ┆           ┆           ┆ ualifiers │\n",
       "│            ┆           ┆         ┆           ┆   ┆           ┆           ┆           ┆ _it…      │\n",
       "│ 1968-1004  ┆ Bournemou ┆ Clay    ┆ 32        ┆ … ┆ null      ┆ null      ┆ null      ┆ Bournemou │\n",
       "│            ┆ th        ┆         ┆           ┆   ┆           ┆           ┆           ┆ th_1968_q │\n",
       "│            ┆           ┆         ┆           ┆   ┆           ┆           ┆           ┆ ualifiers │\n",
       "│            ┆           ┆         ┆           ┆   ┆           ┆           ┆           ┆ _it…      │\n",
       "│ 1968-1004  ┆ Bournemou ┆ Clay    ┆ 32        ┆ … ┆ null      ┆ null      ┆ null      ┆ Bournemou │\n",
       "│            ┆ th        ┆         ┆           ┆   ┆           ┆           ┆           ┆ th_1968_q │\n",
       "│            ┆           ┆         ┆           ┆   ┆           ┆           ┆           ┆ ualifiers │\n",
       "│            ┆           ┆         ┆           ┆   ┆           ┆           ┆           ┆ _it…      │\n",
       "│ 1968-1004  ┆ Bournemou ┆ Clay    ┆ 32        ┆ … ┆ null      ┆ null      ┆ null      ┆ Bournemou │\n",
       "│            ┆ th        ┆         ┆           ┆   ┆           ┆           ┆           ┆ th_1968_q │\n",
       "│            ┆           ┆         ┆           ┆   ┆           ┆           ┆           ┆ ualifiers │\n",
       "│            ┆           ┆         ┆           ┆   ┆           ┆           ┆           ┆ _it…      │\n",
       "│ 1968-1004  ┆ Bournemou ┆ Clay    ┆ 32        ┆ … ┆ null      ┆ null      ┆ null      ┆ Bournemou │\n",
       "│            ┆ th        ┆         ┆           ┆   ┆           ┆           ┆           ┆ th_1968_q │\n",
       "│            ┆           ┆         ┆           ┆   ┆           ┆           ┆           ┆ ualifiers │\n",
       "│            ┆           ┆         ┆           ┆   ┆           ┆           ┆           ┆ _it…      │\n",
       "│ …          ┆ …         ┆ …       ┆ …         ┆ … ┆ …         ┆ …         ┆ …         ┆ …         │\n",
       "│ 2024-406   ┆ Strasbour ┆ Clay    ┆ 32        ┆ … ┆ 994       ┆ 264       ┆ 276       ┆ Strasbour │\n",
       "│            ┆ g         ┆         ┆           ┆   ┆           ┆           ┆           ┆ g_2024_qu │\n",
       "│            ┆           ┆         ┆           ┆   ┆           ┆           ┆           ┆ alifiers_ │\n",
       "│            ┆           ┆         ┆           ┆   ┆           ┆           ┆           ┆ itf       │\n",
       "│ 2024-406   ┆ Strasbour ┆ Clay    ┆ 32        ┆ … ┆ 1108      ┆ 244       ┆ 304       ┆ Strasbour │\n",
       "│            ┆ g         ┆         ┆           ┆   ┆           ┆           ┆           ┆ g_2024_qu │\n",
       "│            ┆           ┆         ┆           ┆   ┆           ┆           ┆           ┆ alifiers_ │\n",
       "│            ┆           ┆         ┆           ┆   ┆           ┆           ┆           ┆ itf       │\n",
       "│ 2024-406   ┆ Strasbour ┆ Clay    ┆ 32        ┆ … ┆ 820       ┆ 273       ┆ 266       ┆ Strasbour │\n",
       "│            ┆ g         ┆         ┆           ┆   ┆           ┆           ┆           ┆ g_2024_qu │\n",
       "│            ┆           ┆         ┆           ┆   ┆           ┆           ┆           ┆ alifiers_ │\n",
       "│            ┆           ┆         ┆           ┆   ┆           ┆           ┆           ┆ itf       │\n",
       "│ 2024-406   ┆ Strasbour ┆ Clay    ┆ 32        ┆ … ┆ 535       ┆ 55        ┆ 1094      ┆ Strasbour │\n",
       "│            ┆ g         ┆         ┆           ┆   ┆           ┆           ┆           ┆ g_2024_qu │\n",
       "│            ┆           ┆         ┆           ┆   ┆           ┆           ┆           ┆ alifiers_ │\n",
       "│            ┆           ┆         ┆           ┆   ┆           ┆           ┆           ┆ itf       │\n",
       "│ 2024-406   ┆ Strasbour ┆ Clay    ┆ 32        ┆ … ┆ 744       ┆ 150       ┆ 493       ┆ Strasbour │\n",
       "│            ┆ g         ┆         ┆           ┆   ┆           ┆           ┆           ┆ g_2024_qu │\n",
       "│            ┆           ┆         ┆           ┆   ┆           ┆           ┆           ┆ alifiers_ │\n",
       "│            ┆           ┆         ┆           ┆   ┆           ┆           ┆           ┆ itf       │\n",
       "└────────────┴───────────┴─────────┴───────────┴───┴───────────┴───────────┴───────────┴───────────┘"
      ]
     },
     "execution_count": 16,
     "metadata": {},
     "output_type": "execute_result"
    }
   ],
   "source": [
    "matches_qualifiers_itf=import_tennis_matches(data_type=\"qualifiers_itf\",gender=\"wta\")\n",
    "\n",
    "matches_qualifiers_itf = matches_qualifiers_itf.with_columns(\n",
    "    (pl.col(\"tourney_name\") + \"_\" + pl.col(\"tourney_date\").dt.year().cast(pl.Utf8)+\"_qualifiers_itf\").alias(\"tourney_name_date_matches\")\n",
    ")\n",
    "matches_qualifiers_itf"
   ]
  },
  {
   "cell_type": "code",
   "execution_count": 17,
   "metadata": {},
   "outputs": [
    {
     "data": {
      "text/html": [
       "<div><style>\n",
       ".dataframe > thead > tr,\n",
       ".dataframe > tbody > tr {\n",
       "  text-align: right;\n",
       "  white-space: pre-wrap;\n",
       "}\n",
       "</style>\n",
       "<small>shape: (512_063, 51)</small><table border=\"1\" class=\"dataframe\"><thead><tr><th>tourney_id</th><th>tourney_name</th><th>surface</th><th>draw_size</th><th>tourney_level</th><th>tourney_date</th><th>match_num</th><th>winner_id</th><th>winner_seed</th><th>winner_entry</th><th>winner_name</th><th>winner_hand</th><th>winner_ht</th><th>winner_ioc</th><th>winner_age</th><th>loser_id</th><th>loser_seed</th><th>loser_entry</th><th>loser_name</th><th>loser_hand</th><th>loser_ht</th><th>loser_ioc</th><th>loser_age</th><th>score</th><th>best_of</th><th>round</th><th>minutes</th><th>w_ace</th><th>w_df</th><th>w_svpt</th><th>w_1stIn</th><th>w_1stWon</th><th>w_2ndWon</th><th>w_SvGms</th><th>w_bpSaved</th><th>w_bpFaced</th><th>l_ace</th><th>l_df</th><th>l_svpt</th><th>l_1stIn</th><th>l_1stWon</th><th>l_2ndWon</th><th>l_SvGms</th><th>l_bpSaved</th><th>l_bpFaced</th><th>winner_rank</th><th>winner_rank_points</th><th>loser_rank</th><th>loser_rank_points</th><th>tourney_name_date_matches</th><th>monetary_winnings</th></tr><tr><td>str</td><td>str</td><td>str</td><td>i64</td><td>str</td><td>date</td><td>i64</td><td>str</td><td>str</td><td>str</td><td>str</td><td>str</td><td>i64</td><td>str</td><td>f64</td><td>str</td><td>str</td><td>str</td><td>str</td><td>str</td><td>i64</td><td>str</td><td>f64</td><td>str</td><td>i64</td><td>str</td><td>str</td><td>str</td><td>str</td><td>str</td><td>str</td><td>str</td><td>str</td><td>str</td><td>str</td><td>str</td><td>str</td><td>str</td><td>str</td><td>str</td><td>str</td><td>str</td><td>str</td><td>str</td><td>str</td><td>str</td><td>str</td><td>str</td><td>str</td><td>str</td><td>i64</td></tr></thead><tbody><tr><td>&quot;1968-1004&quot;</td><td>&quot;Bournemouth&quot;</td><td>&quot;Clay&quot;</td><td>32</td><td>&quot;W&quot;</td><td>1968-04-22</td><td>201</td><td>&quot;200810&quot;</td><td>&quot;5&quot;</td><td>null</td><td>&quot;Annette Van Zyl&quot;</td><td>&quot;R&quot;</td><td>180</td><td>&quot;RSA&quot;</td><td>24.5</td><td>&quot;201114&quot;</td><td>null</td><td>null</td><td>&quot;Robin Lloyd&quot;</td><td>&quot;U&quot;</td><td>null</td><td>&quot;GBR&quot;</td><td>24.1</td><td>&quot;6-3 6-4&quot;</td><td>3</td><td>&quot;Q1&quot;</td><td>null</td><td>null</td><td>null</td><td>null</td><td>null</td><td>null</td><td>null</td><td>null</td><td>null</td><td>null</td><td>null</td><td>null</td><td>null</td><td>null</td><td>null</td><td>null</td><td>null</td><td>null</td><td>null</td><td>null</td><td>null</td><td>null</td><td>null</td><td>&quot;Bournemouth_1968_qualifiers_it…</td><td>null</td></tr><tr><td>&quot;1968-1004&quot;</td><td>&quot;Bournemouth&quot;</td><td>&quot;Clay&quot;</td><td>32</td><td>&quot;W&quot;</td><td>1968-04-22</td><td>202</td><td>&quot;223881&quot;</td><td>null</td><td>null</td><td>&quot;Dianne Bridger&quot;</td><td>&quot;U&quot;</td><td>null</td><td>&quot;GBR&quot;</td><td>null</td><td>&quot;213882&quot;</td><td>null</td><td>null</td><td>&quot;Lena Reichel&quot;</td><td>&quot;U&quot;</td><td>null</td><td>&quot;AUT&quot;</td><td>-29.0</td><td>&quot;6-1 8-6&quot;</td><td>3</td><td>&quot;Q1&quot;</td><td>null</td><td>null</td><td>null</td><td>null</td><td>null</td><td>null</td><td>null</td><td>null</td><td>null</td><td>null</td><td>null</td><td>null</td><td>null</td><td>null</td><td>null</td><td>null</td><td>null</td><td>null</td><td>null</td><td>null</td><td>null</td><td>null</td><td>null</td><td>&quot;Bournemouth_1968_qualifiers_it…</td><td>null</td></tr><tr><td>&quot;1968-1004&quot;</td><td>&quot;Bournemouth&quot;</td><td>&quot;Clay&quot;</td><td>32</td><td>&quot;W&quot;</td><td>1968-04-22</td><td>203</td><td>&quot;216633&quot;</td><td>null</td><td>null</td><td>&quot;Mary Mcanally&quot;</td><td>&quot;U&quot;</td><td>null</td><td>&quot;GBR&quot;</td><td>23.0</td><td>&quot;223997&quot;</td><td>null</td><td>null</td><td>&quot;Sandra Okin&quot;</td><td>&quot;U&quot;</td><td>null</td><td>&quot;GBR&quot;</td><td>null</td><td>&quot;3-6 6-4 6-2&quot;</td><td>3</td><td>&quot;Q1&quot;</td><td>null</td><td>null</td><td>null</td><td>null</td><td>null</td><td>null</td><td>null</td><td>null</td><td>null</td><td>null</td><td>null</td><td>null</td><td>null</td><td>null</td><td>null</td><td>null</td><td>null</td><td>null</td><td>null</td><td>null</td><td>null</td><td>null</td><td>null</td><td>&quot;Bournemouth_1968_qualifiers_it…</td><td>null</td></tr><tr><td>&quot;1968-1004&quot;</td><td>&quot;Bournemouth&quot;</td><td>&quot;Clay&quot;</td><td>32</td><td>&quot;W&quot;</td><td>1968-04-22</td><td>204</td><td>&quot;223659&quot;</td><td>null</td><td>null</td><td>&quot;Heather Allen&quot;</td><td>&quot;U&quot;</td><td>null</td><td>&quot;GBR&quot;</td><td>3.8</td><td>&quot;224029&quot;</td><td>null</td><td>null</td><td>&quot;Jane Poynder&quot;</td><td>&quot;U&quot;</td><td>null</td><td>&quot;GBR&quot;</td><td>null</td><td>&quot;6-3 6-4&quot;</td><td>3</td><td>&quot;Q1&quot;</td><td>null</td><td>null</td><td>null</td><td>null</td><td>null</td><td>null</td><td>null</td><td>null</td><td>null</td><td>null</td><td>null</td><td>null</td><td>null</td><td>null</td><td>null</td><td>null</td><td>null</td><td>null</td><td>null</td><td>null</td><td>null</td><td>null</td><td>null</td><td>&quot;Bournemouth_1968_qualifiers_it…</td><td>null</td></tr><tr><td>&quot;1968-1004&quot;</td><td>&quot;Bournemouth&quot;</td><td>&quot;Clay&quot;</td><td>32</td><td>&quot;W&quot;</td><td>1968-04-22</td><td>205</td><td>&quot;201121&quot;</td><td>null</td><td>null</td><td>&quot;Sue Tutt&quot;</td><td>&quot;U&quot;</td><td>null</td><td>&quot;GBR&quot;</td><td>null</td><td>&quot;201117&quot;</td><td>null</td><td>null</td><td>&quot;Margaret Harris&quot;</td><td>&quot;R&quot;</td><td>null</td><td>&quot;AUS&quot;</td><td>23.1</td><td>&quot;2-6 6-1 6-1&quot;</td><td>3</td><td>&quot;Q1&quot;</td><td>null</td><td>null</td><td>null</td><td>null</td><td>null</td><td>null</td><td>null</td><td>null</td><td>null</td><td>null</td><td>null</td><td>null</td><td>null</td><td>null</td><td>null</td><td>null</td><td>null</td><td>null</td><td>null</td><td>null</td><td>null</td><td>null</td><td>null</td><td>&quot;Bournemouth_1968_qualifiers_it…</td><td>null</td></tr><tr><td>&hellip;</td><td>&hellip;</td><td>&hellip;</td><td>&hellip;</td><td>&hellip;</td><td>&hellip;</td><td>&hellip;</td><td>&hellip;</td><td>&hellip;</td><td>&hellip;</td><td>&hellip;</td><td>&hellip;</td><td>&hellip;</td><td>&hellip;</td><td>&hellip;</td><td>&hellip;</td><td>&hellip;</td><td>&hellip;</td><td>&hellip;</td><td>&hellip;</td><td>&hellip;</td><td>&hellip;</td><td>&hellip;</td><td>&hellip;</td><td>&hellip;</td><td>&hellip;</td><td>&hellip;</td><td>&hellip;</td><td>&hellip;</td><td>&hellip;</td><td>&hellip;</td><td>&hellip;</td><td>&hellip;</td><td>&hellip;</td><td>&hellip;</td><td>&hellip;</td><td>&hellip;</td><td>&hellip;</td><td>&hellip;</td><td>&hellip;</td><td>&hellip;</td><td>&hellip;</td><td>&hellip;</td><td>&hellip;</td><td>&hellip;</td><td>&hellip;</td><td>&hellip;</td><td>&hellip;</td><td>&hellip;</td><td>&hellip;</td><td>&hellip;</td></tr><tr><td>&quot;2024-406&quot;</td><td>&quot;Strasbourg&quot;</td><td>&quot;Clay&quot;</td><td>32</td><td>&quot;P&quot;</td><td>2024-05-20</td><td>262</td><td>&quot;221909&quot;</td><td>&quot;5&quot;</td><td>null</td><td>&quot;Ashlyn Krueger&quot;</td><td>&quot;R&quot;</td><td>185</td><td>&quot;USA&quot;</td><td>20.0</td><td>&quot;201329&quot;</td><td>null</td><td>&quot;ALT&quot;</td><td>&quot;Vera Zvonareva&quot;</td><td>&quot;R&quot;</td><td>172</td><td>&quot;RUS&quot;</td><td>39.6</td><td>&quot;6-0 6-0&quot;</td><td>3</td><td>&quot;Q1&quot;</td><td>&quot;52&quot;</td><td>&quot;1&quot;</td><td>&quot;3&quot;</td><td>&quot;38&quot;</td><td>&quot;30&quot;</td><td>&quot;23&quot;</td><td>&quot;4&quot;</td><td>&quot;6&quot;</td><td>&quot;4&quot;</td><td>&quot;4&quot;</td><td>&quot;0&quot;</td><td>&quot;4&quot;</td><td>&quot;38&quot;</td><td>&quot;25&quot;</td><td>&quot;9&quot;</td><td>&quot;1&quot;</td><td>&quot;6&quot;</td><td>&quot;3&quot;</td><td>&quot;9&quot;</td><td>&quot;65&quot;</td><td>&quot;994&quot;</td><td>&quot;264&quot;</td><td>&quot;276&quot;</td><td>&quot;Strasbourg_2024_qualifiers_itf&quot;</td><td>null</td></tr><tr><td>&quot;2024-406&quot;</td><td>&quot;Strasbourg&quot;</td><td>&quot;Clay&quot;</td><td>32</td><td>&quot;P&quot;</td><td>2024-05-20</td><td>261</td><td>&quot;211684&quot;</td><td>&quot;3&quot;</td><td>null</td><td>&quot;Magdalena Frech&quot;</td><td>&quot;R&quot;</td><td>171</td><td>&quot;POL&quot;</td><td>26.4</td><td>&quot;221116&quot;</td><td>null</td><td>null</td><td>&quot;Jana Kolodynska&quot;</td><td>&quot;R&quot;</td><td>null</td><td>&quot;BLR&quot;</td><td>20.7</td><td>&quot;6-2 6-1&quot;</td><td>3</td><td>&quot;Q1&quot;</td><td>&quot;75&quot;</td><td>&quot;0&quot;</td><td>&quot;0&quot;</td><td>&quot;51&quot;</td><td>&quot;33&quot;</td><td>&quot;21&quot;</td><td>&quot;15&quot;</td><td>&quot;7&quot;</td><td>&quot;2&quot;</td><td>&quot;2&quot;</td><td>&quot;0&quot;</td><td>&quot;4&quot;</td><td>&quot;58&quot;</td><td>&quot;39&quot;</td><td>&quot;20&quot;</td><td>&quot;6&quot;</td><td>&quot;8&quot;</td><td>&quot;7&quot;</td><td>&quot;12&quot;</td><td>&quot;54&quot;</td><td>&quot;1108&quot;</td><td>&quot;244&quot;</td><td>&quot;304&quot;</td><td>&quot;Strasbourg_2024_qualifiers_itf&quot;</td><td>null</td></tr><tr><td>&quot;2024-406&quot;</td><td>&quot;Strasbourg&quot;</td><td>&quot;Clay&quot;</td><td>32</td><td>&quot;P&quot;</td><td>2024-05-20</td><td>260</td><td>&quot;201611&quot;</td><td>&quot;7&quot;</td><td>null</td><td>&quot;Daria Saville&quot;</td><td>&quot;R&quot;</td><td>166</td><td>&quot;AUS&quot;</td><td>30.2</td><td>&quot;203281&quot;</td><td>null</td><td>&quot;WC&quot;</td><td>&quot;Amandine Hesse&quot;</td><td>&quot;R&quot;</td><td>164</td><td>&quot;FRA&quot;</td><td>31.3</td><td>&quot;6-1 6-1&quot;</td><td>3</td><td>&quot;Q1&quot;</td><td>&quot;63&quot;</td><td>&quot;0&quot;</td><td>&quot;1&quot;</td><td>&quot;41&quot;</td><td>&quot;27&quot;</td><td>&quot;21&quot;</td><td>&quot;10&quot;</td><td>&quot;7&quot;</td><td>&quot;3&quot;</td><td>&quot;3&quot;</td><td>&quot;1&quot;</td><td>&quot;1&quot;</td><td>&quot;49&quot;</td><td>&quot;33&quot;</td><td>&quot;14&quot;</td><td>&quot;7&quot;</td><td>&quot;7&quot;</td><td>&quot;6&quot;</td><td>&quot;11&quot;</td><td>&quot;85&quot;</td><td>&quot;820&quot;</td><td>&quot;273&quot;</td><td>&quot;266&quot;</td><td>&quot;Strasbourg_2024_qualifiers_itf&quot;</td><td>null</td></tr><tr><td>&quot;2024-406&quot;</td><td>&quot;Strasbourg&quot;</td><td>&quot;Clay&quot;</td><td>32</td><td>&quot;P&quot;</td><td>2024-05-20</td><td>259</td><td>&quot;203564&quot;</td><td>null</td><td>null</td><td>&quot;Chloe Paquet&quot;</td><td>&quot;R&quot;</td><td>179</td><td>&quot;FRA&quot;</td><td>29.8</td><td>&quot;213550&quot;</td><td>&quot;4&quot;</td><td>null</td><td>&quot;Sofia Kenin&quot;</td><td>&quot;R&quot;</td><td>170</td><td>&quot;USA&quot;</td><td>25.5</td><td>&quot;6-4 7-6(4)&quot;</td><td>3</td><td>&quot;Q1&quot;</td><td>&quot;118&quot;</td><td>&quot;17&quot;</td><td>&quot;10&quot;</td><td>&quot;97&quot;</td><td>&quot;47&quot;</td><td>&quot;35&quot;</td><td>&quot;18&quot;</td><td>&quot;11&quot;</td><td>&quot;6&quot;</td><td>&quot;10&quot;</td><td>&quot;2&quot;</td><td>&quot;5&quot;</td><td>&quot;84&quot;</td><td>&quot;54&quot;</td><td>&quot;29&quot;</td><td>&quot;13&quot;</td><td>&quot;11&quot;</td><td>&quot;6&quot;</td><td>&quot;11&quot;</td><td>&quot;139&quot;</td><td>&quot;535&quot;</td><td>&quot;55&quot;</td><td>&quot;1094&quot;</td><td>&quot;Strasbourg_2024_qualifiers_itf&quot;</td><td>null</td></tr><tr><td>&quot;2024-406&quot;</td><td>&quot;Strasbourg&quot;</td><td>&quot;Clay&quot;</td><td>32</td><td>&quot;P&quot;</td><td>2024-05-20</td><td>258</td><td>&quot;222965&quot;</td><td>&quot;8&quot;</td><td>null</td><td>&quot;Erika Andreeva&quot;</td><td>&quot;R&quot;</td><td>null</td><td>&quot;RUS&quot;</td><td>19.9</td><td>&quot;221039&quot;</td><td>null</td><td>null</td><td>&quot;Elsa Jacquemot&quot;</td><td>&quot;R&quot;</td><td>null</td><td>&quot;FRA&quot;</td><td>21.0</td><td>&quot;6-3 6-4&quot;</td><td>3</td><td>&quot;Q1&quot;</td><td>&quot;92&quot;</td><td>&quot;1&quot;</td><td>&quot;3&quot;</td><td>&quot;57&quot;</td><td>&quot;38&quot;</td><td>&quot;25&quot;</td><td>&quot;9&quot;</td><td>&quot;10&quot;</td><td>&quot;4&quot;</td><td>&quot;7&quot;</td><td>&quot;2&quot;</td><td>&quot;3&quot;</td><td>&quot;53&quot;</td><td>&quot;29&quot;</td><td>&quot;14&quot;</td><td>&quot;9&quot;</td><td>&quot;9&quot;</td><td>&quot;1&quot;</td><td>&quot;6&quot;</td><td>&quot;101&quot;</td><td>&quot;744&quot;</td><td>&quot;150&quot;</td><td>&quot;493&quot;</td><td>&quot;Strasbourg_2024_qualifiers_itf&quot;</td><td>null</td></tr></tbody></table></div>"
      ],
      "text/plain": [
       "shape: (512_063, 51)\n",
       "┌────────────┬───────────┬─────────┬───────────┬───┬───────────┬───────────┬───────────┬───────────┐\n",
       "│ tourney_id ┆ tourney_n ┆ surface ┆ draw_size ┆ … ┆ loser_ran ┆ loser_ran ┆ tourney_n ┆ monetary_ │\n",
       "│ ---        ┆ ame       ┆ ---     ┆ ---       ┆   ┆ k         ┆ k_points  ┆ ame_date_ ┆ winnings  │\n",
       "│ str        ┆ ---       ┆ str     ┆ i64       ┆   ┆ ---       ┆ ---       ┆ matches   ┆ ---       │\n",
       "│            ┆ str       ┆         ┆           ┆   ┆ str       ┆ str       ┆ ---       ┆ i64       │\n",
       "│            ┆           ┆         ┆           ┆   ┆           ┆           ┆ str       ┆           │\n",
       "╞════════════╪═══════════╪═════════╪═══════════╪═══╪═══════════╪═══════════╪═══════════╪═══════════╡\n",
       "│ 1968-1004  ┆ Bournemou ┆ Clay    ┆ 32        ┆ … ┆ null      ┆ null      ┆ Bournemou ┆ null      │\n",
       "│            ┆ th        ┆         ┆           ┆   ┆           ┆           ┆ th_1968_q ┆           │\n",
       "│            ┆           ┆         ┆           ┆   ┆           ┆           ┆ ualifiers ┆           │\n",
       "│            ┆           ┆         ┆           ┆   ┆           ┆           ┆ _it…      ┆           │\n",
       "│ 1968-1004  ┆ Bournemou ┆ Clay    ┆ 32        ┆ … ┆ null      ┆ null      ┆ Bournemou ┆ null      │\n",
       "│            ┆ th        ┆         ┆           ┆   ┆           ┆           ┆ th_1968_q ┆           │\n",
       "│            ┆           ┆         ┆           ┆   ┆           ┆           ┆ ualifiers ┆           │\n",
       "│            ┆           ┆         ┆           ┆   ┆           ┆           ┆ _it…      ┆           │\n",
       "│ 1968-1004  ┆ Bournemou ┆ Clay    ┆ 32        ┆ … ┆ null      ┆ null      ┆ Bournemou ┆ null      │\n",
       "│            ┆ th        ┆         ┆           ┆   ┆           ┆           ┆ th_1968_q ┆           │\n",
       "│            ┆           ┆         ┆           ┆   ┆           ┆           ┆ ualifiers ┆           │\n",
       "│            ┆           ┆         ┆           ┆   ┆           ┆           ┆ _it…      ┆           │\n",
       "│ 1968-1004  ┆ Bournemou ┆ Clay    ┆ 32        ┆ … ┆ null      ┆ null      ┆ Bournemou ┆ null      │\n",
       "│            ┆ th        ┆         ┆           ┆   ┆           ┆           ┆ th_1968_q ┆           │\n",
       "│            ┆           ┆         ┆           ┆   ┆           ┆           ┆ ualifiers ┆           │\n",
       "│            ┆           ┆         ┆           ┆   ┆           ┆           ┆ _it…      ┆           │\n",
       "│ 1968-1004  ┆ Bournemou ┆ Clay    ┆ 32        ┆ … ┆ null      ┆ null      ┆ Bournemou ┆ null      │\n",
       "│            ┆ th        ┆         ┆           ┆   ┆           ┆           ┆ th_1968_q ┆           │\n",
       "│            ┆           ┆         ┆           ┆   ┆           ┆           ┆ ualifiers ┆           │\n",
       "│            ┆           ┆         ┆           ┆   ┆           ┆           ┆ _it…      ┆           │\n",
       "│ …          ┆ …         ┆ …       ┆ …         ┆ … ┆ …         ┆ …         ┆ …         ┆ …         │\n",
       "│ 2024-406   ┆ Strasbour ┆ Clay    ┆ 32        ┆ … ┆ 264       ┆ 276       ┆ Strasbour ┆ null      │\n",
       "│            ┆ g         ┆         ┆           ┆   ┆           ┆           ┆ g_2024_qu ┆           │\n",
       "│            ┆           ┆         ┆           ┆   ┆           ┆           ┆ alifiers_ ┆           │\n",
       "│            ┆           ┆         ┆           ┆   ┆           ┆           ┆ itf       ┆           │\n",
       "│ 2024-406   ┆ Strasbour ┆ Clay    ┆ 32        ┆ … ┆ 244       ┆ 304       ┆ Strasbour ┆ null      │\n",
       "│            ┆ g         ┆         ┆           ┆   ┆           ┆           ┆ g_2024_qu ┆           │\n",
       "│            ┆           ┆         ┆           ┆   ┆           ┆           ┆ alifiers_ ┆           │\n",
       "│            ┆           ┆         ┆           ┆   ┆           ┆           ┆ itf       ┆           │\n",
       "│ 2024-406   ┆ Strasbour ┆ Clay    ┆ 32        ┆ … ┆ 273       ┆ 266       ┆ Strasbour ┆ null      │\n",
       "│            ┆ g         ┆         ┆           ┆   ┆           ┆           ┆ g_2024_qu ┆           │\n",
       "│            ┆           ┆         ┆           ┆   ┆           ┆           ┆ alifiers_ ┆           │\n",
       "│            ┆           ┆         ┆           ┆   ┆           ┆           ┆ itf       ┆           │\n",
       "│ 2024-406   ┆ Strasbour ┆ Clay    ┆ 32        ┆ … ┆ 55        ┆ 1094      ┆ Strasbour ┆ null      │\n",
       "│            ┆ g         ┆         ┆           ┆   ┆           ┆           ┆ g_2024_qu ┆           │\n",
       "│            ┆           ┆         ┆           ┆   ┆           ┆           ┆ alifiers_ ┆           │\n",
       "│            ┆           ┆         ┆           ┆   ┆           ┆           ┆ itf       ┆           │\n",
       "│ 2024-406   ┆ Strasbour ┆ Clay    ┆ 32        ┆ … ┆ 150       ┆ 493       ┆ Strasbour ┆ null      │\n",
       "│            ┆ g         ┆         ┆           ┆   ┆           ┆           ┆ g_2024_qu ┆           │\n",
       "│            ┆           ┆         ┆           ┆   ┆           ┆           ┆ alifiers_ ┆           │\n",
       "│            ┆           ┆         ┆           ┆   ┆           ┆           ┆ itf       ┆           │\n",
       "└────────────┴───────────┴─────────┴───────────┴───┴───────────┴───────────┴───────────┴───────────┘"
      ]
     },
     "execution_count": 17,
     "metadata": {},
     "output_type": "execute_result"
    }
   ],
   "source": [
    "#Creazione di colonna dove mettere il montepremi con ciclo for aggregato\n",
    "\n",
    "# Liste per salvare i risultati\n",
    "new_values = []\n",
    "updated_col1 = []\n",
    "\n",
    "# Itera su tutte le righe\n",
    "for value in matches_qualifiers_itf[\"tourney_name\"]:\n",
    "    if value.startswith(\"W\") and len(value) > 1 and value[1:].split()[0].isdigit():  # Controlla 'W' e numero\n",
    "        parts = value.split(maxsplit=1)  # Dividi al primo spazio\n",
    "        new_values.append(int(parts[0][1:]) * 1000)  # Moltiplica il numero per 1000\n",
    "        updated_col1.append(parts[1] if len(parts) > 1 else None)  # Rimuovi 'W<num>' e mantieni il resto\n",
    "    else:\n",
    "        new_values.append(None)  # Altrimenti, None nella nuova colonna\n",
    "        updated_col1.append(value)  # Mantieni il valore originale\n",
    "\n",
    "# Aggiorna il DataFrame con le due colonne\n",
    "matches_qualifiers_itf = matches_qualifiers_itf.with_columns([\n",
    "    pl.Series(\"tourney_name\", updated_col1),\n",
    "    pl.Series(\"monetary_winnings\", new_values),\n",
    "])\n",
    "matches_qualifiers_itf"
   ]
  },
  {
   "cell_type": "code",
   "execution_count": 18,
   "metadata": {},
   "outputs": [
    {
     "data": {
      "text/html": [
       "<div><style>\n",
       ".dataframe > thead > tr,\n",
       ".dataframe > tbody > tr {\n",
       "  text-align: right;\n",
       "  white-space: pre-wrap;\n",
       "}\n",
       "</style>\n",
       "<small>shape: (12_160, 6)</small><table border=\"1\" class=\"dataframe\"><thead><tr><th>tourney_name</th><th>surface</th><th>draw_size</th><th>tourney_level</th><th>tourney_date</th><th>tourney_name_date_matches</th></tr><tr><td>str</td><td>str</td><td>i64</td><td>str</td><td>date</td><td>str</td></tr></thead><tbody><tr><td>&quot;Haskovo 10K&quot;</td><td>&quot;Clay&quot;</td><td>32</td><td>&quot;10&quot;</td><td>2006-06-05</td><td>&quot;Haskovo 10K_2006_qualifiers_it…</td></tr><tr><td>&quot;Le Havre&quot;</td><td>&quot;Clay&quot;</td><td>32</td><td>&quot;15&quot;</td><td>2023-03-20</td><td>&quot;W15 Le Havre_2023_qualifiers_i…</td></tr><tr><td>&quot;Rome&quot;</td><td>&quot;Clay&quot;</td><td>32</td><td>&quot;W&quot;</td><td>1979-05-07</td><td>&quot;Rome_1979_qualifiers_itf&quot;</td></tr><tr><td>&quot;Monte Carlo&quot;</td><td>&quot;Clay&quot;</td><td>31</td><td>&quot;W&quot;</td><td>1969-04-16</td><td>&quot;Monte Carlo_1969_qualifiers_it…</td></tr><tr><td>&quot;Contrexeville 50K&quot;</td><td>&quot;Clay&quot;</td><td>32</td><td>&quot;50&quot;</td><td>2010-07-12</td><td>&quot;Contrexeville 50K_2010_qualifi…</td></tr><tr><td>&hellip;</td><td>&hellip;</td><td>&hellip;</td><td>&hellip;</td><td>&hellip;</td><td>&hellip;</td></tr><tr><td>&quot;ITF Lee-On-Solent&quot;</td><td>&quot;Clay&quot;</td><td>32</td><td>&quot;C&quot;</td><td>1989-05-08</td><td>&quot;ITF Lee-On-Solent_1989_qualifi…</td></tr><tr><td>&quot;Buchen 10K&quot;</td><td>&quot;Carpet&quot;</td><td>32</td><td>&quot;10&quot;</td><td>1997-03-03</td><td>&quot;Buchen 10K_1997_qualifiers_itf&quot;</td></tr><tr><td>&quot;Rimini 50K&quot;</td><td>&quot;Clay&quot;</td><td>32</td><td>&quot;50&quot;</td><td>2004-08-02</td><td>&quot;Rimini 50K_2004_qualifiers_itf&quot;</td></tr><tr><td>&quot;Eastbourne&quot;</td><td>&quot;Grass&quot;</td><td>64</td><td>&quot;W&quot;</td><td>1980-06-16</td><td>&quot;Eastbourne_1980_qualifiers_itf&quot;</td></tr><tr><td>&quot;ITF Bethesda&quot;</td><td>&quot;Hard&quot;</td><td>null</td><td>&quot;C&quot;</td><td>1987-09-28</td><td>&quot;ITF Bethesda_1987_qualifiers_i…</td></tr></tbody></table></div>"
      ],
      "text/plain": [
       "shape: (12_160, 6)\n",
       "┌───────────────────┬─────────┬───────────┬───────────────┬──────────────┬─────────────────────────┐\n",
       "│ tourney_name      ┆ surface ┆ draw_size ┆ tourney_level ┆ tourney_date ┆ tourney_name_date_match │\n",
       "│ ---               ┆ ---     ┆ ---       ┆ ---           ┆ ---          ┆ es                      │\n",
       "│ str               ┆ str     ┆ i64       ┆ str           ┆ date         ┆ ---                     │\n",
       "│                   ┆         ┆           ┆               ┆              ┆ str                     │\n",
       "╞═══════════════════╪═════════╪═══════════╪═══════════════╪══════════════╪═════════════════════════╡\n",
       "│ Haskovo 10K       ┆ Clay    ┆ 32        ┆ 10            ┆ 2006-06-05   ┆ Haskovo                 │\n",
       "│                   ┆         ┆           ┆               ┆              ┆ 10K_2006_qualifiers_it… │\n",
       "│ Le Havre          ┆ Clay    ┆ 32        ┆ 15            ┆ 2023-03-20   ┆ W15 Le Havre_2023_quali │\n",
       "│                   ┆         ┆           ┆               ┆              ┆ fiers_i…                │\n",
       "│ Rome              ┆ Clay    ┆ 32        ┆ W             ┆ 1979-05-07   ┆ Rome_1979_qualifiers_it │\n",
       "│                   ┆         ┆           ┆               ┆              ┆ f                       │\n",
       "│ Monte Carlo       ┆ Clay    ┆ 31        ┆ W             ┆ 1969-04-16   ┆ Monte Carlo_1969_qualif │\n",
       "│                   ┆         ┆           ┆               ┆              ┆ iers_it…                │\n",
       "│ Contrexeville 50K ┆ Clay    ┆ 32        ┆ 50            ┆ 2010-07-12   ┆ Contrexeville           │\n",
       "│                   ┆         ┆           ┆               ┆              ┆ 50K_2010_qualifi…       │\n",
       "│ …                 ┆ …       ┆ …         ┆ …             ┆ …            ┆ …                       │\n",
       "│ ITF Lee-On-Solent ┆ Clay    ┆ 32        ┆ C             ┆ 1989-05-08   ┆ ITF Lee-On-Solent_1989_ │\n",
       "│                   ┆         ┆           ┆               ┆              ┆ qualifi…                │\n",
       "│ Buchen 10K        ┆ Carpet  ┆ 32        ┆ 10            ┆ 1997-03-03   ┆ Buchen                  │\n",
       "│                   ┆         ┆           ┆               ┆              ┆ 10K_1997_qualifiers_itf │\n",
       "│ Rimini 50K        ┆ Clay    ┆ 32        ┆ 50            ┆ 2004-08-02   ┆ Rimini                  │\n",
       "│                   ┆         ┆           ┆               ┆              ┆ 50K_2004_qualifiers_itf │\n",
       "│ Eastbourne        ┆ Grass   ┆ 64        ┆ W             ┆ 1980-06-16   ┆ Eastbourne_1980_qualifi │\n",
       "│                   ┆         ┆           ┆               ┆              ┆ ers_itf                 │\n",
       "│ ITF Bethesda      ┆ Hard    ┆ null      ┆ C             ┆ 1987-09-28   ┆ ITF Bethesda_1987_quali │\n",
       "│                   ┆         ┆           ┆               ┆              ┆ fiers_i…                │\n",
       "└───────────────────┴─────────┴───────────┴───────────────┴──────────────┴─────────────────────────┘"
      ]
     },
     "execution_count": 18,
     "metadata": {},
     "output_type": "execute_result"
    }
   ],
   "source": [
    "tourney_qualifiers_itf=matches_qualifiers_itf[['tourney_name', 'surface', 'draw_size', 'tourney_level', 'tourney_date', 'tourney_name_date_matches']]\n",
    "\n",
    "tourney_qualifiers_itf=tourney_qualifiers_itf.unique('tourney_name_date_matches')\n",
    "tourney_qualifiers_itf"
   ]
  },
  {
   "cell_type": "code",
   "execution_count": 19,
   "metadata": {},
   "outputs": [
    {
     "data": {
      "text/html": [
       "<div><style>\n",
       ".dataframe > thead > tr,\n",
       ".dataframe > tbody > tr {\n",
       "  text-align: right;\n",
       "  white-space: pre-wrap;\n",
       "}\n",
       "</style>\n",
       "<small>shape: (26_399, 66)</small><table border=\"1\" class=\"dataframe\"><thead><tr><th>tourney_id</th><th>tourney_name</th><th>surface</th><th>draw_size</th><th>tourney_level</th><th>tourney_date</th><th>match_num</th><th>winner1_id</th><th>winner2_id</th><th>winner_seed</th><th>winner_entry</th><th>loser1_id</th><th>loser2_id</th><th>loser_seed</th><th>loser_entry</th><th>score</th><th>best_of</th><th>round</th><th>winner1_name</th><th>winner1_hand</th><th>winner1_ht</th><th>winner1_ioc</th><th>winner1_age</th><th>winner2_name</th><th>winner2_hand</th><th>winner2_ht</th><th>winner2_ioc</th><th>winner2_age</th><th>loser1_name</th><th>loser1_hand</th><th>loser1_ht</th><th>loser1_ioc</th><th>loser1_age</th><th>loser2_name</th><th>loser2_hand</th><th>loser2_ht</th><th>loser2_ioc</th><th>loser2_age</th><th>winner1_rank</th><th>winner1_rank_points</th><th>winner2_rank</th><th>winner2_rank_points</th><th>loser1_rank</th><th>loser1_rank_points</th><th>loser2_rank</th><th>loser2_rank_points</th><th>minutes</th><th>w_ace</th><th>w_df</th><th>w_svpt</th><th>w_1stIn</th><th>w_1stWon</th><th>w_2ndWon</th><th>w_SvGms</th><th>w_bpSaved</th><th>w_bpFaced</th><th>l_ace</th><th>l_df</th><th>l_svpt</th><th>l_1stIn</th><th>l_1stWon</th><th>l_2ndWon</th><th>l_SvGms</th><th>l_bpSaved</th><th>l_bpFaced</th><th>tourney_name_date_matches</th></tr><tr><td>str</td><td>str</td><td>str</td><td>i64</td><td>str</td><td>date</td><td>i64</td><td>str</td><td>str</td><td>str</td><td>str</td><td>str</td><td>str</td><td>str</td><td>str</td><td>str</td><td>i64</td><td>str</td><td>str</td><td>str</td><td>i64</td><td>str</td><td>f64</td><td>str</td><td>str</td><td>i64</td><td>str</td><td>f64</td><td>str</td><td>str</td><td>i64</td><td>str</td><td>f64</td><td>str</td><td>str</td><td>i64</td><td>str</td><td>f64</td><td>i64</td><td>i64</td><td>i64</td><td>i64</td><td>i64</td><td>i64</td><td>i64</td><td>i64</td><td>str</td><td>str</td><td>str</td><td>str</td><td>str</td><td>str</td><td>str</td><td>str</td><td>str</td><td>str</td><td>str</td><td>str</td><td>str</td><td>str</td><td>str</td><td>str</td><td>str</td><td>str</td><td>str</td><td>str</td></tr></thead><tbody><tr><td>&quot;2000-301&quot;</td><td>&quot;Auckland&quot;</td><td>&quot;Hard&quot;</td><td>32</td><td>&quot;A&quot;</td><td>2000-01-10</td><td>300</td><td>&quot;101704&quot;</td><td>&quot;101097&quot;</td><td>&quot;1&quot;</td><td>null</td><td>&quot;101358&quot;</td><td>&quot;101543&quot;</td><td>&quot;2&quot;</td><td>null</td><td>&quot;7-5 6-4&quot;</td><td>3</td><td>&quot;F&quot;</td><td>&quot;Ellis Ferreira&quot;</td><td>&quot;L&quot;</td><td>188</td><td>&quot;RSA&quot;</td><td>29.889117</td><td>&quot;Rick Leach&quot;</td><td>&quot;L&quot;</td><td>188</td><td>&quot;USA&quot;</td><td>35.033539</td><td>&quot;Olivier Delaitre&quot;</td><td>&quot;R&quot;</td><td>170</td><td>&quot;FRA&quot;</td><td>32.610541</td><td>&quot;Jeff Tarango&quot;</td><td>&quot;L&quot;</td><td>180</td><td>&quot;USA&quot;</td><td>31.137577</td><td>13</td><td>0</td><td>15</td><td>0</td><td>16</td><td>0</td><td>17</td><td>0</td><td>null</td><td>null</td><td>null</td><td>null</td><td>null</td><td>null</td><td>null</td><td>null</td><td>null</td><td>null</td><td>null</td><td>null</td><td>null</td><td>null</td><td>null</td><td>null</td><td>null</td><td>null</td><td>null</td><td>&quot;Auckland_2000_doubles_atp&quot;</td></tr><tr><td>&quot;2000-301&quot;</td><td>&quot;Auckland&quot;</td><td>&quot;Hard&quot;</td><td>32</td><td>&quot;A&quot;</td><td>2000-01-10</td><td>299</td><td>&quot;101704&quot;</td><td>&quot;101097&quot;</td><td>&quot;1&quot;</td><td>null</td><td>&quot;102562&quot;</td><td>&quot;101866&quot;</td><td>&quot;3&quot;</td><td>null</td><td>&quot;6-2 6-4&quot;</td><td>3</td><td>&quot;SF&quot;</td><td>&quot;Ellis Ferreira&quot;</td><td>&quot;L&quot;</td><td>188</td><td>&quot;RSA&quot;</td><td>29.889117</td><td>&quot;Rick Leach&quot;</td><td>&quot;L&quot;</td><td>188</td><td>&quot;USA&quot;</td><td>35.033539</td><td>&quot;Jiri Novak&quot;</td><td>&quot;R&quot;</td><td>190</td><td>&quot;CZE&quot;</td><td>24.804928</td><td>&quot;David Rikl&quot;</td><td>&quot;L&quot;</td><td>178</td><td>&quot;CZE&quot;</td><td>28.867899</td><td>13</td><td>0</td><td>15</td><td>0</td><td>34</td><td>0</td><td>29</td><td>0</td><td>null</td><td>null</td><td>null</td><td>null</td><td>null</td><td>null</td><td>null</td><td>null</td><td>null</td><td>null</td><td>null</td><td>null</td><td>null</td><td>null</td><td>null</td><td>null</td><td>null</td><td>null</td><td>null</td><td>&quot;Auckland_2000_doubles_atp&quot;</td></tr><tr><td>&quot;2000-301&quot;</td><td>&quot;Auckland&quot;</td><td>&quot;Hard&quot;</td><td>32</td><td>&quot;A&quot;</td><td>2000-01-10</td><td>298</td><td>&quot;101358&quot;</td><td>&quot;101543&quot;</td><td>&quot;2&quot;</td><td>null</td><td>&quot;102664&quot;</td><td>&quot;101779&quot;</td><td>null</td><td>null</td><td>&quot;6-3 6-4&quot;</td><td>3</td><td>&quot;SF&quot;</td><td>&quot;Olivier Delaitre&quot;</td><td>&quot;R&quot;</td><td>170</td><td>&quot;FRA&quot;</td><td>32.610541</td><td>&quot;Jeff Tarango&quot;</td><td>&quot;L&quot;</td><td>180</td><td>&quot;USA&quot;</td><td>31.137577</td><td>&quot;Petr Pala&quot;</td><td>&quot;R&quot;</td><td>193</td><td>&quot;CZE&quot;</td><td>24.273785</td><td>&quot;Pavel Vizner&quot;</td><td>&quot;R&quot;</td><td>183</td><td>&quot;CZE&quot;</td><td>29.489391</td><td>16</td><td>0</td><td>17</td><td>0</td><td>97</td><td>0</td><td>74</td><td>0</td><td>null</td><td>null</td><td>null</td><td>null</td><td>null</td><td>null</td><td>null</td><td>null</td><td>null</td><td>null</td><td>null</td><td>null</td><td>null</td><td>null</td><td>null</td><td>null</td><td>null</td><td>null</td><td>null</td><td>&quot;Auckland_2000_doubles_atp&quot;</td></tr><tr><td>&quot;2000-301&quot;</td><td>&quot;Auckland&quot;</td><td>&quot;Hard&quot;</td><td>32</td><td>&quot;A&quot;</td><td>2000-01-10</td><td>297</td><td>&quot;101704&quot;</td><td>&quot;101097&quot;</td><td>&quot;1&quot;</td><td>null</td><td>&quot;101342&quot;</td><td>&quot;102162&quot;</td><td>null</td><td>&quot;WC&quot;</td><td>&quot;6-3 6-4&quot;</td><td>3</td><td>&quot;QF&quot;</td><td>&quot;Ellis Ferreira&quot;</td><td>&quot;L&quot;</td><td>188</td><td>&quot;RSA&quot;</td><td>29.889117</td><td>&quot;Rick Leach&quot;</td><td>&quot;L&quot;</td><td>188</td><td>&quot;USA&quot;</td><td>35.033539</td><td>&quot;Patrick Galbraith&quot;</td><td>&quot;L&quot;</td><td>183</td><td>&quot;USA&quot;</td><td>32.736482</td><td>&quot;Chris Woodruff&quot;</td><td>&quot;R&quot;</td><td>188</td><td>&quot;USA&quot;</td><td>27.019849</td><td>13</td><td>0</td><td>15</td><td>0</td><td>65</td><td>0</td><td>248</td><td>0</td><td>null</td><td>null</td><td>null</td><td>null</td><td>null</td><td>null</td><td>null</td><td>null</td><td>null</td><td>null</td><td>null</td><td>null</td><td>null</td><td>null</td><td>null</td><td>null</td><td>null</td><td>null</td><td>null</td><td>&quot;Auckland_2000_doubles_atp&quot;</td></tr><tr><td>&quot;2000-301&quot;</td><td>&quot;Auckland&quot;</td><td>&quot;Hard&quot;</td><td>32</td><td>&quot;A&quot;</td><td>2000-01-10</td><td>296</td><td>&quot;101358&quot;</td><td>&quot;101543&quot;</td><td>&quot;2&quot;</td><td>null</td><td>&quot;103483&quot;</td><td>&quot;102262&quot;</td><td>null</td><td>&quot;WC&quot;</td><td>&quot;6-2 6-4&quot;</td><td>3</td><td>&quot;QF&quot;</td><td>&quot;Olivier Delaitre&quot;</td><td>&quot;R&quot;</td><td>170</td><td>&quot;FRA&quot;</td><td>32.610541</td><td>&quot;Jeff Tarango&quot;</td><td>&quot;L&quot;</td><td>180</td><td>&quot;USA&quot;</td><td>31.137577</td><td>&quot;James Shortall&quot;</td><td>&quot;R&quot;</td><td>null</td><td>&quot;NZL&quot;</td><td>20.043806</td><td>&quot;Cristiano Testa&quot;</td><td>&quot;L&quot;</td><td>null</td><td>&quot;BRA&quot;</td><td>26.297057</td><td>16</td><td>0</td><td>17</td><td>0</td><td>779</td><td>0</td><td>114</td><td>0</td><td>null</td><td>null</td><td>null</td><td>null</td><td>null</td><td>null</td><td>null</td><td>null</td><td>null</td><td>null</td><td>null</td><td>null</td><td>null</td><td>null</td><td>null</td><td>null</td><td>null</td><td>null</td><td>null</td><td>&quot;Auckland_2000_doubles_atp&quot;</td></tr><tr><td>&hellip;</td><td>&hellip;</td><td>&hellip;</td><td>&hellip;</td><td>&hellip;</td><td>&hellip;</td><td>&hellip;</td><td>&hellip;</td><td>&hellip;</td><td>&hellip;</td><td>&hellip;</td><td>&hellip;</td><td>&hellip;</td><td>&hellip;</td><td>&hellip;</td><td>&hellip;</td><td>&hellip;</td><td>&hellip;</td><td>&hellip;</td><td>&hellip;</td><td>&hellip;</td><td>&hellip;</td><td>&hellip;</td><td>&hellip;</td><td>&hellip;</td><td>&hellip;</td><td>&hellip;</td><td>&hellip;</td><td>&hellip;</td><td>&hellip;</td><td>&hellip;</td><td>&hellip;</td><td>&hellip;</td><td>&hellip;</td><td>&hellip;</td><td>&hellip;</td><td>&hellip;</td><td>&hellip;</td><td>&hellip;</td><td>&hellip;</td><td>&hellip;</td><td>&hellip;</td><td>&hellip;</td><td>&hellip;</td><td>&hellip;</td><td>&hellip;</td><td>&hellip;</td><td>&hellip;</td><td>&hellip;</td><td>&hellip;</td><td>&hellip;</td><td>&hellip;</td><td>&hellip;</td><td>&hellip;</td><td>&hellip;</td><td>&hellip;</td><td>&hellip;</td><td>&hellip;</td><td>&hellip;</td><td>&hellip;</td><td>&hellip;</td><td>&hellip;</td><td>&hellip;</td><td>&hellip;</td><td>&hellip;</td><td>&hellip;</td></tr><tr><td>&quot;2020-M-DC-2020-WG2-PO-MAR-VIE-…</td><td>&quot;Davis Cup WG2 PO: MAR vs VIE&quot;</td><td>&quot;Clay&quot;</td><td>4</td><td>&quot;D&quot;</td><td>2020-03-06</td><td>3</td><td>&quot;104917&quot;</td><td>&quot;104467&quot;</td><td>null</td><td>null</td><td>&quot;109042&quot;</td><td>&quot;122533&quot;</td><td>null</td><td>null</td><td>&quot;6-4 6-1&quot;</td><td>3</td><td>&quot;RR&quot;</td><td>&quot;Anas Fattar&quot;</td><td>&quot;R&quot;</td><td>null</td><td>&quot;MAR&quot;</td><td>32.807666</td><td>&quot;Lamine Ouahab&quot;</td><td>&quot;R&quot;</td><td>185</td><td>&quot;ALG&quot;</td><td>35.192334</td><td>&quot;Quoc Khanh Le&quot;</td><td>&quot;R&quot;</td><td>null</td><td>&quot;VIE&quot;</td><td>37.497604</td><td>&quot;Nam Hoang Ly&quot;</td><td>&quot;R&quot;</td><td>null</td><td>&quot;VIE&quot;</td><td>23.014374</td><td>683</td><td>48</td><td>942</td><td>26</td><td>null</td><td>null</td><td>1293</td><td>12</td><td>null</td><td>null</td><td>null</td><td>null</td><td>null</td><td>null</td><td>null</td><td>null</td><td>null</td><td>null</td><td>null</td><td>null</td><td>null</td><td>null</td><td>null</td><td>null</td><td>null</td><td>null</td><td>null</td><td>&quot;Davis Cup WG2 PO: MAR vs VIE_2…</td></tr><tr><td>&quot;2020-M-DC-2020-WG2-PO-PAR-SRI-…</td><td>&quot;Davis Cup WG2 PO: PAR vs SRI&quot;</td><td>&quot;Clay&quot;</td><td>4</td><td>&quot;D&quot;</td><td>2020-03-06</td><td>3</td><td>&quot;134677&quot;</td><td>&quot;137018&quot;</td><td>null</td><td>null</td><td>&quot;202462&quot;</td><td>&quot;134886&quot;</td><td>null</td><td>null</td><td>&quot;6-1 6-4&quot;</td><td>3</td><td>&quot;RR&quot;</td><td>&quot;Juan Borba&quot;</td><td>&quot;R&quot;</td><td>null</td><td>&quot;PAR&quot;</td><td>23.887748</td><td>&quot;Ayed Zatar&quot;</td><td>&quot;R&quot;</td><td>null</td><td>&quot;PAR&quot;</td><td>23.926078</td><td>&quot;Yasitha De Silva&quot;</td><td>null</td><td>null</td><td>&quot;SRI&quot;</td><td>24.665298</td><td>&quot;Sharmal Dissanayake&quot;</td><td>&quot;R&quot;</td><td>null</td><td>&quot;SRI&quot;</td><td>23.800137</td><td>null</td><td>null</td><td>null</td><td>null</td><td>null</td><td>null</td><td>null</td><td>null</td><td>null</td><td>null</td><td>null</td><td>null</td><td>null</td><td>null</td><td>null</td><td>null</td><td>null</td><td>null</td><td>null</td><td>null</td><td>null</td><td>null</td><td>null</td><td>null</td><td>null</td><td>null</td><td>null</td><td>&quot;Davis Cup WG2 PO: PAR vs SRI_2…</td></tr><tr><td>&quot;2020-M-DC-2020-WG2-PO-PHI-GRE-…</td><td>&quot;Davis Cup WG2 PO: PHI vs GRE&quot;</td><td>&quot;Clay&quot;</td><td>4</td><td>&quot;D&quot;</td><td>2020-03-06</td><td>3</td><td>&quot;108717&quot;</td><td>&quot;104604&quot;</td><td>null</td><td>null</td><td>&quot;109737&quot;</td><td>&quot;202065&quot;</td><td>null</td><td>null</td><td>&quot;7-6(5) 6-4&quot;</td><td>3</td><td>&quot;RR&quot;</td><td>&quot;Francis Casey Alcantara&quot;</td><td>&quot;U&quot;</td><td>null</td><td>&quot;PHI&quot;</td><td>28.073922</td><td>&quot;Ruben Gonzales&quot;</td><td>&quot;R&quot;</td><td>null</td><td>&quot;PHI&quot;</td><td>34.472279</td><td>&quot;Markos Kalovelonis&quot;</td><td>&quot;R&quot;</td><td>null</td><td>&quot;GRE&quot;</td><td>25.790554</td><td>&quot;Petros Tsitsipas&quot;</td><td>&quot;U&quot;</td><td>null</td><td>&quot;GRE&quot;</td><td>19.597536</td><td>537</td><td>69</td><td>212</td><td>307</td><td>503</td><td>77</td><td>1072</td><td>20</td><td>null</td><td>null</td><td>null</td><td>null</td><td>null</td><td>null</td><td>null</td><td>null</td><td>null</td><td>null</td><td>null</td><td>null</td><td>null</td><td>null</td><td>null</td><td>null</td><td>null</td><td>null</td><td>null</td><td>&quot;Davis Cup WG2 PO: PHI vs GRE_2…</td></tr><tr><td>&quot;2020-M-DC-2020-WG2-PO-POL-HKG-…</td><td>&quot;Davis Cup WG2 PO: POL vs HKG&quot;</td><td>&quot;Hard&quot;</td><td>4</td><td>&quot;D&quot;</td><td>2020-03-06</td><td>3</td><td>&quot;126166&quot;</td><td>&quot;126591&quot;</td><td>null</td><td>null</td><td>&quot;205695&quot;</td><td>&quot;106388&quot;</td><td>null</td><td>null</td><td>&quot;6-3 6-7(6) 6-3&quot;</td><td>3</td><td>&quot;RR&quot;</td><td>&quot;Szymon Walkow&quot;</td><td>&quot;R&quot;</td><td>null</td><td>&quot;POL&quot;</td><td>24.443532</td><td>&quot;Jan Zielinski&quot;</td><td>&quot;R&quot;</td><td>null</td><td>&quot;POL&quot;</td><td>23.290897</td><td>&quot;Ching Lam&quot;</td><td>&quot;R&quot;</td><td>null</td><td>&quot;HKG&quot;</td><td>20.495551</td><td>&quot;Pak Long Yeung&quot;</td><td>&quot;U&quot;</td><td>null</td><td>&quot;HKG&quot;</td><td>25.045859</td><td>182</td><td>389</td><td>295</td><td>178</td><td>null</td><td>null</td><td>557</td><td>66</td><td>null</td><td>null</td><td>null</td><td>null</td><td>null</td><td>null</td><td>null</td><td>null</td><td>null</td><td>null</td><td>null</td><td>null</td><td>null</td><td>null</td><td>null</td><td>null</td><td>null</td><td>null</td><td>null</td><td>&quot;Davis Cup WG2 PO: POL vs HKG_2…</td></tr><tr><td>&quot;2020-M-DC-2020-WG2-PO-SYR-ZIM-…</td><td>&quot;Davis Cup WG2 PO: SYR vs ZIM&quot;</td><td>&quot;Hard&quot;</td><td>4</td><td>&quot;D&quot;</td><td>2020-03-06</td><td>3</td><td>&quot;111761&quot;</td><td>&quot;144747&quot;</td><td>null</td><td>null</td><td>&quot;200153&quot;</td><td>&quot;208518&quot;</td><td>null</td><td>null</td><td>&quot;6-1 4-6 6-3&quot;</td><td>3</td><td>&quot;RR&quot;</td><td>&quot;Benjamin Lock&quot;</td><td>&quot;R&quot;</td><td>null</td><td>&quot;ZIM&quot;</td><td>26.995209</td><td>&quot;Courtney John Lock&quot;</td><td>&quot;R&quot;</td><td>null</td><td>&quot;ZIM&quot;</td><td>23.370294</td><td>&quot;Yacoub Makzoume&quot;</td><td>&quot;R&quot;</td><td>null</td><td>&quot;SYR&quot;</td><td>24.832307</td><td>&quot;Hazem Naw&quot;</td><td>&quot;R&quot;</td><td>null</td><td>&quot;UNK&quot;</td><td>20.167009</td><td>231</td><td>267</td><td>327</td><td>146</td><td>null</td><td>null</td><td>1929</td><td>2</td><td>null</td><td>null</td><td>null</td><td>null</td><td>null</td><td>null</td><td>null</td><td>null</td><td>null</td><td>null</td><td>null</td><td>null</td><td>null</td><td>null</td><td>null</td><td>null</td><td>null</td><td>null</td><td>null</td><td>&quot;Davis Cup WG2 PO: SYR vs ZIM_2…</td></tr></tbody></table></div>"
      ],
      "text/plain": [
       "shape: (26_399, 66)\n",
       "┌────────────┬────────────┬─────────┬───────────┬───┬─────────┬───────────┬───────────┬────────────┐\n",
       "│ tourney_id ┆ tourney_na ┆ surface ┆ draw_size ┆ … ┆ l_SvGms ┆ l_bpSaved ┆ l_bpFaced ┆ tourney_na │\n",
       "│ ---        ┆ me         ┆ ---     ┆ ---       ┆   ┆ ---     ┆ ---       ┆ ---       ┆ me_date_ma │\n",
       "│ str        ┆ ---        ┆ str     ┆ i64       ┆   ┆ str     ┆ str       ┆ str       ┆ tches      │\n",
       "│            ┆ str        ┆         ┆           ┆   ┆         ┆           ┆           ┆ ---        │\n",
       "│            ┆            ┆         ┆           ┆   ┆         ┆           ┆           ┆ str        │\n",
       "╞════════════╪════════════╪═════════╪═══════════╪═══╪═════════╪═══════════╪═══════════╪════════════╡\n",
       "│ 2000-301   ┆ Auckland   ┆ Hard    ┆ 32        ┆ … ┆ null    ┆ null      ┆ null      ┆ Auckland_2 │\n",
       "│            ┆            ┆         ┆           ┆   ┆         ┆           ┆           ┆ 000_double │\n",
       "│            ┆            ┆         ┆           ┆   ┆         ┆           ┆           ┆ s_atp      │\n",
       "│ 2000-301   ┆ Auckland   ┆ Hard    ┆ 32        ┆ … ┆ null    ┆ null      ┆ null      ┆ Auckland_2 │\n",
       "│            ┆            ┆         ┆           ┆   ┆         ┆           ┆           ┆ 000_double │\n",
       "│            ┆            ┆         ┆           ┆   ┆         ┆           ┆           ┆ s_atp      │\n",
       "│ 2000-301   ┆ Auckland   ┆ Hard    ┆ 32        ┆ … ┆ null    ┆ null      ┆ null      ┆ Auckland_2 │\n",
       "│            ┆            ┆         ┆           ┆   ┆         ┆           ┆           ┆ 000_double │\n",
       "│            ┆            ┆         ┆           ┆   ┆         ┆           ┆           ┆ s_atp      │\n",
       "│ 2000-301   ┆ Auckland   ┆ Hard    ┆ 32        ┆ … ┆ null    ┆ null      ┆ null      ┆ Auckland_2 │\n",
       "│            ┆            ┆         ┆           ┆   ┆         ┆           ┆           ┆ 000_double │\n",
       "│            ┆            ┆         ┆           ┆   ┆         ┆           ┆           ┆ s_atp      │\n",
       "│ 2000-301   ┆ Auckland   ┆ Hard    ┆ 32        ┆ … ┆ null    ┆ null      ┆ null      ┆ Auckland_2 │\n",
       "│            ┆            ┆         ┆           ┆   ┆         ┆           ┆           ┆ 000_double │\n",
       "│            ┆            ┆         ┆           ┆   ┆         ┆           ┆           ┆ s_atp      │\n",
       "│ …          ┆ …          ┆ …       ┆ …         ┆ … ┆ …       ┆ …         ┆ …         ┆ …          │\n",
       "│ 2020-M-DC- ┆ Davis Cup  ┆ Clay    ┆ 4         ┆ … ┆ null    ┆ null      ┆ null      ┆ Davis Cup  │\n",
       "│ 2020-WG2-P ┆ WG2 PO:    ┆         ┆           ┆   ┆         ┆           ┆           ┆ WG2 PO:    │\n",
       "│ O-MAR-VIE- ┆ MAR vs VIE ┆         ┆           ┆   ┆         ┆           ┆           ┆ MAR vs     │\n",
       "│ …          ┆            ┆         ┆           ┆   ┆         ┆           ┆           ┆ VIE_2…     │\n",
       "│ 2020-M-DC- ┆ Davis Cup  ┆ Clay    ┆ 4         ┆ … ┆ null    ┆ null      ┆ null      ┆ Davis Cup  │\n",
       "│ 2020-WG2-P ┆ WG2 PO:    ┆         ┆           ┆   ┆         ┆           ┆           ┆ WG2 PO:    │\n",
       "│ O-PAR-SRI- ┆ PAR vs SRI ┆         ┆           ┆   ┆         ┆           ┆           ┆ PAR vs     │\n",
       "│ …          ┆            ┆         ┆           ┆   ┆         ┆           ┆           ┆ SRI_2…     │\n",
       "│ 2020-M-DC- ┆ Davis Cup  ┆ Clay    ┆ 4         ┆ … ┆ null    ┆ null      ┆ null      ┆ Davis Cup  │\n",
       "│ 2020-WG2-P ┆ WG2 PO:    ┆         ┆           ┆   ┆         ┆           ┆           ┆ WG2 PO:    │\n",
       "│ O-PHI-GRE- ┆ PHI vs GRE ┆         ┆           ┆   ┆         ┆           ┆           ┆ PHI vs     │\n",
       "│ …          ┆            ┆         ┆           ┆   ┆         ┆           ┆           ┆ GRE_2…     │\n",
       "│ 2020-M-DC- ┆ Davis Cup  ┆ Hard    ┆ 4         ┆ … ┆ null    ┆ null      ┆ null      ┆ Davis Cup  │\n",
       "│ 2020-WG2-P ┆ WG2 PO:    ┆         ┆           ┆   ┆         ┆           ┆           ┆ WG2 PO:    │\n",
       "│ O-POL-HKG- ┆ POL vs HKG ┆         ┆           ┆   ┆         ┆           ┆           ┆ POL vs     │\n",
       "│ …          ┆            ┆         ┆           ┆   ┆         ┆           ┆           ┆ HKG_2…     │\n",
       "│ 2020-M-DC- ┆ Davis Cup  ┆ Hard    ┆ 4         ┆ … ┆ null    ┆ null      ┆ null      ┆ Davis Cup  │\n",
       "│ 2020-WG2-P ┆ WG2 PO:    ┆         ┆           ┆   ┆         ┆           ┆           ┆ WG2 PO:    │\n",
       "│ O-SYR-ZIM- ┆ SYR vs ZIM ┆         ┆           ┆   ┆         ┆           ┆           ┆ SYR vs     │\n",
       "│ …          ┆            ┆         ┆           ┆   ┆         ┆           ┆           ┆ ZIM_2…     │\n",
       "└────────────┴────────────┴─────────┴───────────┴───┴─────────┴───────────┴───────────┴────────────┘"
      ]
     },
     "execution_count": 19,
     "metadata": {},
     "output_type": "execute_result"
    }
   ],
   "source": [
    "matches_doubles_atp=import_tennis_matches(data_type=\"doubles\")\n",
    "\n",
    "matches_doubles_atp = matches_doubles_atp.with_columns(\n",
    "    (pl.col(\"tourney_name\") + \"_\" + pl.col(\"tourney_date\").dt.year().cast(pl.Utf8)+\"_doubles_atp\").alias(\"tourney_name_date_matches\")\n",
    ")\n",
    "matches_doubles_atp"
   ]
  },
  {
   "cell_type": "code",
   "execution_count": 20,
   "metadata": {},
   "outputs": [
    {
     "data": {
      "text/html": [
       "<div><style>\n",
       ".dataframe > thead > tr,\n",
       ".dataframe > tbody > tr {\n",
       "  text-align: right;\n",
       "  white-space: pre-wrap;\n",
       "}\n",
       "</style>\n",
       "<small>shape: (1_345, 6)</small><table border=\"1\" class=\"dataframe\"><thead><tr><th>tourney_name</th><th>surface</th><th>draw_size</th><th>tourney_level</th><th>tourney_date</th><th>tourney_name_date_matches</th></tr><tr><td>str</td><td>str</td><td>i64</td><td>str</td><td>date</td><td>str</td></tr></thead><tbody><tr><td>&quot;Newport&quot;</td><td>&quot;Grass&quot;</td><td>32</td><td>&quot;A&quot;</td><td>2001-07-09</td><td>&quot;Newport_2001_doubles_atp&quot;</td></tr><tr><td>&quot;Washington&quot;</td><td>&quot;Hard&quot;</td><td>48</td><td>&quot;A&quot;</td><td>2009-08-02</td><td>&quot;Washington_2009_doubles_atp&quot;</td></tr><tr><td>&quot;Metz&quot;</td><td>&quot;Hard&quot;</td><td>32</td><td>&quot;A&quot;</td><td>2006-10-02</td><td>&quot;Metz_2006_doubles_atp&quot;</td></tr><tr><td>&quot;Bastad&quot;</td><td>&quot;Clay&quot;</td><td>28</td><td>&quot;A&quot;</td><td>2014-07-07</td><td>&quot;Bastad_2014_doubles_atp&quot;</td></tr><tr><td>&quot;Acapulco&quot;</td><td>&quot;Hard&quot;</td><td>32</td><td>&quot;A&quot;</td><td>2018-02-26</td><td>&quot;Acapulco_2018_doubles_atp&quot;</td></tr><tr><td>&hellip;</td><td>&hellip;</td><td>&hellip;</td><td>&hellip;</td><td>&hellip;</td><td>&hellip;</td></tr><tr><td>&quot;Madrid Masters&quot;</td><td>&quot;Hard&quot;</td><td>48</td><td>&quot;M&quot;</td><td>2002-10-14</td><td>&quot;Madrid Masters_2002_doubles_at…</td></tr><tr><td>&quot;Doha&quot;</td><td>&quot;Hard&quot;</td><td>32</td><td>&quot;A&quot;</td><td>2000-01-03</td><td>&quot;Doha_2000_doubles_atp&quot;</td></tr><tr><td>&quot;Santiago&quot;</td><td>&quot;Clay&quot;</td><td>32</td><td>&quot;A&quot;</td><td>2010-02-01</td><td>&quot;Santiago_2010_doubles_atp&quot;</td></tr><tr><td>&quot;Beijing&quot;</td><td>&quot;Hard&quot;</td><td>32</td><td>&quot;A&quot;</td><td>2010-10-04</td><td>&quot;Beijing_2010_doubles_atp&quot;</td></tr><tr><td>&quot;Rotterdam&quot;</td><td>&quot;Hard&quot;</td><td>32</td><td>&quot;A&quot;</td><td>2005-02-14</td><td>&quot;Rotterdam_2005_doubles_atp&quot;</td></tr></tbody></table></div>"
      ],
      "text/plain": [
       "shape: (1_345, 6)\n",
       "┌────────────────┬─────────┬───────────┬───────────────┬──────────────┬────────────────────────────┐\n",
       "│ tourney_name   ┆ surface ┆ draw_size ┆ tourney_level ┆ tourney_date ┆ tourney_name_date_matches  │\n",
       "│ ---            ┆ ---     ┆ ---       ┆ ---           ┆ ---          ┆ ---                        │\n",
       "│ str            ┆ str     ┆ i64       ┆ str           ┆ date         ┆ str                        │\n",
       "╞════════════════╪═════════╪═══════════╪═══════════════╪══════════════╪════════════════════════════╡\n",
       "│ Newport        ┆ Grass   ┆ 32        ┆ A             ┆ 2001-07-09   ┆ Newport_2001_doubles_atp   │\n",
       "│ Washington     ┆ Hard    ┆ 48        ┆ A             ┆ 2009-08-02   ┆ Washington_2009_doubles_at │\n",
       "│                ┆         ┆           ┆               ┆              ┆ p                          │\n",
       "│ Metz           ┆ Hard    ┆ 32        ┆ A             ┆ 2006-10-02   ┆ Metz_2006_doubles_atp      │\n",
       "│ Bastad         ┆ Clay    ┆ 28        ┆ A             ┆ 2014-07-07   ┆ Bastad_2014_doubles_atp    │\n",
       "│ Acapulco       ┆ Hard    ┆ 32        ┆ A             ┆ 2018-02-26   ┆ Acapulco_2018_doubles_atp  │\n",
       "│ …              ┆ …       ┆ …         ┆ …             ┆ …            ┆ …                          │\n",
       "│ Madrid Masters ┆ Hard    ┆ 48        ┆ M             ┆ 2002-10-14   ┆ Madrid                     │\n",
       "│                ┆         ┆           ┆               ┆              ┆ Masters_2002_doubles_at…   │\n",
       "│ Doha           ┆ Hard    ┆ 32        ┆ A             ┆ 2000-01-03   ┆ Doha_2000_doubles_atp      │\n",
       "│ Santiago       ┆ Clay    ┆ 32        ┆ A             ┆ 2010-02-01   ┆ Santiago_2010_doubles_atp  │\n",
       "│ Beijing        ┆ Hard    ┆ 32        ┆ A             ┆ 2010-10-04   ┆ Beijing_2010_doubles_atp   │\n",
       "│ Rotterdam      ┆ Hard    ┆ 32        ┆ A             ┆ 2005-02-14   ┆ Rotterdam_2005_doubles_atp │\n",
       "└────────────────┴─────────┴───────────┴───────────────┴──────────────┴────────────────────────────┘"
      ]
     },
     "execution_count": 20,
     "metadata": {},
     "output_type": "execute_result"
    }
   ],
   "source": [
    "tourney_doubles_matches_atp=matches_doubles_atp[['tourney_name', 'surface', 'draw_size', 'tourney_level', 'tourney_date', 'tourney_name_date_matches']]\n",
    "\n",
    "tourney_doubles_matches_atp=tourney_doubles_matches_atp.unique('tourney_name_date_matches')\n",
    "tourney_doubles_matches_atp"
   ]
  },
  {
   "cell_type": "code",
   "execution_count": 21,
   "metadata": {},
   "outputs": [
    {
     "data": {
      "text/html": [
       "<div><style>\n",
       ".dataframe > thead > tr,\n",
       ".dataframe > tbody > tr {\n",
       "  text-align: right;\n",
       "  white-space: pre-wrap;\n",
       "}\n",
       "</style>\n",
       "<small>shape: (65_019, 9)</small><table border=\"1\" class=\"dataframe\"><thead><tr><th>player_id</th><th>name_first</th><th>name_last</th><th>hand</th><th>dob</th><th>ioc</th><th>height</th><th>wikidata_id</th><th>name_full</th></tr><tr><td>i64</td><td>str</td><td>str</td><td>str</td><td>date</td><td>str</td><td>i64</td><td>str</td><td>str</td></tr></thead><tbody><tr><td>100001</td><td>&quot;Gardnar&quot;</td><td>&quot;Mulloy&quot;</td><td>&quot;R&quot;</td><td>1913-11-22</td><td>&quot;USA&quot;</td><td>185</td><td>&quot;Q54544&quot;</td><td>&quot;Gardnar Mulloy&quot;</td></tr><tr><td>100002</td><td>&quot;Pancho&quot;</td><td>&quot;Segura&quot;</td><td>&quot;R&quot;</td><td>1921-06-20</td><td>&quot;ECU&quot;</td><td>168</td><td>&quot;Q54581&quot;</td><td>&quot;Pancho Segura&quot;</td></tr><tr><td>100003</td><td>&quot;Frank&quot;</td><td>&quot;Sedgman&quot;</td><td>&quot;R&quot;</td><td>1927-10-02</td><td>&quot;AUS&quot;</td><td>180</td><td>&quot;Q962049&quot;</td><td>&quot;Frank Sedgman&quot;</td></tr><tr><td>100004</td><td>&quot;Giuseppe&quot;</td><td>&quot;Merlo&quot;</td><td>&quot;R&quot;</td><td>1927-10-11</td><td>&quot;ITA&quot;</td><td>null</td><td>&quot;Q1258752&quot;</td><td>&quot;Giuseppe Merlo&quot;</td></tr><tr><td>100005</td><td>&quot;Richard&quot;</td><td>&quot;Gonzalez&quot;</td><td>&quot;R&quot;</td><td>1928-05-09</td><td>&quot;USA&quot;</td><td>188</td><td>&quot;Q53554&quot;</td><td>&quot;Richard Gonzalez&quot;</td></tr><tr><td>&hellip;</td><td>&hellip;</td><td>&hellip;</td><td>&hellip;</td><td>&hellip;</td><td>&hellip;</td><td>&hellip;</td><td>&hellip;</td><td>&hellip;</td></tr><tr><td>212913</td><td>&quot;Pietro&quot;</td><td>&quot;Ricci&quot;</td><td>&quot;U&quot;</td><td>null</td><td>&quot;ITA&quot;</td><td>null</td><td>null</td><td>&quot;Pietro Ricci&quot;</td></tr><tr><td>212914</td><td>&quot;Corey&quot;</td><td>&quot;Craig&quot;</td><td>&quot;U&quot;</td><td>null</td><td>&quot;USA&quot;</td><td>null</td><td>null</td><td>&quot;Corey Craig&quot;</td></tr><tr><td>212915</td><td>&quot;Aleksandar&quot;</td><td>&quot;Ljubojevic&quot;</td><td>&quot;U&quot;</td><td>null</td><td>&quot;SRB&quot;</td><td>null</td><td>null</td><td>&quot;Aleksandar Ljubojevic&quot;</td></tr><tr><td>212916</td><td>&quot;Marko&quot;</td><td>&quot;Milosavljevic&quot;</td><td>&quot;U&quot;</td><td>null</td><td>&quot;SRB&quot;</td><td>null</td><td>null</td><td>&quot;Marko Milosavljevic&quot;</td></tr><tr><td>212917</td><td>&quot;Stefan&quot;</td><td>&quot;Skobelev&quot;</td><td>&quot;U&quot;</td><td>null</td><td>&quot;SRB&quot;</td><td>null</td><td>null</td><td>&quot;Stefan Skobelev&quot;</td></tr></tbody></table></div>"
      ],
      "text/plain": [
       "shape: (65_019, 9)\n",
       "┌───────────┬────────────┬───────────────┬──────┬───┬─────┬────────┬─────────────┬─────────────────┐\n",
       "│ player_id ┆ name_first ┆ name_last     ┆ hand ┆ … ┆ ioc ┆ height ┆ wikidata_id ┆ name_full       │\n",
       "│ ---       ┆ ---        ┆ ---           ┆ ---  ┆   ┆ --- ┆ ---    ┆ ---         ┆ ---             │\n",
       "│ i64       ┆ str        ┆ str           ┆ str  ┆   ┆ str ┆ i64    ┆ str         ┆ str             │\n",
       "╞═══════════╪════════════╪═══════════════╪══════╪═══╪═════╪════════╪═════════════╪═════════════════╡\n",
       "│ 100001    ┆ Gardnar    ┆ Mulloy        ┆ R    ┆ … ┆ USA ┆ 185    ┆ Q54544      ┆ Gardnar Mulloy  │\n",
       "│ 100002    ┆ Pancho     ┆ Segura        ┆ R    ┆ … ┆ ECU ┆ 168    ┆ Q54581      ┆ Pancho Segura   │\n",
       "│ 100003    ┆ Frank      ┆ Sedgman       ┆ R    ┆ … ┆ AUS ┆ 180    ┆ Q962049     ┆ Frank Sedgman   │\n",
       "│ 100004    ┆ Giuseppe   ┆ Merlo         ┆ R    ┆ … ┆ ITA ┆ null   ┆ Q1258752    ┆ Giuseppe Merlo  │\n",
       "│ 100005    ┆ Richard    ┆ Gonzalez      ┆ R    ┆ … ┆ USA ┆ 188    ┆ Q53554      ┆ Richard         │\n",
       "│           ┆            ┆               ┆      ┆   ┆     ┆        ┆             ┆ Gonzalez        │\n",
       "│ …         ┆ …          ┆ …             ┆ …    ┆ … ┆ …   ┆ …      ┆ …           ┆ …               │\n",
       "│ 212913    ┆ Pietro     ┆ Ricci         ┆ U    ┆ … ┆ ITA ┆ null   ┆ null        ┆ Pietro Ricci    │\n",
       "│ 212914    ┆ Corey      ┆ Craig         ┆ U    ┆ … ┆ USA ┆ null   ┆ null        ┆ Corey Craig     │\n",
       "│ 212915    ┆ Aleksandar ┆ Ljubojevic    ┆ U    ┆ … ┆ SRB ┆ null   ┆ null        ┆ Aleksandar      │\n",
       "│           ┆            ┆               ┆      ┆   ┆     ┆        ┆             ┆ Ljubojevic      │\n",
       "│ 212916    ┆ Marko      ┆ Milosavljevic ┆ U    ┆ … ┆ SRB ┆ null   ┆ null        ┆ Marko           │\n",
       "│           ┆            ┆               ┆      ┆   ┆     ┆        ┆             ┆ Milosavljevic   │\n",
       "│ 212917    ┆ Stefan     ┆ Skobelev      ┆ U    ┆ … ┆ SRB ┆ null   ┆ null        ┆ Stefan Skobelev │\n",
       "└───────────┴────────────┴───────────────┴──────┴───┴─────┴────────┴─────────────┴─────────────────┘"
      ]
     },
     "execution_count": 21,
     "metadata": {},
     "output_type": "execute_result"
    }
   ],
   "source": [
    "players_atp"
   ]
  },
  {
   "cell_type": "code",
   "execution_count": 22,
   "metadata": {},
   "outputs": [
    {
     "data": {
      "text/html": [
       "<div><style>\n",
       ".dataframe > thead > tr,\n",
       ".dataframe > tbody > tr {\n",
       "  text-align: right;\n",
       "  white-space: pre-wrap;\n",
       "}\n",
       "</style>\n",
       "<small>shape: (67_095, 9)</small><table border=\"1\" class=\"dataframe\"><thead><tr><th>player_id</th><th>name_first</th><th>name_last</th><th>hand</th><th>dob</th><th>ioc</th><th>height</th><th>wikidata_id</th><th>name_full</th></tr><tr><td>i64</td><td>str</td><td>str</td><td>str</td><td>date</td><td>str</td><td>i64</td><td>str</td><td>str</td></tr></thead><tbody><tr><td>113190</td><td>&quot;Bobby&quot;</td><td>&quot;Riggs&quot;</td><td>&quot;U&quot;</td><td>null</td><td>&quot;USA&quot;</td><td>null</td><td>null</td><td>&quot;Bobby Riggs&quot;</td></tr><tr><td>200000</td><td>&quot;X&quot;</td><td>&quot;X&quot;</td><td>&quot;U&quot;</td><td>null</td><td>&quot;UNK&quot;</td><td>null</td><td>null</td><td>&quot;X X&quot;</td></tr><tr><td>200001</td><td>&quot;Martina&quot;</td><td>&quot;Hingis&quot;</td><td>&quot;R&quot;</td><td>1980-09-30</td><td>&quot;SUI&quot;</td><td>170</td><td>&quot;Q134720&quot;</td><td>&quot;Martina Hingis&quot;</td></tr><tr><td>200002</td><td>&quot;Mirjana&quot;</td><td>&quot;Lucic&quot;</td><td>&quot;R&quot;</td><td>1982-03-09</td><td>&quot;CRO&quot;</td><td>181</td><td>&quot;Q239686&quot;</td><td>&quot;Mirjana Lucic&quot;</td></tr><tr><td>200003</td><td>&quot;Justine&quot;</td><td>&quot;Henin&quot;</td><td>&quot;R&quot;</td><td>1982-06-01</td><td>&quot;BEL&quot;</td><td>167</td><td>&quot;Q11682&quot;</td><td>&quot;Justine Henin&quot;</td></tr><tr><td>&hellip;</td><td>&hellip;</td><td>&hellip;</td><td>&hellip;</td><td>&hellip;</td><td>&hellip;</td><td>&hellip;</td><td>&hellip;</td><td>&hellip;</td></tr><tr><td>267099</td><td>&quot;Kokoa&quot;</td><td>&quot;Nakao&quot;</td><td>&quot;U&quot;</td><td>null</td><td>&quot;JPN&quot;</td><td>null</td><td>null</td><td>&quot;Kokoa Nakao&quot;</td></tr><tr><td>267100</td><td>&quot;Aoi&quot;</td><td>&quot;Watanabe&quot;</td><td>&quot;U&quot;</td><td>null</td><td>&quot;JPN&quot;</td><td>null</td><td>null</td><td>&quot;Aoi Watanabe&quot;</td></tr><tr><td>267101</td><td>&quot;Sara&quot;</td><td>&quot;Yoshida&quot;</td><td>&quot;U&quot;</td><td>null</td><td>&quot;JPN&quot;</td><td>null</td><td>null</td><td>&quot;Sara Yoshida&quot;</td></tr><tr><td>267102</td><td>&quot;Ui Su&quot;</td><td>&quot;Jeong&quot;</td><td>&quot;U&quot;</td><td>null</td><td>&quot;KOR&quot;</td><td>null</td><td>null</td><td>&quot;Ui Su Jeong&quot;</td></tr><tr><td>267103</td><td>&quot;Alexia&quot;</td><td>&quot;Patru&quot;</td><td>&quot;U&quot;</td><td>null</td><td>&quot;ROU&quot;</td><td>null</td><td>null</td><td>&quot;Alexia Patru&quot;</td></tr></tbody></table></div>"
      ],
      "text/plain": [
       "shape: (67_095, 9)\n",
       "┌───────────┬────────────┬───────────┬──────┬───┬─────┬────────┬─────────────┬────────────────┐\n",
       "│ player_id ┆ name_first ┆ name_last ┆ hand ┆ … ┆ ioc ┆ height ┆ wikidata_id ┆ name_full      │\n",
       "│ ---       ┆ ---        ┆ ---       ┆ ---  ┆   ┆ --- ┆ ---    ┆ ---         ┆ ---            │\n",
       "│ i64       ┆ str        ┆ str       ┆ str  ┆   ┆ str ┆ i64    ┆ str         ┆ str            │\n",
       "╞═══════════╪════════════╪═══════════╪══════╪═══╪═════╪════════╪═════════════╪════════════════╡\n",
       "│ 113190    ┆ Bobby      ┆ Riggs     ┆ U    ┆ … ┆ USA ┆ null   ┆ null        ┆ Bobby Riggs    │\n",
       "│ 200000    ┆ X          ┆ X         ┆ U    ┆ … ┆ UNK ┆ null   ┆ null        ┆ X X            │\n",
       "│ 200001    ┆ Martina    ┆ Hingis    ┆ R    ┆ … ┆ SUI ┆ 170    ┆ Q134720     ┆ Martina Hingis │\n",
       "│ 200002    ┆ Mirjana    ┆ Lucic     ┆ R    ┆ … ┆ CRO ┆ 181    ┆ Q239686     ┆ Mirjana Lucic  │\n",
       "│ 200003    ┆ Justine    ┆ Henin     ┆ R    ┆ … ┆ BEL ┆ 167    ┆ Q11682      ┆ Justine Henin  │\n",
       "│ …         ┆ …          ┆ …         ┆ …    ┆ … ┆ …   ┆ …      ┆ …           ┆ …              │\n",
       "│ 267099    ┆ Kokoa      ┆ Nakao     ┆ U    ┆ … ┆ JPN ┆ null   ┆ null        ┆ Kokoa Nakao    │\n",
       "│ 267100    ┆ Aoi        ┆ Watanabe  ┆ U    ┆ … ┆ JPN ┆ null   ┆ null        ┆ Aoi Watanabe   │\n",
       "│ 267101    ┆ Sara       ┆ Yoshida   ┆ U    ┆ … ┆ JPN ┆ null   ┆ null        ┆ Sara Yoshida   │\n",
       "│ 267102    ┆ Ui Su      ┆ Jeong     ┆ U    ┆ … ┆ KOR ┆ null   ┆ null        ┆ Ui Su Jeong    │\n",
       "│ 267103    ┆ Alexia     ┆ Patru     ┆ U    ┆ … ┆ ROU ┆ null   ┆ null        ┆ Alexia Patru   │\n",
       "└───────────┴────────────┴───────────┴──────┴───┴─────┴────────┴─────────────┴────────────────┘"
      ]
     },
     "execution_count": 22,
     "metadata": {},
     "output_type": "execute_result"
    }
   ],
   "source": [
    "players_wta"
   ]
  },
  {
   "cell_type": "markdown",
   "metadata": {},
   "source": [
    "### Drop delle informazioni del torneo e delle informazioni del player"
   ]
  },
  {
   "cell_type": "code",
   "execution_count": 23,
   "metadata": {},
   "outputs": [],
   "source": [
    "#droppo tutte le colonne relative al torneo, tranne tourney_name_date_matches\n",
    "matches_amateurs_atp=matches_amateurs_atp.drop(['tourney_name', 'surface', 'draw_size', 'tourney_level', 'tourney_date', 'tourney_id'])\n",
    "matches_doubles_atp=matches_doubles_atp.drop(['tourney_name', 'surface', 'draw_size', 'tourney_level', 'tourney_date', 'tourney_id'])\n",
    "matches_futures=matches_futures.drop(['tourney_name', 'surface', 'draw_size', 'tourney_level', 'tourney_date', 'tourney_id'])\n",
    "matches_qualifiers_challengers=matches_qualifiers_challengers.drop(['tourney_name', 'surface', 'draw_size', 'tourney_level', 'tourney_date', 'tourney_id'])\n",
    "matches_qualifiers_itf=matches_qualifiers_itf.drop(['tourney_name', 'surface', 'draw_size', 'tourney_level', 'tourney_date', 'tourney_id'])\n",
    "matches_singles_atp=matches_singles_atp.drop(['tourney_name', 'surface', 'draw_size', 'tourney_level', 'tourney_date', 'tourney_id'])\n",
    "matches_singles_wta=matches_singles_wta.drop(['tourney_name', 'surface', 'draw_size', 'tourney_level', 'tourney_date', 'tourney_id'])"
   ]
  },
  {
   "cell_type": "code",
   "execution_count": 24,
   "metadata": {},
   "outputs": [
    {
     "data": {
      "text/plain": [
       "14.13552361"
      ]
     },
     "execution_count": 24,
     "metadata": {},
     "output_type": "execute_result"
    }
   ],
   "source": [
    "matches_amateurs_atp['winner_age'].min()"
   ]
  },
  {
   "cell_type": "code",
   "execution_count": 65,
   "metadata": {},
   "outputs": [
    {
     "data": {
      "text/plain": [
       "69.52224504"
      ]
     },
     "execution_count": 65,
     "metadata": {},
     "output_type": "execute_result"
    }
   ],
   "source": [
    "matches_amateurs_atp['winner_age'].max()"
   ]
  },
  {
   "cell_type": "code",
   "execution_count": 66,
   "metadata": {},
   "outputs": [],
   "source": [
    "matches_amateurs_atpsenzana=matches_amateurs_atp['winner_age'].drop_nulls()"
   ]
  },
  {
   "cell_type": "code",
   "execution_count": 89,
   "metadata": {},
   "outputs": [
    {
     "data": {
      "text/html": [
       "<div><style>\n",
       ".dataframe > thead > tr,\n",
       ".dataframe > tbody > tr {\n",
       "  text-align: right;\n",
       "  white-space: pre-wrap;\n",
       "}\n",
       "</style>\n",
       "<small>shape: (156, 2)</small><table border=\"1\" class=\"dataframe\"><thead><tr><th>winner_age</th><th>count</th></tr><tr><td>f64</td><td>u32</td></tr></thead><tbody><tr><td>14.135524</td><td>1</td></tr><tr><td>14.98152</td><td>1</td></tr><tr><td>15.049966</td><td>1</td></tr><tr><td>15.293634</td><td>1</td></tr><tr><td>15.438741</td><td>2</td></tr><tr><td>&hellip;</td><td>&hellip;</td></tr><tr><td>17.938398</td><td>3</td></tr><tr><td>17.943874</td><td>2</td></tr><tr><td>17.954825</td><td>5</td></tr><tr><td>17.960301</td><td>2</td></tr><tr><td>17.971253</td><td>3</td></tr></tbody></table></div>"
      ],
      "text/plain": [
       "shape: (156, 2)\n",
       "┌────────────┬───────┐\n",
       "│ winner_age ┆ count │\n",
       "│ ---        ┆ ---   │\n",
       "│ f64        ┆ u32   │\n",
       "╞════════════╪═══════╡\n",
       "│ 14.135524  ┆ 1     │\n",
       "│ 14.98152   ┆ 1     │\n",
       "│ 15.049966  ┆ 1     │\n",
       "│ 15.293634  ┆ 1     │\n",
       "│ 15.438741  ┆ 2     │\n",
       "│ …          ┆ …     │\n",
       "│ 17.938398  ┆ 3     │\n",
       "│ 17.943874  ┆ 2     │\n",
       "│ 17.954825  ┆ 5     │\n",
       "│ 17.960301  ┆ 2     │\n",
       "│ 17.971253  ┆ 3     │\n",
       "└────────────┴───────┘"
      ]
     },
     "execution_count": 89,
     "metadata": {},
     "output_type": "execute_result"
    }
   ],
   "source": [
    "matches_amateurs_atpsenzana.value_counts().sort('winner_age').head(156)"
   ]
  },
  {
   "cell_type": "code",
   "execution_count": 25,
   "metadata": {},
   "outputs": [
    {
     "data": {
      "text/plain": [
       "14.13552361"
      ]
     },
     "execution_count": 25,
     "metadata": {},
     "output_type": "execute_result"
    }
   ],
   "source": [
    "matches_amateurs_atp['loser_age'].min()"
   ]
  },
  {
   "cell_type": "code",
   "execution_count": 90,
   "metadata": {},
   "outputs": [
    {
     "data": {
      "text/plain": [
       "69.83983573"
      ]
     },
     "execution_count": 90,
     "metadata": {},
     "output_type": "execute_result"
    }
   ],
   "source": [
    "matches_amateurs_atp['loser_age'].max()"
   ]
  },
  {
   "cell_type": "code",
   "execution_count": 91,
   "metadata": {},
   "outputs": [],
   "source": [
    "matches_amateurs_atpsenzana2=matches_amateurs_atp['loser_age'].drop_nulls()"
   ]
  },
  {
   "cell_type": "code",
   "execution_count": 108,
   "metadata": {},
   "outputs": [
    {
     "data": {
      "text/html": [
       "<div><style>\n",
       ".dataframe > thead > tr,\n",
       ".dataframe > tbody > tr {\n",
       "  text-align: right;\n",
       "  white-space: pre-wrap;\n",
       "}\n",
       "</style>\n",
       "<small>shape: (274, 2)</small><table border=\"1\" class=\"dataframe\"><thead><tr><th>loser_age</th><th>count</th></tr><tr><td>f64</td><td>u32</td></tr></thead><tbody><tr><td>14.135524</td><td>1</td></tr><tr><td>14.740589</td><td>1</td></tr><tr><td>14.833676</td><td>1</td></tr><tr><td>14.852841</td><td>1</td></tr><tr><td>14.89117</td><td>1</td></tr><tr><td>&hellip;</td><td>&hellip;</td></tr><tr><td>17.971253</td><td>2</td></tr><tr><td>17.979466</td><td>1</td></tr><tr><td>17.982204</td><td>1</td></tr><tr><td>17.984942</td><td>1</td></tr><tr><td>17.993155</td><td>1</td></tr></tbody></table></div>"
      ],
      "text/plain": [
       "shape: (274, 2)\n",
       "┌───────────┬───────┐\n",
       "│ loser_age ┆ count │\n",
       "│ ---       ┆ ---   │\n",
       "│ f64       ┆ u32   │\n",
       "╞═══════════╪═══════╡\n",
       "│ 14.135524 ┆ 1     │\n",
       "│ 14.740589 ┆ 1     │\n",
       "│ 14.833676 ┆ 1     │\n",
       "│ 14.852841 ┆ 1     │\n",
       "│ 14.89117  ┆ 1     │\n",
       "│ …         ┆ …     │\n",
       "│ 17.971253 ┆ 2     │\n",
       "│ 17.979466 ┆ 1     │\n",
       "│ 17.982204 ┆ 1     │\n",
       "│ 17.984942 ┆ 1     │\n",
       "│ 17.993155 ┆ 1     │\n",
       "└───────────┴───────┘"
      ]
     },
     "execution_count": 108,
     "metadata": {},
     "output_type": "execute_result"
    }
   ],
   "source": [
    "matches_amateurs_atpsenzana2.value_counts().sort('loser_age').head(274)"
   ]
  },
  {
   "cell_type": "code",
   "execution_count": 26,
   "metadata": {},
   "outputs": [
    {
     "data": {
      "text/plain": [
       "16.4298425736"
      ]
     },
     "execution_count": 26,
     "metadata": {},
     "output_type": "execute_result"
    }
   ],
   "source": [
    "matches_doubles_atp['winner1_age'].min()"
   ]
  },
  {
   "cell_type": "code",
   "execution_count": 109,
   "metadata": {},
   "outputs": [
    {
     "data": {
      "text/plain": [
       "46.4859685147"
      ]
     },
     "execution_count": 109,
     "metadata": {},
     "output_type": "execute_result"
    }
   ],
   "source": [
    "matches_doubles_atp['winner1_age'].max()"
   ]
  },
  {
   "cell_type": "code",
   "execution_count": 110,
   "metadata": {},
   "outputs": [],
   "source": [
    "matches_doubles_atpsenzana=matches_doubles_atp['winner1_age'].drop_nulls()"
   ]
  },
  {
   "cell_type": "code",
   "execution_count": 118,
   "metadata": {},
   "outputs": [
    {
     "data": {
      "text/html": [
       "<div><style>\n",
       ".dataframe > thead > tr,\n",
       ".dataframe > tbody > tr {\n",
       "  text-align: right;\n",
       "  white-space: pre-wrap;\n",
       "}\n",
       "</style>\n",
       "<small>shape: (19, 2)</small><table border=\"1\" class=\"dataframe\"><thead><tr><th>winner1_age</th><th>count</th></tr><tr><td>f64</td><td>u32</td></tr></thead><tbody><tr><td>16.429843</td><td>1</td></tr><tr><td>16.621492</td><td>1</td></tr><tr><td>17.316906</td><td>1</td></tr><tr><td>17.352498</td><td>1</td></tr><tr><td>17.50308</td><td>1</td></tr><tr><td>&hellip;</td><td>&hellip;</td></tr><tr><td>17.837098</td><td>1</td></tr><tr><td>17.875428</td><td>1</td></tr><tr><td>17.91102</td><td>1</td></tr><tr><td>17.919233</td><td>2</td></tr><tr><td>17.995893</td><td>4</td></tr></tbody></table></div>"
      ],
      "text/plain": [
       "shape: (19, 2)\n",
       "┌─────────────┬───────┐\n",
       "│ winner1_age ┆ count │\n",
       "│ ---         ┆ ---   │\n",
       "│ f64         ┆ u32   │\n",
       "╞═════════════╪═══════╡\n",
       "│ 16.429843   ┆ 1     │\n",
       "│ 16.621492   ┆ 1     │\n",
       "│ 17.316906   ┆ 1     │\n",
       "│ 17.352498   ┆ 1     │\n",
       "│ 17.50308    ┆ 1     │\n",
       "│ …           ┆ …     │\n",
       "│ 17.837098   ┆ 1     │\n",
       "│ 17.875428   ┆ 1     │\n",
       "│ 17.91102    ┆ 1     │\n",
       "│ 17.919233   ┆ 2     │\n",
       "│ 17.995893   ┆ 4     │\n",
       "└─────────────┴───────┘"
      ]
     },
     "execution_count": 118,
     "metadata": {},
     "output_type": "execute_result"
    }
   ],
   "source": [
    "matches_doubles_atpsenzana.value_counts().sort('winner1_age').head(19)"
   ]
  },
  {
   "cell_type": "code",
   "execution_count": 27,
   "metadata": {},
   "outputs": [
    {
     "data": {
      "text/plain": [
       "16.5941136208"
      ]
     },
     "execution_count": 27,
     "metadata": {},
     "output_type": "execute_result"
    }
   ],
   "source": [
    "matches_doubles_atp['winner2_age'].min()"
   ]
  },
  {
   "cell_type": "code",
   "execution_count": 119,
   "metadata": {},
   "outputs": [
    {
     "data": {
      "text/plain": [
       "47.6440793977"
      ]
     },
     "execution_count": 119,
     "metadata": {},
     "output_type": "execute_result"
    }
   ],
   "source": [
    "matches_doubles_atp['winner2_age'].max()"
   ]
  },
  {
   "cell_type": "code",
   "execution_count": 120,
   "metadata": {},
   "outputs": [],
   "source": [
    "matches_doubles_atpsenzana2=matches_doubles_atp['winner2_age'].drop_nulls()"
   ]
  },
  {
   "cell_type": "code",
   "execution_count": 130,
   "metadata": {},
   "outputs": [
    {
     "data": {
      "text/html": [
       "<div><style>\n",
       ".dataframe > thead > tr,\n",
       ".dataframe > tbody > tr {\n",
       "  text-align: right;\n",
       "  white-space: pre-wrap;\n",
       "}\n",
       "</style>\n",
       "<small>shape: (12, 2)</small><table border=\"1\" class=\"dataframe\"><thead><tr><th>winner2_age</th><th>count</th></tr><tr><td>f64</td><td>u32</td></tr></thead><tbody><tr><td>16.594114</td><td>1</td></tr><tr><td>16.980151</td><td>2</td></tr><tr><td>17.092402</td><td>1</td></tr><tr><td>17.130732</td><td>4</td></tr><tr><td>17.149897</td><td>1</td></tr><tr><td>&hellip;</td><td>&hellip;</td></tr><tr><td>17.79603</td><td>2</td></tr><tr><td>17.957563</td><td>1</td></tr><tr><td>17.971253</td><td>1</td></tr><tr><td>17.98768</td><td>1</td></tr><tr><td>17.995893</td><td>1</td></tr></tbody></table></div>"
      ],
      "text/plain": [
       "shape: (12, 2)\n",
       "┌─────────────┬───────┐\n",
       "│ winner2_age ┆ count │\n",
       "│ ---         ┆ ---   │\n",
       "│ f64         ┆ u32   │\n",
       "╞═════════════╪═══════╡\n",
       "│ 16.594114   ┆ 1     │\n",
       "│ 16.980151   ┆ 2     │\n",
       "│ 17.092402   ┆ 1     │\n",
       "│ 17.130732   ┆ 4     │\n",
       "│ 17.149897   ┆ 1     │\n",
       "│ …           ┆ …     │\n",
       "│ 17.79603    ┆ 2     │\n",
       "│ 17.957563   ┆ 1     │\n",
       "│ 17.971253   ┆ 1     │\n",
       "│ 17.98768    ┆ 1     │\n",
       "│ 17.995893   ┆ 1     │\n",
       "└─────────────┴───────┘"
      ]
     },
     "execution_count": 130,
     "metadata": {},
     "output_type": "execute_result"
    }
   ],
   "source": [
    "matches_doubles_atpsenzana2.value_counts().sort('winner2_age').head(12)"
   ]
  },
  {
   "cell_type": "code",
   "execution_count": 28,
   "metadata": {},
   "outputs": [
    {
     "data": {
      "text/plain": [
       "15.2854209446"
      ]
     },
     "execution_count": 28,
     "metadata": {},
     "output_type": "execute_result"
    }
   ],
   "source": [
    "matches_doubles_atp['loser1_age'].min()"
   ]
  },
  {
   "cell_type": "code",
   "execution_count": 131,
   "metadata": {},
   "outputs": [
    {
     "data": {
      "text/plain": [
       "47.665982204"
      ]
     },
     "execution_count": 131,
     "metadata": {},
     "output_type": "execute_result"
    }
   ],
   "source": [
    "matches_doubles_atp['loser1_age'].max()"
   ]
  },
  {
   "cell_type": "code",
   "execution_count": 133,
   "metadata": {},
   "outputs": [],
   "source": [
    "matches_doubles_atpsenzana3=matches_doubles_atp['loser1_age'].drop_nulls()"
   ]
  },
  {
   "cell_type": "code",
   "execution_count": 147,
   "metadata": {},
   "outputs": [
    {
     "data": {
      "text/html": [
       "<div><style>\n",
       ".dataframe > thead > tr,\n",
       ".dataframe > tbody > tr {\n",
       "  text-align: right;\n",
       "  white-space: pre-wrap;\n",
       "}\n",
       "</style>\n",
       "<small>shape: (94, 2)</small><table border=\"1\" class=\"dataframe\"><thead><tr><th>loser1_age</th><th>count</th></tr><tr><td>f64</td><td>u32</td></tr></thead><tbody><tr><td>15.285421</td><td>1</td></tr><tr><td>15.671458</td><td>1</td></tr><tr><td>15.761807</td><td>1</td></tr><tr><td>15.843943</td><td>1</td></tr><tr><td>15.92334</td><td>1</td></tr><tr><td>&hellip;</td><td>&hellip;</td></tr><tr><td>17.954825</td><td>2</td></tr><tr><td>17.963039</td><td>1</td></tr><tr><td>17.971253</td><td>1</td></tr><tr><td>17.993155</td><td>1</td></tr><tr><td>17.998631</td><td>1</td></tr></tbody></table></div>"
      ],
      "text/plain": [
       "shape: (94, 2)\n",
       "┌────────────┬───────┐\n",
       "│ loser1_age ┆ count │\n",
       "│ ---        ┆ ---   │\n",
       "│ f64        ┆ u32   │\n",
       "╞════════════╪═══════╡\n",
       "│ 15.285421  ┆ 1     │\n",
       "│ 15.671458  ┆ 1     │\n",
       "│ 15.761807  ┆ 1     │\n",
       "│ 15.843943  ┆ 1     │\n",
       "│ 15.92334   ┆ 1     │\n",
       "│ …          ┆ …     │\n",
       "│ 17.954825  ┆ 2     │\n",
       "│ 17.963039  ┆ 1     │\n",
       "│ 17.971253  ┆ 1     │\n",
       "│ 17.993155  ┆ 1     │\n",
       "│ 17.998631  ┆ 1     │\n",
       "└────────────┴───────┘"
      ]
     },
     "execution_count": 147,
     "metadata": {},
     "output_type": "execute_result"
    }
   ],
   "source": [
    "matches_doubles_atpsenzana3.value_counts().sort('loser1_age').head(94)"
   ]
  },
  {
   "cell_type": "code",
   "execution_count": 29,
   "metadata": {},
   "outputs": [
    {
     "data": {
      "text/plain": [
       "15.8603696099"
      ]
     },
     "execution_count": 29,
     "metadata": {},
     "output_type": "execute_result"
    }
   ],
   "source": [
    "matches_doubles_atp['loser2_age'].min()"
   ]
  },
  {
   "cell_type": "code",
   "execution_count": 148,
   "metadata": {},
   "outputs": [
    {
     "data": {
      "text/plain": [
       "47.6440793977"
      ]
     },
     "execution_count": 148,
     "metadata": {},
     "output_type": "execute_result"
    }
   ],
   "source": [
    "matches_doubles_atp['loser2_age'].max()"
   ]
  },
  {
   "cell_type": "code",
   "execution_count": 149,
   "metadata": {},
   "outputs": [],
   "source": [
    "matches_doubles_atpsenzana4=matches_doubles_atp['loser2_age'].drop_nulls()"
   ]
  },
  {
   "cell_type": "code",
   "execution_count": 159,
   "metadata": {},
   "outputs": [
    {
     "data": {
      "text/html": [
       "<div><style>\n",
       ".dataframe > thead > tr,\n",
       ".dataframe > tbody > tr {\n",
       "  text-align: right;\n",
       "  white-space: pre-wrap;\n",
       "}\n",
       "</style>\n",
       "<small>shape: (86, 2)</small><table border=\"1\" class=\"dataframe\"><thead><tr><th>loser2_age</th><th>count</th></tr><tr><td>f64</td><td>u32</td></tr></thead><tbody><tr><td>15.86037</td><td>1</td></tr><tr><td>15.92334</td><td>1</td></tr><tr><td>15.942505</td><td>2</td></tr><tr><td>16.087611</td><td>1</td></tr><tr><td>16.1013</td><td>1</td></tr><tr><td>&hellip;</td><td>&hellip;</td></tr><tr><td>17.982204</td><td>1</td></tr><tr><td>17.98768</td><td>2</td></tr><tr><td>17.990418</td><td>1</td></tr><tr><td>17.993155</td><td>1</td></tr><tr><td>17.995893</td><td>1</td></tr></tbody></table></div>"
      ],
      "text/plain": [
       "shape: (86, 2)\n",
       "┌────────────┬───────┐\n",
       "│ loser2_age ┆ count │\n",
       "│ ---        ┆ ---   │\n",
       "│ f64        ┆ u32   │\n",
       "╞════════════╪═══════╡\n",
       "│ 15.86037   ┆ 1     │\n",
       "│ 15.92334   ┆ 1     │\n",
       "│ 15.942505  ┆ 2     │\n",
       "│ 16.087611  ┆ 1     │\n",
       "│ 16.1013    ┆ 1     │\n",
       "│ …          ┆ …     │\n",
       "│ 17.982204  ┆ 1     │\n",
       "│ 17.98768   ┆ 2     │\n",
       "│ 17.990418  ┆ 1     │\n",
       "│ 17.993155  ┆ 1     │\n",
       "│ 17.995893  ┆ 1     │\n",
       "└────────────┴───────┘"
      ]
     },
     "execution_count": 159,
     "metadata": {},
     "output_type": "execute_result"
    }
   ],
   "source": [
    "matches_doubles_atpsenzana4.value_counts().sort('loser2_age').head(86)"
   ]
  },
  {
   "cell_type": "code",
   "execution_count": 30,
   "metadata": {},
   "outputs": [
    {
     "data": {
      "text/plain": [
       "14.0"
      ]
     },
     "execution_count": 30,
     "metadata": {},
     "output_type": "execute_result"
    }
   ],
   "source": [
    "matches_futures['winner_age'].min()"
   ]
  },
  {
   "cell_type": "code",
   "execution_count": 160,
   "metadata": {},
   "outputs": [
    {
     "data": {
      "text/plain": [
       "101.5"
      ]
     },
     "execution_count": 160,
     "metadata": {},
     "output_type": "execute_result"
    }
   ],
   "source": [
    "matches_futures['winner_age'].max()"
   ]
  },
  {
   "cell_type": "code",
   "execution_count": 161,
   "metadata": {},
   "outputs": [],
   "source": [
    "matches_futuressenzana=matches_futures['winner_age'].drop_nulls()"
   ]
  },
  {
   "cell_type": "code",
   "execution_count": 168,
   "metadata": {},
   "outputs": [
    {
     "data": {
      "text/html": [
       "<div><style>\n",
       ".dataframe > thead > tr,\n",
       ".dataframe > tbody > tr {\n",
       "  text-align: right;\n",
       "  white-space: pre-wrap;\n",
       "}\n",
       "</style>\n",
       "<small>shape: (40, 2)</small><table border=\"1\" class=\"dataframe\"><thead><tr><th>winner_age</th><th>count</th></tr><tr><td>f64</td><td>u32</td></tr></thead><tbody><tr><td>14.0</td><td>3</td></tr><tr><td>14.1</td><td>4</td></tr><tr><td>14.2</td><td>1</td></tr><tr><td>14.3</td><td>7</td></tr><tr><td>14.4</td><td>2</td></tr><tr><td>&hellip;</td><td>&hellip;</td></tr><tr><td>17.5</td><td>1511</td></tr><tr><td>17.6</td><td>1587</td></tr><tr><td>17.7</td><td>1859</td></tr><tr><td>17.8</td><td>1870</td></tr><tr><td>17.9</td><td>2267</td></tr></tbody></table></div>"
      ],
      "text/plain": [
       "shape: (40, 2)\n",
       "┌────────────┬───────┐\n",
       "│ winner_age ┆ count │\n",
       "│ ---        ┆ ---   │\n",
       "│ f64        ┆ u32   │\n",
       "╞════════════╪═══════╡\n",
       "│ 14.0       ┆ 3     │\n",
       "│ 14.1       ┆ 4     │\n",
       "│ 14.2       ┆ 1     │\n",
       "│ 14.3       ┆ 7     │\n",
       "│ 14.4       ┆ 2     │\n",
       "│ …          ┆ …     │\n",
       "│ 17.5       ┆ 1511  │\n",
       "│ 17.6       ┆ 1587  │\n",
       "│ 17.7       ┆ 1859  │\n",
       "│ 17.8       ┆ 1870  │\n",
       "│ 17.9       ┆ 2267  │\n",
       "└────────────┴───────┘"
      ]
     },
     "execution_count": 168,
     "metadata": {},
     "output_type": "execute_result"
    }
   ],
   "source": [
    "matches_futuressenzana.value_counts().sort('winner_age').head(40)"
   ]
  },
  {
   "cell_type": "code",
   "execution_count": 31,
   "metadata": {},
   "outputs": [
    {
     "data": {
      "text/plain": [
       "14.0"
      ]
     },
     "execution_count": 31,
     "metadata": {},
     "output_type": "execute_result"
    }
   ],
   "source": [
    "matches_futures['loser_age'].min()"
   ]
  },
  {
   "cell_type": "code",
   "execution_count": 169,
   "metadata": {},
   "outputs": [
    {
     "data": {
      "text/plain": [
       "101.5"
      ]
     },
     "execution_count": 169,
     "metadata": {},
     "output_type": "execute_result"
    }
   ],
   "source": [
    "matches_futures['loser_age'].max()"
   ]
  },
  {
   "cell_type": "code",
   "execution_count": 170,
   "metadata": {},
   "outputs": [],
   "source": [
    "matches_futuressenzana2=matches_futures['loser_age'].drop_nulls()"
   ]
  },
  {
   "cell_type": "code",
   "execution_count": 173,
   "metadata": {},
   "outputs": [
    {
     "data": {
      "text/html": [
       "<div><style>\n",
       ".dataframe > thead > tr,\n",
       ".dataframe > tbody > tr {\n",
       "  text-align: right;\n",
       "  white-space: pre-wrap;\n",
       "}\n",
       "</style>\n",
       "<small>shape: (40, 2)</small><table border=\"1\" class=\"dataframe\"><thead><tr><th>loser_age</th><th>count</th></tr><tr><td>f64</td><td>u32</td></tr></thead><tbody><tr><td>14.0</td><td>13</td></tr><tr><td>14.1</td><td>20</td></tr><tr><td>14.2</td><td>10</td></tr><tr><td>14.3</td><td>21</td></tr><tr><td>14.4</td><td>9</td></tr><tr><td>&hellip;</td><td>&hellip;</td></tr><tr><td>17.5</td><td>2473</td></tr><tr><td>17.6</td><td>2727</td></tr><tr><td>17.7</td><td>2791</td></tr><tr><td>17.8</td><td>3047</td></tr><tr><td>17.9</td><td>3410</td></tr></tbody></table></div>"
      ],
      "text/plain": [
       "shape: (40, 2)\n",
       "┌───────────┬───────┐\n",
       "│ loser_age ┆ count │\n",
       "│ ---       ┆ ---   │\n",
       "│ f64       ┆ u32   │\n",
       "╞═══════════╪═══════╡\n",
       "│ 14.0      ┆ 13    │\n",
       "│ 14.1      ┆ 20    │\n",
       "│ 14.2      ┆ 10    │\n",
       "│ 14.3      ┆ 21    │\n",
       "│ 14.4      ┆ 9     │\n",
       "│ …         ┆ …     │\n",
       "│ 17.5      ┆ 2473  │\n",
       "│ 17.6      ┆ 2727  │\n",
       "│ 17.7      ┆ 2791  │\n",
       "│ 17.8      ┆ 3047  │\n",
       "│ 17.9      ┆ 3410  │\n",
       "└───────────┴───────┘"
      ]
     },
     "execution_count": 173,
     "metadata": {},
     "output_type": "execute_result"
    }
   ],
   "source": [
    "matches_futuressenzana2.value_counts().sort('loser_age').head(40)"
   ]
  },
  {
   "cell_type": "code",
   "execution_count": 32,
   "metadata": {},
   "outputs": [
    {
     "data": {
      "text/plain": [
       "14.3"
      ]
     },
     "execution_count": 32,
     "metadata": {},
     "output_type": "execute_result"
    }
   ],
   "source": [
    "matches_qualifiers_challengers['winner_age'].min()"
   ]
  },
  {
   "cell_type": "code",
   "execution_count": 174,
   "metadata": {},
   "outputs": [
    {
     "data": {
      "text/plain": [
       "48.9"
      ]
     },
     "execution_count": 174,
     "metadata": {},
     "output_type": "execute_result"
    }
   ],
   "source": [
    "matches_qualifiers_challengers['winner_age'].max()"
   ]
  },
  {
   "cell_type": "code",
   "execution_count": 175,
   "metadata": {},
   "outputs": [],
   "source": [
    "matches_qualifiers_challengerssenzana=matches_qualifiers_challengers['winner_age'].drop_nulls()"
   ]
  },
  {
   "cell_type": "code",
   "execution_count": 179,
   "metadata": {},
   "outputs": [
    {
     "data": {
      "text/html": [
       "<div><style>\n",
       ".dataframe > thead > tr,\n",
       ".dataframe > tbody > tr {\n",
       "  text-align: right;\n",
       "  white-space: pre-wrap;\n",
       "}\n",
       "</style>\n",
       "<small>shape: (32, 2)</small><table border=\"1\" class=\"dataframe\"><thead><tr><th>winner_age</th><th>count</th></tr><tr><td>f64</td><td>u32</td></tr></thead><tbody><tr><td>14.3</td><td>1</td></tr><tr><td>14.5</td><td>2</td></tr><tr><td>14.7</td><td>2</td></tr><tr><td>14.9</td><td>3</td></tr><tr><td>15.1</td><td>1</td></tr><tr><td>&hellip;</td><td>&hellip;</td></tr><tr><td>17.5</td><td>186</td></tr><tr><td>17.6</td><td>211</td></tr><tr><td>17.7</td><td>264</td></tr><tr><td>17.8</td><td>329</td></tr><tr><td>17.9</td><td>320</td></tr></tbody></table></div>"
      ],
      "text/plain": [
       "shape: (32, 2)\n",
       "┌────────────┬───────┐\n",
       "│ winner_age ┆ count │\n",
       "│ ---        ┆ ---   │\n",
       "│ f64        ┆ u32   │\n",
       "╞════════════╪═══════╡\n",
       "│ 14.3       ┆ 1     │\n",
       "│ 14.5       ┆ 2     │\n",
       "│ 14.7       ┆ 2     │\n",
       "│ 14.9       ┆ 3     │\n",
       "│ 15.1       ┆ 1     │\n",
       "│ …          ┆ …     │\n",
       "│ 17.5       ┆ 186   │\n",
       "│ 17.6       ┆ 211   │\n",
       "│ 17.7       ┆ 264   │\n",
       "│ 17.8       ┆ 329   │\n",
       "│ 17.9       ┆ 320   │\n",
       "└────────────┴───────┘"
      ]
     },
     "execution_count": 179,
     "metadata": {},
     "output_type": "execute_result"
    }
   ],
   "source": [
    "matches_qualifiers_challengerssenzana.value_counts().sort('winner_age').head(32)"
   ]
  },
  {
   "cell_type": "code",
   "execution_count": 33,
   "metadata": {},
   "outputs": [
    {
     "data": {
      "text/plain": [
       "14.1"
      ]
     },
     "execution_count": 33,
     "metadata": {},
     "output_type": "execute_result"
    }
   ],
   "source": [
    "matches_qualifiers_challengers['loser_age'].min()"
   ]
  },
  {
   "cell_type": "code",
   "execution_count": 180,
   "metadata": {},
   "outputs": [
    {
     "data": {
      "text/plain": [
       "53.9"
      ]
     },
     "execution_count": 180,
     "metadata": {},
     "output_type": "execute_result"
    }
   ],
   "source": [
    "matches_qualifiers_challengers['loser_age'].max()"
   ]
  },
  {
   "cell_type": "code",
   "execution_count": 181,
   "metadata": {},
   "outputs": [],
   "source": [
    "matches_qualifiers_challengerssenzana2=matches_qualifiers_challengers['loser_age'].drop_nulls()"
   ]
  },
  {
   "cell_type": "code",
   "execution_count": 186,
   "metadata": {},
   "outputs": [
    {
     "data": {
      "text/html": [
       "<div><style>\n",
       ".dataframe > thead > tr,\n",
       ".dataframe > tbody > tr {\n",
       "  text-align: right;\n",
       "  white-space: pre-wrap;\n",
       "}\n",
       "</style>\n",
       "<small>shape: (39, 2)</small><table border=\"1\" class=\"dataframe\"><thead><tr><th>loser_age</th><th>count</th></tr><tr><td>f64</td><td>u32</td></tr></thead><tbody><tr><td>14.1</td><td>1</td></tr><tr><td>14.2</td><td>1</td></tr><tr><td>14.3</td><td>3</td></tr><tr><td>14.4</td><td>3</td></tr><tr><td>14.5</td><td>6</td></tr><tr><td>&hellip;</td><td>&hellip;</td></tr><tr><td>17.5</td><td>338</td></tr><tr><td>17.6</td><td>374</td></tr><tr><td>17.7</td><td>404</td></tr><tr><td>17.8</td><td>402</td></tr><tr><td>17.9</td><td>470</td></tr></tbody></table></div>"
      ],
      "text/plain": [
       "shape: (39, 2)\n",
       "┌───────────┬───────┐\n",
       "│ loser_age ┆ count │\n",
       "│ ---       ┆ ---   │\n",
       "│ f64       ┆ u32   │\n",
       "╞═══════════╪═══════╡\n",
       "│ 14.1      ┆ 1     │\n",
       "│ 14.2      ┆ 1     │\n",
       "│ 14.3      ┆ 3     │\n",
       "│ 14.4      ┆ 3     │\n",
       "│ 14.5      ┆ 6     │\n",
       "│ …         ┆ …     │\n",
       "│ 17.5      ┆ 338   │\n",
       "│ 17.6      ┆ 374   │\n",
       "│ 17.7      ┆ 404   │\n",
       "│ 17.8      ┆ 402   │\n",
       "│ 17.9      ┆ 470   │\n",
       "└───────────┴───────┘"
      ]
     },
     "execution_count": 186,
     "metadata": {},
     "output_type": "execute_result"
    }
   ],
   "source": [
    "matches_qualifiers_challengerssenzana2.value_counts().sort('loser_age').head(39)"
   ]
  },
  {
   "cell_type": "code",
   "execution_count": 34,
   "metadata": {},
   "outputs": [
    {
     "data": {
      "text/plain": [
       "14.3"
      ]
     },
     "execution_count": 34,
     "metadata": {},
     "output_type": "execute_result"
    }
   ],
   "source": [
    "matches_singles_atp['winner_age'].min()"
   ]
  },
  {
   "cell_type": "code",
   "execution_count": 187,
   "metadata": {},
   "outputs": [
    {
     "data": {
      "text/plain": [
       "58.7"
      ]
     },
     "execution_count": 187,
     "metadata": {},
     "output_type": "execute_result"
    }
   ],
   "source": [
    "matches_singles_atp['winner_age'].max()"
   ]
  },
  {
   "cell_type": "code",
   "execution_count": 188,
   "metadata": {},
   "outputs": [],
   "source": [
    "matches_singles_atpsenzana=matches_singles_atp['winner_age'].drop_nulls()"
   ]
  },
  {
   "cell_type": "code",
   "execution_count": 193,
   "metadata": {},
   "outputs": [
    {
     "data": {
      "text/html": [
       "<div><style>\n",
       ".dataframe > thead > tr,\n",
       ".dataframe > tbody > tr {\n",
       "  text-align: right;\n",
       "  white-space: pre-wrap;\n",
       "}\n",
       "</style>\n",
       "<small>shape: (32, 2)</small><table border=\"1\" class=\"dataframe\"><thead><tr><th>winner_age</th><th>count</th></tr><tr><td>f64</td><td>u32</td></tr></thead><tbody><tr><td>14.3</td><td>1</td></tr><tr><td>14.5</td><td>1</td></tr><tr><td>14.9</td><td>1</td></tr><tr><td>15.0</td><td>1</td></tr><tr><td>15.1</td><td>4</td></tr><tr><td>&hellip;</td><td>&hellip;</td></tr><tr><td>17.5</td><td>166</td></tr><tr><td>17.6</td><td>133</td></tr><tr><td>17.7</td><td>203</td></tr><tr><td>17.8</td><td>131</td></tr><tr><td>17.9</td><td>183</td></tr></tbody></table></div>"
      ],
      "text/plain": [
       "shape: (32, 2)\n",
       "┌────────────┬───────┐\n",
       "│ winner_age ┆ count │\n",
       "│ ---        ┆ ---   │\n",
       "│ f64        ┆ u32   │\n",
       "╞════════════╪═══════╡\n",
       "│ 14.3       ┆ 1     │\n",
       "│ 14.5       ┆ 1     │\n",
       "│ 14.9       ┆ 1     │\n",
       "│ 15.0       ┆ 1     │\n",
       "│ 15.1       ┆ 4     │\n",
       "│ …          ┆ …     │\n",
       "│ 17.5       ┆ 166   │\n",
       "│ 17.6       ┆ 133   │\n",
       "│ 17.7       ┆ 203   │\n",
       "│ 17.8       ┆ 131   │\n",
       "│ 17.9       ┆ 183   │\n",
       "└────────────┴───────┘"
      ]
     },
     "execution_count": 193,
     "metadata": {},
     "output_type": "execute_result"
    }
   ],
   "source": [
    "matches_singles_atpsenzana.value_counts().sort('winner_age').head(32)"
   ]
  },
  {
   "cell_type": "code",
   "execution_count": 35,
   "metadata": {},
   "outputs": [
    {
     "data": {
      "text/plain": [
       "14.2"
      ]
     },
     "execution_count": 35,
     "metadata": {},
     "output_type": "execute_result"
    }
   ],
   "source": [
    "matches_singles_atp['loser_age'].min()"
   ]
  },
  {
   "cell_type": "code",
   "execution_count": 194,
   "metadata": {},
   "outputs": [
    {
     "data": {
      "text/plain": [
       "63.6"
      ]
     },
     "execution_count": 194,
     "metadata": {},
     "output_type": "execute_result"
    }
   ],
   "source": [
    "matches_singles_atp['loser_age'].max()"
   ]
  },
  {
   "cell_type": "code",
   "execution_count": 195,
   "metadata": {},
   "outputs": [],
   "source": [
    "matches_singles_atpsenzana2=matches_singles_atp['loser_age'].drop_nulls()"
   ]
  },
  {
   "cell_type": "code",
   "execution_count": 198,
   "metadata": {},
   "outputs": [
    {
     "data": {
      "text/html": [
       "<div><style>\n",
       ".dataframe > thead > tr,\n",
       ".dataframe > tbody > tr {\n",
       "  text-align: right;\n",
       "  white-space: pre-wrap;\n",
       "}\n",
       "</style>\n",
       "<small>shape: (37, 2)</small><table border=\"1\" class=\"dataframe\"><thead><tr><th>loser_age</th><th>count</th></tr><tr><td>f64</td><td>u32</td></tr></thead><tbody><tr><td>14.2</td><td>1</td></tr><tr><td>14.4</td><td>2</td></tr><tr><td>14.5</td><td>4</td></tr><tr><td>14.6</td><td>2</td></tr><tr><td>14.7</td><td>3</td></tr><tr><td>&hellip;</td><td>&hellip;</td></tr><tr><td>17.5</td><td>186</td></tr><tr><td>17.6</td><td>181</td></tr><tr><td>17.7</td><td>212</td></tr><tr><td>17.8</td><td>202</td></tr><tr><td>17.9</td><td>251</td></tr></tbody></table></div>"
      ],
      "text/plain": [
       "shape: (37, 2)\n",
       "┌───────────┬───────┐\n",
       "│ loser_age ┆ count │\n",
       "│ ---       ┆ ---   │\n",
       "│ f64       ┆ u32   │\n",
       "╞═══════════╪═══════╡\n",
       "│ 14.2      ┆ 1     │\n",
       "│ 14.4      ┆ 2     │\n",
       "│ 14.5      ┆ 4     │\n",
       "│ 14.6      ┆ 2     │\n",
       "│ 14.7      ┆ 3     │\n",
       "│ …         ┆ …     │\n",
       "│ 17.5      ┆ 186   │\n",
       "│ 17.6      ┆ 181   │\n",
       "│ 17.7      ┆ 212   │\n",
       "│ 17.8      ┆ 202   │\n",
       "│ 17.9      ┆ 251   │\n",
       "└───────────┴───────┘"
      ]
     },
     "execution_count": 198,
     "metadata": {},
     "output_type": "execute_result"
    }
   ],
   "source": [
    "matches_singles_atpsenzana2.value_counts().sort('loser_age').head(37)"
   ]
  },
  {
   "cell_type": "code",
   "execution_count": 36,
   "metadata": {},
   "outputs": [
    {
     "data": {
      "text/html": [
       "<div><style>\n",
       ".dataframe > thead > tr,\n",
       ".dataframe > tbody > tr {\n",
       "  text-align: right;\n",
       "  white-space: pre-wrap;\n",
       "}\n",
       "</style>\n",
       "<small>shape: (1, 6)</small><table border=\"1\" class=\"dataframe\"><thead><tr><th>tourney_name</th><th>surface</th><th>draw_size</th><th>tourney_level</th><th>tourney_date</th><th>tourney_name_date_matches</th></tr><tr><td>str</td><td>str</td><td>str</td><td>str</td><td>date</td><td>str</td></tr></thead><tbody><tr><td>&quot;Rondebosch Exho&quot;</td><td>&quot;Hard&quot;</td><td>&quot;exho&quot;</td><td>&quot;E&quot;</td><td>1970-04-06</td><td>&quot;Rondebosch Exho_1970_singles_w…</td></tr></tbody></table></div>"
      ],
      "text/plain": [
       "shape: (1, 6)\n",
       "┌─────────────────┬─────────┬───────────┬───────────────┬──────────────┬───────────────────────────┐\n",
       "│ tourney_name    ┆ surface ┆ draw_size ┆ tourney_level ┆ tourney_date ┆ tourney_name_date_matches │\n",
       "│ ---             ┆ ---     ┆ ---       ┆ ---           ┆ ---          ┆ ---                       │\n",
       "│ str             ┆ str     ┆ str       ┆ str           ┆ date         ┆ str                       │\n",
       "╞═════════════════╪═════════╪═══════════╪═══════════════╪══════════════╪═══════════════════════════╡\n",
       "│ Rondebosch Exho ┆ Hard    ┆ exho      ┆ E             ┆ 1970-04-06   ┆ Rondebosch                │\n",
       "│                 ┆         ┆           ┆               ┆              ┆ Exho_1970_singles_w…      │\n",
       "└─────────────────┴─────────┴───────────┴───────────────┴──────────────┴───────────────────────────┘"
      ]
     },
     "execution_count": 36,
     "metadata": {},
     "output_type": "execute_result"
    }
   ],
   "source": [
    "tourney_single_matches_wta.filter(tourney_single_matches_wta['draw_size'] == 'exho')"
   ]
  },
  {
   "cell_type": "code",
   "execution_count": 37,
   "metadata": {},
   "outputs": [
    {
     "data": {
      "text/html": [
       "<div><style>\n",
       ".dataframe > thead > tr,\n",
       ".dataframe > tbody > tr {\n",
       "  text-align: right;\n",
       "  white-space: pre-wrap;\n",
       "}\n",
       "</style>\n",
       "<small>shape: (0, 6)</small><table border=\"1\" class=\"dataframe\"><thead><tr><th>tourney_name</th><th>surface</th><th>draw_size</th><th>tourney_level</th><th>tourney_date</th><th>tourney_name_date_matches</th></tr><tr><td>str</td><td>str</td><td>str</td><td>str</td><td>date</td><td>str</td></tr></thead><tbody></tbody></table></div>"
      ],
      "text/plain": [
       "shape: (0, 6)\n",
       "┌──────────────┬─────────┬───────────┬───────────────┬──────────────┬───────────────────────────┐\n",
       "│ tourney_name ┆ surface ┆ draw_size ┆ tourney_level ┆ tourney_date ┆ tourney_name_date_matches │\n",
       "│ ---          ┆ ---     ┆ ---       ┆ ---           ┆ ---          ┆ ---                       │\n",
       "│ str          ┆ str     ┆ str       ┆ str           ┆ date         ┆ str                       │\n",
       "╞══════════════╪═════════╪═══════════╪═══════════════╪══════════════╪═══════════════════════════╡\n",
       "└──────────────┴─────────┴───────────┴───────────────┴──────────────┴───────────────────────────┘"
      ]
     },
     "execution_count": 37,
     "metadata": {},
     "output_type": "execute_result"
    }
   ],
   "source": [
    "tourney_amateurs_matches_atp.filter(tourney_amateurs_matches_atp['draw_size'] == 'exho')"
   ]
  },
  {
   "cell_type": "code",
   "execution_count": 38,
   "metadata": {},
   "outputs": [
    {
     "data": {
      "text/html": [
       "<div><style>\n",
       ".dataframe > thead > tr,\n",
       ".dataframe > tbody > tr {\n",
       "  text-align: right;\n",
       "  white-space: pre-wrap;\n",
       "}\n",
       "</style>\n",
       "<small>shape: (14, 6)</small><table border=\"1\" class=\"dataframe\"><thead><tr><th>tourney_name</th><th>surface</th><th>draw_size</th><th>tourney_level</th><th>tourney_date</th><th>tourney_name_date_matches</th></tr><tr><td>str</td><td>str</td><td>str</td><td>str</td><td>date</td><td>str</td></tr></thead><tbody><tr><td>&quot;US Open&quot;</td><td>&quot;Grass&quot;</td><td>&quot;R&quot;</td><td>&quot;G&quot;</td><td>1891-08-18</td><td>&quot;US Open_1891_amatures_atp&quot;</td></tr><tr><td>&quot;US Open&quot;</td><td>&quot;Grass&quot;</td><td>&quot;R&quot;</td><td>&quot;G&quot;</td><td>1909-08-01</td><td>&quot;US Open_1909_amatures_atp&quot;</td></tr><tr><td>&quot;Australian Open&quot;</td><td>&quot;Grass&quot;</td><td>&quot;R&quot;</td><td>&quot;G&quot;</td><td>1932-02-06</td><td>&quot;Australian Open_1932_amatures_…</td></tr><tr><td>&quot;US Open&quot;</td><td>&quot;Grass&quot;</td><td>&quot;R&quot;</td><td>&quot;G&quot;</td><td>1911-08-01</td><td>&quot;US Open_1911_amatures_atp&quot;</td></tr><tr><td>&quot;US Open&quot;</td><td>&quot;Grass&quot;</td><td>&quot;R&quot;</td><td>&quot;G&quot;</td><td>1914-08-01</td><td>&quot;US Open_1914_amatures_atp&quot;</td></tr><tr><td>&hellip;</td><td>&hellip;</td><td>&hellip;</td><td>&hellip;</td><td>&hellip;</td><td>&hellip;</td></tr><tr><td>&quot;Wimbledon&quot;</td><td>&quot;Grass&quot;</td><td>&quot;R&quot;</td><td>&quot;G&quot;</td><td>1923-06-25</td><td>&quot;Wimbledon_1923_amatures_atp&quot;</td></tr><tr><td>&quot;US Open&quot;</td><td>&quot;Grass&quot;</td><td>&quot;R&quot;</td><td>&quot;G&quot;</td><td>1888-08-20</td><td>&quot;US Open_1888_amatures_atp&quot;</td></tr><tr><td>&quot;Australian Open&quot;</td><td>&quot;Grass&quot;</td><td>&quot;R&quot;</td><td>&quot;G&quot;</td><td>1933-01-21</td><td>&quot;Australian Open_1933_amatures_…</td></tr><tr><td>&quot;US Open&quot;</td><td>&quot;Grass&quot;</td><td>&quot;R&quot;</td><td>&quot;G&quot;</td><td>1908-08-01</td><td>&quot;US Open_1908_amatures_atp&quot;</td></tr><tr><td>&quot;US Open&quot;</td><td>&quot;Grass&quot;</td><td>&quot;R&quot;</td><td>&quot;G&quot;</td><td>1912-08-01</td><td>&quot;US Open_1912_amatures_atp&quot;</td></tr></tbody></table></div>"
      ],
      "text/plain": [
       "shape: (14, 6)\n",
       "┌─────────────────┬─────────┬───────────┬───────────────┬──────────────┬───────────────────────────┐\n",
       "│ tourney_name    ┆ surface ┆ draw_size ┆ tourney_level ┆ tourney_date ┆ tourney_name_date_matches │\n",
       "│ ---             ┆ ---     ┆ ---       ┆ ---           ┆ ---          ┆ ---                       │\n",
       "│ str             ┆ str     ┆ str       ┆ str           ┆ date         ┆ str                       │\n",
       "╞═════════════════╪═════════╪═══════════╪═══════════════╪══════════════╪═══════════════════════════╡\n",
       "│ US Open         ┆ Grass   ┆ R         ┆ G             ┆ 1891-08-18   ┆ US Open_1891_amatures_atp │\n",
       "│ US Open         ┆ Grass   ┆ R         ┆ G             ┆ 1909-08-01   ┆ US Open_1909_amatures_atp │\n",
       "│ Australian Open ┆ Grass   ┆ R         ┆ G             ┆ 1932-02-06   ┆ Australian                │\n",
       "│                 ┆         ┆           ┆               ┆              ┆ Open_1932_amatures_…      │\n",
       "│ US Open         ┆ Grass   ┆ R         ┆ G             ┆ 1911-08-01   ┆ US Open_1911_amatures_atp │\n",
       "│ US Open         ┆ Grass   ┆ R         ┆ G             ┆ 1914-08-01   ┆ US Open_1914_amatures_atp │\n",
       "│ …               ┆ …       ┆ …         ┆ …             ┆ …            ┆ …                         │\n",
       "│ Wimbledon       ┆ Grass   ┆ R         ┆ G             ┆ 1923-06-25   ┆ Wimbledon_1923_amatures_a │\n",
       "│                 ┆         ┆           ┆               ┆              ┆ tp                        │\n",
       "│ US Open         ┆ Grass   ┆ R         ┆ G             ┆ 1888-08-20   ┆ US Open_1888_amatures_atp │\n",
       "│ Australian Open ┆ Grass   ┆ R         ┆ G             ┆ 1933-01-21   ┆ Australian                │\n",
       "│                 ┆         ┆           ┆               ┆              ┆ Open_1933_amatures_…      │\n",
       "│ US Open         ┆ Grass   ┆ R         ┆ G             ┆ 1908-08-01   ┆ US Open_1908_amatures_atp │\n",
       "│ US Open         ┆ Grass   ┆ R         ┆ G             ┆ 1912-08-01   ┆ US Open_1912_amatures_atp │\n",
       "└─────────────────┴─────────┴───────────┴───────────────┴──────────────┴───────────────────────────┘"
      ]
     },
     "execution_count": 38,
     "metadata": {},
     "output_type": "execute_result"
    }
   ],
   "source": [
    "tourney_amateurs_matches_atp.filter(tourney_amateurs_matches_atp['draw_size'] == 'R')"
   ]
  },
  {
   "cell_type": "code",
   "execution_count": 39,
   "metadata": {},
   "outputs": [
    {
     "data": {
      "text/html": [
       "<div><style>\n",
       ".dataframe > thead > tr,\n",
       ".dataframe > tbody > tr {\n",
       "  text-align: right;\n",
       "  white-space: pre-wrap;\n",
       "}\n",
       "</style>\n",
       "<small>shape: (1, 6)</small><table border=\"1\" class=\"dataframe\"><thead><tr><th>tourney_name</th><th>surface</th><th>draw_size</th><th>tourney_level</th><th>tourney_date</th><th>tourney_name_date_matches</th></tr><tr><td>u32</td><td>u32</td><td>u32</td><td>u32</td><td>u32</td><td>u32</td></tr></thead><tbody><tr><td>14</td><td>14</td><td>14</td><td>14</td><td>14</td><td>14</td></tr></tbody></table></div>"
      ],
      "text/plain": [
       "shape: (1, 6)\n",
       "┌──────────────┬─────────┬───────────┬───────────────┬──────────────┬───────────────────────────┐\n",
       "│ tourney_name ┆ surface ┆ draw_size ┆ tourney_level ┆ tourney_date ┆ tourney_name_date_matches │\n",
       "│ ---          ┆ ---     ┆ ---       ┆ ---           ┆ ---          ┆ ---                       │\n",
       "│ u32          ┆ u32     ┆ u32       ┆ u32           ┆ u32          ┆ u32                       │\n",
       "╞══════════════╪═════════╪═══════════╪═══════════════╪══════════════╪═══════════════════════════╡\n",
       "│ 14           ┆ 14      ┆ 14        ┆ 14            ┆ 14           ┆ 14                        │\n",
       "└──────────────┴─────────┴───────────┴───────────────┴──────────────┴───────────────────────────┘"
      ]
     },
     "execution_count": 39,
     "metadata": {},
     "output_type": "execute_result"
    }
   ],
   "source": [
    "tourney_amateurs_matches_atp.filter(tourney_amateurs_matches_atp['draw_size'] == 'R').count()"
   ]
  },
  {
   "cell_type": "code",
   "execution_count": 40,
   "metadata": {},
   "outputs": [
    {
     "data": {
      "text/plain": [
       "<bound method DataFrame.describe of shape: (8_316, 6)\n",
       "┌──────────────────────┬─────────┬───────────┬───────────────┬──────────────┬──────────────────────┐\n",
       "│ tourney_name         ┆ surface ┆ draw_size ┆ tourney_level ┆ tourney_date ┆ tourney_name_date_ma │\n",
       "│ ---                  ┆ ---     ┆ ---       ┆ ---           ┆ ---          ┆ tches                │\n",
       "│ str                  ┆ str     ┆ i64       ┆ str           ┆ date         ┆ ---                  │\n",
       "│                      ┆         ┆           ┆               ┆              ┆ str                  │\n",
       "╞══════════════════════╪═════════╪═══════════╪═══════════════╪══════════════╪══════════════════════╡\n",
       "│ Davis Cup EUR QF:    ┆ Hard    ┆ 4         ┆ D             ┆ 1985-06-14   ┆ Davis Cup EUR QF:    │\n",
       "│ ISR vs NED           ┆         ┆           ┆               ┆              ┆ ISR vs NED_1…        │\n",
       "│ Mamaia               ┆ null    ┆ null      ┆ A             ┆ 1968-09-08   ┆ Mamaia_1968_singles_ │\n",
       "│                      ┆         ┆           ┆               ┆              ┆ atp                  │\n",
       "│ Davis Cup G2 R1: KUW ┆ Hard    ┆ 4         ┆ D             ┆ 2013-02-01   ┆ Davis Cup G2 R1: KUW │\n",
       "│ vs THA               ┆         ┆           ┆               ┆              ┆ vs THA_20…           │\n",
       "│ Lyon                 ┆ Carpet  ┆ 48        ┆ A             ┆ 1999-10-18   ┆ Lyon_1999_singles_at │\n",
       "│                      ┆         ┆           ┆               ┆              ┆ p                    │\n",
       "│ Davis Cup WG R1: IND ┆ Grass   ┆ 4         ┆ D             ┆ 1996-02-09   ┆ Davis Cup WG R1: IND │\n",
       "│ vs NED               ┆         ┆           ┆               ┆              ┆ vs NED_19…           │\n",
       "│ …                    ┆ …       ┆ …         ┆ …             ┆ …            ┆ …                    │\n",
       "│ Davis Cup G1 R1: CAN ┆ Hard    ┆ 4         ┆ D             ┆ 2009-03-06   ┆ Davis Cup G1 R1: CAN │\n",
       "│ vs ECU               ┆         ┆           ┆               ┆              ┆ vs ECU_20…           │\n",
       "│ Paris Masters        ┆ Hard    ┆ 48        ┆ M             ┆ 2011-11-07   ┆ Paris Masters_2011_s │\n",
       "│                      ┆         ┆           ┆               ┆              ┆ ingles_atp           │\n",
       "│ Dallas               ┆ Carpet  ┆ 16        ┆ A             ┆ 1986-04-07   ┆ Dallas_1986_singles_ │\n",
       "│                      ┆         ┆           ┆               ┆              ┆ atp                  │\n",
       "│ Forest Hills WCT     ┆ Clay    ┆ 64        ┆ A             ┆ 1984-05-06   ┆ Forest Hills         │\n",
       "│                      ┆         ┆           ┆               ┆              ┆ WCT_1984_singles_…   │\n",
       "│ Davis Cup G1 SF: THA ┆ Hard    ┆ 4         ┆ D             ┆ 2002-04-05   ┆ Davis Cup G1 SF: THA │\n",
       "│ vs JPN               ┆         ┆           ┆               ┆              ┆ vs JPN_20…           │\n",
       "└──────────────────────┴─────────┴───────────┴───────────────┴──────────────┴──────────────────────┘>"
      ]
     },
     "execution_count": 40,
     "metadata": {},
     "output_type": "execute_result"
    }
   ],
   "source": [
    "tourney_single_matches_atp.describe"
   ]
  },
  {
   "cell_type": "code",
   "execution_count": 41,
   "metadata": {},
   "outputs": [
    {
     "data": {
      "text/html": [
       "<div><style>\n",
       ".dataframe > thead > tr,\n",
       ".dataframe > tbody > tr {\n",
       "  text-align: right;\n",
       "  white-space: pre-wrap;\n",
       "}\n",
       "</style>\n",
       "<small>shape: (54_382, 6)</small><table border=\"1\" class=\"dataframe\"><thead><tr><th>tourney_name</th><th>surface</th><th>draw_size</th><th>tourney_level</th><th>tourney_date</th><th>tourney_name_date_matches</th></tr><tr><td>str</td><td>str</td><td>str</td><td>str</td><td>date</td><td>str</td></tr></thead><tbody><tr><td>&quot;Davis Cup EUR QF: ISR vs NED&quot;</td><td>&quot;Hard&quot;</td><td>&quot;4&quot;</td><td>&quot;D&quot;</td><td>1985-06-14</td><td>&quot;Davis Cup EUR QF: ISR vs NED_1…</td></tr><tr><td>&quot;Mamaia&quot;</td><td>null</td><td>null</td><td>&quot;A&quot;</td><td>1968-09-08</td><td>&quot;Mamaia_1968_singles_atp&quot;</td></tr><tr><td>&quot;Davis Cup G2 R1: KUW vs THA&quot;</td><td>&quot;Hard&quot;</td><td>&quot;4&quot;</td><td>&quot;D&quot;</td><td>2013-02-01</td><td>&quot;Davis Cup G2 R1: KUW vs THA_20…</td></tr><tr><td>&quot;Lyon&quot;</td><td>&quot;Carpet&quot;</td><td>&quot;48&quot;</td><td>&quot;A&quot;</td><td>1999-10-18</td><td>&quot;Lyon_1999_singles_atp&quot;</td></tr><tr><td>&quot;Davis Cup WG R1: IND vs NED&quot;</td><td>&quot;Grass&quot;</td><td>&quot;4&quot;</td><td>&quot;D&quot;</td><td>1996-02-09</td><td>&quot;Davis Cup WG R1: IND vs NED_19…</td></tr><tr><td>&hellip;</td><td>&hellip;</td><td>&hellip;</td><td>&hellip;</td><td>&hellip;</td><td>&hellip;</td></tr><tr><td>&quot;ITF Lee-On-Solent&quot;</td><td>&quot;Clay&quot;</td><td>&quot;32&quot;</td><td>&quot;C&quot;</td><td>1989-05-08</td><td>&quot;ITF Lee-On-Solent_1989_qualifi…</td></tr><tr><td>&quot;Buchen 10K&quot;</td><td>&quot;Carpet&quot;</td><td>&quot;32&quot;</td><td>&quot;10&quot;</td><td>1997-03-03</td><td>&quot;Buchen 10K_1997_qualifiers_itf&quot;</td></tr><tr><td>&quot;Rimini 50K&quot;</td><td>&quot;Clay&quot;</td><td>&quot;32&quot;</td><td>&quot;50&quot;</td><td>2004-08-02</td><td>&quot;Rimini 50K_2004_qualifiers_itf&quot;</td></tr><tr><td>&quot;Eastbourne&quot;</td><td>&quot;Grass&quot;</td><td>&quot;64&quot;</td><td>&quot;W&quot;</td><td>1980-06-16</td><td>&quot;Eastbourne_1980_qualifiers_itf&quot;</td></tr><tr><td>&quot;ITF Bethesda&quot;</td><td>&quot;Hard&quot;</td><td>null</td><td>&quot;C&quot;</td><td>1987-09-28</td><td>&quot;ITF Bethesda_1987_qualifiers_i…</td></tr></tbody></table></div>"
      ],
      "text/plain": [
       "shape: (54_382, 6)\n",
       "┌──────────────────────┬─────────┬───────────┬───────────────┬──────────────┬──────────────────────┐\n",
       "│ tourney_name         ┆ surface ┆ draw_size ┆ tourney_level ┆ tourney_date ┆ tourney_name_date_ma │\n",
       "│ ---                  ┆ ---     ┆ ---       ┆ ---           ┆ ---          ┆ tches                │\n",
       "│ str                  ┆ str     ┆ str       ┆ str           ┆ date         ┆ ---                  │\n",
       "│                      ┆         ┆           ┆               ┆              ┆ str                  │\n",
       "╞══════════════════════╪═════════╪═══════════╪═══════════════╪══════════════╪══════════════════════╡\n",
       "│ Davis Cup EUR QF:    ┆ Hard    ┆ 4         ┆ D             ┆ 1985-06-14   ┆ Davis Cup EUR QF:    │\n",
       "│ ISR vs NED           ┆         ┆           ┆               ┆              ┆ ISR vs NED_1…        │\n",
       "│ Mamaia               ┆ null    ┆ null      ┆ A             ┆ 1968-09-08   ┆ Mamaia_1968_singles_ │\n",
       "│                      ┆         ┆           ┆               ┆              ┆ atp                  │\n",
       "│ Davis Cup G2 R1: KUW ┆ Hard    ┆ 4         ┆ D             ┆ 2013-02-01   ┆ Davis Cup G2 R1: KUW │\n",
       "│ vs THA               ┆         ┆           ┆               ┆              ┆ vs THA_20…           │\n",
       "│ Lyon                 ┆ Carpet  ┆ 48        ┆ A             ┆ 1999-10-18   ┆ Lyon_1999_singles_at │\n",
       "│                      ┆         ┆           ┆               ┆              ┆ p                    │\n",
       "│ Davis Cup WG R1: IND ┆ Grass   ┆ 4         ┆ D             ┆ 1996-02-09   ┆ Davis Cup WG R1: IND │\n",
       "│ vs NED               ┆         ┆           ┆               ┆              ┆ vs NED_19…           │\n",
       "│ …                    ┆ …       ┆ …         ┆ …             ┆ …            ┆ …                    │\n",
       "│ ITF Lee-On-Solent    ┆ Clay    ┆ 32        ┆ C             ┆ 1989-05-08   ┆ ITF Lee-On-Solent_19 │\n",
       "│                      ┆         ┆           ┆               ┆              ┆ 89_qualifi…          │\n",
       "│ Buchen 10K           ┆ Carpet  ┆ 32        ┆ 10            ┆ 1997-03-03   ┆ Buchen 10K_1997_qual │\n",
       "│                      ┆         ┆           ┆               ┆              ┆ ifiers_itf           │\n",
       "│ Rimini 50K           ┆ Clay    ┆ 32        ┆ 50            ┆ 2004-08-02   ┆ Rimini 50K_2004_qual │\n",
       "│                      ┆         ┆           ┆               ┆              ┆ ifiers_itf           │\n",
       "│ Eastbourne           ┆ Grass   ┆ 64        ┆ W             ┆ 1980-06-16   ┆ Eastbourne_1980_qual │\n",
       "│                      ┆         ┆           ┆               ┆              ┆ ifiers_itf           │\n",
       "│ ITF Bethesda         ┆ Hard    ┆ null      ┆ C             ┆ 1987-09-28   ┆ ITF Bethesda_1987_qu │\n",
       "│                      ┆         ┆           ┆               ┆              ┆ alifiers_i…          │\n",
       "└──────────────────────┴─────────┴───────────┴───────────────┴──────────────┴──────────────────────┘"
      ]
     },
     "execution_count": 41,
     "metadata": {},
     "output_type": "execute_result"
    }
   ],
   "source": [
    "tourney_single_matches_atp = tourney_single_matches_atp.with_columns(\n",
    "    pl.col(\"draw_size\").cast(pl.Utf8).alias(\"draw_size\")\n",
    ")\n",
    "\n",
    "tourney_single_matches_wta = tourney_single_matches_wta.with_columns(\n",
    "    pl.col(\"draw_size\").cast(pl.Utf8).alias(\"draw_size\")\n",
    ")\n",
    "\n",
    "tourney_amateurs_matches_atp = tourney_amateurs_matches_atp.with_columns(\n",
    "    pl.col(\"draw_size\").cast(pl.Utf8).alias(\"draw_size\")\n",
    ")\n",
    "\n",
    "tourney_doubles_matches_atp = tourney_doubles_matches_atp.with_columns(\n",
    "    pl.col(\"draw_size\").cast(pl.Utf8).alias(\"draw_size\")\n",
    ")\n",
    "\n",
    "tourney_futures = tourney_futures.with_columns(\n",
    "    pl.col(\"draw_size\").cast(pl.Utf8).alias(\"draw_size\")\n",
    ")\n",
    "\n",
    "tourney_qualifiers_challengers = tourney_qualifiers_challengers.with_columns(\n",
    "    pl.col(\"draw_size\").cast(pl.Utf8).alias(\"draw_size\")\n",
    ")\n",
    "\n",
    "tourney_qualifiers_itf = tourney_qualifiers_itf.with_columns(\n",
    "    pl.col(\"draw_size\").cast(pl.Utf8).alias(\"draw_size\")\n",
    ")\n",
    "\n",
    "total_tourney = pl.concat([\n",
    "    tourney_single_matches_atp,\n",
    "    tourney_single_matches_wta,\n",
    "    tourney_amateurs_matches_atp,\n",
    "    tourney_doubles_matches_atp,\n",
    "    tourney_futures,\n",
    "    tourney_qualifiers_challengers,\n",
    "    tourney_qualifiers_itf\n",
    "], how=\"vertical\")\n",
    "\n",
    "total_tourney\n"
   ]
  },
  {
   "cell_type": "code",
   "execution_count": 42,
   "metadata": {},
   "outputs": [
    {
     "data": {
      "text/html": [
       "<div>\n",
       "<style scoped>\n",
       "    .dataframe tbody tr th:only-of-type {\n",
       "        vertical-align: middle;\n",
       "    }\n",
       "\n",
       "    .dataframe tbody tr th {\n",
       "        vertical-align: top;\n",
       "    }\n",
       "\n",
       "    .dataframe thead th {\n",
       "        text-align: right;\n",
       "    }\n",
       "</style>\n",
       "<table border=\"1\" class=\"dataframe\">\n",
       "  <thead>\n",
       "    <tr style=\"text-align: right;\">\n",
       "      <th></th>\n",
       "      <th>date</th>\n",
       "      <th>year</th>\n",
       "      <th>month</th>\n",
       "      <th>day</th>\n",
       "      <th>quarter</th>\n",
       "      <th>month_name</th>\n",
       "      <th>day_name</th>\n",
       "      <th>week_of_year</th>\n",
       "      <th>is_weekend</th>\n",
       "      <th>is_month_end</th>\n",
       "      <th>is_month_start</th>\n",
       "      <th>is_quarter_end</th>\n",
       "      <th>is_quarter_start</th>\n",
       "      <th>is_year_end</th>\n",
       "      <th>is_year_start</th>\n",
       "    </tr>\n",
       "  </thead>\n",
       "  <tbody>\n",
       "    <tr>\n",
       "      <th>1968-01-01</th>\n",
       "      <td>1968-01-01</td>\n",
       "      <td>1968</td>\n",
       "      <td>1</td>\n",
       "      <td>1</td>\n",
       "      <td>1</td>\n",
       "      <td>January</td>\n",
       "      <td>Monday</td>\n",
       "      <td>1</td>\n",
       "      <td>False</td>\n",
       "      <td>False</td>\n",
       "      <td>True</td>\n",
       "      <td>False</td>\n",
       "      <td>True</td>\n",
       "      <td>False</td>\n",
       "      <td>True</td>\n",
       "    </tr>\n",
       "    <tr>\n",
       "      <th>1968-01-02</th>\n",
       "      <td>1968-01-02</td>\n",
       "      <td>1968</td>\n",
       "      <td>1</td>\n",
       "      <td>2</td>\n",
       "      <td>1</td>\n",
       "      <td>January</td>\n",
       "      <td>Tuesday</td>\n",
       "      <td>1</td>\n",
       "      <td>False</td>\n",
       "      <td>False</td>\n",
       "      <td>False</td>\n",
       "      <td>False</td>\n",
       "      <td>False</td>\n",
       "      <td>False</td>\n",
       "      <td>False</td>\n",
       "    </tr>\n",
       "    <tr>\n",
       "      <th>1968-01-03</th>\n",
       "      <td>1968-01-03</td>\n",
       "      <td>1968</td>\n",
       "      <td>1</td>\n",
       "      <td>3</td>\n",
       "      <td>1</td>\n",
       "      <td>January</td>\n",
       "      <td>Wednesday</td>\n",
       "      <td>1</td>\n",
       "      <td>False</td>\n",
       "      <td>False</td>\n",
       "      <td>False</td>\n",
       "      <td>False</td>\n",
       "      <td>False</td>\n",
       "      <td>False</td>\n",
       "      <td>False</td>\n",
       "    </tr>\n",
       "    <tr>\n",
       "      <th>1968-01-04</th>\n",
       "      <td>1968-01-04</td>\n",
       "      <td>1968</td>\n",
       "      <td>1</td>\n",
       "      <td>4</td>\n",
       "      <td>1</td>\n",
       "      <td>January</td>\n",
       "      <td>Thursday</td>\n",
       "      <td>1</td>\n",
       "      <td>False</td>\n",
       "      <td>False</td>\n",
       "      <td>False</td>\n",
       "      <td>False</td>\n",
       "      <td>False</td>\n",
       "      <td>False</td>\n",
       "      <td>False</td>\n",
       "    </tr>\n",
       "    <tr>\n",
       "      <th>1968-01-05</th>\n",
       "      <td>1968-01-05</td>\n",
       "      <td>1968</td>\n",
       "      <td>1</td>\n",
       "      <td>5</td>\n",
       "      <td>1</td>\n",
       "      <td>January</td>\n",
       "      <td>Friday</td>\n",
       "      <td>1</td>\n",
       "      <td>False</td>\n",
       "      <td>False</td>\n",
       "      <td>False</td>\n",
       "      <td>False</td>\n",
       "      <td>False</td>\n",
       "      <td>False</td>\n",
       "      <td>False</td>\n",
       "    </tr>\n",
       "    <tr>\n",
       "      <th>...</th>\n",
       "      <td>...</td>\n",
       "      <td>...</td>\n",
       "      <td>...</td>\n",
       "      <td>...</td>\n",
       "      <td>...</td>\n",
       "      <td>...</td>\n",
       "      <td>...</td>\n",
       "      <td>...</td>\n",
       "      <td>...</td>\n",
       "      <td>...</td>\n",
       "      <td>...</td>\n",
       "      <td>...</td>\n",
       "      <td>...</td>\n",
       "      <td>...</td>\n",
       "      <td>...</td>\n",
       "    </tr>\n",
       "    <tr>\n",
       "      <th>2025-12-27</th>\n",
       "      <td>2025-12-27</td>\n",
       "      <td>2025</td>\n",
       "      <td>12</td>\n",
       "      <td>27</td>\n",
       "      <td>4</td>\n",
       "      <td>December</td>\n",
       "      <td>Saturday</td>\n",
       "      <td>52</td>\n",
       "      <td>True</td>\n",
       "      <td>False</td>\n",
       "      <td>False</td>\n",
       "      <td>False</td>\n",
       "      <td>False</td>\n",
       "      <td>False</td>\n",
       "      <td>False</td>\n",
       "    </tr>\n",
       "    <tr>\n",
       "      <th>2025-12-28</th>\n",
       "      <td>2025-12-28</td>\n",
       "      <td>2025</td>\n",
       "      <td>12</td>\n",
       "      <td>28</td>\n",
       "      <td>4</td>\n",
       "      <td>December</td>\n",
       "      <td>Sunday</td>\n",
       "      <td>52</td>\n",
       "      <td>True</td>\n",
       "      <td>False</td>\n",
       "      <td>False</td>\n",
       "      <td>False</td>\n",
       "      <td>False</td>\n",
       "      <td>False</td>\n",
       "      <td>False</td>\n",
       "    </tr>\n",
       "    <tr>\n",
       "      <th>2025-12-29</th>\n",
       "      <td>2025-12-29</td>\n",
       "      <td>2025</td>\n",
       "      <td>12</td>\n",
       "      <td>29</td>\n",
       "      <td>4</td>\n",
       "      <td>December</td>\n",
       "      <td>Monday</td>\n",
       "      <td>1</td>\n",
       "      <td>False</td>\n",
       "      <td>False</td>\n",
       "      <td>False</td>\n",
       "      <td>False</td>\n",
       "      <td>False</td>\n",
       "      <td>False</td>\n",
       "      <td>False</td>\n",
       "    </tr>\n",
       "    <tr>\n",
       "      <th>2025-12-30</th>\n",
       "      <td>2025-12-30</td>\n",
       "      <td>2025</td>\n",
       "      <td>12</td>\n",
       "      <td>30</td>\n",
       "      <td>4</td>\n",
       "      <td>December</td>\n",
       "      <td>Tuesday</td>\n",
       "      <td>1</td>\n",
       "      <td>False</td>\n",
       "      <td>False</td>\n",
       "      <td>False</td>\n",
       "      <td>False</td>\n",
       "      <td>False</td>\n",
       "      <td>False</td>\n",
       "      <td>False</td>\n",
       "    </tr>\n",
       "    <tr>\n",
       "      <th>2025-12-31</th>\n",
       "      <td>2025-12-31</td>\n",
       "      <td>2025</td>\n",
       "      <td>12</td>\n",
       "      <td>31</td>\n",
       "      <td>4</td>\n",
       "      <td>December</td>\n",
       "      <td>Wednesday</td>\n",
       "      <td>1</td>\n",
       "      <td>False</td>\n",
       "      <td>True</td>\n",
       "      <td>False</td>\n",
       "      <td>True</td>\n",
       "      <td>False</td>\n",
       "      <td>True</td>\n",
       "      <td>False</td>\n",
       "    </tr>\n",
       "  </tbody>\n",
       "</table>\n",
       "<p>21185 rows × 15 columns</p>\n",
       "</div>"
      ],
      "text/plain": [
       "                 date  year  month  day  quarter month_name   day_name  \\\n",
       "1968-01-01 1968-01-01  1968      1    1        1    January     Monday   \n",
       "1968-01-02 1968-01-02  1968      1    2        1    January    Tuesday   \n",
       "1968-01-03 1968-01-03  1968      1    3        1    January  Wednesday   \n",
       "1968-01-04 1968-01-04  1968      1    4        1    January   Thursday   \n",
       "1968-01-05 1968-01-05  1968      1    5        1    January     Friday   \n",
       "...               ...   ...    ...  ...      ...        ...        ...   \n",
       "2025-12-27 2025-12-27  2025     12   27        4   December   Saturday   \n",
       "2025-12-28 2025-12-28  2025     12   28        4   December     Sunday   \n",
       "2025-12-29 2025-12-29  2025     12   29        4   December     Monday   \n",
       "2025-12-30 2025-12-30  2025     12   30        4   December    Tuesday   \n",
       "2025-12-31 2025-12-31  2025     12   31        4   December  Wednesday   \n",
       "\n",
       "            week_of_year  is_weekend  is_month_end  is_month_start  \\\n",
       "1968-01-01             1       False         False            True   \n",
       "1968-01-02             1       False         False           False   \n",
       "1968-01-03             1       False         False           False   \n",
       "1968-01-04             1       False         False           False   \n",
       "1968-01-05             1       False         False           False   \n",
       "...                  ...         ...           ...             ...   \n",
       "2025-12-27            52        True         False           False   \n",
       "2025-12-28            52        True         False           False   \n",
       "2025-12-29             1       False         False           False   \n",
       "2025-12-30             1       False         False           False   \n",
       "2025-12-31             1       False          True           False   \n",
       "\n",
       "            is_quarter_end  is_quarter_start  is_year_end  is_year_start  \n",
       "1968-01-01           False              True        False           True  \n",
       "1968-01-02           False             False        False          False  \n",
       "1968-01-03           False             False        False          False  \n",
       "1968-01-04           False             False        False          False  \n",
       "1968-01-05           False             False        False          False  \n",
       "...                    ...               ...          ...            ...  \n",
       "2025-12-27           False             False        False          False  \n",
       "2025-12-28           False             False        False          False  \n",
       "2025-12-29           False             False        False          False  \n",
       "2025-12-30           False             False        False          False  \n",
       "2025-12-31            True             False         True          False  \n",
       "\n",
       "[21185 rows x 15 columns]"
      ]
     },
     "execution_count": 42,
     "metadata": {},
     "output_type": "execute_result"
    }
   ],
   "source": [
    "import pandas as pd\n",
    "from datetime import datetime, timedelta\n",
    "\n",
    "def create_temporal_table(start_year=1968, end_year=2025):\n",
    "    # Create date range\n",
    "    start_date = f'{start_year}-01-01'\n",
    "    end_date = f'{end_year}-12-31'\n",
    "\n",
    "\n",
    "    dates = pd.date_range(start=start_date, end=end_date, freq='D')\n",
    "\n",
    "\n",
    "    df = pd.DataFrame({\n",
    "        'date': dates,\n",
    "        'year': dates.year,\n",
    "        'month': dates.month,\n",
    "        'day': dates.day,\n",
    "        'quarter': dates.quarter,\n",
    "        'month_name': dates.strftime('%B'),\n",
    "        'day_name': dates.strftime('%A'),\n",
    "        'week_of_year': dates.isocalendar().week,\n",
    "        'is_weekend': dates.weekday.isin([5, 6]),\n",
    "        'is_month_end': dates.is_month_end,\n",
    "        'is_month_start': dates.is_month_start,\n",
    "        'is_quarter_end': dates.is_quarter_end,\n",
    "        'is_quarter_start': dates.is_quarter_start,\n",
    "        'is_year_end': dates.is_year_end,\n",
    "        'is_year_start': dates.is_year_start\n",
    "    })\n",
    "\n",
    "    return df\n",
    "\n",
    "\n",
    "temporal_table = create_temporal_table()\n",
    "\n",
    "temporal_table"
   ]
  },
  {
   "cell_type": "code",
   "execution_count": 204,
   "metadata": {},
   "outputs": [],
   "source": [
    "# matches_amateurs_atp.write_excel('matches_amateurs_atp.xlsx')\n",
    "# matches_doubles_atp.write_excel('matches_doubles_atp.xlsx')\n",
    "# matches_futures.write_excel('matches_futures.xlsx')\n",
    "# matches_qualifiers_challengers.write_excel('matches_qualifiers_challengers.xlsx')\n",
    "# matches_qualifiers_itf.write_excel('matches_qualifiers_itf.xlsx')\n",
    "# matches_singles_atp.write_excel('matches_singles_atp.xlsx')\n",
    "# matches_singles_wta.write_excel('matches_singles_wta.xlsx')\n",
    "# players_atp.write_excel('players_atp.xlsx')\n",
    "# players_wta.write_excel('players_wta.xlsx')\n",
    "total_tourney.write_parquet('total_tourney.parquet')\n",
    "# temporal_table.to_excel('temporal_table.xlsx')"
   ]
  },
  {
   "cell_type": "code",
   "execution_count": 44,
   "metadata": {},
   "outputs": [
    {
     "data": {
      "text/html": [
       "<div><style>\n",
       ".dataframe > thead > tr,\n",
       ".dataframe > tbody > tr {\n",
       "  text-align: right;\n",
       "  white-space: pre-wrap;\n",
       "}\n",
       "</style>\n",
       "<small>shape: (3_235_639, 4)</small><table border=\"1\" class=\"dataframe\"><thead><tr><th>ranking_date</th><th>rank</th><th>player</th><th>points</th></tr><tr><td>date</td><td>i64</td><td>str</td><td>i64</td></tr></thead><tbody><tr><td>1973-08-27</td><td>129</td><td>&quot;100005&quot;</td><td>null</td></tr><tr><td>1973-08-27</td><td>114</td><td>&quot;100011&quot;</td><td>null</td></tr><tr><td>1973-08-27</td><td>6</td><td>&quot;100016&quot;</td><td>null</td></tr><tr><td>1973-08-27</td><td>19</td><td>&quot;100022&quot;</td><td>null</td></tr><tr><td>1973-08-27</td><td>82</td><td>&quot;100025&quot;</td><td>null</td></tr><tr><td>&hellip;</td><td>&hellip;</td><td>&hellip;</td><td>&hellip;</td></tr><tr><td>2024-05-27</td><td>2070</td><td>&quot;211388&quot;</td><td>1</td></tr><tr><td>2024-05-27</td><td>2071</td><td>&quot;210649&quot;</td><td>1</td></tr><tr><td>2024-05-27</td><td>2071</td><td>&quot;208890&quot;</td><td>1</td></tr><tr><td>2024-05-27</td><td>2073</td><td>&quot;202079&quot;</td><td>1</td></tr><tr><td>2024-05-27</td><td>2073</td><td>&quot;207982&quot;</td><td>1</td></tr></tbody></table></div>"
      ],
      "text/plain": [
       "shape: (3_235_639, 4)\n",
       "┌──────────────┬──────┬────────┬────────┐\n",
       "│ ranking_date ┆ rank ┆ player ┆ points │\n",
       "│ ---          ┆ ---  ┆ ---    ┆ ---    │\n",
       "│ date         ┆ i64  ┆ str    ┆ i64    │\n",
       "╞══════════════╪══════╪════════╪════════╡\n",
       "│ 1973-08-27   ┆ 129  ┆ 100005 ┆ null   │\n",
       "│ 1973-08-27   ┆ 114  ┆ 100011 ┆ null   │\n",
       "│ 1973-08-27   ┆ 6    ┆ 100016 ┆ null   │\n",
       "│ 1973-08-27   ┆ 19   ┆ 100022 ┆ null   │\n",
       "│ 1973-08-27   ┆ 82   ┆ 100025 ┆ null   │\n",
       "│ …            ┆ …    ┆ …      ┆ …      │\n",
       "│ 2024-05-27   ┆ 2070 ┆ 211388 ┆ 1      │\n",
       "│ 2024-05-27   ┆ 2071 ┆ 210649 ┆ 1      │\n",
       "│ 2024-05-27   ┆ 2071 ┆ 208890 ┆ 1      │\n",
       "│ 2024-05-27   ┆ 2073 ┆ 202079 ┆ 1      │\n",
       "│ 2024-05-27   ┆ 2073 ┆ 207982 ┆ 1      │\n",
       "└──────────────┴──────┴────────┴────────┘"
      ]
     },
     "execution_count": 44,
     "metadata": {},
     "output_type": "execute_result"
    }
   ],
   "source": [
    "rankings_atp=import_rankings(gender=\"atp\")\n",
    "rankings_atp"
   ]
  },
  {
   "cell_type": "code",
   "execution_count": 45,
   "metadata": {},
   "outputs": [
    {
     "data": {
      "text/html": [
       "<div><style>\n",
       ".dataframe > thead > tr,\n",
       ".dataframe > tbody > tr {\n",
       "  text-align: right;\n",
       "  white-space: pre-wrap;\n",
       "}\n",
       "</style>\n",
       "<small>shape: (1_999_503, 5)</small><table border=\"1\" class=\"dataframe\"><thead><tr><th>ranking_date</th><th>rank</th><th>player</th><th>points</th><th>tours</th></tr><tr><td>date</td><td>i64</td><td>str</td><td>i64</td><td>i64</td></tr></thead><tbody><tr><td>1984-01-02</td><td>1</td><td>&quot;200293&quot;</td><td>null</td><td>null</td></tr><tr><td>1984-01-02</td><td>2</td><td>&quot;200259&quot;</td><td>null</td><td>null</td></tr><tr><td>1984-01-02</td><td>3</td><td>&quot;200381&quot;</td><td>null</td><td>null</td></tr><tr><td>1984-01-02</td><td>4</td><td>&quot;200397&quot;</td><td>null</td><td>null</td></tr><tr><td>1984-01-02</td><td>5</td><td>&quot;200360&quot;</td><td>null</td><td>null</td></tr><tr><td>&hellip;</td><td>&hellip;</td><td>&hellip;</td><td>&hellip;</td><td>&hellip;</td></tr><tr><td>2024-05-27</td><td>996</td><td>&quot;215440&quot;</td><td>18</td><td>7</td></tr><tr><td>2024-05-27</td><td>997</td><td>&quot;222312&quot;</td><td>18</td><td>8</td></tr><tr><td>2024-05-27</td><td>998</td><td>&quot;225854&quot;</td><td>18</td><td>8</td></tr><tr><td>2024-05-27</td><td>999</td><td>&quot;264973&quot;</td><td>18</td><td>9</td></tr><tr><td>2024-05-27</td><td>1000</td><td>&quot;261021&quot;</td><td>18</td><td>10</td></tr></tbody></table></div>"
      ],
      "text/plain": [
       "shape: (1_999_503, 5)\n",
       "┌──────────────┬──────┬────────┬────────┬───────┐\n",
       "│ ranking_date ┆ rank ┆ player ┆ points ┆ tours │\n",
       "│ ---          ┆ ---  ┆ ---    ┆ ---    ┆ ---   │\n",
       "│ date         ┆ i64  ┆ str    ┆ i64    ┆ i64   │\n",
       "╞══════════════╪══════╪════════╪════════╪═══════╡\n",
       "│ 1984-01-02   ┆ 1    ┆ 200293 ┆ null   ┆ null  │\n",
       "│ 1984-01-02   ┆ 2    ┆ 200259 ┆ null   ┆ null  │\n",
       "│ 1984-01-02   ┆ 3    ┆ 200381 ┆ null   ┆ null  │\n",
       "│ 1984-01-02   ┆ 4    ┆ 200397 ┆ null   ┆ null  │\n",
       "│ 1984-01-02   ┆ 5    ┆ 200360 ┆ null   ┆ null  │\n",
       "│ …            ┆ …    ┆ …      ┆ …      ┆ …     │\n",
       "│ 2024-05-27   ┆ 996  ┆ 215440 ┆ 18     ┆ 7     │\n",
       "│ 2024-05-27   ┆ 997  ┆ 222312 ┆ 18     ┆ 8     │\n",
       "│ 2024-05-27   ┆ 998  ┆ 225854 ┆ 18     ┆ 8     │\n",
       "│ 2024-05-27   ┆ 999  ┆ 264973 ┆ 18     ┆ 9     │\n",
       "│ 2024-05-27   ┆ 1000 ┆ 261021 ┆ 18     ┆ 10    │\n",
       "└──────────────┴──────┴────────┴────────┴───────┘"
      ]
     },
     "execution_count": 45,
     "metadata": {},
     "output_type": "execute_result"
    }
   ],
   "source": [
    "rankings_wta=import_rankings(gender=\"wta\")\n",
    "rankings_wta"
   ]
  },
  {
   "cell_type": "code",
   "execution_count": 46,
   "metadata": {},
   "outputs": [
    {
     "data": {
      "text/html": [
       "<div><style>\n",
       ".dataframe > thead > tr,\n",
       ".dataframe > tbody > tr {\n",
       "  text-align: right;\n",
       "  white-space: pre-wrap;\n",
       "}\n",
       "</style>\n",
       "<small>shape: (1, 45)</small><table border=\"1\" class=\"dataframe\"><thead><tr><th>match_num</th><th>winner_id</th><th>winner_seed</th><th>winner_entry</th><th>winner_name</th><th>winner_hand</th><th>winner_ht</th><th>winner_ioc</th><th>winner_age</th><th>loser_id</th><th>loser_seed</th><th>loser_entry</th><th>loser_name</th><th>loser_hand</th><th>loser_ht</th><th>loser_ioc</th><th>loser_age</th><th>score</th><th>best_of</th><th>round</th><th>minutes</th><th>w_ace</th><th>w_df</th><th>w_svpt</th><th>w_1stIn</th><th>w_1stWon</th><th>w_2ndWon</th><th>w_SvGms</th><th>w_bpSaved</th><th>w_bpFaced</th><th>l_ace</th><th>l_df</th><th>l_svpt</th><th>l_1stIn</th><th>l_1stWon</th><th>l_2ndWon</th><th>l_SvGms</th><th>l_bpSaved</th><th>l_bpFaced</th><th>winner_rank</th><th>winner_rank_points</th><th>loser_rank</th><th>loser_rank_points</th><th>tourney_name_date_matches</th><th>monetary_winnings</th></tr><tr><td>i64</td><td>str</td><td>str</td><td>str</td><td>str</td><td>str</td><td>i64</td><td>str</td><td>f64</td><td>str</td><td>str</td><td>str</td><td>str</td><td>str</td><td>i64</td><td>str</td><td>f64</td><td>str</td><td>i64</td><td>str</td><td>str</td><td>str</td><td>str</td><td>str</td><td>str</td><td>str</td><td>str</td><td>str</td><td>str</td><td>str</td><td>str</td><td>str</td><td>str</td><td>str</td><td>str</td><td>str</td><td>str</td><td>str</td><td>str</td><td>str</td><td>str</td><td>str</td><td>str</td><td>str</td><td>i64</td></tr></thead><tbody><tr><td>202</td><td>&quot;223881&quot;</td><td>null</td><td>null</td><td>&quot;Dianne Bridger&quot;</td><td>&quot;U&quot;</td><td>null</td><td>&quot;GBR&quot;</td><td>null</td><td>&quot;213882&quot;</td><td>null</td><td>null</td><td>&quot;Lena Reichel&quot;</td><td>&quot;U&quot;</td><td>null</td><td>&quot;AUT&quot;</td><td>-29.0</td><td>&quot;6-1 8-6&quot;</td><td>3</td><td>&quot;Q1&quot;</td><td>null</td><td>null</td><td>null</td><td>null</td><td>null</td><td>null</td><td>null</td><td>null</td><td>null</td><td>null</td><td>null</td><td>null</td><td>null</td><td>null</td><td>null</td><td>null</td><td>null</td><td>null</td><td>null</td><td>null</td><td>null</td><td>null</td><td>null</td><td>&quot;Bournemouth_1968_qualifiers_it…</td><td>null</td></tr></tbody></table></div>"
      ],
      "text/plain": [
       "shape: (1, 45)\n",
       "┌───────────┬───────────┬───────────┬───────────┬───┬───────────┬───────────┬───────────┬──────────┐\n",
       "│ match_num ┆ winner_id ┆ winner_se ┆ winner_en ┆ … ┆ loser_ran ┆ loser_ran ┆ tourney_n ┆ monetary │\n",
       "│ ---       ┆ ---       ┆ ed        ┆ try       ┆   ┆ k         ┆ k_points  ┆ ame_date_ ┆ _winning │\n",
       "│ i64       ┆ str       ┆ ---       ┆ ---       ┆   ┆ ---       ┆ ---       ┆ matches   ┆ s        │\n",
       "│           ┆           ┆ str       ┆ str       ┆   ┆ str       ┆ str       ┆ ---       ┆ ---      │\n",
       "│           ┆           ┆           ┆           ┆   ┆           ┆           ┆ str       ┆ i64      │\n",
       "╞═══════════╪═══════════╪═══════════╪═══════════╪═══╪═══════════╪═══════════╪═══════════╪══════════╡\n",
       "│ 202       ┆ 223881    ┆ null      ┆ null      ┆ … ┆ null      ┆ null      ┆ Bournemou ┆ null     │\n",
       "│           ┆           ┆           ┆           ┆   ┆           ┆           ┆ th_1968_q ┆          │\n",
       "│           ┆           ┆           ┆           ┆   ┆           ┆           ┆ ualifiers ┆          │\n",
       "│           ┆           ┆           ┆           ┆   ┆           ┆           ┆ _it…      ┆          │\n",
       "└───────────┴───────────┴───────────┴───────────┴───┴───────────┴───────────┴───────────┴──────────┘"
      ]
     },
     "execution_count": 46,
     "metadata": {},
     "output_type": "execute_result"
    }
   ],
   "source": [
    "matches_qualifiers_itf.filter(matches_qualifiers_itf['loser_age'] == '-29')"
   ]
  },
  {
   "cell_type": "code",
   "execution_count": 47,
   "metadata": {},
   "outputs": [
    {
     "data": {
      "text/html": [
       "<div><style>\n",
       ".dataframe > thead > tr,\n",
       ".dataframe > tbody > tr {\n",
       "  text-align: right;\n",
       "  white-space: pre-wrap;\n",
       "}\n",
       "</style>\n",
       "<small>shape: (1, 45)</small><table border=\"1\" class=\"dataframe\"><thead><tr><th>match_num</th><th>winner_id</th><th>winner_seed</th><th>winner_entry</th><th>winner_name</th><th>winner_hand</th><th>winner_ht</th><th>winner_ioc</th><th>winner_age</th><th>loser_id</th><th>loser_seed</th><th>loser_entry</th><th>loser_name</th><th>loser_hand</th><th>loser_ht</th><th>loser_ioc</th><th>loser_age</th><th>score</th><th>best_of</th><th>round</th><th>minutes</th><th>w_ace</th><th>w_df</th><th>w_svpt</th><th>w_1stIn</th><th>w_1stWon</th><th>w_2ndWon</th><th>w_SvGms</th><th>w_bpSaved</th><th>w_bpFaced</th><th>l_ace</th><th>l_df</th><th>l_svpt</th><th>l_1stIn</th><th>l_1stWon</th><th>l_2ndWon</th><th>l_SvGms</th><th>l_bpSaved</th><th>l_bpFaced</th><th>winner_rank</th><th>winner_rank_points</th><th>loser_rank</th><th>loser_rank_points</th><th>tourney_name_date_matches</th><th>monetary_winnings</th></tr><tr><td>i64</td><td>str</td><td>str</td><td>str</td><td>str</td><td>str</td><td>i64</td><td>str</td><td>f64</td><td>str</td><td>str</td><td>str</td><td>str</td><td>str</td><td>i64</td><td>str</td><td>f64</td><td>str</td><td>i64</td><td>str</td><td>str</td><td>str</td><td>str</td><td>str</td><td>str</td><td>str</td><td>str</td><td>str</td><td>str</td><td>str</td><td>str</td><td>str</td><td>str</td><td>str</td><td>str</td><td>str</td><td>str</td><td>str</td><td>str</td><td>str</td><td>str</td><td>str</td><td>str</td><td>str</td><td>i64</td></tr></thead><tbody><tr><td>202</td><td>&quot;200862&quot;</td><td>null</td><td>null</td><td>&quot;Valerie Ziegenfuss&quot;</td><td>&quot;R&quot;</td><td>173</td><td>&quot;USA&quot;</td><td>21.3</td><td>&quot;223077&quot;</td><td>null</td><td>null</td><td>&quot;Stephanie Johnson&quot;</td><td>&quot;U&quot;</td><td>null</td><td>&quot;USA&quot;</td><td>-1.0</td><td>&quot;6-0 6-4&quot;</td><td>3</td><td>&quot;Q1&quot;</td><td>null</td><td>null</td><td>null</td><td>null</td><td>null</td><td>null</td><td>null</td><td>null</td><td>null</td><td>null</td><td>null</td><td>null</td><td>null</td><td>null</td><td>null</td><td>null</td><td>null</td><td>null</td><td>null</td><td>null</td><td>null</td><td>null</td><td>null</td><td>&quot;Richmond_1970_qualifiers_itf&quot;</td><td>null</td></tr></tbody></table></div>"
      ],
      "text/plain": [
       "shape: (1, 45)\n",
       "┌───────────┬───────────┬───────────┬───────────┬───┬───────────┬───────────┬───────────┬──────────┐\n",
       "│ match_num ┆ winner_id ┆ winner_se ┆ winner_en ┆ … ┆ loser_ran ┆ loser_ran ┆ tourney_n ┆ monetary │\n",
       "│ ---       ┆ ---       ┆ ed        ┆ try       ┆   ┆ k         ┆ k_points  ┆ ame_date_ ┆ _winning │\n",
       "│ i64       ┆ str       ┆ ---       ┆ ---       ┆   ┆ ---       ┆ ---       ┆ matches   ┆ s        │\n",
       "│           ┆           ┆ str       ┆ str       ┆   ┆ str       ┆ str       ┆ ---       ┆ ---      │\n",
       "│           ┆           ┆           ┆           ┆   ┆           ┆           ┆ str       ┆ i64      │\n",
       "╞═══════════╪═══════════╪═══════════╪═══════════╪═══╪═══════════╪═══════════╪═══════════╪══════════╡\n",
       "│ 202       ┆ 200862    ┆ null      ┆ null      ┆ … ┆ null      ┆ null      ┆ Richmond_ ┆ null     │\n",
       "│           ┆           ┆           ┆           ┆   ┆           ┆           ┆ 1970_qual ┆          │\n",
       "│           ┆           ┆           ┆           ┆   ┆           ┆           ┆ ifiers_it ┆          │\n",
       "│           ┆           ┆           ┆           ┆   ┆           ┆           ┆ f         ┆          │\n",
       "└───────────┴───────────┴───────────┴───────────┴───┴───────────┴───────────┴───────────┴──────────┘"
      ]
     },
     "execution_count": 47,
     "metadata": {},
     "output_type": "execute_result"
    }
   ],
   "source": [
    "matches_qualifiers_itf.filter(matches_qualifiers_itf['loser_age'] == '-1')"
   ]
  },
  {
   "cell_type": "code",
   "execution_count": 48,
   "metadata": {},
   "outputs": [
    {
     "data": {
      "text/html": [
       "<div><style>\n",
       ".dataframe > thead > tr,\n",
       ".dataframe > tbody > tr {\n",
       "  text-align: right;\n",
       "  white-space: pre-wrap;\n",
       "}\n",
       "</style>\n",
       "<small>shape: (1, 9)</small><table border=\"1\" class=\"dataframe\"><thead><tr><th>player_id</th><th>name_first</th><th>name_last</th><th>hand</th><th>dob</th><th>ioc</th><th>height</th><th>wikidata_id</th><th>name_full</th></tr><tr><td>i64</td><td>str</td><td>str</td><td>str</td><td>date</td><td>str</td><td>i64</td><td>str</td><td>str</td></tr></thead><tbody><tr><td>213882</td><td>&quot;Lena&quot;</td><td>&quot;Reichel&quot;</td><td>&quot;U&quot;</td><td>1997-05-17</td><td>&quot;AUT&quot;</td><td>null</td><td>null</td><td>&quot;Lena Reichel&quot;</td></tr></tbody></table></div>"
      ],
      "text/plain": [
       "shape: (1, 9)\n",
       "┌───────────┬────────────┬───────────┬──────┬───┬─────┬────────┬─────────────┬──────────────┐\n",
       "│ player_id ┆ name_first ┆ name_last ┆ hand ┆ … ┆ ioc ┆ height ┆ wikidata_id ┆ name_full    │\n",
       "│ ---       ┆ ---        ┆ ---       ┆ ---  ┆   ┆ --- ┆ ---    ┆ ---         ┆ ---          │\n",
       "│ i64       ┆ str        ┆ str       ┆ str  ┆   ┆ str ┆ i64    ┆ str         ┆ str          │\n",
       "╞═══════════╪════════════╪═══════════╪══════╪═══╪═════╪════════╪═════════════╪══════════════╡\n",
       "│ 213882    ┆ Lena       ┆ Reichel   ┆ U    ┆ … ┆ AUT ┆ null   ┆ null        ┆ Lena Reichel │\n",
       "└───────────┴────────────┴───────────┴──────┴───┴─────┴────────┴─────────────┴──────────────┘"
      ]
     },
     "execution_count": 48,
     "metadata": {},
     "output_type": "execute_result"
    }
   ],
   "source": [
    "players_wta.filter(players_wta[\"name_full\"]==\"Lena Reichel\")"
   ]
  },
  {
   "cell_type": "code",
   "execution_count": null,
   "metadata": {},
   "outputs": [],
   "source": [
    "#fino a 14 anni sono accettabili"
   ]
  },
  {
   "cell_type": "code",
   "execution_count": 49,
   "metadata": {},
   "outputs": [
    {
     "data": {
      "text/plain": [
       "3.8"
      ]
     },
     "execution_count": 49,
     "metadata": {},
     "output_type": "execute_result"
    }
   ],
   "source": [
    "matches_qualifiers_itf['winner_age'].min()"
   ]
  },
  {
   "cell_type": "code",
   "execution_count": 199,
   "metadata": {},
   "outputs": [
    {
     "data": {
      "text/html": [
       "<div><style>\n",
       ".dataframe > thead > tr,\n",
       ".dataframe > tbody > tr {\n",
       "  text-align: right;\n",
       "  white-space: pre-wrap;\n",
       "}\n",
       "</style>\n",
       "<small>shape: (1, 45)</small><table border=\"1\" class=\"dataframe\"><thead><tr><th>match_num</th><th>winner_id</th><th>winner_seed</th><th>winner_entry</th><th>winner_name</th><th>winner_hand</th><th>winner_ht</th><th>winner_ioc</th><th>winner_age</th><th>loser_id</th><th>loser_seed</th><th>loser_entry</th><th>loser_name</th><th>loser_hand</th><th>loser_ht</th><th>loser_ioc</th><th>loser_age</th><th>score</th><th>best_of</th><th>round</th><th>minutes</th><th>w_ace</th><th>w_df</th><th>w_svpt</th><th>w_1stIn</th><th>w_1stWon</th><th>w_2ndWon</th><th>w_SvGms</th><th>w_bpSaved</th><th>w_bpFaced</th><th>l_ace</th><th>l_df</th><th>l_svpt</th><th>l_1stIn</th><th>l_1stWon</th><th>l_2ndWon</th><th>l_SvGms</th><th>l_bpSaved</th><th>l_bpFaced</th><th>winner_rank</th><th>winner_rank_points</th><th>loser_rank</th><th>loser_rank_points</th><th>tourney_name_date_matches</th><th>monetary_winnings</th></tr><tr><td>i64</td><td>str</td><td>str</td><td>str</td><td>str</td><td>str</td><td>i64</td><td>str</td><td>f64</td><td>str</td><td>str</td><td>str</td><td>str</td><td>str</td><td>i64</td><td>str</td><td>f64</td><td>str</td><td>i64</td><td>str</td><td>str</td><td>str</td><td>str</td><td>str</td><td>str</td><td>str</td><td>str</td><td>str</td><td>str</td><td>str</td><td>str</td><td>str</td><td>str</td><td>str</td><td>str</td><td>str</td><td>str</td><td>str</td><td>str</td><td>str</td><td>str</td><td>str</td><td>str</td><td>str</td><td>i64</td></tr></thead><tbody><tr><td>204</td><td>&quot;223659&quot;</td><td>null</td><td>null</td><td>&quot;Heather Allen&quot;</td><td>&quot;U&quot;</td><td>null</td><td>&quot;GBR&quot;</td><td>3.8</td><td>&quot;224029&quot;</td><td>null</td><td>null</td><td>&quot;Jane Poynder&quot;</td><td>&quot;U&quot;</td><td>null</td><td>&quot;GBR&quot;</td><td>null</td><td>&quot;6-3 6-4&quot;</td><td>3</td><td>&quot;Q1&quot;</td><td>null</td><td>null</td><td>null</td><td>null</td><td>null</td><td>null</td><td>null</td><td>null</td><td>null</td><td>null</td><td>null</td><td>null</td><td>null</td><td>null</td><td>null</td><td>null</td><td>null</td><td>null</td><td>null</td><td>null</td><td>null</td><td>null</td><td>null</td><td>&quot;Bournemouth_1968_qualifiers_it…</td><td>null</td></tr></tbody></table></div>"
      ],
      "text/plain": [
       "shape: (1, 45)\n",
       "┌───────────┬───────────┬───────────┬───────────┬───┬───────────┬───────────┬───────────┬──────────┐\n",
       "│ match_num ┆ winner_id ┆ winner_se ┆ winner_en ┆ … ┆ loser_ran ┆ loser_ran ┆ tourney_n ┆ monetary │\n",
       "│ ---       ┆ ---       ┆ ed        ┆ try       ┆   ┆ k         ┆ k_points  ┆ ame_date_ ┆ _winning │\n",
       "│ i64       ┆ str       ┆ ---       ┆ ---       ┆   ┆ ---       ┆ ---       ┆ matches   ┆ s        │\n",
       "│           ┆           ┆ str       ┆ str       ┆   ┆ str       ┆ str       ┆ ---       ┆ ---      │\n",
       "│           ┆           ┆           ┆           ┆   ┆           ┆           ┆ str       ┆ i64      │\n",
       "╞═══════════╪═══════════╪═══════════╪═══════════╪═══╪═══════════╪═══════════╪═══════════╪══════════╡\n",
       "│ 204       ┆ 223659    ┆ null      ┆ null      ┆ … ┆ null      ┆ null      ┆ Bournemou ┆ null     │\n",
       "│           ┆           ┆           ┆           ┆   ┆           ┆           ┆ th_1968_q ┆          │\n",
       "│           ┆           ┆           ┆           ┆   ┆           ┆           ┆ ualifiers ┆          │\n",
       "│           ┆           ┆           ┆           ┆   ┆           ┆           ┆ _it…      ┆          │\n",
       "└───────────┴───────────┴───────────┴───────────┴───┴───────────┴───────────┴───────────┴──────────┘"
      ]
     },
     "execution_count": 199,
     "metadata": {},
     "output_type": "execute_result"
    }
   ],
   "source": [
    "matches_qualifiers_itf.filter(matches_qualifiers_itf[\"winner_age\"]==3.8)"
   ]
  },
  {
   "cell_type": "code",
   "execution_count": 202,
   "metadata": {},
   "outputs": [
    {
     "data": {
      "text/html": [
       "<div><style>\n",
       ".dataframe > thead > tr,\n",
       ".dataframe > tbody > tr {\n",
       "  text-align: right;\n",
       "  white-space: pre-wrap;\n",
       "}\n",
       "</style>\n",
       "<small>shape: (3, 45)</small><table border=\"1\" class=\"dataframe\"><thead><tr><th>match_num</th><th>winner_id</th><th>winner_seed</th><th>winner_entry</th><th>winner_name</th><th>winner_hand</th><th>winner_ht</th><th>winner_ioc</th><th>winner_age</th><th>loser_id</th><th>loser_seed</th><th>loser_entry</th><th>loser_name</th><th>loser_hand</th><th>loser_ht</th><th>loser_ioc</th><th>loser_age</th><th>score</th><th>best_of</th><th>round</th><th>minutes</th><th>w_ace</th><th>w_df</th><th>w_svpt</th><th>w_1stIn</th><th>w_1stWon</th><th>w_2ndWon</th><th>w_SvGms</th><th>w_bpSaved</th><th>w_bpFaced</th><th>l_ace</th><th>l_df</th><th>l_svpt</th><th>l_1stIn</th><th>l_1stWon</th><th>l_2ndWon</th><th>l_SvGms</th><th>l_bpSaved</th><th>l_bpFaced</th><th>winner_rank</th><th>winner_rank_points</th><th>loser_rank</th><th>loser_rank_points</th><th>tourney_name_date_matches</th><th>monetary_winnings</th></tr><tr><td>i64</td><td>str</td><td>str</td><td>str</td><td>str</td><td>str</td><td>i64</td><td>str</td><td>f64</td><td>str</td><td>str</td><td>str</td><td>str</td><td>str</td><td>i64</td><td>str</td><td>f64</td><td>str</td><td>i64</td><td>str</td><td>str</td><td>str</td><td>str</td><td>str</td><td>str</td><td>str</td><td>str</td><td>str</td><td>str</td><td>str</td><td>str</td><td>str</td><td>str</td><td>str</td><td>str</td><td>str</td><td>str</td><td>str</td><td>str</td><td>str</td><td>str</td><td>str</td><td>str</td><td>str</td><td>i64</td></tr></thead><tbody><tr><td>204</td><td>&quot;223659&quot;</td><td>null</td><td>null</td><td>&quot;Heather Allen&quot;</td><td>&quot;U&quot;</td><td>null</td><td>&quot;GBR&quot;</td><td>3.8</td><td>&quot;224029&quot;</td><td>null</td><td>null</td><td>&quot;Jane Poynder&quot;</td><td>&quot;U&quot;</td><td>null</td><td>&quot;GBR&quot;</td><td>null</td><td>&quot;6-3 6-4&quot;</td><td>3</td><td>&quot;Q1&quot;</td><td>null</td><td>null</td><td>null</td><td>null</td><td>null</td><td>null</td><td>null</td><td>null</td><td>null</td><td>null</td><td>null</td><td>null</td><td>null</td><td>null</td><td>null</td><td>null</td><td>null</td><td>null</td><td>null</td><td>null</td><td>null</td><td>null</td><td>null</td><td>&quot;Bournemouth_1968_qualifiers_it…</td><td>null</td></tr><tr><td>207</td><td>&quot;223659&quot;</td><td>null</td><td>null</td><td>&quot;Heather Allen&quot;</td><td>&quot;U&quot;</td><td>null</td><td>&quot;GBR&quot;</td><td>4.0</td><td>&quot;224068&quot;</td><td>null</td><td>null</td><td>&quot;Jocelyn Davie&quot;</td><td>&quot;U&quot;</td><td>null</td><td>&quot;RSA&quot;</td><td>null</td><td>&quot;6-0 6-0&quot;</td><td>3</td><td>&quot;Q1&quot;</td><td>null</td><td>null</td><td>null</td><td>null</td><td>null</td><td>null</td><td>null</td><td>null</td><td>null</td><td>null</td><td>null</td><td>null</td><td>null</td><td>null</td><td>null</td><td>null</td><td>null</td><td>null</td><td>null</td><td>null</td><td>null</td><td>null</td><td>null</td><td>&quot;Wimbledon_1968_qualifiers_itf&quot;</td><td>null</td></tr><tr><td>207</td><td>&quot;223659&quot;</td><td>null</td><td>null</td><td>&quot;Heather Allen&quot;</td><td>&quot;U&quot;</td><td>null</td><td>&quot;GBR&quot;</td><td>6.0</td><td>&quot;223658&quot;</td><td>null</td><td>null</td><td>&quot;Nati Santacana&quot;</td><td>&quot;U&quot;</td><td>null</td><td>&quot;ESP&quot;</td><td>26.1</td><td>&quot;6-1 6-2&quot;</td><td>3</td><td>&quot;Q1&quot;</td><td>null</td><td>null</td><td>null</td><td>null</td><td>null</td><td>null</td><td>null</td><td>null</td><td>null</td><td>null</td><td>null</td><td>null</td><td>null</td><td>null</td><td>null</td><td>null</td><td>null</td><td>null</td><td>null</td><td>null</td><td>null</td><td>null</td><td>null</td><td>&quot;Wimbledon_1970_qualifiers_itf&quot;</td><td>null</td></tr></tbody></table></div>"
      ],
      "text/plain": [
       "shape: (3, 45)\n",
       "┌───────────┬───────────┬───────────┬───────────┬───┬───────────┬───────────┬───────────┬──────────┐\n",
       "│ match_num ┆ winner_id ┆ winner_se ┆ winner_en ┆ … ┆ loser_ran ┆ loser_ran ┆ tourney_n ┆ monetary │\n",
       "│ ---       ┆ ---       ┆ ed        ┆ try       ┆   ┆ k         ┆ k_points  ┆ ame_date_ ┆ _winning │\n",
       "│ i64       ┆ str       ┆ ---       ┆ ---       ┆   ┆ ---       ┆ ---       ┆ matches   ┆ s        │\n",
       "│           ┆           ┆ str       ┆ str       ┆   ┆ str       ┆ str       ┆ ---       ┆ ---      │\n",
       "│           ┆           ┆           ┆           ┆   ┆           ┆           ┆ str       ┆ i64      │\n",
       "╞═══════════╪═══════════╪═══════════╪═══════════╪═══╪═══════════╪═══════════╪═══════════╪══════════╡\n",
       "│ 204       ┆ 223659    ┆ null      ┆ null      ┆ … ┆ null      ┆ null      ┆ Bournemou ┆ null     │\n",
       "│           ┆           ┆           ┆           ┆   ┆           ┆           ┆ th_1968_q ┆          │\n",
       "│           ┆           ┆           ┆           ┆   ┆           ┆           ┆ ualifiers ┆          │\n",
       "│           ┆           ┆           ┆           ┆   ┆           ┆           ┆ _it…      ┆          │\n",
       "│ 207       ┆ 223659    ┆ null      ┆ null      ┆ … ┆ null      ┆ null      ┆ Wimbledon ┆ null     │\n",
       "│           ┆           ┆           ┆           ┆   ┆           ┆           ┆ _1968_qua ┆          │\n",
       "│           ┆           ┆           ┆           ┆   ┆           ┆           ┆ lifiers_i ┆          │\n",
       "│           ┆           ┆           ┆           ┆   ┆           ┆           ┆ tf        ┆          │\n",
       "│ 207       ┆ 223659    ┆ null      ┆ null      ┆ … ┆ null      ┆ null      ┆ Wimbledon ┆ null     │\n",
       "│           ┆           ┆           ┆           ┆   ┆           ┆           ┆ _1970_qua ┆          │\n",
       "│           ┆           ┆           ┆           ┆   ┆           ┆           ┆ lifiers_i ┆          │\n",
       "│           ┆           ┆           ┆           ┆   ┆           ┆           ┆ tf        ┆          │\n",
       "└───────────┴───────────┴───────────┴───────────┴───┴───────────┴───────────┴───────────┴──────────┘"
      ]
     },
     "execution_count": 202,
     "metadata": {},
     "output_type": "execute_result"
    }
   ],
   "source": [
    "matches_qualifiers_itf.filter(matches_qualifiers_itf[\"winner_age\"]<10)"
   ]
  },
  {
   "cell_type": "code",
   "execution_count": 203,
   "metadata": {},
   "outputs": [
    {
     "data": {
      "text/html": [
       "<div><style>\n",
       ".dataframe > thead > tr,\n",
       ".dataframe > tbody > tr {\n",
       "  text-align: right;\n",
       "  white-space: pre-wrap;\n",
       "}\n",
       "</style>\n",
       "<small>shape: (8, 45)</small><table border=\"1\" class=\"dataframe\"><thead><tr><th>match_num</th><th>winner_id</th><th>winner_seed</th><th>winner_entry</th><th>winner_name</th><th>winner_hand</th><th>winner_ht</th><th>winner_ioc</th><th>winner_age</th><th>loser_id</th><th>loser_seed</th><th>loser_entry</th><th>loser_name</th><th>loser_hand</th><th>loser_ht</th><th>loser_ioc</th><th>loser_age</th><th>score</th><th>best_of</th><th>round</th><th>minutes</th><th>w_ace</th><th>w_df</th><th>w_svpt</th><th>w_1stIn</th><th>w_1stWon</th><th>w_2ndWon</th><th>w_SvGms</th><th>w_bpSaved</th><th>w_bpFaced</th><th>l_ace</th><th>l_df</th><th>l_svpt</th><th>l_1stIn</th><th>l_1stWon</th><th>l_2ndWon</th><th>l_SvGms</th><th>l_bpSaved</th><th>l_bpFaced</th><th>winner_rank</th><th>winner_rank_points</th><th>loser_rank</th><th>loser_rank_points</th><th>tourney_name_date_matches</th><th>monetary_winnings</th></tr><tr><td>i64</td><td>str</td><td>str</td><td>str</td><td>str</td><td>str</td><td>i64</td><td>str</td><td>f64</td><td>str</td><td>str</td><td>str</td><td>str</td><td>str</td><td>i64</td><td>str</td><td>f64</td><td>str</td><td>i64</td><td>str</td><td>str</td><td>str</td><td>str</td><td>str</td><td>str</td><td>str</td><td>str</td><td>str</td><td>str</td><td>str</td><td>str</td><td>str</td><td>str</td><td>str</td><td>str</td><td>str</td><td>str</td><td>str</td><td>str</td><td>str</td><td>str</td><td>str</td><td>str</td><td>str</td><td>i64</td></tr></thead><tbody><tr><td>202</td><td>&quot;223881&quot;</td><td>null</td><td>null</td><td>&quot;Dianne Bridger&quot;</td><td>&quot;U&quot;</td><td>null</td><td>&quot;GBR&quot;</td><td>null</td><td>&quot;213882&quot;</td><td>null</td><td>null</td><td>&quot;Lena Reichel&quot;</td><td>&quot;U&quot;</td><td>null</td><td>&quot;AUT&quot;</td><td>-29.0</td><td>&quot;6-1 8-6&quot;</td><td>3</td><td>&quot;Q1&quot;</td><td>null</td><td>null</td><td>null</td><td>null</td><td>null</td><td>null</td><td>null</td><td>null</td><td>null</td><td>null</td><td>null</td><td>null</td><td>null</td><td>null</td><td>null</td><td>null</td><td>null</td><td>null</td><td>null</td><td>null</td><td>null</td><td>null</td><td>null</td><td>&quot;Bournemouth_1968_qualifiers_it…</td><td>null</td></tr><tr><td>226</td><td>&quot;201107&quot;</td><td>null</td><td>null</td><td>&quot;Nadine Netter&quot;</td><td>&quot;U&quot;</td><td>null</td><td>&quot;USA&quot;</td><td>23.6</td><td>&quot;223659&quot;</td><td>null</td><td>null</td><td>&quot;Heather Allen&quot;</td><td>&quot;U&quot;</td><td>null</td><td>&quot;GBR&quot;</td><td>4.0</td><td>&quot;9-7 6-2&quot;</td><td>3</td><td>&quot;Q2&quot;</td><td>null</td><td>null</td><td>null</td><td>null</td><td>null</td><td>null</td><td>null</td><td>null</td><td>null</td><td>null</td><td>null</td><td>null</td><td>null</td><td>null</td><td>null</td><td>null</td><td>null</td><td>null</td><td>null</td><td>null</td><td>null</td><td>null</td><td>null</td><td>&quot;Wimbledon_1968_qualifiers_itf&quot;</td><td>null</td></tr><tr><td>202</td><td>&quot;200862&quot;</td><td>null</td><td>null</td><td>&quot;Valerie Ziegenfuss&quot;</td><td>&quot;R&quot;</td><td>173</td><td>&quot;USA&quot;</td><td>21.3</td><td>&quot;223077&quot;</td><td>null</td><td>null</td><td>&quot;Stephanie Johnson&quot;</td><td>&quot;U&quot;</td><td>null</td><td>&quot;USA&quot;</td><td>-1.0</td><td>&quot;6-0 6-4&quot;</td><td>3</td><td>&quot;Q1&quot;</td><td>null</td><td>null</td><td>null</td><td>null</td><td>null</td><td>null</td><td>null</td><td>null</td><td>null</td><td>null</td><td>null</td><td>null</td><td>null</td><td>null</td><td>null</td><td>null</td><td>null</td><td>null</td><td>null</td><td>null</td><td>null</td><td>null</td><td>null</td><td>&quot;Richmond_1970_qualifiers_itf&quot;</td><td>null</td></tr><tr><td>236</td><td>&quot;200215&quot;</td><td>null</td><td>null</td><td>&quot;Susan Alexander&quot;</td><td>&quot;R&quot;</td><td>null</td><td>&quot;AUS&quot;</td><td>null</td><td>&quot;223659&quot;</td><td>null</td><td>null</td><td>&quot;Heather Allen&quot;</td><td>&quot;U&quot;</td><td>null</td><td>&quot;GBR&quot;</td><td>6.0</td><td>&quot;6-3 5-7 6-1&quot;</td><td>3</td><td>&quot;Q2&quot;</td><td>null</td><td>null</td><td>null</td><td>null</td><td>null</td><td>null</td><td>null</td><td>null</td><td>null</td><td>null</td><td>null</td><td>null</td><td>null</td><td>null</td><td>null</td><td>null</td><td>null</td><td>null</td><td>null</td><td>null</td><td>null</td><td>null</td><td>null</td><td>&quot;Wimbledon_1970_qualifiers_itf&quot;</td><td>null</td></tr><tr><td>26</td><td>&quot;200178&quot;</td><td>null</td><td>null</td><td>&quot;Sue Hastings&quot;</td><td>&quot;U&quot;</td><td>null</td><td>&quot;AUS&quot;</td><td>null</td><td>&quot;203726&quot;</td><td>null</td><td>null</td><td>&quot;Laura Falconieri&quot;</td><td>&quot;U&quot;</td><td>null</td><td>&quot;ITA&quot;</td><td>7.0</td><td>&quot;6-0 6-1&quot;</td><td>3</td><td>&quot;Q1&quot;</td><td>null</td><td>null</td><td>null</td><td>null</td><td>null</td><td>null</td><td>null</td><td>null</td><td>null</td><td>null</td><td>null</td><td>null</td><td>null</td><td>null</td><td>null</td><td>null</td><td>null</td><td>null</td><td>null</td><td>null</td><td>null</td><td>null</td><td>null</td><td>&quot;Roland Garros_1974_qualifiers_…</td><td>null</td></tr><tr><td>18</td><td>&quot;201159&quot;</td><td>null</td><td>null</td><td>&quot;Sheila Mcinerney&quot;</td><td>&quot;U&quot;</td><td>null</td><td>&quot;USA&quot;</td><td>25.3</td><td>&quot;203824&quot;</td><td>null</td><td>null</td><td>&quot;Tonia Bayley&quot;</td><td>&quot;U&quot;</td><td>null</td><td>&quot;AUS&quot;</td><td>8.7</td><td>&quot;7-5 6-0&quot;</td><td>3</td><td>&quot;Q1&quot;</td><td>null</td><td>null</td><td>null</td><td>null</td><td>null</td><td>null</td><td>null</td><td>null</td><td>null</td><td>null</td><td>null</td><td>null</td><td>null</td><td>null</td><td>null</td><td>null</td><td>null</td><td>null</td><td>null</td><td>null</td><td>null</td><td>null</td><td>null</td><td>&quot;Wimbledon_1983_qualifiers_itf&quot;</td><td>null</td></tr><tr><td>3</td><td>&quot;200454&quot;</td><td>null</td><td>null</td><td>&quot;Myriam Schropp&quot;</td><td>&quot;U&quot;</td><td>null</td><td>&quot;GER&quot;</td><td>17.3</td><td>&quot;203887&quot;</td><td>null</td><td>null</td><td>&quot;Lara De Angelis&quot;</td><td>&quot;U&quot;</td><td>null</td><td>&quot;ITA&quot;</td><td>2.4</td><td>&quot;6-1 6-0&quot;</td><td>3</td><td>&quot;Q1&quot;</td><td>null</td><td>null</td><td>null</td><td>null</td><td>null</td><td>null</td><td>null</td><td>null</td><td>null</td><td>null</td><td>null</td><td>null</td><td>null</td><td>null</td><td>null</td><td>null</td><td>null</td><td>null</td><td>null</td><td>null</td><td>null</td><td>null</td><td>null</td><td>&quot;US Open_1983_qualifiers_itf&quot;</td><td>null</td></tr><tr><td>9</td><td>&quot;204691&quot;</td><td>&quot;5&quot;</td><td>null</td><td>&quot;Marcela Evangelista&quot;</td><td>&quot;U&quot;</td><td>null</td><td>&quot;BRA&quot;</td><td>21.5</td><td>&quot;206329&quot;</td><td>null</td><td>&quot;WC&quot;</td><td>&quot;Montserrat Gonzalez&quot;</td><td>&quot;R&quot;</td><td>170</td><td>&quot;PAR&quot;</td><td>9.2</td><td>&quot;6-1 6-1&quot;</td><td>3</td><td>&quot;R32&quot;</td><td>null</td><td>null</td><td>null</td><td>null</td><td>null</td><td>null</td><td>null</td><td>null</td><td>null</td><td>null</td><td>null</td><td>null</td><td>null</td><td>null</td><td>null</td><td>null</td><td>null</td><td>null</td><td>null</td><td>&quot;588&quot;</td><td>&quot;16&quot;</td><td>null</td><td>null</td><td>&quot;Aguascalientes 10K_2003_qualif…</td><td>null</td></tr></tbody></table></div>"
      ],
      "text/plain": [
       "shape: (8, 45)\n",
       "┌───────────┬───────────┬───────────┬───────────┬───┬───────────┬───────────┬───────────┬──────────┐\n",
       "│ match_num ┆ winner_id ┆ winner_se ┆ winner_en ┆ … ┆ loser_ran ┆ loser_ran ┆ tourney_n ┆ monetary │\n",
       "│ ---       ┆ ---       ┆ ed        ┆ try       ┆   ┆ k         ┆ k_points  ┆ ame_date_ ┆ _winning │\n",
       "│ i64       ┆ str       ┆ ---       ┆ ---       ┆   ┆ ---       ┆ ---       ┆ matches   ┆ s        │\n",
       "│           ┆           ┆ str       ┆ str       ┆   ┆ str       ┆ str       ┆ ---       ┆ ---      │\n",
       "│           ┆           ┆           ┆           ┆   ┆           ┆           ┆ str       ┆ i64      │\n",
       "╞═══════════╪═══════════╪═══════════╪═══════════╪═══╪═══════════╪═══════════╪═══════════╪══════════╡\n",
       "│ 202       ┆ 223881    ┆ null      ┆ null      ┆ … ┆ null      ┆ null      ┆ Bournemou ┆ null     │\n",
       "│           ┆           ┆           ┆           ┆   ┆           ┆           ┆ th_1968_q ┆          │\n",
       "│           ┆           ┆           ┆           ┆   ┆           ┆           ┆ ualifiers ┆          │\n",
       "│           ┆           ┆           ┆           ┆   ┆           ┆           ┆ _it…      ┆          │\n",
       "│ 226       ┆ 201107    ┆ null      ┆ null      ┆ … ┆ null      ┆ null      ┆ Wimbledon ┆ null     │\n",
       "│           ┆           ┆           ┆           ┆   ┆           ┆           ┆ _1968_qua ┆          │\n",
       "│           ┆           ┆           ┆           ┆   ┆           ┆           ┆ lifiers_i ┆          │\n",
       "│           ┆           ┆           ┆           ┆   ┆           ┆           ┆ tf        ┆          │\n",
       "│ 202       ┆ 200862    ┆ null      ┆ null      ┆ … ┆ null      ┆ null      ┆ Richmond_ ┆ null     │\n",
       "│           ┆           ┆           ┆           ┆   ┆           ┆           ┆ 1970_qual ┆          │\n",
       "│           ┆           ┆           ┆           ┆   ┆           ┆           ┆ ifiers_it ┆          │\n",
       "│           ┆           ┆           ┆           ┆   ┆           ┆           ┆ f         ┆          │\n",
       "│ 236       ┆ 200215    ┆ null      ┆ null      ┆ … ┆ null      ┆ null      ┆ Wimbledon ┆ null     │\n",
       "│           ┆           ┆           ┆           ┆   ┆           ┆           ┆ _1970_qua ┆          │\n",
       "│           ┆           ┆           ┆           ┆   ┆           ┆           ┆ lifiers_i ┆          │\n",
       "│           ┆           ┆           ┆           ┆   ┆           ┆           ┆ tf        ┆          │\n",
       "│ 26        ┆ 200178    ┆ null      ┆ null      ┆ … ┆ null      ┆ null      ┆ Roland    ┆ null     │\n",
       "│           ┆           ┆           ┆           ┆   ┆           ┆           ┆ Garros_19 ┆          │\n",
       "│           ┆           ┆           ┆           ┆   ┆           ┆           ┆ 74_qualif ┆          │\n",
       "│           ┆           ┆           ┆           ┆   ┆           ┆           ┆ iers_…    ┆          │\n",
       "│ 18        ┆ 201159    ┆ null      ┆ null      ┆ … ┆ null      ┆ null      ┆ Wimbledon ┆ null     │\n",
       "│           ┆           ┆           ┆           ┆   ┆           ┆           ┆ _1983_qua ┆          │\n",
       "│           ┆           ┆           ┆           ┆   ┆           ┆           ┆ lifiers_i ┆          │\n",
       "│           ┆           ┆           ┆           ┆   ┆           ┆           ┆ tf        ┆          │\n",
       "│ 3         ┆ 200454    ┆ null      ┆ null      ┆ … ┆ null      ┆ null      ┆ US Open_1 ┆ null     │\n",
       "│           ┆           ┆           ┆           ┆   ┆           ┆           ┆ 983_quali ┆          │\n",
       "│           ┆           ┆           ┆           ┆   ┆           ┆           ┆ fiers_itf ┆          │\n",
       "│ 9         ┆ 204691    ┆ 5         ┆ null      ┆ … ┆ null      ┆ null      ┆ Aguascali ┆ null     │\n",
       "│           ┆           ┆           ┆           ┆   ┆           ┆           ┆ entes 10K ┆          │\n",
       "│           ┆           ┆           ┆           ┆   ┆           ┆           ┆ _2003_qua ┆          │\n",
       "│           ┆           ┆           ┆           ┆   ┆           ┆           ┆ lif…      ┆          │\n",
       "└───────────┴───────────┴───────────┴───────────┴───┴───────────┴───────────┴───────────┴──────────┘"
      ]
     },
     "execution_count": 203,
     "metadata": {},
     "output_type": "execute_result"
    }
   ],
   "source": [
    "matches_qualifiers_itf.filter(matches_qualifiers_itf['loser_age'] < '10')"
   ]
  },
  {
   "cell_type": "code",
   "execution_count": 50,
   "metadata": {},
   "outputs": [
    {
     "data": {
      "text/plain": [
       "58.5"
      ]
     },
     "execution_count": 50,
     "metadata": {},
     "output_type": "execute_result"
    }
   ],
   "source": [
    "matches_qualifiers_itf['winner_age'].max()"
   ]
  },
  {
   "cell_type": "code",
   "execution_count": 51,
   "metadata": {},
   "outputs": [
    {
     "data": {
      "text/html": [
       "<div><style>\n",
       ".dataframe > thead > tr,\n",
       ".dataframe > tbody > tr {\n",
       "  text-align: right;\n",
       "  white-space: pre-wrap;\n",
       "}\n",
       "</style>\n",
       "<small>shape: (498_255,)</small><table border=\"1\" class=\"dataframe\"><thead><tr><th>winner_age</th></tr><tr><td>f64</td></tr></thead><tbody><tr><td>24.5</td></tr><tr><td>23.0</td></tr><tr><td>3.8</td></tr><tr><td>35.2</td></tr><tr><td>33.8</td></tr><tr><td>&hellip;</td></tr><tr><td>20.0</td></tr><tr><td>26.4</td></tr><tr><td>30.2</td></tr><tr><td>29.8</td></tr><tr><td>19.9</td></tr></tbody></table></div>"
      ],
      "text/plain": [
       "shape: (498_255,)\n",
       "Series: 'winner_age' [f64]\n",
       "[\n",
       "\t24.5\n",
       "\t23.0\n",
       "\t3.8\n",
       "\t35.2\n",
       "\t33.8\n",
       "\t…\n",
       "\t20.0\n",
       "\t26.4\n",
       "\t30.2\n",
       "\t29.8\n",
       "\t19.9\n",
       "]"
      ]
     },
     "execution_count": 51,
     "metadata": {},
     "output_type": "execute_result"
    }
   ],
   "source": [
    "matches_qualifiers_itf_senzana=matches_qualifiers_itf['winner_age'].drop_nulls()\n",
    "matches_qualifiers_itf_senzana"
   ]
  },
  {
   "cell_type": "code",
   "execution_count": 52,
   "metadata": {},
   "outputs": [
    {
     "data": {
      "text/html": [
       "<div><style>\n",
       ".dataframe > thead > tr,\n",
       ".dataframe > tbody > tr {\n",
       "  text-align: right;\n",
       "  white-space: pre-wrap;\n",
       "}\n",
       "</style>\n",
       "<small>shape: (57, 2)</small><table border=\"1\" class=\"dataframe\"><thead><tr><th>winner_age</th><th>count</th></tr><tr><td>f64</td><td>u32</td></tr></thead><tbody><tr><td>3.8</td><td>1</td></tr><tr><td>4.0</td><td>1</td></tr><tr><td>6.0</td><td>1</td></tr><tr><td>11.3</td><td>1</td></tr><tr><td>11.5</td><td>1</td></tr><tr><td>&hellip;</td><td>&hellip;</td></tr><tr><td>17.5</td><td>4564</td></tr><tr><td>17.6</td><td>4707</td></tr><tr><td>17.7</td><td>4966</td></tr><tr><td>17.8</td><td>5077</td></tr><tr><td>17.9</td><td>5174</td></tr></tbody></table></div>"
      ],
      "text/plain": [
       "shape: (57, 2)\n",
       "┌────────────┬───────┐\n",
       "│ winner_age ┆ count │\n",
       "│ ---        ┆ ---   │\n",
       "│ f64        ┆ u32   │\n",
       "╞════════════╪═══════╡\n",
       "│ 3.8        ┆ 1     │\n",
       "│ 4.0        ┆ 1     │\n",
       "│ 6.0        ┆ 1     │\n",
       "│ 11.3       ┆ 1     │\n",
       "│ 11.5       ┆ 1     │\n",
       "│ …          ┆ …     │\n",
       "│ 17.5       ┆ 4564  │\n",
       "│ 17.6       ┆ 4707  │\n",
       "│ 17.7       ┆ 4966  │\n",
       "│ 17.8       ┆ 5077  │\n",
       "│ 17.9       ┆ 5174  │\n",
       "└────────────┴───────┘"
      ]
     },
     "execution_count": 52,
     "metadata": {},
     "output_type": "execute_result"
    }
   ],
   "source": [
    "matches_qualifiers_itf_senzana.value_counts().sort(\"winner_age\").head(57)"
   ]
  },
  {
   "cell_type": "code",
   "execution_count": 53,
   "metadata": {},
   "outputs": [
    {
     "data": {
      "text/plain": [
       "-29.0"
      ]
     },
     "execution_count": 53,
     "metadata": {},
     "output_type": "execute_result"
    }
   ],
   "source": [
    "matches_qualifiers_itf['loser_age'].min()"
   ]
  },
  {
   "cell_type": "code",
   "execution_count": 54,
   "metadata": {},
   "outputs": [
    {
     "data": {
      "text/plain": [
       "76.4"
      ]
     },
     "execution_count": 54,
     "metadata": {},
     "output_type": "execute_result"
    }
   ],
   "source": [
    "matches_qualifiers_itf['loser_age'].max()"
   ]
  },
  {
   "cell_type": "code",
   "execution_count": 55,
   "metadata": {},
   "outputs": [
    {
     "data": {
      "text/html": [
       "<div><style>\n",
       ".dataframe > thead > tr,\n",
       ".dataframe > tbody > tr {\n",
       "  text-align: right;\n",
       "  white-space: pre-wrap;\n",
       "}\n",
       "</style>\n",
       "<small>shape: (484_370,)</small><table border=\"1\" class=\"dataframe\"><thead><tr><th>loser_age</th></tr><tr><td>f64</td></tr></thead><tbody><tr><td>24.1</td></tr><tr><td>-29.0</td></tr><tr><td>23.1</td></tr><tr><td>19.0</td></tr><tr><td>20.2</td></tr><tr><td>&hellip;</td></tr><tr><td>39.6</td></tr><tr><td>20.7</td></tr><tr><td>31.3</td></tr><tr><td>25.5</td></tr><tr><td>21.0</td></tr></tbody></table></div>"
      ],
      "text/plain": [
       "shape: (484_370,)\n",
       "Series: 'loser_age' [f64]\n",
       "[\n",
       "\t24.1\n",
       "\t-29.0\n",
       "\t23.1\n",
       "\t19.0\n",
       "\t20.2\n",
       "\t…\n",
       "\t39.6\n",
       "\t20.7\n",
       "\t31.3\n",
       "\t25.5\n",
       "\t21.0\n",
       "]"
      ]
     },
     "execution_count": 55,
     "metadata": {},
     "output_type": "execute_result"
    }
   ],
   "source": [
    "matches_qualifiers_itf_senzana2=matches_qualifiers_itf['loser_age'].drop_nulls()\n",
    "matches_qualifiers_itf_senzana2"
   ]
  },
  {
   "cell_type": "code",
   "execution_count": 56,
   "metadata": {},
   "outputs": [
    {
     "data": {
      "text/html": [
       "<div><style>\n",
       ".dataframe > thead > tr,\n",
       ".dataframe > tbody > tr {\n",
       "  text-align: right;\n",
       "  white-space: pre-wrap;\n",
       "}\n",
       "</style>\n",
       "<small>shape: (68, 2)</small><table border=\"1\" class=\"dataframe\"><thead><tr><th>loser_age</th><th>count</th></tr><tr><td>f64</td><td>u32</td></tr></thead><tbody><tr><td>-29.0</td><td>1</td></tr><tr><td>-1.0</td><td>1</td></tr><tr><td>2.4</td><td>1</td></tr><tr><td>4.0</td><td>1</td></tr><tr><td>6.0</td><td>1</td></tr><tr><td>&hellip;</td><td>&hellip;</td></tr><tr><td>17.5</td><td>4668</td></tr><tr><td>17.6</td><td>5053</td></tr><tr><td>17.7</td><td>5171</td></tr><tr><td>17.8</td><td>5213</td></tr><tr><td>17.9</td><td>5321</td></tr></tbody></table></div>"
      ],
      "text/plain": [
       "shape: (68, 2)\n",
       "┌───────────┬───────┐\n",
       "│ loser_age ┆ count │\n",
       "│ ---       ┆ ---   │\n",
       "│ f64       ┆ u32   │\n",
       "╞═══════════╪═══════╡\n",
       "│ -29.0     ┆ 1     │\n",
       "│ -1.0      ┆ 1     │\n",
       "│ 2.4       ┆ 1     │\n",
       "│ 4.0       ┆ 1     │\n",
       "│ 6.0       ┆ 1     │\n",
       "│ …         ┆ …     │\n",
       "│ 17.5      ┆ 4668  │\n",
       "│ 17.6      ┆ 5053  │\n",
       "│ 17.7      ┆ 5171  │\n",
       "│ 17.8      ┆ 5213  │\n",
       "│ 17.9      ┆ 5321  │\n",
       "└───────────┴───────┘"
      ]
     },
     "execution_count": 56,
     "metadata": {},
     "output_type": "execute_result"
    }
   ],
   "source": [
    "matches_qualifiers_itf_senzana2.value_counts().sort(\"loser_age\").head(68)"
   ]
  },
  {
   "cell_type": "code",
   "execution_count": 57,
   "metadata": {},
   "outputs": [
    {
     "data": {
      "text/plain": [
       "-16.5"
      ]
     },
     "execution_count": 57,
     "metadata": {},
     "output_type": "execute_result"
    }
   ],
   "source": [
    "matches_singles_wta['winner_age'].min()"
   ]
  },
  {
   "cell_type": "code",
   "execution_count": 58,
   "metadata": {},
   "outputs": [
    {
     "data": {
      "text/plain": [
       "57.0"
      ]
     },
     "execution_count": 58,
     "metadata": {},
     "output_type": "execute_result"
    }
   ],
   "source": [
    "matches_singles_wta['winner_age'].max()"
   ]
  },
  {
   "cell_type": "code",
   "execution_count": 59,
   "metadata": {},
   "outputs": [
    {
     "data": {
      "text/html": [
       "<div><style>\n",
       ".dataframe > thead > tr,\n",
       ".dataframe > tbody > tr {\n",
       "  text-align: right;\n",
       "  white-space: pre-wrap;\n",
       "}\n",
       "</style>\n",
       "<small>shape: (153_906,)</small><table border=\"1\" class=\"dataframe\"><thead><tr><th>winner_age</th></tr><tr><td>f64</td></tr></thead><tbody><tr><td>31.9</td></tr><tr><td>21.9</td></tr><tr><td>23.0</td></tr><tr><td>22.8</td></tr><tr><td>29.5</td></tr><tr><td>&hellip;</td></tr><tr><td>18.4</td></tr><tr><td>29.3</td></tr><tr><td>16.8</td></tr><tr><td>27.8</td></tr><tr><td>30.1</td></tr></tbody></table></div>"
      ],
      "text/plain": [
       "shape: (153_906,)\n",
       "Series: 'winner_age' [f64]\n",
       "[\n",
       "\t31.9\n",
       "\t21.9\n",
       "\t23.0\n",
       "\t22.8\n",
       "\t29.5\n",
       "\t…\n",
       "\t18.4\n",
       "\t29.3\n",
       "\t16.8\n",
       "\t27.8\n",
       "\t30.1\n",
       "]"
      ]
     },
     "execution_count": 59,
     "metadata": {},
     "output_type": "execute_result"
    }
   ],
   "source": [
    "matches_singles_wtasenzana=matches_singles_wta['winner_age'].drop_nulls()\n",
    "matches_singles_wtasenzana"
   ]
  },
  {
   "cell_type": "code",
   "execution_count": 60,
   "metadata": {},
   "outputs": [
    {
     "data": {
      "text/html": [
       "<div><style>\n",
       ".dataframe > thead > tr,\n",
       ".dataframe > tbody > tr {\n",
       "  text-align: right;\n",
       "  white-space: pre-wrap;\n",
       "}\n",
       "</style>\n",
       "<small>shape: (63, 2)</small><table border=\"1\" class=\"dataframe\"><thead><tr><th>winner_age</th><th>count</th></tr><tr><td>f64</td><td>u32</td></tr></thead><tbody><tr><td>-16.5</td><td>4</td></tr><tr><td>-1.3</td><td>3</td></tr><tr><td>-0.8</td><td>1</td></tr><tr><td>0.0</td><td>1</td></tr><tr><td>0.6</td><td>1</td></tr><tr><td>&hellip;</td><td>&hellip;</td></tr><tr><td>17.5</td><td>503</td></tr><tr><td>17.6</td><td>704</td></tr><tr><td>17.7</td><td>764</td></tr><tr><td>17.8</td><td>772</td></tr><tr><td>17.9</td><td>770</td></tr></tbody></table></div>"
      ],
      "text/plain": [
       "shape: (63, 2)\n",
       "┌────────────┬───────┐\n",
       "│ winner_age ┆ count │\n",
       "│ ---        ┆ ---   │\n",
       "│ f64        ┆ u32   │\n",
       "╞════════════╪═══════╡\n",
       "│ -16.5      ┆ 4     │\n",
       "│ -1.3       ┆ 3     │\n",
       "│ -0.8       ┆ 1     │\n",
       "│ 0.0        ┆ 1     │\n",
       "│ 0.6        ┆ 1     │\n",
       "│ …          ┆ …     │\n",
       "│ 17.5       ┆ 503   │\n",
       "│ 17.6       ┆ 704   │\n",
       "│ 17.7       ┆ 764   │\n",
       "│ 17.8       ┆ 772   │\n",
       "│ 17.9       ┆ 770   │\n",
       "└────────────┴───────┘"
      ]
     },
     "execution_count": 60,
     "metadata": {},
     "output_type": "execute_result"
    }
   ],
   "source": [
    "matches_singles_wtasenzana.value_counts().sort(\"winner_age\").head(63)"
   ]
  },
  {
   "cell_type": "code",
   "execution_count": 61,
   "metadata": {},
   "outputs": [
    {
     "data": {
      "text/plain": [
       "-28.0"
      ]
     },
     "execution_count": 61,
     "metadata": {},
     "output_type": "execute_result"
    }
   ],
   "source": [
    "matches_singles_wta['loser_age'].min()"
   ]
  },
  {
   "cell_type": "code",
   "execution_count": 62,
   "metadata": {},
   "outputs": [
    {
     "data": {
      "text/plain": [
       "67.4"
      ]
     },
     "execution_count": 62,
     "metadata": {},
     "output_type": "execute_result"
    }
   ],
   "source": [
    "matches_singles_wta['loser_age'].max()"
   ]
  },
  {
   "cell_type": "code",
   "execution_count": 63,
   "metadata": {},
   "outputs": [
    {
     "data": {
      "text/html": [
       "<div><style>\n",
       ".dataframe > thead > tr,\n",
       ".dataframe > tbody > tr {\n",
       "  text-align: right;\n",
       "  white-space: pre-wrap;\n",
       "}\n",
       "</style>\n",
       "<small>shape: (148_969,)</small><table border=\"1\" class=\"dataframe\"><thead><tr><th>loser_age</th></tr><tr><td>f64</td></tr></thead><tbody><tr><td>16.1</td></tr><tr><td>19.2</td></tr><tr><td>17.7</td></tr><tr><td>21.0</td></tr><tr><td>17.4</td></tr><tr><td>&hellip;</td></tr><tr><td>30.0</td></tr><tr><td>29.2</td></tr><tr><td>24.2</td></tr><tr><td>30.1</td></tr><tr><td>19.8</td></tr></tbody></table></div>"
      ],
      "text/plain": [
       "shape: (148_969,)\n",
       "Series: 'loser_age' [f64]\n",
       "[\n",
       "\t16.1\n",
       "\t19.2\n",
       "\t17.7\n",
       "\t21.0\n",
       "\t17.4\n",
       "\t…\n",
       "\t30.0\n",
       "\t29.2\n",
       "\t24.2\n",
       "\t30.1\n",
       "\t19.8\n",
       "]"
      ]
     },
     "execution_count": 63,
     "metadata": {},
     "output_type": "execute_result"
    }
   ],
   "source": [
    "matches_singles_wtasenzana2=matches_singles_wta['loser_age'].drop_nulls()\n",
    "matches_singles_wtasenzana2"
   ]
  },
  {
   "cell_type": "code",
   "execution_count": 64,
   "metadata": {},
   "outputs": [
    {
     "data": {
      "text/html": [
       "<div><style>\n",
       ".dataframe > thead > tr,\n",
       ".dataframe > tbody > tr {\n",
       "  text-align: right;\n",
       "  white-space: pre-wrap;\n",
       "}\n",
       "</style>\n",
       "<small>shape: (90, 2)</small><table border=\"1\" class=\"dataframe\"><thead><tr><th>loser_age</th><th>count</th></tr><tr><td>f64</td><td>u32</td></tr></thead><tbody><tr><td>-28.0</td><td>1</td></tr><tr><td>-16.4</td><td>1</td></tr><tr><td>-1.4</td><td>1</td></tr><tr><td>-1.3</td><td>2</td></tr><tr><td>-1.0</td><td>3</td></tr><tr><td>&hellip;</td><td>&hellip;</td></tr><tr><td>17.5</td><td>566</td></tr><tr><td>17.6</td><td>618</td></tr><tr><td>17.7</td><td>644</td></tr><tr><td>17.8</td><td>725</td></tr><tr><td>17.9</td><td>711</td></tr></tbody></table></div>"
      ],
      "text/plain": [
       "shape: (90, 2)\n",
       "┌───────────┬───────┐\n",
       "│ loser_age ┆ count │\n",
       "│ ---       ┆ ---   │\n",
       "│ f64       ┆ u32   │\n",
       "╞═══════════╪═══════╡\n",
       "│ -28.0     ┆ 1     │\n",
       "│ -16.4     ┆ 1     │\n",
       "│ -1.4      ┆ 1     │\n",
       "│ -1.3      ┆ 2     │\n",
       "│ -1.0      ┆ 3     │\n",
       "│ …         ┆ …     │\n",
       "│ 17.5      ┆ 566   │\n",
       "│ 17.6      ┆ 618   │\n",
       "│ 17.7      ┆ 644   │\n",
       "│ 17.8      ┆ 725   │\n",
       "│ 17.9      ┆ 711   │\n",
       "└───────────┴───────┘"
      ]
     },
     "execution_count": 64,
     "metadata": {},
     "output_type": "execute_result"
    }
   ],
   "source": [
    "matches_singles_wtasenzana2.value_counts().sort(\"loser_age\").head(90)"
   ]
  },
  {
   "cell_type": "code",
   "execution_count": null,
   "metadata": {},
   "outputs": [],
   "source": []
  }
 ],
 "metadata": {
  "kernelspec": {
   "display_name": "Python 3",
   "language": "python",
   "name": "python3"
  },
  "language_info": {
   "codemirror_mode": {
    "name": "ipython",
    "version": 3
   },
   "file_extension": ".py",
   "mimetype": "text/x-python",
   "name": "python",
   "nbconvert_exporter": "python",
   "pygments_lexer": "ipython3",
   "version": "3.12.1"
  }
 },
 "nbformat": 4,
 "nbformat_minor": 2
}
