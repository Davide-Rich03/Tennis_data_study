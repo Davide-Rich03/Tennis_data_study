{
 "cells": [
  {
   "cell_type": "code",
   "execution_count": 2,
   "metadata": {},
   "outputs": [],
   "source": [
    "import os\n",
    "import polars as pl\n",
    "from utils import *\n",
    "\n",
    "#tutti i database aggregati li potete richiamare con le varie funzioni di import che trovate in utils.py, gli esempi sono comunque sotto.\n",
    "#per scegliere se ATP o WTA potete cambiare il valore all'interno della funzione gender in \"atp\" o \"wta\" (di default è atp)\n",
    "#es: import_players(gender=\"atp\"), import_players(gender=\"wta\")\n",
    "\n",
    "#le varie funzioni sono import_tennis_matches(), import_players(), import_matches_amateurs_atp(), import_rankings().\n",
    "\n",
    "#per quanto riguarda i match di singolo, doppio,futures, qual_chall e qual_itf dovete usare la funzione import_tennis_matches con una\n",
    "#specifica keyword che indica il tipo di match es: import_tennis_matches(data_type=\"singles\".gender=\"wta\") \n",
    "\n",
    "#le varie keyword tra cui potete scegliere sono [\"singles\",\"doubles\",\"qualifiers_challengers\",\"futures\",\"qualifiers_itf\"]\n",
    "\n",
    "#ATTENZIONE! i futures, qualifiers_challengers e doppi sono esclusivamente maschili mentre i qualifiers_itf sono esclusivamente femminili!\n",
    "#tutte queste le cose le potete verificare guardando il file utils.py\n",
    "\n",
    "#fate una bella EDA and have fun!\n",
    "\n"
   ]
  },
  {
   "cell_type": "code",
   "execution_count": 3,
   "metadata": {},
   "outputs": [
    {
     "data": {
      "text/html": [
       "<div><style>\n",
       ".dataframe > thead > tr,\n",
       ".dataframe > tbody > tr {\n",
       "  text-align: right;\n",
       "  white-space: pre-wrap;\n",
       "}\n",
       "</style>\n",
       "<small>shape: (65_019, 9)</small><table border=\"1\" class=\"dataframe\"><thead><tr><th>player_id</th><th>name_first</th><th>name_last</th><th>hand</th><th>dob</th><th>ioc</th><th>height</th><th>wikidata_id</th><th>name_full</th></tr><tr><td>i64</td><td>str</td><td>str</td><td>str</td><td>date</td><td>str</td><td>i64</td><td>str</td><td>str</td></tr></thead><tbody><tr><td>100001</td><td>&quot;Gardnar&quot;</td><td>&quot;Mulloy&quot;</td><td>&quot;R&quot;</td><td>1913-11-22</td><td>&quot;USA&quot;</td><td>185</td><td>&quot;Q54544&quot;</td><td>&quot;Gardnar Mulloy&quot;</td></tr><tr><td>100002</td><td>&quot;Pancho&quot;</td><td>&quot;Segura&quot;</td><td>&quot;R&quot;</td><td>1921-06-20</td><td>&quot;ECU&quot;</td><td>168</td><td>&quot;Q54581&quot;</td><td>&quot;Pancho Segura&quot;</td></tr><tr><td>100003</td><td>&quot;Frank&quot;</td><td>&quot;Sedgman&quot;</td><td>&quot;R&quot;</td><td>1927-10-02</td><td>&quot;AUS&quot;</td><td>180</td><td>&quot;Q962049&quot;</td><td>&quot;Frank Sedgman&quot;</td></tr><tr><td>100004</td><td>&quot;Giuseppe&quot;</td><td>&quot;Merlo&quot;</td><td>&quot;R&quot;</td><td>1927-10-11</td><td>&quot;ITA&quot;</td><td>null</td><td>&quot;Q1258752&quot;</td><td>&quot;Giuseppe Merlo&quot;</td></tr><tr><td>100005</td><td>&quot;Richard&quot;</td><td>&quot;Gonzalez&quot;</td><td>&quot;R&quot;</td><td>1928-05-09</td><td>&quot;USA&quot;</td><td>188</td><td>&quot;Q53554&quot;</td><td>&quot;Richard Gonzalez&quot;</td></tr><tr><td>&hellip;</td><td>&hellip;</td><td>&hellip;</td><td>&hellip;</td><td>&hellip;</td><td>&hellip;</td><td>&hellip;</td><td>&hellip;</td><td>&hellip;</td></tr><tr><td>212913</td><td>&quot;Pietro&quot;</td><td>&quot;Ricci&quot;</td><td>&quot;U&quot;</td><td>null</td><td>&quot;ITA&quot;</td><td>null</td><td>null</td><td>&quot;Pietro Ricci&quot;</td></tr><tr><td>212914</td><td>&quot;Corey&quot;</td><td>&quot;Craig&quot;</td><td>&quot;U&quot;</td><td>null</td><td>&quot;USA&quot;</td><td>null</td><td>null</td><td>&quot;Corey Craig&quot;</td></tr><tr><td>212915</td><td>&quot;Aleksandar&quot;</td><td>&quot;Ljubojevic&quot;</td><td>&quot;U&quot;</td><td>null</td><td>&quot;SRB&quot;</td><td>null</td><td>null</td><td>&quot;Aleksandar Ljubojevic&quot;</td></tr><tr><td>212916</td><td>&quot;Marko&quot;</td><td>&quot;Milosavljevic&quot;</td><td>&quot;U&quot;</td><td>null</td><td>&quot;SRB&quot;</td><td>null</td><td>null</td><td>&quot;Marko Milosavljevic&quot;</td></tr><tr><td>212917</td><td>&quot;Stefan&quot;</td><td>&quot;Skobelev&quot;</td><td>&quot;U&quot;</td><td>null</td><td>&quot;SRB&quot;</td><td>null</td><td>null</td><td>&quot;Stefan Skobelev&quot;</td></tr></tbody></table></div>"
      ],
      "text/plain": [
       "shape: (65_019, 9)\n",
       "┌───────────┬────────────┬───────────────┬──────┬───┬─────┬────────┬─────────────┬─────────────────┐\n",
       "│ player_id ┆ name_first ┆ name_last     ┆ hand ┆ … ┆ ioc ┆ height ┆ wikidata_id ┆ name_full       │\n",
       "│ ---       ┆ ---        ┆ ---           ┆ ---  ┆   ┆ --- ┆ ---    ┆ ---         ┆ ---             │\n",
       "│ i64       ┆ str        ┆ str           ┆ str  ┆   ┆ str ┆ i64    ┆ str         ┆ str             │\n",
       "╞═══════════╪════════════╪═══════════════╪══════╪═══╪═════╪════════╪═════════════╪═════════════════╡\n",
       "│ 100001    ┆ Gardnar    ┆ Mulloy        ┆ R    ┆ … ┆ USA ┆ 185    ┆ Q54544      ┆ Gardnar Mulloy  │\n",
       "│ 100002    ┆ Pancho     ┆ Segura        ┆ R    ┆ … ┆ ECU ┆ 168    ┆ Q54581      ┆ Pancho Segura   │\n",
       "│ 100003    ┆ Frank      ┆ Sedgman       ┆ R    ┆ … ┆ AUS ┆ 180    ┆ Q962049     ┆ Frank Sedgman   │\n",
       "│ 100004    ┆ Giuseppe   ┆ Merlo         ┆ R    ┆ … ┆ ITA ┆ null   ┆ Q1258752    ┆ Giuseppe Merlo  │\n",
       "│ 100005    ┆ Richard    ┆ Gonzalez      ┆ R    ┆ … ┆ USA ┆ 188    ┆ Q53554      ┆ Richard         │\n",
       "│           ┆            ┆               ┆      ┆   ┆     ┆        ┆             ┆ Gonzalez        │\n",
       "│ …         ┆ …          ┆ …             ┆ …    ┆ … ┆ …   ┆ …      ┆ …           ┆ …               │\n",
       "│ 212913    ┆ Pietro     ┆ Ricci         ┆ U    ┆ … ┆ ITA ┆ null   ┆ null        ┆ Pietro Ricci    │\n",
       "│ 212914    ┆ Corey      ┆ Craig         ┆ U    ┆ … ┆ USA ┆ null   ┆ null        ┆ Corey Craig     │\n",
       "│ 212915    ┆ Aleksandar ┆ Ljubojevic    ┆ U    ┆ … ┆ SRB ┆ null   ┆ null        ┆ Aleksandar      │\n",
       "│           ┆            ┆               ┆      ┆   ┆     ┆        ┆             ┆ Ljubojevic      │\n",
       "│ 212916    ┆ Marko      ┆ Milosavljevic ┆ U    ┆ … ┆ SRB ┆ null   ┆ null        ┆ Marko           │\n",
       "│           ┆            ┆               ┆      ┆   ┆     ┆        ┆             ┆ Milosavljevic   │\n",
       "│ 212917    ┆ Stefan     ┆ Skobelev      ┆ U    ┆ … ┆ SRB ┆ null   ┆ null        ┆ Stefan Skobelev │\n",
       "└───────────┴────────────┴───────────────┴──────┴───┴─────┴────────┴─────────────┴─────────────────┘"
      ]
     },
     "execution_count": 3,
     "metadata": {},
     "output_type": "execute_result"
    }
   ],
   "source": [
    "import_players(gender=\"atp\",write_parquet=True)"
   ]
  }
 ],
 "metadata": {
  "kernelspec": {
   "display_name": "Python 3",
   "language": "python",
   "name": "python3"
  },
  "language_info": {
   "codemirror_mode": {
    "name": "ipython",
    "version": 3
   },
   "file_extension": ".py",
   "mimetype": "text/x-python",
   "name": "python",
   "nbconvert_exporter": "python",
   "pygments_lexer": "ipython3",
   "version": "3.12.4"
  }
 },
 "nbformat": 4,
 "nbformat_minor": 2
}
