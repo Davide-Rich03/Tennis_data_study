{
 "cells": [
  {
   "cell_type": "code",
   "execution_count": 8,
   "metadata": {},
   "outputs": [],
   "source": [
    "import polars as pl\n",
    "import os"
   ]
  },
  {
   "cell_type": "code",
   "execution_count": 9,
   "metadata": {},
   "outputs": [
    {
     "name": "stdout",
     "output_type": "stream",
     "text": [
      "Error importing wta_matches_qual_itf_2015.csv: invalid utf-8 sequence\n",
      "Error importing wta_matches_qual_itf_2016.csv: invalid utf-8 sequence\n",
      "Error importing wta_matches_qual_itf_2017.csv: invalid utf-8 sequence\n",
      "Singles matches DataFrame shape: (156578, 49)\n",
      "Singles matches date range: 1967-12-25 to 2024-05-20\n",
      "Qualifiers/Challengers matches DataFrame shape: (512063, 49)\n",
      "Qualifiers/Challengers matches date range: 1968-04-22 to 2024-05-20\n"
     ]
    }
   ],
   "source": [
    "def import_tennis_matches(base_path=\"tennis_wta\", data_type=\"singles\"):\n",
    "    dataframes = []\n",
    "    null_values = ['Q', 'NA', 'N/A', '', '-', 'Unknown', 'null', 'W/O']\n",
    "   \n",
    "    # Define file prefixes for different match types\n",
    "    match_types = {\n",
    "        \"singles\": [\"wta_matches\"],\n",
    "        \"qualifiers_challengers\": [\"wta_matches_qual_itf\"]\n",
    "    }\n",
    "   \n",
    "    # Define year ranges for different match types\n",
    "    year_ranges = {\n",
    "        \"singles\": (1968, 2025),\n",
    "        \"qualifiers_challengers\": (1968, 2025)\n",
    "    }\n",
    "   \n",
    "    # Get the appropriate prefixes and year range\n",
    "    prefixes = match_types.get(data_type, [])\n",
    "    start_year, end_year = year_ranges.get(data_type, (1968, 2025))\n",
    "   \n",
    "    # Iterate through all specified prefixes\n",
    "    for prefix in prefixes:\n",
    "        for year in range(start_year, end_year):\n",
    "            filename = f\"{prefix}_{year}.csv\"\n",
    "            filepath = os.path.join(base_path, filename)\n",
    "           \n",
    "            if os.path.exists(filepath):\n",
    "                try:\n",
    "                    # Expanded schema overrides to preserve string types\n",
    "                    schema_overrides = {\n",
    "                        'winner_seed': pl.Utf8,\n",
    "                        'loser_seed': pl.Utf8,\n",
    "                        'tourney_date': pl.Utf8,\n",
    "                        'winner_entry': pl.Utf8,\n",
    "                        'loser_entry': pl.Utf8,\n",
    "                        'winner_rank': pl.Utf8,\n",
    "                        'loser_rank': pl.Utf8,\n",
    "                        'winner1_id': pl.Utf8,\n",
    "                        'winner2_id': pl.Utf8,\n",
    "                        'loser1_id': pl.Utf8,\n",
    "                        'loser2_id': pl.Utf8\n",
    "                    }\n",
    "                   \n",
    "                    df = pl.read_csv(\n",
    "                        filepath,\n",
    "                        schema_overrides=schema_overrides,\n",
    "                        null_values=null_values,\n",
    "                        ignore_errors=True,\n",
    "                        truncate_ragged_lines=True,\n",
    "                        infer_schema_length=10000\n",
    "                    )\n",
    "                   \n",
    "                    # Convert tourney_date to Date type\n",
    "                    df = df.with_columns(\n",
    "                        pl.col('tourney_date')\n",
    "                        .str.to_date(format='%Y%m%d')\n",
    "                        .alias('tourney_date')\n",
    "                    )\n",
    "                   \n",
    "                    dataframes.append(df)\n",
    "                except Exception as e:\n",
    "                    print(f\"Error importing {filename}: {e}\")\n",
    "   \n",
    "    # Vertical concat with relaxed schema\n",
    "    return pl.concat(dataframes, how=\"vertical_relaxed\") if dataframes else None\n",
    "\n",
    "# Usage\n",
    "singles_matches = import_tennis_matches(data_type=\"singles\")\n",
    "qualifiers_challengers = import_tennis_matches(data_type=\"qualifiers_challengers\")\n",
    "\n",
    "# Print shapes and date range for verification\n",
    "for match_type, matches in [\n",
    "    (\"Singles\", singles_matches),\n",
    "    (\"Qualifiers/Challengers\", qualifiers_challengers)\n",
    "]:\n",
    "    if matches is not None:\n",
    "        print(f\"{match_type} matches DataFrame shape: {matches.shape}\")\n",
    "        print(f\"{match_type} matches date range: {matches['tourney_date'].min()} to {matches['tourney_date'].max()}\")"
   ]
  },
  {
   "cell_type": "code",
   "execution_count": 10,
   "metadata": {},
   "outputs": [],
   "source": [
    "singles_matches.write_parquet(file=\"aggregated_matches_wta/singles_matches.parquet\",compression=\"zstd\")\n",
    "qualifiers_challengers.write_parquet(file=\"aggregated_matches_wta/quali_and_challengers_matches.parquet\",compression=\"zstd\")"
   ]
  },
  {
   "cell_type": "code",
   "execution_count": 11,
   "metadata": {},
   "outputs": [],
   "source": [
    "players=pl.read_csv(\"tennis_wta/wta_players.csv\")"
   ]
  }
 ],
 "metadata": {
  "kernelspec": {
   "display_name": "Python 3",
   "language": "python",
   "name": "python3"
  },
  "language_info": {
   "codemirror_mode": {
    "name": "ipython",
    "version": 3
   },
   "file_extension": ".py",
   "mimetype": "text/x-python",
   "name": "python",
   "nbconvert_exporter": "python",
   "pygments_lexer": "ipython3",
   "version": "3.12.3"
  }
 },
 "nbformat": 4,
 "nbformat_minor": 2
}
