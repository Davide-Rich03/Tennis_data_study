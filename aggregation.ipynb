{
 "cells": [
  {
   "cell_type": "code",
   "execution_count": 32,
   "metadata": {},
   "outputs": [
    {
     "name": "stdout",
     "output_type": "stream",
     "text": [
      "Singles matches DataFrame shape: (193337, 49)\n",
      "Singles matches date range: 1967-12-28 to 2024-05-20\n",
      "Doubles matches DataFrame shape: (26399, 65)\n",
      "Doubles matches date range: 2000-01-03 to 2020-03-06\n",
      "Qualifiers/Challengers matches DataFrame shape: (216430, 49)\n",
      "Qualifiers/Challengers matches date range: 1978-01-08 to 2024-05-20\n",
      "Futures matches DataFrame shape: (486553, 49)\n",
      "Futures matches date range: 1990-12-29 to 2024-05-20\n"
     ]
    }
   ],
   "source": [
    "import polars as pl\n",
    "import os\n",
    "\n",
    "def import_tennis_matches(base_path=\"matches_and_ranking\", data_type=\"singles\"):\n",
    "    dataframes = []\n",
    "    null_values = ['Q', 'NA', 'N/A', '', '-', 'Unknown', 'null', 'W/O']\n",
    "   \n",
    "    # Define file prefixes for different match types\n",
    "    match_types = {\n",
    "        \"singles\": [\"atp_matches\"],\n",
    "        \"doubles\": [\"atp_matches_doubles\"],\n",
    "        \"qualifiers_challengers\": [\"atp_matches_qual_chall\"],\n",
    "        \"futures\": [\"atp_matches_futures\"]\n",
    "    }\n",
    "   \n",
    "    # Define year ranges for different match types\n",
    "    year_ranges = {\n",
    "        \"singles\": (1968, 2025),\n",
    "        \"doubles\": (1968, 2025),\n",
    "        \"qualifiers_challengers\": (1978, 2025),\n",
    "        \"futures\": (1991, 2025)\n",
    "    }\n",
    "   \n",
    "    # Get the appropriate prefixes and year range\n",
    "    prefixes = match_types.get(data_type, [])\n",
    "    start_year, end_year = year_ranges.get(data_type, (1968, 2025))\n",
    "   \n",
    "    # Iterate through all specified prefixes\n",
    "    for prefix in prefixes:\n",
    "        for year in range(start_year, end_year):\n",
    "            filename = f\"{prefix}_{year}.csv\"\n",
    "            filepath = os.path.join(base_path, filename)\n",
    "           \n",
    "            if os.path.exists(filepath):\n",
    "                try:\n",
    "                    # Expanded schema overrides to preserve string types\n",
    "                    schema_overrides = {\n",
    "                        'winner_seed': pl.Utf8,\n",
    "                        'loser_seed': pl.Utf8,\n",
    "                        'tourney_date': pl.Utf8,\n",
    "                        'winner_entry': pl.Utf8,\n",
    "                        'loser_entry': pl.Utf8,\n",
    "                        'winner_rank': pl.Utf8,\n",
    "                        'loser_rank': pl.Utf8,\n",
    "                        'winner1_id': pl.Utf8,\n",
    "                        'winner2_id': pl.Utf8,\n",
    "                        'loser1_id': pl.Utf8,\n",
    "                        'loser2_id': pl.Utf8\n",
    "                    }\n",
    "                   \n",
    "                    df = pl.read_csv(\n",
    "                        filepath,\n",
    "                        schema_overrides=schema_overrides,\n",
    "                        null_values=null_values,\n",
    "                        ignore_errors=True,\n",
    "                        truncate_ragged_lines=True,\n",
    "                        infer_schema_length=10000\n",
    "                    )\n",
    "                   \n",
    "                    # Convert tourney_date to Date type\n",
    "                    df = df.with_columns(\n",
    "                        pl.col('tourney_date')\n",
    "                        .str.to_date(format='%Y%m%d')\n",
    "                        .alias('tourney_date')\n",
    "                    )\n",
    "                   \n",
    "                    dataframes.append(df)\n",
    "                except Exception as e:\n",
    "                    print(f\"Error importing {filename}: {e}\")\n",
    "   \n",
    "    # Vertical concat with relaxed schema\n",
    "    return pl.concat(dataframes, how=\"vertical_relaxed\") if dataframes else None\n",
    "\n",
    "# Usage\n",
    "singles_matches = import_tennis_matches(data_type=\"singles\")\n",
    "doubles_matches = import_tennis_matches(data_type=\"doubles\")\n",
    "qualifiers_challengers = import_tennis_matches(data_type=\"qualifiers_challengers\")\n",
    "futures_matches = import_tennis_matches(data_type=\"futures\")\n",
    "\n",
    "# Print shapes and date range for verification\n",
    "for match_type, matches in [\n",
    "    (\"Singles\", singles_matches),\n",
    "    (\"Doubles\", doubles_matches),\n",
    "    (\"Qualifiers/Challengers\", qualifiers_challengers),\n",
    "    (\"Futures\", futures_matches)\n",
    "]:\n",
    "    if matches is not None:\n",
    "        print(f\"{match_type} matches DataFrame shape: {matches.shape}\")\n",
    "        print(f\"{match_type} matches date range: {matches['tourney_date'].min()} to {matches['tourney_date'].max()}\")"
   ]
  },
  {
   "cell_type": "code",
   "execution_count": 33,
   "metadata": {},
   "outputs": [
    {
     "data": {
      "text/html": [
       "<div><style>\n",
       ".dataframe > thead > tr,\n",
       ".dataframe > tbody > tr {\n",
       "  text-align: right;\n",
       "  white-space: pre-wrap;\n",
       "}\n",
       "</style>\n",
       "<small>shape: (26_399, 65)</small><table border=\"1\" class=\"dataframe\"><thead><tr><th>tourney_id</th><th>tourney_name</th><th>surface</th><th>draw_size</th><th>tourney_level</th><th>tourney_date</th><th>match_num</th><th>winner1_id</th><th>winner2_id</th><th>winner_seed</th><th>winner_entry</th><th>loser1_id</th><th>loser2_id</th><th>loser_seed</th><th>loser_entry</th><th>score</th><th>best_of</th><th>round</th><th>winner1_name</th><th>winner1_hand</th><th>winner1_ht</th><th>winner1_ioc</th><th>winner1_age</th><th>winner2_name</th><th>winner2_hand</th><th>winner2_ht</th><th>winner2_ioc</th><th>winner2_age</th><th>loser1_name</th><th>loser1_hand</th><th>loser1_ht</th><th>loser1_ioc</th><th>loser1_age</th><th>loser2_name</th><th>loser2_hand</th><th>loser2_ht</th><th>loser2_ioc</th><th>loser2_age</th><th>winner1_rank</th><th>winner1_rank_points</th><th>winner2_rank</th><th>winner2_rank_points</th><th>loser1_rank</th><th>loser1_rank_points</th><th>loser2_rank</th><th>loser2_rank_points</th><th>minutes</th><th>w_ace</th><th>w_df</th><th>w_svpt</th><th>w_1stIn</th><th>w_1stWon</th><th>w_2ndWon</th><th>w_SvGms</th><th>w_bpSaved</th><th>w_bpFaced</th><th>l_ace</th><th>l_df</th><th>l_svpt</th><th>l_1stIn</th><th>l_1stWon</th><th>l_2ndWon</th><th>l_SvGms</th><th>l_bpSaved</th><th>l_bpFaced</th></tr><tr><td>str</td><td>str</td><td>str</td><td>i64</td><td>str</td><td>date</td><td>i64</td><td>str</td><td>str</td><td>str</td><td>str</td><td>str</td><td>str</td><td>str</td><td>str</td><td>str</td><td>i64</td><td>str</td><td>str</td><td>str</td><td>i64</td><td>str</td><td>f64</td><td>str</td><td>str</td><td>i64</td><td>str</td><td>f64</td><td>str</td><td>str</td><td>i64</td><td>str</td><td>f64</td><td>str</td><td>str</td><td>i64</td><td>str</td><td>f64</td><td>i64</td><td>i64</td><td>i64</td><td>i64</td><td>i64</td><td>i64</td><td>i64</td><td>i64</td><td>str</td><td>str</td><td>str</td><td>str</td><td>str</td><td>str</td><td>str</td><td>str</td><td>str</td><td>str</td><td>str</td><td>str</td><td>str</td><td>str</td><td>str</td><td>str</td><td>str</td><td>str</td><td>str</td></tr></thead><tbody><tr><td>&quot;2000-301&quot;</td><td>&quot;Auckland&quot;</td><td>&quot;Hard&quot;</td><td>32</td><td>&quot;A&quot;</td><td>2000-01-10</td><td>300</td><td>&quot;101704&quot;</td><td>&quot;101097&quot;</td><td>&quot;1&quot;</td><td>null</td><td>&quot;101358&quot;</td><td>&quot;101543&quot;</td><td>&quot;2&quot;</td><td>null</td><td>&quot;7-5 6-4&quot;</td><td>3</td><td>&quot;F&quot;</td><td>&quot;Ellis Ferreira&quot;</td><td>&quot;L&quot;</td><td>188</td><td>&quot;RSA&quot;</td><td>29.889117</td><td>&quot;Rick Leach&quot;</td><td>&quot;L&quot;</td><td>188</td><td>&quot;USA&quot;</td><td>35.033539</td><td>&quot;Olivier Delaitre&quot;</td><td>&quot;R&quot;</td><td>170</td><td>&quot;FRA&quot;</td><td>32.610541</td><td>&quot;Jeff Tarango&quot;</td><td>&quot;L&quot;</td><td>180</td><td>&quot;USA&quot;</td><td>31.137577</td><td>13</td><td>0</td><td>15</td><td>0</td><td>16</td><td>0</td><td>17</td><td>0</td><td>null</td><td>null</td><td>null</td><td>null</td><td>null</td><td>null</td><td>null</td><td>null</td><td>null</td><td>null</td><td>null</td><td>null</td><td>null</td><td>null</td><td>null</td><td>null</td><td>null</td><td>null</td><td>null</td></tr><tr><td>&quot;2000-301&quot;</td><td>&quot;Auckland&quot;</td><td>&quot;Hard&quot;</td><td>32</td><td>&quot;A&quot;</td><td>2000-01-10</td><td>299</td><td>&quot;101704&quot;</td><td>&quot;101097&quot;</td><td>&quot;1&quot;</td><td>null</td><td>&quot;102562&quot;</td><td>&quot;101866&quot;</td><td>&quot;3&quot;</td><td>null</td><td>&quot;6-2 6-4&quot;</td><td>3</td><td>&quot;SF&quot;</td><td>&quot;Ellis Ferreira&quot;</td><td>&quot;L&quot;</td><td>188</td><td>&quot;RSA&quot;</td><td>29.889117</td><td>&quot;Rick Leach&quot;</td><td>&quot;L&quot;</td><td>188</td><td>&quot;USA&quot;</td><td>35.033539</td><td>&quot;Jiri Novak&quot;</td><td>&quot;R&quot;</td><td>190</td><td>&quot;CZE&quot;</td><td>24.804928</td><td>&quot;David Rikl&quot;</td><td>&quot;L&quot;</td><td>178</td><td>&quot;CZE&quot;</td><td>28.867899</td><td>13</td><td>0</td><td>15</td><td>0</td><td>34</td><td>0</td><td>29</td><td>0</td><td>null</td><td>null</td><td>null</td><td>null</td><td>null</td><td>null</td><td>null</td><td>null</td><td>null</td><td>null</td><td>null</td><td>null</td><td>null</td><td>null</td><td>null</td><td>null</td><td>null</td><td>null</td><td>null</td></tr><tr><td>&quot;2000-301&quot;</td><td>&quot;Auckland&quot;</td><td>&quot;Hard&quot;</td><td>32</td><td>&quot;A&quot;</td><td>2000-01-10</td><td>298</td><td>&quot;101358&quot;</td><td>&quot;101543&quot;</td><td>&quot;2&quot;</td><td>null</td><td>&quot;102664&quot;</td><td>&quot;101779&quot;</td><td>null</td><td>null</td><td>&quot;6-3 6-4&quot;</td><td>3</td><td>&quot;SF&quot;</td><td>&quot;Olivier Delaitre&quot;</td><td>&quot;R&quot;</td><td>170</td><td>&quot;FRA&quot;</td><td>32.610541</td><td>&quot;Jeff Tarango&quot;</td><td>&quot;L&quot;</td><td>180</td><td>&quot;USA&quot;</td><td>31.137577</td><td>&quot;Petr Pala&quot;</td><td>&quot;R&quot;</td><td>193</td><td>&quot;CZE&quot;</td><td>24.273785</td><td>&quot;Pavel Vizner&quot;</td><td>&quot;R&quot;</td><td>183</td><td>&quot;CZE&quot;</td><td>29.489391</td><td>16</td><td>0</td><td>17</td><td>0</td><td>97</td><td>0</td><td>74</td><td>0</td><td>null</td><td>null</td><td>null</td><td>null</td><td>null</td><td>null</td><td>null</td><td>null</td><td>null</td><td>null</td><td>null</td><td>null</td><td>null</td><td>null</td><td>null</td><td>null</td><td>null</td><td>null</td><td>null</td></tr><tr><td>&quot;2000-301&quot;</td><td>&quot;Auckland&quot;</td><td>&quot;Hard&quot;</td><td>32</td><td>&quot;A&quot;</td><td>2000-01-10</td><td>297</td><td>&quot;101704&quot;</td><td>&quot;101097&quot;</td><td>&quot;1&quot;</td><td>null</td><td>&quot;101342&quot;</td><td>&quot;102162&quot;</td><td>null</td><td>&quot;WC&quot;</td><td>&quot;6-3 6-4&quot;</td><td>3</td><td>&quot;QF&quot;</td><td>&quot;Ellis Ferreira&quot;</td><td>&quot;L&quot;</td><td>188</td><td>&quot;RSA&quot;</td><td>29.889117</td><td>&quot;Rick Leach&quot;</td><td>&quot;L&quot;</td><td>188</td><td>&quot;USA&quot;</td><td>35.033539</td><td>&quot;Patrick Galbraith&quot;</td><td>&quot;L&quot;</td><td>183</td><td>&quot;USA&quot;</td><td>32.736482</td><td>&quot;Chris Woodruff&quot;</td><td>&quot;R&quot;</td><td>188</td><td>&quot;USA&quot;</td><td>27.019849</td><td>13</td><td>0</td><td>15</td><td>0</td><td>65</td><td>0</td><td>248</td><td>0</td><td>null</td><td>null</td><td>null</td><td>null</td><td>null</td><td>null</td><td>null</td><td>null</td><td>null</td><td>null</td><td>null</td><td>null</td><td>null</td><td>null</td><td>null</td><td>null</td><td>null</td><td>null</td><td>null</td></tr><tr><td>&quot;2000-301&quot;</td><td>&quot;Auckland&quot;</td><td>&quot;Hard&quot;</td><td>32</td><td>&quot;A&quot;</td><td>2000-01-10</td><td>296</td><td>&quot;101358&quot;</td><td>&quot;101543&quot;</td><td>&quot;2&quot;</td><td>null</td><td>&quot;103483&quot;</td><td>&quot;102262&quot;</td><td>null</td><td>&quot;WC&quot;</td><td>&quot;6-2 6-4&quot;</td><td>3</td><td>&quot;QF&quot;</td><td>&quot;Olivier Delaitre&quot;</td><td>&quot;R&quot;</td><td>170</td><td>&quot;FRA&quot;</td><td>32.610541</td><td>&quot;Jeff Tarango&quot;</td><td>&quot;L&quot;</td><td>180</td><td>&quot;USA&quot;</td><td>31.137577</td><td>&quot;James Shortall&quot;</td><td>&quot;R&quot;</td><td>null</td><td>&quot;NZL&quot;</td><td>20.043806</td><td>&quot;Cristiano Testa&quot;</td><td>&quot;L&quot;</td><td>null</td><td>&quot;BRA&quot;</td><td>26.297057</td><td>16</td><td>0</td><td>17</td><td>0</td><td>779</td><td>0</td><td>114</td><td>0</td><td>null</td><td>null</td><td>null</td><td>null</td><td>null</td><td>null</td><td>null</td><td>null</td><td>null</td><td>null</td><td>null</td><td>null</td><td>null</td><td>null</td><td>null</td><td>null</td><td>null</td><td>null</td><td>null</td></tr><tr><td>&hellip;</td><td>&hellip;</td><td>&hellip;</td><td>&hellip;</td><td>&hellip;</td><td>&hellip;</td><td>&hellip;</td><td>&hellip;</td><td>&hellip;</td><td>&hellip;</td><td>&hellip;</td><td>&hellip;</td><td>&hellip;</td><td>&hellip;</td><td>&hellip;</td><td>&hellip;</td><td>&hellip;</td><td>&hellip;</td><td>&hellip;</td><td>&hellip;</td><td>&hellip;</td><td>&hellip;</td><td>&hellip;</td><td>&hellip;</td><td>&hellip;</td><td>&hellip;</td><td>&hellip;</td><td>&hellip;</td><td>&hellip;</td><td>&hellip;</td><td>&hellip;</td><td>&hellip;</td><td>&hellip;</td><td>&hellip;</td><td>&hellip;</td><td>&hellip;</td><td>&hellip;</td><td>&hellip;</td><td>&hellip;</td><td>&hellip;</td><td>&hellip;</td><td>&hellip;</td><td>&hellip;</td><td>&hellip;</td><td>&hellip;</td><td>&hellip;</td><td>&hellip;</td><td>&hellip;</td><td>&hellip;</td><td>&hellip;</td><td>&hellip;</td><td>&hellip;</td><td>&hellip;</td><td>&hellip;</td><td>&hellip;</td><td>&hellip;</td><td>&hellip;</td><td>&hellip;</td><td>&hellip;</td><td>&hellip;</td><td>&hellip;</td><td>&hellip;</td><td>&hellip;</td><td>&hellip;</td><td>&hellip;</td></tr><tr><td>&quot;2020-M-DC-2020-WG2-PO-MAR-VIE-…</td><td>&quot;Davis Cup WG2 PO: MAR vs VIE&quot;</td><td>&quot;Clay&quot;</td><td>4</td><td>&quot;D&quot;</td><td>2020-03-06</td><td>3</td><td>&quot;104917&quot;</td><td>&quot;104467&quot;</td><td>null</td><td>null</td><td>&quot;109042&quot;</td><td>&quot;122533&quot;</td><td>null</td><td>null</td><td>&quot;6-4 6-1&quot;</td><td>3</td><td>&quot;RR&quot;</td><td>&quot;Anas Fattar&quot;</td><td>&quot;R&quot;</td><td>null</td><td>&quot;MAR&quot;</td><td>32.807666</td><td>&quot;Lamine Ouahab&quot;</td><td>&quot;R&quot;</td><td>185</td><td>&quot;ALG&quot;</td><td>35.192334</td><td>&quot;Quoc Khanh Le&quot;</td><td>&quot;R&quot;</td><td>null</td><td>&quot;VIE&quot;</td><td>37.497604</td><td>&quot;Nam Hoang Ly&quot;</td><td>&quot;R&quot;</td><td>null</td><td>&quot;VIE&quot;</td><td>23.014374</td><td>683</td><td>48</td><td>942</td><td>26</td><td>null</td><td>null</td><td>1293</td><td>12</td><td>null</td><td>null</td><td>null</td><td>null</td><td>null</td><td>null</td><td>null</td><td>null</td><td>null</td><td>null</td><td>null</td><td>null</td><td>null</td><td>null</td><td>null</td><td>null</td><td>null</td><td>null</td><td>null</td></tr><tr><td>&quot;2020-M-DC-2020-WG2-PO-PAR-SRI-…</td><td>&quot;Davis Cup WG2 PO: PAR vs SRI&quot;</td><td>&quot;Clay&quot;</td><td>4</td><td>&quot;D&quot;</td><td>2020-03-06</td><td>3</td><td>&quot;134677&quot;</td><td>&quot;137018&quot;</td><td>null</td><td>null</td><td>&quot;202462&quot;</td><td>&quot;134886&quot;</td><td>null</td><td>null</td><td>&quot;6-1 6-4&quot;</td><td>3</td><td>&quot;RR&quot;</td><td>&quot;Juan Borba&quot;</td><td>&quot;R&quot;</td><td>null</td><td>&quot;PAR&quot;</td><td>23.887748</td><td>&quot;Ayed Zatar&quot;</td><td>&quot;R&quot;</td><td>null</td><td>&quot;PAR&quot;</td><td>23.926078</td><td>&quot;Yasitha De Silva&quot;</td><td>null</td><td>null</td><td>&quot;SRI&quot;</td><td>24.665298</td><td>&quot;Sharmal Dissanayake&quot;</td><td>&quot;R&quot;</td><td>null</td><td>&quot;SRI&quot;</td><td>23.800137</td><td>null</td><td>null</td><td>null</td><td>null</td><td>null</td><td>null</td><td>null</td><td>null</td><td>null</td><td>null</td><td>null</td><td>null</td><td>null</td><td>null</td><td>null</td><td>null</td><td>null</td><td>null</td><td>null</td><td>null</td><td>null</td><td>null</td><td>null</td><td>null</td><td>null</td><td>null</td><td>null</td></tr><tr><td>&quot;2020-M-DC-2020-WG2-PO-PHI-GRE-…</td><td>&quot;Davis Cup WG2 PO: PHI vs GRE&quot;</td><td>&quot;Clay&quot;</td><td>4</td><td>&quot;D&quot;</td><td>2020-03-06</td><td>3</td><td>&quot;108717&quot;</td><td>&quot;104604&quot;</td><td>null</td><td>null</td><td>&quot;109737&quot;</td><td>&quot;202065&quot;</td><td>null</td><td>null</td><td>&quot;7-6(5) 6-4&quot;</td><td>3</td><td>&quot;RR&quot;</td><td>&quot;Francis Casey Alcantara&quot;</td><td>&quot;U&quot;</td><td>null</td><td>&quot;PHI&quot;</td><td>28.073922</td><td>&quot;Ruben Gonzales&quot;</td><td>&quot;R&quot;</td><td>null</td><td>&quot;PHI&quot;</td><td>34.472279</td><td>&quot;Markos Kalovelonis&quot;</td><td>&quot;R&quot;</td><td>null</td><td>&quot;GRE&quot;</td><td>25.790554</td><td>&quot;Petros Tsitsipas&quot;</td><td>&quot;U&quot;</td><td>null</td><td>&quot;GRE&quot;</td><td>19.597536</td><td>537</td><td>69</td><td>212</td><td>307</td><td>503</td><td>77</td><td>1072</td><td>20</td><td>null</td><td>null</td><td>null</td><td>null</td><td>null</td><td>null</td><td>null</td><td>null</td><td>null</td><td>null</td><td>null</td><td>null</td><td>null</td><td>null</td><td>null</td><td>null</td><td>null</td><td>null</td><td>null</td></tr><tr><td>&quot;2020-M-DC-2020-WG2-PO-POL-HKG-…</td><td>&quot;Davis Cup WG2 PO: POL vs HKG&quot;</td><td>&quot;Hard&quot;</td><td>4</td><td>&quot;D&quot;</td><td>2020-03-06</td><td>3</td><td>&quot;126166&quot;</td><td>&quot;126591&quot;</td><td>null</td><td>null</td><td>&quot;205695&quot;</td><td>&quot;106388&quot;</td><td>null</td><td>null</td><td>&quot;6-3 6-7(6) 6-3&quot;</td><td>3</td><td>&quot;RR&quot;</td><td>&quot;Szymon Walkow&quot;</td><td>&quot;R&quot;</td><td>null</td><td>&quot;POL&quot;</td><td>24.443532</td><td>&quot;Jan Zielinski&quot;</td><td>&quot;R&quot;</td><td>null</td><td>&quot;POL&quot;</td><td>23.290897</td><td>&quot;Ching Lam&quot;</td><td>&quot;R&quot;</td><td>null</td><td>&quot;HKG&quot;</td><td>20.495551</td><td>&quot;Pak Long Yeung&quot;</td><td>&quot;U&quot;</td><td>null</td><td>&quot;HKG&quot;</td><td>25.045859</td><td>182</td><td>389</td><td>295</td><td>178</td><td>null</td><td>null</td><td>557</td><td>66</td><td>null</td><td>null</td><td>null</td><td>null</td><td>null</td><td>null</td><td>null</td><td>null</td><td>null</td><td>null</td><td>null</td><td>null</td><td>null</td><td>null</td><td>null</td><td>null</td><td>null</td><td>null</td><td>null</td></tr><tr><td>&quot;2020-M-DC-2020-WG2-PO-SYR-ZIM-…</td><td>&quot;Davis Cup WG2 PO: SYR vs ZIM&quot;</td><td>&quot;Hard&quot;</td><td>4</td><td>&quot;D&quot;</td><td>2020-03-06</td><td>3</td><td>&quot;111761&quot;</td><td>&quot;144747&quot;</td><td>null</td><td>null</td><td>&quot;200153&quot;</td><td>&quot;208518&quot;</td><td>null</td><td>null</td><td>&quot;6-1 4-6 6-3&quot;</td><td>3</td><td>&quot;RR&quot;</td><td>&quot;Benjamin Lock&quot;</td><td>&quot;R&quot;</td><td>null</td><td>&quot;ZIM&quot;</td><td>26.995209</td><td>&quot;Courtney John Lock&quot;</td><td>&quot;R&quot;</td><td>null</td><td>&quot;ZIM&quot;</td><td>23.370294</td><td>&quot;Yacoub Makzoume&quot;</td><td>&quot;R&quot;</td><td>null</td><td>&quot;SYR&quot;</td><td>24.832307</td><td>&quot;Hazem Naw&quot;</td><td>&quot;R&quot;</td><td>null</td><td>&quot;UNK&quot;</td><td>20.167009</td><td>231</td><td>267</td><td>327</td><td>146</td><td>null</td><td>null</td><td>1929</td><td>2</td><td>null</td><td>null</td><td>null</td><td>null</td><td>null</td><td>null</td><td>null</td><td>null</td><td>null</td><td>null</td><td>null</td><td>null</td><td>null</td><td>null</td><td>null</td><td>null</td><td>null</td><td>null</td><td>null</td></tr></tbody></table></div>"
      ],
      "text/plain": [
       "shape: (26_399, 65)\n",
       "┌─────────────┬─────────────┬─────────┬───────────┬───┬──────────┬─────────┬───────────┬───────────┐\n",
       "│ tourney_id  ┆ tourney_nam ┆ surface ┆ draw_size ┆ … ┆ l_2ndWon ┆ l_SvGms ┆ l_bpSaved ┆ l_bpFaced │\n",
       "│ ---         ┆ e           ┆ ---     ┆ ---       ┆   ┆ ---      ┆ ---     ┆ ---       ┆ ---       │\n",
       "│ str         ┆ ---         ┆ str     ┆ i64       ┆   ┆ str      ┆ str     ┆ str       ┆ str       │\n",
       "│             ┆ str         ┆         ┆           ┆   ┆          ┆         ┆           ┆           │\n",
       "╞═════════════╪═════════════╪═════════╪═══════════╪═══╪══════════╪═════════╪═══════════╪═══════════╡\n",
       "│ 2000-301    ┆ Auckland    ┆ Hard    ┆ 32        ┆ … ┆ null     ┆ null    ┆ null      ┆ null      │\n",
       "│ 2000-301    ┆ Auckland    ┆ Hard    ┆ 32        ┆ … ┆ null     ┆ null    ┆ null      ┆ null      │\n",
       "│ 2000-301    ┆ Auckland    ┆ Hard    ┆ 32        ┆ … ┆ null     ┆ null    ┆ null      ┆ null      │\n",
       "│ 2000-301    ┆ Auckland    ┆ Hard    ┆ 32        ┆ … ┆ null     ┆ null    ┆ null      ┆ null      │\n",
       "│ 2000-301    ┆ Auckland    ┆ Hard    ┆ 32        ┆ … ┆ null     ┆ null    ┆ null      ┆ null      │\n",
       "│ …           ┆ …           ┆ …       ┆ …         ┆ … ┆ …        ┆ …       ┆ …         ┆ …         │\n",
       "│ 2020-M-DC-2 ┆ Davis Cup   ┆ Clay    ┆ 4         ┆ … ┆ null     ┆ null    ┆ null      ┆ null      │\n",
       "│ 020-WG2-PO- ┆ WG2 PO: MAR ┆         ┆           ┆   ┆          ┆         ┆           ┆           │\n",
       "│ MAR-VIE-…   ┆ vs VIE      ┆         ┆           ┆   ┆          ┆         ┆           ┆           │\n",
       "│ 2020-M-DC-2 ┆ Davis Cup   ┆ Clay    ┆ 4         ┆ … ┆ null     ┆ null    ┆ null      ┆ null      │\n",
       "│ 020-WG2-PO- ┆ WG2 PO: PAR ┆         ┆           ┆   ┆          ┆         ┆           ┆           │\n",
       "│ PAR-SRI-…   ┆ vs SRI      ┆         ┆           ┆   ┆          ┆         ┆           ┆           │\n",
       "│ 2020-M-DC-2 ┆ Davis Cup   ┆ Clay    ┆ 4         ┆ … ┆ null     ┆ null    ┆ null      ┆ null      │\n",
       "│ 020-WG2-PO- ┆ WG2 PO: PHI ┆         ┆           ┆   ┆          ┆         ┆           ┆           │\n",
       "│ PHI-GRE-…   ┆ vs GRE      ┆         ┆           ┆   ┆          ┆         ┆           ┆           │\n",
       "│ 2020-M-DC-2 ┆ Davis Cup   ┆ Hard    ┆ 4         ┆ … ┆ null     ┆ null    ┆ null      ┆ null      │\n",
       "│ 020-WG2-PO- ┆ WG2 PO: POL ┆         ┆           ┆   ┆          ┆         ┆           ┆           │\n",
       "│ POL-HKG-…   ┆ vs HKG      ┆         ┆           ┆   ┆          ┆         ┆           ┆           │\n",
       "│ 2020-M-DC-2 ┆ Davis Cup   ┆ Hard    ┆ 4         ┆ … ┆ null     ┆ null    ┆ null      ┆ null      │\n",
       "│ 020-WG2-PO- ┆ WG2 PO: SYR ┆         ┆           ┆   ┆          ┆         ┆           ┆           │\n",
       "│ SYR-ZIM-…   ┆ vs ZIM      ┆         ┆           ┆   ┆          ┆         ┆           ┆           │\n",
       "└─────────────┴─────────────┴─────────┴───────────┴───┴──────────┴─────────┴───────────┴───────────┘"
      ]
     },
     "execution_count": 33,
     "metadata": {},
     "output_type": "execute_result"
    }
   ],
   "source": [
    "doubles_matches"
   ]
  },
  {
   "cell_type": "code",
   "execution_count": 34,
   "metadata": {},
   "outputs": [
    {
     "data": {
      "text/html": [
       "<div><style>\n",
       ".dataframe > thead > tr,\n",
       ".dataframe > tbody > tr {\n",
       "  text-align: right;\n",
       "  white-space: pre-wrap;\n",
       "}\n",
       "</style>\n",
       "<small>shape: (18, 1)</small><table border=\"1\" class=\"dataframe\"><thead><tr><th>winner_seed</th></tr><tr><td>struct[2]</td></tr></thead><tbody><tr><td>{&quot;13&quot;,108}</td></tr><tr><td>{&quot;5&quot;,531}</td></tr><tr><td>{&quot;10&quot;,114}</td></tr><tr><td>{&quot;17&quot;,5}</td></tr><tr><td>{&quot;1&quot;,2661}</td></tr><tr><td>&hellip;</td></tr><tr><td>{&quot;4&quot;,1797}</td></tr><tr><td>{&quot;15&quot;,116}</td></tr><tr><td>{&quot;7&quot;,430}</td></tr><tr><td>{&quot;2&quot;,2317}</td></tr><tr><td>{&quot;6&quot;,510}</td></tr></tbody></table></div>"
      ],
      "text/plain": [
       "shape: (18, 1)\n",
       "┌─────────────┐\n",
       "│ winner_seed │\n",
       "│ ---         │\n",
       "│ struct[2]   │\n",
       "╞═════════════╡\n",
       "│ {\"13\",108}  │\n",
       "│ {\"5\",531}   │\n",
       "│ {\"10\",114}  │\n",
       "│ {\"17\",5}    │\n",
       "│ {\"1\",2661}  │\n",
       "│ …           │\n",
       "│ {\"4\",1797}  │\n",
       "│ {\"15\",116}  │\n",
       "│ {\"7\",430}   │\n",
       "│ {\"2\",2317}  │\n",
       "│ {\"6\",510}   │\n",
       "└─────────────┘"
      ]
     },
     "execution_count": 34,
     "metadata": {},
     "output_type": "execute_result"
    }
   ],
   "source": [
    "doubles_matches.select(pl.col(\"winner_seed\").value_counts()) "
   ]
  },
  {
   "cell_type": "code",
   "execution_count": 35,
   "metadata": {},
   "outputs": [],
   "source": [
    "singles_matches.write_parquet(file=\"aggregated_matches/singles_matches.parquet\",compression=\"zstd\")\n",
    "doubles_matches.write_parquet(file=\"aggregated_matches/doubles_matches.parquet\",compression=\"zstd\")\n",
    "futures_matches.write_parquet(file=\"aggregated_matches/futures_matches.parquet\",compression=\"zstd\")\n",
    "qualifiers_challengers.write_parquet(file=\"aggregated_matches/quali_and_challengers_matches.parquet\",compression=\"zstd\")"
   ]
  }
 ],
 "metadata": {
  "kernelspec": {
   "display_name": "Python 3",
   "language": "python",
   "name": "python3"
  },
  "language_info": {
   "codemirror_mode": {
    "name": "ipython",
    "version": 3
   },
   "file_extension": ".py",
   "mimetype": "text/x-python",
   "name": "python",
   "nbconvert_exporter": "python",
   "pygments_lexer": "ipython3",
   "version": "3.12.4"
  }
 },
 "nbformat": 4,
 "nbformat_minor": 2
}
